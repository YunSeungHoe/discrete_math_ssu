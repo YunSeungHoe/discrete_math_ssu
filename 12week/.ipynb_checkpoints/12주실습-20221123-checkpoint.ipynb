{
 "cells": [
  {
   "cell_type": "markdown",
   "metadata": {},
   "source": [
    "## 1. Dijkstra's Algorithm for Shortest-distance   \n",
    "####  11주 실습에서는 그래프의 시작노드와 종단노드간의 모든 경로를 비교하여 시작노드 와 종단노드간 최단 거리를 구한 알고리즘을 살펴 보았습니다.  \n",
    "#### 다익스트라 알고리즘은 시작노드로부터 그래프의 모든 노드까지의 최단 거리들을 최적으로 구합니다.  12주 실습에서는 다익스트라 알고리즘 구현 및 그래프 컬러링 알고리즘 구현 등을 살펴 봅니다."
   ]
  },
  {
   "cell_type": "markdown",
   "metadata": {},
   "source": [
    "#### Dijkstra’s algorithm 은 시작노드에서 그래프의 모든 노드까지의 최단경로 거리를 계산하는 알고리즘입니다. \n",
    "#### Dijkstra’s algorithm 의 기본 가정 \n",
    "  * 무향 연결 단순 그래프 (undirected connected simple graph)\n",
    "  * 모든 에지의 가중치(weight)는 positive value  \n",
    "\n",
    "#### 알고리즘은 시작 노드 (a 라 가정)를 시작으로 반복 단계마다 새로운 노드를 추가하면서 증가하는 노드세트( $S_k $)를 구성해가면서  수행되어 갑니다. 이 노드세트는 최종적으로는 그래프의 모든 노드를 포함하게 됩니다. \n",
    "#### 노드세트 $S_k (S_0 = ∅)$ 은 $S_{k−1}$  에 없는 노드 $u$ 를 추가함으로써 업데이트합니다. 알고리즘 반복의 각 단계 ($k$) 때에, 노드세트는 $S_{k-1} $ ) 에 없는 각 노드  $v$ 들에 대해, 시작노드로부터 해당 노드 $v$ 까지의 최단경로 길이를 나타내는 레이블 $L_k (v)$  를 다음과 같이  계산합니다. (초기값 $L_0 (a) = 0,  L_0 (v)=∞ $).  이때,  시작노드 $a$ 로부터 노드 $v$  까지의 경로를 구성하는 노드들은 모두 노드세트 $S_k $ 에 속한 노드들이어야 합니다. \n",
    "### &nbsp;      &nbsp; &nbsp;     $L_k (v)= min \\{L_{k-1} (v), ~ L_k (u) +w(u,v) \\} $  (여기서, 노드 $u$  는 $S_k−1$    에  속한 노드들 중,  노드 $v$ 의 인접 노드이며, $w(u,v)$ 는 노드 $u$ 에서 노드 $v$ 까지의 에지의 가중치임. )\n",
    "\n",
    "####  다음,  상기 계산된 $L_k (v)$ 들중 가장 작은 값을 갖는 노드 $v$ 를 노드세트 $S_{k-1}$ 추가하여,  $S_k $ 로 업데이트트하고, 다시 상기 과정을 $S_k $ 가 그래프의 모든 노드들을 포함할 때까지 계속합니다. \n",
    "\n",
    "![Alttext](dijstra.png)"
   ]
  },
  {
   "cell_type": "code",
   "execution_count": 31,
   "metadata": {},
   "outputs": [],
   "source": [
    "def minimum_not_Node_Set(graph, paths, src, NodeSet):    \n",
    "    aa = list(graph.keys())\n",
    "    aa.sort()\n",
    "    if aa[-1]==src:\n",
    "        min_node= aa[-2]\n",
    "    else:\n",
    "        min_node=aa[-1]    \n",
    "    for node in aa:\n",
    "        if node not in NodeSet:\n",
    "            if paths[node][0]< paths[min_node][0]:\n",
    "                min_node=node\n",
    "    return min_node      "
   ]
  },
  {
   "cell_type": "markdown",
   "metadata": {},
   "source": [
    "![Alttext](dijstra-ex.png)"
   ]
  },
  {
   "cell_type": "code",
   "execution_count": 32,
   "metadata": {},
   "outputs": [],
   "source": [
    "graph_fig4 = {\n",
    "          'a': {'a': 0, 'b': 4, 'c': 2, 'd': float(\"inf\"), 'e': float(\"inf\"), 'z': float(\"inf\")},          \n",
    "          'b': {'a': 4, 'b': 0, 'c': 1, 'd': 5, 'e': float(\"inf\"), 'z': float(\"inf\")},          \n",
    "          'c': {'a': 2, 'b': 1, 'c': 0, 'd': 8, 'e': 10, 'z': float(\"inf\")},          \n",
    "          'd': {'a': float(\"inf\"), 'b': 5, 'c': 8, 'd': 0, 'e': 2, 'z': 6},          \n",
    "          'e': {'a': float(\"inf\"), 'b': float(\"inf\"), 'c': 10, 'd': 2, 'e': 0, 'z': 3},          \n",
    "          'z': {'a': float(\"inf\"), 'b': float(\"inf\"), 'c': float(\"inf\"), 'd': 6, 'e': 3, 'z': 0}}"
   ]
  },
  {
   "cell_type": "code",
   "execution_count": 33,
   "metadata": {},
   "outputs": [],
   "source": [
    "def Dijkstra(graph, src) : # graph 는 노드가 거리 정보를 갖는 그래프의 인접행렬의 한 표현, src 는 시작 노드\n",
    "    if src not in graph :\n",
    "        return print(\"source node is not in the given graph\")\n",
    "    node=list(graph.keys())\n",
    "    node.sort()\n",
    "    # Initialize : paths == {해당노드 이름 : [시작 노드와의 해당노드와의 최단거리, 시작 노드와의 해당노드간의 최단 경로], ...}.  \n",
    "         # 경로는 노드 리스트로 표현됨\n",
    "    paths = {node:[float('inf'), []] for node in graph}     \n",
    "    # paths는  dictionary 타입으로 각 요소는 key 인 해당 그래프 노드와 value 인 [소스 노드와 해당 그래프 노드까지의 최단거리,  소스노드로부터의 해당 그래프 노드까지의 최단 경로] 을 나타냄., \n",
    "    # 먼저, 소스노드로부터 모든 노드까지의 거리를 $ float('inf') $ 로, 소스노드로부터의 도달 최소 경로는 'None' 로 초기화함.\n",
    "    # 즉, paths= {'B': [inf, None], 'E': [inf, None], 'F': [inf, None], 'L': [inf, None], 'N': [inf, None], 'S': [inf, None]} 로 초기화함. \n",
    "       \n",
    "    \n",
    "    # Start Dijkstra algorithm\n",
    "    paths[src] = [0, [src]]  \n",
    "    node_set=set() # 노드세트t 초기화 \n",
    "    if node[-1]==src:\n",
    "        last_node= node[-2]\n",
    "    else:\n",
    "        last_node=node[-1]   \n",
    "    \n",
    "    while last_node not in node_set: # 노드세트에 그래프 노드들이 다 포함될 때까지 \n",
    "        u=minimum_not_Node_Set(graph, paths, src, node_set) # u는 노드세트에 없으면서, L(u) 가 최소인 노드 \n",
    "        print(\"u=\", u)\n",
    "        node_set.add(u) # 노드세트 업데이트 \n",
    "        print(\"node_set=\", node_set)\n",
    "        for v in node:  \n",
    "            if v not in node_set:\n",
    "                if paths[u][0]+graph[u][v] < paths[v][0]:\n",
    "                    paths[v][0]= paths[u][0]+graph[u][v]\n",
    "                    paths[v][1]=paths[u][1]+[v] \n",
    "           \n",
    "    return paths if paths else None"
   ]
  },
  {
   "cell_type": "code",
   "execution_count": 34,
   "metadata": {},
   "outputs": [
    {
     "name": "stdout",
     "output_type": "stream",
     "text": [
      "u= a\n",
      "node_set= {'a'}\n",
      "u= c\n",
      "node_set= {'a', 'c'}\n",
      "u= b\n",
      "node_set= {'b', 'a', 'c'}\n",
      "u= d\n",
      "node_set= {'b', 'd', 'a', 'c'}\n",
      "u= e\n",
      "node_set= {'d', 'a', 'c', 'b', 'e'}\n",
      "u= z\n",
      "node_set= {'d', 'a', 'c', 'b', 'z', 'e'}\n"
     ]
    },
    {
     "data": {
      "text/plain": [
       "{'a': [0, ['a']],\n",
       " 'b': [3, ['a', 'c', 'b']],\n",
       " 'c': [2, ['a', 'c']],\n",
       " 'd': [8, ['a', 'c', 'b', 'd']],\n",
       " 'e': [10, ['a', 'c', 'b', 'd', 'e']],\n",
       " 'z': [13, ['a', 'c', 'b', 'd', 'e', 'z']]}"
      ]
     },
     "execution_count": 34,
     "metadata": {},
     "output_type": "execute_result"
    }
   ],
   "source": [
    "Dijkstra(graph_fig4, 'a')"
   ]
  },
  {
   "cell_type": "markdown",
   "metadata": {},
   "source": [
    "### 다음 [그림 1] 의 경우에, 시작노드 'A'에서  다른 노드들까지의 최단 거리를 구해 봅시다.\n",
    "![Altext](fig12-5.png)"
   ]
  },
  {
   "cell_type": "code",
   "execution_count": 35,
   "metadata": {},
   "outputs": [],
   "source": [
    "graph5 = {'A': {'A': 0, 'B': 8, 'C': 2, 'D': 4,'E': float(\"inf\"), 'F':float(\"inf\")},\n",
    "          'B': {'A': 8, 'B': 0, 'C': 7, 'D': float(\"inf\"),'E': 2, 'F': float(\"inf\")},\n",
    "          'C': {'A': 2, 'B': 7, 'C': 0, 'D': 1,'E': 3, 'F':9 },\n",
    "          'D': {'A': 4, 'B':float(\"inf\"), 'C': 1, 'D': 0,'E': float(\"inf\"), 'F': 5},\n",
    "          'E': {'A': float(\"inf\"), 'B': 2, 'C': 3, 'D': float(\"inf\"),'E': 0, 'F': float(\"inf\")},\n",
    "          'F': {'A': float(\"inf\"), 'B':float(\"inf\"), 'C': 9, 'D': 5,'E': float(\"inf\"), 'F':0},\n",
    "         }            "
   ]
  },
  {
   "cell_type": "markdown",
   "metadata": {},
   "source": [
    "![Alttext](dijstra-ex2.png)"
   ]
  },
  {
   "cell_type": "code",
   "execution_count": 36,
   "metadata": {},
   "outputs": [
    {
     "name": "stdout",
     "output_type": "stream",
     "text": [
      "u= A\n",
      "node_set= {'A'}\n",
      "u= C\n",
      "node_set= {'A', 'C'}\n",
      "u= D\n",
      "node_set= {'A', 'C', 'D'}\n",
      "u= E\n",
      "node_set= {'A', 'E', 'C', 'D'}\n",
      "u= B\n",
      "node_set= {'D', 'C', 'A', 'E', 'B'}\n",
      "u= F\n",
      "node_set= {'D', 'C', 'F', 'A', 'E', 'B'}\n"
     ]
    },
    {
     "data": {
      "text/plain": [
       "{'A': [0, ['A']],\n",
       " 'B': [7, ['A', 'C', 'E', 'B']],\n",
       " 'C': [2, ['A', 'C']],\n",
       " 'D': [3, ['A', 'C', 'D']],\n",
       " 'E': [5, ['A', 'C', 'E']],\n",
       " 'F': [8, ['A', 'C', 'D', 'F']]}"
      ]
     },
     "execution_count": 36,
     "metadata": {},
     "output_type": "execute_result"
    }
   ],
   "source": [
    "Dijkstra(graph5, 'A')"
   ]
  },
  {
   "cell_type": "code",
   "execution_count": 37,
   "metadata": {},
   "outputs": [
    {
     "name": "stdout",
     "output_type": "stream",
     "text": [
      "u= E\n",
      "node_set= {'E'}\n",
      "u= B\n",
      "node_set= {'E', 'B'}\n",
      "u= C\n",
      "node_set= {'C', 'E', 'B'}\n",
      "u= D\n",
      "node_set= {'D', 'C', 'E', 'B'}\n",
      "u= A\n",
      "node_set= {'D', 'C', 'A', 'E', 'B'}\n",
      "u= F\n",
      "node_set= {'D', 'C', 'F', 'A', 'E', 'B'}\n"
     ]
    },
    {
     "data": {
      "text/plain": [
       "{'A': [5, ['E', 'C', 'A']],\n",
       " 'B': [2, ['E', 'B']],\n",
       " 'C': [3, ['E', 'C']],\n",
       " 'D': [4, ['E', 'C', 'D']],\n",
       " 'E': [0, ['E']],\n",
       " 'F': [9, ['E', 'C', 'D', 'F']]}"
      ]
     },
     "execution_count": 37,
     "metadata": {},
     "output_type": "execute_result"
    }
   ],
   "source": [
    "Dijkstra(graph5, 'E')"
   ]
  },
  {
   "cell_type": "markdown",
   "metadata": {},
   "source": [
    "#### 그래프 adjacency matrix 표현이 순서가 다르더라도 다익스트라 알고리즘은 잘 적용됨을 살펴 봅시다.  "
   ]
  },
  {
   "cell_type": "code",
   "execution_count": 38,
   "metadata": {},
   "outputs": [],
   "source": [
    "graph5_1 = {'A': {'A': 0, 'B': 8, 'C': 2, 'D': 4,'E': float(\"inf\"), 'F':float(\"inf\")},       \n",
    "          'C': {'A': 2, 'B': 7, 'C': 0, 'D': 1,'E': 3, 'F':9 },\n",
    "          'D': {'A': 4, 'B':float(\"inf\"), 'C': 1, 'D': 0,'E': float(\"inf\"), 'F': 5},\n",
    "          'E': {'A': float(\"inf\"), 'B': 2, 'C': 3, 'D': float(\"inf\"),'E': 0, 'F': float(\"inf\")},\n",
    "          'B': {'A': 8, 'B': 0, 'C': 7, 'D': float(\"inf\"),'E': 2, 'F': float(\"inf\")},\n",
    "          'F': {'A': float(\"inf\"), 'B':float(\"inf\"), 'C': 9, 'D': 5,'E': float(\"inf\"), 'F':0},\n",
    "         }            "
   ]
  },
  {
   "cell_type": "code",
   "execution_count": 39,
   "metadata": {},
   "outputs": [
    {
     "name": "stdout",
     "output_type": "stream",
     "text": [
      "u= E\n",
      "node_set= {'E'}\n",
      "u= B\n",
      "node_set= {'E', 'B'}\n",
      "u= C\n",
      "node_set= {'C', 'E', 'B'}\n",
      "u= D\n",
      "node_set= {'D', 'C', 'E', 'B'}\n",
      "u= A\n",
      "node_set= {'D', 'C', 'A', 'E', 'B'}\n",
      "u= F\n",
      "node_set= {'D', 'C', 'F', 'A', 'E', 'B'}\n"
     ]
    },
    {
     "data": {
      "text/plain": [
       "{'A': [5, ['E', 'C', 'A']],\n",
       " 'C': [3, ['E', 'C']],\n",
       " 'D': [4, ['E', 'C', 'D']],\n",
       " 'E': [0, ['E']],\n",
       " 'B': [2, ['E', 'B']],\n",
       " 'F': [9, ['E', 'C', 'D', 'F']]}"
      ]
     },
     "execution_count": 39,
     "metadata": {},
     "output_type": "execute_result"
    }
   ],
   "source": [
    "Dijkstra(graph5_1, 'E')"
   ]
  },
  {
   "cell_type": "markdown",
   "metadata": {},
   "source": [
    "####  다음 [그림 3] 그래프에 대해 다익스트라 알고리즘을 적용해보자.\n",
    "![Alttext](fig12-4.png)"
   ]
  },
  {
   "cell_type": "code",
   "execution_count": 40,
   "metadata": {},
   "outputs": [],
   "source": [
    "graph4 = {\n",
    "          'B': {'B': 0, 'E': float(\"inf\"), 'F': 245, 'L': 115, 'N': 145, 'S': 175},          \n",
    "          'E': {'B': float(\"inf\"), 'E': 0, 'F': 450, 'L': 645, 'N': float(\"inf\"), 'S': float(\"inf\")},\n",
    "          'F': {'B': 245, 'E': 450, 'F': 0, 'L': float(\"inf\"), 'N': 305, 'S': float(\"inf\")},\n",
    "          'L': {'B': 115, 'E': 645, 'F': 220, 'L': 0, 'N': 260, 'S': 125},\n",
    "          'N': {'B': 145, 'E': float(\"inf\"), 'F': 385, 'L': 260, 'N': 0, 'S': 320},\n",
    "          'S': {'B': 175, 'E': float(\"inf\"), 'F': float(\"inf\"), 'L': 125, 'N': 320, 'S':0}}"
   ]
  },
  {
   "cell_type": "code",
   "execution_count": 41,
   "metadata": {},
   "outputs": [
    {
     "name": "stdout",
     "output_type": "stream",
     "text": [
      "u= S\n",
      "node_set= {'S'}\n",
      "u= L\n",
      "node_set= {'L', 'S'}\n",
      "u= B\n",
      "node_set= {'L', 'S', 'B'}\n",
      "u= N\n",
      "node_set= {'L', 'S', 'N', 'B'}\n"
     ]
    },
    {
     "data": {
      "text/plain": [
       "{'B': [175, ['S', 'B']],\n",
       " 'E': [770, ['S', 'L', 'E']],\n",
       " 'F': [345, ['S', 'L', 'F']],\n",
       " 'L': [125, ['S', 'L']],\n",
       " 'N': [320, ['S', 'N']],\n",
       " 'S': [0, ['S']]}"
      ]
     },
     "execution_count": 41,
     "metadata": {},
     "output_type": "execute_result"
    }
   ],
   "source": [
    "Dijkstra(graph4, 'S')"
   ]
  },
  {
   "cell_type": "code",
   "execution_count": 42,
   "metadata": {},
   "outputs": [
    {
     "data": {
      "text/plain": [
       "{'B': 175, 'E': inf, 'F': inf, 'L': 125, 'N': 320, 'S': 0}"
      ]
     },
     "execution_count": 42,
     "metadata": {},
     "output_type": "execute_result"
    }
   ],
   "source": [
    "graph4['S']"
   ]
  },
  {
   "cell_type": "code",
   "execution_count": 43,
   "metadata": {},
   "outputs": [
    {
     "name": "stdout",
     "output_type": "stream",
     "text": [
      "a\n",
      "b\n",
      "c\n",
      "d\n",
      "e\n",
      "z\n"
     ]
    }
   ],
   "source": [
    "for w in graph_fig4['a']:\n",
    "    print(w)"
   ]
  },
  {
   "cell_type": "code",
   "execution_count": 44,
   "metadata": {},
   "outputs": [
    {
     "data": {
      "text/plain": [
       "175"
      ]
     },
     "execution_count": 44,
     "metadata": {},
     "output_type": "execute_result"
    }
   ],
   "source": [
    "graph4['S']['B']"
   ]
  },
  {
   "cell_type": "code",
   "execution_count": 45,
   "metadata": {},
   "outputs": [],
   "source": [
    "def Dijkstra2(graph, src) : # graph 는 노드가 거리 정보를 갖는 그래프의 인접행렬의 한 표현, src 는 시작 노드\n",
    "    if src not in graph :\n",
    "        return print(\"source node is not in the given graph\")\n",
    "   \n",
    "    # Initialize : paths == {해당노드 이름 : [시작 노드와의 해당노드와의 최단거리, 시작 노드와의 해당노드간의 최단 경로], ...}.  \n",
    "         # 경로는 노드 리스트로 표현됨\n",
    "    paths = {node:[float('inf'), None] for node in graph}     \n",
    "    # paths는  dictionary 타입으로 각 요소는 key 인 해당 그래프 노드와 value 인 [소스 노드와 해당 그래프 노드까지의 최단거리,  소스노드로부터의 해당 그래프 노드까지의 최단 경로] 을 나타냄., \n",
    "    # 먼저, 소스노드로부터 모든 노드까지의 거리를 $ float('inf') $ 로, 소스노드로부터의 도달 최소 경로는 'None' 로 초기화함.\n",
    "    # 즉, paths= {'B': [inf, None], 'E': [inf, None], 'F': [inf, None], 'L': [inf, None], 'N': [inf, None], 'S': [inf, None]} 로 초기화함. \n",
    "    \n",
    "    path_queue = [[src]]  #path_queue 는 경로들의 큐이며 , 시작노드 하나로만 된 경로인 [src] (['S'])로 초기화. 경로는 노드 리스트로 표현됨 \n",
    "    \n",
    "    # Start Dijkstra algorithm\n",
    "    paths[src] = [0, [src]]  # paths[src] ; [시작노드에서 노드 'src' 까지의 최단거리, 시작노드에서 노드 'src' 까지의 최단경로]\n",
    "    while path_queue: #path_queue 가 비워있지않는 한 'while' 루프 수행\n",
    "        v=path_queue.pop(0) # v 는 경로로 노드 리스트로 표현됨\n",
    "        for w in graph[v[-1]]: # w; 큐에서 뽑은 경로의 마지막 노드의 인접 노드 \n",
    "            #print(\"w=\", w)\n",
    "            d = paths[v[-1]][0]+graph[v[-1]][w] # paths[v[-1]][0]; 경로의 마지막 노드까지의 거리,  + graph[v[-1]][w] ; 경로의 마지막 노드\n",
    "                                                #와  그 인접 노드와의 거리\n",
    "            if paths[w][0] > d :  #\n",
    "                paths[w] = [d, v+[w]]  #인접노드 w 의 소스노드와의 최단 거리 (d) , 소스노드와의 최단 경로 (v+[w])\n",
    "              #  print(\"paths=\", paths)\n",
    "                path_queue.append(paths[w][1]) # 업데이트된 경로를 path_queue에 추기\n",
    "              #  print(\"path_queue=\", path_queue)\n",
    "    return paths if paths else None"
   ]
  },
  {
   "cell_type": "code",
   "execution_count": 46,
   "metadata": {},
   "outputs": [
    {
     "data": {
      "text/plain": [
       "{'B': [175, ['S', 'B']],\n",
       " 'E': [770, ['S', 'L', 'E']],\n",
       " 'F': [345, ['S', 'L', 'F']],\n",
       " 'L': [125, ['S', 'L']],\n",
       " 'N': [320, ['S', 'N']],\n",
       " 'S': [0, ['S']]}"
      ]
     },
     "execution_count": 46,
     "metadata": {},
     "output_type": "execute_result"
    }
   ],
   "source": [
    "Dijkstra2(graph4, 'S')"
   ]
  },
  {
   "cell_type": "markdown",
   "metadata": {},
   "source": [
    "#### 상기 Dijstra Algorithm 을 더 잘 이해하기 위해,  어떤 경로를 탐색해나가는 지를 살펴봅시다. "
   ]
  },
  {
   "cell_type": "code",
   "execution_count": 47,
   "metadata": {},
   "outputs": [],
   "source": [
    "def Dijkstra2_check(graph, src) : # graph 는 노드가 거리 정보를 갖는 그래프의 인접행렬의 한 표현, src 는 시작 노드\n",
    "    if src not in graph :\n",
    "        return print(\"source node is not in the given graph\")\n",
    "   \n",
    "    # Initialize : paths == {해당노드 이름 : [시작 노드와의 해당노드와의 최단거리, 시작 노드와의 해당노드간의 최단 경로], ...}.  \n",
    "         # 경로는 노드 리스트로 표현됨\n",
    "    paths = {node:[float('inf'), None] for node in graph}     \n",
    "    # paths는  dictionary 타입으로 각 요소는 key 인 해당 그래프 노드와 value 인 [소스 노드와 해당 그래프 노드까지의 최단거리,  소스노드로부터의 해당 그래프 노드까지의 최단 경로] 을 나타냄., \n",
    "    # 먼저, 소스노드로부터 모든 노드까지의 거리를 $ float('inf') $ 로, 소스노드로부터의 도달 최소 경로는 'None' 로 초기화함.\n",
    "    # 즉, paths= {'B': [inf, None], 'E': [inf, None], 'F': [inf, None], 'L': [inf, None], 'N': [inf, None], 'S': [inf, None]} 로 초기화함. \n",
    "    \n",
    "    path_queue = [[src]]  #path_queue 는 경로들의 큐이며 , 시작노드 하나로만 된 경로인 [src] 로 초기화. 경로는 노드 리스트로 표현됨 \n",
    "    \n",
    "    # Start Dijkstra algorithm\n",
    "    paths[src] = [0, [src]]  # paths[src] ; [시작노드에서 노드 'src' 까지의 최단거리, 시작노드에서 노드 'src' 까지의 최단경로]\n",
    "    while path_queue: #path_queue 가 비워있지않는 한 'while' 루프 수행\n",
    "        v=path_queue.pop(0) # v 는 경로로 노드 리스트로 표현됨\n",
    "        print(\"Explored paths=\", v)\n",
    "        for w in graph[v[-1]]: # w; 큐에서 뽑은 경로의 마지막 노드의 인접 노드 \n",
    "            #print(\"w=\", w)\n",
    "            d = paths[v[-1]][0]+graph[v[-1]][w] # paths[v[-1]][0]; 경로의 마지막 노드까지의 거리,  + graph[v[-1]][w] ; 경로의 마지막 노드\n",
    "                                                #와  그 인접 노드와의 거리\n",
    "            if paths[w][0] > d :  #\n",
    "                paths[w] = [d, v+[w]]  #인접노드 w 의 소스노드와의 최단 거리 (d) , 소스노드와의 최단 경로 (v+[w])\n",
    "              #  print(\"paths=\", paths)\n",
    "                path_queue.append(paths[w][1]) # 업데이트된 경로를 path_queue에 추기\n",
    "              #  print(\"path_queue=\", path_queue)\n",
    "    return paths if paths else None"
   ]
  },
  {
   "cell_type": "code",
   "execution_count": 48,
   "metadata": {},
   "outputs": [
    {
     "name": "stdout",
     "output_type": "stream",
     "text": [
      "Explored paths= ['S']\n",
      "Explored paths= ['S', 'B']\n",
      "Explored paths= ['S', 'L']\n",
      "Explored paths= ['S', 'N']\n",
      "Explored paths= ['S', 'B', 'F']\n",
      "Explored paths= ['S', 'L', 'E']\n",
      "Explored paths= ['S', 'L', 'F']\n"
     ]
    },
    {
     "data": {
      "text/plain": [
       "{'B': [175, ['S', 'B']],\n",
       " 'E': [770, ['S', 'L', 'E']],\n",
       " 'F': [345, ['S', 'L', 'F']],\n",
       " 'L': [125, ['S', 'L']],\n",
       " 'N': [320, ['S', 'N']],\n",
       " 'S': [0, ['S']]}"
      ]
     },
     "execution_count": 48,
     "metadata": {},
     "output_type": "execute_result"
    }
   ],
   "source": [
    "Dijkstra2_check(graph4, 'S')"
   ]
  },
  {
   "cell_type": "markdown",
   "metadata": {},
   "source": [
    "### NetworkX 패키지 활용 '다익스트라' 알고리즘\n",
    "#### [그림 4]의 경우에 대해서 NetworkX 패키지 활용 '다익스트라' 알고리즘 활용을 살펴보기로 합니다. "
   ]
  },
  {
   "cell_type": "code",
   "execution_count": 49,
   "metadata": {},
   "outputs": [
    {
     "name": "stdout",
     "output_type": "stream",
     "text": [
      "Nodes of graph: \n",
      "['B', 'E', 'F', 'L', 'N', 'S']\n",
      "Edges of graph: \n",
      "[('B', 'F', {'weight': 245}), ('B', 'L', {'weight': 115}), ('B', 'N', {'weight': 145}), ('B', 'S', {'weight': 175}), ('E', 'F', {'weight': 450}), ('E', 'L', {'weight': 645}), ('F', 'L', {'weight': 220}), ('F', 'N', {'weight': 385}), ('L', 'N', {'weight': 260}), ('L', 'S', {'weight': 125}), ('N', 'S', {'weight': 320})]\n"
     ]
    }
   ],
   "source": [
    "import networkx as nx # networkx 패키지 임포트\n",
    "G4=nx.Graph()\n",
    "Nodes=[ 'B', 'E', 'F', 'L', 'N',  'S']\n",
    "G4.add_nodes_from(Nodes)\n",
    "\n",
    "# adding a list of edges:\n",
    "G4.add_weighted_edges_from([('B', 'F', 245), ('B', 'L', 115), ('B', 'N', 145), ('B', 'S', 175 ), ('E', 'F', 450), ('E', 'L', 645), ('F', 'L', 220), ('F', 'N', 385), ('L', 'N', 260), ('L', 'S', 125),  ('N', 'S', 320) ])\n",
    "print(\"Nodes of graph: \")\n",
    "print(G4.nodes())\n",
    "print(\"Edges of graph: \")\n",
    "print(G4.edges(data=True))"
   ]
  },
  {
   "cell_type": "code",
   "execution_count": 50,
   "metadata": {},
   "outputs": [
    {
     "data": {
      "text/plain": [
       "{'S': ['S'],\n",
       " 'B': ['S', 'B'],\n",
       " 'L': ['S', 'L'],\n",
       " 'N': ['S', 'N'],\n",
       " 'E': ['S', 'L', 'E'],\n",
       " 'F': ['S', 'L', 'F']}"
      ]
     },
     "execution_count": 50,
     "metadata": {},
     "output_type": "execute_result"
    }
   ],
   "source": [
    "nx.single_source_dijkstra_path(G4, 'S', weight='weight')"
   ]
  },
  {
   "cell_type": "code",
   "execution_count": 51,
   "metadata": {},
   "outputs": [
    {
     "data": {
      "text/plain": [
       "{'S': 0, 'L': 125, 'B': 175, 'N': 320, 'F': 345, 'E': 770}"
      ]
     },
     "execution_count": 51,
     "metadata": {},
     "output_type": "execute_result"
    }
   ],
   "source": [
    "nx.single_source_dijkstra_path_length(G4, 'S', weight='weight')"
   ]
  },
  {
   "cell_type": "markdown",
   "metadata": {},
   "source": [
    "## 2. 그래프 컬러링 \n",
    "####  그래프 컬러링은 최소 색상수로 인접노드들을 다른 색상을 칠하도록 하는 방법을 연구하는 것입니다.\n",
    "![Alttext](fig12-1.png)\n",
    "#### 상기 [그림 4]에 대해, 아래 [그림 5]와 같이  각 노드 색을 인접한 노드들과 다른 색깔로 칠하는 그래프 컬러링 알고리즘에 대해 살펴 본다. \n",
    "![Alttext](fig12-6.png)"
   ]
  },
  {
   "cell_type": "code",
   "execution_count": 52,
   "metadata": {},
   "outputs": [
    {
     "data": {
      "text/plain": [
       "{'B': ['F', 'L', 'N', 'S'],\n",
       " 'E': ['F', 'L'],\n",
       " 'F': ['B', 'E', 'L', 'N'],\n",
       " 'L': ['B', 'E', 'F', 'N', 'S'],\n",
       " 'N': ['B', 'F', 'L', 'S'],\n",
       " 'S': ['B', 'L', 'N']}"
      ]
     },
     "execution_count": 52,
     "metadata": {},
     "output_type": "execute_result"
    }
   ],
   "source": [
    "graph1 = {\n",
    "       'B': ['F', 'L', 'N', 'S'],\n",
    "       'E': ['F', 'L'],\n",
    "       'F': ['B', 'E', 'L', 'N'],  \n",
    "       'L': ['B', 'E', 'F', 'N', 'S'],\n",
    "       'N': ['B', 'F', 'L', 'S'],\n",
    "       'S': ['B', 'L', 'N'],}\n",
    "graph1"
   ]
  },
  {
   "cell_type": "code",
   "execution_count": 53,
   "metadata": {},
   "outputs": [],
   "source": [
    "# 주어진 색상(color)이 채색된 노드의 인접 노드에 칠할 수있는 지 여부   \n",
    "def promising(graph, node,  colors_of_nodes, color):  \n",
    "# graph는 그래프의 인접목록 표현, node 는 현재 탐색 노드, 현재까지 색칠된 노드의 색상\n",
    "# colors_of_nodes 는 현재까지 색칠된 노드의 색상들, color 는 색상 테이블에 있는 색상\n",
    "    for neighbor in graph[node]:          \n",
    "        if neighbor in set(colors_of_nodes.keys()): #colors_of_nodes.keys()는 현재까지 색칠된 노드들\n",
    "            color_of_neighbor = colors_of_nodes[neighbor]  \n",
    "        else: color_of_neighbor= None     \n",
    "       \n",
    "        if color_of_neighbor == color:  #현 노드의 인접노드의 색상이 색상 'color' 과 같으면 이 색상 'color' 은 사용못함\n",
    "            return False\n",
    "    return True #현 노드의 인접노드들의 색상들이 색상 'color' 와 겹치는 것이 없는 경우에 이 색상 'color' 은 사용 가능\n",
    "\n",
    "#인접노드 목록 'graph' 와 현재까지 조사된 노드들에 대한 할당 색상 정보를 갖는 'colors_of_nodes'  노드 'node', 'colors_of_nodes' 컬러테이블 'color_table' 이 함수 인자로 주어졌을 때, 인접노느는 같은 색인 아닌 각 그래프 노드의 색상을 복귀한다.\n",
    "def get_color_for_node(graph, node,  colors_of_nodes, color_table):\n",
    "    for color in color_table:  \n",
    "        if promising(graph, node,  colors_of_nodes, color):\n",
    "            return color\n",
    "\n",
    "#인접노드 목록 'graph' 와 컬러테이블 'color_table' 이 함수 인자로 주어졌을 때, 인접노느는 같은 색인 아닌 각 그래프 노드의 색상을 복귀한다.        \n",
    "def graph_coloring(graph, color_table):\n",
    "    colors_of_nodes_t = {} # dictionary 타입으로 키는 노드 이고, 값은 해당노드에 할당된 색상  \n",
    "    colors_of_nodes_sorted ={}\n",
    "    graph=sort_graph(graph)\n",
    "    for node in graph: # node ={'M1', 'M2', 'M3', 'M4', ''M5, 'M6'}        \n",
    "        colors_of_nodes_t[node] = get_color_for_node(graph, node,  colors_of_nodes_t, color_table)           \n",
    "    print(colors_of_nodes_t)\n",
    "    for key in sorted(colors_of_nodes_t):\n",
    "        colors_of_nodes_sorted[key]=colors_of_nodes_t[key] \n",
    "    return colors_of_nodes_sorted\n",
    "\n",
    "def sort_graph(graph):\n",
    "    graph_len=list()\n",
    "    reorderd_graph=dict()\n",
    "    for key in graph:\n",
    "        graph_len.append(len(graph[key]))\n",
    "    graph_len.sort()  \n",
    "    graph_len.reverse()\n",
    "    \n",
    "    for i in  graph_len:\n",
    "        for key in graph:\n",
    "            if len(graph[key])==i:\n",
    "                reorderd_graph[key]=graph[key]\n",
    "    return  reorderd_graph              \n",
    "\n",
    "def count_color_coloring(colors_of_nodes):\n",
    "    explored=set()\n",
    "    for node in colors_of_nodes:\n",
    "        explored.add(colors_of_nodes[node])\n",
    "    return len(explored)    "
   ]
  },
  {
   "cell_type": "markdown",
   "metadata": {},
   "source": [
    "#### 상기 [그림 1] 그래프에 적용한 graph coloring 결과는 다음과 같습니다. "
   ]
  },
  {
   "cell_type": "code",
   "execution_count": 54,
   "metadata": {},
   "outputs": [
    {
     "data": {
      "text/plain": [
       "{'B': 'Black',\n",
       " 'E': 'Black',\n",
       " 'F': 'Blue',\n",
       " 'L': 'Green',\n",
       " 'N': 'Red',\n",
       " 'S': 'Blue'}"
      ]
     },
     "execution_count": 54,
     "metadata": {},
     "output_type": "execute_result"
    }
   ],
   "source": [
    "{'B': 'Black',\n",
    " 'E': 'Black',\n",
    " 'F': 'Blue',\n",
    " 'L': 'Green',\n",
    " 'N': 'Red',\n",
    " 'S': 'Blue'}"
   ]
  },
  {
   "cell_type": "code",
   "execution_count": 55,
   "metadata": {
    "scrolled": true
   },
   "outputs": [
    {
     "name": "stdout",
     "output_type": "stream",
     "text": [
      "{'L': 'Black', 'B': 'Blue', 'F': 'Green', 'N': 'Red', 'S': 'Green', 'E': 'Blue'}\n",
      "Colors of Nodes ={'B': 'Blue', 'E': 'Blue', 'F': 'Green', 'L': 'Black', 'N': 'Red', 'S': 'Green'}\n",
      "The minimum number of Colors of Nodes =4\n"
     ]
    }
   ],
   "source": [
    "color_table = ['Black', 'Blue', 'Green', 'Red', 'Violet', 'Yellow']\n",
    "colors_of_nodes=graph_coloring(graph1, color_table)\n",
    "count=count_color_coloring(colors_of_nodes)\n",
    "print(\"Colors of Nodes ={}\".format(colors_of_nodes))\n",
    "print(\"The minimum number of Colors of Nodes ={}\".format(count))"
   ]
  },
  {
   "cell_type": "markdown",
   "metadata": {},
   "source": [
    "![Alttext](fig12-6_1.png)"
   ]
  },
  {
   "cell_type": "markdown",
   "metadata": {},
   "source": [
    "#### 위에서 구한 컬러 그래프를 그려 봅시다."
   ]
  },
  {
   "cell_type": "code",
   "execution_count": 56,
   "metadata": {},
   "outputs": [],
   "source": [
    "import networkx as nx\n",
    "import matplotlib.pyplot as plt"
   ]
  },
  {
   "cell_type": "code",
   "execution_count": 57,
   "metadata": {},
   "outputs": [],
   "source": [
    "def draw_colored_graph(graph, color = None, pos = None) :\n",
    "    G = nx.Graph()\n",
    "    nodes = graph.keys()\n",
    "    edges = [(src, dst) for src in graph for dst in graph[src] ]\n",
    "   \n",
    "    G.add_nodes_from(nodes)\n",
    "    G.add_edges_from(edges)\n",
    "\n",
    "    \n",
    "    plt.figure(figsize=(10, 10))\n",
    "    if not color : color = 'cyan'\n",
    "    if not pos : pos=nx.spring_layout(G)\n",
    "    nx.draw_networkx_nodes(G, pos=pos, node_size=2000, node_color=color)\n",
    "    nx.draw_networkx_edges(G, pos=pos)\n",
    "    nx.draw_networkx_labels(G, pos=pos, font_size=30)\n",
    "    plt.show()"
   ]
  },
  {
   "cell_type": "code",
   "execution_count": 58,
   "metadata": {},
   "outputs": [
    {
     "name": "stdout",
     "output_type": "stream",
     "text": [
      "{'L': 'Black', 'B': 'Blue', 'F': 'Green', 'N': 'Red', 'S': 'Green', 'E': 'Blue'}\n",
      "{'B': 'Blue', 'E': 'Blue', 'F': 'Green', 'L': 'Black', 'N': 'Red', 'S': 'Green'}\n"
     ]
    },
    {
     "data": {
      "image/png": "[encoded data removed]",
      "text/plain": [
       "<Figure size 720x720 with 1 Axes>"
      ]
     },
     "metadata": {},
     "output_type": "display_data"
    }
   ],
   "source": [
    "pos = {'B':(2,2), 'E':(1,4), 'F':(2.5, 4), 'L':(0,2), 'N':(3, 0), 'S':(0, 0.5)}\n",
    "color = graph_coloring(graph1, color_table)\n",
    "print(color)\n",
    "draw_colored_graph(graph1, pos=pos, color=list(color.values()))"
   ]
  },
  {
   "cell_type": "markdown",
   "metadata": {},
   "source": [
    "#### 상기 [그림 1]은 planar graph 가 아니어서,  4 color 이하로 색칠할 수있다는 사실이 가 적용되지 않습니다. \n",
    "#### 다음 [그림 7]와 같은 지도에 대해서 graph coloring 을 적용해봅시다.\n",
    "![Altext](fig12-7.png)"
   ]
  },
  {
   "cell_type": "markdown",
   "metadata": {},
   "source": [
    "#### 교과서에서 배운 바대로 [그림 7]에 대해 다음과 같이 dual graph 를 구한 후에 dual graph 의 그래프 표현을 구한 후에  상기 graph coloring 알고리즘을 적용해 봅시다.  \n",
    "![Altext](fig12-8.png)"
   ]
  },
  {
   "cell_type": "code",
   "execution_count": 59,
   "metadata": {},
   "outputs": [
    {
     "data": {
      "text/plain": [
       "{'a': ['b', 'c', 'd', 'e'],\n",
       " 'b': ['a', 'c', 'd'],\n",
       " 'c': ['a', 'b', 'd'],\n",
       " 'd': ['a', 'b', 'c', 'e', 'f', 'g'],\n",
       " 'e': ['a', 'd', 'f', 'g'],\n",
       " 'f': ['d', 'e', 'g'],\n",
       " 'g': ['d', 'e', 'f']}"
      ]
     },
     "execution_count": 59,
     "metadata": {},
     "output_type": "execute_result"
    }
   ],
   "source": [
    "dual_graph = {'a': ['b', 'c', 'd', 'e'],\n",
    "       'b': ['a', 'c', 'd'],\n",
    "       'c': ['a', 'b', 'd'],\n",
    "       'd': ['a', 'b', 'c', 'e', 'f', 'g'],\n",
    "       'e': ['a', 'd', 'f', 'g'],\n",
    "       'f': ['d', 'e', 'g'],\n",
    "       'g': ['d', 'e', 'f']   \n",
    "             }\n",
    "dual_graph"
   ]
  },
  {
   "cell_type": "code",
   "execution_count": 60,
   "metadata": {},
   "outputs": [
    {
     "name": "stdout",
     "output_type": "stream",
     "text": [
      "{'d': 'Red', 'a': 'Blue', 'e': 'Green', 'b': 'Green', 'c': 'Yellow', 'f': 'Blue', 'g': 'Yellow'}\n"
     ]
    },
    {
     "data": {
      "text/plain": [
       "{'a': 'Blue',\n",
       " 'b': 'Green',\n",
       " 'c': 'Yellow',\n",
       " 'd': 'Red',\n",
       " 'e': 'Green',\n",
       " 'f': 'Blue',\n",
       " 'g': 'Yellow'}"
      ]
     },
     "execution_count": 60,
     "metadata": {},
     "output_type": "execute_result"
    }
   ],
   "source": [
    "color_table2 = ['Red', 'Blue', 'Green', 'Yellow', 'Violet']\n",
    "graph_coloring(dual_graph, color_table2)"
   ]
  },
  {
   "cell_type": "markdown",
   "metadata": {},
   "source": [
    "#### 실제로 위에서 만든 함수를 이용하여 직접 그래프를 그려 봅시다."
   ]
  },
  {
   "cell_type": "code",
   "execution_count": 61,
   "metadata": {
    "scrolled": false
   },
   "outputs": [
    {
     "name": "stdout",
     "output_type": "stream",
     "text": [
      "{'d': 'Red', 'a': 'Blue', 'e': 'Green', 'b': 'Green', 'c': 'Yellow', 'f': 'Blue', 'g': 'Yellow'}\n"
     ]
    },
    {
     "data": {
      "image/png": "[encoded data removed]",
      "text/plain": [
       "<Figure size 720x720 with 1 Axes>"
      ]
     },
     "metadata": {},
     "output_type": "display_data"
    }
   ],
   "source": [
    "color = graph_coloring(dual_graph, color_table2)\n",
    "pos = {'a':(0, 2),'b':(1, 4),'c':(1, 3),'d':(2.5, 2),'e':(3, 0),'f':(3, 1),'g':(4, 2)}\n",
    "draw_colored_graph(dual_graph, pos=pos, color=list(color.values()))"
   ]
  },
  {
   "cell_type": "markdown",
   "metadata": {},
   "source": [
    "#### 상기 graph coloring 알고리즘을 적용한 결과는 다음 [그림 9] 와 같습니다.\n",
    "![Altext](fig12-9.png)"
   ]
  },
  {
   "cell_type": "markdown",
   "metadata": {},
   "source": [
    "## 3. Bipartite Graph 여부 "
   ]
  },
  {
   "cell_type": "markdown",
   "metadata": {},
   "source": [
    "### 그래프가 Bipartite인지 확인하는 알고리즘 :\n",
    "#### 한 가지 접근 방식은  $m$ 채색 문제를 사용하여 그래프가 2(즉, $m=2$)색으로 채색이 가능한지 여부를 확인하는 것입니다.\n",
    "#### 다음은 주어진 그래프가 BFS (Breadth First Search)를 사용하여 Birpartite인지 여부를 확인하는 간단한 알고리즘입니다.\n",
    "#### 1. 시작 노드에 빨강색(또는 1)을 할당합니다 (세트 U에 넣음).\n",
    "##### 2. 해당 노드의 인접노드들에   파랑색(또는  0 ) 을 할당합니다 (세트 V에 넣음).\n",
    "##### 3.  상기 인접노드들의 인접노드들을 빨강색(또는 1)을  할당합니다 (세트 U에 넣음).\n",
    "##### 4. 이런 방식으로, m = 2 인 m 방향 채색 문제의 모든 제약 조건을 충족하도록 모든  노드에 색상을 할당합니다.\n",
    "##### 5. 색상을 할당하는 동안 현재  노드와 같은 색이 할당된 인접노드를 발견하게  되면 그래프는  2개의  색상으로 채색 할 수 없습니다 (즉,  그래프가 Bipartite가 아님)."
   ]
  },
  {
   "cell_type": "code",
   "execution_count": 62,
   "metadata": {},
   "outputs": [],
   "source": [
    "def isBipartite(graph): # graph 는   해당 그래프의 인접목록 dictionary   \n",
    "    V=[]                                           # V=해당 그래프의 노드 리스트 \n",
    "    for key in graph:                              #인접목록 그래프 표현으로부터  그래프 노드 목록 생성 \n",
    "        V.append(key)\n",
    "    V.sort()                                       # 추후 처리를 위해 그래프 노드들을 정렬          \n",
    "    colorArr = [-1]*len(graph)                     # 노드들의 색상 정보 목록 생성(-1 로 초기화)        \n",
    "    colorArr[0] = 1                                # 시작노드에 첫번째 색상(1) 할당         \n",
    "    explored=[]                                    # 탐색된 노드 목록 생성    \n",
    "    queue = []                                     # 너비우선탐색 을 위한, 탐색할 노드 큐(FIFO) 생성  \n",
    "    queue.append(V[0])                             # 탐색할 큐에 시작 노드 삽입 \n",
    "\n",
    "        \n",
    "    while queue:  #  탐색할 큐에 노드가 있는 한 계속 수행  \n",
    "        u = queue.pop(0)        \n",
    "        i=-1\n",
    "        j=V.index(u)\n",
    "        \n",
    "        # Return false if there is a self-loop         \n",
    "        for node in graph[u]:           \n",
    "            if node not in explored:               \n",
    "                i=V.index(node)\n",
    "\n",
    "                if  colorArr[i]==colorArr[j]:     #해당 노드의 색상(colorArr[j])이 인접노드의 색상(colorArr[i])과 같으면, Bipartite 아님  \n",
    "                    print(\"Node coloring: {}={}\".format(V, colorArr))                  \n",
    "                    return False\n",
    "                else:                            #해당 노드의 인접 노드드들의 색상을 할당 \n",
    "                    if colorArr[i]==-1: \n",
    "                        colorArr[i]=1-colorArr[j]                                          \n",
    "                        queue.append(node)      #색상이 할당된 인접노드는 다음 이의 인접노드들에 대해 탐색해야 하므로, 탐색 목록에 등록                                \n",
    "        if u not in explored:                   # 해당 노드가 이미 탐색된 것이 아니면, 탐색된 노드 목록에 등록\n",
    "            explored.append(u)                         \n",
    "    print(\"Node coloring: {}={}\".format(V, colorArr))          \n",
    "    return True  \n",
    " \n"
   ]
  },
  {
   "cell_type": "markdown",
   "metadata": {},
   "source": [
    "#### 다음 [그림 10] 그래프가  'Bipartition' 이 가능한지에 대해 적용해 봅시다. \n",
    "![Alttext](fig12-10.png)"
   ]
  },
  {
   "cell_type": "code",
   "execution_count": 63,
   "metadata": {},
   "outputs": [
    {
     "name": "stdout",
     "output_type": "stream",
     "text": [
      "Node coloring: ['a', 'b', 'c', 'd']=[1, 0, 0, 1]\n"
     ]
    },
    {
     "data": {
      "text/plain": [
       "True"
      ]
     },
     "execution_count": 63,
     "metadata": {},
     "output_type": "execute_result"
    }
   ],
   "source": [
    "graph={'a': ['b', 'c'], 'b':['a', 'd'], 'c':['a', 'd'], 'd':['b', 'c']}\n",
    "isBipartite(graph)"
   ]
  },
  {
   "cell_type": "markdown",
   "metadata": {},
   "source": [
    "#### 상기 [그림 4] 그래프가  'Bipartition' 이 가능한지에 대해 적용해 봅시다. "
   ]
  },
  {
   "cell_type": "code",
   "execution_count": 65,
   "metadata": {},
   "outputs": [
    {
     "name": "stdout",
     "output_type": "stream",
     "text": [
      "Node coloring: ['B', 'E', 'F', 'L', 'N', 'S']=[1, 1, 0, 0, 0, 0]\n"
     ]
    },
    {
     "data": {
      "text/plain": [
       "False"
      ]
     },
     "execution_count": 65,
     "metadata": {},
     "output_type": "execute_result"
    }
   ],
   "source": [
    "graph = {\n",
    "       'B': ['F', 'L', 'N', 'S'],\n",
    "       'E': ['F', 'L'],\n",
    "       'F': ['B', 'E', 'L', 'N'],  \n",
    "       'L': ['B', 'E', 'F', 'N', 'S'],\n",
    "       'N': ['B', 'F', 'L', 'S'],\n",
    "       'S': ['B', 'L', 'N'],}\n",
    "isBipartite(graph)"
   ]
  },
  {
   "cell_type": "markdown",
   "metadata": {},
   "source": [
    "<br/><br/><br/><br/>\n",
    "<h1 style='text-align:center;'>실습 문제"
   ]
  },
  {
   "cell_type": "markdown",
   "metadata": {},
   "source": [
    "### 1.  상기 [그림 7 ]([그림 8(b)]) 에 대해,  NetworkX 패키지 활용 그래프 컬러링 문제를 풀고,  [그림 9] 의 윗그림 처럼 컬러링된 그래프를 그려보시오. "
   ]
  },
  {
   "cell_type": "markdown",
   "metadata": {},
   "source": [
    "### 2: 앞 [그림 10] 그래프가  'Bipartition' 이 가능한지에 대해 적용해 봅시다. "
   ]
  },
  {
   "cell_type": "markdown",
   "metadata": {},
   "source": [
    "### 3: 상기  [그림 4] 그래프가  'Bipartition' 이 가능한지에 대해, networkx 패키지를 활용하여 풀어 보세요."
   ]
  },
  {
   "cell_type": "code",
   "execution_count": 73,
   "metadata": {},
   "outputs": [
    {
     "name": "stdout",
     "output_type": "stream",
     "text": [
      "Nodes of graph: \n",
      "['S', 'B', 'L', 'N', 'E', 'F']\n",
      "Edges of graph: \n",
      "[('S', 'L'), ('S', 'B'), ('S', 'N'), ('B', 'F'), ('B', 'L'), ('B', 'N'), ('L', 'E'), ('L', 'F'), ('L', 'N'), ('N', 'F'), ('E', 'F')]\n"
     ]
    },
    {
     "data": {
      "text/plain": [
       "False"
      ]
     },
     "execution_count": 73,
     "metadata": {},
     "output_type": "execute_result"
    }
   ],
   "source": [
    "import networkx as nx\n",
    "G=nx.Graph()\n",
    "Nodes=['S', 'B', 'L', 'N', 'E', 'F' ]\n",
    "G.add_nodes_from(Nodes)\n",
    "\n",
    "# adding a list of edges:\n",
    "G.add_edges_from([('S', 'L'), ('S', 'B'), ('S', 'N'), ('B', 'F'), ('B', 'L'), ('B', 'N'), ('L', 'E'), ('L', 'F'), ('L', 'N'), \n",
    "                   ('N', 'F'), ('E', 'F') ])\n",
    "print(\"Nodes of graph: \")\n",
    "print(G.nodes())\n",
    "print(\"Edges of graph: \")\n",
    "print(G.edges())\n",
    "nx.is_bipartite(G)"
   ]
  }
 ],
 "metadata": {
  "kernelspec": {
   "display_name": "Python 3 (ipykernel)",
   "language": "python",
   "name": "python3"
  },
  "language_info": {
   "codemirror_mode": {
    "name": "ipython",
    "version": 3
   },
   "file_extension": ".py",
   "mimetype": "text/x-python",
   "name": "python",
   "nbconvert_exporter": "python",
   "pygments_lexer": "ipython3",
   "version": "3.9.7"
  }
 },
 "nbformat": 4,
 "nbformat_minor": 2
}
