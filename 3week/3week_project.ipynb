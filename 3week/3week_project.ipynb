{
 "cells": [
  {
   "cell_type": "markdown",
   "metadata": {},
   "source": [
    "## 실습  "
   ]
  },
  {
   "cell_type": "markdown",
   "metadata": {},
   "source": [
    "### 실습 1.  주어진 정수 리스트 에서 가장 큰 정수가 마지막으로 나타나는 위치를 찾기 (리스트의 원소인 정수들이 서로 다를 필요는 없다.)        \n",
    "\n",
    "#### 주어진 정수 리스트(예; $X=[4,7,9,2,4,9,5,6,7,9,4, 6]$) 에서 최대값을 찾고 이 최대값(max)이 마지막으로 나오는 리스트의 위치(i)를 찾아 ( 리스트 의 원소 위치는 1 부터 시작하는 것으로 한다.) 콘솔 출력으로 \"최대값  max  은(는) 마지막으로 리스트의 i 번째에 위치한다.\" 가 출력되도록 파이썬 코딩하고, 리스트 $X=[4,7,9,2,4,9,5,6,7,9,4, 6]$ 에 대해서 점검하여 보시오. 점검시에,  \"최대값  9  은(는) 마지막으로 리스트의 10 번째에 위치한다.\" 로 출력되도록 함. \n",
    "\n",
    "#### ※ 제한조건 \n",
    "#### * 문제 풀이 중 최대값을 구하는 함수를 직접 만들어야 한다. 만일 만들지 않았고, 파이썬에 있는 max 함수를 사용하거나 외부 라이브러리에서 max 함수를 import 하여 사용할 경우 0점 처리한다."
   ]
  },
  {
   "cell_type": "code",
   "execution_count": 16,
   "metadata": {},
   "outputs": [],
   "source": [
    "def max_pos(x):\n",
    "    max=x[0]\n",
    "    pos=0\n",
    "    n=len(X)\n",
    "    for i in range(1,n):\n",
    "        if max <= x[i]:\n",
    "            max=x[i]\n",
    "            pos=i+1\n",
    "            \n",
    "    return  print(\"최대값  %d  은(는) 마지막으로 리스트의 %d 번째에 위치한다.\" %(max, pos))       "
   ]
  },
  {
   "cell_type": "code",
   "execution_count": 17,
   "metadata": {},
   "outputs": [
    {
     "name": "stdout",
     "output_type": "stream",
     "text": [
      "최대값  9  은(는) 마지막으로 리스트의 10 번째에 위치한다.\n"
     ]
    }
   ],
   "source": [
    "X=[4,7,9,2,4,9,5,6,7,9,4, 6]\n",
    "max_pos(X)"
   ]
  },
  {
   "cell_type": "markdown",
   "metadata": {},
   "source": [
    "#### 상기 파이썬 코드 보다 좀 더 간결한 파이썬 코드는 다음과 같습니다. "
   ]
  },
  {
   "cell_type": "code",
   "execution_count": 18,
   "metadata": {},
   "outputs": [],
   "source": [
    "def max_pos2(x):\n",
    "    max=0\n",
    "    \n",
    "    for (i, item) in enumerate(X):\n",
    "        if max <= item:\n",
    "            max=item\n",
    "            pos=i+1\n",
    "            \n",
    "    return  print(\"최대값  %d  은(는) 마지막으로 리스트의 %d 번째에 위치한다.\" %(max, pos))       "
   ]
  },
  {
   "cell_type": "code",
   "execution_count": 19,
   "metadata": {},
   "outputs": [
    {
     "name": "stdout",
     "output_type": "stream",
     "text": [
      "최대값  9  은(는) 마지막으로 리스트의 10 번째에 위치한다.\n"
     ]
    }
   ],
   "source": [
    "X=[4,7,9,2,4,9,5,6,7,9,4, 6]\n",
    "max_pos2(X)"
   ]
  },
  {
   "cell_type": "markdown",
   "metadata": {},
   "source": [
    "### 실습 2.   정수 리스트를  난수발생기로 부터 만들어서 최대값이 마지막으로 나오는 위치 찾기 \n",
    "#### 1) 먼저, 0 에서 15 까지의 정수를 난수 발생기로 20개가 생성된 정수 리스트를 콘솔 출력하고  \n",
    "#### 2) \"최대값  max  은(는) 마지막으로 리스트의 i 번째에 위치한다.\" 이 콘솔 출력되도록 파이썬 코딩하여 보시오.\n",
    "#### (리스트의 원소 위치는 1 부터 시작하는 것으로 한다), \n",
    "#### ※ 제한조건 \n",
    "#### * 문제 풀이 중 최대값을 구하는 함수를 직접 만들어야 한다. 만일 만들지 않았고, 파이썬에 있는 max 함수를 사용하거나 외부 라이브러리에서 max 함수를 import 하여 사용할 경우 0점 처리한다"
   ]
  },
  {
   "cell_type": "code",
   "execution_count": 20,
   "metadata": {},
   "outputs": [],
   "source": [
    "def max_pos2(x):    \n",
    "    max=0    \n",
    "    for (i, item) in enumerate(X):\n",
    "        if max <= item:\n",
    "            max=item\n",
    "            pos=i+1\n",
    "            \n",
    "    return  max, pos   "
   ]
  },
  {
   "cell_type": "code",
   "execution_count": 21,
   "metadata": {},
   "outputs": [
    {
     "name": "stdout",
     "output_type": "stream",
     "text": [
      "[13  5 13 14 14  0 14  1  8 15  7 13  9  6 11  2  5  5  5  3]\n",
      "최대값  15  은(는) 마지막으로 리스트의 10 번째에 위치한다.\n"
     ]
    }
   ],
   "source": [
    "import numpy as np\n",
    "X=np.random.randint(0,16,20)\n",
    "print(X)\n",
    "max, pos= max_pos2(X)\n",
    "print(\"최대값  %d  은(는) 마지막으로 리스트의 %d 번째에 위치한다.\" %(max, pos))       "
   ]
  },
  {
   "cell_type": "markdown",
   "metadata": {},
   "source": [
    "### 실습 3. 주어진 정수 리스트에서  최대값이 나오는 모든 위치 찾기 \n",
    "#### 주어진 정수 리스트에서 최대값의 모든 위치를 찾는 파이썬 함수를 코딩하고 이를 이용하여, 주어진 리스트 $[4,7,9,2,4,9,5,6,7,9,4, 6]$ 에 적용하여 보시오. \n",
    "\n",
    "#### ※ 제한조건 \n",
    "#### * 문제 풀이 중 최대값을 구하는 함수를 직접 만들어야 한다. 만일 만들지 않았고, 파이썬에 있는 max 함수를 사용하거나 외부 라이브러리에서 max 함수를 import 하여 사용할 경우 0점 처리한다x"
   ]
  },
  {
   "cell_type": "code",
   "execution_count": 22,
   "metadata": {},
   "outputs": [],
   "source": [
    "def max_pos3(x):\n",
    "    max=0\n",
    "    maxpos=[]\n",
    "    for item in X:\n",
    "        if max <= item:\n",
    "            max=item\n",
    "         \n",
    "    \n",
    "    for (i, item) in enumerate(X):\n",
    "        if max == item:\n",
    "            maxpos.append(i+1)    \n",
    "            \n",
    "            \n",
    "    return  maxpos       "
   ]
  },
  {
   "cell_type": "code",
   "execution_count": 23,
   "metadata": {},
   "outputs": [
    {
     "data": {
      "text/plain": [
       "[3, 6, 10]"
      ]
     },
     "execution_count": 23,
     "metadata": {},
     "output_type": "execute_result"
    }
   ],
   "source": [
    "X=[4,7,9,2,4,9,5,6,7,9,4, 6]\n",
    "max_pos3(X)"
   ]
  },
  {
   "cell_type": "markdown",
   "metadata": {},
   "source": [
    "### 실습 4. Insertion Sort (삽입 정렬)\n",
    "#### 삽입 정렬은 간단한 정렬 알고리즘이지만 일반적으로 가장 효율적인 것은 아니다. 앞의 삽입 정렬 의사 코드를 활용하여, 주어진 n 개 요소 목록에 대해 삽입 정렬 알고리즘을 파이썬 함수로 프로그래밍 하여 보시오. \n",
    "#### 0 부터 19까지의 정수 가운데, 랜덤하게 샘플링된 10개의 정수로 구성된 리스트에 대한, 프로그래밍한 파이썬 삽입 정렬 알고리즘 구현 함수에 적용하여 제대로 정렬되는 지를 살펴보시오.  "
   ]
  },
  {
   "cell_type": "code",
   "execution_count": 24,
   "metadata": {},
   "outputs": [],
   "source": [
    "#To perform insertionsort\n",
    "def sort_insertion(a):\n",
    "\n",
    "    for j in range(1,len(a)):\n",
    "        i=0\n",
    "        \n",
    "        while(a[j] > a[i]):\n",
    "            i+=1\n",
    "        m=a[j]\n",
    "        for k in range(0, j-i):\n",
    "            a[j-k]=a[j-k-1]\n",
    "        a[i]=m\n",
    "        print(a)\n",
    "    return a"
   ]
  },
  {
   "cell_type": "code",
   "execution_count": 25,
   "metadata": {},
   "outputs": [
    {
     "name": "stdout",
     "output_type": "stream",
     "text": [
      "[17, 10, 9, 16, 4, 6, 5, 0, 18, 19]\n",
      "[10, 17, 9, 16, 4, 6, 5, 0, 18, 19]\n",
      "[9, 10, 17, 16, 4, 6, 5, 0, 18, 19]\n",
      "[9, 10, 16, 17, 4, 6, 5, 0, 18, 19]\n",
      "[4, 9, 10, 16, 17, 6, 5, 0, 18, 19]\n",
      "[4, 6, 9, 10, 16, 17, 5, 0, 18, 19]\n",
      "[4, 5, 6, 9, 10, 16, 17, 0, 18, 19]\n",
      "[0, 4, 5, 6, 9, 10, 16, 17, 18, 19]\n",
      "[0, 4, 5, 6, 9, 10, 16, 17, 18, 19]\n",
      "[0, 4, 5, 6, 9, 10, 16, 17, 18, 19]\n"
     ]
    },
    {
     "data": {
      "text/plain": [
       "[0, 4, 5, 6, 9, 10, 16, 17, 18, 19]"
      ]
     },
     "execution_count": 25,
     "metadata": {},
     "output_type": "execute_result"
    }
   ],
   "source": [
    "from random import *\n",
    "x=sample(list(range(0,20)), 10)\n",
    "print(x)\n",
    "sort_insertion(x)"
   ]
  },
  {
   "cell_type": "code",
   "execution_count": 26,
   "metadata": {},
   "outputs": [
    {
     "name": "stdout",
     "output_type": "stream",
     "text": [
      "[1, 3, 5, 6, 10, 13, 4, 0, 7, 2]\n",
      "[1, 3, 5, 6, 10, 13, 4, 0, 7, 2]\n",
      "[1, 3, 5, 6, 10, 13, 4, 0, 7, 2]\n",
      "[1, 3, 5, 6, 10, 13, 4, 0, 7, 2]\n",
      "[1, 3, 5, 6, 10, 13, 4, 0, 7, 2]\n",
      "[1, 3, 4, 5, 6, 10, 13, 0, 7, 2]\n",
      "[0, 1, 3, 4, 5, 6, 10, 13, 7, 2]\n",
      "[0, 1, 3, 4, 5, 6, 7, 10, 13, 2]\n",
      "[0, 1, 2, 3, 4, 5, 6, 7, 10, 13]\n"
     ]
    },
    {
     "data": {
      "text/plain": [
       "[0, 1, 2, 3, 4, 5, 6, 7, 10, 13]"
      ]
     },
     "execution_count": 26,
     "metadata": {},
     "output_type": "execute_result"
    }
   ],
   "source": [
    "list_B=[1, 3, 5, 6, 10, 13, 4, 0, 7, 2]\n",
    "sort_insertion(list_B)"
   ]
  }
 ],
 "metadata": {
  "kernelspec": {
   "display_name": "Python 3.9.12 ('base')",
   "language": "python",
   "name": "python3"
  },
  "language_info": {
   "codemirror_mode": {
    "name": "ipython",
    "version": 3
   },
   "file_extension": ".py",
   "mimetype": "text/x-python",
   "name": "python",
   "nbconvert_exporter": "python",
   "pygments_lexer": "ipython3",
   "version": "3.9.12"
  },
  "orig_nbformat": 4,
  "vscode": {
   "interpreter": {
    "hash": "d53987ecb595d47b858fb20818fc57333593e153a0e3e1d0f7ed0487b17d3604"
   }
  }
 },
 "nbformat": 4,
 "nbformat_minor": 2
}
