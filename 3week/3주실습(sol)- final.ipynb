{
 "cells": [
  {
   "cell_type": "markdown",
   "metadata": {},
   "source": [
    "# 3.0 알고리즘을 위한 파이썬 구문 이해  "
   ]
  },
  {
   "cell_type": "markdown",
   "metadata": {},
   "source": [
    "### 3.0.1.  파이썬에서의 조건 점검 및 반복 \n",
    "#### 알고리즘은  분기 및 종료 등의 조건 점검 및 반복 패턴 이해가 필요합니다. 알고리즘 구현을 실습하기전에 파이썬에서의 조건 점검 및 반복 패턴에 대해 살펴 보기로 합니다. \n",
    "#### 이를 위해서는 참고교재인 \"“ThinkPython\" 와 \"https://www.w3schools.com/python\" 를  참조하기로 합니다.\n"
   ]
  },
  {
   "cell_type": "markdown",
   "metadata": {},
   "source": [
    "### statement (구문/문)\n",
    "\n",
    "#### Python 은 구문( https://en.wikipedia.org/wiki/Statement_(computer_science)  )에 기반한 명령형 언어(imperative language)               ( https://en.wikipedia.org/wiki/Imperative_programming ) 입니다. 즉, 파이썬 프로그램은 구문으로 구성된 라인들로 구성됩니다. 구문(statement)에는 한 줄로 표현되는 단문(simple statement) 와 내부에 다른 문(statement)을 포함하는 복합문(compound statement)가 있습니다.  \n",
    "#### 단문에는 할당문 (assignment statements), 표현문(expression statements) 등이 있습니다. 복합문에는 if 문, for lopp 문, while문, 클래스 정의, 함수 정의 등이 있습니다.\n",
    "#### * a single expression\n",
    "#### * an assignment\n",
    "#### * a function call\n",
    "#### * a function definition\n",
    "#### * a class definition\n",
    "\n",
    "#### 많은 구문으로 구성된 다음의 파이썬 프로그램을 살펴보기로 합시다.  \n",
    "\n",
    "<pre>\n",
    "<code>\n",
    "sum_word = 0  # total count of English words in The Pushikin Poem , \"What though life conspire to cheat you\"(\"삶이 그대를 속일지라도\")\n",
    "line_count = 0  # total line counts of English lines in The Pushikin Poem , \"What though though life conspire to cheat you\"(\"삶이 그대를 속일지라도\")\n",
    "i=0\n",
    "print(\"푸쉬킨 시 ; 'What though life conspire to cheat you(삶이 그대를 속일지라도)' 전문' \\n\")\n",
    "print(open(\"Pushikin_Poem.txt\", \"r\", encoding=\"utf8\").read())\n",
    "\n",
    "with open(\"Pushikin_Poem.txt\", \"r\", encoding=\"utf8\") as file:  \n",
    "    for line in file:          \n",
    "        if (i>=2) and (i%2==0):\n",
    "            #print(line, len(line.strip().split() ))\n",
    "            line_count +=1        \n",
    "            sum_word += len(line.strip().split())\n",
    "        i+=1 \n",
    "</code>\n",
    "</pre>"
   ]
  },
  {
   "cell_type": "markdown",
   "metadata": {},
   "source": [
    "#### If statements 는 조건을 점검하고 조건이 만족하는 지에 따라 연관된 stateement 을 수행합니다.  \n",
    "<pre>\n",
    "<code>\n",
    "if conditions :   \n",
    "    statements  \n",
    "elif conditions:  \n",
    "    statements  \n",
    "else:\n",
    "    states    \n",
    "</code>\n",
    "</pre>  \n",
    "  \n",
    "#### 여러 조건의 논리곱, 논리합, 부정 등은 'and', 'or' 'not' 등을 이용합니다.     "
   ]
  },
  {
   "cell_type": "code",
   "execution_count": 55,
   "metadata": {},
   "outputs": [
    {
     "name": "stdout",
     "output_type": "stream",
     "text": [
      "푸쉬킨 시 ; 'What though life conspire to cheat you(삶이 그대를 속일지라도)' 전문' \n",
      "\n",
      "    \"What though life conspire to cheat you\"  (Alexander Pushkin)  ; (삶이 그대를 속일지라도 - 푸시킨 ) \n",
      "    \n",
      "What though life conspire to cheat you,\n",
      "  삶이 그대를 속일지라도\n",
      "Do not sorrow or complain.\n",
      "  슬퍼하거나 노여워하지 말라.\n",
      "Lie still on the day of pain,\n",
      "  설움의 날을 참고 견디면\n",
      "And the day of joy will greet you.\n",
      "  기쁨의 날이 오고야 말리니.\n",
      "Hearts live in the coming day.\n",
      "  마음은 미래에 살고\n",
      "There's an end to passing sorrow.\n",
      "  현재는 언제나 슬픈 것.\n",
      "Suddenly all flies away,\n",
      "  모든 것은 순식간에 지나가고\n",
      "And delight returns tomorrow.\n",
      "  지나간 것은 또 다시 그리움이 되나니.\n",
      "\n",
      " \n",
      " average words per line: 5.875\n"
     ]
    }
   ],
   "source": [
    "sum_word = 0  # total count of English words in The Pushikin Poem , \"What though life conspire to cheat you\"(\"삶이 그대를 속일지라도\")\n",
    "line_count = 0  # total line counts of English lines in The Pushikin Poem , \"What though though life conspire to cheat you\"(\"삶이 그대를 속일지라도\")\n",
    "i=0\n",
    "print(\"푸쉬킨 시 ; 'What though life conspire to cheat you(삶이 그대를 속일지라도)' 전문' \\n\")\n",
    "print(open(\"Pushikin_Poem.txt\", \"r\", encoding=\"utf8\").read())\n",
    "\n",
    "with open(\"Pushikin_Poem.txt\", \"r\", encoding=\"utf8\") as file:  \n",
    "    for line in file:          \n",
    "        if (i>=2) and (i%2==0):\n",
    "            #print(line, len(line.strip().split() ))\n",
    "            line_count +=1        \n",
    "            sum_word += len(line.strip().split())\n",
    "        i+=1\n",
    "    print(\"\\n \\n average words per line:\", sum_word/line_count)   "
   ]
  },
  {
   "cell_type": "code",
   "execution_count": 56,
   "metadata": {},
   "outputs": [],
   "source": [
    "def if_statement(a,b):\n",
    "    if a > b:\n",
    "        print(\"I'll take {}\".format(a) )\n",
    "    elif a < b: \n",
    "        print(\"I'll take {}\".format(b) )\n",
    "    else: print(\"I'll take {} or {}\".format(a, b))\n",
    "    return     "
   ]
  },
  {
   "cell_type": "code",
   "execution_count": 57,
   "metadata": {},
   "outputs": [
    {
     "name": "stdout",
     "output_type": "stream",
     "text": [
      "I'll take 6\n"
     ]
    }
   ],
   "source": [
    "if_statement(4,6)"
   ]
  },
  {
   "cell_type": "code",
   "execution_count": 58,
   "metadata": {},
   "outputs": [
    {
     "name": "stdout",
     "output_type": "stream",
     "text": [
      "I'll take banana\n"
     ]
    }
   ],
   "source": [
    "if_statement('apple', 'banana')"
   ]
  },
  {
   "cell_type": "markdown",
   "metadata": {},
   "source": [
    "### 반복(Iterations).\n",
    "#### 제어 흐름의 자주 사용되는 유형은 '반복(iteration)' 입니다;  반복은 동일한 코드 섹션을 여러 번 실행하는 것입니다.    일부 반복은 코드 섹션을 계속해서 실행하거나 적어도 프로그램이 중단되거나 컴퓨터가 종료 될 때까지 실행합니다. 그러나 상황에 따라 필요한 만큼 코드 섹션을 실행한 다음 중지하는 반복 유형에 집중할 것입니다.    \n",
    "#### 파이썬에서 \"반복(iteration)\" 구현에는 \"for-statement\" 와 \"while-statement\" 가 지원됩니다.    \"for-statement loop\" 은 일정 횟수만큼 반복하는 경우에 보통 사용되고, \"while-statement\" 는 조건이 만족할 때까지 계속 반복하는 경우에 사용됩니다.   "
   ]
  },
  {
   "cell_type": "markdown",
   "metadata": {},
   "source": [
    "### \" for-statement\"  \n",
    "#### 'for-statement\" 는 일정 횟수만큼 반복하는 경우에 사용되는 데, 형식은 다음과 같습니다.  \n",
    "<pre>\n",
    "<code>\n",
    "for name in expression :   \n",
    "    statements\n",
    "</code>\n",
    "</pre>\n",
    "#### &nbsp;  \"expression\" 는 반복될 값을 제공하는 데, 집합, 리스트, 튜필 등의 컨테이너 및 'range()' 등의 iterator 가 해당됩니다.  "
   ]
  },
  {
   "cell_type": "code",
   "execution_count": 59,
   "metadata": {},
   "outputs": [
    {
     "name": "stdout",
     "output_type": "stream",
     "text": [
      "New York\n",
      "Seouil\n",
      "Tokyo\n"
     ]
    }
   ],
   "source": [
    "A= ('New York', 'Seouil', 'Tokyo' )\n",
    "for a in A:\n",
    "    print(a)"
   ]
  },
  {
   "cell_type": "markdown",
   "metadata": {},
   "source": [
    "####  'for-statement' 에서 조건 만족을 점검해야 하는 경우에는 'for-statement' 의 내부문에서 'if-condiiton' 문을 이용하여 조건을 점검하면 됩니다. "
   ]
  },
  {
   "cell_type": "code",
   "execution_count": 60,
   "metadata": {},
   "outputs": [
    {
     "name": "stdout",
     "output_type": "stream",
     "text": [
      "Seouil\n",
      "SanFransisco\n"
     ]
    }
   ],
   "source": [
    "A= ('New York', 'Seouil', 'Tokyo' , \"SanFransisco\")\n",
    "for a in A :\n",
    "    if a.startswith('S'):\n",
    "        print(a)"
   ]
  },
  {
   "cell_type": "code",
   "execution_count": 61,
   "metadata": {},
   "outputs": [
    {
     "name": "stdout",
     "output_type": "stream",
     "text": [
      "['Seouil', 'SanFransisco']\n"
     ]
    }
   ],
   "source": [
    "A= ('New York', 'Seouil', 'Tokyo' , \"SanFransisco\")\n",
    "S=[a for a in A if a.startswith('S')]\n",
    "print(S)"
   ]
  },
  {
   "cell_type": "markdown",
   "metadata": {},
   "source": [
    " ###  조건 점검이 필요한 반복은  'while-statement' 을 사용할 수있습니다.   \n",
    "<pre><code>\n",
    "while condition :  \n",
    "    statements  \n",
    "</code></pre>\n",
    "#### 그 의미는 다음과 같습니다: 헤더의 조건이 거짓이 될 때까지, while 문의 본문은 계속해서 실행됩니다. 특히 while 문을 실행하려면, 파이썬 인터프리터는 먼저 조건을 평가합니다. 거짓이면 제어는 while 문을 실행하지 않고 스킵합니다. \n",
    "#### 어떤 의미에서, 'while-stastement' 가 'for-statement' 보다 일반적입니다. 즉, 'for-statement' 는 모두 'while-stastement' 로 구현이 가능합니다.   \n",
    "#### 예를 들어, 상기 'for-statement' 는 다음과 같이, 'while-stastement' 로 구현됩니다."
   ]
  },
  {
   "cell_type": "code",
   "execution_count": 62,
   "metadata": {},
   "outputs": [
    {
     "name": "stdout",
     "output_type": "stream",
     "text": [
      "Seouil\n",
      "SanFransisco\n"
     ]
    }
   ],
   "source": [
    "A= ('New York', 'Seouil', 'Tokyo' , \"SanFransisco\")\n",
    "i=0\n",
    "while i <len(A):\n",
    "    if A[i].startswith(\"S\"):\n",
    "        print(A[i])\n",
    "    i+=1"
   ]
  },
  {
   "cell_type": "markdown",
   "metadata": {},
   "source": [
    "#### 상기 2가지 경우를 비교하여 보면, 'for-statement' 버전이 'iteration mechanism' 은 한줄의 문(statement)으로 '반복' 지정 수행이 가능한 반면.  'while-statement' 버전은 3줄의 문(statement)이 필요함을 볼 수있습니다. 즉, 카운터 i 를 초기화, i 를 하나 더 증가. 반복의 종료를 점검하는 문 (header 부분).   \n",
    "#### 그래서, 'for-statement' 이 'while-statement' 보다 간단하므로, 'for-statement' 를 써서 반복을 해결할 수있으면,  특히 조건 점검없이 일정 반복 범위만 반복하는 경우에, 'for-statement' 쓰는 게 좋습니다.   "
   ]
  },
  {
   "cell_type": "markdown",
   "metadata": {},
   "source": [
    "### 3.0.2. Algorithm 설계 절차\n",
    "#### 일반적으로  Algorithm 설계 절차는 다음과 같이 정리됩니다.   \n",
    "1) 문제 이해 및 구현 어려움 평가   \n",
    "2) 접근 방법 결정 (e.g., exact/approximate, deterministic/ probabilistic)    \n",
    "3) 문제 해결에 적절한 자료구조 결정\n",
    "4) 전략 선택  \n",
    "5) 증명 - 종료, 완전성, 올바름/견고함     \n",
    "6) 공간 및 계산 복잡도 평가   \n",
    "7) 구현 및 테스팅  "
   ]
  },
  {
   "cell_type": "markdown",
   "metadata": {},
   "source": [
    "#### 알고리즘은 수학적 수식이 존재하는 경우와 수학적 수식은 별도로 없지만 논리적 절차로 해결하는 경우로 구별될 수았습니다.   "
   ]
  },
  {
   "cell_type": "markdown",
   "metadata": {},
   "source": [
    "### 3.0.3. 수학적 수식이 있는 알고리즘의 프로그래밍 방법\n",
    "#### 먼저,  공학수학에서 배웠던 바와 같이, 수학적 수식이 있는 알고리즘의 프로그래밍 방법을 살펴 봅시다. "
   ]
  },
  {
   "cell_type": "markdown",
   "metadata": {},
   "source": [
    "#### 자연수 n의 제곱근, 즉 $\\sqrt{n}$을 구하는 알고리즘.\n",
    "#### 이를 공학수학에서 배운 Newton 수학적 수식을 이용하여 이를 파이썬 프로그래밍합니다.  \n",
    "![Alt Text](newton.png)"
   ]
  },
  {
   "cell_type": "markdown",
   "metadata": {},
   "source": [
    "####   자연수 n의 제곱근, 즉 $\\sqrt{n}$을 Newton 방법을 이용하여, 반복적인 방법으로 구하는 알고리즘 작성을 위해서.   \n",
    "####  $f(x)=x^2 - n $ 으로 하고, $f(x)=0$ 의 근을 Newton 방법으로 구하는 파이썬 함수를 작성해봅시다. "
   ]
  },
  {
   "cell_type": "markdown",
   "metadata": {},
   "source": [
    "#### step 1: 문제 이해 및 구현 어려움 평가   \n",
    "자연수 n 의 제곱근을 구하는 문제, 제곱근은 무리수이므로 무한 소수로 값이 주어진다. 무한 소수는 컴퓨터로 나타나기 힘들어서, 소수점 몇째자리까지 표현해야 하는 가를 고려해야 한다. 이는 해를 구하기 위해 언제까지 반복하고 끝내야 하는 가와 관련이 있다. 여기서는 프로그램의 종료를 위한 'tolerance'를 고려한다. \n",
    "\n",
    "#### step 2: 접근 방법 결정 (e.g., exact/approximate, deterministic/ probabilistic)    \n",
    "&nbsp;&nbsp;&nbsp;  Newton 방법을 사용한 deterministic 근사화 해 구하기   \n",
    "\n",
    "#### step 3: 문제 해결에 적절한 자료구조 결정   \n",
    "&nbsp;&nbsp;&nbsp;  이 문제의 경우에는 단순한 실수 변수 정도만 필요  \n",
    "\n",
    "#### step 4:  전략 선택  \n",
    "Choose appropriate data structures \n",
    "&nbsp;&nbsp;&nbsp; 'while-statement' 를 이용하여 Newton iternation $x_{k+1} = x_k - f(x_k )/f'(x_k) $ 를 수행하다가, $ |x_k | < tolerance $ 인 경우에  'while-statement' 를 빠져나와 그 때까지의 iterated $x_k$  값을 복귀한다. 이를 다음과 같은 pseudo 코드로 작성한다.      \n",
    "   &nbsp;&nbsp;&nbsp;&nbsp;   &nbsp;&nbsp; $ x= x_0 $  /// 초기값 할당 . x_0 은 가급적 해에 가까운 값을 가질 수록 반복 횟수가 줄어든다.  \n",
    "   &nbsp;&nbsp;&nbsp;&nbsp;   whlie  $|x| > tolerance $  \n",
    "   &nbsp;&nbsp;&nbsp;&nbsp;&nbsp;&nbsp;&nbsp; $    x= x- f(x)/f'(x)   $  \n",
    "   &nbsp;&nbsp;&nbsp;&nbsp; $  return x   $   \n",
    "     \n",
    "   \n",
    "#### step 5: 증명 - 종료, 완전성, 올바름/견고함     \n",
    " \n",
    " - Termination;  tolerence 조건을 만족하면 종료된다. 만일 toilearnce 조건이 만족하지 못하는 경우는 무한 루프 반복 가능성이 있으므로,  반\n",
    "     복횟수를 제한한다.   \n",
    " - Completeness ; 제대로 종료될 지는 tolerence 조건을 만족하는 경우나, 반복 횟수 제한인 경우이다. \n",
    " - Correctness/soundness ; 해답이 적절한 근사값일 지는 tolerence 조건을 만족하여 종료되면 복귀값이 근사화 해(0 에 가까운 값) 이나, 반복 횟 \n",
    "   수 제한으로 종료되면, 복귀값은 제대로 근사화된 값이 아닐 수도 있다.    \n",
    "   이 경우에, cost function $f(x)=x^2 - n $ 이 convex function 이므로, Newton 방법은 항상 해를 찾아줍니다.  \n",
    "   \n",
    "#### step 6: 공간 및 계산 복잡도 평가   \n",
    "\n",
    "&nbsp;&nbsp;&nbsp;  공간 및 계산 복잡도 이해 및 평가 방법은 뒤에서 차츰 학습됩니다.  \n",
    "\n",
    "#### step 7:  구현 및 테스팅 \n",
    " &nbsp;&nbsp;&nbsp;  상기 pseudo 코드를 참조하여 파이썬 프로그래밍해보시오. 이 때, default tolerance 는 0.001, default  maximum iteration  은 20 으로 하고, 복귀값은 tolearnce 조건을 만족하여 return 하면 True, 그렇지 않으면 False 를 리턴하며 이때, 반복횟수 및 근사값을 리턴하도록 하도록 프로그래밍 합니다. "
   ]
  },
  {
   "cell_type": "markdown",
   "metadata": {},
   "source": [
    "#### 다음은 앞의 Algorithm 설계 가이드라인에 따라,  설계해본  자연수 n의 제곱근, 즉 $\\sqrt{n}$을 구하는 알고리즘 인 'sqrt2' 함수입니다.  "
   ]
  },
  {
   "cell_type": "code",
   "execution_count": 63,
   "metadata": {},
   "outputs": [],
   "source": [
    "def sqrt2(n, tolerance=0.001, max_iter=20):\n",
    "    x_iter =1.0\n",
    "    n_iter = 0\n",
    "    while (abs(x_iter*x_iter-n) > tolerance) and (n_iter < max_iter):\n",
    "        x_iter = x_iter - (x_iter*x_iter-n)/(2*x_iter) #   x= x- f(x)/f'(x)         \n",
    "        n_iter += 1\n",
    "        print(\"%d : %1.10f ; %1.10f\" %(n_iter, x_iter , x_iter**2))\n",
    "    if (abs(x_iter*x_iter-n) > tolerance) and (n_iter == max_iter):   \n",
    "         return False, n_iter, x_iter\n",
    "    return True, n_iter, x_iter "
   ]
  },
  {
   "cell_type": "code",
   "execution_count": 64,
   "metadata": {},
   "outputs": [
    {
     "name": "stdout",
     "output_type": "stream",
     "text": [
      "1 : 5.5000000000 ; 30.2500000000\n",
      "2 : 3.6590909091 ; 13.3889462810\n",
      "3 : 3.1960050819 ; 10.2144484834\n",
      "4 : 3.1624556228 ; 10.0011255662\n",
      "5 : 3.1622776652 ; 10.0000000317\n",
      "(True, 5, 3.162277665175675)\n"
     ]
    }
   ],
   "source": [
    "print(sqrt2(10))"
   ]
  },
  {
   "cell_type": "markdown",
   "metadata": {},
   "source": [
    "#### Sympy 기반의 Newton 방법을 사용하는 풀이 방법에 대해서도  학습해봅시다.    \n",
    "#####  Sympy 는 symbolic mathematics 을 위한 파이썬 라이브러리입니다.  사용법은  https://www.tutorialspoint.com/sympy/index.htm   를 참조하기로 합니다. "
   ]
  },
  {
   "cell_type": "code",
   "execution_count": 65,
   "metadata": {},
   "outputs": [
    {
     "data": {
      "text/plain": [
       "array([1.        , 1.03030303, 1.06060606, 1.09090909, 1.12121212,\n",
       "       1.15151515, 1.18181818, 1.21212121, 1.24242424, 1.27272727,\n",
       "       1.3030303 , 1.33333333, 1.36363636, 1.39393939, 1.42424242,\n",
       "       1.45454545, 1.48484848, 1.51515152, 1.54545455, 1.57575758,\n",
       "       1.60606061, 1.63636364, 1.66666667, 1.6969697 , 1.72727273,\n",
       "       1.75757576, 1.78787879, 1.81818182, 1.84848485, 1.87878788,\n",
       "       1.90909091, 1.93939394, 1.96969697, 2.        , 2.03030303,\n",
       "       2.06060606, 2.09090909, 2.12121212, 2.15151515, 2.18181818,\n",
       "       2.21212121, 2.24242424, 2.27272727, 2.3030303 , 2.33333333,\n",
       "       2.36363636, 2.39393939, 2.42424242, 2.45454545, 2.48484848,\n",
       "       2.51515152, 2.54545455, 2.57575758, 2.60606061, 2.63636364,\n",
       "       2.66666667, 2.6969697 , 2.72727273, 2.75757576, 2.78787879,\n",
       "       2.81818182, 2.84848485, 2.87878788, 2.90909091, 2.93939394,\n",
       "       2.96969697, 3.        , 3.03030303, 3.06060606, 3.09090909,\n",
       "       3.12121212, 3.15151515, 3.18181818, 3.21212121, 3.24242424,\n",
       "       3.27272727, 3.3030303 , 3.33333333, 3.36363636, 3.39393939,\n",
       "       3.42424242, 3.45454545, 3.48484848, 3.51515152, 3.54545455,\n",
       "       3.57575758, 3.60606061, 3.63636364, 3.66666667, 3.6969697 ,\n",
       "       3.72727273, 3.75757576, 3.78787879, 3.81818182, 3.84848485,\n",
       "       3.87878788, 3.90909091, 3.93939394, 3.96969697, 4.        ])"
      ]
     },
     "execution_count": 65,
     "metadata": {},
     "output_type": "execute_result"
    }
   ],
   "source": [
    "import numpy as np\n",
    "np.linspace(1,4,100)"
   ]
  },
  {
   "cell_type": "code",
   "execution_count": 66,
   "metadata": {},
   "outputs": [],
   "source": [
    "def sqrt3(n, tol=0.001, max_iter=20):\n",
    "    %matplotlib inline\n",
    "    import numpy as np\n",
    "    import sympy\n",
    "    import matplotlib.pyplot as plt\n",
    "# define a function, desired tolerance and starting point xk\n",
    "\n",
    "    s_x = sympy.symbols(\"x\")\n",
    "    s_f = s_x*s_x - n   # f(x)=x^2 -n\n",
    "\n",
    "    f = lambda x: sympy.lambdify(s_x, s_f, 'numpy')(x)  #f(x) 를 symbolic 처리가 가능하도록 표현\n",
    "    fp = lambda x: sympy.lambdify(s_x, sympy.diff(s_f, s_x), 'numpy')(x)  #f'(x) 를 symbolic 처리가 가능하도록 표현\n",
    "\n",
    "    lim= n/2 +1.1 \n",
    "    x = np.linspace(-1, lim, 1000)  # [-1, n/2+1.1) 를  1,000 으로 나누어 numpy  array 로  저장\n",
    "\n",
    "# setup a graph for visualizing the root finding steps\n",
    "    fig, ax = plt.subplots(1, 1, figsize=(12,4))\n",
    "\n",
    "    ax.plot(x, f(x))\n",
    "    ax.axhline(0, ls=':', color='k')\n",
    "\n",
    "# repeat Newton's method until convergence to the desired tolerance has been reached\n",
    "    xk=n/2\n",
    "    while f(xk) > tol:\n",
    "        xk_new = xk - f(xk) / fp(xk)\n",
    "\n",
    "        ax.plot([xk, xk], [0, f(xk)], color='k', ls=':')\n",
    "        ax.plot(xk, f(xk), 'ko')\n",
    "        ax.text(xk, -.5, r'$x_%d$' % n, ha='center')\n",
    "        ax.plot([xk, xk_new], [f(xk), 0], 'k-')\n",
    "\n",
    "        xk = xk_new\n",
    "        n += 1\n",
    "\n",
    "    ax.plot(xk, f(xk), 'r*', markersize=15)\n",
    "    ax.annotate(\"Root approximately at %.3f\" % xk,\n",
    "            fontsize=14, family=\"serif\",\n",
    "            xy=(xk, f(xk)), xycoords='data',\n",
    "            xytext=(-150, +50), textcoords='offset points', \n",
    "            arrowprops=dict(arrowstyle=\"->\", connectionstyle=\"arc3, rad=-.5\"))\n",
    "\n",
    "    ax.set_title(\"Newton's method\")\n",
    "    ax.set_xticks([-1, 0, 1, 2])\n",
    "    fig.tight_layout()\n",
    "    fig.savefig('3week_algorithm-newton.pdf')\n",
    "    return "
   ]
  },
  {
   "cell_type": "code",
   "execution_count": 67,
   "metadata": {},
   "outputs": [
    {
     "data": {
      "image/png": "[encoded data removed]",
      "text/plain": [
       "<Figure size 864x288 with 1 Axes>"
      ]
     },
     "metadata": {
      "needs_background": "light"
     },
     "output_type": "display_data"
    }
   ],
   "source": [
    "sqrt3(10)"
   ]
  },
  {
   "cell_type": "markdown",
   "metadata": {},
   "source": [
    "### 3.0.4. 논리적 절차로 해결하는 알고리즘의 파이썬 프로그래밍 방법\n",
    "#### 이제, 논리적 절차로 해결하는  알고리즘의 파이썬 프로그래밍 방법에 대해 살펴 보기로 합시다.¶\n",
    "#### 본 장에서 살펴 볼 알고리즘은 다음과 같습니다. 이를 하나 하나 살펴 보도록 하겠습니다.   \n",
    "  * 최대값 찾기\n",
    "  * 탐색(Searching)\n",
    "  * 정렬(Sorting)\n",
    "  * 최적화(Optimization) ; Greedy Algorithm"
   ]
  },
  {
   "cell_type": "markdown",
   "metadata": {},
   "source": [
    "#### 1) 주어진 시퀀스(숫자 또는 문자)에서 최대값을 찾는 파이썬 알고리즘의 예제를 통해서 알고리즘의 설계 절차를 살펴 보도록 하겟습니다.   "
   ]
  },
  {
   "cell_type": "markdown",
   "metadata": {},
   "source": [
    "#### 주어진 시퀀스(리스트, 튜플, 집합 등)에서 최대값을 찾는 알고리즘 "
   ]
  },
  {
   "cell_type": "markdown",
   "metadata": {},
   "source": [
    "#### step 1: 문제의 이해; 문제가 얼마나 어렵고 복잡하고 어려운 지를 파악.\n",
    "&nbsp;&nbsp;&nbsp; 리스트에서 최대값 항목을 찾는 문제이다. 리스트 각 항목을 순차적으로 비교하여 최대값을  찾기 때문에 리스트의 크기가 유한하면 반드시 유한번 비교에서 작업은 종료하게 된다. \n",
    "\n",
    "\n",
    "#### step 2: 문제 풀이 방향 선택(예; 정확해/근사해, 결정론적 해/확률적 해)\n",
    "\n",
    "&nbsp;&nbsp;&nbsp; 본 문제는 답이 있다.    \n",
    "\n",
    "\n",
    "#### step 3: 적절한 알고리즘의 입출력 데이터 및 내부 데이터 구조 및 타입 선택  \n",
    "\n",
    "&nbsp;&nbsp;&nbsp;  이 문제의 경우에 입력은 n 개의 정수를 포함하고 이들의 순번을 갖는 시퀀스 구조체를 이용하면 편리하다. 또한 내부에서 최대값으로 지정되는 정수 변수면 충분하다. \n",
    "\n",
    "#### step 4: 알고리즘 설계 전략 선택\n",
    "&nbsp;&nbsp;&nbsp; 리스트의 처음 항목을 최대값으로 지정한 후에, 리스트이 2번째 항목부터 비교하여 현재 최대값으로 지정된 값보다 크면 최대값을 현재값으로 바꾸고 그렇지 않으면 최대값을 변경하지 않는다. 이후 리스트의 마지막 항목까지 같은 작업을 수행한다. 이후 최대값을 리턴한다. \n",
    "&nbsp;&nbsp;&nbsp; <br/><br/>상기 절차를 반영한 pseudo code 는 다음과 같다. \n",
    "![Alt Text](max.png)\n",
    "\n",
    "#### step 5: 다음이 보장되도록 알고리즘 설계 \n",
    "&nbsp;&nbsp;&nbsp; **1) 일정 계산 스텝 수 안에  알고리즘 수행 종료 보장**;  상기 알고리즘 리스트의 각 항목을 순차적으로 비교하는 것으로 리스트의 길이안에 비교되어 최대값 항목을 찾는 것으로  해당 알고리즘은 종료되는 것이 보장된다.      \n",
    "&nbsp;&nbsp;&nbsp; **2) 각 처리 단계가 정확히 수행될 수있도록  보장** ; 각 처리 단계는 리스트의 각 항목과 현재 최대값과의 비교하여 크면 최대값을 현재값으로 바꾸고, 크지 않으면 최대값을 변경하지 않는다. 이후 다음 리스트 항목값과의 비교를 리스트 끝까지 수행하는 것이기 때문에 각 단계가 정확히 수행되는 것이 보장된다.     \n",
    "&nbsp;&nbsp;&nbsp; **3) 모든 입력 종류 및 중간 처리 과정에서 발생할 수 있는 모든 예외사항들의 경우들을 고려하여 엉뚱한 결과가 발생되지 않도록 보장** ; 중간 처리 과정에서 예외 사항은 없음.    \n",
    "&nbsp;&nbsp;&nbsp; **4) 해 존재 유무를 판별하며, 만일 해가 존재하면 정답 출력 보장** ; 리스트 모든 항목 비교에서 최대값을 찾고 이 최대값을 복귀하므로 확실히 정답을 복귀함, \n",
    "   \n",
    "#### step 6: 설계한 알고리즘이 얼마나 많은 공간과 시간을 필요로 하는 지 분석\n",
    "&nbsp;&nbsp;&nbsp; 최대 리스트의 길이만큼의 비교 스텝수가 필요하며( $O(n)$의 복잡도를 갖음), 알고리즘 처리 시에 입력 리스트 및 최대값을 담는 정수값을 담을 공간만 필요함.    \n",
    "\n",
    "#### step step 7: 설계한 알고리즘 구현 및 성능 평가(시간, 메모리)\n",
    "&nbsp;&nbsp;&nbsp;  상기 pseudo 코드를 참조하여 아래와 같이 파이썬 프로그래밍한다. \n",
    " \n",
    "#### step 8: 문제를 해결하는 다른 구현 알고리즘과의 비교 성능 평가\n",
    "&nbsp;&nbsp;&nbsp;  다른 구현 알고리즘 구현 필요. 이 후에 비교 가능함  "
   ]
  },
  {
   "cell_type": "code",
   "execution_count": 68,
   "metadata": {},
   "outputs": [],
   "source": [
    "def max1(X):\n",
    "    X=list(X) # X 가 set 인 경우에는 인덱싱이 안되므로 , 리스트 타입으로 변경 \n",
    "    max=X[0]\n",
    "    n=len(X)\n",
    "    for k in range(1,n):\n",
    "        if max < X[k]:\n",
    "            max=X[k]\n",
    "    return max        "
   ]
  },
  {
   "cell_type": "code",
   "execution_count": 69,
   "metadata": {},
   "outputs": [
    {
     "name": "stdout",
     "output_type": "stream",
     "text": [
      " maximun is 9\n"
     ]
    }
   ],
   "source": [
    "X=(3,7,4,2,6,9,8)\n",
    "m_A= max1(X)\n",
    "print(\" maximun is %s\" %m_A)"
   ]
  },
  {
   "cell_type": "code",
   "execution_count": 70,
   "metadata": {},
   "outputs": [],
   "source": [
    "# 상기 최대값 찾는 버전 보다 더 파이썬 스타일로 코딩 \n",
    "def max2(X):\n",
    "    #import sys\n",
    "    #max=-sys.maxsize\n",
    "    max = 0\n",
    "    for t in X:\n",
    "        if max < t:\n",
    "            max=t\n",
    "    return max          "
   ]
  },
  {
   "cell_type": "code",
   "execution_count": 71,
   "metadata": {},
   "outputs": [
    {
     "name": "stdout",
     "output_type": "stream",
     "text": [
      " maximum is 9\n"
     ]
    }
   ],
   "source": [
    "X={3,7,4,2,6,9,8}\n",
    "m_A= max2(X)\n",
    "print(\" maximum is %s\" %m_A)"
   ]
  },
  {
   "cell_type": "code",
   "execution_count": 72,
   "metadata": {},
   "outputs": [
    {
     "name": "stdout",
     "output_type": "stream",
     "text": [
      " maximum is 9\n"
     ]
    }
   ],
   "source": [
    "X=range(3,10)\n",
    "m_A= max2(X)\n",
    "print(\" maximum is %s\" %m_A)"
   ]
  },
  {
   "cell_type": "markdown",
   "metadata": {},
   "source": [
    "## 3.1 알고리즘"
   ]
  },
  {
   "cell_type": "markdown",
   "metadata": {},
   "source": [
    "## 탐색(search) 알고리즘"
   ]
  },
  {
   "cell_type": "markdown",
   "metadata": {},
   "source": [
    "#### 학습한 선형 탐색 (linear search) 및 이진 탐색(binary search) 의 경우를 들어 논리적 절차로 해결하는 알고리즘의 프로그래밍 방법에 대해 추가적으로 살펴 보기로 합시다. "
   ]
  },
  {
   "cell_type": "markdown",
   "metadata": {},
   "source": [
    "### 선형 탐색 (Linear Search; Sequential Search)\n",
    "#### 주어진 정수 리스트에 찾고자 하는 값 정수 x 가 있는 지, 있으면 리스트의 몇 번째인지의 인덱스를, 없으면 '0' 를 리턴하는 탐색이다.  \n",
    "#### 선형탐색의 경우에 대해 논리적 절차로 해결하는 알고리즘의 프로그래밍 방법에 대해 살펴 봅시다. "
   ]
  },
  {
   "cell_type": "markdown",
   "metadata": {},
   "source": [
    "#### step 1: 문제의 이해; 문제가 얼마나 어렵고 복잡하고 어려운 지를 파악.\n",
    "&nbsp;&nbsp;&nbsp; 탐색하고자 하는 정수를 리스트 처음부터 하나 하나씩 비교하여 해당 값이 있으면 리스트의 해당 위치 인덱스(첫번째는 '1' 로 시작)를 복귀합니다. 없으면 '-1' 를 리턴하면 되므로 문제는 비교적 단순합니다. 그런데, 리스트에 탐색하고자 하는 정수가 여러 개 있을 때, 모든 위치 인덱스를 리턴해야 하는 지 아니면, 처음 나타나는 위치 인덱스만을 리턴해야 하는 지에 대해 문제의 취지를 잘 살펴야 하니다. 후자의 경우는 단순하지만 전자의 경우는 후자 보다 고려해야 할 사항이 많습니다. 여기서는 후자 만을 고려하고 전자는 실습에서 풀기로 합니다.   \n",
    "\n",
    "\n",
    "#### step 2: 문제 풀이 방향 선택(예; 정확해/근사해, 결정론적 해/확률적 해)\n",
    "\n",
    "&nbsp;&nbsp;&nbsp; 본 문제는 답이 있으면 정확한 해가 구해진다.    \n",
    "\n",
    "\n",
    "#### step 3: 적절한 알고리즘의 입출력 데이터 및 내부 데이터 구조 및 타입 선택  \n",
    "\n",
    "&nbsp;&nbsp;&nbsp;  이 문제의 경우에 입력은 n 개의 정수를 포함하고 이들의 순번을 갖는 시퀀스 구조체를 이용하면 편리하다. 이를 위해, 파이썬에서는 리스트, 튜플, numpy array 등 모두 사용할 수있다.   출력은 위치 인덱스가 하나를 요구하는 문제의 경우에는 정수 변수를 여러개가 가능한 경우는 정수 리스트 또는 정수 튜플이 사용될 수있다. \n",
    "\n",
    "#### step 4: 알고리즘 설계 전략 선택\n",
    "&nbsp;&nbsp;&nbsp; 탐색하고자 하는 정수 리스트의 값을 순차적으로 하나 하나씩 찾고자하는 정수와 비교합니다. 같으면 해당 리스트 위치 인덱스를 복귀합니다. 만일 리스트 끝까지 비교 작업을 반복한 후에도 리스트에서 찾지 못하면 '-1' 를 리턴하고 찾으면 정수 리스트를 복귀합니다.   \n",
    "&nbsp;&nbsp;&nbsp; 상기 절차를 반영한 pseudo code 는 다음과 같습니다. \n",
    "![Alt Text](linear_search.jpg)\n",
    "\n",
    "#### step 5: 다음이 보장되도록 알고리즘 설계 \n",
    "&nbsp;&nbsp;&nbsp; **1) 일정 계산 스텝 수 안에  알고리즘 수행 종료 보장**;  상기 알고리즘 탐색 과정에서 탐색 리스트의 각 항목이 찾고자 하는 정수값과 비교되는 데, 비교하여 같으면 찾았으므로 리스트의 길이안에 비교되어 종료됩니다.  탐색 리스트의 모든 항목과의 비교에서 찾지 못하더라도 찾는 값이 없다고 하고 종료됩니다. 결국 만족되므로 해당 알고리즘은 종료되는 것이 보장됩니다.      \n",
    "&nbsp;&nbsp;&nbsp; **2) 각 처리 단계가 정확히 수행될 수 있도록  보장** ; 각 처리 단계는 리스트의 각 항목과 찾고자하는 정수 값과의 비교이며, 찾으면 종료, 못찾으면 다음 항목과의 비교의 다음 단계로 진행하거나, 리스트 모든 항목 비교가 끝나면 반복 루프를 빠져 나가므로 각 단계가 정확히 수행되는 것이 보장됩니다.     \n",
    "&nbsp;&nbsp;&nbsp; **3) 모든 입력 종류 및 중간 처리 과정에서 발생할 수있는 모든 예외사항들의 경우들을 고려하여 엉뚱한 결과가 발생되지 않도록 보장** ; 중간 처리 과정에서 예외 사항은 없습니다.    \n",
    "&nbsp;&nbsp;&nbsp; **4) 해 존재 유무를 판별하며, 만일 해가 존재하면 정답 출력 보장** ; 리스트 모든 항목 비교에서 찾지 못하면 해가 없는 것이며, 찾으면 해가 존재하고 이때의 리스트 해당 항목 인덱스를 복귀하므로 확실히 정답을 복귀합니다, \n",
    "   \n",
    "#### step 6: 설계한 알고리즘이 얼마나 많은 공간과 시간을 필요로 하는 지 분석\n",
    "&nbsp;&nbsp;&nbsp; 최대 리스트의 길이만큼의 비교 스텝수가 필요하며( $O(n)$의 복잡도를 갖음), 알고리즘 처리시에 입력 리스트 및 찾고자하는 정수값, 비교할 리스트 항목 값을 담을 공간만 필요합니다.    \n",
    "\n",
    "#### step step 7: 설계한 알고리즘 구현 및 성능 평가(시간, 메모리)\n",
    "&nbsp;&nbsp;&nbsp;  상기 pseudo 코드를 참조하여 아래와 같이 파이썬 프로그래밍합니다. \n",
    " \n",
    "#### step 8: 문제를 해결하는 다른 구현 알고리즘과의 비교 성능 평가\n",
    "&nbsp;&nbsp;&nbsp;  다른 구현 알고리즘 구현 필요. 이후에 비교 가능합니다.  "
   ]
  },
  {
   "cell_type": "code",
   "execution_count": 73,
   "metadata": {},
   "outputs": [],
   "source": [
    "def LinearSearch(x, A):  #상기 알고리즘 2 에 따른  선형 탐색 알고리즘 구현 ( 주의;  1번째 위치 리턴)   \n",
    "    n=len(A)\n",
    "    i=0\n",
    "    location=0\n",
    "    while (i<n) and x!=A[i]:\n",
    "        i+=1\n",
    "    if i < n:\n",
    "        location=i+1\n",
    "    else: return (print(\"We cannot find {} in {}\".format(x, A)))\n",
    "    return location  "
   ]
  },
  {
   "cell_type": "code",
   "execution_count": 74,
   "metadata": {},
   "outputs": [
    {
     "data": {
      "text/plain": [
       "3"
      ]
     },
     "execution_count": 74,
     "metadata": {},
     "output_type": "execute_result"
    }
   ],
   "source": [
    "a=[3,8,9,4,5]\n",
    "LinearSearch(9,a)"
   ]
  },
  {
   "cell_type": "code",
   "execution_count": 75,
   "metadata": {},
   "outputs": [
    {
     "name": "stdout",
     "output_type": "stream",
     "text": [
      "We cannot find 10 in [3, 8, 9, 4, 5]\n"
     ]
    }
   ],
   "source": [
    "a=[3,8,9,4,5]\n",
    "LinearSearch(10,a)"
   ]
  },
  {
   "cell_type": "code",
   "execution_count": 76,
   "metadata": {},
   "outputs": [
    {
     "data": {
      "text/plain": [
       "2"
      ]
     },
     "execution_count": 76,
     "metadata": {},
     "output_type": "execute_result"
    }
   ],
   "source": [
    "a.index(9)"
   ]
  },
  {
   "cell_type": "code",
   "execution_count": 77,
   "metadata": {},
   "outputs": [
    {
     "name": "stdout",
     "output_type": "stream",
     "text": [
      "[5, 8, 6, 3, 7]\n",
      "We cannot find 9 in [5, 8, 6, 3, 7]\n"
     ]
    }
   ],
   "source": [
    "from random import sample  #import numpy as np\n",
    "A=sample(list(range(3,10)), 5)   #A=np.random.randint(3, 10, size=5)\n",
    "print(A)\n",
    "LinearSearch(9,A)"
   ]
  },
  {
   "cell_type": "code",
   "execution_count": 78,
   "metadata": {},
   "outputs": [
    {
     "data": {
      "text/plain": [
       "2"
      ]
     },
     "execution_count": 78,
     "metadata": {},
     "output_type": "execute_result"
    }
   ],
   "source": [
    "a=['apple','banana', 'graph', 'pear', 'water mellon' ]\n",
    "LinearSearch('banana',a)"
   ]
  },
  {
   "cell_type": "code",
   "execution_count": 79,
   "metadata": {},
   "outputs": [],
   "source": [
    "def LinearSearch2(x, A):      #파이썬 자체 특성을 이용한 선형 탐색 알고리즘 구현\n",
    "    for (k, item) in enumerate(A):  \n",
    "        if item==x:\n",
    "            return k+1\n",
    "    return -1"
   ]
  },
  {
   "cell_type": "code",
   "execution_count": 80,
   "metadata": {},
   "outputs": [
    {
     "data": {
      "text/plain": [
       "3"
      ]
     },
     "execution_count": 80,
     "metadata": {},
     "output_type": "execute_result"
    }
   ],
   "source": [
    "a=[3,8,9,4,5]\n",
    "LinearSearch2(9,a)"
   ]
  },
  {
   "cell_type": "code",
   "execution_count": 81,
   "metadata": {},
   "outputs": [
    {
     "data": {
      "text/plain": [
       "2"
      ]
     },
     "execution_count": 81,
     "metadata": {},
     "output_type": "execute_result"
    }
   ],
   "source": [
    "a=['apple','banana', 'graph', 'pear', 'water mellon' ]\n",
    "LinearSearch2('banana',a)"
   ]
  },
  {
   "cell_type": "code",
   "execution_count": 82,
   "metadata": {},
   "outputs": [
    {
     "data": {
      "text/plain": [
       "1"
      ]
     },
     "execution_count": 82,
     "metadata": {},
     "output_type": "execute_result"
    }
   ],
   "source": [
    "a.index('banana')"
   ]
  },
  {
   "cell_type": "code",
   "execution_count": 83,
   "metadata": {},
   "outputs": [
    {
     "data": {
      "text/plain": [
       "2"
      ]
     },
     "execution_count": 83,
     "metadata": {},
     "output_type": "execute_result"
    }
   ],
   "source": [
    "b=('apple','banana', 'graph', 'pear', 'water mellon' )\n",
    "LinearSearch2('banana',b)"
   ]
  },
  {
   "cell_type": "code",
   "execution_count": 84,
   "metadata": {},
   "outputs": [
    {
     "data": {
      "text/plain": [
       "1"
      ]
     },
     "execution_count": 84,
     "metadata": {},
     "output_type": "execute_result"
    }
   ],
   "source": [
    "b.index('banana')"
   ]
  },
  {
   "cell_type": "markdown",
   "metadata": {},
   "source": [
    "### 이진 탐색 알고리즘 "
   ]
  },
  {
   "cell_type": "markdown",
   "metadata": {},
   "source": [
    "#### step 1:  Understand the problem, and assess its difficulty   \n",
    "&nbsp;&nbsp;&nbsp; 정렬된 정수 리스트에서는 리스트이 원소 정수들이 크기가 커지는 순서대로 정렬되어 있으므로, 탐색하고자 하는 정수를 리스트이 처음부터 비교하기 보다는 리스트이 중앙값과 비교하여 중값보다 크면 리스트 후반부에, 작으면 리스트 전반부에 위치한다는 사실을 주목합니다. \n",
    "&nbsp;&nbsp;&nbsp; 1) 탐색 리스트 구간의 초기화 및 반복 과정에서의 탐색 리스트 구간 재설정, 2) 탐색 리스트 구간에서 중앙값 계산, 3) 반복의 종료 조건 등을 고려해야 합니다.  \n",
    "\n",
    "\n",
    "#### step 2: Choose an approach (e.g., exact/approximate, deterministic/ probabilistic) \n",
    "&nbsp;&nbsp;&nbsp; 반복적으로 탐색 리스트를 반으로 줄여 가면서 결국에는 탐색 리스트의 크기가 1 이 될때 까지 해서 해당하는 정수가 최종 리스트에 있는 지, 있으면 원래 리스트에서 몇번째에 위치하는 지를 찾아 내고, 없으면 '-1' 를 복귀하도록 합니다. \n",
    "\n",
    "#### step 3: Choose appropriate data structures \n",
    "&nbsp;&nbsp;&nbsp;  이 문제의 경우에는 n 개의 정수를 담는 구조체를 이용하면 편리합니다. 이를 위해, 파이썬에서는 리스트, 튜플, numpy array 모두 사용할 수있습니다.   \n",
    "\n",
    "#### step 4: Choose a strategy \n",
    "&nbsp;&nbsp;&nbsp;  1) 탐색하고자 하는 정렬된 정수 리스트를 균등하게 왼쪽 반, 오른쪽 반으로 2부분으로 나누고, 중앙값과 비교합니다. \n",
    "&nbsp;&nbsp;&nbsp;  2) 같으면 찾았으므로 이 중앙값의 위치를 복귀하고 종료하며, 만일 작으면 리스트의 왼쪽 반 부분을, 크면 오른쪽 반 부분을 새로운 탐색 리스트로 합니다.  \n",
    "&nbsp;&nbsp;&nbsp;  3) 이러한 과정을 탐색 리스트의 크기가 1이 될때까지 합니다. \n",
    "&nbsp;&nbsp;&nbsp;  4) 최종 크기 1의 스트의 정수가 해당 탐색 정수와 같으면, 원래 정수 리스트에서의 위치를 없으면 -1 를 복귀하고 종료합니다. \n",
    "\n",
    "\n",
    "&nbsp;&nbsp;&nbsp; 상기 절차를 반영한 pseudo code 는 다음과 같습니다.   \n",
    "![Alt Text](BinSearch.png)\n",
    "\n",
    "#### step 5: Prove  \n",
    " - Termination;  탐색 과정에서 탐색 리스트이 중앙값과 비교되는 데, 비교하여 같으면 찾았으므로 종료되고, 중간 과정에서의 탐색 리스트의 중앙값과의 비교에서 찾지 못하더라도, 탐색 리스트 크기가 1이 되면 이때에는 이때 탐색 리스트의 정수와 탐색하고자 하는 정수와 비교하여 찾거나 없다고 판단되면  종료됩니다. 이 경우는 결국 만족되므로 종료되는 것은 보장합니다.    \n",
    " - Completeness ; 종료시에 탐색하는 정수의 위치가 복귀되거나 -1 이 복귀되면서 정상적으로 끝납니다.    \n",
    " - Correctness/soundness ; 해답은 반드시 위치가 복귀되거나 -1 이 복귀되므로 항상 옳은 결과를 냅니다.  .    \n",
    "   \n",
    "#### step 6: Evaluate complexity \n",
    "&nbsp;&nbsp;&nbsp;   탐색 구간 1/2 로 줄어들어 크기가 1이 되게 되면 반드시 종료되므로, $n=2^k % --> $k=log2 (n)$ . 따라서, $O(log2 n)$의 복잡도를 갖습니다. \n",
    "\n",
    "#### step 7: Implement and test it\n",
    " &nbsp;&nbsp;&nbsp;  상기 pseudo 코드를 참조하여 다음과 같이 파이썬 프로그래밍합니다. "
   ]
  },
  {
   "cell_type": "code",
   "execution_count": 85,
   "metadata": {},
   "outputs": [],
   "source": [
    "def binarysearch(A,num): #function definition with its parameters 'a' is the inputlist\n",
    "                         #and 'num' number to be found\n",
    "\n",
    "    first=0 #initially the first position is zero\n",
    "    last=len(A)-1 #initially the last position is the total length of the inputlist-1\n",
    "    found=False #boolean value to indicate if the number to be searched is found or not.\n",
    "\n",
    "    while first<=last and not found:\n",
    "        midpoint=(first+last)//2 #dividing the inputlist into two halves and comparing the number to be found with the midpoint.\n",
    "\n",
    "        if A[midpoint]==num: #If the number to be found is equal to the midpoint returns the position.\n",
    "           found=True\n",
    "        else:\n",
    "            if num< A[midpoint]: #if the number to be found is less than the midpoint\n",
    "                                #then the first half of the divided input list is taken for further computation.\n",
    "\n",
    "                last=midpoint-1 #by assigning the last number of the first half(number before the midpoint) to the variable last.\n",
    "\n",
    "\n",
    "            else:\n",
    "                first=midpoint+1 #if the number to be found is greater than the midpoint\n",
    "                                 #then the second half of the divided input list is taken for further computation.\n",
    "                                #by assigning the first number of the second half(number following the midpoint) to the variable first.\n",
    "    if midpoint < len(A) and found:\n",
    "          return print(\"%d 는 주어진 리스트에서 %d번째에 위치합니다.\" %(num, midpoint+1)) #returns the position of the number found in the list. \n",
    "    else:\n",
    "          return -1"
   ]
  },
  {
   "cell_type": "code",
   "execution_count": 86,
   "metadata": {},
   "outputs": [
    {
     "name": "stdout",
     "output_type": "stream",
     "text": [
      "15 는 주어진 리스트에서 10번째에 위치합니다.\n"
     ]
    }
   ],
   "source": [
    "numlist=[1, 3, 5, 6, 7, 8, 10, 12, 13, 15, 16, 18, 19, 20, 22] #List of inputs\n",
    "binarysearch(numlist, 15)"
   ]
  },
  {
   "cell_type": "code",
   "execution_count": 87,
   "metadata": {},
   "outputs": [
    {
     "name": "stdout",
     "output_type": "stream",
     "text": [
      "15 는 주어진 리스트에서 10번째에 위치합니다.\n"
     ]
    }
   ],
   "source": [
    "numlist2=(1, 3, 5, 6, 7, 8, 10, 12, 13, 15, 16, 18, 19, 20, 22)#List of inputs\n",
    "binarysearch(numlist2, 15)"
   ]
  },
  {
   "cell_type": "code",
   "execution_count": 88,
   "metadata": {},
   "outputs": [
    {
     "data": {
      "text/plain": [
       "9"
      ]
     },
     "execution_count": 88,
     "metadata": {},
     "output_type": "execute_result"
    }
   ],
   "source": [
    "numlist2.index(15)"
   ]
  },
  {
   "cell_type": "markdown",
   "metadata": {},
   "source": [
    "## 정렬(Sorting) 알고리즘 \n",
    "리스트의 요소들을 정렬하는 것은 그것들을 증가하는 순서 (숫자 순서, 알파벳 순서 등)로 배치하는 것을 말합니다.  \n",
    "정렬은 다음과 같은 이유로 중요한 문제입니다.   \n",
    "* 모든 컴퓨팅 리소스의 적지 않은 비율이 다양한 종류의 목록, 특히 특정 순서 (예 : 고객, 부품 번호 등)로 제시해야하는 대규모 정보 데이터베이스가 포함 된 응용 프로그램을 정렬하는 데 사용됩니다.  \n",
    "* 정렬을 위해 놀랍게도 근본적으로 다른 수많은 알고리즘이 발명되었고, 그들의 상대적 장점과 단점은 광범위하게 연구되었습니다. 정렬 알고리즘은 컴퓨터 과학의 기본 개념을 설명하는 데도 유용합니다.  \n",
    "\n",
    "binary, insertion, bubble, selection, merge, quick, and tournament 등 다양한 정렬 알고리즘이 있다. "
   ]
  },
  {
   "cell_type": "markdown",
   "metadata": {},
   "source": [
    "### 버블 정렬 (bubble sorting) 알고리즘 \n",
    "#### 버블 정렬은 가장 간단한 정렬 알고리즘 중 하나이지만 가장 효율적인 정렬 알고리즘은 아닙니다.  \n",
    "#### n개 요소를 갖는 리스트의 버블 정렬 의 기본 아이디어는 다음과 같습니다. \n",
    "#### &nbsp; &nbsp; 1번째 패스에서, 첫번째로 가장 큰 요소가  가장 마지막(n 의 위치)에 배치되도록 하고, k 번째 패스때에, k번째로 큰 요소가  ‘n-k+1’ 위치에  배치되도록 함.  \n",
    "#### &nbsp; &nbsp; k 번째 패스에서 1번째 위치부터 연속쌍 요소 (1번 위치 요소 & 2번 위치 요소)들을  비교하여 큰 요소가 뒤에 배치되도록 하며 이러한 작업을 n-k 번째  위치까지 (n-k 번째 위치 요소 & n-k+1 번째 위치 요소 ) 계속 작업 수행한다. 그러면, k 번째로 큰 요소가 'n-k+1' 위치에 배치됨.    \n",
    "#### &nbsp; &nbsp;n-1 번째 패스까지 상기 과정을 수행하고 종료.  //1&2 비교 하고 종료\n",
    "#### 다음은 버블 정렬의 아이디어 그림과 pseudo code를 보여 줍니다. \n",
    "![Altext](bubble_sorting.jpg)"
   ]
  },
  {
   "cell_type": "code",
   "execution_count": 89,
   "metadata": {},
   "outputs": [],
   "source": [
    "#To perform insertionsort\n",
    "def sort_bubble(A):\n",
    "    n=len(A)\n",
    "    for i in range(n-1):\n",
    "        for j in range(n-i-1):\n",
    "            if A[j]>A[j+1]:\n",
    "                A[j+1], A[j]=A[j], A[j+1]\n",
    "    return a"
   ]
  },
  {
   "cell_type": "code",
   "execution_count": 90,
   "metadata": {},
   "outputs": [
    {
     "name": "stdout",
     "output_type": "stream",
     "text": [
      "[13, 16, 2, 14, 5, 0, 15, 10, 8, 6]\n"
     ]
    },
    {
     "data": {
      "text/plain": [
       "['apple', 'banana', 'graph', 'pear', 'water mellon']"
      ]
     },
     "execution_count": 90,
     "metadata": {},
     "output_type": "execute_result"
    }
   ],
   "source": [
    "from random import *\n",
    "x=sample(list(range(0,20)), 10)\n",
    "print(x)\n",
    "sort_bubble(x)"
   ]
  },
  {
   "cell_type": "markdown",
   "metadata": {},
   "source": [
    "### 삽입 정렬 (insert sorting)  알고리즘 \n",
    "#### n개 요소를 갖는 목록의 삽입 정렬 의 기본 아이디어는 다음과 같습니다. \n",
    "#### 주어진 리스트에서, 적어도 처음 k개 요소가 정렬된 목록을 만들고, 목록의 k+1 번째 요소를 이 부분 정렬 목록에서의 제 순서 위치에 삽입하여, 적어도 처음 k+1개 요소는 정렬된 목록을 만들어 나간다\n",
    "####  아이디어 그림과 의사코드는 다음과 같습니다. \n",
    "![Altext](insert_sorting.jpg)"
   ]
  },
  {
   "cell_type": "markdown",
   "metadata": {},
   "source": [
    " #### 삽입 정렬의 파이썬 프로그램은 실습으로 합니다. "
   ]
  },
  {
   "cell_type": "markdown",
   "metadata": {},
   "source": [
    "## 파이썬 에서의 정렬 함수 및 리스트의 정렬 메소드 \n",
    "#### 파이썬에는 sorting 에 관한 built-in 함수 'sorted()' 와  숫자 list 에 'sort()' 함수가 지원됩니다. 또한, numpy array 에도 'sort()' 함수가 지원됩니다."
   ]
  },
  {
   "cell_type": "code",
   "execution_count": 91,
   "metadata": {},
   "outputs": [
    {
     "data": {
      "text/plain": [
       "[1, 2, 2, 3, 3, 4, 5, 7, 8]"
      ]
     },
     "execution_count": 91,
     "metadata": {},
     "output_type": "execute_result"
    }
   ],
   "source": [
    "numlist=[7,2,4,3,2,1,3,5,8]\n",
    "sorted(numlist)"
   ]
  },
  {
   "cell_type": "code",
   "execution_count": 92,
   "metadata": {},
   "outputs": [
    {
     "data": {
      "text/plain": [
       "[1, 2, 2, 3, 3, 4, 5, 7, 8]"
      ]
     },
     "execution_count": 92,
     "metadata": {},
     "output_type": "execute_result"
    }
   ],
   "source": [
    "numlist=[7,2,4,3,2,1,3,5,8]\n",
    "numlist.sort()\n",
    "numlist"
   ]
  },
  {
   "cell_type": "code",
   "execution_count": 93,
   "metadata": {},
   "outputs": [
    {
     "data": {
      "text/plain": [
       "array([1, 2, 3, 4, 5, 9])"
      ]
     },
     "execution_count": 93,
     "metadata": {},
     "output_type": "execute_result"
    }
   ],
   "source": [
    "import numpy as np\n",
    "z=np.array([5,3,4,9,1,2])\n",
    "z.sort()\n",
    "z"
   ]
  },
  {
   "cell_type": "markdown",
   "metadata": {},
   "source": [
    "#### 내림차순으로 정렬하고자 하는 경우에는, 먼저 'soring ' 한 후에, 숫자 배열을 거꾸로 배치하는 built-in 함수 'reversed()', 숫자 list 에서의 'reverse()' 함수, numpy array 의 'reverse()' 함수 등을 이용하면 됩니다."
   ]
  },
  {
   "cell_type": "code",
   "execution_count": 94,
   "metadata": {},
   "outputs": [
    {
     "data": {
      "text/plain": [
       "[8, 7, 5, 4, 3, 3, 2, 2, 1]"
      ]
     },
     "execution_count": 94,
     "metadata": {},
     "output_type": "execute_result"
    }
   ],
   "source": [
    "z=[7,2,4,3,2,1,3,5,8]\n",
    "z.sort()\n",
    "z.reverse()\n",
    "z"
   ]
  },
  {
   "cell_type": "code",
   "execution_count": 95,
   "metadata": {},
   "outputs": [
    {
     "data": {
      "text/plain": [
       "[8, 7, 5, 4, 3, 3, 2, 2, 1]"
      ]
     },
     "execution_count": 95,
     "metadata": {},
     "output_type": "execute_result"
    }
   ],
   "source": [
    "z=[7,2,4,3,2,1,3,5,8]\n",
    "y=sorted(z)\n",
    "q=list(reversed(y))\n",
    "q"
   ]
  },
  {
   "cell_type": "markdown",
   "metadata": {},
   "source": [
    "## 최적화(Optimization) ; Greedy Algorithm (탐욕 알고리즘)"
   ]
  },
  {
   "cell_type": "markdown",
   "metadata": {},
   "source": [
    "#### 이산수학에서 공부할 많은 알고리즘은 최적화 문제를 해결하도록 설계됩니다.\n",
    "#### 이러한 문제의 목표는 주어진 문제에 대한 일부 매개 변수를 최대화하거나 최소화하는 것입니다. 예를 들어, 두 도시간의 최단 경로를 찾는 문제가 바로 최적화 문제입니다. \n",
    "#### 최적화 해를 구하는 방법은 미래에 끼칠 영향까지 고려하여 결과적인 비용을 최소화하도록 현재의 선택을 결정하는 것입니다.  \n",
    "#### 그러나, 놀랍게도 가장 간단한 방법 중 하나는 모든 경우의 수를 고려하는 대신 각 단계에서 최선의 선택을 하는 것입니다. 각 단게에서의 최선의 선택을 하는 전략을 탐욕 알고리즘이라고합니다. 물론 각 단계에서의 최선의 선택이 최종적으로 최선의 선택을 보장하지는 않습니다. 예를 들어, 꼭 구매가 필요한 어떤 물건(예; 비누)의 다양한 상품 중에 현재 가장 싼 상품(모 회사 제품)을 구입하는 전략이 결과적으로 최선의 전략이 아닐 수도 잇는 것처럼 말입니다. 그러나, 어떤 최적화 문제에서는 각 단계에서의 최선 선택 전략이 매우 유효할 수 있습니다.   \n",
    "#### 다음은 Greedy algorithm 예로, 25 센트(quarter), 10센트(dime), 5센트(nickel), 1센트(penny) 등의 동전으로 잔금을 지불해 줄 때, 최소 동전 숫자로 지불해 주는 다음의 탐욕 알고리즘을 고려합니다.\n",
    "####  Cashier's algorithm \n",
    "거스름돈을 25 센트 동전 (quarter), 10센트 동전 (dime), 5센트 동전(nickle), 1 센트 동전 (penny) 로 주는 데,  전체적으로 동전 개수를 최소화하도록 하는 알고리즘   \n",
    "![Alttext](change.jpg)"
   ]
  },
  {
   "cell_type": "code",
   "execution_count": 96,
   "metadata": {},
   "outputs": [],
   "source": [
    "def change(c, n):\n",
    "    c.sort()\n",
    "    c.reverse()\n",
    "    d=[0]*len(c)\n",
    "    print(c)\n",
    "    print(d)\n",
    "    for k in range (len(c)):\n",
    "        print(k, c[k])\n",
    "        while n >= c[k]:\n",
    "            d[k]+=1\n",
    "            n-=c[k]        \n",
    "        print(\"The number of %d cent coin : %d\" %(c[k], d[k]) )            "
   ]
  },
  {
   "cell_type": "code",
   "execution_count": 97,
   "metadata": {},
   "outputs": [
    {
     "name": "stdout",
     "output_type": "stream",
     "text": [
      "[25, 10, 5, 1]\n",
      "[0, 0, 0, 0]\n",
      "0 25\n",
      "The number of 25 cent coin : 6\n",
      "1 10\n",
      "The number of 10 cent coin : 1\n",
      "2 5\n",
      "The number of 5 cent coin : 1\n",
      "3 1\n",
      "The number of 1 cent coin : 2\n"
     ]
    }
   ],
   "source": [
    "c=[10,1,5, 25]\n",
    "n=167\n",
    "change(c,n)"
   ]
  },
  {
   "cell_type": "markdown",
   "metadata": {},
   "source": [
    "## 실습  "
   ]
  },
  {
   "cell_type": "markdown",
   "metadata": {},
   "source": [
    "### 실습 1.  주어진 정수 리스트 에서 가장 큰 정수가 마지막으로 나타나는 위치를 찾기 (리스트의 원소인 정수들이 서로 다를 필요는 없다.)        \n",
    "\n",
    "#### 주어진 정수 리스트(예; $X=[4,7,9,2,4,9,5,6,7,9,4, 6]$) 에서 최대값을 찾고 이 최대값(max)이 마지막으로 나오는 리스트의 위치(i)를 찾아 ( 리스트 의 원소 위치는 1 부터 시작하는 것으로 한다.) 콘솔 출력으로 \"최대값  max  은(는) 마지막으로 리스트의 i 번째에 위치한다.\" 가 출력되도록 파이썬 코딩하고, 리스트 $X=[4,7,9,2,4,9,5,6,7,9,4, 6]$ 에 대해서 점검하여 보시오. 점검시에,  \"최대값  9  은(는) 마지막으로 리스트의 10 번째에 위치한다.\" 로 출력되도록 함. \n",
    "\n",
    "#### ※ 제한조건 \n",
    "#### * 문제 풀이 중 최대값을 구하는 함수를 직접 만들어야 한다. 만일 만들지 않았고, 파이썬에 있는 max 함수를 사용하거나 외부 라이브러리에서 max 함수를 import 하여 사용할 경우 0점 처리한다."
   ]
  },
  {
   "cell_type": "code",
   "execution_count": 98,
   "metadata": {},
   "outputs": [],
   "source": [
    "def max_pos(x):\n",
    "    max=x[0]\n",
    "    pos=0\n",
    "    n=len(X)\n",
    "    for i in range(1,n):\n",
    "        if max <= x[i]:\n",
    "            max=x[i]\n",
    "            pos=i+1\n",
    "            \n",
    "    return  print(\"최대값  %d  은(는) 마지막으로 리스트의 %d 번째에 위치한다.\" %(max, pos))       "
   ]
  },
  {
   "cell_type": "code",
   "execution_count": 99,
   "metadata": {},
   "outputs": [
    {
     "name": "stdout",
     "output_type": "stream",
     "text": [
      "최대값  9  은(는) 마지막으로 리스트의 10 번째에 위치한다.\n"
     ]
    }
   ],
   "source": [
    "X=[4,7,9,2,4,9,5,6,7,9,4, 6]\n",
    "max_pos(X)"
   ]
  },
  {
   "cell_type": "markdown",
   "metadata": {},
   "source": [
    "#### 상기 파이썬 코드 보다 좀 더 간결한 파이썬 코드는 다음과 같습니다. "
   ]
  },
  {
   "cell_type": "code",
   "execution_count": 100,
   "metadata": {},
   "outputs": [],
   "source": [
    "def max_pos2(x):\n",
    "    max=0\n",
    "    \n",
    "    for (i, item) in enumerate(X):\n",
    "        if max <= item:\n",
    "            max=item\n",
    "            pos=i+1\n",
    "            \n",
    "    return  print(\"최대값  %d  은(는) 마지막으로 리스트의 %d 번째에 위치한다.\" %(max, pos))       "
   ]
  },
  {
   "cell_type": "code",
   "execution_count": 101,
   "metadata": {},
   "outputs": [
    {
     "name": "stdout",
     "output_type": "stream",
     "text": [
      "최대값  9  은(는) 마지막으로 리스트의 10 번째에 위치한다.\n"
     ]
    }
   ],
   "source": [
    "X=[4,7,9,2,4,9,5,6,7,9,4, 6]\n",
    "max_pos2(X)"
   ]
  },
  {
   "cell_type": "markdown",
   "metadata": {},
   "source": [
    "### 실습 2.   정수 리스트를  난수발생기로 부터 만들어서 최대값이 마지막으로 나오는 위치 찾기 \n",
    "#### 1) 먼저, 0 에서 15 까지의 정수를 난수 발생기로 20개가 생성된 정수 리스트를 콘솔 출력하고  \n",
    "#### 2) \"최대값  max  은(는) 마지막으로 리스트의 i 번째에 위치한다.\" 이 콘솔 출력되도록 파이썬 코딩하여 보시오.\n",
    "#### (리스트의 원소 위치는 1 부터 시작하는 것으로 한다), \n",
    "#### ※ 제한조건 \n",
    "#### * 문제 풀이 중 최대값을 구하는 함수를 직접 만들어야 한다. 만일 만들지 않았고, 파이썬에 있는 max 함수를 사용하거나 외부 라이브러리에서 max 함수를 import 하여 사용할 경우 0점 처리한다"
   ]
  },
  {
   "cell_type": "code",
   "execution_count": 102,
   "metadata": {},
   "outputs": [],
   "source": [
    "def max_pos2(x):    \n",
    "    max=0    \n",
    "    for (i, item) in enumerate(X):\n",
    "        if max <= item:\n",
    "            max=item\n",
    "            pos=i+1\n",
    "            \n",
    "    return  max, pos   "
   ]
  },
  {
   "cell_type": "code",
   "execution_count": 103,
   "metadata": {},
   "outputs": [
    {
     "name": "stdout",
     "output_type": "stream",
     "text": [
      "[ 4  7  0  7  5  9  5  4  8  3 10  2 13  5  0 10  4 14 12 15]\n",
      "최대값  15  은(는) 마지막으로 리스트의 20 번째에 위치한다.\n"
     ]
    }
   ],
   "source": [
    "import numpy as np\n",
    "X=np.random.randint(0,16,20)\n",
    "print(X)\n",
    "max, pos= max_pos2(X)\n",
    "print(\"최대값  %d  은(는) 마지막으로 리스트의 %d 번째에 위치한다.\" %(max, pos))       "
   ]
  },
  {
   "cell_type": "markdown",
   "metadata": {},
   "source": [
    "### 실습 3. 주어진 정수 리스트에서  최대값이 나오는 모든 위치 찾기 \n",
    "#### 주어진 정수 리스트에서 최대값의 모든 위치를 찾는 파이썬 함수를 코딩하고 이를 이용하여, 주어진 리스트 $[4,7,9,2,4,9,5,6,7,9,4, 6]$ 에 적용하여 보시오. \n",
    "\n",
    "#### ※ 제한조건 \n",
    "#### * 문제 풀이 중 최대값을 구하는 함수를 직접 만들어야 한다. 만일 만들지 않았고, 파이썬에 있는 max 함수를 사용하거나 외부 라이브러리에서 max 함수를 import 하여 사용할 경우 0점 처리한다"
   ]
  },
  {
   "cell_type": "code",
   "execution_count": 104,
   "metadata": {},
   "outputs": [],
   "source": [
    "def max_pos3(x):\n",
    "    max=0\n",
    "    maxpos=[]\n",
    "    for item in X:\n",
    "        if max <= item:\n",
    "            max=item\n",
    "         \n",
    "    \n",
    "    for (i, item) in enumerate(X):\n",
    "        if max == item:\n",
    "            maxpos.append(i+1)    \n",
    "            \n",
    "            \n",
    "    return  maxpos       "
   ]
  },
  {
   "cell_type": "code",
   "execution_count": 105,
   "metadata": {},
   "outputs": [
    {
     "data": {
      "text/plain": [
       "[3, 6, 10]"
      ]
     },
     "execution_count": 105,
     "metadata": {},
     "output_type": "execute_result"
    }
   ],
   "source": [
    "X=[4,7,9,2,4,9,5,6,7,9,4, 6]\n",
    "max_pos3(X)"
   ]
  },
  {
   "cell_type": "markdown",
   "metadata": {},
   "source": [
    "### 실습 4. Insertion Sort (삽입 정렬)\n",
    "#### 삽입 정렬은 간단한 정렬 알고리즘이지만 일반적으로 가장 효율적인 것은 아니다. 앞의 삽입 정렬 의사 코드를 활용하여, 주어진 n 개 요소 목록에 대해 삽입 정렬 알고리즘을 파이썬 함수로 프로그래밍 하여 보시오. \n",
    "#### 0 부터 19까지의 정수 가운데, 랜덤하게 샘플링된 10개의 정수로 구성된 리스트에 대한, 프로그래밍한 파이썬 삽입 정렬 알고리즘 구현 함수에 적용하여 제대로 정렬되는 지를 살펴보시오.  "
   ]
  },
  {
   "cell_type": "code",
   "execution_count": 106,
   "metadata": {},
   "outputs": [],
   "source": [
    "#To perform insertionsort\n",
    "def sort_insertion(a):\n",
    "\n",
    "    for j in range(1,len(a)):\n",
    "        i=0\n",
    "        \n",
    "        while(a[j] > a[i]):\n",
    "            i+=1\n",
    "        m=a[j]\n",
    "        for k in range(0, j-i):\n",
    "            a[j-k]=a[j-k-1]\n",
    "        a[i]=m\n",
    "        print(a)\n",
    "    return a"
   ]
  },
  {
   "cell_type": "code",
   "execution_count": 107,
   "metadata": {},
   "outputs": [
    {
     "name": "stdout",
     "output_type": "stream",
     "text": [
      "[6, 5, 8, 11, 16, 10, 3, 18, 1, 17]\n",
      "[5, 6, 8, 11, 16, 10, 3, 18, 1, 17]\n",
      "[5, 6, 8, 11, 16, 10, 3, 18, 1, 17]\n",
      "[5, 6, 8, 11, 16, 10, 3, 18, 1, 17]\n",
      "[5, 6, 8, 11, 16, 10, 3, 18, 1, 17]\n",
      "[5, 6, 8, 10, 11, 16, 3, 18, 1, 17]\n",
      "[3, 5, 6, 8, 10, 11, 16, 18, 1, 17]\n",
      "[3, 5, 6, 8, 10, 11, 16, 18, 1, 17]\n",
      "[1, 3, 5, 6, 8, 10, 11, 16, 18, 17]\n",
      "[1, 3, 5, 6, 8, 10, 11, 16, 17, 18]\n"
     ]
    },
    {
     "data": {
      "text/plain": [
       "[1, 3, 5, 6, 8, 10, 11, 16, 17, 18]"
      ]
     },
     "execution_count": 107,
     "metadata": {},
     "output_type": "execute_result"
    }
   ],
   "source": [
    "from random import *\n",
    "x=sample(list(range(0,20)), 10)\n",
    "print(x)\n",
    "sort_insertion(x)"
   ]
  },
  {
   "cell_type": "code",
   "execution_count": 108,
   "metadata": {},
   "outputs": [
    {
     "name": "stdout",
     "output_type": "stream",
     "text": [
      "[1, 3, 5, 6, 10, 13, 4, 0, 7, 2]\n",
      "[1, 3, 5, 6, 10, 13, 4, 0, 7, 2]\n",
      "[1, 3, 5, 6, 10, 13, 4, 0, 7, 2]\n",
      "[1, 3, 5, 6, 10, 13, 4, 0, 7, 2]\n",
      "[1, 3, 5, 6, 10, 13, 4, 0, 7, 2]\n",
      "[1, 3, 4, 5, 6, 10, 13, 0, 7, 2]\n",
      "[0, 1, 3, 4, 5, 6, 10, 13, 7, 2]\n",
      "[0, 1, 3, 4, 5, 6, 7, 10, 13, 2]\n",
      "[0, 1, 2, 3, 4, 5, 6, 7, 10, 13]\n"
     ]
    },
    {
     "data": {
      "text/plain": [
       "[0, 1, 2, 3, 4, 5, 6, 7, 10, 13]"
      ]
     },
     "execution_count": 108,
     "metadata": {},
     "output_type": "execute_result"
    }
   ],
   "source": [
    "list_B=[1, 3, 5, 6, 10, 13, 4, 0, 7, 2]\n",
    "sort_insertion(list_B)"
   ]
  }
 ],
 "metadata": {
  "kernelspec": {
   "display_name": "Python 3.9.12 ('base')",
   "language": "python",
   "name": "python3"
  },
  "language_info": {
   "codemirror_mode": {
    "name": "ipython",
    "version": 3
   },
   "file_extension": ".py",
   "mimetype": "text/x-python",
   "name": "python",
   "nbconvert_exporter": "python",
   "pygments_lexer": "ipython3",
   "version": "3.9.12"
  },
  "vscode": {
   "interpreter": {
    "hash": "d53987ecb595d47b858fb20818fc57333593e153a0e3e1d0f7ed0487b17d3604"
   }
  }
 },
 "nbformat": 4,
 "nbformat_minor": 4
}
