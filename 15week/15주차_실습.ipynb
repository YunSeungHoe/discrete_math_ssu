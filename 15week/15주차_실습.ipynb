{
 "cells": [
  {
   "cell_type": "markdown",
   "metadata": {},
   "source": [
    "##  자료 구조\n",
    "### 링크드 리스트,  더블 링크드 리스트,스택, 큐,  등은  컴퓨터 사이언스에서 풀고자하는 많은 문제들을  표현하는 데 매우 유용합니다. "
   ]
  },
  {
   "cell_type": "markdown",
   "metadata": {},
   "source": [
    "### linked_list, double linked list 는 다음과 같은 자료 구조를 말합니다. \n",
    "![Altext](fig15-linked_list.png)"
   ]
  },
  {
   "cell_type": "markdown",
   "metadata": {},
   "source": [
    "####  링크드 리스트,  더블 링크드 리스트,스택, 큐 등의 자료 구조 구현을 위해,  다음 그림과 같은 Node 객체를 고려해 봅시다.  Node  객체 는 데이터 를 포함하며,  이전  Node와 다음 Node 간의 연결을 제공합니다. \n",
    "![Altext](./fig15-node.png)"
   ]
  },
  {
   "cell_type": "code",
   "execution_count": 1,
   "metadata": {},
   "outputs": [],
   "source": [
    "class Node:\n",
    "    def __init__(self, data=None):\n",
    "        self.data = data\n",
    "        self.next = None\n",
    "        self.previous = None \n",
    "    def __str__(self):\n",
    "        return str(data)    "
   ]
  },
  {
   "cell_type": "code",
   "execution_count": 2,
   "metadata": {},
   "outputs": [],
   "source": [
    "n1 = Node('eggs')\n",
    "n2 = Node('ham')\n",
    "n3 = Node('spam')\n",
    "n1.next=n2\n",
    "n2.previous=n1\n",
    "n2.next=n3\n",
    "n3.previous=n2"
   ]
  },
  {
   "cell_type": "code",
   "execution_count": 3,
   "metadata": {},
   "outputs": [
    {
     "name": "stdout",
     "output_type": "stream",
     "text": [
      "current.data=eggs\n",
      "next data of current data, eggs = ham\n",
      "current.data=ham\n",
      "previous data of current data, ham = eggs\n",
      "next data of current data, ham = spam\n",
      "current.data=spam\n",
      "previous data of current data, spam = ham\n"
     ]
    }
   ],
   "source": [
    "current = n1\n",
    "while current:\n",
    "    print(\"current.data={}\".format(current.data))   \n",
    "    if current.previous!=None :\n",
    "        print(\"previous data of current data, {} = {}\".format(current.data, current.previous.data))\n",
    "    if current.next!=None :\n",
    "        print(\"next data of current data, {} = {}\".format(current.data, current.next.data))    \n",
    "    current = current.next"
   ]
  },
  {
   "cell_type": "code",
   "execution_count": 4,
   "metadata": {},
   "outputs": [],
   "source": [
    "class SinglyLinkedList:\n",
    "    def __init__(self):\n",
    "        self.tail = None\n",
    "        self.size=0\n",
    "    def append(self, data):\n",
    "    # Encapsulate the data in a Node\n",
    "        node = Node(data)\n",
    "        if self.tail == None:\n",
    "            self.tail = node\n",
    "            self.size +=1\n",
    "        else:\n",
    "            current = self.tail\n",
    "            while current.next:\n",
    "                current = current.next\n",
    "            current.next = node\n",
    "            self.size +=1    \n",
    "    def iter(self):\n",
    "        current = self.tail\n",
    "        while current:\n",
    "            val = current.data\n",
    "            current = current.next\n",
    "            yield val            \n",
    "    def delete(self, data):\n",
    "        current = self.tail\n",
    "        prev = self.tail\n",
    "        while current:\n",
    "            if current.data == data:\n",
    "                if current == self.tail:\n",
    "                    self.tail = current.next\n",
    "                else:\n",
    "                    prev.next = current.next\n",
    "                self.size -= 1\n",
    "                return\n",
    "            prev = current\n",
    "            current = current.next       \n",
    "    def search(self, data):\n",
    "        for node in self.iter():\n",
    "            if data == node:\n",
    "                return True\n",
    "        return False         \n",
    "    def clear(self):\n",
    "        \"\"\" Clear the entire list. \"\"\"\n",
    "        self.tail = None\n",
    "        "
   ]
  },
  {
   "cell_type": "markdown",
   "metadata": {},
   "source": [
    "### delete data from linked list\n",
    "![Altext](./fig15-delete.png)"
   ]
  },
  {
   "cell_type": "code",
   "execution_count": 5,
   "metadata": {},
   "outputs": [
    {
     "name": "stdout",
     "output_type": "stream",
     "text": [
      "eggs\n",
      "ham\n",
      "spam\n",
      "cheese\n",
      "hotdog\n",
      "5\n",
      "4\n"
     ]
    }
   ],
   "source": [
    "words=SinglyLinkedList()\n",
    "words.append('eggs')\n",
    "print(words.tail.data)\n",
    "words.append('ham')\n",
    "print(words.tail.next.data)\n",
    "words.append('spam')\n",
    "print(words.tail.next.next.data)\n",
    "words.append('cheese')\n",
    "print(words.tail.next.next.next.data)\n",
    "words.append('hotdog')\n",
    "print(words.tail.next.next.next.next.data)\n",
    "print(words.size)\n",
    "words.delete('cheese')\n",
    "print(words.size)\n"
   ]
  },
  {
   "cell_type": "code",
   "execution_count": 6,
   "metadata": {},
   "outputs": [
    {
     "name": "stdout",
     "output_type": "stream",
     "text": [
      "eggs\n",
      "ham\n",
      "spam\n",
      "hotdog\n"
     ]
    }
   ],
   "source": [
    "current = words.tail\n",
    "while current:\n",
    "    print(current.data)\n",
    "    current = current.next"
   ]
  },
  {
   "cell_type": "code",
   "execution_count": 7,
   "metadata": {},
   "outputs": [
    {
     "name": "stdout",
     "output_type": "stream",
     "text": [
      "eggs\n",
      "ham\n",
      "spam\n",
      "hotdog\n"
     ]
    }
   ],
   "source": [
    "for word in words.iter():\n",
    "    print(word)"
   ]
  },
  {
   "cell_type": "code",
   "execution_count": 8,
   "metadata": {},
   "outputs": [
    {
     "name": "stdout",
     "output_type": "stream",
     "text": [
      "True\n",
      "False\n"
     ]
    }
   ],
   "source": [
    "print(words.search('spam'))\n",
    "print(words.search('cheese'))"
   ]
  },
  {
   "cell_type": "code",
   "execution_count": 9,
   "metadata": {},
   "outputs": [
    {
     "name": "stdout",
     "output_type": "stream",
     "text": [
      "None\n"
     ]
    }
   ],
   "source": [
    "words.clear()\n",
    "print(words.tail)"
   ]
  },
  {
   "cell_type": "markdown",
   "metadata": {},
   "source": [
    "###  스택(stack) \n",
    "#### 스택은 데이터 아이템을 저장하는 자료구조로,  맨 나중에 입력된  데이터 아이템이 제일 먼저 뽑혀서 사용되는 자료구조입니다. 즉 LIFO(Lastr In First Out) 의  자료 구조입니다. \n",
    "#### 파이썬에서는 \"list\"  을 이용하여 스택을 쉽게 구현할 수있습니다.  보통 스택에 자료를 입력하는 오퍼레이션 명으로 \"push(data)\",  맨 나중에 입력된  데이터 아이템을 뽑아 내는 데 사용되는 오퍼레이션명으로  \"pop()\"라는 함수명을 주로 사용합니다.  파이썬 리스트는 \"pop()\" 이라는 함수가 지원되며,  \"push(data)\" 대신에 \"append(data)\" 라는 함수가 지원됩니다. \n",
    "#### 그런데, 파이썬에서는 리스트의 조작 함수, \"pop()\" 에 인자로 인덱스를 사용하면, 리스트의 해당 인덱스의 데이터 아이템을 뽑아 낼 수가 있습니다.   \n"
   ]
  },
  {
   "cell_type": "code",
   "execution_count": 10,
   "metadata": {},
   "outputs": [
    {
     "name": "stdout",
     "output_type": "stream",
     "text": [
      "현재 스택 내용; ['alpha', 'beta', 'gamma', 'delta', 'epsilon']\n",
      "현재 스택에서 마지막 데이터 아이템; epsilon\n",
      "현재 스택에서 pop()한 결과로 뽑아낸 데이터 아이템; epsilon\n",
      "pop()한 후의 현재 스택 내용; ['alpha', 'beta', 'gamma', 'delta']\n"
     ]
    }
   ],
   "source": [
    "stack= list()\n",
    "stack.append(\"alpha\")\n",
    "stack.append(\"beta\")\n",
    "stack.append(\"gamma\")\n",
    "stack.append(\"delta\")\n",
    "stack.append(\"epsilon\")\n",
    "print(\"현재 스택 내용;\", stack)\n",
    "print(\"현재 스택에서 마지막 데이터 아이템;\",stack[len(stack)-1])\n",
    "print(\"현재 스택에서 pop()한 결과로 뽑아낸 데이터 아이템;\",stack.pop())\n",
    "print(\"pop()한 후의 현재 스택 내용;\", stack)"
   ]
  },
  {
   "cell_type": "markdown",
   "metadata": {},
   "source": [
    "#### list 를 이용한 스택 클래스 구현은 다음과 같습니다."
   ]
  },
  {
   "cell_type": "code",
   "execution_count": 11,
   "metadata": {},
   "outputs": [],
   "source": [
    "class List_Stack:\n",
    "    def __init__(self):\n",
    "        self.data=list()\n",
    "        self.size =0\n",
    "    def push(self,item):\n",
    "        self.data.append(item)\n",
    "        self.size +=1\n",
    "    def pop(self):\n",
    "        if self.size==0:\n",
    "            return print(\"스택은 비어 있습니다.\")\n",
    "        else: \n",
    "            self.size -=1\n",
    "            return self.data.pop()\n",
    "    def peek(self, index):\n",
    "        return self.data[index]    "
   ]
  },
  {
   "cell_type": "code",
   "execution_count": 12,
   "metadata": {},
   "outputs": [
    {
     "name": "stdout",
     "output_type": "stream",
     "text": [
      "스택은 비어 있습니다.\n",
      "현재 스택에서 pop()한 결과로 뽑아낸 데이터 아이템; None\n",
      "현재 스택 데이터 아이템 갯수; 5\n",
      "현재 스택 내용; ['alpha', 'beta', 'gamma', 'delta', 'epsilon']\n",
      "현재 스택에서 마지막 데이터 아이템; epsilon\n",
      "현재 스택에서 pop()한 결과로 뽑아낸 데이터 아이템; epsilon\n",
      "현재 스택 데이터 아이템 갯수; 4\n",
      "pop()한 후의 현재 스택 내용; ['alpha', 'beta', 'gamma', 'delta']\n"
     ]
    }
   ],
   "source": [
    "lstack= List_Stack()\n",
    "print(\"현재 스택에서 pop()한 결과로 뽑아낸 데이터 아이템;\", lstack.pop())\n",
    "lstack.push(\"alpha\")\n",
    "lstack.push(\"beta\")\n",
    "lstack.push(\"gamma\")\n",
    "lstack.push(\"delta\")\n",
    "lstack.push(\"epsilon\")\n",
    "print(\"현재 스택 데이터 아이템 갯수;\", lstack.size)\n",
    "print(\"현재 스택 내용;\", lstack.data)\n",
    "print(\"현재 스택에서 마지막 데이터 아이템;\", lstack.peek(lstack.size-1))\n",
    "print(\"현재 스택에서 pop()한 결과로 뽑아낸 데이터 아이템;\", lstack.pop())#ㅔㅐpop(0) 은 리스트의 첫 요소 추출\n",
    "print(\"현재 스택 데이터 아이템 갯수;\", lstack.size)\n",
    "print(\"pop()한 후의 현재 스택 내용;\", lstack.data)"
   ]
  },
  {
   "cell_type": "markdown",
   "metadata": {},
   "source": [
    "### Node 를 이용한 스택 클래스 구현은 다음과 같다. "
   ]
  },
  {
   "cell_type": "code",
   "execution_count": 13,
   "metadata": {},
   "outputs": [],
   "source": [
    "class Node_Stack:\n",
    "    \n",
    "    def __init__(self):\n",
    "        self.top = None\n",
    "        self.size = 0\n",
    "    \n",
    "    def push(self, data):\n",
    "        node = Node(data)\n",
    "        if self.top:\n",
    "            node.next = self.top\n",
    "            self.top = node\n",
    "        else:\n",
    "            self.top = node\n",
    "        self.size += 1    \n",
    "    \n",
    "    def pop(self):\n",
    "        if self.top:\n",
    "            data = self.top.data\n",
    "            self.size -= 1\n",
    "            if self.top.next:\n",
    "                self.top = self.top.next\n",
    "            else:\n",
    "                self.top = None\n",
    "            return data\n",
    "        else:\n",
    "            return print(\"현재 스택은 비어 있습니다.\")\n",
    "    \n",
    "    def peek(self, index):\n",
    "        if index > self.size:\n",
    "            return print(\"현 스택 크기보다 큰 인덱스입니다. \")\n",
    "        else: \n",
    "            serach_node=Node()\n",
    "            search_node=self.top\n",
    "            for i in range(index+1-self.size):\n",
    "                search_node=search_node.next\n",
    "        return search_node.data         "
   ]
  },
  {
   "cell_type": "code",
   "execution_count": 14,
   "metadata": {},
   "outputs": [
    {
     "name": "stdout",
     "output_type": "stream",
     "text": [
      "현재 스택은 비어 있습니다.\n",
      "현재 스택에서 pop()한 결과로 뽑아낸 데이터 아이템; None\n",
      "현재 스택 데이터 아이템 갯수; 5\n",
      "현재 스택에서 마지막으로 입력된 데이터 아이템; delta\n",
      "현재 스택에서 pop()한 결과로 뽑아낸 데이터 아이템; epsilon\n",
      "현재 스택 데이터 아이템 갯수; 4\n",
      "현재 스택에서 마지막 데이터 아이템; delta\n",
      "현재 스택에서 pop()한 결과로 뽑아낸 데이터 아이템; delta\n",
      "현재 스택 데이터 아이템 갯수; 3\n"
     ]
    }
   ],
   "source": [
    "nstack= Node_Stack()\n",
    "print(\"현재 스택에서 pop()한 결과로 뽑아낸 데이터 아이템;\", nstack.pop())\n",
    "nstack.push(\"alpha\")\n",
    "nstack.push(\"beta\")\n",
    "nstack.push(\"gamma\")\n",
    "nstack.push(\"delta\")\n",
    "nstack.push(\"epsilon\")\n",
    "print(\"현재 스택 데이터 아이템 갯수;\", nstack.size)\n",
    "print(\"현재 스택에서 마지막으로 입력된 데이터 아이템;\", nstack.peek(nstack.size))\n",
    "print(\"현재 스택에서 pop()한 결과로 뽑아낸 데이터 아이템;\", nstack.pop())\n",
    "print(\"현재 스택 데이터 아이템 갯수;\", nstack.size)\n",
    "print(\"현재 스택에서 마지막 데이터 아이템;\", nstack.peek(nstack.size-1))\n",
    "print(\"현재 스택에서 pop()한 결과로 뽑아낸 데이터 아이템;\", nstack.pop())\n",
    "print(\"현재 스택 데이터 아이템 갯수;\", nstack.size)"
   ]
  },
  {
   "cell_type": "markdown",
   "metadata": {},
   "source": [
    "### 큐(queue)\n",
    "#### 큐 는 데이터 아이템을 저장하는 자료구조로,  맨 처음에 입력된  데이터 아이템이 제일 먼저 뽑혀서 사용되는 자료구조이다. 즉 FIFO(First In First Out) 의  자료 구조이다. \n",
    "####  파이썬에서는 \"list\"  을 이용하여 큐를 쉽게 구현할 수있다.  큐에 자료를 입력할 때,  \"enqueue(data)\",  맨 처음에 입력된  데이터 아이템을 뽑아 내는 데 사용되는 오퍼레이션명으로  \"dequeue()\"라는 함수명을 주로 사용한다. \n",
    "####  파이썬에서 큐를 리스트를 이용해서 구현하는 경우에, \"enqueue(data)\" 는 \"append(data)\" 을 이용한다. 또한, 파이썬 리스트의 조작 함수, \"pop()\" 에 인자로 인덱스를 사용하면, 리스트의 해당 인덱스의 데이터 아이템을 뽑아 낼 수가 있다, 이를 이용하여, \"dequeue()\" 는 \"pop(0)\" 으로 구현하면 된다. "
   ]
  },
  {
   "cell_type": "code",
   "execution_count": 15,
   "metadata": {},
   "outputs": [
    {
     "name": "stdout",
     "output_type": "stream",
     "text": [
      "현재 큐 내용; ['alpha', 'beta', 'gamma', 'delta', 'epsilon']\n",
      "현재 큐에서 dequeue()한 결과로 출력된 데이터 아이템; alpha\n",
      "dequeue()한 후의 현재 큐 내용; ['beta', 'gamma', 'delta', 'epsilon']\n"
     ]
    }
   ],
   "source": [
    "queue = list()\n",
    "queue.append(\"alpha\")\n",
    "queue.append(\"beta\")\n",
    "queue.append(\"gamma\")\n",
    "queue.append(\"delta\")\n",
    "queue.append(\"epsilon\")\n",
    "print(\"현재 큐 내용;\", queue)\n",
    "print(\"현재 큐에서 dequeue()한 결과로 출력된 데이터 아이템;\", queue.pop(0))\n",
    "print(\"dequeue()한 후의 현재 큐 내용;\", queue)\n"
   ]
  },
  {
   "cell_type": "markdown",
   "metadata": {},
   "source": [
    "### list 를 이용한 큐 클래스 구현은 다음과 같습니다."
   ]
  },
  {
   "cell_type": "code",
   "execution_count": 16,
   "metadata": {},
   "outputs": [],
   "source": [
    "class List_Queue:\n",
    "    def __init__(self):\n",
    "        self.data=list()  \n",
    "        self.size =0\n",
    "    def enqueue(self,item):\n",
    "        self.data.append(item)\n",
    "        self.size +=1\n",
    "    def dequeue(self):\n",
    "        if self.size==0:\n",
    "            return print(\"큐는 비어 있습니다.\")\n",
    "        else: \n",
    "            self.size -=1\n",
    "            return self.data.pop(0)\n",
    "    def peek(self, index):\n",
    "        return self.data[index]    "
   ]
  },
  {
   "cell_type": "code",
   "execution_count": 17,
   "metadata": {},
   "outputs": [
    {
     "name": "stdout",
     "output_type": "stream",
     "text": [
      "큐는 비어 있습니다.\n",
      "현재 큐에서 dequeue()한 결과로 출력된 데이터; None\n",
      "현재 큐 데이터 아이템 갯수; 5\n",
      "현재 큐 내용; ['alpha', 'beta', 'gamma', 'delta', 'epsilon']\n",
      "현재 큐에서 맨처음 입력된 데이터 아이템; alpha\n",
      "현재 큐에서 deque()한 결과로 출력된 데이터; alpha\n",
      "현재 큐 데이터 아이템 갯수; 4\n",
      "dequeue()한 후의 현재 큐 내용; ['beta', 'gamma', 'delta', 'epsilon']\n"
     ]
    }
   ],
   "source": [
    "lqueue = List_Queue()\n",
    "print(\"현재 큐에서 dequeue()한 결과로 출력된 데이터;\", lqueue.dequeue())\n",
    "lqueue.enqueue(\"alpha\")\n",
    "lqueue.enqueue(\"beta\")\n",
    "lqueue.enqueue(\"gamma\")\n",
    "lqueue.enqueue(\"delta\")\n",
    "lqueue.enqueue(\"epsilon\")\n",
    "print(\"현재 큐 데이터 아이템 갯수;\", lqueue.size)\n",
    "print(\"현재 큐 내용;\", lqueue.data)\n",
    "print(\"현재 큐에서 맨처음 입력된 데이터 아이템;\", lqueue.peek(0))\n",
    "print(\"현재 큐에서 deque()한 결과로 출력된 데이터;\", lqueue.dequeue())\n",
    "print(\"현재 큐 데이터 아이템 갯수;\", lqueue.size)\n",
    "print(\"dequeue()한 후의 현재 큐 내용;\", lqueue.data)\n"
   ]
  },
  {
   "cell_type": "markdown",
   "metadata": {},
   "source": [
    "#### Node 를 이용한 큐 클래스 구현은 다음과 같습니다. "
   ]
  },
  {
   "cell_type": "code",
   "execution_count": 18,
   "metadata": {},
   "outputs": [],
   "source": [
    "class Node_Queue:\n",
    "    def __init__(self):\n",
    "        self.head=None  \n",
    "        self.size =0\n",
    "    def enqueue(self,data):\n",
    "        node=Node(data)\n",
    "        self.size +=1 \n",
    "        if self.head:\n",
    "            new_node=self.head\n",
    "            while new_node.next:\n",
    "                new_node=new_node.next\n",
    "            new_node.next=node    \n",
    "        else:\n",
    "            self.head = node\n",
    "              \n",
    "    def dequeue(self):\n",
    "        if self.head: \n",
    "            self.size -=1\n",
    "            data=self.head.data\n",
    "            if self.head.next:\n",
    "                self.head=self.head.next\n",
    "            else:\n",
    "                self.head= None\n",
    "            return data\n",
    "        else: \n",
    "            return print(\"큐는 비어 있습니다.\")\n",
    " \n",
    "    def peek(self, index):\n",
    "        if index > self.size:\n",
    "            return print(\"현 큐 크기보다 큰 인덱스입니다. \")\n",
    "        else: \n",
    "            serach_node=Node()\n",
    "            search_node=self.head\n",
    "            for i in range(index):\n",
    "                search_node=search_node.next\n",
    "        return search_node.data          "
   ]
  },
  {
   "cell_type": "code",
   "execution_count": 19,
   "metadata": {},
   "outputs": [
    {
     "name": "stdout",
     "output_type": "stream",
     "text": [
      "큐는 비어 있습니다.\n",
      "현재 큐에서 deque()한 결과로 출력된 데이터; None\n",
      "현재 큐 데이터 아이템 갯수; 5\n",
      "현재 큐에서 맨처음 데이터 아이템; alpha\n",
      "현재 큐에서 deque()한 결과로 출력된 데이터; alpha\n",
      "현재 큐에서 맨처음 데이터 아이템; beta\n",
      "현재 큐에서 deque()한 결과로 출력된 데이터; beta\n"
     ]
    }
   ],
   "source": [
    "nqueue = Node_Queue()\n",
    "print(\"현재 큐에서 deque()한 결과로 출력된 데이터;\", nqueue.dequeue())\n",
    "nqueue.enqueue(\"alpha\")\n",
    "nqueue.enqueue(\"beta\")\n",
    "nqueue.enqueue(\"gamma\")\n",
    "nqueue.enqueue(\"delta\")\n",
    "nqueue.enqueue(\"epsilon\")\n",
    "print(\"현재 큐 데이터 아이템 갯수;\", nqueue.size)\n",
    "print(\"현재 큐에서 맨처음 데이터 아이템;\", nqueue.peek(0))\n",
    "print(\"현재 큐에서 deque()한 결과로 출력된 데이터;\", nqueue.dequeue())\n",
    "print(\"현재 큐에서 맨처음 데이터 아이템;\", nqueue.peek(0))\n",
    "print(\"현재 큐에서 deque()한 결과로 출력된 데이터;\", nqueue.dequeue())\n",
    "\n"
   ]
  },
  {
   "cell_type": "markdown",
   "metadata": {},
   "source": [
    "### Priority Queue\n",
    "#### 우선순위 큐는 보관된 아이템들에 우선순위가 연관되어 있는 자료 구조입니다. 우선 순위가 가장 높은 자료 아이템 (data)이 가장 먼저 꺼내질 수 있도록 지원됩니다. 우선순위 큐는 보통 힙 이라는 자료 구조를 이용하여 구현됩니다. 파이썬의 경우에는 \"heapq\"라는 내장(built-in) 모듈로 제공이 되기 때문에, 추가적인 연산이 필요 없다면 내장 모듈을 사용하는게 좋습니다.\n",
    "#### 파이썬에서는 heapq.heappush를 사용해 우선 순위 큐를 쉽게 생성할 수 있습니다. 첫번째 인자는 heap 자체인 list이고, 두번째 인자는 튜플인데 튜플의 첫번째 요소는 우선순위 값, 두번째 요소는 데이터를 넣어주면 됩니다. 함수의 두번째 인자로 튜플이 아닌 일반 값을 넣어주면, 값을 기준으로 heap을 만들어 줍니다. 파이썬이 제공하는 힙은 최소힙(min-heap)이므로 주의하자. 삽입 별 시간 복잡도는 O(log n) 입니다. 다음 예제를 살펴 봅시다.\n"
   ]
  },
  {
   "cell_type": "code",
   "execution_count": 20,
   "metadata": {},
   "outputs": [
    {
     "name": "stdout",
     "output_type": "stream",
     "text": [
      "['Do not study', 'Eat!', 'Enjoy!', 'Go to home', 'Pray!']\n"
     ]
    }
   ],
   "source": [
    "import heapq\n",
    "hq = []\n",
    "heapq.heappush(hq, (\"Go to home\"))\n",
    "heapq.heappush(hq, (\"Do not study\"))\n",
    "heapq.heappush(hq, (\"Enjoy!\"))\n",
    "heapq.heappush(hq, (\"Eat!\"))\n",
    "heapq.heappush(hq, (\"Pray!\"))\n",
    "print(hq)"
   ]
  },
  {
   "cell_type": "code",
   "execution_count": 21,
   "metadata": {},
   "outputs": [
    {
     "data": {
      "text/plain": [
       "True"
      ]
     },
     "execution_count": 21,
     "metadata": {},
     "output_type": "execute_result"
    }
   ],
   "source": [
    "\"Pray!\" in hq"
   ]
  },
  {
   "cell_type": "code",
   "execution_count": 22,
   "metadata": {},
   "outputs": [
    {
     "name": "stdout",
     "output_type": "stream",
     "text": [
      "[(1, 'Enjoy!'), (4, 'Eat!'), (3, 'Go to home'), (10, 'Do not study'), (7, 'Pray!')]\n"
     ]
    }
   ],
   "source": [
    "import heapq\n",
    "h = []\n",
    "heapq.heappush(h, (3, \"Go to home\"))\n",
    "heapq.heappush(h, (10, \"Do not study\"))\n",
    "heapq.heappush(h, (1, \"Enjoy!\"))\n",
    "heapq.heappush(h, (4, \"Eat!\"))\n",
    "heapq.heappush(h, (7, \"Pray!\"))\n",
    "print(h)"
   ]
  },
  {
   "cell_type": "code",
   "execution_count": 23,
   "metadata": {},
   "outputs": [
    {
     "data": {
      "text/plain": [
       "True"
      ]
     },
     "execution_count": 23,
     "metadata": {},
     "output_type": "execute_result"
    }
   ],
   "source": [
    "(3, \"Go to home\") in h"
   ]
  },
  {
   "cell_type": "markdown",
   "metadata": {},
   "source": [
    "#### 결과는 배열로 구현된 힙을 보여 줍니다.\n",
    "#### 이제  데이터 아이템(원소) 꺼내기는 heapq.heappop 으로 구현하면 되며,  각 꺼내기 별 시간 복잡도는 O(log n) 입니다."
   ]
  },
  {
   "cell_type": "code",
   "execution_count": 24,
   "metadata": {},
   "outputs": [
    {
     "name": "stdout",
     "output_type": "stream",
     "text": [
      "first: (1, 'Enjoy!')\n",
      "second: (3, 'Go to home')\n",
      "third: (4, 'Eat!')\n"
     ]
    }
   ],
   "source": [
    "first = heapq.heappop(h)\n",
    "second = heapq.heappop(h)\n",
    "third = heapq.heappop(h)\n",
    "print(\"first:\", first)\n",
    "print(\"second:\", second)\n",
    "print(\"third:\", third)"
   ]
  },
  {
   "cell_type": "markdown",
   "metadata": {},
   "source": [
    "## Minimum Spanning Tree"
   ]
  },
  {
   "cell_type": "markdown",
   "metadata": {},
   "source": [
    "### Prim's MST 알고리즘\n",
    "### Prim's MST 알고리즘은 현재의 최소가중치 에지세트의 에지들의 노드에 연결된 에지들중 가장 가중치가 작은 에지를 현재의 최소가중치 에지세트에 추가하여 (n-1)  개의 에지를 갖게되면(n ; 그래프의 노드갯수), 해당 에지세트가 MST 가 되는 알고리즘입니다.  의사코드는 다음과 같습니다.\n",
    "![Altext](./fig15-prim.png)"
   ]
  },
  {
   "cell_type": "markdown",
   "metadata": {},
   "source": [
    "####  Prim's MST Algorithm 을 우선순위 큐를 이용하여 파이썬 프로그래밍을 하여 봅시다."
   ]
  },
  {
   "cell_type": "code",
   "execution_count": 25,
   "metadata": {},
   "outputs": [],
   "source": [
    "from heapq import *\n",
    "def prim(G, s):  # G는 인접 노드(노드 가중치 포함) 리스트\n",
    "    T, Q = list(), [(0, None, s)]  #T; 최소가중치 에지세트  (요소는 (가중치, 시작노드, 종단노드)로 표현되는 에지,  \n",
    "                              #Q ; 우선 순위 큐 . 각 요소는 (에지 가중치, (시작노드, 종단 노드) ) 로 구성 \n",
    "    Explored=[]\n",
    "    while Q:\n",
    "        weight, p, u = heappop(Q) #weight ; 에지 가중치, p ; 시작노드 , u ; 종단 노드 \n",
    "        if u in Explored: # 종단노드가 이미 검색된 노드면 다시 우선 순위 큐에서 다음 순위 에지 추출 \n",
    "            continue\n",
    "        else: Explored.append(u) # 추출된 우선 순위 큐 에지의 종단 노드를 탐색 노드로 등록      \n",
    "        if p!=None :     # 뽑은 에지가 이미  최소가중치 에지세트에 있으면 더 이상 처리하지 않고 다음으로 넣어감\n",
    "            T.append((p, u, weight)) # [시작노드, 종단노드, 가중치]\n",
    "        for v, w in G[u]:  # 노드 \"u\" 의 모든 인접 노드들을 우선순위 큐에 추가 #G[u] ; 노드 \"u\" 의 인접 노드 리스트, v : 인접노드, w : 인접노드 에지 가중치           \n",
    "            if (w, u, v ) not in Q and (w, v,u) not in Q and (u, v, w) not in T and (v, u, w) not in T:\n",
    "                heappush(Q, (w, u, v))  #w; 에지 가중치, u ; 시작노드 , v ; 종단 노드\n",
    "        if len(T)==len(G)-1:\n",
    "            break \n",
    "    return T"
   ]
  },
  {
   "cell_type": "markdown",
   "metadata": {},
   "source": [
    "#### 이제, [그림 1]과 같이 에지에 웨이트(거리)를 갖는 그래프에 대해  상기 Prim MST 알고리즘 적용을 살펴 보기로 합시다.¶\n",
    "![Altext](./fig15-graph.png)"
   ]
  },
  {
   "cell_type": "code",
   "execution_count": 26,
   "metadata": {},
   "outputs": [],
   "source": [
    "graph1 = {   'B': [['F',245], ['L', 115], ['N', 145], ['S', 175]],             \n",
    "             'E': [['F', 450],['L', 645]],\n",
    "             'F': [['B', 245], ['E', 450],['L', 220], ['N', 385]],\n",
    "             'L': [['B', 115], ['E', 645],['F', 220],['N', 260],['S', 125]],\n",
    "             'N': [['B', 145], ['F', 385],['L', 260],['S', 320]],\n",
    "             'S': [['B', 175], ['L', 125],['N', 320]]}\n"
   ]
  },
  {
   "cell_type": "code",
   "execution_count": 27,
   "metadata": {},
   "outputs": [
    {
     "data": {
      "text/plain": [
       "[('S', 'L', 125),\n",
       " ('L', 'B', 115),\n",
       " ('B', 'N', 145),\n",
       " ('L', 'F', 220),\n",
       " ('F', 'E', 450)]"
      ]
     },
     "execution_count": 27,
     "metadata": {},
     "output_type": "execute_result"
    }
   ],
   "source": [
    "prim(graph1, 'S')"
   ]
  },
  {
   "cell_type": "markdown",
   "metadata": {},
   "source": [
    "![Alttext](fig15-2.png)"
   ]
  },
  {
   "cell_type": "markdown",
   "metadata": {},
   "source": [
    "#### 또한, 강의노트에서 다룬 [그림 3] 그래프에 대해 그래프에 대해  상기 Prim  MST 알고리즘 적용을 살펴 보기로 합시다.¶\n",
    "![Altext](fig15-prim_ex.png)"
   ]
  },
  {
   "cell_type": "code",
   "execution_count": 28,
   "metadata": {},
   "outputs": [],
   "source": [
    "graph3= {'A': [['B', 4], ['D', 1]],\n",
    "     'B': [['A', 4], ['C',4], ['D', 4], ['J', 10]],\n",
    "     'C': [['B', 4], ['E', 2], ['F', 1]],\n",
    "     'D': [['A', 1], ['B', 4], ['H', 5],['J', 6]],\n",
    "     'E': [['C', 2],['G', 2]],\n",
    "     'F': [['C', 1],['G', 3],['I', 5]],\n",
    "     'G': [['E', 2], ['F', 3],['I', 3], ['J', 4]],\n",
    "     'H': [['D', 5],['J', 2]],  \n",
    "     'I': [['F', 5],['G', 3],['J', 3]],\n",
    "     'J': [['B', 10], ['D', 6],['G', 4],['H', 2],['I', 3]]}\n",
    "     \n",
    "     \n"
   ]
  },
  {
   "cell_type": "code",
   "execution_count": 29,
   "metadata": {},
   "outputs": [
    {
     "data": {
      "text/plain": [
       "[('A', 'D', 1),\n",
       " ('A', 'B', 4),\n",
       " ('B', 'C', 4),\n",
       " ('C', 'F', 1),\n",
       " ('C', 'E', 2),\n",
       " ('E', 'G', 2),\n",
       " ('G', 'I', 3),\n",
       " ('I', 'J', 3),\n",
       " ('J', 'H', 2)]"
      ]
     },
     "execution_count": 29,
     "metadata": {},
     "output_type": "execute_result"
    }
   ],
   "source": [
    "prim(graph3, 'A')"
   ]
  },
  {
   "cell_type": "markdown",
   "metadata": {},
   "source": [
    "![Altext](fig15-prim_ex_sol.png)"
   ]
  },
  {
   "cell_type": "markdown",
   "metadata": {},
   "source": [
    "#### 다음은 또다른 Prim MST 알고리즘 구현입니다. "
   ]
  },
  {
   "cell_type": "code",
   "execution_count": 30,
   "metadata": {},
   "outputs": [],
   "source": [
    "from heapq import *\n",
    "def prim1(G, s):  # G는 인접 노드(노드 가중치 포함) 리스트\n",
    "    T, Q = {}, [(0, None, s)]  #T; 최소가중치 에지세트  (요소는 (가중치, 시작노드, 종단노드)로 표현되는 에지,  \n",
    "                              #Q ; 우선 순위 큐 . 각 요소는 (에지 가중치, (시작노드, 종단 노드) ) 로 구성 \n",
    "    while Q:        \n",
    "        weight, p, u = heappop(Q) #weight ; 에지 가중치, p ; 시작노드 , u ; 종단 노드         \n",
    "        if u in T: continue # 뽑은 에지가 이미  최소가중치 에지세트에 있으면 더 이상 처리하지 않고 다음으로 넣어감\n",
    "        T[u] = [p, weight] # [시작노드, 종단노드, 가중치]\n",
    "        for v, w in G[u]:  # 노드 \"u\" 의 모든 인접 노드들을 우선순위 큐에 추가 #G[u] ; 노드 \"u\" 의 인접 노드 리스트, v : 인접노드, w : 인접노드 에지 가중치\n",
    "            heappush(Q, (w, u, v))  #w; 에지 가중치, u ; 시작노드 , v ; 종단 노드\n",
    "        if len(T)==len(G):\n",
    "            break \n",
    "    return T"
   ]
  },
  {
   "cell_type": "code",
   "execution_count": 31,
   "metadata": {},
   "outputs": [
    {
     "data": {
      "text/plain": [
       "{'S': [None, 0],\n",
       " 'L': ['S', 125],\n",
       " 'B': ['L', 115],\n",
       " 'N': ['B', 145],\n",
       " 'F': ['L', 220],\n",
       " 'E': ['F', 450]}"
      ]
     },
     "execution_count": 31,
     "metadata": {},
     "output_type": "execute_result"
    }
   ],
   "source": [
    "prim1(graph1, 'S')"
   ]
  },
  {
   "cell_type": "code",
   "execution_count": 32,
   "metadata": {},
   "outputs": [
    {
     "data": {
      "text/plain": [
       "{'A': [None, 0],\n",
       " 'D': ['A', 1],\n",
       " 'B': ['A', 4],\n",
       " 'C': ['B', 4],\n",
       " 'F': ['C', 1],\n",
       " 'E': ['C', 2],\n",
       " 'G': ['E', 2],\n",
       " 'I': ['G', 3],\n",
       " 'J': ['I', 3],\n",
       " 'H': ['J', 2]}"
      ]
     },
     "execution_count": 32,
     "metadata": {},
     "output_type": "execute_result"
    }
   ],
   "source": [
    "prim1(graph3, 'A')"
   ]
  },
  {
   "cell_type": "markdown",
   "metadata": {},
   "source": [
    "### Kruskal's MST 알고리즘\n",
    "### Kruskal's MST 알고리즘은 현재 남아있는 에지들중 가장 가중치가 작으면서, 추가시에 루프를 형성하지 않는 에지를 에지세트에 추가하여 업데이트하고,  해당 에지세트가 (n-1)  개의 에지를 갖게되면(n ; 그래프의 노드갯수), 해당 에지세트가 MST 가 되는 알고리즘입니다.  의사코드는 다음과 같습니다.\n",
    "![Altext](./fig15-kruskal.png)"
   ]
  },
  {
   "cell_type": "markdown",
   "metadata": {},
   "source": [
    "###  'Union-Find'  알고리즘을 살펴 봅시다.  \n",
    "#### 여기서의 'Union-Find'  알고리즘은 'Kruskal ' 알고리즘에서 후보 에지를 추가하는 경우에 루프가 생기는 지를 확인하기 위해서 사용합니다. \n",
    "#### 여기서 연결요소(connected component)는 트리입니다.   연결 요소 모임을 트리의  노드값을 key로 하고 이 노드와 연결된 노드 값을 value로 하는 데이터 쌍을 아이템으로 하는 딕셔너리(dictionary) 로 표현하였습니다.  예를 들어,  연결요소 모임 $C$ 가  $C=\\{ 'A': 'A',$ &nbsp; $'B': 'B', $ &nbsp; $'C' : 'B' \\} $ 인 경우에 ,  노드 'A' 는 자체적으로 'A' 와 연결되어 있고,  'C' 는 'B' 와 연결되어 있다는 표현으로, 연결요소 모임 $C$ 에는 {'A'}, {'B' , 'C' } 의 두개의 연결 요소를 갖는 것을  표현한 것으로 이해하시면 됩니다.    \n",
    "####  'Find ($C$, 'x')'  오퍼레이션은 연결요소들의 모임 $C$  에서 노드 'x' 가 속하는 연결 요소의  대표 값(노드)을 찾아 줍니다.  여기서의 구현은 상기 연결 요소 표현을 통해, 노드값을 키로 하고 연결된 노드를 값으로 하는 아이템으로 하는 딕셔너리 로  연결 노드를 계속 추적해나가서, 자기 자신 값을  value 로 갖는 노드를 만나면 바로 이 노드값(노드)을 대표값(노드)으로  하여 돌려 줍니다. \n",
    "####  'Union($C$,  'u', 'v')' 오퍼레이션은  에지 ('u', 'v' ) 를 통해 노드 'u'  가 속하는 연결요소 와  노드  'v' 가 속하는 연결 요소 등 2개의 연결요소를 하나의  연결요소로 합칩니다. "
   ]
  },
  {
   "cell_type": "code",
   "execution_count": 33,
   "metadata": {},
   "outputs": [],
   "source": [
    "def naive_find(C, u): # 연결요소(여기서는 트리)의 대표 값(노드) 출력 .\n",
    "    while C[u] != u: # 현재 노드 'u' 의 대표값이 자기 자신이 아니면, \n",
    "        u = C[u]     # 현재 노드 'u' 에 연결된 노드값 을 추적하여 노드  'u'가  속하는 연결 요소의 대표값 찾음(자신 자신이 대표값인 경우)\n",
    "    return u\n",
    "\n",
    "def naive_union(C, u, v): # \"u\" 와  \"v\" 가 각각 속하는 연결요소들을 하나로 합하여 하나의 연결 요소로 만듬 \n",
    "    u = naive_find(C, u) # 각 연결 요소의 대표 노드를  찾음\n",
    "    v = naive_find(C, v) # 각 연결 요소의 대표값을 찾음\n",
    "    C[u] = v # 2개의 대표값을 Make one refer to the other"
   ]
  },
  {
   "cell_type": "code",
   "execution_count": 34,
   "metadata": {},
   "outputs": [
    {
     "name": "stdout",
     "output_type": "stream",
     "text": [
      "CCS={'A': 'A', 'B': 'B', 'C': 'C'}, naive_find(CCS, A)=A, naive_find(CCS, B)=B, naive_find(CCS, C)=C\n",
      "After naive_union(CCs, 'C', 'B'), CCs ={'A': 'A', 'B': 'B', 'C': 'B'} \n"
     ]
    }
   ],
   "source": [
    "CCs={'A':'A', 'B':'B', 'C':'C' }\n",
    "print(\"CCS={}, naive_find(CCS, {})={}, naive_find(CCS, {})={}, naive_find(CCS, {})={}\".format(CCs, 'A', naive_find(CCs, 'A'), 'B', naive_find(CCs, 'B'),'C', naive_find(CCs, 'C')))\n",
    "naive_union(CCs, 'C', 'B')\n",
    "print(\"After naive_union(CCs, 'C', 'B'), CCs ={} \".format(CCs))"
   ]
  },
  {
   "cell_type": "code",
   "execution_count": 35,
   "metadata": {},
   "outputs": [],
   "source": [
    "def kruskal(G):\n",
    "    E = [(w,u,v) for u in G for v, w in G[u] if u <=v ]  #E ; (가중치, 시작노드, 종단노드) 로 구성된 에지들을   갖는 에지 리스트     \n",
    "    T = list() # T ; MST\n",
    "    Forest = {u:u for u in G} # 처음 각 노드를 독립 에지 로 하는 트리들로 구성된 Forest 형성\n",
    "    for w, u, v in sorted(E): # 에지는 가중치로 정렬하고 정렬된 모든 에지 들에 대해  for loop 반복        \n",
    "        if naive_find(Forest, u) != naive_find(Forest, v):  ## \"u\" 와  \"v\" 가 각각 속하는 연결요소들이 연결되어 있는 지 점검.              \n",
    "            T.append((u, v, w)) # MST 리스트에 에지 추가\n",
    "            naive_union(Forest, u, v) # 에지 ('u', 'v') 추기에 따라, 노드 'u' 와 노드 'v' 각각이 속한 2개 연결 요소들을  하나의 연결 요소로 \n",
    "                                      #통합\n",
    "        if len(T)==len(G)-1:\n",
    "            break\n",
    "    return T"
   ]
  },
  {
   "cell_type": "markdown",
   "metadata": {},
   "source": [
    "#### 이제,  [그림 1] 그래프에 대해,   상기 Kruskal MST 알고리즘 적용을 살펴 보기로 합시다.¶\n",
    "![Altext](./fig15-graph.png)"
   ]
  },
  {
   "cell_type": "code",
   "execution_count": 36,
   "metadata": {},
   "outputs": [
    {
     "data": {
      "text/plain": [
       "[('B', 'L', 115),\n",
       " ('L', 'S', 125),\n",
       " ('B', 'N', 145),\n",
       " ('F', 'L', 220),\n",
       " ('E', 'F', 450)]"
      ]
     },
     "execution_count": 36,
     "metadata": {},
     "output_type": "execute_result"
    }
   ],
   "source": [
    "kruskal(graph1)"
   ]
  },
  {
   "cell_type": "markdown",
   "metadata": {},
   "source": [
    "![Alttext](fig15-2.png)"
   ]
  },
  {
   "cell_type": "markdown",
   "metadata": {},
   "source": [
    "#### 아래 교재 PPT 자료의 그림 오른쪽에 대해 Krusal MST 알고리리즘을 적용하여 그림 왼쪽을 얻는것을 확인해봅시다. "
   ]
  },
  {
   "cell_type": "markdown",
   "metadata": {},
   "source": [
    "![Alttext](fig15-Kruskal_sol.jpg)"
   ]
  },
  {
   "cell_type": "code",
   "execution_count": 37,
   "metadata": {},
   "outputs": [],
   "source": [
    "graph3= {'A': [['B', 4], ['D', 1]],\n",
    "     'B': [['A', 4], ['C',4], ['D', 4], ['J', 10]],\n",
    "     'C': [['B', 4], ['E', 2], ['F', 1]],\n",
    "     'D': [['A', 1], ['B', 4], ['H', 5],['J', 6]],\n",
    "     'E': [['C', 2],['G', 2]],\n",
    "     'F': [['C', 1],['G', 3],['I', 5]],\n",
    "     'G': [['E', 2], ['F', 3],['I', 3], ['J', 4]],\n",
    "     'H': [['D', 5],['J', 2]],  \n",
    "     'I': [['F', 5],['G', 3],['J', 3]],\n",
    "     'J': [['B', 10], ['D', 6],['G', 4],['H', 2],['I', 3]]}"
   ]
  },
  {
   "cell_type": "code",
   "execution_count": 38,
   "metadata": {},
   "outputs": [
    {
     "data": {
      "text/plain": [
       "[('A', 'D', 1),\n",
       " ('C', 'F', 1),\n",
       " ('C', 'E', 2),\n",
       " ('E', 'G', 2),\n",
       " ('H', 'J', 2),\n",
       " ('G', 'I', 3),\n",
       " ('I', 'J', 3),\n",
       " ('A', 'B', 4),\n",
       " ('B', 'C', 4)]"
      ]
     },
     "execution_count": 38,
     "metadata": {},
     "output_type": "execute_result"
    }
   ],
   "source": [
    "kruskal(graph3)"
   ]
  },
  {
   "cell_type": "markdown",
   "metadata": {},
   "source": [
    "## 실습 1\n",
    "###  상기 [그림 1] 의 그래프에 대해  \"networkx'  파이썬 패키지를 사용하여 Prim 및 Kruskal 알고리즘 기반 MST 를 각각구해 보고, 그 결과가 앞의 알고리즘들을 적용한 결과와 같음을 살펴보시오."
   ]
  },
  {
   "cell_type": "markdown",
   "metadata": {},
   "source": [
    "![Alttext](fig15-graph.png)"
   ]
  },
  {
   "cell_type": "markdown",
   "metadata": {},
   "source": [
    "## 실습 2.  "
   ]
  },
  {
   "cell_type": "markdown",
   "metadata": {},
   "source": [
    "### 실습 2.  상기 [그림 3] 의 그래프에 대해  \"networkx'  파이썬 패키지를 사용하여 Prim 및 Kruskal 알고리즘 기반 MST 를 각각구해 보고, 그 결과가 앞의 알고리즘들을 적용한 결과와 같음을 살펴보시오."
   ]
  },
  {
   "cell_type": "markdown",
   "metadata": {},
   "source": [
    "![Alttext](fig15-prim_ex.png)"
   ]
  }
 ],
 "metadata": {
  "kernelspec": {
   "display_name": "Python 3.9.12 ('base')",
   "language": "python",
   "name": "python3"
  },
  "language_info": {
   "codemirror_mode": {
    "name": "ipython",
    "version": 3
   },
   "file_extension": ".py",
   "mimetype": "text/x-python",
   "name": "python",
   "nbconvert_exporter": "python",
   "pygments_lexer": "ipython3",
   "version": "3.9.12"
  },
  "vscode": {
   "interpreter": {
    "hash": "d53987ecb595d47b858fb20818fc57333593e153a0e3e1d0f7ed0487b17d3604"
   }
  }
 },
 "nbformat": 4,
 "nbformat_minor": 2
}
