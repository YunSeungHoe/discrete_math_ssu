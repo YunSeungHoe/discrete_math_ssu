{
 "cells": [
  {
   "cell_type": "markdown",
   "metadata": {},
   "source": [
    "#이산 수학 중간 고사.  <br>\n",
    "$~~~~~~~~~~~~~~~~~~~~~~~~~~~~~~~~~~~~~~~~~~~~~~~~~~~~~~~~~~~~~~~~~~~~~~~~~~~~~~~~~$ 2019.10.28.<br>\n",
    "다음의 문제들을 jupyter notebook 파일에 풀어 '학번(영문명).ipynb' 로 스마트 캠퍼스에 올리시오.<br>"
   ]
  },
  {
   "cell_type": "markdown",
   "metadata": {},
   "source": [
    "1(25).  정수 list 와 정수 x 가 주어졌을 때,  1) 해당 정수 x 가 주어진 정수 list에 있으면 처음 나타나는 위치가 몇번째 요소 인지 와 이때 까지의 총 몇번 비교했는 지의 총 비교 연산 횟수를<br> 리턴하고, 2)그러지 않으면, \"찾을 수없다.\"  라는 문자열과 총 비교 연산 횟수를 출력하는 프로그램을 파이썬으로 구현하고자 한다.   <br>\n",
    "출력은 다음 에시처럼 되어야 함;  <br>\n",
    "1) [2,5,9,3,4] 에서 3을 찾는 경우 ; '총 비교 획수는= 4 번이며, 해당 정수 3는(은) 주어진 리스트의  4번째 있다.' <br>\n",
    "2) [2,5,9,3,4] 에서 7을 찾는 경우 ; '총 비교 획수는= 5 번이며, 해당 요소 7는(은) 주어진 리스트에서 찾을 수없다.' <br>"
   ]
  },
  {
   "cell_type": "markdown",
   "metadata": {},
   "source": [
    "### (a)(10). 반복적인(iterative) 방법을 사용하여 구현하여 보시오.  "
   ]
  },
  {
   "cell_type": "code",
   "execution_count": 2,
   "metadata": {},
   "outputs": [],
   "source": [
    "def lin_search(lst, x):\n",
    "    ls=list(lst)\n",
    "    for i in range(len(lst)):\n",
    "        if ls[i] == x:\n",
    "            return print('총 비교 획수는 = {}번이며, 해당 요소 {}는(은) 주어진 리스트의 {}번째에 처음 나타난다.'.format(i+1, x, i+1))\n",
    "    return print('총 비교 획수는 {}번이며, 해당 요소 {}는(은) 주어진 리스트에서 찾을 수없다.'.format(i+1, x))"
   ]
  },
  {
   "cell_type": "code",
   "execution_count": 3,
   "metadata": {},
   "outputs": [
    {
     "name": "stdout",
     "output_type": "stream",
     "text": [
      "총 비교 획수는 = 3번이며, 해당 요소 3는(은) 주어진 리스트의 3번째에 처음 나타난다.\n"
     ]
    }
   ],
   "source": [
    "lst=[5,9,3,4,7,9,3]\n",
    "x=3\n",
    "lin_search(lst,x)"
   ]
  },
  {
   "cell_type": "markdown",
   "metadata": {},
   "source": [
    "### b(10). 주어진 정수 리스트를 왼쪽 반, 오른쪽 반으로 분할하여 각 분할에서  탐색하도록 지원하는 재귀적(recursive) 방법으로 구현하여 보시오.  찾을 수없으면, \"찾을 수없다.\"  라는 스트링을 출력하여야 함. "
   ]
  },
  {
   "cell_type": "code",
   "execution_count": 3,
   "metadata": {},
   "outputs": [],
   "source": [
    "def lin_srh_r(lst, x, n): \n",
    "    global found\n",
    "    if len(lst)==1:\n",
    "        if lst[0]==x:\n",
    "            found=True\n",
    "            return print('해당 요소 {}는(은) 주어진 리스트의  {}번째에 처음 나타난다.'.format(x, n+1))\n",
    "        else: return -1     \n",
    "    \n",
    "    m=len(lst)//2\n",
    "\n",
    "    left=lst[:m] # 왼쪽 리스트 구성 \n",
    "    right=lst[m:] # 오른쪽 리스트 구성 \n",
    "    \n",
    "    \n",
    "    l=lin_srh_r(left, x, n) # 왼쪽 리스트에서 찾음 \n",
    "    if l!=None and l>=0:\n",
    "        return l\n",
    "    if found==False:\n",
    "        r=lin_srh_r(right, x, n+m) # 오른쪽 리스트에서 찾음  \n",
    "        if r!=None and r>=0:\n",
    "            return r  \n",
    "    \n",
    "    return -1  \n",
    "\n",
    "def lin_Recur_serach(list, x, n):# lst; 정수 리스트, x ; 찾고자하는 정수, n; 찾는 리스트의 시작 위치     \n",
    "    initial=0    \n",
    "    ans= lin_srh_r(lst, x, n) \n",
    "    if ans!=None and ans >=0:\n",
    "        return \n",
    "    \n",
    "    elif found==False:        \n",
    "        return print(\"찾을 수없다.\")\n",
    "        "
   ]
  },
  {
   "cell_type": "code",
   "execution_count": 4,
   "metadata": {},
   "outputs": [
    {
     "name": "stdout",
     "output_type": "stream",
     "text": [
      "해당 요소 9는(은) 주어진 리스트의  2번째에 처음 나타난다.\n"
     ]
    }
   ],
   "source": [
    "lst=[2,9,9,4,7,8,5]\n",
    "x=9\n",
    "found=False\n",
    "lin_Recur_serach(lst,x, 0)"
   ]
  },
  {
   "cell_type": "markdown",
   "metadata": {},
   "source": [
    "### c(5).  0부터 6 까지의 정수중 랜덤하게 생성하여 만든 열개 정수 리스트에 대해(예; [1,4,2,3,4,5,6,0,2,5]), '5' 가 있으면 처음 나타나는 것은 어느 위치에 있는 지를 상기 문제 (a)와 (b)에서 만든 파이썬 함수를 이용하여 점검하는 파이썬 코드를 작성하여 보시오. "
   ]
  },
  {
   "cell_type": "code",
   "execution_count": 5,
   "metadata": {},
   "outputs": [
    {
     "name": "stdout",
     "output_type": "stream",
     "text": [
      "[1, 1, 1, 4, 0, 6, 2, 2, 3, 5]\n"
     ]
    }
   ],
   "source": [
    "from random import *\n",
    "x=5\n",
    "lst=[]\n",
    "for i in range(0,10):\n",
    "    lst.append(randint(0,6))\n",
    "print(lst)\n",
    "\n"
   ]
  },
  {
   "cell_type": "code",
   "execution_count": 6,
   "metadata": {},
   "outputs": [
    {
     "name": "stdout",
     "output_type": "stream",
     "text": [
      "총 비교 획수는= 10번이며, 해당 요소 5는(은) 주어진 리스트의  10번째에 처음 나타난다.\n"
     ]
    }
   ],
   "source": [
    "lin_search(lst, x)"
   ]
  },
  {
   "cell_type": "code",
   "execution_count": 7,
   "metadata": {},
   "outputs": [
    {
     "name": "stdout",
     "output_type": "stream",
     "text": [
      "해당 요소 5는(은) 주어진 리스트의  10번째에 처음 나타난다.\n"
     ]
    }
   ],
   "source": [
    "found=False\n",
    "lin_Recur_serach(lst,x, 0)"
   ]
  },
  {
   "cell_type": "markdown",
   "metadata": {},
   "source": [
    "## 2(30). 다음을 푸시오. "
   ]
  },
  {
   "cell_type": "markdown",
   "metadata": {},
   "source": [
    "### (a)(5) n 개의 주어진 정수 $(a_1, a_2, ...., a_n )$ 에 대해 합, 평균, 분산을 계산하는 파이썬 함수 코드를 작성하시오. \n",
    "####  n 개의 주어진 정수 $(a_1, a_2, ...., a_n )$ 의 분산(variance) $\\sigma^2$ 은 평균을 $m(:=\\frac{\\sum_{i=1}^{i=n} a_i}{n}  )$ 이라 할 때, $\\sigma^2:=\\frac{\\sum_{i=1}^{i=n} { (a_i -m)^2 }}{n} $ 로 정의된다. \n",
    "#### 주의; 파이썬 코드내에서 파이썬 내장 명령어 또는 'numpy' 등의  함수  사용은 허용이 안됨. "
   ]
  },
  {
   "cell_type": "code",
   "execution_count": 8,
   "metadata": {},
   "outputs": [],
   "source": [
    "def sum(my_list):\n",
    "    total = 0\n",
    "    for grade in my_list: \n",
    "        total += grade\n",
    "    return total\n",
    "\n",
    "def average(my_list):    \n",
    "    average = sum(my_list)/len(my_list)\n",
    "    return average\n",
    "\n",
    "def variance(my_list):\n",
    "    variance = 0\n",
    "    avg=average(my_list)\n",
    "    for i in range(len(my_list)):\n",
    "        variance += (avg - my_list[i]) ** 2\n",
    "    return variance/len(my_list)"
   ]
  },
  {
   "cell_type": "markdown",
   "metadata": {},
   "source": [
    "### (b)(5)  a=(9,3,7,9,2,5,8)에 대해 (a)에서 코딩한 평균 및 분산값 구하는 파이썬  함수를 적용하여 보시오. "
   ]
  },
  {
   "cell_type": "code",
   "execution_count": 9,
   "metadata": {},
   "outputs": [
    {
     "name": "stdout",
     "output_type": "stream",
     "text": [
      "6.142857142857143\n",
      "6.979591836734694\n"
     ]
    }
   ],
   "source": [
    "a=(9,3,7,9,2,5,8)\n",
    "print(average(a))\n",
    "print(variance(a))"
   ]
  },
  {
   "cell_type": "markdown",
   "metadata": {},
   "source": [
    "#### 'numpy' 모듈 사용 결과와 비교"
   ]
  },
  {
   "cell_type": "code",
   "execution_count": 10,
   "metadata": {},
   "outputs": [
    {
     "name": "stdout",
     "output_type": "stream",
     "text": [
      "6.142857142857143\n",
      "6.979591836734694\n"
     ]
    }
   ],
   "source": [
    "from numpy import *\n",
    "a=array([9,3,7,9,2,5,8])\n",
    "print(a.mean())\n",
    "print(a.var())"
   ]
  },
  {
   "cell_type": "markdown",
   "metadata": {},
   "source": [
    "### (c)(5)  정수 리스트  a=(9,3,7,9,2,5,8) 의 분산을 파이썬의 map, reduce 함수를 이용하여 구하는 코드를 작성해보시오. "
   ]
  },
  {
   "cell_type": "code",
   "execution_count": 11,
   "metadata": {},
   "outputs": [
    {
     "data": {
      "text/plain": [
       "6.979591836734694"
      ]
     },
     "execution_count": 11,
     "metadata": {},
     "output_type": "execute_result"
    }
   ],
   "source": [
    "from functools import *\n",
    "a=(9,3,7,9,2,5,8)\n",
    "reduce(lambda x,y:x+y, map(lambda x:(x-reduce(lambda x,y:x+y, a)/len(a))**2, a))/len(a)"
   ]
  },
  {
   "cell_type": "markdown",
   "metadata": {},
   "source": [
    "### 상기 분산을 정의하는 식 $\\sigma^2:=\\frac{\\sum_{i=1}^{i=n} { (a_i -m)^2 }}{n} $는 다음과 같이 고쳐 쓸 수있다,\n",
    "$\\sigma^2:=\\frac{\\sum_{i=1}^{i=n}a_i^2- \\frac{(\\sum_{i=1}^{i=n}a_i)^2}{n}}{n} $    \n",
    "이를 이용하는 분산 계산 pseudocode 는 다음과 같다.   \n",
    " \n",
    "Let n ← 0, Sum ← 0, SumSq ← 0  \n",
    "For each datum x:  \n",
    "n ← n + 1  \n",
    "Sum ← Sum + x  \n",
    "SumSq ← SumSq + x × x  \n",
    "Var = (SumSq − (Sum × Sum) / n)/n  "
   ]
  },
  {
   "cell_type": "markdown",
   "metadata": {},
   "source": [
    "### (d)(5) 상기 pseudocode 기반으로 주어진 리스트의 분산을 계산하는 파이썬 함수 코드를 작성하고, 이를 이용하여 정수 리스트  a=(9,3,7,9,2,5,8) 의 분산을 계산해 보시오."
   ]
  },
  {
   "cell_type": "code",
   "execution_count": 12,
   "metadata": {},
   "outputs": [],
   "source": [
    "def variance2(my_list):\n",
    "    Sum=0\n",
    "    SumSq=0\n",
    "    n= len(my_list)\n",
    "    for i in range(n):\n",
    "        Sum+=my_list[i]\n",
    "        SumSq+=my_list[i]*my_list[i]\n",
    "    return (SumSq-Sum*Sum/n)/n    "
   ]
  },
  {
   "cell_type": "code",
   "execution_count": 13,
   "metadata": {},
   "outputs": [
    {
     "data": {
      "text/plain": [
       "6.9795918367346905"
      ]
     },
     "execution_count": 13,
     "metadata": {},
     "output_type": "execute_result"
    }
   ],
   "source": [
    "a=(9,3,7,9,2,5,8)\n",
    "variance2(a)"
   ]
  },
  {
   "cell_type": "markdown",
   "metadata": {},
   "source": [
    "### (e)(10) 상기 pseudocode 에서 'Sum ← Sum + x' 은 n 개 정수 $a_1 , a_2, \\cdots , a_n $ 에 대해 \n",
    " $~~~~~~~~~~~ \\sum_{i=1}^{i=n}a_i $ 을   \n",
    " ### 'SumSq ← SumSq + x × x ' 은  n 개 정수 $a_1 , a_2, \\cdots , a_n $ 에 대해   \n",
    " $~~~~~~~~~~~ \\sum_{i=1}^{i=n}a_i^2 $ 을  \n",
    " ###  각각 의미한다. 'Sum ← Sum + x' 와 'SumSq ← SumSq + x × x ' 를 구현하는 파이썬 재귀함수를 구현하고 이 구현 함수를 이용하여 리스트  a=(9,3,7,9,2,5,8) 의 분산을 계산해 보시오."
   ]
  },
  {
   "cell_type": "code",
   "execution_count": 14,
   "metadata": {},
   "outputs": [],
   "source": [
    "def Sum(my_list):\n",
    "    lst=list(my_list) \n",
    "    last=0\n",
    "    if len(lst)==1:\n",
    "        return lst[0]\n",
    "    else:\n",
    "        last=lst.pop()\n",
    "        return last+Sum(lst) \n",
    "    \n",
    "def SumSq(my_list):\n",
    "    lst=list(my_list) \n",
    "    last=0\n",
    "    if len(lst)==1:\n",
    "        return lst[0]*lst[0]\n",
    "    else:\n",
    "        last=lst.pop()\n",
    "        return last*last+SumSq(lst)  \n",
    "\n",
    "def variance3(my_list): \n",
    "    n= len(my_list)\n",
    "    Sum(my_list)\n",
    "    print(Sum(my_list))\n",
    "    SumSq(my_list)   \n",
    "    print(SumSq(my_list))\n",
    "    return (SumSq(my_list)-Sum(my_list)*Sum(my_list)/n)/n    "
   ]
  },
  {
   "cell_type": "code",
   "execution_count": 15,
   "metadata": {},
   "outputs": [
    {
     "name": "stdout",
     "output_type": "stream",
     "text": [
      "43\n",
      "313\n"
     ]
    },
    {
     "data": {
      "text/plain": [
       "6.9795918367346905"
      ]
     },
     "execution_count": 15,
     "metadata": {},
     "output_type": "execute_result"
    }
   ],
   "source": [
    "a=(9,3,7,9,2,5,8)\n",
    "variance3(a)"
   ]
  },
  {
   "cell_type": "markdown",
   "metadata": {},
   "source": [
    "## 3(25).\n",
    "### (a)(5) 거스름돈을 100원짜리 동전, 50원짜리 동전, 10원짜리 동전, 1원짜리 동전 으로 돌려 줄려고 한다. 주어진 거스름 돈 n원을 에 대해서, 거슬려 줄 돈의 동전 갯수가 최소로 하는 각 동전의 갯수는 몇개 인가를 알려주는 파이썬 코드를 작성해 보시오.  \n",
    "#### (거스름 돈이 n 원일때, 화면 출력과 다음과 같이 되도록 하시오; \n",
    "\n",
    "주어진 거스름 돈 n원에 대해 거슬러 줄 최소 동전 갯수 p 개이며, 이 때;  \n",
    " 100원 동전 갯수는 x개  \n",
    "  50원 동전 갯수는 y개  \n",
    "  10원 동전 갯수는 z개  \n",
    "   1원 동전 갯수는 w개   \n",
    "####   )"
   ]
  },
  {
   "cell_type": "code",
   "execution_count": 16,
   "metadata": {},
   "outputs": [],
   "source": [
    "def change(c, n):\n",
    "    c.sort()\n",
    "    c.reverse()\n",
    "    d=[0]*len(c)\n",
    "    total_count=0\n",
    "    tmp=n\n",
    "    for k in range (len(c)):\n",
    "        while tmp >= c[k]:\n",
    "            d[k]+=1\n",
    "            tmp-=c[k]     \n",
    "        total_count+=d[k]        \n",
    "    print(\"주어진 거스름 돈 %d원에 대해 거슬러 줄 최소 동전 갯수는 %d개이며, 이 때;\" %(n,total_count))  \n",
    "    for k in range (len(c)):\n",
    "        print(\"%d원 동전 갯수는 %d개\" %(c[k], d[k]) )            "
   ]
  },
  {
   "cell_type": "code",
   "execution_count": 17,
   "metadata": {},
   "outputs": [
    {
     "name": "stdout",
     "output_type": "stream",
     "text": [
      "주어진 거스름 돈 441원에 대해 거슬러 줄 최소 동전 갯수는 9개이며, 이 때;\n",
      "100원 동전 갯수는 4개\n",
      "50원 동전 갯수는 0개\n",
      "10원 동전 갯수는 4개\n",
      "1원 동전 갯수는 1개\n"
     ]
    }
   ],
   "source": [
    "c=[10,1,50, 100]\n",
    "change(c, 441)"
   ]
  },
  {
   "cell_type": "markdown",
   "metadata": {},
   "source": [
    "### (b)(5). 0 에서 1000 사이의 수를 랜덤으로 5개 골라서, (a)에서 작성한 파이썬 함수를 이용하여 이 5개 거스름 돈에 대해 각 동전의 갯수를 출력해 보시오."
   ]
  },
  {
   "cell_type": "code",
   "execution_count": 18,
   "metadata": {},
   "outputs": [
    {
     "name": "stdout",
     "output_type": "stream",
     "text": [
      "주어진 거스름 돈 502원에 대해 거슬러 줄 최소 동전 갯수는 7개이며, 이 때;\n",
      "100원 동전 갯수는 5개\n",
      "50원 동전 갯수는 0개\n",
      "10원 동전 갯수는 0개\n",
      "1원 동전 갯수는 2개\n",
      "주어진 거스름 돈 297원에 대해 거슬러 줄 최소 동전 갯수는 14개이며, 이 때;\n",
      "100원 동전 갯수는 2개\n",
      "50원 동전 갯수는 1개\n",
      "10원 동전 갯수는 4개\n",
      "1원 동전 갯수는 7개\n",
      "주어진 거스름 돈 957원에 대해 거슬러 줄 최소 동전 갯수는 17개이며, 이 때;\n",
      "100원 동전 갯수는 9개\n",
      "50원 동전 갯수는 1개\n",
      "10원 동전 갯수는 0개\n",
      "1원 동전 갯수는 7개\n",
      "주어진 거스름 돈 292원에 대해 거슬러 줄 최소 동전 갯수는 9개이며, 이 때;\n",
      "100원 동전 갯수는 2개\n",
      "50원 동전 갯수는 1개\n",
      "10원 동전 갯수는 4개\n",
      "1원 동전 갯수는 2개\n",
      "주어진 거스름 돈 987원에 대해 거슬러 줄 최소 동전 갯수는 20개이며, 이 때;\n",
      "100원 동전 갯수는 9개\n",
      "50원 동전 갯수는 1개\n",
      "10원 동전 갯수는 3개\n",
      "1원 동전 갯수는 7개\n"
     ]
    }
   ],
   "source": [
    "from random import *\n",
    "c=[10,1,50, 100]\n",
    "lst=sample(range(0, 1000), 5)\n",
    "for n in lst:\n",
    "    change(c,n)"
   ]
  },
  {
   "cell_type": "markdown",
   "metadata": {},
   "source": [
    "### (c)(15).  거스름돈을 100원짜리 동전, 50원짜리 동전, 10원짜리 동전, 1원짜리 동전 으로 돌려 줄려고 한다. 거스름 돈 n원에 대해서,  거슬러 주는 경우의 수를  $C(n)$ 이라 하자.  이때, 점화식(recursive relation)를 구하시오. \n",
    "#### (동전의 순서는 고려하지 않는다. 즉, 11원은 1원짜리 11개 또는 10원 짜리 1개 1원 짜리 1개로 총 2가지 경우가 있다.)"
   ]
  },
  {
   "cell_type": "markdown",
   "metadata": {},
   "source": [
    "$C(n)$ 을 거스름돈 $n$ 원 을 100원짜리, 50원짜리, 10원짜리 동전, 1원짜리 동전 조합으로 거슬러 주는 경우 수라 하자. \n",
    "$D50(n)$ 을 거스름돈 $n$ 원 을 50원짜리, 10원짜리 동전, 1원짜리 동전 조합으로 거슬러 주는 경우 수라 하자. \n",
    "$E10(n)$ 을 거스름돈 $n$ 원 을 10원짜리 동전, 1원짜리 동전 조합으로 거슬러 주는 경우 수라 하자. \n",
    "\n",
    "이때,  $E10(n)=E10(n-10)+1 $ 의 점화식 및 초기조건 $E10(9)=E10(8)=...E10(1)=E10(0)=1, E10(n)=0 if n < 0 $을 만족한다.   \n",
    "또한, $D50(n)=D50(n-50)+E10(n) $ 점화식 및 조건 $D50(n)=0 if n < 0 $을  만족한다.   \n",
    "한편 $C(n)=C(n-100)+D50(n) $ 점화식 및 조건 $C(n)=0 if n < 0 $을 만족한다.   \n",
    " \n"
   ]
  },
  {
   "cell_type": "code",
   "execution_count": 19,
   "metadata": {},
   "outputs": [],
   "source": [
    "def E10(n): #   거스름돈 n 원을 10원짜리 동전, 1원짜리 동전 조합으로 거슬러 주는 경우 수\n",
    "    if n < 0:\n",
    "        return 0\n",
    "    elif 0<= n <= 9:           \n",
    "        return 1\n",
    "    else:        \n",
    "        return E10(n-10)+1\n",
    "\n",
    "def D50(n): # 거스름돈 n 원 을 50원짜리, 10원짜리 동전,1원짜리 동전 조합으로 거슬러 주는 경우 수   \n",
    "    if n < 0:\n",
    "        return 0\n",
    "    else:        \n",
    "        return D50(n-50)+E10(n)    \n",
    "\n",
    "def C(n): #거스름돈 n 원 을 100원짜리, 50원 짜리, 10원짜리 동전, 1원짜리 동전 조합으로 거슬러 주는 경우 수   \n",
    "    if n < 0:\n",
    "        return 0\n",
    "    else:        \n",
    "        return C(n-100)+D50(n)    "
   ]
  },
  {
   "cell_type": "code",
   "execution_count": 20,
   "metadata": {},
   "outputs": [
    {
     "name": "stdout",
     "output_type": "stream",
     "text": [
      "E10(91)= 10\n",
      "D50(91)= 15\n",
      "C(91)= 15\n"
     ]
    }
   ],
   "source": [
    "print(\"E10(91)=\", E10(91))\n",
    "print(\"D50(91)=\", D50(91))\n",
    "print(\"C(91)=\", C(91))"
   ]
  },
  {
   "cell_type": "code",
   "execution_count": 21,
   "metadata": {},
   "outputs": [
    {
     "data": {
      "text/plain": [
       "19"
      ]
     },
     "execution_count": 21,
     "metadata": {},
     "output_type": "execute_result"
    }
   ],
   "source": [
    "C(100)"
   ]
  },
  {
   "cell_type": "code",
   "execution_count": 22,
   "metadata": {},
   "outputs": [
    {
     "name": "stdout",
     "output_type": "stream",
     "text": [
      "E10(191)= 20\n",
      "D50(141)= 30\n",
      "D50(191)= 50\n",
      "D50(91)= 15\n",
      "C(191)= 65\n"
     ]
    }
   ],
   "source": [
    "print(\"E10(191)=\", E10(191))\n",
    "print(\"D50(141)=\", D50(141))\n",
    "print(\"D50(191)=\", D50(191))\n",
    "print(\"D50(91)=\", D50(91))\n",
    "print(\"C(191)=\", C(191))"
   ]
  },
  {
   "cell_type": "markdown",
   "metadata": {},
   "source": [
    "## 4(20). 처음에  $n = 2^k$ 팀이 있다고 한다. 이  ' n' 개 팀이 리그로 경기하여(즉, 모두 1번씩 다른 팀들과 게임한다.) 이 때, 승수가 적은 하위 $n/2$ 팀이 탈락하고, 승수가 많은  상위 $n/2$ 팀이 다음 라운드에 진출한다고 한다.   탈락되지 않고 남은 팀이 1팀이 될 때까지 남은 팀끼리 리그 경기를 계속한다고  한다고 한다.  "
   ]
  },
  {
   "cell_type": "markdown",
   "metadata": {},
   "source": [
    "### (a)(5). 이러한 리그  경기에서 경기수를 계산하는 점화식(recurrence relation)를 구하시오."
   ]
  },
  {
   "cell_type": "markdown",
   "metadata": {},
   "source": [
    "#### (sol) n 개의 팀이 있을 때,  총 게임의 수를 R(n) 이라 하자. \n",
    "#### 그러면,  $R(n)= nC_2 + R(n/2)=n(n-1)/2+ R(n/2)$"
   ]
  },
  {
   "cell_type": "markdown",
   "metadata": {},
   "source": [
    "### (b)(5). 처음에 16개 팀이 있으면, 총 몇 게임이 진행되는 가?"
   ]
  },
  {
   "cell_type": "markdown",
   "metadata": {},
   "source": [
    "#### (sol) 16 개의 팀이 있을 때,  $16=2^4 $ 이므로, $k=4$ . \n",
    "#### 그러면,  $R(n)= R(n/2)+n(n-1)/2$ 이므로, $R(16)=16*15/2 +R(8)=16*15/2+8*7/2+R(4)=16*15/2+8*7/2+4*3/2 +R(2)=16*15/2+8*7/2+4*3/2 +1=155 $. 155번. "
   ]
  },
  {
   "cell_type": "markdown",
   "metadata": {},
   "source": [
    "### (c)(5). 상기 점화식을 이용하여 총 경기수를 계산하는 파이썬 함수를 코딩하시오. 이를 이용하여 16 개 팀인 경우에 총 게임수는 (b)에서 게산한 것과 같음을 보이시오. "
   ]
  },
  {
   "cell_type": "code",
   "execution_count": 23,
   "metadata": {},
   "outputs": [],
   "source": [
    "def power_2(n):   \n",
    "    if n==1:\n",
    "        return True \n",
    "    elif n <= 0 or n%2==1:\n",
    "        return False\n",
    "    else:  \n",
    "        return power_2(n//2)"
   ]
  },
  {
   "cell_type": "code",
   "execution_count": 24,
   "metadata": {},
   "outputs": [
    {
     "data": {
      "text/plain": [
       "True"
      ]
     },
     "execution_count": 24,
     "metadata": {},
     "output_type": "execute_result"
    }
   ],
   "source": [
    "power_2(16)"
   ]
  },
  {
   "cell_type": "code",
   "execution_count": 25,
   "metadata": {},
   "outputs": [],
   "source": [
    "def power_2(n):\n",
    "    if n==1:\n",
    "        return True \n",
    "    elif n <= 0 or n%2==1:\n",
    "        return False\n",
    "    else:\n",
    "        return power_2(n//2)\n",
    "\n",
    "def League(n):\n",
    "    if not power_2(n):\n",
    "        print(\" please take n as power of 2\") \n",
    "    if n==0:\n",
    "        return 0 \n",
    "    if 1<= n <=2 : \n",
    "        return 1\n",
    "    return int(n*(n-1)/2 + League(n/2))"
   ]
  },
  {
   "cell_type": "code",
   "execution_count": 26,
   "metadata": {},
   "outputs": [
    {
     "data": {
      "text/plain": [
       "155"
      ]
     },
     "execution_count": 26,
     "metadata": {},
     "output_type": "execute_result"
    }
   ],
   "source": [
    "League(16)"
   ]
  },
  {
   "cell_type": "markdown",
   "metadata": {},
   "source": [
    "### (d)(5). 상기 점화식을 이용하여 총 경기수 $R(n)$ 이 $ O(n^2 ) $ 임을 보이시오."
   ]
  },
  {
   "cell_type": "markdown",
   "metadata": {},
   "source": [
    "### (해)교과서 Section 8.3 \"Divide-and-Conquer Algorithms and Recurrence Relations\" 의 THEOREM 2 MASTERTHEOREM (532 페이지)(아래 참조),  \n",
    "![Altext](master.png)\n",
    "\n",
    "### $R(𝑛)=𝑛𝐶2+𝑅(𝑛/2)=𝑛(𝑛−1)/2+𝑅(𝑛/2) $ 에서   \n",
    "### $a=1, b=2,  d=2 $ 이므로 $ a=1 < b^d = 2^2 =4 $ \n",
    "### 따라서, 계산량은 $O(n^2) $ 임. \n",
    "\n"
   ]
  }
 ],
 "metadata": {
  "kernelspec": {
   "display_name": "Python 3.9.12 ('base')",
   "language": "python",
   "name": "python3"
  },
  "language_info": {
   "codemirror_mode": {
    "name": "ipython",
    "version": 3
   },
   "file_extension": ".py",
   "mimetype": "text/x-python",
   "name": "python",
   "nbconvert_exporter": "python",
   "pygments_lexer": "ipython3",
   "version": "3.9.12"
  },
  "vscode": {
   "interpreter": {
    "hash": "d53987ecb595d47b858fb20818fc57333593e153a0e3e1d0f7ed0487b17d3604"
   }
  }
 },
 "nbformat": 4,
 "nbformat_minor": 2
}
