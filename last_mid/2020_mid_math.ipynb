{
 "cells": [
  {
   "cell_type": "markdown",
   "metadata": {},
   "source": [
    "## 다음의 문제들을 바로 문제 아래에 파이썬 코드 셀을 삽입하여, 파이썬 코드를 작성하여 제출하시오. 제출시에 \"학번(영문명).ipynb\" 로 파일명을 하여 Smart-campus 에 업로드하시오."
   ]
  },
  {
   "cell_type": "markdown",
   "metadata": {},
   "source": [
    "## 1.  정수 list 와 정수 x 가 주어졌을 때,  1) 해당 정수 x 가 주어진 정수 list에 있으면 처음 나타나는 위치가 몇번째 요소 인지 와 이때 까지의 총 몇번 비교했는 지의 총 비교 연산 횟수를 리턴하고, 2)그러지 않으면, \"찾을 수없다.\"  라는 문자열과 총 비교 연산 횟수를 출력하는 프로그램을 파이썬으로 구현하고자 한다.   \n",
    "### 출력은 다음 에시처럼 되어야 함;  \n",
    "#### 1) [2,5,9,3,4] 에서 3을 찾는 경우 ; '총 비교 획수는= 4 번이며, 해당 정수 3는(은) 주어진 리스트의  4번째 있다.' \n",
    "#### 2) [2,5,9,3,4] 에서 7을 찾는 경우 ; '총 비교 획수는= 5 번이며, 해당 요소 7는(은) 주어진 리스트에서 찾을 수없다.' "
   ]
  },
  {
   "cell_type": "markdown",
   "metadata": {},
   "source": [
    "### (a)(5). 해당 정수를 찾는데, 반복적 방법을 사용하는 경우에 총 비교 연산 횟수에 대한 시간 복잡도를 설명하여 보시오"
   ]
  },
  {
   "cell_type": "markdown",
   "metadata": {},
   "source": [
    "### (해) 정수 리스트의 $n$ 개 요소를 차례로 찾고자하는 정수 x와  비교하여야 하므로, 최대 $n$ 번 비교되어야 한다. 따라서 시간 복잡도는 $O(n)$ 이다. "
   ]
  },
  {
   "cell_type": "markdown",
   "metadata": {},
   "source": [
    "### (b)(5). 상기 문제를 반복적 방법을 사용하여 파이썬으로 코딩하여 보시오.  "
   ]
  },
  {
   "cell_type": "code",
   "execution_count": 12,
   "metadata": {},
   "outputs": [],
   "source": [
    "def lin_search(lst, x):\n",
    "    ls=list(lst)\n",
    "    for i in range(len(lst)):\n",
    "        if ls[i]==x:\n",
    "            return print('총 비교 획수는= {}번이며, 해당 요소 {}는(은) 주어진 리스트의  {}번째 있다.'.format(i+1, x, i+1))\n",
    "    return print('총 비교 획수는 {}번이며, 해당 요소 {}는(은) 주어진 리스트에서 찾을 수없다.'.format(i+1, x))"
   ]
  },
  {
   "cell_type": "code",
   "execution_count": 13,
   "metadata": {},
   "outputs": [
    {
     "name": "stdout",
     "output_type": "stream",
     "text": [
      "총 비교 획수는= 4번이며, 해당 요소 7는(은) 주어진 리스트의  4번째 있다.\n"
     ]
    }
   ],
   "source": [
    "lst=[4,2,3,7,9]\n",
    "lin_search(lst, 7)"
   ]
  },
  {
   "cell_type": "markdown",
   "metadata": {},
   "source": [
    "### (c)(5). 0부터 9 까지의 정수중 6,7,8,9, 10 개를 각각 랜덤하게 생성하여 만든 5개의 정수 리스트들에 대해, '7' 이 나타나는 첫번째 위치를 상기 문제 (b)에서 구한 파이썬 함수를 각각 이용하여 수행하여, 실제 출력되는 총 비교 연산 횟수가 (a)에서 분석한 시간 복잡도와 같은지를 점검하여 보시오. "
   ]
  },
  {
   "cell_type": "code",
   "execution_count": 24,
   "metadata": {},
   "outputs": [
    {
     "name": "stdout",
     "output_type": "stream",
     "text": [
      "[[3, 0, 1, 4, 8, 2], [9, 3, 0, 6, 1, 8, 7], [0, 2, 7, 1, 5, 8, 3, 6], [6, 1, 4, 3, 9, 7, 5, 2, 0], [1, 3, 5, 0, 9, 2, 6, 8, 7, 4]]\n",
      "총 비교 획수는 6번이며, 해당 요소 7는(은) 주어진 리스트에서 찾을 수없다.\n",
      "총 비교 획수는= 7번이며, 해당 요소 7는(은) 주어진 리스트의  7번째 있다.\n",
      "총 비교 획수는= 3번이며, 해당 요소 7는(은) 주어진 리스트의  3번째 있다.\n",
      "총 비교 획수는= 6번이며, 해당 요소 7는(은) 주어진 리스트의  6번째 있다.\n",
      "총 비교 획수는= 9번이며, 해당 요소 7는(은) 주어진 리스트의  9번째 있다.\n"
     ]
    }
   ],
   "source": [
    "from random import *\n",
    "lst=[]\n",
    "for i in range(6,11):\n",
    "    lst.append(sample(range(0,10), i))   \n",
    "print(lst)    \n",
    "for i in range(0,5):    \n",
    "    lin_search(lst[i], 7)"
   ]
  },
  {
   "cell_type": "markdown",
   "metadata": {},
   "source": [
    "### (d)(5). 리스트를 왼쪽 반, 오른쪽 반으로 분할하여 각 분할에서  해당 정수를 탐색하도록 하는 알고리즘('divide and conquer' 방식의 알고리즘) 을 이용하여 상기 문제 1를 재귀적으로 푸는 파이썬 함수를 작성하여 보시오. \n",
    "### 이 때, 내부함수와 함수 클로저를 이용하여 코딩하시오. 외부 함수 파라미터로는 주어진 리스트와 찾고자자 하는 요소 만 전달되며, 출력도 상기 문제 1의 예시처럼 되어야 함. "
   ]
  },
  {
   "cell_type": "code",
   "execution_count": 1,
   "metadata": {},
   "outputs": [],
   "source": [
    "def Div_Con_Search(lst, x):\n",
    "    k=0\n",
    "    def lin_srh_r(lst, x, n): \n",
    "        nonlocal k\n",
    "        if len(lst)==1:\n",
    "            k+=1\n",
    "            if lst[0]==x:            \n",
    "                return k, n+1\n",
    "            else: \n",
    "                return k, -1     \n",
    "        m=len(lst)//2\n",
    "        left=lst[:m]\n",
    "        right=lst[m:]\n",
    "        (count, l)=lin_srh_r(left, x, n)\n",
    "        if l>=0:               \n",
    "            return k, l\n",
    "        (count, r)=lin_srh_r(right, x, n+m)\n",
    "    \n",
    "        if r>=0:\n",
    "            return k, r\n",
    "        return k, -1\n",
    "    \n",
    "    (count, ret)=lin_srh_r(lst, x, 0)\n",
    "   \n",
    "    if ret >=0:\n",
    "            print('총 비교 획수는 {}번이며, 해당 요소 {}는(은) 주어진 리스트 {}의  {}번째 있다.'.format(count, x, lst, ret))\n",
    "    else:\n",
    "        print('총 비교 획수는 {}번이며, 해당 요소 {}는(은) 주어진 리스트 {} 에서 찾을 수없다.'.format(count, x, lst))    "
   ]
  },
  {
   "cell_type": "code",
   "execution_count": 2,
   "metadata": {},
   "outputs": [
    {
     "name": "stdout",
     "output_type": "stream",
     "text": [
      "[[8, 0, 1, 4, 7, 5], [2, 3, 1, 7, 9, 0, 4], [7, 6, 5, 3, 4, 8, 2, 0], [9, 0, 5, 2, 6, 1, 8, 4, 7], [8, 7, 5, 3, 1, 9, 6, 0, 4, 2]]\n",
      "총 비교 획수는 5번이며, 해당 요소 7는(은) 주어진 리스트 [8, 0, 1, 4, 7, 5]의  5번째 있다.\n",
      "총 비교 획수는 4번이며, 해당 요소 7는(은) 주어진 리스트 [2, 3, 1, 7, 9, 0, 4]의  4번째 있다.\n",
      "총 비교 획수는 1번이며, 해당 요소 7는(은) 주어진 리스트 [7, 6, 5, 3, 4, 8, 2, 0]의  1번째 있다.\n",
      "총 비교 획수는 9번이며, 해당 요소 7는(은) 주어진 리스트 [9, 0, 5, 2, 6, 1, 8, 4, 7]의  9번째 있다.\n",
      "총 비교 획수는 2번이며, 해당 요소 7는(은) 주어진 리스트 [8, 7, 5, 3, 1, 9, 6, 0, 4, 2]의  2번째 있다.\n"
     ]
    }
   ],
   "source": [
    "from random import *\n",
    "lst=[]\n",
    "for i in range(6,11):\n",
    "    lst.append(sample(range(0,10), i))   \n",
    "print(lst)    \n",
    "for i in range(0,5):    \n",
    "    Div_Con_Search(lst[i], 7)"
   ]
  },
  {
   "cell_type": "markdown",
   "metadata": {},
   "source": [
    "### (e)(5). $f(n)$ 을 리스트의 요소 갯수가 $n$ 일 때의 상기  'divide and conquer' 알고리즘에서의 비교 연산 횟수라 할 때, 이의 재귀 관계식을 구해보시오."
   ]
  },
  {
   "cell_type": "markdown",
   "metadata": {},
   "source": [
    "### 재귀 관계식은 , $f(n)=f(n//2)+f(n-n//2)$ . \n"
   ]
  },
  {
   "cell_type": "markdown",
   "metadata": {},
   "source": [
    "### (f)(5). (d)에서 구한, 재귀 관계식을 이용하여 상기  'divide and conquer' 알고리즘에서의 비교 연산 횟수에 대한 시간 복잡도를 설명하여 보시오"
   ]
  },
  {
   "cell_type": "markdown",
   "metadata": {},
   "source": [
    "### 다음의 교재 page 531, Theorem 1 에 의해 \n",
    "![Altext](Theorem1.jpg)  \n",
    "### case 1); $n$ 이 even 인 경우에, $n//2=n/2$ . 따라서, 재귀식은 $f(n)=2f(n/2)$ 이 때 $a=2$ &nbsp; $b=2$ 이므로, \n",
    "### &nbsp;&nbsp;&nbsp;&nbsp;&nbsp;&nbsp;&nbsp;  $f(n)=O(n^logba)=O(n^log22)=O(n)$\n",
    "### case 2); $n$ 이  odd  인  경우, 식은 $n//2<(n+1)/2$ 이고, $n-n//2 = (n+1)/2 $ 이다. \n",
    "# $f(n+1)=f((n+1)//2)+f(n-(n+1)//2)= f((n+1)/2)+ f((n+1)/2)$ 이 때 $k=n+1$ 이라고 하면, $f(k)=2f(k/2)$ . 따라서, Theorem 1에 의해, $f(k)~ O(k). f(n)<f(k)~O(k)~O(n+1)~O(n)$ .\n",
    "# $f(n-1)=f((n-1)//2)+f(n-(n-1)//2)= f((n-1)/2)+ f((n-1)/2)$ 이 때 $l=n-1$ 이라고 하면, $f(l)=2f(l/2)$ . 따라서, Theorem 1에 의해, $f(l)~ O(l). f(l)<f(n)$ ."
   ]
  },
  {
   "cell_type": "markdown",
   "metadata": {},
   "source": [
    "### (g)(5). 0부터 99 까지의 정수중 1, 2, 3, 4,5,6,7,8,9, 10 개를 랜덤하게 생성하여 만든 정수 리스트들에 대해, '7' 이 어느 위치에 있는 지를 상기 문제 (d)에서 구한 파이썬 함수를 각각 이용하여 수행하여, 실제 출력되는 총 비교 연산 횟수가 (f)에서 분석한 시간 복잡도와 같은지를 점검하여 보시오. "
   ]
  },
  {
   "cell_type": "code",
   "execution_count": 29,
   "metadata": {},
   "outputs": [
    {
     "name": "stdout",
     "output_type": "stream",
     "text": [
      "총 비교 획수는 6번이며, 해당 요소 7는(은) 주어진 리스트 [3, 0, 1, 4, 8, 2] 에서 찾을 수없다.\n",
      "총 비교 획수는 7번이며, 해당 요소 7는(은) 주어진 리스트 [9, 3, 0, 6, 1, 8, 7]의  7번째 있다.\n",
      "총 비교 획수는 3번이며, 해당 요소 7는(은) 주어진 리스트 [0, 2, 7, 1, 5, 8, 3, 6]의  3번째 있다.\n",
      "총 비교 획수는 6번이며, 해당 요소 7는(은) 주어진 리스트 [6, 1, 4, 3, 9, 7, 5, 2, 0]의  6번째 있다.\n",
      "총 비교 획수는 9번이며, 해당 요소 7는(은) 주어진 리스트 [1, 3, 5, 0, 9, 2, 6, 8, 7, 4]의  9번째 있다.\n"
     ]
    }
   ],
   "source": [
    "for i in range(0,5):   \n",
    "    Div_Con_Search(lst[i], 7)"
   ]
  },
  {
   "cell_type": "markdown",
   "metadata": {},
   "source": [
    "### 2.  $S=\\{ (a,b) | $ &nbsp; $a, b \\in N, $ and &nbsp;  $a <= b \\} $   \n",
    "### $N $ 은 0 과 자연수 를 포함한 집합 \n",
    "### $S$  를 다음과 같이 재귀적으로 정의하고자 한다. \n",
    "\n",
    "### &nbsp; &nbsp; Basis step: (0, 0) ∈ S.\n",
    "### &nbsp; &nbsp; Recursive step: If (a, b) ∈ S, then (a, b + 1) ∈ S and (a + 1, b + 1) ∈ S."
   ]
  },
  {
   "cell_type": "markdown",
   "metadata": {},
   "source": [
    "### 2(a)(5). 원소 (0,0)를 포함하는 집합  S 를 생성하는  파이썬 코드는? "
   ]
  },
  {
   "cell_type": "code",
   "execution_count": 34,
   "metadata": {},
   "outputs": [
    {
     "data": {
      "text/plain": [
       "{(0, 0)}"
      ]
     },
     "execution_count": 34,
     "metadata": {},
     "output_type": "execute_result"
    }
   ],
   "source": [
    "S={(0,0)}\n",
    "S"
   ]
  },
  {
   "cell_type": "markdown",
   "metadata": {},
   "source": [
    "### 2(b)(5).  재귀 단계(Recursive) 를 n 번 진행했을 때의, 집합 $S$ 원소를 모두 포함하는 집합을 출력하는 파이썬 함수를 구하시오.   "
   ]
  },
  {
   "cell_type": "code",
   "execution_count": 35,
   "metadata": {},
   "outputs": [],
   "source": [
    "def Set_S(n):\n",
    "    S=set()\n",
    "    def inner(n):\n",
    "        nonlocal S\n",
    "        if n==0:\n",
    "            S.add((0,0))\n",
    "            return S\n",
    "        S = inner(n-1)\n",
    "        tmp = set()\n",
    "        for b in S:\n",
    "            tmp.add((b[0], b[1]+1))\n",
    "            tmp.add((b[0]+1, b[1]+1))                     \n",
    "        S.update(tmp)\n",
    "        return S   \n",
    "    return inner(n)"
   ]
  },
  {
   "cell_type": "markdown",
   "metadata": {},
   "source": [
    "### 2(c)(5).  상기 파이썬 함수에서, n=3 일 때 실제 적용하여 보시오.   "
   ]
  },
  {
   "cell_type": "code",
   "execution_count": 36,
   "metadata": {},
   "outputs": [
    {
     "data": {
      "text/plain": [
       "{(0, 0),\n",
       " (0, 1),\n",
       " (0, 2),\n",
       " (0, 3),\n",
       " (1, 1),\n",
       " (1, 2),\n",
       " (1, 3),\n",
       " (2, 2),\n",
       " (2, 3),\n",
       " (3, 3)}"
      ]
     },
     "execution_count": 36,
     "metadata": {},
     "output_type": "execute_result"
    }
   ],
   "source": [
    "Set_S(3)"
   ]
  },
  {
   "cell_type": "markdown",
   "metadata": {},
   "source": [
    "## 3\n",
    "### 3(a)(5)첫 8개 자연수 (즉; 1,2,3,4,5,6,7,8)에서 5개 자연수를 뽑으면, 반드시 합이 9인 자연수 쌍이 있음을 설명하여 보이시오.  "
   ]
  },
  {
   "cell_type": "markdown",
   "metadata": {},
   "source": [
    "### (풀이) 첫 8개 자연수 (즉; 1,2,3,4,5,6,7,8)에서 합이 9인 자연수 쌍은 $(1,8), (2,7), (3,6), (4,5)$ 이다. \n",
    "###  4개의 비둘기 구멍을 갖는다고 하자. 4개의 그룹에서 각각 다르게 하나씩 뽑아, 최악의 경우에 $(1,8), (2,7), (3,6), (4,5)$ 의 하나의 쌍이 없는 형태로 뽑았다고 하자.  이제, 각 그룹중에서 하나를 뽑아야 하므로 결국에는  $(1,8), (2,7), (3,6), (4,5)$ 중에서 하나의 쌍이 생긴다. "
   ]
  },
  {
   "cell_type": "markdown",
   "metadata": {},
   "source": [
    "### 3(b)(5) 5개 대신에 4개의 정수를 뽑으면 (a)가 사실 인지를 설명하여 보시오."
   ]
  },
  {
   "cell_type": "markdown",
   "metadata": {},
   "source": [
    "### (풀이) 첫 8개 자연수 (즉; 1,2,3,4,5,6,7,8)에서 합이 9인 자연수 쌍은 $(1,8), (2,7), (3,6), (4,5), (5,4), (6,3), (7,2), (8,1)$ 이다. "
   ]
  },
  {
   "cell_type": "markdown",
   "metadata": {},
   "source": [
    "### (풀이) 첫 8개 자연수 (즉; 1,2,3,4,5,6,7,8)에서 합이 9인 자연수 쌍은 $(1,8), (2,7), (3,6), (4,5)$ 이다. \n",
    "###  4개의 비둘기 구멍을 갖는다고 하자. 4개의 그룹에서 각각 다르게 하나씩 뽑아, 최악의 경우에 $(1,8), (2,7), (3,6), (4,5)$ 의 하나의 쌍이 없는 형태로 뽑을 수있으므로 합이 9인 자연수 쌍이 없을 수도 있다."
   ]
  },
  {
   "cell_type": "markdown",
   "metadata": {},
   "source": [
    "### 3(c)(15). 상기 (a)및 (b) 질문에 답할 수있는 파이썬 코딩을 하여 보시오."
   ]
  },
  {
   "cell_type": "code",
   "execution_count": 39,
   "metadata": {},
   "outputs": [],
   "source": [
    "import itertools as it\n",
    "def pigeon_9(lst, x, n):\n",
    "    ls=list()\n",
    "    a=list(it.combinations(lst, r=n))   \n",
    "    for b in a:     \n",
    "        c=list(it.combinations(b, r=2))        \n",
    "        for d in c:         \n",
    "            if (d[0]+d[1])==x:                \n",
    "                ls.append((b, d))\n",
    "        if len(ls)==0:\n",
    "            return False\n",
    "    return True, len(ls), ls"
   ]
  },
  {
   "cell_type": "code",
   "execution_count": 40,
   "metadata": {},
   "outputs": [
    {
     "data": {
      "text/plain": [
       "(True,\n",
       " 80,\n",
       " [((1, 2, 3, 4, 5), (4, 5)),\n",
       "  ((1, 2, 3, 4, 6), (3, 6)),\n",
       "  ((1, 2, 3, 4, 7), (2, 7)),\n",
       "  ((1, 2, 3, 4, 8), (1, 8)),\n",
       "  ((1, 2, 3, 5, 6), (3, 6)),\n",
       "  ((1, 2, 3, 5, 7), (2, 7)),\n",
       "  ((1, 2, 3, 5, 8), (1, 8)),\n",
       "  ((1, 2, 3, 6, 7), (2, 7)),\n",
       "  ((1, 2, 3, 6, 7), (3, 6)),\n",
       "  ((1, 2, 3, 6, 8), (1, 8)),\n",
       "  ((1, 2, 3, 6, 8), (3, 6)),\n",
       "  ((1, 2, 3, 7, 8), (1, 8)),\n",
       "  ((1, 2, 3, 7, 8), (2, 7)),\n",
       "  ((1, 2, 4, 5, 6), (4, 5)),\n",
       "  ((1, 2, 4, 5, 7), (2, 7)),\n",
       "  ((1, 2, 4, 5, 7), (4, 5)),\n",
       "  ((1, 2, 4, 5, 8), (1, 8)),\n",
       "  ((1, 2, 4, 5, 8), (4, 5)),\n",
       "  ((1, 2, 4, 6, 7), (2, 7)),\n",
       "  ((1, 2, 4, 6, 8), (1, 8)),\n",
       "  ((1, 2, 4, 7, 8), (1, 8)),\n",
       "  ((1, 2, 4, 7, 8), (2, 7)),\n",
       "  ((1, 2, 5, 6, 7), (2, 7)),\n",
       "  ((1, 2, 5, 6, 8), (1, 8)),\n",
       "  ((1, 2, 5, 7, 8), (1, 8)),\n",
       "  ((1, 2, 5, 7, 8), (2, 7)),\n",
       "  ((1, 2, 6, 7, 8), (1, 8)),\n",
       "  ((1, 2, 6, 7, 8), (2, 7)),\n",
       "  ((1, 3, 4, 5, 6), (3, 6)),\n",
       "  ((1, 3, 4, 5, 6), (4, 5)),\n",
       "  ((1, 3, 4, 5, 7), (4, 5)),\n",
       "  ((1, 3, 4, 5, 8), (1, 8)),\n",
       "  ((1, 3, 4, 5, 8), (4, 5)),\n",
       "  ((1, 3, 4, 6, 7), (3, 6)),\n",
       "  ((1, 3, 4, 6, 8), (1, 8)),\n",
       "  ((1, 3, 4, 6, 8), (3, 6)),\n",
       "  ((1, 3, 4, 7, 8), (1, 8)),\n",
       "  ((1, 3, 5, 6, 7), (3, 6)),\n",
       "  ((1, 3, 5, 6, 8), (1, 8)),\n",
       "  ((1, 3, 5, 6, 8), (3, 6)),\n",
       "  ((1, 3, 5, 7, 8), (1, 8)),\n",
       "  ((1, 3, 6, 7, 8), (1, 8)),\n",
       "  ((1, 3, 6, 7, 8), (3, 6)),\n",
       "  ((1, 4, 5, 6, 7), (4, 5)),\n",
       "  ((1, 4, 5, 6, 8), (1, 8)),\n",
       "  ((1, 4, 5, 6, 8), (4, 5)),\n",
       "  ((1, 4, 5, 7, 8), (1, 8)),\n",
       "  ((1, 4, 5, 7, 8), (4, 5)),\n",
       "  ((1, 4, 6, 7, 8), (1, 8)),\n",
       "  ((1, 5, 6, 7, 8), (1, 8)),\n",
       "  ((2, 3, 4, 5, 6), (3, 6)),\n",
       "  ((2, 3, 4, 5, 6), (4, 5)),\n",
       "  ((2, 3, 4, 5, 7), (2, 7)),\n",
       "  ((2, 3, 4, 5, 7), (4, 5)),\n",
       "  ((2, 3, 4, 5, 8), (4, 5)),\n",
       "  ((2, 3, 4, 6, 7), (2, 7)),\n",
       "  ((2, 3, 4, 6, 7), (3, 6)),\n",
       "  ((2, 3, 4, 6, 8), (3, 6)),\n",
       "  ((2, 3, 4, 7, 8), (2, 7)),\n",
       "  ((2, 3, 5, 6, 7), (2, 7)),\n",
       "  ((2, 3, 5, 6, 7), (3, 6)),\n",
       "  ((2, 3, 5, 6, 8), (3, 6)),\n",
       "  ((2, 3, 5, 7, 8), (2, 7)),\n",
       "  ((2, 3, 6, 7, 8), (2, 7)),\n",
       "  ((2, 3, 6, 7, 8), (3, 6)),\n",
       "  ((2, 4, 5, 6, 7), (2, 7)),\n",
       "  ((2, 4, 5, 6, 7), (4, 5)),\n",
       "  ((2, 4, 5, 6, 8), (4, 5)),\n",
       "  ((2, 4, 5, 7, 8), (2, 7)),\n",
       "  ((2, 4, 5, 7, 8), (4, 5)),\n",
       "  ((2, 4, 6, 7, 8), (2, 7)),\n",
       "  ((2, 5, 6, 7, 8), (2, 7)),\n",
       "  ((3, 4, 5, 6, 7), (3, 6)),\n",
       "  ((3, 4, 5, 6, 7), (4, 5)),\n",
       "  ((3, 4, 5, 6, 8), (3, 6)),\n",
       "  ((3, 4, 5, 6, 8), (4, 5)),\n",
       "  ((3, 4, 5, 7, 8), (4, 5)),\n",
       "  ((3, 4, 6, 7, 8), (3, 6)),\n",
       "  ((3, 5, 6, 7, 8), (3, 6)),\n",
       "  ((4, 5, 6, 7, 8), (4, 5))])"
      ]
     },
     "execution_count": 40,
     "metadata": {},
     "output_type": "execute_result"
    }
   ],
   "source": [
    "lst=[1,2,3,4,5,6,7,8]\n",
    "pigeon_9(lst, 9, 5)"
   ]
  },
  {
   "cell_type": "code",
   "execution_count": 41,
   "metadata": {},
   "outputs": [
    {
     "data": {
      "text/plain": [
       "False"
      ]
     },
     "execution_count": 41,
     "metadata": {},
     "output_type": "execute_result"
    }
   ],
   "source": [
    "pigeon_9(lst, 9, 4)"
   ]
  },
  {
   "cell_type": "markdown",
   "metadata": {},
   "source": [
    "## 4.  미국 어느 도시에서 버스 승차료는 1불짜리 지폐, 2불짜리 지폐로만 지불할 수있다고 한다. 이때 지폐 순서도 중요하다고 한다. "
   ]
  },
  {
   "cell_type": "markdown",
   "metadata": {},
   "source": [
    "### 4(a)(5). 버스 승차료가 $n$ 이라 할 때, 승차료 지불 방법 수 $F(n)$ 를 재귀 관계식으로 구해보시오. (초기 조건도 명시되어야 함) "
   ]
  },
  {
   "cell_type": "markdown",
   "metadata": {},
   "source": [
    "### (풀이) $F(n)=F(n-1)+F(n-2)$ f(1)=1 &nbsp;  f(2)=2"
   ]
  },
  {
   "cell_type": "markdown",
   "metadata": {},
   "source": [
    "### 4(b)(5). 상기 재귀 관계식을 이용하여  승차료 지불 방법 수를 구하는 파이썬 코딩을 하여 보시오."
   ]
  },
  {
   "cell_type": "code",
   "execution_count": 44,
   "metadata": {},
   "outputs": [],
   "source": [
    "def F(n):\n",
    "    if n <0:\n",
    "        return print (\"Pleaee chose n as integer > 0 \")\n",
    "    elif n ==1:\n",
    "        return 1\n",
    "    elif n ==2:\n",
    "        return 2\n",
    "    else:\n",
    "        return F(n-1)+F(n-2)"
   ]
  },
  {
   "cell_type": "code",
   "execution_count": 47,
   "metadata": {},
   "outputs": [
    {
     "data": {
      "text/plain": [
       "8"
      ]
     },
     "execution_count": 47,
     "metadata": {},
     "output_type": "execute_result"
    }
   ],
   "source": [
    "F(5)"
   ]
  },
  {
   "cell_type": "markdown",
   "metadata": {},
   "source": [
    "### 4(c)(5). 상기 재귀 관계식을 수학적으로 풀어 보고, $n=5$에 대해 그 결과를 (b)와 비교하여 보시오"
   ]
  },
  {
   "cell_type": "markdown",
   "metadata": {},
   "source": [
    "### 다음은 교과서 8.1절 example 1 에서 다루는 \"The Fibonacci  Numbers\"  문제의 해결의 파이썬 코딩 구현을 생각하여 보자.  \n",
    "### $~~~~~~~~~~F(n)=F(n-1)+F(n-2) ~~~with ~~ F(1)=1 ~and ~ F(2)=2$   \n",
    "### 이를 수학적으로 풀면 다음과 같다(풀이 방법은 교과서 8.2절 참조).   \n",
    "### $~~~~~~~~~~F(n)= alpha*( \\frac{1+\\sqrt5}{2})^n +beta*( \\frac{1-\\sqrt5}{2})^n ~~~ for~~ n \\geq  1$   \n",
    "### 이제, alpha 및 beta 는 다음 초기값을 만족하는 2개의 방정식을 풀어서 구한다.\n",
    "### $alpha*( \\frac{1+\\sqrt5}{2}) + beta*( \\frac{1-\\sqrt5}{2})=1$\n",
    "### $alpha*( \\frac{1+\\sqrt5}{2})^2 + beta*( \\frac{1-\\sqrt5}{2})^2=2$\n",
    "\n",
    "### 상기 2개 방정식을 만족하는 alpha 및 beta 는 다음과 같이 numpy 를 이용한 행렯방정식을  풀이를 통하여 구할 수있다.\n"
   ]
  },
  {
   "cell_type": "code",
   "execution_count": 48,
   "metadata": {},
   "outputs": [
    {
     "name": "stdout",
     "output_type": "stream",
     "text": [
      "0.7236067977499789 0.2763932022500211\n"
     ]
    }
   ],
   "source": [
    "from math import *\n",
    "import numpy as np \n",
    "#a = np.array([[1+sqrt(5), 3+sqrt(5)], [1-sqrt(5),3-sqrt(5)]])\n",
    "a = np.array([[1+sqrt(5), 1-sqrt(5)], [3+sqrt(5),3-sqrt(5)]])\n",
    "b = np.array([2,4])\n",
    "x = np.linalg.solve(a, b)\n",
    "alpha=x[0]\n",
    "beta=x[1]\n",
    "print(alpha, beta)"
   ]
  },
  {
   "cell_type": "code",
   "execution_count": 49,
   "metadata": {},
   "outputs": [],
   "source": [
    "from math import *\n",
    "def Math_F(n):\n",
    "    if n <=0:\n",
    "        print (\"Pleaee chose n as integer > 0 \")\n",
    "    else:\n",
    "        return int(alpha*((1+sqrt(5))/2)**n + beta*((1-sqrt(5))/2)**n + 0.4999)"
   ]
  },
  {
   "cell_type": "code",
   "execution_count": 50,
   "metadata": {},
   "outputs": [
    {
     "data": {
      "text/plain": [
       "1"
      ]
     },
     "execution_count": 50,
     "metadata": {},
     "output_type": "execute_result"
    }
   ],
   "source": [
    "Math_F(1)"
   ]
  },
  {
   "cell_type": "code",
   "execution_count": 51,
   "metadata": {},
   "outputs": [
    {
     "data": {
      "text/plain": [
       "2"
      ]
     },
     "execution_count": 51,
     "metadata": {},
     "output_type": "execute_result"
    }
   ],
   "source": [
    "Math_F(2)"
   ]
  },
  {
   "cell_type": "code",
   "execution_count": 52,
   "metadata": {},
   "outputs": [
    {
     "data": {
      "text/plain": [
       "8"
      ]
     },
     "execution_count": 52,
     "metadata": {},
     "output_type": "execute_result"
    }
   ],
   "source": [
    "Math_F(5)"
   ]
  },
  {
   "cell_type": "markdown",
   "metadata": {},
   "source": [
    "### 4(d)(5). 버스 승차료가 $n$ 이라 할 때,  최소의 지폐수로 지불하는 경우 수 $G(n)$를 구하는 알고리즘을 파이썬 코딩을 하여 보시오(지폐는 1불 짜리와 2불 짜리 2종류밖에 없다고 가정)"
   ]
  },
  {
   "cell_type": "code",
   "execution_count": 53,
   "metadata": {},
   "outputs": [],
   "source": [
    "def G(n):\n",
    "    i=0\n",
    "    while(n >=2):\n",
    "       n-=2 \n",
    "       i+=1\n",
    "    return i+n     "
   ]
  },
  {
   "cell_type": "code",
   "execution_count": 54,
   "metadata": {},
   "outputs": [],
   "source": [
    "### 4(e)(5). 버스 승차료가 3불, 12불, 25불일 때, 각각 필요한 최소 지폐수는 몇개인 지를 답하시오."
   ]
  },
  {
   "cell_type": "code",
   "execution_count": 55,
   "metadata": {},
   "outputs": [
    {
     "name": "stdout",
     "output_type": "stream",
     "text": [
      "2 6 13\n"
     ]
    }
   ],
   "source": [
    "print(G(3), G(12), G(25))\n"
   ]
  }
 ],
 "metadata": {
  "kernelspec": {
   "display_name": "Python 3.8.10 64-bit",
   "language": "python",
   "name": "python3"
  },
  "language_info": {
   "codemirror_mode": {
    "name": "ipython",
    "version": 3
   },
   "file_extension": ".py",
   "mimetype": "text/x-python",
   "name": "python",
   "nbconvert_exporter": "python",
   "pygments_lexer": "ipython3",
   "version": "3.8.10"
  },
  "vscode": {
   "interpreter": {
    "hash": "31f2aee4e71d21fbe5cf8b01ff0e069b9275f58929596ceb00d14d90e3e16cd6"
   }
  }
 },
 "nbformat": 4,
 "nbformat_minor": 2
}
