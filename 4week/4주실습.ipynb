{
 "cells": [
  {
   "cell_type": "markdown",
   "metadata": {},
   "source": [
    "###  5.1 수학적 귀납법 (Mathematical Induction)"
   ]
  },
  {
   "cell_type": "markdown",
   "metadata": {},
   "source": [
    "### Example: 수학적 귀납법으로  $\\sum_{i=1}^{i=n}i =\\frac{n(n+1)}{2} $  을 증명하시오. "
   ]
  },
  {
   "cell_type": "code",
   "execution_count": 1,
   "metadata": {},
   "outputs": [],
   "source": [
    "from sympy import *\n",
    "x, y, z, k, n = symbols('x y z k n')\n",
    "init_printing(use_unicode=True)\n",
    "\n",
    "def verify_base_case(formula, valid_from_n, base_case):\n",
    "    computed_base_case = (sympify(formula)).subs(n, valid_from_n)\n",
    " #   print(sympify(formula))\n",
    "#  print(computed_base_case)\n",
    "    base_case_satisfied = computed_base_case == base_case\n",
    "    return base_case_satisfied\n",
    "\n",
    "def expand_induction_hypothesis_k_plus_1(formula, next_expression):\n",
    "    # inductive hypothesis\n",
    "    inductive_step = formula.replace('n', 'k') + '+' + next_expression.replace('n', 'k')\n",
    "#    print(\"inductive_step:\", inductive_step)\n",
    "    return expand(inductive_step)\n",
    "\n",
    "def expand_formula_k_plus_1(formula):\n",
    "    return expand(formula.replace('n', '(k+1)'))\n",
    "\n",
    "def prove_arithmetic_series_formula(formula, valid_from_n, base_case, next_expression):\n",
    "    # verify base case\n",
    "    base_case_satisfied = verify_base_case(formula, valid_from_n, base_case)\n",
    "\n",
    "    # Inductive step\n",
    "    inductive_hypothesis = expand_induction_hypothesis_k_plus_1(formula, next_expression)\n",
    "    formula_next_term = expand_formula_k_plus_1(formula)\n",
    " #   print(\"inductive_hypothesis:\", inductive_hypothesis)\n",
    " #   print(\"formula_next_term: \", formula_next_term )  \n",
    "    # If the inductive hypothesis matches the formula for the next term\n",
    "    # then we have proved the formula\n",
    "    return {\n",
    "        'base_case_satisfied': base_case_satisfied,\n",
    "        'inductive_hypothesis': inductive_hypothesis,\n",
    "        'formula_next_term': formula_next_term,\n",
    "        'proved': base_case_satisfied and inductive_hypothesis == formula_next_term\n",
    "    }\n"
   ]
  },
  {
   "cell_type": "code",
   "execution_count": 2,
   "metadata": {},
   "outputs": [],
   "source": [
    "# Sum of all positive integer numbers\n",
    "INPUT_FORMULA = 'n*(n+1)/2'\n",
    "INPUT_VALID_FROM_N = 1\n",
    "INPUT_BASE_CASE = 1\n",
    "INPUT_NEXT_STEP = 'n+1'"
   ]
  },
  {
   "cell_type": "code",
   "execution_count": 3,
   "metadata": {},
   "outputs": [
    {
     "name": "stdout",
     "output_type": "stream",
     "text": [
      "{'base_case_satisfied': True, 'inductive_hypothesis': k**2/2 + 3*k/2 + 1, 'formula_next_term': k**2/2 + 3*k/2 + 1, 'proved': True}\n"
     ]
    }
   ],
   "source": [
    "print( prove_arithmetic_series_formula(\n",
    "    INPUT_FORMULA,\n",
    "    INPUT_VALID_FROM_N,\n",
    "    INPUT_BASE_CASE,\n",
    "    INPUT_NEXT_STEP\n",
    "    ))\n"
   ]
  },
  {
   "cell_type": "markdown",
   "metadata": {},
   "source": [
    "### Example: 수학적 귀납법으로  $\\sum_{i=1}^{i=n}2i =n(n+1) $  을 증명하시오. "
   ]
  },
  {
   "cell_type": "code",
   "execution_count": 4,
   "metadata": {},
   "outputs": [],
   "source": [
    "# Sum of all even numbers\n",
    "INPUT_FORMULA = 'n*(n+1)'\n",
    "INPUT_VALID_FROM_N = 1\n",
    "INPUT_BASE_CASE = 2\n",
    "INPUT_NEXT_STEP = '2*(n+1)'"
   ]
  },
  {
   "cell_type": "code",
   "execution_count": 5,
   "metadata": {},
   "outputs": [
    {
     "name": "stdout",
     "output_type": "stream",
     "text": [
      "{'base_case_satisfied': True, 'inductive_hypothesis': k**2 + 3*k + 2, 'formula_next_term': k**2 + 3*k + 2, 'proved': True}\n"
     ]
    }
   ],
   "source": [
    "print( prove_arithmetic_series_formula(\n",
    "    INPUT_FORMULA,\n",
    "    INPUT_VALID_FROM_N,\n",
    "    INPUT_BASE_CASE,\n",
    "    INPUT_NEXT_STEP\n",
    "    ))\n"
   ]
  },
  {
   "cell_type": "markdown",
   "metadata": {},
   "source": [
    "### 5.3 Recursive Definitions and Structural Induction\n",
    "#### 프로그래밍에서 재귀함수는 내부에서 직접 또는 간접적으로 더 적은 입력으로 자기 자신과 동일한 함수를 호출하는 루틴이며, 재귀 알고리즘(recursive algorithm)는 문제의 해결을 재귀함수를 이용하여 수행합니다.  재귀 알고리즘의 수학적 배경은 수학적 귀납법입니다. "
   ]
  },
  {
   "cell_type": "markdown",
   "metadata": {},
   "source": [
    "#### 5.3.1   파이썬 재귀함수(recursive function)  구현 \n",
    "먼저 파이썬 재귀함수(recursive function)  구현에 대해 살펴보겠습니다. 지금까지 알고리즘은 'for' 등을 이용한 iterative (반복적) 방법으로 구현한 것만을 학습했습니다. 본 실습에서는 재귀적(recursive) 방법으로 구현하는 방법을 살펴봅니다. "
   ]
  },
  {
   "cell_type": "markdown",
   "metadata": {},
   "source": [
    "프로그래밍 용어에서 재귀 함수는 내부에서 직접 또는 간접적으로 더 적은 입력으로 자기 자신과 동일한 함수를 호출하는 루틴으로 정의될 수 있습니다.    \n",
    "당연히 모든 재귀 프로그램은 반복적 방법을 사용하여 작성할 수 있습니다. 그러나, 재귀 알고리즘을 사용하면 특정 문제를 매우 쉽게 해결할 수 있습니다.   하노이타워문제(TOH)는 그러한 재귀적 알고리즘으로 효과적으로 풀 수 있는 예입니다.   \n",
    "&nbsp;&nbsp;  **재귀적 알고리즘의 수학적 기반은 '수학적 귀납법(mathematical induction)'** 입니다.     \n",
    "        \n",
    "\n",
    "재귀적 해결 방법의 구체적인 사례로 다음  예의  문제 해결을 생각하여 봅시다.   \n",
    "#### \"일상적인 인터뷰 질문, N 명이 참석한 파티에서는 각 사람이 한 번만 서로 악수한다고 할 때, 총 몇 번의 악수가 발생합니까?  \" \n",
    "\n",
    "**해결책 1: 조합으로**      \n",
    "    $N C 2 = N(N-1)/2$  \n",
    "    \n",
    "**해결책 2:  재귀적으로**    \n",
    "그것은 다음과 같이 재귀적으로 해결할 수 있습니다. N 명이 있습니다. 각 사람은 한 번만 서로 악수합니다. N 번째 사람을 고려할 때, 그는 (N-1) 사람들과 악수해야합니다. 이제 문제는 (N-1) 명으로 축소되었습니다. $HandShake(N)$ 을 전체 악수 횟수로 가정하면 재귀적으로 다음과 같이 공식화 할 수 있습니다.    \n",
    "\n",
    "$~~~HandShake(N) = (N-1) + HandShake(N-1)$  $~~~HandShake(1) = 0$ (즉 마지막 사람은 이미 모든 사람과 악수했습니다).\n",
    "\n",
    "그것을 수학적으로 풀면 $~~~HandShake(N)=N(N-1)/2~~~ $ 임을 구할 수있습니다.   \n",
    "이를 간단히 다음과 같이 프로그래밍할 수도 있습니다. \n",
    "\n",
    "&nbsp;&nbsp;&nbsp;&nbsp;$ ~~~def~~ HandShake(N):   $  \n",
    "&nbsp;&nbsp;&nbsp;&nbsp;$ ~~~~~~if N < 0:  $  \n",
    "&nbsp;&nbsp;&nbsp;&nbsp;$ ~~~~~~~~~ return~~ print(\" N should~ be~ more~ than~ 0.\")  $  \n",
    "&nbsp;&nbsp;&nbsp;&nbsp;$ ~~~~~return~~ int(N*(N-1)/2) $      \n",
    "\n",
    "그러나, 이러한 방법은 먼저 문제를 수학적으로 답을 계산해 내어야 하므로, 전산과학 측면에서는 실제적으로 별 매력이 없는 풀이 방법입니다.  "
   ]
  },
  {
   "cell_type": "code",
   "execution_count": 6,
   "metadata": {},
   "outputs": [],
   "source": [
    "def HandShake1(N):\n",
    "    if N <0 :\n",
    "        return print(\" N should be more than 0\")\n",
    "    else:\n",
    "        return int(N*(N-1)/2)"
   ]
  },
  {
   "cell_type": "code",
   "execution_count": 7,
   "metadata": {},
   "outputs": [
    {
     "name": "stderr",
     "output_type": "stream",
     "text": [
      "/home/user/anaconda3/lib/python3.9/site-packages/IPython/lib/latextools.py:126: MatplotlibDeprecationWarning: \n",
      "The to_png function was deprecated in Matplotlib 3.4 and will be removed two minor releases later. Use mathtext.math_to_image instead.\n",
      "  mt.to_png(f, s, fontsize=12, dpi=dpi, color=color)\n",
      "/home/user/anaconda3/lib/python3.9/site-packages/IPython/lib/latextools.py:126: MatplotlibDeprecationWarning: \n",
      "The to_rgba function was deprecated in Matplotlib 3.4 and will be removed two minor releases later. Use mathtext.math_to_image instead.\n",
      "  mt.to_png(f, s, fontsize=12, dpi=dpi, color=color)\n",
      "/home/user/anaconda3/lib/python3.9/site-packages/IPython/lib/latextools.py:126: MatplotlibDeprecationWarning: \n",
      "The to_mask function was deprecated in Matplotlib 3.4 and will be removed two minor releases later. Use mathtext.math_to_image instead.\n",
      "  mt.to_png(f, s, fontsize=12, dpi=dpi, color=color)\n",
      "/home/user/anaconda3/lib/python3.9/site-packages/IPython/lib/latextools.py:126: MatplotlibDeprecationWarning: \n",
      "The MathtextBackendBitmap class was deprecated in Matplotlib 3.4 and will be removed two minor releases later. Use mathtext.math_to_image instead.\n",
      "  mt.to_png(f, s, fontsize=12, dpi=dpi, color=color)\n"
     ]
    },
    {
     "data": {
      "image/png": "[encoded data removed]",
      "text/latex": [
       "$\\displaystyle 10$"
      ],
      "text/plain": [
       "10"
      ]
     },
     "execution_count": 7,
     "metadata": {},
     "output_type": "execute_result"
    }
   ],
   "source": [
    "HandShake1(5)"
   ]
  },
  {
   "cell_type": "markdown",
   "metadata": {},
   "source": [
    "한편, 다음과 같이 반복적 프로그래밍으로 상기 문제를 해결할 수있습니다.      "
   ]
  },
  {
   "cell_type": "code",
   "execution_count": 8,
   "metadata": {},
   "outputs": [],
   "source": [
    "def HandShake(N): # 반복적 프로그래밍 방법 구현 \n",
    "    result = 0\n",
    "    if N <= 0 :\n",
    "        return print(\" N should be more than 0.\")\n",
    "    for i in range(N-1, -1, -1):\n",
    "        print(i)\n",
    "        result+=i\n",
    "    return result"
   ]
  },
  {
   "cell_type": "code",
   "execution_count": 9,
   "metadata": {},
   "outputs": [
    {
     "name": "stdout",
     "output_type": "stream",
     "text": [
      "4\n",
      "3\n",
      "2\n",
      "1\n",
      "0\n"
     ]
    },
    {
     "data": {
      "image/png": "[encoded data removed]",
      "text/latex": [
       "$\\displaystyle 10$"
      ],
      "text/plain": [
       "10"
      ]
     },
     "execution_count": 9,
     "metadata": {},
     "output_type": "execute_result"
    }
   ],
   "source": [
    "HandShake(5)"
   ]
  },
  {
   "cell_type": "markdown",
   "metadata": {},
   "source": [
    "그런데, 상기 문제 풀이 수학적 알고리즘에 충실한 방법은 다음과  같은  재귀적 프로그래밍 방법입니다."
   ]
  },
  {
   "cell_type": "code",
   "execution_count": 10,
   "metadata": {},
   "outputs": [],
   "source": [
    "def HandShake2(N): # 재귀적 방법 구현    \n",
    "    if N <= 0:   # 예외사항 처리 \n",
    "        return print(\" N should be more than 0.\")\n",
    "    elif N==1:   #  종료 조건 \n",
    "        return 0\n",
    "    else :\n",
    "        return (N-1)+HandShake2(N-1)  # 재귀적 호출 "
   ]
  },
  {
   "cell_type": "code",
   "execution_count": 11,
   "metadata": {},
   "outputs": [
    {
     "data": {
      "image/png": "[encoded data removed]",
      "text/latex": [
       "$\\displaystyle 10$"
      ],
      "text/plain": [
       "10"
      ]
     },
     "execution_count": 11,
     "metadata": {},
     "output_type": "execute_result"
    }
   ],
   "source": [
    "HandShake2(5)"
   ]
  },
  {
   "cell_type": "markdown",
   "metadata": {},
   "source": [
    "#### 재귀적 풀이에 있어서 가장 유의할 점은 예외사항 처리뿐만 아니라, \n",
    "1) 각 재귀 함수 호출시에 해당(현재) 실행 컨텍스트(문맥) 상태를 올바르게 유지하고, \n",
    "2) 종료 조건을 반드시 점검하는 것입니다.  "
   ]
  },
  {
   "cell_type": "markdown",
   "metadata": {},
   "source": [
    "### 5.3.2 Recursively Defined Sets and Structures"
   ]
  },
  {
   "cell_type": "markdown",
   "metadata": {},
   "source": [
    "##### Example :  정수 3 의 배수 집합 S 을   재귀적으로 정의:\n",
    "* BASIS STEP: 3 ∊ S.\n",
    "* RECURSIVE STEP: If x ∊ S and y ∊ S, then x + y is in S.\n",
    "\n",
    "Initially 3 is in S, then 3 + 3 = 6, then 3 + 6 = 9, etc.\n"
   ]
  },
  {
   "cell_type": "code",
   "execution_count": 12,
   "metadata": {},
   "outputs": [],
   "source": [
    "def Three_multiples_Set(n):  #n: number of  recursion   \n",
    "    A=set() \n",
    "    if n < 0:\n",
    "        return print(\"Please, choose n as a integer equal to or more than 0\")\n",
    "    elif n==0:                \n",
    "        A.add(3)\n",
    "    else:\n",
    "        A=Three_multiples_Set(n-1)\n",
    "        #print(A)\n",
    "        tmp=set()             \n",
    "        for x in A:                 \n",
    "            for y in A:\n",
    "                tmp.add(x+y) \n",
    "        A.update(tmp)\n",
    "    return A    "
   ]
  },
  {
   "cell_type": "code",
   "execution_count": 13,
   "metadata": {},
   "outputs": [
    {
     "name": "stdout",
     "output_type": "stream",
     "text": [
      "{3}\n",
      "{3, 6}\n",
      "{3, 6, 9, 12}\n"
     ]
    }
   ],
   "source": [
    "print(Three_multiples_Set(0))\n",
    "print(Three_multiples_Set(1))\n",
    "print(Three_multiples_Set(2))"
   ]
  },
  {
   "cell_type": "code",
   "execution_count": 14,
   "metadata": {},
   "outputs": [
    {
     "data": {
      "image/png": "[encoded data removed]",
      "text/latex": [
       "$\\displaystyle \\left\\{3, 6, 9, 12, 15, 18, 21, 24\\right\\}$"
      ],
      "text/plain": [
       "{3, 6, 9, 12, 15, 18, 21, 24}"
      ]
     },
     "execution_count": 14,
     "metadata": {},
     "output_type": "execute_result"
    }
   ],
   "source": [
    "Three_multiples_Set(3)"
   ]
  },
  {
   "cell_type": "markdown",
   "metadata": {},
   "source": [
    "### 알파벳트로부터 재귀적으로 문자열 집합 생성\n",
    "* 정의: alphabet $Σ$ 에 대한  문자열(string)의 집합 $Σ^*$  은 다음과 같이 재귀적으로 정의된다.\n",
    "* 기본단계: $λ ∊ Σ^*$ ($λ$ 는 빈 문자열(empty string)\n",
    "* 재귀단계: If $w$ is in $Σ^*$ and $x$ is in $Σ$, then $wx \\in Σ^* $.\n"
   ]
  },
  {
   "cell_type": "markdown",
   "metadata": {},
   "source": [
    "#### Example: If Σ = {0,1}, the strings in in Σ* are the set of all bit strings, λ,0,1, 00,01,10, 11, etc."
   ]
  },
  {
   "cell_type": "code",
   "execution_count": 15,
   "metadata": {},
   "outputs": [],
   "source": [
    "def string_set(S, n): # S: Alphabet, n: number of  recursion\n",
    "    String_A={'λ'}\n",
    "    if n < 0:\n",
    "        return print(\"Please, choose n as a integer equal to or more than 0\")\n",
    "    elif n==0: \n",
    "        return String_A\n",
    "    else:\n",
    "        String_A=string_set(S,n-1)\n",
    "        tmp=set()\n",
    "        if len(String_A)==0:\n",
    "            for x in S:\n",
    "                tmp.add(x)\n",
    "        else:        \n",
    "            for x in S:                         \n",
    "                for w in String_A:\n",
    "                    if w=='λ':\n",
    "                        tmp.add(x)\n",
    "                    else:    \n",
    "                        tmp.add(w+x)\n",
    "        String_A.update(tmp)\n",
    "    return String_A     \n",
    "            "
   ]
  },
  {
   "cell_type": "code",
   "execution_count": 16,
   "metadata": {},
   "outputs": [
    {
     "name": "stdout",
     "output_type": "stream",
     "text": [
      "{'λ'}\n",
      "{'0', 'λ', '1'}\n",
      "{'0', '10', '00', '01', '1', '11', 'λ'}\n"
     ]
    }
   ],
   "source": [
    "print(string_set({'0','1'}, 0))\n",
    "print(string_set({'0','1'}, 1))\n",
    "print(string_set({'0','1'}, 2))"
   ]
  },
  {
   "cell_type": "code",
   "execution_count": 17,
   "metadata": {},
   "outputs": [
    {
     "data": {
      "text/plain": [
       "{'0',\n",
       " '00',\n",
       " '000',\n",
       " '001',\n",
       " '01',\n",
       " '010',\n",
       " '011',\n",
       " '1',\n",
       " '10',\n",
       " '100',\n",
       " '101',\n",
       " '11',\n",
       " '110',\n",
       " '111',\n",
       " 'λ'}"
      ]
     },
     "execution_count": 17,
     "metadata": {},
     "output_type": "execute_result"
    }
   ],
   "source": [
    "string_set({'0','1'}, 3)"
   ]
  },
  {
   "cell_type": "markdown",
   "metadata": {},
   "source": [
    "이제 교과서에 나오는 몇 가지 재귀적 알고리즘을 살펴 보기로 합니다. "
   ]
  },
  {
   "cell_type": "markdown",
   "metadata": {},
   "source": [
    "\n",
    "## 5.4   Recursive Algorithms  \n",
    "이제 교과서에 나오는 몇 가지 재귀적 알고리즘을 살펴 보기로 합니다. \n",
    "####  EXAMPLE 1.  계승(factorial n! ) 계산 "
   ]
  },
  {
   "cell_type": "markdown",
   "metadata": {},
   "source": [
    "#### 반복적 알고리즘"
   ]
  },
  {
   "cell_type": "code",
   "execution_count": 18,
   "metadata": {},
   "outputs": [],
   "source": [
    "#To compute power using recursive algorithm\n",
    "def factorial_iter(n):\n",
    "    if n < 0: #  예외 사항 \n",
    "        return print(\"please, take n as n >= 0\")\n",
    "    if n==0:  # 종료 조건 \n",
    "        return 1\n",
    "    else:\n",
    "        fac=1\n",
    "        for i in range(1, n+1):\n",
    "            fac*=i #1*2*3*...*n \n",
    "        return fac"
   ]
  },
  {
   "cell_type": "code",
   "execution_count": 19,
   "metadata": {},
   "outputs": [
    {
     "data": {
      "image/png": "[encoded data removed]",
      "text/latex": [
       "$\\displaystyle 720$"
      ],
      "text/plain": [
       "720"
      ]
     },
     "execution_count": 19,
     "metadata": {},
     "output_type": "execute_result"
    }
   ],
   "source": [
    "factorial_iter(6)"
   ]
  },
  {
   "cell_type": "markdown",
   "metadata": {},
   "source": [
    "#### 재귀적 알고리즘"
   ]
  },
  {
   "cell_type": "code",
   "execution_count": 20,
   "metadata": {},
   "outputs": [],
   "source": [
    "#To compute power using recursive algorithm\n",
    "def factorial_recursive(n):\n",
    "    if n < 0: #  예외 사항 \n",
    "        return print(\"please, take n as n >= 0\")\n",
    "    if n==0:  # 종료 조건 \n",
    "        return 1\n",
    "    else:\n",
    "        return n*factorial_recursive(n-1) #recursive call algorithm n!=n*(n-1)!"
   ]
  },
  {
   "cell_type": "code",
   "execution_count": 21,
   "metadata": {},
   "outputs": [
    {
     "data": {
      "image/png": "[encoded data removed]",
      "text/latex": [
       "$\\displaystyle 720$"
      ],
      "text/plain": [
       "720"
      ]
     },
     "execution_count": 21,
     "metadata": {},
     "output_type": "execute_result"
    }
   ],
   "source": [
    "factorial_recursive(6)"
   ]
  },
  {
   "cell_type": "markdown",
   "metadata": {},
   "source": [
    "#### Example 2.  정수의 거듭 제곱  ( $a^n$ ) 계산 "
   ]
  },
  {
   "cell_type": "code",
   "execution_count": 22,
   "metadata": {},
   "outputs": [],
   "source": [
    "def power_math(a,n):\n",
    "    if n==0:  #종료 조건 \n",
    "        return 1\n",
    "    else:\n",
    "        return a**n #by mathematical formular # a^n=a*a*...*a"
   ]
  },
  {
   "cell_type": "code",
   "execution_count": 23,
   "metadata": {},
   "outputs": [
    {
     "data": {
      "image/png": "[encoded data removed]",
      "text/latex": [
       "$\\displaystyle 1024$"
      ],
      "text/plain": [
       "1024"
      ]
     },
     "execution_count": 23,
     "metadata": {},
     "output_type": "execute_result"
    }
   ],
   "source": [
    "power_math(2, 10)"
   ]
  },
  {
   "cell_type": "code",
   "execution_count": 24,
   "metadata": {},
   "outputs": [],
   "source": [
    "def power_iter(a,n):\n",
    "    b=1\n",
    "    if n==0:  #종료 조건 \n",
    "        return 1\n",
    "    else:\n",
    "        for i in range(1, n+1):\n",
    "            b*=a\n",
    "        return b #iterative call algorithm # a^n=a*a*...*a"
   ]
  },
  {
   "cell_type": "code",
   "execution_count": 25,
   "metadata": {},
   "outputs": [
    {
     "data": {
      "image/png": "[encoded data removed]",
      "text/latex": [
       "$\\displaystyle 1024$"
      ],
      "text/plain": [
       "1024"
      ]
     },
     "execution_count": 25,
     "metadata": {},
     "output_type": "execute_result"
    }
   ],
   "source": [
    "power_iter(2,10)"
   ]
  },
  {
   "cell_type": "code",
   "execution_count": 26,
   "metadata": {},
   "outputs": [],
   "source": [
    "#To compute power using recursive algorithm\n",
    "def power_recursive(a,n):\n",
    "    if n==0:  #종료 조건 \n",
    "        return 1\n",
    "    else:\n",
    "        return a*power_recursive(a, n-1) #recursive call algorithm a^n = a* a^(n-1)"
   ]
  },
  {
   "cell_type": "code",
   "execution_count": 27,
   "metadata": {},
   "outputs": [
    {
     "data": {
      "image/png": "[encoded data removed]",
      "text/latex": [
       "$\\displaystyle 1024$"
      ],
      "text/plain": [
       "1024"
      ]
     },
     "execution_count": 27,
     "metadata": {},
     "output_type": "execute_result"
    }
   ],
   "source": [
    "power_recursive(2, 10)"
   ]
  },
  {
   "cell_type": "markdown",
   "metadata": {},
   "source": [
    "#### Example 3.  2개 정수의 최대공약수(Greatest Common Divisor) 계산 (Computing gcd(a,b) where a < b)\n",
    "최대공약수를 찾는 다음의 유클리드 호젯법(Euclidean algorithm) 의 재귀적 구현.   \n",
    "&nbsp;&nbsp;&nbsp;&nbsp;&nbsp;&nbsp;  $gcd(a, b) = gcd(b ~mod~ a, a)$ &nbsp;&nbsp;&nbsp;&nbsp;  ;&nbsp;&nbsp; 조건 $ gcd(0, b) = b $ when $ b > 0 $\n",
    "\n"
   ]
  },
  {
   "cell_type": "code",
   "execution_count": 28,
   "metadata": {},
   "outputs": [],
   "source": [
    "def gcd(a,b):\n",
    "    if a==0: #종료조건 \n",
    "        return b\n",
    "    else: return gcd(b%a , a)"
   ]
  },
  {
   "cell_type": "code",
   "execution_count": 29,
   "metadata": {},
   "outputs": [
    {
     "data": {
      "image/png": "[encoded data removed]",
      "text/latex": [
       "$\\displaystyle 12$"
      ],
      "text/plain": [
       "12"
      ]
     },
     "execution_count": 29,
     "metadata": {},
     "output_type": "execute_result"
    }
   ],
   "source": [
    "gcd(24,36)"
   ]
  },
  {
   "cell_type": "markdown",
   "metadata": {},
   "source": [
    "#### 재귀함수 구현시에 유의할 점 \n",
    "##### 1) 재귀함수에서는  내부 구현 알고리즘이 재귀적으로 수행되게 되는 데, 각 재귀 호출시에 각 호출의  실행 컨텍스트(문맥)가 있고 이 실행 컨텍스트에서 알고리즘이 수행되어야 한다.    \n",
    "##### 2) 종료 조건이 없으면 재귀함수는 무한 재귀호출이 될 수있는 데, 각 재귀호출의 컨텍스트(문맥)들이 계속 메모리(스택)에 저장되어야 하므로 이로 인해 메모리(스택) 가 overflow 되어 프로그램 수행이 문제가 되어 에러처리되고 종료된다.   "
   ]
  },
  {
   "cell_type": "markdown",
   "metadata": {},
   "source": [
    "### 1) 재귀함수의 각 호출시에  해당 호출  실행 컨텍스트(문맥)에서 수행되어야 함.\n",
    "재귀함수를 처리할 때,  각 재귀 호출마다 각자의 고유한 실행 컨텍스트가 있다는 것을 잊어서는 안됩니다.     \n",
    "재귀중 각 재귀 호출의 실행이 해당 호출 컨텍스트(문맥)에서 수행되도록 하기 위해서 해당 호출의 해당 컨텍스트 상태가 다음 중 하나를 통하여 유지되도록 구현해야 합니다. \n",
    "\n",
    "**1. 해당 재귀 호출에서 수행되어야 할 컨텍스트(문맥)의 상태가 해당 재귀 호출 시에 인자를 통해 전달되도록 함**    \n",
    "**2. 재귀 호출에서 수행되어야 할 컨텍스트의 상태를 글로벌 범위로 유지하여, 각 현재 재귀 호출에서 이를 참조하여 해당 재귀 호출 실행 컨텍스트 상태를 계산할 수있도록 지원하도록 함.**   \n",
    "\n",
    "이를 좀 더 명확히 설명하기 위해, 재귀를 사용하여 1 + 2 + 3 ⋅⋅⋅⋅ + 10을 계산해 봅시다. 우리가 유지해야하는 상태는 (현재 추가하고있는 현재 수, 누적 합계)입니다."
   ]
  },
  {
   "cell_type": "markdown",
   "metadata": {},
   "source": [
    "**다음은 각 재귀호출을 통해 해당 재귀 호출의 실행 컨텍스트의 상태를 재귀 호출의 인자로 전달하는 방법에 의한 재귀함수 구현입니다.**"
   ]
  },
  {
   "cell_type": "code",
   "execution_count": 30,
   "metadata": {},
   "outputs": [],
   "source": [
    "def sum_recursive(current_number, accumulated_sum):\n",
    "    # Base case\n",
    "    # Return the final state\n",
    "    if current_number == 11: #종료조건 \n",
    "        return accumulated_sum\n",
    "\n",
    "    # Recursive case\n",
    "   \n",
    "    else:  # 해당 재귀호출 실행 콘텍스트의 상태인 (현재 추가하고있는 현재 수, 누적 합계)가 해당 재귀 호출의 인자로 전달  \n",
    "        return sum_recursive(current_number + 1, accumulated_sum + current_number)"
   ]
  },
  {
   "cell_type": "code",
   "execution_count": 31,
   "metadata": {},
   "outputs": [
    {
     "data": {
      "image/png": "[encoded data removed]",
      "text/latex": [
       "$\\displaystyle 55$"
      ],
      "text/plain": [
       "55"
      ]
     },
     "execution_count": 31,
     "metadata": {},
     "output_type": "execute_result"
    }
   ],
   "source": [
    "# Pass the initial state\n",
    "sum_recursive(1, 0)"
   ]
  },
  {
   "cell_type": "markdown",
   "metadata": {},
   "source": [
    "상기 재귀 알고리즘의 상태\n",
    "![Alttext](recursive.png)"
   ]
  },
  {
   "cell_type": "markdown",
   "metadata": {},
   "source": [
    "**다음은 재귀호출시의 상태를 글로벌 범위로 하여, 해당 재귀 호출 실행시에  이를 참조하여 해당 재귀호출 실행 컨텍스트 상태를 계산하여 이용할 수있도록 하는 구현 예입니다.**"
   ]
  },
  {
   "cell_type": "code",
   "execution_count": 32,
   "metadata": {},
   "outputs": [],
   "source": [
    "# Global mutable state\n",
    "current_number = 1\n",
    "accumulated_sum = 0\n",
    "\n",
    "def sum_recursive2():\n",
    "    global current_number \n",
    "    global accumulated_sum\n",
    "    # Base case\n",
    "    if current_number == 11:\n",
    "        return accumulated_sum\n",
    "    # Recursive case\n",
    "    else:\n",
    "        accumulated_sum = accumulated_sum + current_number\n",
    "        current_number = current_number + 1\n",
    "        return sum_recursive2()"
   ]
  },
  {
   "cell_type": "code",
   "execution_count": 33,
   "metadata": {},
   "outputs": [
    {
     "data": {
      "image/png": "[encoded data removed]",
      "text/latex": [
       "$\\displaystyle 55$"
      ],
      "text/plain": [
       "55"
      ]
     },
     "execution_count": 33,
     "metadata": {},
     "output_type": "execute_result"
    }
   ],
   "source": [
    "# Pass the initial state\n",
    "sum_recursive2()"
   ]
  },
  {
   "cell_type": "markdown",
   "metadata": {},
   "source": [
    "###  2) 재귀 알고리즘은 종료 조건이  명확히  기술되어야 함"
   ]
  },
  {
   "cell_type": "markdown",
   "metadata": {},
   "source": [
    "상기 Example 2의 정수 거듭제곱의 재귀 호출 구현의 다음 예를 살펴봅시다. "
   ]
  },
  {
   "cell_type": "code",
   "execution_count": 34,
   "metadata": {},
   "outputs": [],
   "source": [
    "#To compute power using recursive algorithm\n",
    "def power2(a,n):\n",
    "   # if n==0: #  종료 조건 \n",
    "   #     return 1\n",
    "   # else:\n",
    "        return a*power2(a,n-1) #recursive call algorithm a^n = a* a^(n-1)"
   ]
  },
  {
   "cell_type": "code",
   "execution_count": 35,
   "metadata": {},
   "outputs": [
    {
     "ename": "RecursionError",
     "evalue": "maximum recursion depth exceeded",
     "output_type": "error",
     "traceback": [
      "\u001b[0;31m---------------------------------------------------------------------------\u001b[0m",
      "\u001b[0;31mRecursionError\u001b[0m                            Traceback (most recent call last)",
      "\u001b[0;32m/tmp/ipykernel_60540/1032748970.py\u001b[0m in \u001b[0;36m<module>\u001b[0;34m\u001b[0m\n\u001b[0;32m----> 1\u001b[0;31m \u001b[0mpower2\u001b[0m\u001b[0;34m(\u001b[0m\u001b[0;36m2\u001b[0m\u001b[0;34m,\u001b[0m\u001b[0;36m10\u001b[0m\u001b[0;34m)\u001b[0m\u001b[0;34m\u001b[0m\u001b[0;34m\u001b[0m\u001b[0m\n\u001b[0m",
      "\u001b[0;32m/tmp/ipykernel_60540/1484195815.py\u001b[0m in \u001b[0;36mpower2\u001b[0;34m(a, n)\u001b[0m\n\u001b[1;32m      4\u001b[0m    \u001b[0;31m#     return 1\u001b[0m\u001b[0;34m\u001b[0m\u001b[0;34m\u001b[0m\u001b[0m\n\u001b[1;32m      5\u001b[0m    \u001b[0;31m# else:\u001b[0m\u001b[0;34m\u001b[0m\u001b[0;34m\u001b[0m\u001b[0m\n\u001b[0;32m----> 6\u001b[0;31m         \u001b[0;32mreturn\u001b[0m \u001b[0ma\u001b[0m\u001b[0;34m*\u001b[0m\u001b[0mpower2\u001b[0m\u001b[0;34m(\u001b[0m\u001b[0ma\u001b[0m\u001b[0;34m,\u001b[0m\u001b[0mn\u001b[0m\u001b[0;34m-\u001b[0m\u001b[0;36m1\u001b[0m\u001b[0;34m)\u001b[0m \u001b[0;31m#recursive call algorithm a^n = a* a^(n-1)\u001b[0m\u001b[0;34m\u001b[0m\u001b[0;34m\u001b[0m\u001b[0m\n\u001b[0m",
      "... last 1 frames repeated, from the frame below ...\n",
      "\u001b[0;32m/tmp/ipykernel_60540/1484195815.py\u001b[0m in \u001b[0;36mpower2\u001b[0;34m(a, n)\u001b[0m\n\u001b[1;32m      4\u001b[0m    \u001b[0;31m#     return 1\u001b[0m\u001b[0;34m\u001b[0m\u001b[0;34m\u001b[0m\u001b[0m\n\u001b[1;32m      5\u001b[0m    \u001b[0;31m# else:\u001b[0m\u001b[0;34m\u001b[0m\u001b[0;34m\u001b[0m\u001b[0m\n\u001b[0;32m----> 6\u001b[0;31m         \u001b[0;32mreturn\u001b[0m \u001b[0ma\u001b[0m\u001b[0;34m*\u001b[0m\u001b[0mpower2\u001b[0m\u001b[0;34m(\u001b[0m\u001b[0ma\u001b[0m\u001b[0;34m,\u001b[0m\u001b[0mn\u001b[0m\u001b[0;34m-\u001b[0m\u001b[0;36m1\u001b[0m\u001b[0;34m)\u001b[0m \u001b[0;31m#recursive call algorithm a^n = a* a^(n-1)\u001b[0m\u001b[0;34m\u001b[0m\u001b[0;34m\u001b[0m\u001b[0m\n\u001b[0m",
      "\u001b[0;31mRecursionError\u001b[0m: maximum recursion depth exceeded"
     ]
    }
   ],
   "source": [
    "power2(2,10)"
   ]
  },
  {
   "cell_type": "markdown",
   "metadata": {},
   "source": [
    "**재귀 함수 구현의 단점을 아래에 간단히 기술합니다. 이에 대한 자세한 내용은 다음 실습에서 살펴 보도록 합니다.**     \n",
    "1) 재귀적 호출로 해당 재귀적 호출의 실행 컨텍스트를 다음 재귀호출에 인자로 전달하는 경우에 해당 컨텍스트가 재귀 호출의 복귀 되기 전까지는 메모리(스택)에 보관되므로 메모리가 증가합니다.       \n",
    "2) 각 재귀적 호출의  실행 컨텍스트를 글로벌 변수로 저장하여 처리하는 경우에는 메모리 증가는 피할 수있으나, 글로벌 변수는 잘못사용하면 각 호출의 실행에 영향을 미치므로 side effect 가 생길 수있으므로 주의하여야 합니다.     "
   ]
  },
  {
   "cell_type": "markdown",
   "metadata": {},
   "source": [
    "#### 재귀함수 구현은  'divide and conquer '  (문제를  좀 덜 복잡하게 나누어서  해결)  전략에 의한  문제  해결에 매우 유용한 수단을 제공합니다.\n",
    "다음 교과서의  'divide and conquer '  전략에 의해  이진탐색(binary search), 합병정렬 (merge sort) 등의 문제를 재귀적으로 푸는 구현을 살펴 보기로 합니다. "
   ]
  },
  {
   "cell_type": "markdown",
   "metadata": {},
   "source": [
    "### 5.4.3 Recursion and Iteration"
   ]
  },
  {
   "cell_type": "markdown",
   "metadata": {},
   "source": [
    "### Example 6 (Recursive Binary Search)"
   ]
  },
  {
   "cell_type": "markdown",
   "metadata": {},
   "source": [
    "#### 다음은 반복적 방법에 의한 이진탐색 구현이다(3주 실습에 학습함)."
   ]
  },
  {
   "cell_type": "code",
   "execution_count": null,
   "metadata": {},
   "outputs": [],
   "source": [
    "def binarysearch(a,num): #function definition with its parameters 'a' is the inputlist\n",
    "                         #and 'num' number to be found\n",
    "\n",
    "    first=0 #initially the first position is zero\n",
    "    last=len(a)-1 #initially the last position is the total length of the inputlist-1\n",
    "    found=False #boolean value to indicate if the number to be searched is found or not.\n",
    "\n",
    "    while first<=last and not found:\n",
    "        midpoint=(first+last)//2 #dividing the inputlist into two halves and comparing the number to be found with the midpoint.\n",
    "\n",
    "        if a[midpoint]==num: #If the number to be found is equal to the midpoint returns the position.\n",
    "           found=True\n",
    "        else:\n",
    "            if num<a[midpoint]: #if the number to be found is less than the midpoint\n",
    "                                #then the first half of the divided input list is taken for further computation.\n",
    "\n",
    "                last=midpoint-1 #by assigning the last number of the first half(number before the midpoint) to the variable last.\n",
    "\n",
    "\n",
    "            else:\n",
    "                first=midpoint+1 #if the number to be found is greater than the midpoint\n",
    "                                 #then the second half of the divided input list is taken for further computation.\n",
    "                                #by assigning the first number of the second half(number following the midpoint) to the variable first.\n",
    "    if midpoint < len(a) and found:\n",
    "          return midpoint+1 #returns the position of the number found in the list. \n",
    "    else:\n",
    "          return -1"
   ]
  },
  {
   "cell_type": "code",
   "execution_count": null,
   "metadata": {},
   "outputs": [
    {
     "data": {
      "text/plain": [
       "10"
      ]
     },
     "execution_count": 2,
     "metadata": {},
     "output_type": "execute_result"
    }
   ],
   "source": [
    "numlist=[1, 3, 5, 6, 7, 8, 10, 12, 13, 15, 16, 18, 19, 20, 22] #List of inputs\n",
    "binarysearch(numlist, 15)"
   ]
  },
  {
   "cell_type": "markdown",
   "metadata": {},
   "source": [
    "#### 재귀적 방법에 의한 이진 탐색 의 구현의 예는 다음과 같다."
   ]
  },
  {
   "cell_type": "code",
   "execution_count": null,
   "metadata": {},
   "outputs": [],
   "source": [
    "def binarysearch_rec(a, first, last, num):\n",
    "    mid=(first+last)//2\n",
    "    if a[mid]==num: #종료 조건 \n",
    "        return mid+1\n",
    "    elif (num < a[mid]) and (first < mid): \n",
    "        return binarysearch_rec(a, first, mid-1, num)\n",
    "    elif (num > a[mid]) and (last > mid): \n",
    "        return binarysearch_rec(a, mid+1, last, num)\n",
    "    else: return -1 "
   ]
  },
  {
   "cell_type": "code",
   "execution_count": null,
   "metadata": {},
   "outputs": [
    {
     "data": {
      "text/plain": [
       "10"
      ]
     },
     "execution_count": 4,
     "metadata": {},
     "output_type": "execute_result"
    }
   ],
   "source": [
    "numlist=[1, 3, 5, 6, 7, 8, 10, 12, 13, 15, 16, 18, 19, 20, 22] #List of inputs\n",
    "binarysearch_rec(numlist, 0, len(numlist)-1, 15)"
   ]
  },
  {
   "cell_type": "markdown",
   "metadata": {},
   "source": [
    "###  재귀 알고리즘과 반복 알고리즘 비교   \n",
    "1. 재귀적 알고리즘은 연산량이 많다. 재귀식(점화식)이 있는 경우에는 문제를 간결하게 해결할 수있으나, 같은 연산이 중복되어 수행되어야 하므로 연산량이 많고 중간  결과를 계속 저장하여(call stack) 보관하여야  하므로 메모리가 증가함. 재귀식(점화식)이 있는 경우에 문제를 간결하게 해결할 수있음. 그러나, 경우에 따라서는 문제가 재귀알고리즘만으로 풀 수있다.      \n",
    "2. 반복 알고리즘은 재귀알고리즘 구현에 비해 연산량 및 메모리 소요량이 비교적 적으나, 경우에 따라서는 문제 풀이가 비교적 복잡하다."
   ]
  },
  {
   "cell_type": "markdown",
   "metadata": {},
   "source": [
    "#### **피보나츠 수열 계산의 재귀적 구현** "
   ]
  },
  {
   "cell_type": "markdown",
   "metadata": {},
   "source": [
    "다음은 피보나츠 수열  𝑓(𝑛)=𝑓(𝑛−1)+𝑓(𝑛−2)   𝑓𝑜𝑟  𝑛>2  𝑤𝑖𝑡ℎ  𝑓(1)=𝑓(2)=1  의 파이썬 구현을 통해, 재귀알고리즘과 반복 알고리즘 구현을 비교하여 봅니다. \n",
    "![Altext](fibo.jpg)"
   ]
  },
  {
   "cell_type": "code",
   "execution_count": null,
   "metadata": {},
   "outputs": [],
   "source": [
    "def fibonacci(n):\n",
    "    global add_count    \n",
    "    if n <0:\n",
    "        return print(\"please take n greater than 0\")\n",
    "    if n <=1:\n",
    "      #  print(\" I am if %d\" %n)\n",
    "        return n\n",
    "    else: \n",
    "      #  print(\" I am else %d\" %n)\n",
    "        add_count+=1       \n",
    "        return fibonacci(n-1)+fibonacci(n-2)"
   ]
  },
  {
   "cell_type": "code",
   "execution_count": null,
   "metadata": {},
   "outputs": [
    {
     "name": "stdout",
     "output_type": "stream",
     "text": [
      " 7th fibonacci number = 13\n",
      "Total numbers of addition for calculating 7th fibonacci number = 20\n"
     ]
    }
   ],
   "source": [
    "add_count=0\n",
    "n=7\n",
    "result=fibonacci(n)\n",
    "print(\" %dth fibonacci number = %d\" %(n, result))\n",
    "print(\"Total numbers of addition for calculating %dth fibonacci number = %d\" %(n, add_count))"
   ]
  },
  {
   "cell_type": "markdown",
   "metadata": {},
   "source": [
    "##### 상기 피보나츠 수열 구현은 실행 시간이 기하 급수적으로 증가한다,\n",
    "![Altext](fibo2.jpg)"
   ]
  },
  {
   "cell_type": "markdown",
   "metadata": {},
   "source": [
    "#### **피보나츠 수열의 memoization 구현(재귀적 구현이나, 메모리 증가를 절약)**    \n",
    "메모이제이션(memoization)은 컴퓨터 프로그램이 동일한 계산을 반복해야 할 때, 이전에 계산한 값을 메모리에 저장함으로써   \n",
    "동일한 계산의 반복 수행을 제거하여 프로그램 실행 속도를 빠르게 하는 기법\n",
    "![Altext](fibo3-memo.JPG)"
   ]
  },
  {
   "cell_type": "code",
   "execution_count": null,
   "metadata": {},
   "outputs": [],
   "source": [
    "memo = {0:0, 1:1}\n",
    "def fibonacci2(n):\n",
    "    global add_count\n",
    "    if n < 0:\n",
    "        return print(\"please take n as n > 0\")    \n",
    "    if n < len(memo):\n",
    "        #print(\" I am if %d\" %n)\n",
    "        return memo[n]   \n",
    "    else:\n",
    "        #print(\" I am else %d\" %n)\n",
    "        memo[n]=fibonacci2(n-1) + fibonacci2(n-2)\n",
    "        add_count+=1\n",
    "        return memo[n]\n"
   ]
  },
  {
   "cell_type": "code",
   "execution_count": null,
   "metadata": {},
   "outputs": [
    {
     "name": "stdout",
     "output_type": "stream",
     "text": [
      " 7th fibonacci number = 13\n",
      "Total numbers of addition for calculating 7th fibonacci number = 6\n"
     ]
    }
   ],
   "source": [
    "add_count=0\n",
    "n=7\n",
    "result=fibonacci2(n)\n",
    "print(\" %dth fibonacci number = %d\" %(n, result))\n",
    "print(\"Total numbers of addition for calculating %dth fibonacci number = %d\" %(n, add_count))\n"
   ]
  },
  {
   "cell_type": "markdown",
   "metadata": {},
   "source": [
    "#### 피보나츠 수열의 반복적 구현\n",
    "더하기 연산 회수는 n 소요 메모리는 integer 타입 a,b  저장 공간만 필요 "
   ]
  },
  {
   "cell_type": "code",
   "execution_count": null,
   "metadata": {},
   "outputs": [],
   "source": [
    "def fibonacci3(n):    \n",
    "    if n <=1 :\n",
    "        return n\n",
    "    a, b=0, 1\n",
    "    #print(type(a))\n",
    "    for i in range(n):        \n",
    "        b,a = a+b, b\n",
    "    return a"
   ]
  },
  {
   "cell_type": "code",
   "execution_count": null,
   "metadata": {},
   "outputs": [
    {
     "name": "stdout",
     "output_type": "stream",
     "text": [
      "1\n",
      "1\n",
      "2\n",
      "3\n",
      "5\n",
      "8\n",
      "13\n",
      "21\n",
      "34\n"
     ]
    }
   ],
   "source": [
    "for i in range(1,10):\n",
    "    print(fibonacci3(i))"
   ]
  },
  {
   "cell_type": "markdown",
   "metadata": {},
   "source": [
    "### 실습 1.  정수 리스트의 평균값 계산의 재귀적 구현   \n",
    "주어진 정수 리스트 (예 $a=[8,5,3,2,9,1,4,7,6]$ )의 평균을 계산하는 알고리즘의 반복적 방법의 구현은 다음과 같다. 이 평균 구하는 문제를 재귀적 방법으로 구현해 보시오.\n",
    "<br/><br/>\n",
    "※ 풀이조건\n",
    "<ol>\n",
    "    <li>$a=[8,5,3,2,9,1,4,7,6]$ 리스트를 만들어 print 함수를 통해 출력하시오.</li>\n",
    "    <li>재귀 함수를 만들어 평균값을 구하고, 이를 print 함수를 통해 출력하시오.</li>\n",
    "</ol>"
   ]
  },
  {
   "cell_type": "markdown",
   "metadata": {},
   "source": [
    "### 실습 2. Insertion Sort 구현\n",
    "아래 파이썬 코드는 Insertion Sort  를 반복적인 방법으로 구현한 것이다.  이 Insertion Sort 를 재귀적 방법으로 코딩하여 보시오.     \n",
    "그리고, $a=[8,5,3,2,9,1,4,7,6]$ 에 구현한 Insertion Sort 알고리즘을 적용해보시오.   \n",
    "<br/><br/>\n",
    "※ 풀이조건\n",
    "<ol>\n",
    "    <li>$a=[8,5,3,2,9,1,4,7,6]$ 리스트를 만들어 print 함수를 통해 출력하시오.</li>\n",
    "    <li>재귀 함수를 만들어 위 리스트를 정렬하고, 정렬한 결과를 print 함수를 통해 출력하시오.</li>\n",
    "</ol>"
   ]
  },
  {
   "cell_type": "markdown",
   "metadata": {},
   "source": [
    "### 실습 3. Quick Sort\n",
    "#### 다음은 효율적인 Quick Sort 에 대한 설명이다. Quick Sort 를 재귀적 방법으로 파이썬 알고리즘을 구하시오. (2점)\n",
    "\n",
    "#### Quick Sort 는 효율적인 알고리즘이다. 'a1, a2,. . . , an ' 를 정렬하기 위해,  Quick Sort 알고리즘은 첫 번째 요소 a1을 가져 와서 두 개의 서브목록을 형성하는 것으로 시작한다. 첫번째 서브목록은 a1보다 작은 요소들을 포함하고 두번째 서브리스트는 a1보다 큰 요소들을 포함한다. 그런 다음 a1 은 첫번째 서브목록의 끝에 배치한다. 이 절차는 재귀적으로 반복됩니다. 즉, 모든 서브목록에 하나의 요소만이 포함될 때까지 각 서브목록에 대해.  정렬된 목록은 1개의 항목요소를 갖는 서브목록들을을  발생하는 순서대로  결합하여 얻는다.\n",
    "\n",
    "※ 풀이조건\n",
    "<ol>\n",
    "    <li>0 ~ 20까지, 30개의 정수로 이루어진 랜덤 리스트를 만들고 print 함수를 통해 출력한다.</li>\n",
    "    <li>quick sort를 함수를 만들어 위 리스트를 정렬하고, 정렬한 결과를 print 함수를 통해 출력한다.</li>\n",
    "</ol>"
   ]
  }
 ],
 "metadata": {
  "kernelspec": {
   "display_name": "Python 3.9.7 ('base')",
   "language": "python",
   "name": "python3"
  },
  "language_info": {
   "codemirror_mode": {
    "name": "ipython",
    "version": 3
   },
   "file_extension": ".py",
   "mimetype": "text/x-python",
   "name": "python",
   "nbconvert_exporter": "python",
   "pygments_lexer": "ipython3",
   "version": "3.9.7"
  },
  "vscode": {
   "interpreter": {
    "hash": "1448b48b023bcc9c3d4a79e814720a10ca6d4244f75e0f7ce4af58f96ba2b7d3"
   }
  }
 },
 "nbformat": 4,
 "nbformat_minor": 4
}
