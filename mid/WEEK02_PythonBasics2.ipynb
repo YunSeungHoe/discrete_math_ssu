{
 "cells": [
  {
   "cell_type": "markdown",
   "metadata": {},
   "source": [
    "# 2주 1강: Python Basics2\n",
    "Python에 익숙하지 않은 수강생분들이 있는 것 같아서, Python의 기본 문법을 간단히 다뤄볼까 합니다"
   ]
  },
  {
   "cell_type": "markdown",
   "metadata": {},
   "source": [
    "## 7. 조건문 (conditions)\n",
    "\n",
    "if, elif, else 의 형태를 씁니다.\n",
    "\n",
    "논리연산은 아래의 5가지가 있습니다\n",
    "\n",
    "```python\n",
    "== \n",
    "!= \n",
    ">\n",
    ">=\n",
    "<= \n",
    "```"
   ]
  },
  {
   "cell_type": "code",
   "execution_count": 18,
   "metadata": {},
   "outputs": [
    {
     "name": "stdout",
     "output_type": "stream",
     "text": [
      "학업장려 장학금을 수여받을 수 있습니다\n",
      "우수 졸업입니다.\n",
      "2016학번 이외의 졸업자는 졸업식 전에 과사무실에 방문해야 합니다\n"
     ]
    }
   ],
   "source": [
    "my_gpa = 3.5\n",
    "my_admission_year = 2017\n",
    "\n",
    "if(my_gpa > 4.0):\n",
    "    print(\"당신은 최우수 장학금을 수여받을 수 있습니다\")\n",
    "else:\n",
    "    print(\"학업장려 장학금을 수여받을 수 있습니다\")\n",
    "    \n",
    "if(my_gpa >= 4.0):\n",
    "    print(\"최우수 졸업입니다\")\n",
    "elif(my_gpa <= 2.0):\n",
    "    print(\"졸업을 축하합니다\")\n",
    "else:\n",
    "    print(\"우수 졸업입니다.\")\n",
    "    \n",
    "if(my_gpa >= 4.0 and my_admission_year >= 2018):\n",
    "    print(\"졸업시에 총장님의 악수를 받을 수 있습니다\")\n",
    "elif(my_gpa == 4.3 or my_admission_year < 2000):\n",
    "    print(\"졸업 대표가 되셨습니다\")\n",
    "elif not(my_admission_year == 2016): # not으로 조건이 \"옳지 않을 때\"를 표현할 수 있습니다\n",
    "    print(\"2016학번 이외의 졸업자는 졸업식 전에 과사무실에 방문해야 합니다\")\n",
    "else:\n",
    "    print(\"2016학번 여러분의 졸업을 축하합니다\")"
   ]
  },
  {
   "cell_type": "markdown",
   "metadata": {},
   "source": [
    "## 8. For loop\n",
    "for문을 사용하는 법을 알아봅니다.\n",
    "for문은 종료 횟수를 우리가 정확하게 측정 가능한 경우에 쓰면 좋습니다"
   ]
  },
  {
   "cell_type": "code",
   "execution_count": 19,
   "metadata": {},
   "outputs": [
    {
     "name": "stdout",
     "output_type": "stream",
     "text": [
      "0 1 2 3 4 5 6 7 8 9 \n",
      "\n"
     ]
    }
   ],
   "source": [
    "for x in range(0, 10): # range(a,b) 는 a, a+1, ..., b-1 까지를 반환합니다\n",
    "    print(x, \"\", end=\"\")\n",
    "print(\"\\n\")"
   ]
  },
  {
   "cell_type": "code",
   "execution_count": 20,
   "metadata": {},
   "outputs": [
    {
     "name": "stdout",
     "output_type": "stream",
     "text": [
      "GitHub 가입\n",
      "Python 설치\n",
      "문제 1번 풀기\n",
      "문제 2번 풀기\n",
      "GitHub 가입\n",
      "Python 설치\n",
      "문제 1번 풀기\n",
      "문제 2번 풀기\n"
     ]
    }
   ],
   "source": [
    "homework_list = [\"GitHub 가입\", \"Python 설치\", \"문제 1번 풀기\", \"문제 2번 풀기\"]\n",
    "for y in homework_list: # 리스트를 넣으면 리스트의 element 하나씩 반복문에 사용됩니다\n",
    "    print(y)\n",
    "    \n",
    "for y in [\"GitHub 가입\", \"Python 설치\", \"문제 1번 풀기\", \"문제 2번 풀기\"]:\n",
    "    print(y) # 이렇게 바로 list를 넣어도 작동합니다"
   ]
  },
  {
   "cell_type": "code",
   "execution_count": 21,
   "metadata": {},
   "outputs": [
    {
     "name": "stdout",
     "output_type": "stream",
     "text": [
      "1\n",
      "2\n",
      "3\n",
      "10\n",
      "20\n",
      "30\n",
      "100\n",
      "200\n",
      "300\n"
     ]
    }
   ],
   "source": [
    "numbers = [[1, 2, 3], [10, 20, 30], [100, 200, 300]]\n",
    "for i in range(len(numbers)):\n",
    "    for j in range(len(numbers[i])):\n",
    "        print(numbers[i][j])"
   ]
  },
  {
   "cell_type": "code",
   "execution_count": 22,
   "metadata": {},
   "outputs": [
    {
     "name": "stdout",
     "output_type": "stream",
     "text": [
      "0 1 2 3 \n",
      "\n",
      "1 3 5 7 9 \n",
      "\n"
     ]
    }
   ],
   "source": [
    "for x in range(0, 10): # range(a,b) 는 a, a+1, ..., b-1 까지를 반환합니다\n",
    "    print(x, \"\", end=\"\")\n",
    "    if(x == 3):\n",
    "        break # 이렇게 중간에 loop를 멈출 수 있습니다       \n",
    "print(\"\\n\")\n",
    "\n",
    "for x in range(0, 10): # range(a,b) 는 a, a+1, ..., b-1 까지를 반환합니다\n",
    "    if(x % 2 == 0):\n",
    "        continue # 이렇게 contiunue를 통해 아래의 구문을 넘길 수 있습니다\n",
    "    print(x, \"\", end=\"\")\n",
    "    \n",
    "print(\"\\n\")"
   ]
  },
  {
   "cell_type": "markdown",
   "metadata": {},
   "source": [
    "## 9. While loop\n",
    "종료 횟수를 측정하기 힘들 때는 while을 써 봅시다"
   ]
  },
  {
   "cell_type": "code",
   "execution_count": 23,
   "metadata": {},
   "outputs": [],
   "source": [
    "import random \n",
    "# (pseudo) random number generater를 불러옵니다\n",
    "# python의 기본 random number generator는 mersenne twister 인지라 성능이 좋습니다."
   ]
  },
  {
   "cell_type": "code",
   "execution_count": 24,
   "metadata": {},
   "outputs": [
    {
     "name": "stdout",
     "output_type": "stream",
     "text": [
      "4\n",
      "61\n",
      "29\n",
      "8\n",
      "53\n",
      "85\n",
      "86\n",
      "26\n"
     ]
    }
   ],
   "source": [
    "randnum = random.randrange(0, 100)\n",
    "while(randnum < 90):\n",
    "    print(randnum)\n",
    "    randnum = random.randrange(0, 100)"
   ]
  },
  {
   "cell_type": "code",
   "execution_count": 25,
   "metadata": {},
   "outputs": [
    {
     "name": "stdout",
     "output_type": "stream",
     "text": [
      "1\n",
      "3\n",
      "5\n"
     ]
    }
   ],
   "source": [
    "index = 0\n",
    "while(index < 10):\n",
    "    index += 1\n",
    "    if(index % 2 == 0):\n",
    "        continue\n",
    "    elif(index == 7):\n",
    "        break\n",
    "    print(index)        \n",
    "    "
   ]
  },
  {
   "cell_type": "markdown",
   "metadata": {},
   "source": [
    "## 10. Define functions\n",
    "\n",
    "function은 def로 정의합니다."
   ]
  },
  {
   "cell_type": "code",
   "execution_count": 26,
   "metadata": {},
   "outputs": [
    {
     "name": "stdout",
     "output_type": "stream",
     "text": [
      "11\n"
     ]
    }
   ],
   "source": [
    "def addNumber(number1, number2):\n",
    "    total = number1 + number2\n",
    "    return total\n",
    "print(addNumber(1, 10))\n",
    "#print(total) # function 안에 정의된 변수는 function 안에서만 쓰입니다"
   ]
  },
  {
   "cell_type": "markdown",
   "metadata": {},
   "source": [
    "## 11. String operations\n",
    "python은 아주 강력한 문자열 처리 기능을 지원합니다.\n",
    "\n",
    "python3는 기본적으로 unicode로 처리하므로 한국어 처리가 잘 되는 편입니다"
   ]
  },
  {
   "cell_type": "code",
   "execution_count": 27,
   "metadata": {},
   "outputs": [
    {
     "name": "stdout",
     "output_type": "stream",
     "text": [
      "이상을 우\n",
      "름이 없고\n",
      "이상을 우러르는 우리의 기상 저높은 백두산과 다름이 없고진리를 사모하는 우리의 마음\n",
      "나는 윤진혁 이고, 숭실대학교 교수 입니다 2020년 부터 숭실대학교에서 일합니다\n",
      "나는 윤진혁 이고, 숭실대학교 교수 입니다 2020년 부터 숭실대학교에서 일합니다\n"
     ]
    }
   ],
   "source": [
    "ssu_song = \"이상을 우러르는 우리의 기상 저높은 백두산과 다름이 없고\" # 교가입니다 -_-\n",
    "# string은 list처럼 쓸 수 있습니다. \n",
    "\n",
    "print(ssu_song[0:5]) # 앞부터 자르면 이렇게 되고\n",
    "print(ssu_song[-5:]) # -를 통해서 index를 뒤부터 셀 수 있습니다\n",
    "print(ssu_song + \"진리를 사모하는 우리의 마음\") # -를 통해서 index를 뒤부터 셀 수 있습니다\n",
    "\n",
    "name = \"윤진혁\"\n",
    "myclass = \"교수\"\n",
    "mystartingyear = 2020\n",
    "print(\"나는 %s 이고, 숭실대학교 %s 입니다 %d년 부터 숭실대학교에서 일합니다\" \n",
    "      % (name, myclass, mystartingyear))\n",
    "\n",
    "# python 3에는 fstring이라는 조금 더 진보한 방법도 있습니다 (추천)\n",
    "print(f\"나는 {name} 이고, 숭실대학교 {myclass} 입니다 {mystartingyear}년 부터 숭실대학교에서 일합니다\")"
   ]
  },
  {
   "cell_type": "markdown",
   "metadata": {},
   "source": [
    "영어는 조금 더 강력한 기능들이 있습니다"
   ]
  },
  {
   "cell_type": "code",
   "execution_count": 28,
   "metadata": {},
   "outputs": [
    {
     "name": "stdout",
     "output_type": "stream",
     "text": [
      "Every night in my dreams, i see you, i feel you - my heart will go on\n",
      "every night in my dreams, i see you, i feel you - my heart will go on\n",
      "EVERY NIGHT IN MY DREAMS, I SEE YOU, I FEEL YOU - MY HEART WILL GO ON\n",
      "False\n",
      "False\n",
      "Every night in my dreams, I see you, I feel you - my heart will go on by Celine Dion\n",
      "18\n",
      "['Every', 'night', 'in', 'my', 'dreams,', 'I', 'see', 'you,', 'I', 'feel', 'you', '-', 'my', 'heart', 'will', 'go', 'on']\n",
      "['Every night in my dreams', ' I see you', ' I feel you - my heart will go on']\n",
      "Somewhere over the rainbow, way up high\n",
      "     Somewhere over the rainbow, way up high\n",
      "Somewhere over the rainbow, way up high     \n"
     ]
    }
   ],
   "source": [
    "pop_song = \"Every night in my dreams, I see you, I feel you - my heart will go on\" # by Celine Dion\n",
    "\n",
    "print(pop_song.capitalize()) # 첫 글자만 대문자로\n",
    "print(pop_song.lower()) # 전부 소문자로\n",
    "print(pop_song.upper()) # 전부 대문자로\n",
    "\n",
    "print(pop_song.isalpha()) # alphabet으로 되어있는지\n",
    "print(pop_song.isalnum()) # alphabet과 숫자로 되어있는지\n",
    "\n",
    "print(pop_song.replace(\"on\", \"on by Celine Dion\")) # 치환\n",
    "print(pop_song.find(\"dreams\")) # 찾고 위치의 index를 반환\n",
    "print(pop_song.split()) # string을 분할해서 list of string으로 만들어줍니다. 기본은 공백으로 분할\n",
    "print(pop_song.split(\",\")) # 다른 문자로 분할할 수 있습니다.\n",
    "\n",
    "pop_song2 = \"     Somewhere over the rainbow, way up high     \"\n",
    "print(pop_song2.strip())\n",
    "print(pop_song2.rstrip())\n",
    "print(pop_song2.lstrip())"
   ]
  },
  {
   "cell_type": "markdown",
   "metadata": {},
   "source": [
    "## 12. File IO\n",
    "파일 입출력 방법을 배웁니다"
   ]
  },
  {
   "cell_type": "code",
   "execution_count": 29,
   "metadata": {},
   "outputs": [
    {
     "name": "stdout",
     "output_type": "stream",
     "text": [
      "w\n",
      "./test.txt\n"
     ]
    }
   ],
   "source": [
    "test_file = open(\"./test.txt\", \"w\") # 쓰기는 이렇게 하면 됩니다.\n",
    "print(test_file.mode)\n",
    "print(test_file.name)\n",
    "test_file.write(\"안녕하세요?\")\n",
    "test_file.close()"
   ]
  },
  {
   "cell_type": "code",
   "execution_count": 30,
   "metadata": {},
   "outputs": [
    {
     "name": "stdout",
     "output_type": "stream",
     "text": [
      "r\n",
      "./test.txt\n",
      "안녕하세요?\n"
     ]
    }
   ],
   "source": [
    "test_file = open(\"./test.txt\", \"r\")\n",
    "print(test_file.mode)\n",
    "print(test_file.name)\n",
    "text_in_file = test_file.read()\n",
    "print(text_in_file)\n",
    "test_file.close()"
   ]
  },
  {
   "cell_type": "code",
   "execution_count": 31,
   "metadata": {},
   "outputs": [],
   "source": [
    "import os\n",
    "os.remove(\"./test.txt\") # 파일 삭제도 가능합니다"
   ]
  },
  {
   "cell_type": "code",
   "execution_count": 32,
   "metadata": {},
   "outputs": [],
   "source": [
    "import csv # comma separated file을 다루는 methods들을 제공합니다"
   ]
  },
  {
   "cell_type": "markdown",
   "metadata": {},
   "source": [
    "## 13. class와 object\n",
    "\n",
    "객체지향 프로그래밍을 위한 class와 object에 대해 알아봅시다"
   ]
  },
  {
   "cell_type": "code",
   "execution_count": 33,
   "metadata": {},
   "outputs": [],
   "source": [
    "class Student:\n",
    "    '''학생 정보에 대한 클래스입니다'''\n",
    "    __name = \"\" # python은 pritave 변수를 __으로 표현합니다 _인 경우는 protected 입니다\n",
    "    __id = 0\n",
    "    __gpa = 0.0\n",
    "    __department = \"\"\n",
    "    \n",
    "    # class 내에 정의된 함수를 method라고 합니다.\n",
    "    # class의 methods는 무조건 첫 번째 인자가 self 여야 합니다. \n",
    "    # https://wikidocs.net/1742 이 문서를 읽어보세요\n",
    "   \n",
    "    def __init__(self, name, id, gpa, department):\n",
    "        self.__name = name\n",
    "        self.__id = id\n",
    "        self.__gpa = gpa\n",
    "        self.__department = department\n",
    "           \n",
    "    def set_name(self, name): # self는 c++의 this같은 역할을 합니다.\n",
    "        self.__name = name\n",
    "    \n",
    "    def set_id(self, id):\n",
    "        self.__id = id\n",
    "\n",
    "    def set_gpa(self, gpa):\n",
    "        self.__gpa = gpa\n",
    "        \n",
    "    def set_department(self, department):\n",
    "        self.__department = department\n",
    "\n",
    "    def get_name(self):\n",
    "        return self.__name\n",
    "\n",
    "    def get_id(self):\n",
    "        return self.__id\n",
    "    \n",
    "    def get_gpa(self):\n",
    "        return self.__gpa\n",
    "       \n",
    "    def get_department(self):\n",
    "        return self.__department\n",
    "    \n",
    "    def get_type(self):\n",
    "        print(\"Student\")\n",
    "    \n",
    "    def toString(self):\n",
    "        return f\"학생 {self.__name}은(는) 학번이 {self.__id}이고, 평균학점은 {self.__gpa}이며 {self.__department}를 다닙니다\""
   ]
  },
  {
   "cell_type": "code",
   "execution_count": 34,
   "metadata": {},
   "outputs": [],
   "source": [
    "jinhyuk = Student(\"윤진혁\", 20202020, 4.3, \"스시소\")"
   ]
  },
  {
   "cell_type": "code",
   "execution_count": 35,
   "metadata": {},
   "outputs": [
    {
     "data": {
      "text/plain": [
       "'학생 윤진혁은(는) 학번이 20202020이고, 평균학점은 4.3이며 스시소를 다닙니다'"
      ]
     },
     "execution_count": 35,
     "metadata": {},
     "output_type": "execute_result"
    }
   ],
   "source": [
    "jinhyuk.toString()"
   ]
  },
  {
   "cell_type": "code",
   "execution_count": 36,
   "metadata": {},
   "outputs": [],
   "source": [
    "class UnionStudent(Student):\n",
    "    __unionclass = \"\"\n",
    "    \n",
    "    def __init__(self, name, id, gpa, department, unionclass):\n",
    "        self.__unionclass = unionclass\n",
    "        super(UnionStudent, self).__init__(name, id, gpa, department) # 부모 클래스를 초기화\n",
    "        \n",
    "    def set_class(self, unionclass): \n",
    "        self.__unionclass = unionclass\n",
    "    \n",
    "    def get_class(self): \n",
    "        return self.__unionclass\n",
    "    \n",
    "    def get_type(self):\n",
    "        print(\"Student Union\")\n",
    "\n",
    "    def toString(self):\n",
    "        return f\"학생 {self.get_name()}은(는) 학번이 {self.get_id()}이고, 평균학점은 {self.get_gpa()}이며 {self.get_department()}를 다니는 학생회 {self.__unionclass}입니다\""
   ]
  },
  {
   "cell_type": "code",
   "execution_count": 37,
   "metadata": {},
   "outputs": [
    {
     "data": {
      "text/plain": [
       "'학생 Mike은(는) 학번이 20202021이고, 평균학점은 4.3이며 스시소를 다니는 학생회 과대표입니다'"
      ]
     },
     "execution_count": 37,
     "metadata": {},
     "output_type": "execute_result"
    }
   ],
   "source": [
    "mike = UnionStudent(\"Mike\", 20202021, 4.3, \"스시소\", \"과대표\")\n",
    "mike.toString()"
   ]
  },
  {
   "cell_type": "markdown",
   "metadata": {},
   "source": [
    "## 14. Inline operations\n",
    "\n",
    "Python을 Python답게 해 주는 것 중 대표적인 것이 inline for문과 if문일 것입니다. 이를 간단히 알아봅시다."
   ]
  },
  {
   "cell_type": "code",
   "execution_count": 38,
   "metadata": {},
   "outputs": [
    {
     "name": "stdout",
     "output_type": "stream",
     "text": [
      ",\n",
      "3\n",
      "['2', '4', '6']\n",
      "[2, 2, 6, 4, 10, 6]\n",
      "{2: 200, 4: 400}\n"
     ]
    }
   ],
   "source": [
    "num_list = [1, 2, 3, 4, 5, 6]\n",
    "# num_list = list(range(6)) # 이렇게 간단히 정의 할 수도 있습니다.\n",
    "\n",
    "# 이 리스트의 element를 전부 str로 변환하고 싶다고 해 보죠\n",
    "str(num_list) # 이렇게 하면 한 개의 string이 됩니다. \n",
    "print(str(num_list)[2]) # 그래서 index 2의 \"문자\" 인 , 이 출력되죠\n",
    "# 이걸 elementwise하게 바꾸는 것은 아래처럼 하시면 됩니다\n",
    "str_list = [str(x) for x in num_list]\n",
    "print(num_list[2]) # 원하는대로 3이 출력됩니다.\n",
    "\n",
    "# 만약 짝수만 가져와서 string으로 바꾸고 싶으면 어떻게 할까요?\n",
    "part_str_list = [str(x) for x in num_list if x%2 == 0]\n",
    "print(part_str_list)\n",
    "\n",
    "# 짝수는 그대로, 홀수는 두 배로 곱하고 싶다면?\n",
    "print([x if x%2==0 else x*2 for x in num_list]) # if/else를 모두 쓰려면 순서가 조금 다릅니다.\n",
    "\n",
    "num_dict = {1: 100, 2: 200, 3:300, 4:400}\n",
    "num_dict_filtered = {k: v for k, v in num_dict.items() if k%2 == 0} # dict나 set도 같은 방식으로 가능합니다.\n",
    "print(num_dict_filtered)"
   ]
  },
  {
   "cell_type": "markdown",
   "metadata": {},
   "source": [
    "## 15. 마치면서\n",
    "이 이외에도 Python은 정말 많은 강력한 기능이 있습니다.\n",
    "\n",
    "Python은 사람의 생각하는 논리와 많은 부분이 일치되도록 구성되어 있어서, \"이게 되나\" 싶은 대로 쓰면 되는 경우가 아주 많습니다. 여러가지 실험을 많이 해 보시길 바랍니다!"
   ]
  },
  {
   "cell_type": "code",
   "execution_count": null,
   "metadata": {},
   "outputs": [],
   "source": []
  }
 ],
 "metadata": {
  "kernelspec": {
   "display_name": "Python 3",
   "language": "python",
   "name": "python3"
  },
  "language_info": {
   "codemirror_mode": {
    "name": "ipython",
    "version": 3
   },
   "file_extension": ".py",
   "mimetype": "text/x-python",
   "name": "python",
   "nbconvert_exporter": "python",
   "pygments_lexer": "ipython3",
   "version": "3.8.10"
  }
 },
 "nbformat": 4,
 "nbformat_minor": 4
}
