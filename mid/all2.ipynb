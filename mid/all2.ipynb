{
 "cells": [
  {
   "cell_type": "markdown",
   "metadata": {},
   "source": [
    "# 중간고사 대비 각종 구현 함수들\n",
    "1. quick sort\n",
    "   1. 재귀함수\n",
    "   2. 최적화된 재귀함수\n",
    "2. merge sort \n",
    "   1. 반복 함수\n",
    "   2. 최적화된 merge sort\n",
    "3. 재귀 함수 적용 예시\n",
    "   1. 위치 탐색 \n",
    "   2. 2진수로 변환\n",
    "   3. 배열의 합\n",
    "   4. 정수 0 부터 n까지 합구하기\n",
    "   5. 1부터 n까지 곱구하기\n",
    "   6. $x^n$ 구하기 \n",
    "   7. 피보나치 수열\n",
    "   8. 최대공약수 최소공배수\n",
    "   9. 하노이 탑\n",
    "4. 멱집합 재귀함수 구현 power set"
   ]
  },
  {
   "cell_type": "markdown",
   "metadata": {},
   "source": [
    "## 1. quick sort"
   ]
  },
  {
   "cell_type": "code",
   "execution_count": 2,
   "metadata": {},
   "outputs": [
    {
     "data": {
      "text/plain": [
       "[1, 2, 3, 4, 5, 6, 7, 8, 9]"
      ]
     },
     "execution_count": 2,
     "metadata": {},
     "output_type": "execute_result"
    }
   ],
   "source": [
    "def quick_sort(arr):\n",
    "    if len(arr) <= 1:\n",
    "        return arr\n",
    "    pivot = arr[len(arr) // 2]\n",
    "    lesser_arr, equal_arr, greater_arr = [], [], []\n",
    "    for num in arr:\n",
    "        if num < pivot:\n",
    "            lesser_arr.append(num)\n",
    "        elif num > pivot:\n",
    "            greater_arr.append(num)\n",
    "        else:\n",
    "            equal_arr.append(num)\n",
    "    return quick_sort(lesser_arr) + equal_arr + quick_sort(greater_arr)\n",
    "a = [9, 8, 7, 6, 5, 4, 3, 2, 1]\n",
    "quick_sort(a)"
   ]
  },
  {
   "cell_type": "code",
   "execution_count": 6,
   "metadata": {},
   "outputs": [
    {
     "data": {
      "text/plain": [
       "[1, 2, 3, 4, 5, 6, 7, 8, 9]"
      ]
     },
     "execution_count": 6,
     "metadata": {},
     "output_type": "execute_result"
    }
   ],
   "source": [
    "def quick_sort(arr):\n",
    "    def sort(low, high):\n",
    "        if high <= low:\n",
    "            return\n",
    "\n",
    "        mid = partition(low, high)\n",
    "        sort(low, mid - 1)\n",
    "        sort(mid, high)\n",
    "\n",
    "    def partition(low, high):\n",
    "        pivot = arr[(low + high) // 2]\n",
    "        while low <= high:\n",
    "            while arr[low] < pivot:\n",
    "                low += 1\n",
    "            while arr[high] > pivot:\n",
    "                high -= 1\n",
    "            if low <= high:\n",
    "                arr[low], arr[high] = arr[high], arr[low]\n",
    "                low, high = low + 1, high - 1\n",
    "        return low\n",
    "\n",
    "    return sort(0, len(arr) - 1)\n",
    "a = [9, 8, 7, 6, 5, 4, 3, 2, 1]\n",
    "quick_sort(a)\n",
    "a"
   ]
  },
  {
   "cell_type": "markdown",
   "metadata": {},
   "source": [
    "## 2. merge_sort"
   ]
  },
  {
   "cell_type": "code",
   "execution_count": 13,
   "metadata": {},
   "outputs": [
    {
     "data": {
      "text/plain": [
       "[1, 2, 3, 4, 5, 6, 7, 8, 9]"
      ]
     },
     "execution_count": 13,
     "metadata": {},
     "output_type": "execute_result"
    }
   ],
   "source": [
    "def merge_sort(arr):\n",
    "    if len(arr) < 2:\n",
    "        return arr\n",
    "\n",
    "    mid = len(arr) // 2\n",
    "    low_arr = merge_sort(arr[:mid])\n",
    "    high_arr = merge_sort(arr[mid:])\n",
    "\n",
    "    merged_arr = []\n",
    "    l = h = 0\n",
    "    while l < len(low_arr) and h < len(high_arr):\n",
    "        if low_arr[l] < high_arr[h]:\n",
    "            merged_arr.append(low_arr[l])\n",
    "            l += 1\n",
    "        else:\n",
    "            merged_arr.append(high_arr[h])\n",
    "            h += 1\n",
    "    merged_arr += low_arr[l:]\n",
    "    merged_arr += high_arr[h:]\n",
    "    return merged_arr\n",
    "\n",
    "a = [9, 8, 7, 6, 5, 4, 3, 2, 1]\n",
    "merge_sort(a)\n"
   ]
  },
  {
   "cell_type": "code",
   "execution_count": 17,
   "metadata": {},
   "outputs": [
    {
     "data": {
      "text/plain": [
       "[1, 2, 3, 4, 5, 6, 7, 8, 9]"
      ]
     },
     "execution_count": 17,
     "metadata": {},
     "output_type": "execute_result"
    }
   ],
   "source": [
    "def merge_sort(arr):\n",
    "    def sort(low, high):\n",
    "        if high - low < 2:\n",
    "            return\n",
    "        mid = (low + high) // 2\n",
    "        sort(low, mid)\n",
    "        sort(mid, high)\n",
    "        merge(low, mid, high)\n",
    "\n",
    "    def merge(low, mid, high):\n",
    "        temp = []\n",
    "        l, h = low, mid\n",
    "\n",
    "        while l < mid and h < high:\n",
    "            if arr[l] < arr[h]:\n",
    "                temp.append(arr[l])\n",
    "                l += 1\n",
    "            else:\n",
    "                temp.append(arr[h])\n",
    "                h += 1\n",
    "\n",
    "        while l < mid:\n",
    "            temp.append(arr[l])\n",
    "            l += 1\n",
    "        while h < high:\n",
    "            temp.append(arr[h])\n",
    "            h += 1\n",
    "\n",
    "        else:\n",
    "            equal_arr.append(num)\n",
    "    return quick_sort(lesser_arr) + equal_arr + quick_sort(greater_arr)\n",
    "a = [9, 8, 7, 6, 5, 4, 3, 2, 1]\n",
    "quick_sort(a)\n",
    "a = [9, 8, 7, 6, 5, 4, 3, 2, 1]\n",
    "merge_sort(a)\n",
    "a"
   ]
  },
  {
   "cell_type": "markdown",
   "metadata": {},
   "source": [
    "## 3. 재귀함수 적용 예시"
   ]
  },
  {
   "cell_type": "code",
   "execution_count": 19,
   "metadata": {},
   "outputs": [
    {
     "data": {
      "text/plain": [
       "2"
      ]
     },
     "execution_count": 19,
     "metadata": {},
     "output_type": "execute_result"
    }
   ],
   "source": [
    "# 재귀 함수 예시 (위치 탐색)\n",
    "def search(li, begin, end, target):\n",
    "    if begin>end:\n",
    "        return -1\n",
    "    elif target == li[begin]:\n",
    "        return begin\n",
    "    else:\n",
    "        return search(li, begin+1, end, target)\n",
    "\n",
    "li = [1,6,10,7,2,5]\n",
    "target = 10\n",
    "search(li, 0, 5, 10) # 2"
   ]
  },
  {
   "cell_type": "code",
   "execution_count": 21,
   "metadata": {},
   "outputs": [
    {
     "name": "stdout",
     "output_type": "stream",
     "text": [
      "1111"
     ]
    }
   ],
   "source": [
    "# 2진수 변환\n",
    "def print_binary(n):\n",
    "    if n<2:\n",
    "        print(n, end='')\n",
    "    else:\n",
    "        print_binary(n//2)\n",
    "        print(n%2,end='')\n",
    "\n",
    "print_binary(15) #1111\t\t"
   ]
  },
  {
   "cell_type": "code",
   "execution_count": 25,
   "metadata": {},
   "outputs": [
    {
     "data": {
      "text/plain": [
       "10"
      ]
     },
     "execution_count": 25,
     "metadata": {},
     "output_type": "execute_result"
    }
   ],
   "source": [
    "#배열의 합\n",
    "def sum(n, li):\n",
    "    if n<=0 or n >= len(li):\n",
    "        return 0\n",
    "    return li[n-1] + sum(n-1, li)\n",
    "a = [1,2,3,4,5]\n",
    "sum(4, a)"
   ]
  },
  {
   "cell_type": "code",
   "execution_count": 27,
   "metadata": {},
   "outputs": [
    {
     "data": {
      "text/plain": [
       "10"
      ]
     },
     "execution_count": 27,
     "metadata": {},
     "output_type": "execute_result"
    }
   ],
   "source": [
    "# 0부터 n까지의 합계 구하기\n",
    "def sum(n): # 이 함수의 목표는 0~n 까지의 합을 구하는 것이다\n",
    "    if n == 0: # n=0 이면 합은 0이다\n",
    "        return 0\n",
    "    return n + sum(n-1) # n이 0보다 크면 0에서 n 까지의 합은, n-1까지의 합에 n을 더한 것이다.\n",
    "\n",
    "sum(4) # 10"
   ]
  },
  {
   "cell_type": "code",
   "execution_count": 29,
   "metadata": {},
   "outputs": [
    {
     "data": {
      "text/plain": [
       "24"
      ]
     },
     "execution_count": 29,
     "metadata": {},
     "output_type": "execute_result"
    }
   ],
   "source": [
    "# 1부터 n까지 곱구하기\n",
    "def factorial(n):\n",
    "    if n == 0:\n",
    "        return 1\n",
    "    return n * factorial(n-1)\n",
    "\n",
    "factorial(4)"
   ]
  },
  {
   "cell_type": "code",
   "execution_count": 31,
   "metadata": {},
   "outputs": [
    {
     "data": {
      "text/plain": [
       "1024"
      ]
     },
     "execution_count": 31,
     "metadata": {},
     "output_type": "execute_result"
    }
   ],
   "source": [
    "# x^n 구현\n",
    "def power(x, n):\n",
    "    if n == 0:\n",
    "        return 1\n",
    "    return x * power(x, n-1)\n",
    "\n",
    "power(2,10) # 1024"
   ]
  },
  {
   "cell_type": "code",
   "execution_count": 33,
   "metadata": {},
   "outputs": [],
   "source": [
    "# 피보나치 수열의 index n의 값을 리턴\n",
    "# 피보나치 수열 : 1, 1, 2, 3, 5, 8, 13, 21, 34 ...\n",
    "def fibo(n):\n",
    "    # 재귀함수는 탈출조건이 꼭 필요하다.\n",
    "    if n == 0 or n == 1:\n",
    "        return 1\n",
    "    return fibo(n-2) + fibo(n-1)\n",
    "\n",
    "# index n까지의 피보나치 수열 구하기\n",
    "def fibo_list(n):\n",
    "    for i in range(n):\n",
    "        print(fibo(i), end= \" \")"
   ]
  },
  {
   "cell_type": "code",
   "execution_count": 35,
   "metadata": {},
   "outputs": [
    {
     "name": "stdout",
     "output_type": "stream",
     "text": [
      "12\n"
     ]
    }
   ],
   "source": [
    "def gcd(m, n):\n",
    "    if m < n:\n",
    "        m, n = n, m\n",
    "    if m % n == 0:\n",
    "        return n\n",
    "    else:\n",
    "        return gcd(n, m%n)\n",
    "\n",
    "print(gcd(48, 60)) # 12"
   ]
  },
  {
   "cell_type": "code",
   "execution_count": 37,
   "metadata": {},
   "outputs": [
    {
     "name": "stdout",
     "output_type": "stream",
     "text": [
      "A에서 B로 1 번째 원반 이동\n",
      "A에서 C로 2 번째 원반 이동\n",
      "B에서 C로 1 번째 원반 이동\n",
      "A에서 B로 3 번째 원반 이동\n",
      "C에서 A로 1 번째 원반 이동\n",
      "C에서 B로 2 번째 원반 이동\n",
      "A에서 B로 1 번째 원반 이동\n",
      "A에서 C로 4 번째 원반 이동\n",
      "B에서 C로 1 번째 원반 이동\n",
      "B에서 A로 2 번째 원반 이동\n",
      "C에서 A로 1 번째 원반 이동\n",
      "B에서 C로 3 번째 원반 이동\n",
      "A에서 B로 1 번째 원반 이동\n",
      "A에서 C로 2 번째 원반 이동\n",
      "B에서 C로 1 번째 원반 이동\n",
      "A에서 B로 5 번째 원반 이동\n",
      "C에서 A로 1 번째 원반 이동\n",
      "C에서 B로 2 번째 원반 이동\n",
      "A에서 B로 1 번째 원반 이동\n",
      "C에서 A로 3 번째 원반 이동\n",
      "B에서 C로 1 번째 원반 이동\n",
      "B에서 A로 2 번째 원반 이동\n",
      "C에서 A로 1 번째 원반 이동\n",
      "C에서 B로 4 번째 원반 이동\n",
      "A에서 B로 1 번째 원반 이동\n",
      "A에서 C로 2 번째 원반 이동\n",
      "B에서 C로 1 번째 원반 이동\n",
      "A에서 B로 3 번째 원반 이동\n",
      "C에서 A로 1 번째 원반 이동\n",
      "C에서 B로 2 번째 원반 이동\n",
      "A에서 B로 1 번째 원반 이동\n",
      "A에서 C로 6 번째 원반 이동\n",
      "B에서 C로 1 번째 원반 이동\n",
      "B에서 A로 2 번째 원반 이동\n",
      "C에서 A로 1 번째 원반 이동\n",
      "B에서 C로 3 번째 원반 이동\n",
      "A에서 B로 1 번째 원반 이동\n",
      "A에서 C로 2 번째 원반 이동\n",
      "B에서 C로 1 번째 원반 이동\n",
      "B에서 A로 4 번째 원반 이동\n",
      "C에서 A로 1 번째 원반 이동\n",
      "C에서 B로 2 번째 원반 이동\n",
      "A에서 B로 1 번째 원반 이동\n",
      "C에서 A로 3 번째 원반 이동\n",
      "B에서 C로 1 번째 원반 이동\n",
      "B에서 A로 2 번째 원반 이동\n",
      "C에서 A로 1 번째 원반 이동\n",
      "B에서 C로 5 번째 원반 이동\n",
      "A에서 B로 1 번째 원반 이동\n",
      "A에서 C로 2 번째 원반 이동\n",
      "B에서 C로 1 번째 원반 이동\n",
      "A에서 B로 3 번째 원반 이동\n",
      "C에서 A로 1 번째 원반 이동\n",
      "C에서 B로 2 번째 원반 이동\n",
      "A에서 B로 1 번째 원반 이동\n",
      "A에서 C로 4 번째 원반 이동\n",
      "B에서 C로 1 번째 원반 이동\n",
      "B에서 A로 2 번째 원반 이동\n",
      "C에서 A로 1 번째 원반 이동\n",
      "B에서 C로 3 번째 원반 이동\n",
      "A에서 B로 1 번째 원반 이동\n",
      "A에서 C로 2 번째 원반 이동\n",
      "B에서 C로 1 번째 원반 이동\n"
     ]
    }
   ],
   "source": [
    "def hanoi(num, _from, _by, _to):\n",
    "    #탈출 조건\n",
    "    if num == 1:\n",
    "        print(\"{}에서 {}로 {} 번째 원반 이동\".format(_from, _to, num))\n",
    "        return\n",
    "    print(\"{}에서 {}로 {} 번째 원반 이동\".format(_from, _to, num))\n",
    "    hanoi(num-1, _by, _from, _to)\n",
    "\n",
    "if __name__ == \"__main__\":\n",
    "    while 1:\n",
    "        numOfTray = int(input(\"원반의 개수를 입력하세요!(종료 : 0) :\"))\n",
    "        if numOfTray == 0:\n",
    "            break\n",
    "        hanoi(numOfTray, 'A', 'B', 'C')\n"
   ]
  },
  {
   "cell_type": "markdown",
   "metadata": {},
   "source": [
    "## 4. 멱집합"
   ]
  },
  {
   "cell_type": "code",
   "execution_count": 1,
   "metadata": {},
   "outputs": [
    {
     "name": "stdout",
     "output_type": "stream",
     "text": [
      "['neigh', 'category', 'purpose']\n",
      "['category', 'purpose']\n",
      "['neigh', 'purpose']\n",
      "['purpose']\n",
      "['neigh', 'category']\n",
      "['category']\n",
      "['neigh']\n",
      "[]\n"
     ]
    }
   ],
   "source": [
    "def classical_recursive_two(elems):\n",
    "\n",
    "    \"\"\" Given a list of elements return a generator \n",
    "\n",
    "    that will generate all the subsets \"\"\"\n",
    "\n",
    "    if len(elems) <= 1:\n",
    "\n",
    "        yield elems\n",
    "\n",
    "        yield []\n",
    "\n",
    "    else:\n",
    "\n",
    "        for item in classical_recursive_two(elems[1:]):\n",
    "\n",
    "            yield [elems[0]] + item\n",
    "\n",
    "            yield item\n",
    "\n",
    "sth = [\"neigh\", \"category\", \"purpose\"]\n",
    "\n",
    "for x in classical_recursive_two(sth):\n",
    "\n",
    "    print(x)"
   ]
  }
 ],
 "metadata": {
  "kernelspec": {
   "display_name": "Python 3.8.8 ('base')",
   "language": "python",
   "name": "python3"
  },
  "language_info": {
   "codemirror_mode": {
    "name": "ipython",
    "version": 3
   },
   "file_extension": ".py",
   "mimetype": "text/x-python",
   "name": "python",
   "nbconvert_exporter": "python",
   "pygments_lexer": "ipython3",
   "version": "3.8.8"
  },
  "orig_nbformat": 4,
  "vscode": {
   "interpreter": {
    "hash": "caf1c2fcf97217de91eafa76b907d50f9ea378f5ffbee7f571142d119bb6a771"
   }
  }
 },
 "nbformat": 4,
 "nbformat_minor": 2
}
