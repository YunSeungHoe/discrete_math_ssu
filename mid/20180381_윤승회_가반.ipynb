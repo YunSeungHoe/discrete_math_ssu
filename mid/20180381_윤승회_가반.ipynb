{
 "cells": [
  {
   "cell_type": "markdown",
   "metadata": {},
   "source": [
    "# 2022년 2학기 이산수학 중간고사  2022.10.14"
   ]
  },
  {
   "cell_type": "markdown",
   "metadata": {},
   "source": [
    "## 다음의 문제들을 바로 문제 아래에 파이썬 코드 셀을 삽입하여, 파이썬 코드를 작성하여 제출하시오. 제출시에 \"학번(영문명).ipynb\" 로 파일명을 하여 Smart-campus 에 업로드하시오.\n",
    "## 또한, 동일한 내용을 오프라인 답안지에 작성해서 조교에게 제출하시오. "
   ]
  },
  {
   "cell_type": "markdown",
   "metadata": {},
   "source": [
    "## 1(20).  정수 list 와 정수 x 가 주어졌을 때,  1) 해당 정수 x 가 주어진 정수 list에 있으면 마지막으로 나타나는 위치를 구하고, 2)그러지 않으면, \"찾을 수없다.\"  라는 문자열를 출력하는 파이썬 재귀 함수를  구하고자 한다. "
   ]
  },
  {
   "cell_type": "markdown",
   "metadata": {},
   "source": [
    "### 1(a)(10). 주어진 정수 리스트를 왼쪽 반, 오른쪽 반으로 분할하여 각 분할에서  해당 정수를 탐색하도록 하는 알고리즘('divide and conquer' 방식의 알고리즘) 을 이용하여 상기 문제 1을 재귀적으로 푸는 파이썬 함수를 작성하여 보시오. "
   ]
  },
  {
   "cell_type": "markdown",
   "metadata": {},
   "source": [
    "### (b)(10). 3부터 7 까지의 정수중 6, 7, 8, 9, 10개를 각각 랜덤하게 생성하여 만든 5개의 정수 리스트들에 대해, '7' 이 나타나는 마지막 번째 위치를  다음 예시처럼 출력하는 파이썬 프로그램을 상기 문제 (a)에서 구한 파이썬 함수를 각각 이용하여 코딩하시오.\n",
    "#### 출력은 다음 예시처럼 되어야 함;  \n",
    "* 해당 요소 7은(는) 주어진 리스트 [5, 4, 3, 6, 5, 7]에서 마지막으로 나타나는 위치는 6번째 이다.\n",
    "* 해당 요소 7은(는) 주어진 리스트 [5, 3, 5, 6, 3, 3, 3] 에서 찾을 수없다.\n",
    "* 해당 요소 7은(는) 주어진 리스트 [5, 7, 3, 6, 4, 6, 4, 7]에서 마지막으로 나타나는 위치는 8번째 이다.\n",
    "* 해당 요소 7은(는) 주어진 리스트 [4, 7, 7, 6, 6, 6, 3, 4, 5]에서 마지막으로 나타나는 위치는 3번째 이다.\n",
    "* 해당 요소 7은(는) 주어진 리스트 [4, 7, 5, 7, 6, 5, 4, 3, 3, 6]에서 마지막으로 나타나는 위치는 4번째 이다."
   ]
  },
  {
   "cell_type": "code",
   "execution_count": 1,
   "metadata": {},
   "outputs": [],
   "source": [
    "def LinearSearch_recursive(x, L, left, right):          \n",
    "    if right == left:\n",
    "        return -1\n",
    "    if (right - left)==1:     \n",
    "        if x == L[left]:\n",
    "            return left\n",
    "        else:\n",
    "            return -1\n",
    "    mid=(left+right)//2\n",
    "    l=LinearSearch_recursive(x, L, mid, right)\n",
    "    if l!=-1:\n",
    "        return l\n",
    "    else:\n",
    "        r= LinearSearch_recursive(x, L, left, mid)    \n",
    "        if r!=-1:\n",
    "            return r\n",
    "        else:\n",
    "            return -1\n",
    "\n"
   ]
  },
  {
   "cell_type": "code",
   "execution_count": 2,
   "metadata": {},
   "outputs": [
    {
     "name": "stdout",
     "output_type": "stream",
     "text": [
      "해당 요소 7은(는) 주어진 리스트 [7, 3, 6, 3, 5, 4]에서 마지막으로 나타나는 위치는 1번째 이다.\n",
      "해당 요소 7은(는) 주어진 리스트 [7, 5, 6, 7, 4, 5, 4]에서 마지막으로 나타나는 위치는 4번째 이다.\n",
      "해당 요소 7은(는) 주어진 리스트 [4, 4, 4, 6, 7, 6, 7, 4]에서 마지막으로 나타나는 위치는 7번째 이다.\n",
      "해당 요소 7은(는) 주어진 리스트 [6, 6, 7, 3, 3, 4, 6, 6, 3]에서 마지막으로 나타나는 위치는 3번째 이다.\n",
      "해당 요소 7은(는) 주어진 리스트 [4, 6, 5, 5, 5, 3, 7, 3, 4, 4]에서 마지막으로 나타나는 위치는 7번째 이다.\n"
     ]
    }
   ],
   "source": [
    "import random\n",
    "\n",
    "A = []\n",
    "B = []\n",
    "C = []\n",
    "D = []\n",
    "E = []\n",
    "x = 7\n",
    "\n",
    "for i in range(6):\n",
    "    A.append(random.randint(3, 7))\n",
    "for i in range(7):\n",
    "    B.append(random.randint(3, 7))\n",
    "for i in range(8):\n",
    "    C.append(random.randint(3, 7))\n",
    "for i in range(9):\n",
    "    D.append(random.randint(3, 7))\n",
    "for i in range(10):\n",
    "    E.append(random.randint(3, 7))\n",
    "\n",
    "p1 = LinearSearch_recursive(x, A, 0, len(A))\n",
    "p2 = LinearSearch_recursive(x, B, 0, len(B))\n",
    "p3 = LinearSearch_recursive(x, C, 0, len(C))\n",
    "p4 = LinearSearch_recursive(x, D, 0, len(D))\n",
    "p5 = LinearSearch_recursive(x, E, 0, len(E))\n",
    "\n",
    "if p1!=-1:\n",
    "    print(\"해당 요소 {}은(는) 주어진 리스트 {}에서 마지막으로 나타나는 위치는 {}번째 이다.\".format(x, A, p1+1 ))\n",
    "else:\n",
    "    print(\"해당 요소 {}은(는) 주어진 리스트 {}에서 찾을 수없다.\".format(x, A))\n",
    "\n",
    "if p2!=-1:\n",
    "    print(\"해당 요소 {}은(는) 주어진 리스트 {}에서 마지막으로 나타나는 위치는 {}번째 이다.\".format(x, B, p2+1 ))\n",
    "else:\n",
    "    print(\"해당 요소 {}은(는) 주어진 리스트 {}에서 찾을 수없다.\".format(x, B))\n",
    "\n",
    "if p3!=-1:\n",
    "    print(\"해당 요소 {}은(는) 주어진 리스트 {}에서 마지막으로 나타나는 위치는 {}번째 이다.\".format(x, C, p3+1 ))\n",
    "else:\n",
    "    print(\"해당 요소 {}은(는) 주어진 리스트 {}에서 찾을 수없다.\".format(x, C))\n",
    "    \n",
    "if p4!=-1:\n",
    "    print(\"해당 요소 {}은(는) 주어진 리스트 {}에서 마지막으로 나타나는 위치는 {}번째 이다.\".format(x, D, p4+1 ))\n",
    "else:\n",
    "    print(\"해당 요소 {}은(는) 주어진 리스트 {}에서 찾을 수없다.\".format(x, D))\n",
    "\n",
    "if p5!=-1:\n",
    "    print(\"해당 요소 {}은(는) 주어진 리스트 {}에서 마지막으로 나타나는 위치는 {}번째 이다.\".format(x, E, p5+1 ))\n",
    "else:\n",
    "    print(\"해당 요소 {}은(는) 주어진 리스트 {}에서 찾을 수없다.\".format(x, E))"
   ]
  },
  {
   "cell_type": "markdown",
   "metadata": {},
   "source": [
    "##  2(10).  정수의 부분 집합 $X \\subseteq Z $ 이 다음과 같이 재귀적으로 정의된다. \n",
    "####  B(Basic Step).  $4 \\in X. $\n",
    "####  R1(Recursive step 1).   If $ x \\in X$, then $x-12 \\in X.$\n",
    "####  R2(Recursive step 1).    If $ x \\in X$, then $x^2 \\in X.$\n",
    "\n",
    "#### 집합 X 를 생성하는 알고리즘을 재귀적으로 파이썬 함수로 작성 하고자 한다., 집합 $X$ 의 모든 원소들이 4 로 나누어진다는 것을 증명하고자 한다. \n",
    "#### 다음을 만족하는 파이썬 함수 Set4(n)을 작성하고, Set4(i)(i=1,2,3) 의 값을 올림차순으로 정렬된 리스트 형태로 출력하는 파이썬  코드를 작성하시오.\n",
    "*  If $n=0$, then 원소 4 만을 포함하는 집합 X 를 복귀. \n",
    "*  If $n $ is an integer and $ n \\gt 0 $,  then Set4(n-1) 이 복귀하는 집합 X 의 모든 원소에 대해 상기 Recursive 1 및 Recursive 2 를 적용하여, 그 결과를 원소로 추가하여 확대한 집합 X 를 복귀 .\n",
    "\n",
    "#### 예를 들어, Set4(0) 은 X={4} 를 복귀. \n",
    "#### Set4(1)는 4-12=-8, 4*4=16 를 포함한 집합 X ={-8,4,16} 를 복귀.\n",
    "#### Set4(2)는 4-12=-8, 4*4=16, -8-12=-20, (-8)*(-8)=64, 16-12=4, 16*16=256 를 포함한 집합 X ={-20, -8,4,16, 64, 256} 를 복귀.\n"
   ]
  },
  {
   "cell_type": "code",
   "execution_count": 3,
   "metadata": {},
   "outputs": [
    {
     "data": {
      "text/plain": [
       "{4}"
      ]
     },
     "execution_count": 3,
     "metadata": {},
     "output_type": "execute_result"
    }
   ],
   "source": [
    "X=set([4])\n",
    "X"
   ]
  },
  {
   "cell_type": "code",
   "execution_count": 4,
   "metadata": {},
   "outputs": [],
   "source": [
    "def Set4(n):\n",
    "    if n==0:\n",
    "        set_A=set()\n",
    "        set_A.add(4)\n",
    "        return set_A\n",
    "    set_A = Set4(n-1)\n",
    "    tmp =set()\n",
    "    for b in set_A:\n",
    "        tmp.add(b-12)\n",
    "        tmp.add(b**2)\n",
    "    set_A.update(tmp)\n",
    "    return set_A   "
   ]
  },
  {
   "cell_type": "code",
   "execution_count": 5,
   "metadata": {},
   "outputs": [
    {
     "data": {
      "text/plain": [
       "{-8, 4, 16}"
      ]
     },
     "execution_count": 5,
     "metadata": {},
     "output_type": "execute_result"
    }
   ],
   "source": [
    "Set4(1)"
   ]
  },
  {
   "cell_type": "code",
   "execution_count": 6,
   "metadata": {},
   "outputs": [
    {
     "data": {
      "text/plain": [
       "{-20, -8, 4, 16, 64, 256}"
      ]
     },
     "execution_count": 6,
     "metadata": {},
     "output_type": "execute_result"
    }
   ],
   "source": [
    "Set4(2)"
   ]
  },
  {
   "cell_type": "markdown",
   "metadata": {},
   "source": [
    "## 3(20). 삽입 정렬은 간단한 정렬 알고리즘이지만 일반적으로 가장 효율적인 것은 아니다.  아무튼 주어진 n 개 정수 를 갖는 리스트에 대해 삽입 정렬 알고리즘을 파이썬 함수로 구현하고자 한다."
   ]
  },
  {
   "cell_type": "markdown",
   "metadata": {},
   "source": [
    "### 3(a)(10)  주어진  n 개 정수로 구성되는 리스트에 대해 내림차순(decreating order) 삽입 정렬 알고리즘을 파이썬 함수로 프로그래밍 하여 보시오. \n",
    "* 내림차순 정렬은 높은 정수가 먼저 나오도록 정렬하는 것을 말합니다. 예를 들어 [ 17,5,4,8,3] 경우에,  [17,8,5,4,3] 식으로 정렬되는 것을 말합니다. "
   ]
  },
  {
   "cell_type": "markdown",
   "metadata": {},
   "source": [
    "### 3(b)(10). 0 부터 19까지의 정수 가운데, 랜덤하게 샘플링된 10개의 정수로 구성된 리스트에 대해, 3(a)에서 구현한 파이썬 삽입 정렬 알고리즘 구현 함수를 적용하여 제대로 내림차순(decreasing order) 정렬되는 지를 살펴보시오.¶"
   ]
  },
  {
   "cell_type": "code",
   "execution_count": 7,
   "metadata": {},
   "outputs": [],
   "source": [
    "def sort_insertion(a):\n",
    "    for j in range(1,len(a)):\n",
    "        i=0\n",
    "        while(a[j] < a[i]):\n",
    "            i+=1\n",
    "        m=a[j]\n",
    "        for k in range(0, j-i):\n",
    "            a[j-k]=a[j-k-1]\n",
    "        a[i]=m\n",
    "        # print(a)\n",
    "    return a"
   ]
  },
  {
   "cell_type": "code",
   "execution_count": 8,
   "metadata": {},
   "outputs": [
    {
     "name": "stdout",
     "output_type": "stream",
     "text": [
      "[10, 1, 12, 3, 18, 16, 19, 14, 15, 8]\n"
     ]
    },
    {
     "data": {
      "text/plain": [
       "[19, 18, 16, 15, 14, 12, 10, 8, 3, 1]"
      ]
     },
     "execution_count": 8,
     "metadata": {},
     "output_type": "execute_result"
    }
   ],
   "source": [
    "from random import *\n",
    "x=sample(list(range(0,20)), 10)\n",
    "print(x)\n",
    "sort_insertion(x)"
   ]
  },
  {
   "cell_type": "markdown",
   "metadata": {},
   "source": [
    "## 4(30). 주어진 리스트에서 최대값을 갖는 위치를 모두 찾는 파이썬 함수를 리스트를 왼쪽 반, 오른쪽 반으로 분할하여 각 분할에서 해당 최대값 위치를 탐색하도록 재귀적으로 구하고 이를 샘플링 정수 리스트에 대해 잘 동작하는 지를 테스트하고자 한다. "
   ]
  },
  {
   "cell_type": "markdown",
   "metadata": {},
   "source": [
    "### 4(a)(20) 주어진 리스트에서 최대값을 갖는 위치를 모두 찾는 파이썬 함수를 리스트를 왼쪽 반, 오른쪽 반으로 분할하여 각 분할에서 해당 최대값 위치를 탐색하도록 재귀적으로 구현하여 보시오."
   ]
  },
  {
   "cell_type": "markdown",
   "metadata": {},
   "source": [
    "### 4(b)(10).  3부터 7 까지의 정수중 10 개를 각각 랜덤하게 생성하여 만든 5개의 정수 리스트들에 대해,  각각 최대값을 구하고 이 최대값이 나타나는 모든 위치를 다음 예시처럼 출력하는 파이썬 프로그램을 상기 문제 (a)에서 구한 파이썬 함수를 각각 이용하여 코딩하시오.\n",
    "#### 출력은 다음 예시처럼 되어야 함.  \n",
    "* 주어진 리스트  [3, 3, 4, 7, 4, 4, 7, 5, 5, 4] 에서 최대값은 7 이고, 이는 [4, 7] 번째 나타난다.\n",
    "* 주어진 리스트  [6, 7, 7, 3, 3, 3, 4, 6, 3, 3] 에서 최대값은 7 이고, 이는 [2, 3] 번째 나타난다.\n",
    "* 주어진 리스트  [7, 4, 7, 6, 5, 6, 7, 5, 5, 5] 에서 최대값은 7 이고, 이는 [1, 3, 7] 번째 나타난다.\n",
    "* 주어진 리스트  [4, 7, 4, 6, 5, 3, 4, 5, 3, 3] 에서 최대값은 7 이고, 이는 [2] 번째 나타난다.\n",
    "* 주어진 리스트  [5, 3, 5, 6, 4, 7, 6, 5, 5, 6] 에서 최대값은 7 이고, 이는 [6] 번째 나타난다.' "
   ]
  },
  {
   "cell_type": "code",
   "execution_count": 9,
   "metadata": {},
   "outputs": [],
   "source": [
    "lista = []\n",
    "def LinearSearch_recursive_all(x, L, left, right):          \n",
    "    global lista\n",
    "    if right == left:\n",
    "        return -1\n",
    "    if (right - left)==1:     \n",
    "        if x == L[left]:\n",
    "            lista.append(left+1)\n",
    "            return left\n",
    "        else:\n",
    "            return -1\n",
    "    mid=(left+right)//2\n",
    "    l=LinearSearch_recursive_all(x, L, mid, right)\n",
    "    r= LinearSearch_recursive_all(x, L, left, mid)    \n"
   ]
  },
  {
   "cell_type": "code",
   "execution_count": 10,
   "metadata": {},
   "outputs": [
    {
     "name": "stdout",
     "output_type": "stream",
     "text": [
      "주어진 리스트 [6, 6, 5, 5, 5, 5, 6, 5, 7, 6] 에서 최대값은 7 이고, 이는 [9] 번째 나타난다.\n",
      "주어진 리스트 [4, 4, 4, 5, 6, 6, 4, 6, 5, 3] 에서 최대값은 6 이고, 이는 [5, 6, 8] 번째 나타난다.\n",
      "주어진 리스트 [7, 3, 6, 6, 5, 6, 5, 4, 3, 7] 에서 최대값은 7 이고, 이는 [1, 10] 번째 나타난다.\n",
      "주어진 리스트 [7, 3, 4, 6, 6, 5, 4, 3, 3, 4] 에서 최대값은 7 이고, 이는 [1] 번째 나타난다.\n",
      "주어진 리스트 [3, 3, 4, 4, 5, 5, 5, 5, 3, 7] 에서 최대값은 7 이고, 이는 [10] 번째 나타난다.\n"
     ]
    }
   ],
   "source": [
    "\n",
    "import random\n",
    "\n",
    "A = []\n",
    "B = []\n",
    "C = []\n",
    "D = []\n",
    "E = []\n",
    "\n",
    "for i in range(10):\n",
    "    A.append(random.randint(3, 7))\n",
    "    B.append(random.randint(3, 7))\n",
    "    C.append(random.randint(3, 7))\n",
    "    D.append(random.randint(3, 7))\n",
    "    E.append(random.randint(3, 7))\n",
    "\n",
    "lista = []\n",
    "p1 = LinearSearch_recursive_all(max(A), A, 0, len(A))\n",
    "if p1!=-1:\n",
    "    print(\"주어진 리스트 {} 에서 최대값은 {} 이고, 이는 {} 번째 나타난다.\".format(A, max(A), sorted(lista)))\n",
    "else:\n",
    "    print(\"error\")\n",
    "    \n",
    "lista = []\n",
    "p2 = LinearSearch_recursive_all(max(B), B, 0, len(B))\n",
    "if p2!=-1:\n",
    "    print(\"주어진 리스트 {} 에서 최대값은 {} 이고, 이는 {} 번째 나타난다.\".format(B, max(B), sorted(lista)))\n",
    "else:\n",
    "    print(\"error\")\n",
    "\n",
    "lista = []\n",
    "p3 = LinearSearch_recursive_all(max(C), C, 0, len(C))\n",
    "if p3!=-1:\n",
    "    print(\"주어진 리스트 {} 에서 최대값은 {} 이고, 이는 {} 번째 나타난다.\".format(C, max(C), sorted(lista)))\n",
    "else:\n",
    "    print(\"error\")\n",
    "    \n",
    "lista = []\n",
    "p4 = LinearSearch_recursive_all(max(D), D, 0, len(D))\n",
    "if p4!=-1:\n",
    "    print(\"주어진 리스트 {} 에서 최대값은 {} 이고, 이는 {} 번째 나타난다.\".format(D, max(D), sorted(lista)))\n",
    "else:\n",
    "    print(\"error\")\n",
    "    \n",
    "lista = []\n",
    "p5 = LinearSearch_recursive_all(max(E), E, 0, len(E))\n",
    "if p5!=-1:\n",
    "    print(\"주어진 리스트 {} 에서 최대값은 {} 이고, 이는 {} 번째 나타난다.\".format(E, max(E), sorted(lista)))\n",
    "else:\n",
    "    print(\"error\")"
   ]
  },
  {
   "cell_type": "markdown",
   "metadata": {},
   "source": [
    "## 5(20). 버스 기사가 어느 유료 도로를 통과하는 데 지불하는 통행료를 니켈(5 센트 동전)과 다임(10센트 동전)만으로 지불하고, 동전 투입구에 한번에 하나씩 동전을 던져 지불한다고 한다. (통행료 $n$는 5의 배수임)"
   ]
  },
  {
   "cell_type": "markdown",
   "metadata": {},
   "source": [
    "### 5(a)(10). 버스 통행료가 $n$ 센트(통행료 $n$는 5의 배수임)라 할 때,  통행료 지불 방법 수 $F(n)$ 를 재귀 관계식으로 구해보시오. (초기 조건도 명시되어야 함) "
   ]
  },
  {
   "cell_type": "markdown",
   "metadata": {},
   "source": [
    "### 5(b)(5). (a)에서 구한 재귀식을 구현하는 파이썬  함수를 작성하고  이를 이용하여   45센트  통행료를 지불할 수 있는 방법의 수를 계산하시오."
   ]
  },
  {
   "cell_type": "code",
   "execution_count": 11,
   "metadata": {},
   "outputs": [],
   "source": [
    "def change(money, n, ten):\n",
    "    if n%5 != 0:\n",
    "        print(\"금액이 5의 배수가 아닙니다.\")\n",
    "        return -1\n",
    "    if ten * money[1] > n:\n",
    "        return ten\n",
    "    else:\n",
    "        tem = n - money[1]*ten\n",
    "        five = int(tem / 5)\n",
    "        print(\"{}원 동전 {}개, {}원 동전 {}개\".format(money[0], five, money[1], ten))\n",
    "        ten+=1\n",
    "        return change(money, n, ten)\n",
    "        "
   ]
  },
  {
   "cell_type": "code",
   "execution_count": 12,
   "metadata": {},
   "outputs": [
    {
     "name": "stdout",
     "output_type": "stream",
     "text": [
      "5원 동전 9개, 10원 동전 0개\n",
      "5원 동전 7개, 10원 동전 1개\n",
      "5원 동전 5개, 10원 동전 2개\n",
      "5원 동전 3개, 10원 동전 3개\n",
      "5원 동전 1개, 10원 동전 4개\n",
      "45원의 금액을 지불하는 종류는 5 가지이다.\n"
     ]
    }
   ],
   "source": [
    "money = [5, 10]\n",
    "n = 45\n",
    "count = change(money ,n, 0)\n",
    "print(\"{}원의 금액을 지불하는 종류는 {} 가지이다.\".format(n, count))"
   ]
  }
 ],
 "metadata": {
  "kernelspec": {
   "display_name": "Python 3 (ipykernel)",
   "language": "python",
   "name": "python3"
  },
  "language_info": {
   "codemirror_mode": {
    "name": "ipython",
    "version": 3
   },
   "file_extension": ".py",
   "mimetype": "text/x-python",
   "name": "python",
   "nbconvert_exporter": "python",
   "pygments_lexer": "ipython3",
   "version": "3.9.7"
  },
  "vscode": {
   "interpreter": {
    "hash": "891af5ece7d0a81cb87e765c6fdea42a4b43a85240d3231fe87a4c1d19349141"
   }
  }
 },
 "nbformat": 4,
 "nbformat_minor": 2
}
