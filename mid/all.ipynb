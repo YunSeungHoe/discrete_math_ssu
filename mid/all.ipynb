{
 "cells": [
  {
   "cell_type": "markdown",
   "metadata": {},
   "source": [
    "# <div align=\"center\">이산수학 중간고사 대비</div>"
   ]
  },
  {
   "cell_type": "markdown",
   "metadata": {},
   "source": [
    "## 2week\n",
    "random / 파일 입출력 함수 / set / 시퀀스 / 함수 / lambda / array / 행렬"
   ]
  },
  {
   "cell_type": "markdown",
   "metadata": {},
   "source": [
    "### random\n",
    "1. 랜덤으로 정수를 출력하는 함수 (숫자 중복)\n",
    "2. 랜덤으로 정수를 출력하는 함수 (숫자 중복x)\n",
    "3. 랜덤으로 정수를 중복없이 출력하는 함수 "
   ]
  },
  {
   "cell_type": "code",
   "execution_count": 1,
   "metadata": {},
   "outputs": [
    {
     "name": "stdout",
     "output_type": "stream",
     "text": [
      "type =  <class 'list'>\n",
      "list =  [0, 2, 1, 3, 3]\n"
     ]
    }
   ],
   "source": [
    "# 1. 랜덤으로 정수를 출력하는 함수 (숫자 중복)\n",
    "import random\n",
    "\n",
    "random_list = []\n",
    "for i in range(5):\n",
    "    random_list.append(random.randint(0, 4)) # 0(포함) ~ 4(포함) 중 한개를 출력\n",
    "\n",
    "print(\"type = \", type(random_list))\n",
    "print(\"list = \", random_list)"
   ]
  },
  {
   "cell_type": "code",
   "execution_count": 2,
   "metadata": {},
   "outputs": [
    {
     "name": "stdout",
     "output_type": "stream",
     "text": [
      "type =  <class 'list'>\n",
      "list =  [1, 4, 0, 2, 3]\n"
     ]
    }
   ],
   "source": [
    "# 2. 랜덤으로 정수를 출력하는 함수 (숫자 중복x)\n",
    "import random\n",
    "\n",
    "random_list = []\n",
    "check_int = 0\n",
    "\n",
    "for i in range(5):\n",
    "    check_int = random.randint(0, 4)\n",
    "    while(check_int in random_list):\n",
    "        check_int = random.randint(0, 4)\n",
    "    random_list.append(check_int)\n",
    "\n",
    "print(\"type = \", type(random_list))\n",
    "print(\"list = \", random_list)"
   ]
  },
  {
   "cell_type": "code",
   "execution_count": 3,
   "metadata": {},
   "outputs": [
    {
     "name": "stdout",
     "output_type": "stream",
     "text": [
      "type =  <class 'list'>\n",
      "list =  [1, 0, 3, 2]\n"
     ]
    }
   ],
   "source": [
    "# 3. 랜덤으로 정수를 중복없이 출력하는 함수 \n",
    "import random\n",
    " \n",
    "random_list = random.sample(range(0, 5), 4) # 0(포함) ~ 5(포함) 중 4개를 중복없이 출력\n",
    "\n",
    "print(\"type = \", type(random_list))\n",
    "print(\"list = \", random_list)"
   ]
  },
  {
   "cell_type": "markdown",
   "metadata": {},
   "source": [
    "### 파일 입출력 함수\n",
    "1. 입력 : with 활용\n",
    "2. 출력 : 한줄만/ 여러줄/ 공백 없이"
   ]
  },
  {
   "cell_type": "code",
   "execution_count": 4,
   "metadata": {},
   "outputs": [],
   "source": [
    "# 1. 입력\n",
    "f = open('t1.txt','w')\n",
    "f.write('hi python\\n')\n",
    "f.write('hi python\\n')\n",
    "f.close()"
   ]
  },
  {
   "cell_type": "code",
   "execution_count": 5,
   "metadata": {},
   "outputs": [],
   "source": [
    "# with문을 이용해 파일에 값을 입력하기\n",
    "# with문을 이용하면 close를 생략한다.\n",
    "with open(\"t1.txt\", \"w\") as f:\n",
    "    f.write('hi python\\n')\n",
    "    f.write('hi python\\n')\n",
    "    \n"
   ]
  },
  {
   "cell_type": "code",
   "execution_count": 6,
   "metadata": {},
   "outputs": [
    {
     "name": "stdout",
     "output_type": "stream",
     "text": [
      "hi python\n",
      "\n"
     ]
    }
   ],
   "source": [
    "# 2. 출력 1줄만 읽기 \n",
    "\n",
    "f = open(\"t1.txt\", 'r')\n",
    "# f = open(\"t1.txt\")\n",
    "line = f.readline()\n",
    "print(line)\n",
    "f.close()"
   ]
  },
  {
   "cell_type": "code",
   "execution_count": 7,
   "metadata": {},
   "outputs": [
    {
     "name": "stdout",
     "output_type": "stream",
     "text": [
      "hi python\n",
      "\n",
      "hi python\n",
      "\n"
     ]
    }
   ],
   "source": [
    "# 2. 모든 줄을 다 읽기\n",
    "f = open(\"t1.txt\", 'r')\n",
    "# f = open(\"t1.txt\")\n",
    "\n",
    "while True:\n",
    "    line = f.readline()\n",
    "    if not line: break\n",
    "    print(line)\n",
    "    \n",
    "f.close()"
   ]
  },
  {
   "cell_type": "code",
   "execution_count": 8,
   "metadata": {},
   "outputs": [
    {
     "name": "stdout",
     "output_type": "stream",
     "text": [
      "type of lines =  <class 'list'>\n",
      "lines =  ['hi python\\n', 'hi python\\n']\n",
      "hi python\n",
      "\n",
      "hi python\n",
      "\n"
     ]
    }
   ],
   "source": [
    "# 2. readlines() 함수 이용해서 읽기\n",
    "f = open(\"t1.txt\", 'r')\n",
    "lines = f.readlines()\n",
    "print(\"type of lines = \", type(lines))\n",
    "print(\"lines = \", lines)\n",
    "for line in lines:\n",
    "    print(line)\n",
    "f.close()"
   ]
  },
  {
   "cell_type": "code",
   "execution_count": 9,
   "metadata": {},
   "outputs": [
    {
     "name": "stdout",
     "output_type": "stream",
     "text": [
      "hi python\n",
      "hi python\n"
     ]
    }
   ],
   "source": [
    "# 2. 읽을때 \\n 이 포함되지 않도록 하기\n",
    "f = open(\"t1.txt\", 'r')\n",
    "lines = f.readlines()\n",
    "for line in lines:\n",
    "    line = line.strip() \n",
    "    print(line)\n",
    "f.close()"
   ]
  },
  {
   "cell_type": "code",
   "execution_count": 10,
   "metadata": {},
   "outputs": [
    {
     "name": "stdout",
     "output_type": "stream",
     "text": [
      "type of data = <class 'str'>\n",
      "hi python\n",
      "hi python\n",
      "\n"
     ]
    }
   ],
   "source": [
    "# 2. 파일의 전체내용 저장하기\n",
    "f = open(\"t1.txt\", 'r')\n",
    "data = f.read()\n",
    "print(\"type of data =\", type(data))\n",
    "print(data)\n",
    "f.close()"
   ]
  },
  {
   "cell_type": "markdown",
   "metadata": {},
   "source": [
    "### set\n",
    "1. set 정의는 {}, set() 함수를 이용한다.\n",
    "2. set 특징 : 중복이 삭제된다. sympy 활용\n",
    "3. set iteration(반복)\n",
    "4. set operations : set 연산자\n",
    "5. file에 적용하여 operations 응용\n",
    "6. change items (원소 변경은 불가능, 추가 삭제 가능)\n",
    "7. Frozen set (데이터가 고정되어 있는 data)\n",
    "8. Power set (멱집합)"
   ]
  },
  {
   "cell_type": "code",
   "execution_count": 11,
   "metadata": {},
   "outputs": [
    {
     "name": "stdout",
     "output_type": "stream",
     "text": [
      "set_A =  {1, 2, 3}\n",
      "type of set_A =  <class 'set'>\n",
      "set_B =  {'c', 'd', 'a', 'b'}\n",
      "type of set_B =  <class 'set'>\n",
      "set_P =  {1, 3, 5, 7, 9}\n",
      "type of set_P =  <class 'set'>\n"
     ]
    }
   ],
   "source": [
    "# 1. set 정의 \n",
    "set_A = {1,2,3}\n",
    "set_B = set(['a', 'b', 'c', 'd'])\n",
    "set_P = { n for n in range(10) if n%2 == 1} # 0(포함) ~ 9(포함) 중 2로 나누었을 때 나머지가 1인 값\n",
    "\n",
    "print(\"set_A = \", set_A)\n",
    "print(\"type of set_A = \", type(set_A))\n",
    "print(\"set_B = \", set_B)\n",
    "print(\"type of set_B = \", type(set_B))\n",
    "print(\"set_P = \", set_P)\n",
    "print(\"type of set_P = \", type(set_P))"
   ]
  },
  {
   "cell_type": "code",
   "execution_count": 12,
   "metadata": {},
   "outputs": [
    {
     "name": "stdout",
     "output_type": "stream",
     "text": [
      "set_A =  {2, 3}\n",
      "type of set_A =  <class 'set'>\n",
      "set_A =  {1, 2, 3, 4}\n",
      "type of set_A =  <class 'set'>\n",
      "temp_list =  [1, 2, 2, 3, 4, 4]\n",
      "type of temp_list =  <class 'list'>\n",
      "set_A =  {1, 2, 3, 4}\n",
      "type of set_A =  <class 'set'>\n",
      "set_A =  {1, 2, 'hello', 'world'}\n"
     ]
    },
    {
     "ename": "TypeError",
     "evalue": "unhashable type: 'set'",
     "output_type": "error",
     "traceback": [
      "\u001b[0;31m---------------------------------------------------------------------------\u001b[0m",
      "\u001b[0;31mTypeError\u001b[0m                                 Traceback (most recent call last)",
      "\u001b[1;32m/home/misys/github/discrete_math_ssu/mid/all.ipynb Cell 16\u001b[0m in \u001b[0;36m<cell line: 28>\u001b[0;34m()\u001b[0m\n\u001b[1;32m     <a href='vscode-notebook-cell:/home/misys/github/discrete_math_ssu/mid/all.ipynb#X12sZmlsZQ%3D%3D?line=24'>25</a>\u001b[0m set_A \u001b[39m=\u001b[39m {\u001b[39m1\u001b[39m, \u001b[39m2\u001b[39m, \u001b[39m\"\u001b[39m\u001b[39mhello\u001b[39m\u001b[39m\"\u001b[39m, \u001b[39m'\u001b[39m\u001b[39mworld\u001b[39m\u001b[39m'\u001b[39m} \u001b[39m# set안에 type이 달라도 괜찮다.\u001b[39;00m\n\u001b[1;32m     <a href='vscode-notebook-cell:/home/misys/github/discrete_math_ssu/mid/all.ipynb#X12sZmlsZQ%3D%3D?line=25'>26</a>\u001b[0m \u001b[39mprint\u001b[39m(\u001b[39m\"\u001b[39m\u001b[39mset_A = \u001b[39m\u001b[39m\"\u001b[39m, set_A)\n\u001b[0;32m---> <a href='vscode-notebook-cell:/home/misys/github/discrete_math_ssu/mid/all.ipynb#X12sZmlsZQ%3D%3D?line=27'>28</a>\u001b[0m set_A \u001b[39m=\u001b[39m {\u001b[39m1\u001b[39m, \u001b[39m2\u001b[39m, {\u001b[39m3\u001b[39m, \u001b[39m4\u001b[39m}} \u001b[39m# set안에 set이 있어 오류 발생\u001b[39;00m\n\u001b[1;32m     <a href='vscode-notebook-cell:/home/misys/github/discrete_math_ssu/mid/all.ipynb#X12sZmlsZQ%3D%3D?line=28'>29</a>\u001b[0m \u001b[39mprint\u001b[39m(\u001b[39m\"\u001b[39m\u001b[39mset_A = \u001b[39m\u001b[39m\"\u001b[39m, set_A) \n\u001b[1;32m     <a href='vscode-notebook-cell:/home/misys/github/discrete_math_ssu/mid/all.ipynb#X12sZmlsZQ%3D%3D?line=30'>31</a>\u001b[0m set_A \u001b[39m=\u001b[39m {\u001b[39m1\u001b[39m, \u001b[39m2\u001b[39m, [\u001b[39m3\u001b[39m, \u001b[39m4\u001b[39m]} \u001b[39m# set안에 list가 있어 오류 발생\u001b[39;00m\n",
      "\u001b[0;31mTypeError\u001b[0m: unhashable type: 'set'"
     ]
    }
   ],
   "source": [
    "# set안에 set이 있어 오류 발생# 2. set 특징\n",
    "# 함수에 적용 가능하다.\n",
    "from sympy import *\n",
    "\n",
    "x = Symbol(\"x\")\n",
    "set_A = set(solve(x**2 - 5*x + 6))\n",
    "\n",
    "print(\"set_A = \", set_A)\n",
    "print(\"type of set_A = \", type(set_A))\n",
    "\n",
    "# 중복이 제거된다.\n",
    "set_A = {1, 2, 2, 3, 4, 4}\n",
    "print(\"set_A = \", set_A)\n",
    "print(\"type of set_A = \", type(set_A))\n",
    "\n",
    "# 리스트를 set에 넣어도 제거된다. \n",
    "temp_list = [1, 2, 2, 3, 4, 4]\n",
    "set_A = set(temp_list)\n",
    "print(\"temp_list = \", temp_list)\n",
    "print(\"type of temp_list = \", type(temp_list))\n",
    "print(\"set_A = \", set_A)\n",
    "print(\"type of set_A = \", type(set_A))\n",
    "\n",
    "# set은 1차원이여야 하면 원소로 set, list 가 올 수 없다.\n",
    "set_A = {1, 2, \"hello\", 'world'} # set안에 type이 달라도 괜찮다.\n",
    "print(\"set_A = \", set_A)\n",
    "\n",
    "set_A = {1, 2, {3, 4}} # set안에 set이 있어 오류 발생\n",
    "print(\"set_A = \", set_A) \n",
    "\n",
    "set_A = {1, 2, [3, 4]} # set안에 list가 있어 오류 발생\n",
    "print(\"set_A = \", set_A)"
   ]
  },
  {
   "cell_type": "code",
   "execution_count": 13,
   "metadata": {},
   "outputs": [
    {
     "name": "stdout",
     "output_type": "stream",
     "text": [
      "Paris\n",
      "Istanbul\n",
      "London\n",
      "Vienna\n",
      "Paris\n",
      "Istanbul\n",
      "London\n",
      "Vienna\n"
     ]
    }
   ],
   "source": [
    "# 3. set iteration 사용\n",
    "cities = { \"London\", \"Paris\", \"Vienna\", \"Istanbul\" }\n",
    "for place in cities:\n",
    "    print(place)\n",
    "\n",
    "# 다른 방법 list로 변환후 적용한다.\n",
    "cities_list = list(cities)\n",
    "for index in range(0, len(cities)):\n",
    "    print(cities_list[index])"
   ]
  },
  {
   "cell_type": "code",
   "execution_count": 14,
   "metadata": {},
   "outputs": [
    {
     "name": "stdout",
     "output_type": "stream",
     "text": [
      "1 in set_A\n",
      "1 is not in set_B\n",
      "set_A < set_A = False\n",
      "set_A < set_B = False\n",
      "set_A < set_D = True\n",
      "set_A <= set_A = True\n",
      "set_A <= set_B = False\n",
      "set_A <= set_D = True\n",
      "set_A | set_B =  {1, 2, 3, 4, 5, 6}\n",
      "set_A | set_C =  {1, 2, 3, 'c', 'a', 'b'}\n",
      "set_A | set_D =  {1, 2, 3, 'a', '4'}\n",
      "set_A & set_B =  set()\n",
      "set_A & set_C =  set()\n",
      "set_A & set_D =  {1, 2, 3}\n",
      "set_A - set_B =  {1, 2, 3}\n",
      "set_A - set_C =  {1, 2, 3}\n",
      "set_A - set_D =  set()\n"
     ]
    }
   ],
   "source": [
    "# 4. set operations : set 연산자\n",
    "set_A = {1, 2, 3}\n",
    "set_B = {4, 5, 6}\n",
    "set_C = {'a', 'b', 'c'}\n",
    "set_D = {1, 2, 3, 'a', '4'}\n",
    "\n",
    "# in / not in\n",
    "if 1 in set_A:\n",
    "    print(\"1 in set_A\")\n",
    "else:\n",
    "    print(\"1 is not in set_A\")\n",
    "    \n",
    "if 1 in set_B:\n",
    "    print(\"1 in set_B\")\n",
    "else:\n",
    "    print(\"1 is not in set_B\")\n",
    "\n",
    "# 포함한다 < / <= 의 차이\n",
    "print(\"set_A < set_A =\", set_A < set_A) # 주목\n",
    "print(\"set_A < set_B =\", set_A < set_B)     \n",
    "print(\"set_A < set_D =\", set_A < set_D)     \n",
    "    \n",
    "print(\"set_A <= set_A =\", set_A <= set_A) # 주목\n",
    "print(\"set_A <= set_B =\", set_A <= set_B)     \n",
    "print(\"set_A <= set_D =\", set_A <= set_D)\n",
    "\n",
    "# 합집합(|) / 교집합(&) / 차집합(-)\n",
    "print(\"set_A | set_B = \", set_A|set_B)\n",
    "print(\"set_A | set_C = \", set_A|set_C)\n",
    "print(\"set_A | set_D = \", set_A|set_D)\n",
    "\n",
    "print(\"set_A & set_B = \", set_A&set_B) # set()은 없다는 의미이다.\n",
    "print(\"set_A & set_C = \", set_A&set_C)\n",
    "print(\"set_A & set_D = \", set_A&set_D)\n",
    "\n",
    "print(\"set_A - set_B = \", set_A-set_B)\n",
    "print(\"set_A - set_C = \", set_A-set_C)\n",
    "print(\"set_A - set_D = \", set_A-set_D)"
   ]
  },
  {
   "cell_type": "code",
   "execution_count": 15,
   "metadata": {},
   "outputs": [
    {
     "name": "stdout",
     "output_type": "stream",
     "text": [
      "type of year4 =  <class 'set'>\n",
      "type of cs =  <class 'set'>\n",
      "type of ee =  <class 'set'>\n",
      "type of goodGrades =  <class 'set'>\n",
      "Elizabeth\n",
      "Tom\n",
      "John\n"
     ]
    }
   ],
   "source": [
    "# 5. file에 적용하여 operations 응용\n",
    "def setOfNames(fileName):\n",
    "    return { line.strip()\n",
    "        for line in open(fileName) }\n",
    "\n",
    "year4 = setOfNames(\"year4.txt\")\n",
    "cs = setOfNames(\"CS.txt\")\n",
    "ee = setOfNames(\"ee.txt\")\n",
    "goodGrades = setOfNames(\"GoodGrades.txt\")\n",
    "candidates = year4 & (cs | ee) & goodGrades\n",
    "print(\"type of year4 = \", type(year4))\n",
    "print(\"type of cs = \", type(cs))\n",
    "print(\"type of ee = \", type(ee))\n",
    "print(\"type of goodGrades = \", type(goodGrades))\n",
    "for student in candidates:\n",
    "    print(student)"
   ]
  },
  {
   "cell_type": "code",
   "execution_count": 16,
   "metadata": {},
   "outputs": [
    {
     "name": "stdout",
     "output_type": "stream",
     "text": [
      "{'orange', 'cherry', 'banana', 'apple'}\n",
      "{'grapes', 'mango', 'apple', 'orange', 'cherry', 'banana'}\n",
      "{'grapes', 'mango', 'apple', 'orange', 'cherry'}\n",
      "set()\n"
     ]
    }
   ],
   "source": [
    "# 6. Change items\n",
    "# add / update / remove items/ clear\n",
    "thisset = {\"apple\", \"banana\", \"cherry\"}\n",
    "\n",
    "thisset.add(\"orange\")\n",
    "print(thisset)\n",
    "\n",
    "thisset.update([\"orange\", \"mango\", \"grapes\"])\n",
    "print(thisset)\n",
    "\n",
    "thisset.remove(\"banana\")\n",
    "print(thisset)\n",
    "\n",
    "thisset.clear()\n",
    "print(thisset)"
   ]
  },
  {
   "cell_type": "code",
   "execution_count": 17,
   "metadata": {},
   "outputs": [
    {
     "ename": "NameError",
     "evalue": "name 'thisset' is not defined",
     "output_type": "error",
     "traceback": [
      "\u001b[0;31m---------------------------------------------------------------------------\u001b[0m",
      "\u001b[0;31mNameError\u001b[0m                                 Traceback (most recent call last)",
      "\u001b[1;32m/home/misys/github/discrete_math_ssu/mid/all.ipynb Cell 21\u001b[0m in \u001b[0;36m<cell line: 3>\u001b[0;34m()\u001b[0m\n\u001b[1;32m      <a href='vscode-notebook-cell:/home/misys/github/discrete_math_ssu/mid/all.ipynb#X30sZmlsZQ%3D%3D?line=0'>1</a>\u001b[0m thisset \u001b[39m=\u001b[39m {\u001b[39m\"\u001b[39m\u001b[39mapple\u001b[39m\u001b[39m\"\u001b[39m, \u001b[39m\"\u001b[39m\u001b[39mbanana\u001b[39m\u001b[39m\"\u001b[39m, \u001b[39m\"\u001b[39m\u001b[39mcherry\u001b[39m\u001b[39m\"\u001b[39m}\n\u001b[1;32m      <a href='vscode-notebook-cell:/home/misys/github/discrete_math_ssu/mid/all.ipynb#X30sZmlsZQ%3D%3D?line=1'>2</a>\u001b[0m \u001b[39mdel\u001b[39;00m thisset\n\u001b[0;32m----> <a href='vscode-notebook-cell:/home/misys/github/discrete_math_ssu/mid/all.ipynb#X30sZmlsZQ%3D%3D?line=2'>3</a>\u001b[0m \u001b[39mprint\u001b[39m(thisset)\n",
      "\u001b[0;31mNameError\u001b[0m: name 'thisset' is not defined"
     ]
    }
   ],
   "source": [
    "thisset = {\"apple\", \"banana\", \"cherry\"}\n",
    "del thisset\n",
    "print(thisset)"
   ]
  },
  {
   "cell_type": "code",
   "execution_count": 18,
   "metadata": {},
   "outputs": [
    {
     "name": "stdout",
     "output_type": "stream",
     "text": [
      "type of s1 = <class 'frozenset'>\n",
      "s1 = frozenset()\n",
      "type of s2 = <class 'frozenset'>\n",
      "s2 = frozenset({0, 1, 2, 3})\n",
      "type of s3 = <class 'frozenset'>\n",
      "s3 = frozenset({0, 1, 2, 3})\n",
      "type of s4 = <class 'frozenset'>\n",
      "s4 = frozenset({0, 1, 2, 3})\n",
      "type of s5 = <class 'frozenset'>\n",
      "s5 = frozenset({0, 1, 2, 3})\n"
     ]
    },
    {
     "ename": "AttributeError",
     "evalue": "'frozenset' object has no attribute 'add'",
     "output_type": "error",
     "traceback": [
      "\u001b[0;31m---------------------------------------------------------------------------\u001b[0m",
      "\u001b[0;31mAttributeError\u001b[0m                            Traceback (most recent call last)",
      "\u001b[1;32m/home/misys/github/discrete_math_ssu/mid/all.ipynb Cell 22\u001b[0m in \u001b[0;36m<cell line: 24>\u001b[0;34m()\u001b[0m\n\u001b[1;32m     <a href='vscode-notebook-cell:/home/misys/github/discrete_math_ssu/mid/all.ipynb#X31sZmlsZQ%3D%3D?line=20'>21</a>\u001b[0m \u001b[39mprint\u001b[39m(\u001b[39m\"\u001b[39m\u001b[39ms5 =\u001b[39m\u001b[39m\"\u001b[39m, s5)\n\u001b[1;32m     <a href='vscode-notebook-cell:/home/misys/github/discrete_math_ssu/mid/all.ipynb#X31sZmlsZQ%3D%3D?line=22'>23</a>\u001b[0m \u001b[39m# 추가 제거 기능이 안된다.\u001b[39;00m\n\u001b[0;32m---> <a href='vscode-notebook-cell:/home/misys/github/discrete_math_ssu/mid/all.ipynb#X31sZmlsZQ%3D%3D?line=23'>24</a>\u001b[0m s3\u001b[39m.\u001b[39;49madd(\u001b[39m\"\u001b[39m\u001b[39morange\u001b[39m\u001b[39m\"\u001b[39m)\n\u001b[1;32m     <a href='vscode-notebook-cell:/home/misys/github/discrete_math_ssu/mid/all.ipynb#X31sZmlsZQ%3D%3D?line=24'>25</a>\u001b[0m \u001b[39mprint\u001b[39m(thisset)\n\u001b[1;32m     <a href='vscode-notebook-cell:/home/misys/github/discrete_math_ssu/mid/all.ipynb#X31sZmlsZQ%3D%3D?line=26'>27</a>\u001b[0m s3\u001b[39m.\u001b[39mremove(\u001b[39m\"\u001b[39m\u001b[39mbanana\u001b[39m\u001b[39m\"\u001b[39m)\n",
      "\u001b[0;31mAttributeError\u001b[0m: 'frozenset' object has no attribute 'add'"
     ]
    }
   ],
   "source": [
    "# 7.Frozen set\n",
    "s1 = frozenset()              # 빈 집합\n",
    "\n",
    "s2 = frozenset((0, 1, 2, 3))  # 튜플로 집합을\n",
    "\n",
    "s3 = frozenset([0, 1, 2, 3])  # 목록으로 집합을\n",
    "\n",
    "s4 = frozenset({0, 1, 2, 3})  # 딕셔너리도 가능\n",
    "\n",
    "s5 = frozenset(range(4))      # 반복자로 집합을\n",
    "\n",
    "print(\"type of s1 =\", type(s1))\n",
    "print(\"s1 =\", s1)\n",
    "print(\"type of s2 =\", type(s2))\n",
    "print(\"s2 =\", s2)\n",
    "print(\"type of s3 =\", type(s3))\n",
    "print(\"s3 =\", s3)\n",
    "print(\"type of s4 =\", type(s4))\n",
    "print(\"s4 =\", s4)\n",
    "print(\"type of s5 =\", type(s5))\n",
    "print(\"s5 =\", s5)\n",
    "\n",
    "# 추가 제거 기능이 안된다.\n",
    "s3.add(\"orange\")\n",
    "print(thisset)\n",
    "\n",
    "s3.remove(\"banana\")\n",
    "print(thisset)"
   ]
  },
  {
   "cell_type": "code",
   "execution_count": 19,
   "metadata": {},
   "outputs": [
    {
     "name": "stdout",
     "output_type": "stream",
     "text": [
      "i=1,j=0,items[0]=a\n",
      "i=2,j=1,items[1]=b\n",
      "i=3,j=0,items[0]=a\n",
      "i=3,j=1,items[1]=b\n",
      "i=4,j=2,items[2]=c\n",
      "i=5,j=0,items[0]=a\n",
      "i=5,j=2,items[2]=c\n",
      "i=6,j=1,items[1]=b\n",
      "i=6,j=2,items[2]=c\n",
      "i=7,j=0,items[0]=a\n",
      "i=7,j=1,items[1]=b\n",
      "i=7,j=2,items[2]=c\n",
      "[[], ['a'], ['b'], ['a', 'b'], ['c'], ['a', 'c'], ['b', 'c'], ['a', 'b', 'c']]\n"
     ]
    },
    {
     "ename": "TypeError",
     "evalue": "unhashable type: 'list'",
     "output_type": "error",
     "traceback": [
      "\u001b[0;31m---------------------------------------------------------------------------\u001b[0m",
      "\u001b[0;31mTypeError\u001b[0m                                 Traceback (most recent call last)",
      "\u001b[1;32m/home/misys/github/discrete_math_ssu/mid/all.ipynb Cell 23\u001b[0m in \u001b[0;36m<cell line: 22>\u001b[0;34m()\u001b[0m\n\u001b[1;32m     <a href='vscode-notebook-cell:/home/misys/github/discrete_math_ssu/mid/all.ipynb#X32sZmlsZQ%3D%3D?line=19'>20</a>\u001b[0m \u001b[39m# print(type(B))\u001b[39;00m\n\u001b[1;32m     <a href='vscode-notebook-cell:/home/misys/github/discrete_math_ssu/mid/all.ipynb#X32sZmlsZQ%3D%3D?line=20'>21</a>\u001b[0m \u001b[39mprint\u001b[39m(B)\n\u001b[0;32m---> <a href='vscode-notebook-cell:/home/misys/github/discrete_math_ssu/mid/all.ipynb#X32sZmlsZQ%3D%3D?line=21'>22</a>\u001b[0m \u001b[39mprint\u001b[39m(\u001b[39mset\u001b[39;49m(B))\n",
      "\u001b[0;31mTypeError\u001b[0m: unhashable type: 'list'"
     ]
    }
   ],
   "source": [
    "# 8.Power set(멱집합)\n",
    "# 파이썬에서 멱집합을 내장 지원하는 메소드나 외장 라이브러리 패키지도 없습니다.\n",
    "\n",
    "def power_set(items):\n",
    "    N = len(items)\n",
    "    for i in range(2 ** N):\n",
    "        combo = []\n",
    "        for j in range(N):\n",
    "            if (i >> j) % 2 == 1:\n",
    "                combo.append(items[j])\n",
    "                print(\"i={},j={},items[{}]={}\".format(i,j, j, items[j]))\n",
    "        yield combo\n",
    "# >> 1 : 2의 1제곱으로 나눈다.\n",
    "# >> 2 : 2의 2제곱으로 나눈다.\n",
    "# << 1 : 2의 1제곱을 곱한다.\n",
    "# << 1 : 2의 1제곱을 곱한다.\n",
    "\n",
    "A=['a','b','c']\n",
    "B=list(power_set(A))\n",
    "# print(type(B))\n",
    "print(B)\n",
    "print(set(B))"
   ]
  },
  {
   "cell_type": "code",
   "execution_count": 20,
   "metadata": {},
   "outputs": [
    {
     "name": "stdout",
     "output_type": "stream",
     "text": [
      "i=1,j=0,items[0]=c\n",
      "i=2,j=1,items[1]=a\n",
      "i=3,j=0,items[0]=c\n",
      "i=3,j=1,items[1]=a\n",
      "i=4,j=2,items[2]=b\n",
      "i=5,j=0,items[0]=c\n",
      "i=5,j=2,items[2]=b\n",
      "i=6,j=1,items[1]=a\n",
      "i=6,j=2,items[2]=b\n",
      "i=7,j=0,items[0]=c\n",
      "i=7,j=1,items[1]=a\n",
      "i=7,j=2,items[2]=b\n",
      "[set(), {'c'}, {'a'}, {'c', 'a'}, {'b'}, {'c', 'b'}, {'a', 'b'}, {'c', 'a', 'b'}]\n"
     ]
    },
    {
     "ename": "TypeError",
     "evalue": "unhashable type: 'set'",
     "output_type": "error",
     "traceback": [
      "\u001b[0;31m---------------------------------------------------------------------------\u001b[0m",
      "\u001b[0;31mTypeError\u001b[0m                                 Traceback (most recent call last)",
      "\u001b[1;32m/home/misys/github/discrete_math_ssu/mid/all.ipynb Cell 24\u001b[0m in \u001b[0;36m<cell line: 18>\u001b[0;34m()\u001b[0m\n\u001b[1;32m     <a href='vscode-notebook-cell:/home/misys/github/discrete_math_ssu/mid/all.ipynb#X33sZmlsZQ%3D%3D?line=15'>16</a>\u001b[0m B\u001b[39m=\u001b[39m\u001b[39mlist\u001b[39m(power_set(A))\n\u001b[1;32m     <a href='vscode-notebook-cell:/home/misys/github/discrete_math_ssu/mid/all.ipynb#X33sZmlsZQ%3D%3D?line=16'>17</a>\u001b[0m \u001b[39mprint\u001b[39m(B)\n\u001b[0;32m---> <a href='vscode-notebook-cell:/home/misys/github/discrete_math_ssu/mid/all.ipynb#X33sZmlsZQ%3D%3D?line=17'>18</a>\u001b[0m \u001b[39mprint\u001b[39m(\u001b[39mset\u001b[39;49m(B))\n",
      "\u001b[0;31mTypeError\u001b[0m: unhashable type: 'set'"
     ]
    }
   ],
   "source": [
    "# 8.Power set(멱집합)\n",
    "# 위에 함수와는 완전히 다르다.\n",
    "\n",
    "def power_set(A):\n",
    "    items=list(A)\n",
    "    N = len(items)\n",
    "    for i in range(2 ** N):\n",
    "        combo = set() # set으로 선언.\n",
    "        for j in range(N):\n",
    "            if (i >> j) % 2 == 1:\n",
    "                combo.add(items[j])\n",
    "                print(\"i={},j={},items[{}]={}\".format(i,j, j, items[j]))\n",
    "        yield combo\n",
    "\n",
    "A={'a','b','c'}\n",
    "B=list(power_set(A))\n",
    "print(B)\n",
    "print(set(B))"
   ]
  },
  {
   "cell_type": "markdown",
   "metadata": {},
   "source": [
    "### Sequences\n",
    "1. 시퀀스 개요\n",
    "2. map / filter / reduce / lambda\n",
    "3. Tuple (튜플)\n",
    "4. Cartisian Product (곱집합)"
   ]
  },
  {
   "cell_type": "code",
   "execution_count": 21,
   "metadata": {},
   "outputs": [
    {
     "name": "stdout",
     "output_type": "stream",
     "text": [
      "(1, 2, 3, 'a', 1, 2, 3, 4, 5)\n",
      "['a', 'b', 'c', 'd', 'e', 1, 2, 3, 4]\n",
      "hello world\n"
     ]
    }
   ],
   "source": [
    "# 1. 시퀀스는 개체들의 순서있는 모임을 의미합니다. \n",
    "# 시퀀스 타입에는 string / list / tuople / range / array 등이 있습니다.\n",
    "# 시퀀스 데이터 타입들은 iterable 객체이며 iter() method를 가지고 있습니다.\n",
    "\n",
    "tuple_A = (1,2,3,'a')\n",
    "tuple_B = tuple([1,2,3,4,5])\n",
    "tuple_C = tuple_A+tuple_B\n",
    "print(tuple_C)\n",
    "\n",
    "list_A=['a', 'b', 'c', 'd', 'e']\n",
    "list_B=list([1,2,3,4])\n",
    "list_C=list_A+list_B\n",
    "print(list_C)\n",
    "\n",
    "s1=\"hello \"\n",
    "s2=\"world\"\n",
    "s3=s1+s2\n",
    "print(s3)\n",
    " "
   ]
  },
  {
   "cell_type": "code",
   "execution_count": 22,
   "metadata": {},
   "outputs": [
    {
     "name": "stdout",
     "output_type": "stream",
     "text": [
      "Overwriting test.txt\n"
     ]
    }
   ],
   "source": [
    "%%writefile test.txt\n",
    "Mac,ME\n",
    "Paul,CS\n",
    "Jim,EE\n",
    "Peter,PHY"
   ]
  },
  {
   "cell_type": "code",
   "execution_count": null,
   "metadata": {},
   "outputs": [
    {
     "name": "stdout",
     "output_type": "stream",
     "text": [
      "<class '_io.TextIOWrapper'>\n",
      "<class 'str'>\n",
      "Mac,ME\n",
      "M\n"
     ]
    }
   ],
   "source": [
    "A=open(\"test.txt\")\n",
    "print(type(A))\n",
    "B=next(A)\n",
    "print(type(B))\n",
    "print(B.strip()) #strip 은 스트링의 시작 및 끝의 공백(space)을 제거\n",
    "print(B[0])"
   ]
  },
  {
   "cell_type": "code",
   "execution_count": 23,
   "metadata": {},
   "outputs": [
    {
     "name": "stdout",
     "output_type": "stream",
     "text": [
      "[4, 9, 25, 49, 121]\n",
      "{64, 100, 4, 36, 16}\n",
      "(4, 9, 25, 49, 121)\n",
      "[4, 16, 36, 64, 100]\n",
      "[2, 3, 7]\n",
      "28\n",
      "35\n"
     ]
    }
   ],
   "source": [
    "# 2. map / filter / reduce / lambda\n",
    "\n",
    "def double(x):\n",
    "    return x*x\n",
    "\n",
    "print(list(map(double, (2,3,5,7,11))))\n",
    "print(set(map(lambda x : x * x, range(2,12,2))))\n",
    "print(tuple(map(double, {2,3,5,7,11})))\n",
    "print(list(map(double, range(2,12,2))))\n",
    "print(list(filter(lambda x : x > 0, (2, 3, 0, -5, 7, -11))))\n",
    "\n",
    "from functools import *\n",
    "\n",
    "print(reduce(lambda x, y : x + y, [2, 3, 5, 7, 11]))\n",
    "\n",
    "sum = reduce(lambda x, y : x + y, [2, 3, 5, 7, 11], 7)\n",
    "print(sum)\n"
   ]
  },
  {
   "cell_type": "code",
   "execution_count": 24,
   "metadata": {},
   "outputs": [
    {
     "name": "stdout",
     "output_type": "stream",
     "text": [
      "type of t1 = <class 'int'>\n",
      "t1 = 123\n",
      "type of t2 = <class 'tuple'>\n",
      "t2 = (123,)\n",
      "type of t3 = <class 'tuple'>\n",
      "t3 = (5, 6)\n"
     ]
    },
    {
     "ename": "TypeError",
     "evalue": "'tuple' object does not support item assignment",
     "output_type": "error",
     "traceback": [
      "\u001b[0;31m---------------------------------------------------------------------------\u001b[0m",
      "\u001b[0;31mTypeError\u001b[0m                                 Traceback (most recent call last)",
      "\u001b[1;32m/home/misys/github/discrete_math_ssu/mid/all.ipynb Cell 30\u001b[0m in \u001b[0;36m<cell line: 14>\u001b[0;34m()\u001b[0m\n\u001b[1;32m     <a href='vscode-notebook-cell:/home/misys/github/discrete_math_ssu/mid/all.ipynb#X46sZmlsZQ%3D%3D?line=10'>11</a>\u001b[0m \u001b[39mprint\u001b[39m(\u001b[39m\"\u001b[39m\u001b[39mtype of t3 =\u001b[39m\u001b[39m\"\u001b[39m,\u001b[39mtype\u001b[39m(t3))\n\u001b[1;32m     <a href='vscode-notebook-cell:/home/misys/github/discrete_math_ssu/mid/all.ipynb#X46sZmlsZQ%3D%3D?line=11'>12</a>\u001b[0m \u001b[39mprint\u001b[39m(\u001b[39m\"\u001b[39m\u001b[39mt3 =\u001b[39m\u001b[39m\"\u001b[39m, t3)\n\u001b[0;32m---> <a href='vscode-notebook-cell:/home/misys/github/discrete_math_ssu/mid/all.ipynb#X46sZmlsZQ%3D%3D?line=13'>14</a>\u001b[0m t3[\u001b[39m0\u001b[39m] \u001b[39m=\u001b[39m \u001b[39m1\u001b[39m\n",
      "\u001b[0;31mTypeError\u001b[0m: 'tuple' object does not support item assignment"
     ]
    }
   ],
   "source": [
    "# Tuple (튜플)\n",
    "t1=(123)\n",
    "print(\"type of t1 =\",type(t1))\n",
    "print(\"t1 =\", t1)\n",
    "\n",
    "t2=(123,)\n",
    "print(\"type of t2 =\",type(t2))\n",
    "print(\"t2 =\", t2)\n",
    "\n",
    "t3 = (5, 6)\n",
    "print(\"type of t3 =\",type(t3))\n",
    "print(\"t3 =\", t3)\n",
    "\n",
    "t3[0] = 1 # 튜플은 immutable(불변) 타입"
   ]
  },
  {
   "cell_type": "code",
   "execution_count": 25,
   "metadata": {},
   "outputs": [
    {
     "name": "stdout",
     "output_type": "stream",
     "text": [
      "type of t2 = <class 'list'>\n",
      "t2 = [1, 2, 3]\n",
      "type of t1 = <class 'tuple'>\n",
      "t1 = (1, 2, 3, 4)\n"
     ]
    }
   ],
   "source": [
    "# 튜플에 값 추가하는 방법 \n",
    "t1 = (1, 2, 3)\n",
    "t2 = list(t1)\n",
    "print(\"type of t2 =\", type(t2))\n",
    "print(\"t2 =\", t2)\n",
    "t2.append(4)\n",
    "t1 = tuple(t2)\n",
    "print(\"type of t1 =\", type(t1))\n",
    "print(\"t1 =\", t1)\n"
   ]
  },
  {
   "cell_type": "markdown",
   "metadata": {},
   "source": [
    "Cartisian Product<br>\n",
    "수학에서 Cartisian Product의 각 요소는 튜플로 표현됩니다.<br>\n",
    "&nbsp; &nbsp; &nbsp; &nbsp; &nbsp; &nbsp;  The Cartesian Product of two sets A and B, denoted by A × B,  is the set of ordered pairs (a,b) where a ∈ A and b ∈ B .  <br>\n",
    "&nbsp; &nbsp; &nbsp; &nbsp; &nbsp; &nbsp;  $ A X B = \\{ (a,b) | a \\in A ~\\wedge ~b \\in B \\} $  <br>\n",
    "</pre>    \n",
    "파이썬에서는 Cartisian Product 는 다음과 같이 compression 을 이용하여 간단히 구할 수있습니다. "
   ]
  },
  {
   "cell_type": "code",
   "execution_count": 26,
   "metadata": {},
   "outputs": [
    {
     "name": "stdout",
     "output_type": "stream",
     "text": [
      "{('A', 'x', '1'), ('D', 'x', '2'), ('B', 'x', '2'), ('C', 'y', '3'), ('D', 'y', '1'), ('B', 'y', '1'), ('C', 'x', '2'), ('B', 'x', '4'), ('A', 'y', '3'), ('D', 'x', '4'), ('A', 'x', '2'), ('C', 'x', '4'), ('C', 'y', '1'), ('D', 'y', '2'), ('B', 'y', '2'), ('A', 'x', '4'), ('A', 'y', '1'), ('B', 'y', '4'), ('D', 'y', '4'), ('C', 'y', '2'), ('D', 'x', '3'), ('B', 'x', '3'), ('C', 'x', '3'), ('A', 'y', '2'), ('C', 'y', '4'), ('A', 'x', '3'), ('A', 'y', '4'), ('B', 'x', '1'), ('D', 'x', '1'), ('D', 'y', '3'), ('B', 'y', '3'), ('C', 'x', '1')}\n",
      "------\n"
     ]
    },
    {
     "data": {
      "text/plain": [
       "{('A', 'x', '1'),\n",
       " ('A', 'x', '2'),\n",
       " ('A', 'x', '3'),\n",
       " ('A', 'x', '4'),\n",
       " ('A', 'y', '1'),\n",
       " ('A', 'y', '2'),\n",
       " ('A', 'y', '3'),\n",
       " ('A', 'y', '4'),\n",
       " ('B', 'x', '1'),\n",
       " ('B', 'x', '2'),\n",
       " ('B', 'x', '3'),\n",
       " ('B', 'x', '4'),\n",
       " ('B', 'y', '1'),\n",
       " ('B', 'y', '2'),\n",
       " ('B', 'y', '3'),\n",
       " ('B', 'y', '4'),\n",
       " ('C', 'x', '1'),\n",
       " ('C', 'x', '2'),\n",
       " ('C', 'x', '3'),\n",
       " ('C', 'x', '4'),\n",
       " ('C', 'y', '1'),\n",
       " ('C', 'y', '2'),\n",
       " ('C', 'y', '3'),\n",
       " ('C', 'y', '4'),\n",
       " ('D', 'x', '1'),\n",
       " ('D', 'x', '2'),\n",
       " ('D', 'x', '3'),\n",
       " ('D', 'x', '4'),\n",
       " ('D', 'y', '1'),\n",
       " ('D', 'y', '2'),\n",
       " ('D', 'y', '3'),\n",
       " ('D', 'y', '4')}"
      ]
     },
     "execution_count": 26,
     "metadata": {},
     "output_type": "execute_result"
    }
   ],
   "source": [
    "# 4. Cartisian Product (곱집합)\n",
    "iterable1 = 'ABCD'\n",
    "iterable2 = 'xy'\n",
    "iterable3 = '1234'\n",
    "a = { (a,b,c) for a in iterable1 for b in iterable2 for c in iterable3 }\n",
    "# 출력할 때 순서대로 값이 들어가지는 않는다.\n",
    "print(a)\n",
    "print('------')\n",
    "a"
   ]
  },
  {
   "cell_type": "code",
   "execution_count": 27,
   "metadata": {},
   "outputs": [
    {
     "data": {
      "text/plain": [
       "{('A', 'x', '1'),\n",
       " ('A', 'x', '2'),\n",
       " ('A', 'x', '3'),\n",
       " ('A', 'x', '4'),\n",
       " ('A', 'y', '1'),\n",
       " ('A', 'y', '2'),\n",
       " ('A', 'y', '3'),\n",
       " ('A', 'y', '4'),\n",
       " ('B', 'x', '1'),\n",
       " ('B', 'x', '2'),\n",
       " ('B', 'x', '3'),\n",
       " ('B', 'x', '4'),\n",
       " ('B', 'y', '1'),\n",
       " ('B', 'y', '2'),\n",
       " ('B', 'y', '3'),\n",
       " ('B', 'y', '4'),\n",
       " ('C', 'x', '1'),\n",
       " ('C', 'x', '2'),\n",
       " ('C', 'x', '3'),\n",
       " ('C', 'x', '4'),\n",
       " ('C', 'y', '1'),\n",
       " ('C', 'y', '2'),\n",
       " ('C', 'y', '3'),\n",
       " ('C', 'y', '4'),\n",
       " ('D', 'x', '1'),\n",
       " ('D', 'x', '2'),\n",
       " ('D', 'x', '3'),\n",
       " ('D', 'x', '4'),\n",
       " ('D', 'y', '1'),\n",
       " ('D', 'y', '2'),\n",
       " ('D', 'y', '3'),\n",
       " ('D', 'y', '4')}"
      ]
     },
     "execution_count": 27,
     "metadata": {},
     "output_type": "execute_result"
    }
   ],
   "source": [
    "# 파이썬에서는 cartisian product는 itertools 모듈을 이용하여 간단히 구할 수 있다.\n",
    "import itertools\n",
    "\n",
    "iterable1 = 'ABCD'\n",
    "iterable2 = 'xy'\n",
    "iterable3 = '1234'\n",
    "q=itertools.product(iterable1, iterable2, iterable3)\n",
    "# print(set(q))    출력이 달라짐 .. ?\n",
    "# print('------')\n",
    "set(q)"
   ]
  },
  {
   "cell_type": "markdown",
   "metadata": {},
   "source": [
    "### Functions in Python"
   ]
  },
  {
   "cell_type": "code",
   "execution_count": 28,
   "metadata": {},
   "outputs": [
    {
     "name": "stdout",
     "output_type": "stream",
     "text": [
      "test\n",
      "square(4) =  16\n",
      "type of a = <class 'tuple'>\n",
      "a = (9, 27, 81)\n",
      "type of x2, x3, x4 =  <class 'int'> <class 'int'> <class 'int'>\n",
      "x2, x3, x4 =  9 27 81\n"
     ]
    }
   ],
   "source": [
    "# 리턴이 없는 함수\n",
    "def func0():   \n",
    "    print(\"test\")\n",
    "\n",
    "func0()\n",
    "\n",
    "# 리턴이 있는 함수\n",
    "def square(x):\n",
    "    \"\"\"\n",
    "    Return the square of x.\n",
    "    \"\"\"\n",
    "    return x ** 2\n",
    "\n",
    "print(\"square(4) = \", square(4))\n",
    "\n",
    "# 리턴이 여러개인 함수\n",
    "def powers(x):\n",
    "    \"\"\"\n",
    "    Return a few powers of x.\n",
    "    \"\"\"\n",
    "    return x ** 2, x ** 3, x ** 4\n",
    "\n",
    "# 리턴이 여러개인데 한번에 받으면 튜플이 된다.\n",
    "a = powers(3)\n",
    "print(\"type of a =\", type(a))\n",
    "print(\"a =\", a)\n",
    "\n",
    "# 리턴이 여러개 일때 각각의 값을 받을 수 있다.\n",
    "x2, x3, x4 = powers(3)\n",
    "print(\"type of x2, x3, x4 = \", type(x2), type(x3), type(x4))\n",
    "print(\"x2, x3, x4 = \", x2, x3, x4)"
   ]
  },
  {
   "cell_type": "code",
   "execution_count": 29,
   "metadata": {},
   "outputs": [
    {
     "name": "stdout",
     "output_type": "stream",
     "text": [
      "myfunc(5) = 25\n",
      "=========================================================\n",
      "evaluating myfunc for x = 5 using exponent p = 2\n",
      "myfunc(5, debug=True) = 25\n",
      "=========================================================\n",
      "evaluating myfunc for x = 7 using exponent p = 3\n",
      "myfunc(p=3, debug=True, x=7) = 343\n"
     ]
    }
   ],
   "source": [
    "# 인자의 초기값을 선언할 수 있다.\n",
    "def myfunc(x, p=2, debug=False):\n",
    "    if debug:\n",
    "        print(\"evaluating myfunc for x = \" + str(x) + \" using exponent p = \" + str(p))\n",
    "    return x**p\n",
    "\n",
    "print(\"myfunc(5) =\", myfunc(5))\n",
    "print(\"=========================================================\")\n",
    "print(\"myfunc(5, debug=True) =\", myfunc(5, debug=True)) # 함수 안에 있는 디버깅이 호출됨\n",
    "# 인자의 이름을 정확히 명시하면 인자의 순서는 상관 없다.\n",
    "print(\"=========================================================\")\n",
    "print(\"myfunc(p=3, debug=True, x=7) =\", myfunc(p=3, debug=True, x=7))"
   ]
  },
  {
   "cell_type": "markdown",
   "metadata": {},
   "source": [
    "### lambda 함수 "
   ]
  },
  {
   "cell_type": "code",
   "execution_count": 30,
   "metadata": {},
   "outputs": [
    {
     "name": "stdout",
     "output_type": "stream",
     "text": [
      "4 4\n",
      "<map object at 0x7f44cf419760>\n",
      "[9, 4, 1, 0, 1, 4, 9]\n"
     ]
    }
   ],
   "source": [
    "f1 = lambda x: x**2\n",
    "    \n",
    "def f2(x):\n",
    "    return x**2\n",
    "\n",
    "print(f1(2), f2(2))\n",
    "\n",
    "print(map(lambda x: x**2, range(-3,4)))\n",
    "print(list(map(lambda x: x**2, range(-3,4))))"
   ]
  },
  {
   "cell_type": "markdown",
   "metadata": {},
   "source": [
    "### Arrays in Python"
   ]
  },
  {
   "cell_type": "code",
   "execution_count": 31,
   "metadata": {},
   "outputs": [
    {
     "name": "stdout",
     "output_type": "stream",
     "text": [
      "1\n",
      "2\n",
      "3\n",
      "a\n",
      "b\n",
      "c\n",
      "p\n",
      "q\n",
      "r\n",
      "s\n",
      "alpha\n",
      "beta\n",
      "gamma\n",
      "6\n",
      "7\n",
      "8\n",
      "9\n"
     ]
    }
   ],
   "source": [
    "set_A={1,2,3}\n",
    "for n in set_A:\n",
    "    print(n)\n",
    "\n",
    "dictionary_B={'a':1,'b':2, 'c': 3}\n",
    "for n in dictionary_B:\n",
    "    print(n)\n",
    "    \n",
    "list_C=['p','q','r','s']\n",
    "for n in list_C:\n",
    "    print(n)\n",
    "\n",
    "tuple_D=('alpha', 'beta', 'gamma')\n",
    "for n in tuple_D:\n",
    "    print(n)\n",
    "\n",
    "from numpy import *\n",
    "qqq = array([6,7,8,9])\n",
    "for n in qqq:\n",
    "    print(n)\n"
   ]
  },
  {
   "cell_type": "markdown",
   "metadata": {},
   "source": [
    "### Matrices (행렬)"
   ]
  },
  {
   "cell_type": "code",
   "execution_count": 32,
   "metadata": {},
   "outputs": [
    {
     "name": "stdout",
     "output_type": "stream",
     "text": [
      "A = [[1 2]\n",
      " [3 4]]\n",
      "type of A = <class 'numpy.ndarray'>\n",
      "B = [[-1 -1]\n",
      " [ 1  2]]\n",
      "type of B = <class 'numpy.ndarray'>\n"
     ]
    }
   ],
   "source": [
    "from numpy import *\n",
    "A=array([[1,2], [3,4]])\n",
    "B=array([[-1, -1], [1, 2]])\n",
    "print(\"A =\", A)\n",
    "print(\"type of A =\", type(A))\n",
    "\n",
    "print(\"B =\", B)\n",
    "print(\"type of B =\", type(B))"
   ]
  },
  {
   "cell_type": "code",
   "execution_count": 33,
   "metadata": {},
   "outputs": [
    {
     "data": {
      "text/plain": [
       "array([[0, 1],\n",
       "       [4, 6]])"
      ]
     },
     "execution_count": 33,
     "metadata": {},
     "output_type": "execute_result"
    }
   ],
   "source": [
    "A + B"
   ]
  },
  {
   "cell_type": "code",
   "execution_count": 34,
   "metadata": {},
   "outputs": [
    {
     "name": "stdout",
     "output_type": "stream",
     "text": [
      "type of C = <class 'numpy.matrix'>\n",
      "C = [[1 2]\n",
      " [3 4]]\n",
      "type of D = <class 'numpy.matrix'>\n",
      "D = [[-1 -1]\n",
      " [ 1  2]]\n"
     ]
    }
   ],
   "source": [
    "C = matrix(A)\n",
    "D = matrix(B)\n",
    "print(\"type of C =\", type(C))\n",
    "print(\"C =\", C)\n",
    "print(\"type of D =\", type(D))\n",
    "print(\"D =\", D)"
   ]
  },
  {
   "cell_type": "code",
   "execution_count": 35,
   "metadata": {},
   "outputs": [
    {
     "data": {
      "text/plain": [
       "matrix([[0, 1],\n",
       "        [4, 6]])"
      ]
     },
     "execution_count": 35,
     "metadata": {},
     "output_type": "execute_result"
    }
   ],
   "source": [
    "C + D"
   ]
  },
  {
   "cell_type": "code",
   "execution_count": 36,
   "metadata": {},
   "outputs": [
    {
     "data": {
      "text/plain": [
       "matrix([[2],\n",
       "        [8]])"
      ]
     },
     "execution_count": 36,
     "metadata": {},
     "output_type": "execute_result"
    }
   ],
   "source": [
    "G = matrix([[1,2,3],[4,5,6]])\n",
    "H = matrix([[1], [2], [-1]])\n",
    "G*H"
   ]
  },
  {
   "cell_type": "markdown",
   "metadata": {},
   "source": [
    "## 3week\n",
    "statement(구문/문) / 반복(iterations) / 알고리즘 설계 절차 / 수학 수식이 있는 알고리즘의 프로그래밍 방법 / \n",
    "논리적 절차로 해결하는 알고리즘 / 알고리즘"
   ]
  },
  {
   "cell_type": "markdown",
   "metadata": {},
   "source": [
    "### statement (구문 / 문)\n",
    "- 구문은 한줄로 표현되는 단문과 내부에 다른문을 포함하는 복합문이 있습니다. \n",
    "- 단문에는 할당문, 표현문 등이 있습니다. \n",
    "- 복합문에는 for loop / while / 클래스 정의 / 함수 정의 등이 있습니다."
   ]
  },
  {
   "cell_type": "code",
   "execution_count": 4,
   "metadata": {},
   "outputs": [
    {
     "name": "stdout",
     "output_type": "stream",
     "text": [
      "푸쉬킨 시 ; 'What though life conspire to cheat you(삶이 그대를 속일지라도)' 전문' \n",
      "\n",
      "    \"What though life conspire to cheat you\"  (Alexander Pushkin)  ; (삶이 그대를 속일지라도 - 푸시킨 ) \n",
      "    \n",
      "What though life conspire to cheat you,\n",
      "  삶이 그대를 속일지라도\n",
      "Do not sorrow or complain.\n",
      "  슬퍼하거나 노여워하지 말라.\n",
      "Lie still on the day of pain,\n",
      "  설움의 날을 참고 견디면\n",
      "And the day of joy will greet you.\n",
      "  기쁨의 날이 오고야 말리니.\n",
      "Hearts live in the coming day.\n",
      "  마음은 미래에 살고\n",
      "There's an end to passing sorrow.\n",
      "  현재는 언제나 슬픈 것.\n",
      "Suddenly all flies away,\n",
      "  모든 것은 순식간에 지나가고\n",
      "And delight returns tomorrow.\n",
      "  지나간 것은 또 다시 그리움이 되나니.\n",
      "\n",
      " \n",
      " average words per line: 5.875\n"
     ]
    }
   ],
   "source": [
    "sum_word = 0  \n",
    "line_count = 0  \n",
    "i = 0\n",
    "print(\"푸쉬킨 시 ; 'What though life conspire to cheat you(삶이 그대를 속일지라도)' 전문' \\n\")\n",
    "print(open(\"Pushikin_Poem.txt\", \"r\", encoding=\"utf8\").read())\n",
    "\n",
    "with open(\"Pushikin_Poem.txt\", \"r\", encoding=\"utf8\") as file:  \n",
    "    for line in file:          \n",
    "        if (i>=2) and (i%2==0):\n",
    "            #print(line, len(line.strip().split() ))\n",
    "            line_count +=1        \n",
    "            sum_word += len(line.strip().split())\n",
    "        i+=1\n",
    "    print(\"\\n \\n average words per line:\", sum_word/line_count)   "
   ]
  },
  {
   "cell_type": "code",
   "execution_count": 8,
   "metadata": {},
   "outputs": [
    {
     "name": "stdout",
     "output_type": "stream",
     "text": [
      "if_statement(4, 6) = \n",
      "I'll take 6\n",
      "if_statement('apple', 'banana') = \n",
      "I'll take banana\n",
      "if_statement(4, 4) = \n",
      "I'll take 4 or 4\n"
     ]
    }
   ],
   "source": [
    "def if_statement(a,b):\n",
    "    if a > b:\n",
    "        print(\"I'll take {}\".format(a) )\n",
    "    elif a < b: \n",
    "        print(\"I'll take {}\".format(b) )\n",
    "    else: print(\"I'll take {} or {}\".format(a, b))\n",
    "    return     \n",
    "\n",
    "print(\"if_statement(4, 6) = \")\n",
    "if_statement(4,6)\n",
    "print(\"if_statement('apple', 'banana') = \")\n",
    "if_statement('apple', 'banana')\n",
    "print(\"if_statement(4, 4) = \")\n",
    "if_statement(4,4)\n"
   ]
  },
  {
   "cell_type": "markdown",
   "metadata": {},
   "source": [
    "### 반복 (iterations)\n",
    "- 제오 흐름의 자주 사용되는 유형이다. \n",
    "- 파이썬에서는 반복으로 for / while 이 지원된다."
   ]
  },
  {
   "cell_type": "code",
   "execution_count": 22,
   "metadata": {},
   "outputs": [
    {
     "name": "stdout",
     "output_type": "stream",
     "text": [
      "a in A = New York\n",
      "a in A = Seoul\n",
      "a in A = Tokyo\n",
      "S start word = Seoul\n",
      "S start word = SanFransisco\n",
      "S = ['Seoul', 'SanFransisco']\n"
     ]
    }
   ],
   "source": [
    "#for statement\n",
    "A = ('New York', 'Seoul', 'Tokyo' )\n",
    "for a in A:\n",
    "    print(\"a in A =\", a)\n",
    "\n",
    "# startswith('S')는 S로 시작하는 단어를 말한다. \n",
    "A= ('New York', 'Seoul', 'Tokyo' , \"SanFransisco\")\n",
    "for a in A :\n",
    "    if a.startswith('S'):\n",
    "        print(\"S start word =\", a)\n",
    "        \n",
    "# for문으로 리스트 초기화도 가능하다\n",
    "A= ('New York', 'Seoul', 'Tokyo' , \"SanFransisco\")\n",
    "S=[a for a in A if a.startswith('S')]\n",
    "print(\"S =\", S)"
   ]
  },
  {
   "cell_type": "code",
   "execution_count": 21,
   "metadata": {},
   "outputs": [
    {
     "name": "stdout",
     "output_type": "stream",
     "text": [
      "S start word = Seoul\n",
      "S start word = SanFransisco\n"
     ]
    }
   ],
   "source": [
    "#while statement\n",
    "A = ('New York', 'Seoul', 'Tokyo' , \"SanFransisco\")\n",
    "i = 0\n",
    "while i < len(A):\n",
    "    if A[i].startswith(\"S\"):\n",
    "        print(\"S start word =\", A[i])\n",
    "    i += 1"
   ]
  },
  {
   "cell_type": "markdown",
   "metadata": {},
   "source": [
    "### 알고리즘 설계 절차"
   ]
  },
  {
   "cell_type": "markdown",
   "metadata": {},
   "source": [
    "- 알고리즘 설계 정차는 다음과 같이 정리됩니다.\n",
    "    1. 문제 이해 및 구현 어려움 평가\n",
    "    2. 접근 방법 결정\n",
    "    3. 문제 해결에 적절한 자료구조 결정\n",
    "    4. 전략 선택\n",
    "    5. 증명 - 종료, 완전성, 올바름/견고함\n",
    "    6. 공간 및 계산 복잡도 평가\n",
    "    7. 구현 및 테스팅"
   ]
  },
  {
   "cell_type": "markdown",
   "metadata": {},
   "source": [
    "### 수학적 수식이 있는 알고리즘의 프로그래밍 방법"
   ]
  },
  {
   "cell_type": "markdown",
   "metadata": {},
   "source": [
    "자연수 n의 제곱근, 즉 $\\sqrt{n}$을 Newton 방법을 이용하여, 반복적인 방법으로 구하는 알고리즘 작성을 위해서.   \n",
    "$f(x)=x^2 - n $ 으로 하고, $f(x)=0$ 의 근을 Newton 방법으로 구하는 파이썬 함수를 작성해봅시다. "
   ]
  },
  {
   "cell_type": "markdown",
   "metadata": {},
   "source": [
    "- step 1: 문제 이해 및 구현 어려움 평가   \n",
    "    자연수 n 의 제곱근을 구하는 문제, 제곱근은 무리수이므로 무한 소수로 값이 주어진다. 무한 소수는 컴퓨터로 나타나기 힘들어서, \n",
    "    소수점 몇째자리까지 표현해야 하는 가를 고려해야 한다. 이는 해를 구하기 위해 언제까지 반복하고 끝내야 하는 가와 관련이 있다. \n",
    "    여기서는 프로그램의 종료를 위한 'tolerance'를 고려한다. \n",
    "\n",
    "- step 2: 접근 방법 결정 (e.g., exact/approximate, deterministic/ probabilistic)    \n",
    "    &nbsp;&nbsp;&nbsp;  Newton 방법을 사용한 deterministic 근사화 해 구하기   \n",
    "\n",
    "- step 3: 문제 해결에 적절한 자료구조 결정   \n",
    "    &nbsp;&nbsp;&nbsp;  이 문제의 경우에는 단순한 실수 변수 정도만 필요  \n",
    "\n",
    "- step 4:  전략 선택  \n",
    "    Choose appropriate data structures \n",
    "    &nbsp;&nbsp;&nbsp; 'while-statement' 를 이용하여 Newton iternation $x_{k+1} = x_k - f(x_k )/f'(x_k) $ 를 수행하다가, \n",
    "    $ |x_k | < tolerance $ 인 경우에  'while-statement' 를 빠져나와 그 때까지의 iterated $x_k$  값을 복귀한다. \n",
    "    이를 다음과 같은 pseudo 코드로 작성한다.      \n",
    "    &nbsp;&nbsp;&nbsp;&nbsp;   &nbsp;&nbsp; $ x= x_0 $  /// 초기값 할당 . x_0 은 가급적 해에 가까운 값을 가질 수록 반복 횟수가 줄어든다.  \n",
    "    &nbsp;&nbsp;&nbsp;&nbsp;   whlie  $|x| > tolerance $  \n",
    "    &nbsp;&nbsp;&nbsp;&nbsp;&nbsp;&nbsp;&nbsp; $    x= x- f(x)/f'(x)   $  \n",
    "    &nbsp;&nbsp;&nbsp;&nbsp; $  return x   $   \n",
    "     \n",
    "   \n",
    "- step 5: 증명 - 종료, 완전성, 올바름/견고함\n",
    "    - Termination;  tolerence 조건을 만족하면 종료된다. 만일 toilearnce 조건이 만족하지 못하는 경우는 무한 루프 반복 가능성이 있으므로,  반복횟수를 제한한다.   \n",
    "    - Completeness ; 제대로 종료될 지는 tolerence 조건을 만족하는 경우나, 반복 횟수 제한인 경우이다. \n",
    "    - Correctness/soundness ; 해답이 적절한 근사값일 지는 tolerence 조건을 만족하여 종료되면 복귀값이 근사화 해(0 에 가까운 값) 이나, \n",
    "        반복 횟수 제한으로 종료되면, 복귀값은 제대로 근사화된 값이 아닐 수도 있다.    \n",
    "    - 이 경우에, cost function $f(x)=x^2 - n $ 이 convex function 이므로, Newton 방법은 항상 해를 찾아줍니다.  \n",
    "   \n",
    "- step 6: 공간 및 계산 복잡도 평가   \n",
    "    &nbsp;&nbsp;&nbsp;  공간 및 계산 복잡도 이해 및 평가 방법은 뒤에서 차츰 학습됩니다.  \n",
    "\n",
    "- step 7:  구현 및 테스팅 \n",
    "    &nbsp;&nbsp;&nbsp;  상기 pseudo 코드를 참조하여 파이썬 프로그래밍해보시오. 이 때, default tolerance 는 0.001, \n",
    "    default  maximum iteration  은 20 으로 하고, 복귀값은 tolearnce 조건을 만족하여 return 하면 True, 그렇지 않으면 False 를 리턴하며 이때, 반복횟수 및 근사값을 리턴하도록 하도록 프로그래밍 합니다. "
   ]
  },
  {
   "cell_type": "code",
   "execution_count": 24,
   "metadata": {},
   "outputs": [
    {
     "name": "stdout",
     "output_type": "stream",
     "text": [
      "1 : 5.5000000000 ; 30.2500000000\n",
      "2 : 3.6590909091 ; 13.3889462810\n",
      "3 : 3.1960050819 ; 10.2144484834\n",
      "4 : 3.1624556228 ; 10.0011255662\n",
      "5 : 3.1622776652 ; 10.0000000317\n",
      "sqrt2(10) = (True, 5, 3.162277665175675)\n"
     ]
    }
   ],
   "source": [
    "# 다음은 앞의 Algorithm 설계 가이드라인에 따라,  설계해본  자연수 n의 제곱근, 즉 $\\sqrt{n}$을 구하는 알고리즘 인 'sqrt2' 함수입니다.  \n",
    "def sqrt2(n, tolerance=0.001, max_iter=20):\n",
    "    x_iter =1.0\n",
    "    n_iter = 0\n",
    "    while (abs(x_iter*x_iter-n) > tolerance) and (n_iter < max_iter):\n",
    "        x_iter = x_iter - (x_iter*x_iter-n)/(2*x_iter) #   x= x- f(x)/f'(x)         \n",
    "        n_iter += 1\n",
    "        print(\"%d : %1.10f ; %1.10f\" %(n_iter, x_iter , x_iter**2))\n",
    "    if (abs(x_iter*x_iter-n) > tolerance) and (n_iter == max_iter):   \n",
    "         return False, n_iter, x_iter\n",
    "    return True, n_iter, x_iter \n",
    "\n",
    "print(\"sqrt2(10) =\", sqrt2(10))"
   ]
  },
  {
   "cell_type": "code",
   "execution_count": 27,
   "metadata": {},
   "outputs": [
    {
     "data": {
      "text/plain": [
       "array([1.        , 1.03030303, 1.06060606, 1.09090909, 1.12121212,\n",
       "       1.15151515, 1.18181818, 1.21212121, 1.24242424, 1.27272727,\n",
       "       1.3030303 , 1.33333333, 1.36363636, 1.39393939, 1.42424242,\n",
       "       1.45454545, 1.48484848, 1.51515152, 1.54545455, 1.57575758,\n",
       "       1.60606061, 1.63636364, 1.66666667, 1.6969697 , 1.72727273,\n",
       "       1.75757576, 1.78787879, 1.81818182, 1.84848485, 1.87878788,\n",
       "       1.90909091, 1.93939394, 1.96969697, 2.        , 2.03030303,\n",
       "       2.06060606, 2.09090909, 2.12121212, 2.15151515, 2.18181818,\n",
       "       2.21212121, 2.24242424, 2.27272727, 2.3030303 , 2.33333333,\n",
       "       2.36363636, 2.39393939, 2.42424242, 2.45454545, 2.48484848,\n",
       "       2.51515152, 2.54545455, 2.57575758, 2.60606061, 2.63636364,\n",
       "       2.66666667, 2.6969697 , 2.72727273, 2.75757576, 2.78787879,\n",
       "       2.81818182, 2.84848485, 2.87878788, 2.90909091, 2.93939394,\n",
       "       2.96969697, 3.        , 3.03030303, 3.06060606, 3.09090909,\n",
       "       3.12121212, 3.15151515, 3.18181818, 3.21212121, 3.24242424,\n",
       "       3.27272727, 3.3030303 , 3.33333333, 3.36363636, 3.39393939,\n",
       "       3.42424242, 3.45454545, 3.48484848, 3.51515152, 3.54545455,\n",
       "       3.57575758, 3.60606061, 3.63636364, 3.66666667, 3.6969697 ,\n",
       "       3.72727273, 3.75757576, 3.78787879, 3.81818182, 3.84848485,\n",
       "       3.87878788, 3.90909091, 3.93939394, 3.96969697, 4.        ])"
      ]
     },
     "execution_count": 27,
     "metadata": {},
     "output_type": "execute_result"
    }
   ],
   "source": [
    "# numpy를 이용해서 1 ~ 4 까지 100등분\n",
    "import numpy as np\n",
    "np.linspace(1,4,100)"
   ]
  },
  {
   "cell_type": "code",
   "execution_count": 30,
   "metadata": {},
   "outputs": [
    {
     "data": {
      "image/png": "[encoded data removed]",
      "text/plain": [
       "<Figure size 864x288 with 1 Axes>"
      ]
     },
     "metadata": {
      "needs_background": "light"
     },
     "output_type": "display_data"
    }
   ],
   "source": [
    "def sqrt3(n, tol=0.001, max_iter=20):\n",
    "    %matplotlib inline\n",
    "    import numpy as np\n",
    "    import sympy\n",
    "    import matplotlib.pyplot as plt\n",
    "\n",
    "    s_x = sympy.symbols(\"x\")\n",
    "    s_f = s_x*s_x - n   # f(x)=x^2 -n\n",
    "\n",
    "    f = lambda x: sympy.lambdify(s_x, s_f, 'numpy')(x)  #f(x) 를 symbolic 처리가 가능하도록 표현\n",
    "    fp = lambda x: sympy.lambdify(s_x, sympy.diff(s_f, s_x), 'numpy')(x)  #f'(x) 를 symbolic 처리가 가능하도록 표현\n",
    "\n",
    "    lim= n/2 +1.1 \n",
    "    x = np.linspace(-1, lim, 1000)  # [-1, n/2+1.1) 를  1,000 으로 나누어 numpy  array 로  저장\n",
    "\n",
    "# setup a graph for visualizing the root finding steps\n",
    "    fig, ax = plt.subplots(1, 1, figsize=(12,4))\n",
    "\n",
    "    ax.plot(x, f(x))\n",
    "    ax.axhline(0, ls=':', color='k')\n",
    "\n",
    "# repeat Newton's method until convergence to the desired tolerance has been reached\n",
    "    xk=n/2\n",
    "    while f(xk) > tol:\n",
    "        xk_new = xk - f(xk) / fp(xk)\n",
    "\n",
    "        ax.plot([xk, xk], [0, f(xk)], color='k', ls=':')\n",
    "        ax.plot(xk, f(xk), 'ko')\n",
    "        ax.text(xk, -.5, r'$x_%d$' % n, ha='center')\n",
    "        ax.plot([xk, xk_new], [f(xk), 0], 'k-')\n",
    "\n",
    "        xk = xk_new\n",
    "        n += 1\n",
    "\n",
    "    ax.plot(xk, f(xk), 'r*', markersize=15)\n",
    "    ax.annotate(\"Root approximately at %.3f\" % xk,\n",
    "            fontsize=14, family=\"serif\",\n",
    "            xy=(xk, f(xk)), xycoords='data',\n",
    "            xytext=(-150, +50), textcoords='offset points', \n",
    "            arrowprops=dict(arrowstyle=\"->\", connectionstyle=\"arc3, rad=-.5\"))\n",
    "\n",
    "    ax.set_title(\"Newton's method\")\n",
    "    ax.set_xticks([-1, 0, 1, 2])\n",
    "    fig.tight_layout()\n",
    "    fig.savefig('3week_algorithm-newton.pdf')\n",
    "    return \n",
    "\n",
    "sqrt3(10)"
   ]
  },
  {
   "cell_type": "markdown",
   "metadata": {},
   "source": [
    "### 논리적 절차로 해결하는 알고리즘\n",
    "- 최대값 찾기\n",
    "- 탐색\n",
    "- 정렬\n",
    "- 최적화; greedy algorithm"
   ]
  },
  {
   "cell_type": "markdown",
   "metadata": {},
   "source": [
    "#### step 1: 문제의 이해; 문제가 얼마나 어렵고 복잡하고 어려운 지를 파악.\n",
    "&nbsp;&nbsp;&nbsp; 리스트에서 최대값 항목을 찾는 문제이다. 리스트 각 항목을 순차적으로 비교하여 최대값을  찾기 때문에 리스트의 크기가 유한하면 반드시 유한번 비교에서 작업은 종료하게 된다. \n",
    "\n",
    "\n",
    "#### step 2: 문제 풀이 방향 선택(예; 정확해/근사해, 결정론적 해/확률적 해)\n",
    "\n",
    "&nbsp;&nbsp;&nbsp; 본 문제는 답이 있다.    \n",
    "\n",
    "\n",
    "#### step 3: 적절한 알고리즘의 입출력 데이터 및 내부 데이터 구조 및 타입 선택  \n",
    "\n",
    "&nbsp;&nbsp;&nbsp;  이 문제의 경우에 입력은 n 개의 정수를 포함하고 이들의 순번을 갖는 시퀀스 구조체를 이용하면 편리하다. 또한 내부에서 최대값으로 지정되는 정수 변수면 충분하다. \n",
    "\n",
    "#### step 4: 알고리즘 설계 전략 선택\n",
    "&nbsp;&nbsp;&nbsp; 리스트의 처음 항목을 최대값으로 지정한 후에, 리스트이 2번째 항목부터 비교하여 현재 최대값으로 지정된 값보다 크면 최대값을 현재값으로 바꾸고 그렇지 않으면 최대값을 변경하지 않는다. 이후 리스트의 마지막 항목까지 같은 작업을 수행한다. 이후 최대값을 리턴한다. \n",
    "&nbsp;&nbsp;&nbsp; <br/><br/>상기 절차를 반영한 pseudo code 는 다음과 같다. \n",
    "![Alt Text](max.png)\n",
    "\n",
    "#### step 5: 다음이 보장되도록 알고리즘 설계 \n",
    "&nbsp;&nbsp;&nbsp; **1) 일정 계산 스텝 수 안에  알고리즘 수행 종료 보장**;  상기 알고리즘 리스트의 각 항목을 순차적으로 비교하는 것으로 리스트의 길이안에 비교되어 최대값 항목을 찾는 것으로  해당 알고리즘은 종료되는 것이 보장된다.      \n",
    "&nbsp;&nbsp;&nbsp; **2) 각 처리 단계가 정확히 수행될 수있도록  보장** ; 각 처리 단계는 리스트의 각 항목과 현재 최대값과의 비교하여 크면 최대값을 현재값으로 바꾸고, 크지 않으면 최대값을 변경하지 않는다. 이후 다음 리스트 항목값과의 비교를 리스트 끝까지 수행하는 것이기 때문에 각 단계가 정확히 수행되는 것이 보장된다.     \n",
    "&nbsp;&nbsp;&nbsp; **3) 모든 입력 종류 및 중간 처리 과정에서 발생할 수 있는 모든 예외사항들의 경우들을 고려하여 엉뚱한 결과가 발생되지 않도록 보장** ; 중간 처리 과정에서 예외 사항은 없음.    \n",
    "&nbsp;&nbsp;&nbsp; **4) 해 존재 유무를 판별하며, 만일 해가 존재하면 정답 출력 보장** ; 리스트 모든 항목 비교에서 최대값을 찾고 이 최대값을 복귀하므로 확실히 정답을 복귀함, \n",
    "   \n",
    "#### step 6: 설계한 알고리즘이 얼마나 많은 공간과 시간을 필요로 하는 지 분석\n",
    "&nbsp;&nbsp;&nbsp; 최대 리스트의 길이만큼의 비교 스텝수가 필요하며( $O(n)$의 복잡도를 갖음), 알고리즘 처리 시에 입력 리스트 및 최대값을 담는 정수값을 담을 공간만 필요함.    \n",
    "\n",
    "#### step step 7: 설계한 알고리즘 구현 및 성능 평가(시간, 메모리)\n",
    "&nbsp;&nbsp;&nbsp;  상기 pseudo 코드를 참조하여 아래와 같이 파이썬 프로그래밍한다. \n",
    " \n",
    "#### step 8: 문제를 해결하는 다른 구현 알고리즘과의 비교 성능 평가\n",
    "&nbsp;&nbsp;&nbsp;  다른 구현 알고리즘 구현 필요. 이 후에 비교 가능함  "
   ]
  },
  {
   "cell_type": "code",
   "execution_count": 36,
   "metadata": {},
   "outputs": [
    {
     "name": "stdout",
     "output_type": "stream",
     "text": [
      "set X = (3, 7, 4, 2, 6, 9, 8)\n",
      "최댓값은 = 9\n"
     ]
    }
   ],
   "source": [
    "# 최대값 찾는 함수\n",
    "def max1(X):\n",
    "    X = list(X) # X 가 set 인 경우에는 인덱싱이 안되므로 , 리스트 타입으로 변경 \n",
    "    max = X[0]\n",
    "    n = len(X)\n",
    "    for k in range(1,n):\n",
    "        if max < X[k]:\n",
    "            max = X[k]\n",
    "    return max        \n",
    "\n",
    "X = (3,7,4,2,6,9,8)\n",
    "m_A = max1(X)\n",
    "print(\"set X =\", X)\n",
    "print(\"최댓값은 =\", m_A)"
   ]
  },
  {
   "cell_type": "code",
   "execution_count": 45,
   "metadata": {},
   "outputs": [
    {
     "name": "stdout",
     "output_type": "stream",
     "text": [
      "set X = (3, 7, 4, 2, 6, 9, 8)\n",
      "최댓값은 = 9\n",
      "type of X = <class 'range'>\n",
      "set X = range(3, 10)\n",
      "최댓값은 = 9\n"
     ]
    }
   ],
   "source": [
    "# 파이썬 스타일의 최대값 찾는 함수\n",
    "def max2(X):\n",
    "    max = 0\n",
    "    for t in X:\n",
    "        if max < t:\n",
    "            max = t\n",
    "    return max         \n",
    "\n",
    "X = (3,7,4,2,6,9,8)\n",
    "m_A = max2(X)\n",
    "print(\"set X =\", X)\n",
    "print(\"최댓값은 =\", m_A) \n",
    "\n",
    "X = range(3,10)\n",
    "m_A = max2(X)\n",
    "print(\"type of X =\", type(X))\n",
    "print(\"set X =\", X)\n",
    "print(\"최댓값은 =\", m_A) "
   ]
  },
  {
   "cell_type": "markdown",
   "metadata": {},
   "source": [
    "### 알고리즘\n",
    "1. 탐색 알고리즘\n",
    "2. 이진 탐색 알고리즘\n",
    "3. 정렬 알고리즘 : 버블, 삽입\n",
    "4. 파이썬에서 정렬 함수 및 리스트 정렬 메소드\n",
    "5. 최적화 알고리즘 : 탐욕 알고리즘"
   ]
  },
  {
   "cell_type": "code",
   "execution_count": 71,
   "metadata": {},
   "outputs": [
    {
     "name": "stdout",
     "output_type": "stream",
     "text": [
      "LinearSearch(9,a) = 3\n",
      "a.index(9) = 2\n",
      "값을 찾을 수 없습니다. 10 in [3, 8, 9, 4, 5]\n",
      "LinearSearch(10,a) = None\n",
      "[7, 8, 6, 5, 3]\n",
      "값을 찾을 수 없습니다. 9 in [7, 8, 6, 5, 3]\n",
      "LinearSearch(9,A) =  None\n",
      "LinearSearch('banana',a) = 2\n"
     ]
    }
   ],
   "source": [
    "# 1. 탐색 알고리즘 (선형 탐색)\n",
    "def LinearSearch(x, A):  #상기 알고리즘 2 에 따른  선형 탐색 알고리즘 구현 ( 주의;  1번째 위치 리턴)   \n",
    "    n=len(A)\n",
    "    i=0\n",
    "    location=0\n",
    "    while (i<n) and x!=A[i]:\n",
    "        i+=1\n",
    "    if i < n:\n",
    "        location=i+1\n",
    "    else: return (print(\"값을 찾을 수 없습니다. {} in {}\".format(x, A)))\n",
    "    return location  \n",
    "\n",
    "a=[3,8,9,4,5]\n",
    "print(\"LinearSearch(9,a) =\", LinearSearch(9,a))\n",
    "print(\"a.index(9) =\", a.index(9))\n",
    "print(\"LinearSearch(10,a) =\", LinearSearch(10,a))\n",
    "\n",
    "# 랜덤으로 값 추출\n",
    "from random import sample  \n",
    "A = sample(list(range(3,10)), 5)   # A = np.random.randint(3, 10, size=5)\n",
    "print(A)\n",
    "print(\"LinearSearch(9,A) = \", LinearSearch(9,A))\n",
    "\n",
    "# 문자열 리스트에서도 가능합니다.\n",
    "a = ['apple','banana', 'graph', 'pear', 'water mellon' ]\n",
    "print(\"LinearSearch('banana',a) =\", LinearSearch('banana',a))"
   ]
  },
  {
   "cell_type": "code",
   "execution_count": 73,
   "metadata": {},
   "outputs": [
    {
     "name": "stdout",
     "output_type": "stream",
     "text": [
      "LinearSearch2(9,a) = 3\n",
      "LinearSearch2('banana',a) = 2\n",
      "a.index('banana') = 1\n",
      "LinearSearch2('banana',b) = 2\n",
      "b.index('banana') = 1\n"
     ]
    }
   ],
   "source": [
    "#파이썬 자체 특성을 이용한 선형 탐색 알고리즘 구현\n",
    "def LinearSearch2(x, A):   \n",
    "    for (k, item) in enumerate(A):  \n",
    "        if item==x:\n",
    "            return k+1\n",
    "    return -1\n",
    "\n",
    "a = [3,8,9,4,5]\n",
    "print(\"LinearSearch2(9,a) =\", LinearSearch2(9,a))\n",
    "\n",
    "a=['apple','banana', 'graph', 'pear', 'water mellon' ]\n",
    "print(\"LinearSearch2('banana',a) =\", LinearSearch2('banana',a))\n",
    "print(\"a.index('banana') =\", a.index('banana'))\n",
    "\n",
    "b = ('apple','banana', 'graph', 'pear', 'water mellon' )\n",
    "print(\"LinearSearch2('banana',b) =\", LinearSearch2('banana',b))\n",
    "print(\"b.index('banana') =\", b.index('banana'))"
   ]
  },
  {
   "cell_type": "code",
   "execution_count": 80,
   "metadata": {},
   "outputs": [
    {
     "name": "stdout",
     "output_type": "stream",
     "text": [
      "리스트 형태 binarysearch(numlist, 15) =\n",
      "15 는 주어진 리스트에서 10번째에 위치합니다.\n",
      "set 형태 binarysearch(numlist2, 15) =\n",
      "15 는 주어진 리스트에서 10번째에 위치합니다.\n",
      "원래 인덱스는 = 9\n"
     ]
    }
   ],
   "source": [
    "# 2. 이진 탐색 알고리즘\n",
    "def binarysearch(A, num): # A는 리스트 num은 찾는 값\n",
    "    first = 0\n",
    "    last = len(A) - 1\n",
    "    found = False\n",
    "\n",
    "    while first <= last and not found:\n",
    "        midpoint = (first + last) // 2 \n",
    "        if A[midpoint] == num: \n",
    "           found = True\n",
    "        else:\n",
    "            if num < A[midpoint]:\n",
    "                last = midpoint - 1 \n",
    "            else:\n",
    "                first = midpoint + 1 \n",
    "    if midpoint < len(A) and found:\n",
    "        return print(\"%d 는 주어진 리스트에서 %d번째에 위치합니다.\" %(num, midpoint+1))  \n",
    "    else:\n",
    "          return -1\n",
    "\n",
    "numlist = [1, 3, 5, 6, 7, 8, 10, 12, 13, 15, 16, 18, 19, 20, 22]\n",
    "print(\"리스트 형태 binarysearch(numlist, 15) =\")\n",
    "binarysearch(numlist, 15)\n",
    "\n",
    "numlist2 = (1, 3, 5, 6, 7, 8, 10, 12, 13, 15, 16, 18, 19, 20, 22)\n",
    "print(\"set 형태 binarysearch(numlist2, 15) =\")\n",
    "binarysearch(numlist2, 15)\n",
    "\n",
    "print(\"원래 인덱스는 =\", numlist2.index(15))"
   ]
  },
  {
   "cell_type": "code",
   "execution_count": 92,
   "metadata": {},
   "outputs": [
    {
     "name": "stdout",
     "output_type": "stream",
     "text": [
      "[2, 3, 11, 18, 16, 19, 4, 6, 15, 10]\n"
     ]
    },
    {
     "data": {
      "text/plain": [
       "[2, 3, 4, 6, 10, 11, 15, 16, 18, 19]"
      ]
     },
     "execution_count": 92,
     "metadata": {},
     "output_type": "execute_result"
    }
   ],
   "source": [
    "# 3. 정렬 알고리즘 : 버블, 삽입\n",
    "def sort_bubble(A):\n",
    "    n = len(A)\n",
    "    for i in range(n-1):\n",
    "        for j in range(n-i-1):\n",
    "            if A[j]>A[j+1]:\n",
    "                A[j+1], A[j]=A[j], A[j+1]\n",
    "    return A\n",
    "\n",
    "from random import *\n",
    "\n",
    "x1 = sample(list(range(0,20)), 10)\n",
    "print(x1)\n",
    "sort_bubble(x1)"
   ]
  },
  {
   "cell_type": "code",
   "execution_count": 94,
   "metadata": {},
   "outputs": [
    {
     "name": "stdout",
     "output_type": "stream",
     "text": [
      "[7, 17, 5, 18, 4, 9, 2, 19, 6, 14]\n"
     ]
    },
    {
     "data": {
      "text/plain": [
       "[2, 4, 5, 6, 7, 9, 14, 17, 18, 19]"
      ]
     },
     "execution_count": 94,
     "metadata": {},
     "output_type": "execute_result"
    }
   ],
   "source": [
    "def sort_insertion(a):\n",
    "    for j in range(1,len(a)):\n",
    "        i=0\n",
    "        while(a[j] > a[i]):\n",
    "            i+=1\n",
    "        m=a[j]\n",
    "        for k in range(0, j-i):\n",
    "            a[j-k]=a[j-k-1]\n",
    "        a[i]=m\n",
    "        # print(a)\n",
    "    return a\n",
    "from random import *\n",
    "x=sample(list(range(0,20)), 10)\n",
    "print(x)\n",
    "sort_insertion(x)"
   ]
  },
  {
   "cell_type": "code",
   "execution_count": 108,
   "metadata": {},
   "outputs": [
    {
     "name": "stdout",
     "output_type": "stream",
     "text": [
      "sorted(numlist) = [1, 2, 2, 3, 3, 4, 5, 7, 8]\n",
      "type of numlist = <class 'list'>\n",
      "numlist.sort() = [1, 2, 2, 3, 3, 4, 5, 7, 8]\n",
      "type of numlist = <class 'list'>\n",
      "z.sort() = [1 2 3 4 5 9]\n",
      "type of z = <class 'numpy.ndarray'>\n",
      "z.sort() and z.reverse()= [8, 7, 5, 4, 3, 3, 2, 2, 1]\n",
      "type of z = <class 'list'>\n",
      "sorted(z) and list(reversed(y)) = [8, 7, 5, 4, 3, 3, 2, 2, 1]\n",
      "type of q = <class 'list'>\n"
     ]
    }
   ],
   "source": [
    "# 4. 파이썬에서 정렬 함수 및 리스트 정렬 메소드\n",
    "numlist=[7, 2, 4, 3, 2, 1, 3, 5, 8]\n",
    "print(\"sorted(numlist) =\", sorted(numlist))\n",
    "print(\"type of numlist =\", type(numlist))\n",
    "\n",
    "numlist=[7, 2, 4, 3, 2, 1, 3, 5, 8]\n",
    "numlist.sort()\n",
    "print(\"numlist.sort() =\", numlist)\n",
    "print(\"type of numlist =\", type(numlist))\n",
    "\n",
    "import numpy as np\n",
    "z = np.array([5, 3, 4, 9, 1, 2])\n",
    "z.sort()\n",
    "print(\"z.sort() =\", z)\n",
    "print(\"type of z =\", type(z))\n",
    "\n",
    "# 내림차순 정렬\n",
    "z = [7, 2, 4, 3, 2, 1, 3, 5, 8]\n",
    "z.sort()\n",
    "z.reverse()\n",
    "print(\"z.sort() and z.reverse()=\", z)\n",
    "print(\"type of z =\", type(z))\n",
    "\n",
    "z = [7, 2, 4, 3, 2, 1, 3, 5, 8]\n",
    "y = sorted(z)\n",
    "q = list(reversed(y))\n",
    "print(\"sorted(z) and list(reversed(y)) =\", q)\n",
    "print(\"type of q =\", type(q))"
   ]
  },
  {
   "cell_type": "code",
   "execution_count": 131,
   "metadata": {},
   "outputs": [
    {
     "name": "stdout",
     "output_type": "stream",
     "text": [
      "[25, 10, 5, 1]\n",
      "[0, 0, 0, 0]\n",
      "0 25\n",
      "The number of 25 cent coin : 6\n",
      "1 10\n",
      "The number of 10 cent coin : 1\n",
      "2 5\n",
      "The number of 5 cent coin : 1\n",
      "3 1\n",
      "The number of 1 cent coin : 2\n"
     ]
    }
   ],
   "source": [
    "# 5. 최적화 알고리즘 : 탐욕 알고리즘\n",
    "def change(c, n):\n",
    "    c.sort()\n",
    "    c.reverse()\n",
    "    d = [0] * len(c)\n",
    "    print(c)\n",
    "    print(d)\n",
    "    for k in range (len(c)):\n",
    "        print(k, c[k])\n",
    "        while n >= c[k]:\n",
    "            d[k] += 1\n",
    "            n -= c[k]        \n",
    "        print(\"The number of %d cent coin : %d\" %(c[k], d[k]) )            \n",
    "c = [1, 5, 10, 25]\n",
    "n = 167\n",
    "change(c,n)"
   ]
  },
  {
   "cell_type": "markdown",
   "metadata": {},
   "source": [
    "## 4week\n",
    "수학적 귀납법 / 재귀 알고리즘"
   ]
  },
  {
   "cell_type": "markdown",
   "metadata": {},
   "source": [
    "### 수학적 귀납법\n",
    "1. 재귀함수 구현\n",
    "   1. Example: 수학적 귀납법으로  $\\sum_{i=1}^{i=n}i =\\frac{n(n+1)}{2} $  을 증명하시오. \n",
    "   2. Example: 수학적 귀납법으로  $\\sum_{i=1}^{i=n}2i =n(n+1) $  을 증명하시오. \n",
    "   3. 일상적인 인터뷰 질문, N 명이 참석한 파티에서는 각 사람이 한 번만 서로 악수한다고 할 때, 총 몇 번의 악수가 발생합니까?\n",
    "2. 재귀적 set and structures\n",
    "   1. Example :  정수 3 의 배수 집합 S 을   재귀적으로 정의:\n",
    "   2. 알파벳으로부터 재귀적으로 문자열 집합 생성"
   ]
  },
  {
   "cell_type": "code",
   "execution_count": 133,
   "metadata": {},
   "outputs": [
    {
     "name": "stdout",
     "output_type": "stream",
     "text": [
      "{'base_case_satisfied': True, 'inductive_hypothesis': k**2/2 + 3*k/2 + 1, 'formula_next_term': k**2/2 + 3*k/2 + 1, 'proved': True}\n"
     ]
    }
   ],
   "source": [
    "# 1.1 예제 구현 \n",
    "from sympy import *\n",
    "x, y, z, k, n = symbols('x y z k n')\n",
    "init_printing(use_unicode=True)\n",
    "\n",
    "def verify_base_case(formula, valid_from_n, base_case):\n",
    "    computed_base_case = (sympify(formula)).subs(n, valid_from_n)\n",
    "    base_case_satisfied = computed_base_case == base_case\n",
    "    return base_case_satisfied\n",
    "\n",
    "def expand_induction_hypothesis_k_plus_1(formula, next_expression):\n",
    "    inductive_step = formula.replace('n', 'k') + '+' + next_expression.replace('n', 'k')\n",
    "    return expand(inductive_step)\n",
    "\n",
    "def expand_formula_k_plus_1(formula):\n",
    "    return expand(formula.replace('n', '(k+1)'))\n",
    "\n",
    "def prove_arithmetic_series_formula(formula, valid_from_n, base_case, next_expression):\n",
    "    base_case_satisfied = verify_base_case(formula, valid_from_n, base_case)\n",
    "    inductive_hypothesis = expand_induction_hypothesis_k_plus_1(formula, next_expression)\n",
    "    formula_next_term = expand_formula_k_plus_1(formula)\n",
    "    return {\n",
    "        'base_case_satisfied': base_case_satisfied,\n",
    "        'inductive_hypothesis': inductive_hypothesis,\n",
    "        'formula_next_term': formula_next_term,\n",
    "        'proved': base_case_satisfied and inductive_hypothesis == formula_next_term\n",
    "    }\n",
    "\n",
    "INPUT_FORMULA = 'n*(n+1)/2'\n",
    "INPUT_VALID_FROM_N = 1\n",
    "INPUT_BASE_CASE = 1\n",
    "INPUT_NEXT_STEP = 'n+1' \n",
    "\n",
    "print( prove_arithmetic_series_formula(\n",
    "    INPUT_FORMULA,\n",
    "    INPUT_VALID_FROM_N,\n",
    "    INPUT_BASE_CASE,\n",
    "    INPUT_NEXT_STEP\n",
    "))\n"
   ]
  },
  {
   "cell_type": "code",
   "execution_count": 138,
   "metadata": {},
   "outputs": [
    {
     "name": "stdout",
     "output_type": "stream",
     "text": [
      "{'base_case_satisfied': True, 'inductive_hypothesis': k**2 + 3*k + 2, 'formula_next_term': k**2 + 3*k + 2, 'proved': True}\n"
     ]
    }
   ],
   "source": [
    "# 1.2 구현\n",
    "INPUT_FORMULA = 'n*(n+1)' # 공식\n",
    "INPUT_VALID_FROM_N = 1 # 시작 \n",
    "INPUT_BASE_CASE = 2 # 2*i 의미\n",
    "INPUT_NEXT_STEP = '2*(n+1)' # n+1 일 때 값 \n",
    "\n",
    "print( prove_arithmetic_series_formula(\n",
    "    INPUT_FORMULA,\n",
    "    INPUT_VALID_FROM_N,\n",
    "    INPUT_BASE_CASE,\n",
    "    INPUT_NEXT_STEP\n",
    "))\n"
   ]
  },
  {
   "cell_type": "code",
   "execution_count": 140,
   "metadata": {},
   "outputs": [
    {
     "data": {
      "image/png": "[encoded data removed]",
      "text/latex": [
       "$\\displaystyle 10$"
      ],
      "text/plain": [
       "10"
      ]
     },
     "execution_count": 140,
     "metadata": {},
     "output_type": "execute_result"
    }
   ],
   "source": [
    "# 일상적인 인터뷰 질문, N 명이 참석한 파티에서는 각 사람이 한 번만 서로 악수한다고 할 때, 총 몇 번의 악수가 발생합니까?\n",
    "\n",
    "# 공식을 알고있으니 공식에 대입한다!\n",
    "def HandShake1(N):\n",
    "    if N <0 :\n",
    "        return print(\" N should be more than 0\")\n",
    "    else:\n",
    "        return int(N*(N-1)/2)\n",
    "HandShake1(5)"
   ]
  },
  {
   "cell_type": "code",
   "execution_count": 142,
   "metadata": {},
   "outputs": [
    {
     "name": "stdout",
     "output_type": "stream",
     "text": [
      "4\n",
      "3\n",
      "2\n",
      "1\n",
      "0\n"
     ]
    },
    {
     "data": {
      "image/png": "[encoded data removed]",
      "text/latex": [
       "$\\displaystyle 10$"
      ],
      "text/plain": [
       "10"
      ]
     },
     "execution_count": 142,
     "metadata": {},
     "output_type": "execute_result"
    }
   ],
   "source": [
    "# 반복문으로 해결하는 방법\n",
    "def HandShake(N):\n",
    "    result = 0\n",
    "    if N <= 0 :\n",
    "        return print(\" N should be more than 0.\")\n",
    "    for i in range(N-1, -1, -1):\n",
    "        print(i)\n",
    "        result+=i\n",
    "    return result\n",
    "HandShake(5)"
   ]
  },
  {
   "cell_type": "code",
   "execution_count": 146,
   "metadata": {},
   "outputs": [
    {
     "data": {
      "image/png": "[encoded data removed]",
      "text/latex": [
       "$\\displaystyle 10$"
      ],
      "text/plain": [
       "10"
      ]
     },
     "execution_count": 146,
     "metadata": {},
     "output_type": "execute_result"
    }
   ],
   "source": [
    "# 재귀적으로 해결하는 방법\n",
    "def HandShake2(N):  \n",
    "    if N <= 0:   # 예외사항 처리 \n",
    "        return print(\" N should be more than 0.\")\n",
    "    elif N==1:   #  종료 조건 \n",
    "        return 0\n",
    "    else :\n",
    "        return (N-1)+HandShake2(N-1)  # 재귀적 호출 \n",
    "HandShake2(5)\n",
    "# 재귀적으로 할 때 유의할 점\n",
    "# 1. 각 재귀 함수 호출시 해당 실행 문맥 상태를 올바르게 유지\n",
    "# 2. 종료 조건을 반드시 점검"
   ]
  },
  {
   "cell_type": "code",
   "execution_count": 152,
   "metadata": {},
   "outputs": [
    {
     "name": "stdout",
     "output_type": "stream",
     "text": [
      "{3}\n",
      "{3, 6}\n",
      "{3, 6, 9, 12}\n",
      "{3, 6, 9, 12, 15, 18, 21, 24}\n",
      "{3, 6, 9, 12, 15, 18, 21, 24, 27, 30, 33, 36, 39, 42, 45, 48}\n"
     ]
    }
   ],
   "source": [
    "# 2. 재귀적 set and structures\n",
    "# Example :  정수 3 의 배수 집합 S 을   재귀적으로 정의:\n",
    "\n",
    "def Three_multiples_Set(n):  #n: number of  recursion   \n",
    "    A=set() \n",
    "    if n < 0:\n",
    "        return print(\"Please, choose n as a integer equal to or more than 0\")\n",
    "    elif n==0:                \n",
    "        A.add(3)\n",
    "    else:\n",
    "        A=Three_multiples_Set(n-1)\n",
    "        #print(A)\n",
    "        tmp=set()             \n",
    "        for x in A:                 \n",
    "            for y in A:\n",
    "                tmp.add(x+y) \n",
    "        A.update(tmp)\n",
    "    return A    \n",
    "\n",
    "print(Three_multiples_Set(0)) # 1개\n",
    "print(Three_multiples_Set(1)) # 2개\n",
    "print(Three_multiples_Set(2)) # 4개\n",
    "print(Three_multiples_Set(3)) # 8개 \n",
    "print(Three_multiples_Set(4)) # 16개"
   ]
  },
  {
   "cell_type": "code",
   "execution_count": 161,
   "metadata": {},
   "outputs": [
    {
     "name": "stdout",
     "output_type": "stream",
     "text": [
      "{'λ'}\n",
      "{'λ', '1', '0'}\n",
      "{'11', 'λ', '1', '0', '01', '00', '10'}\n",
      "{'11', '110', '000', '0', '010', '00', '10', '101', '011', 'λ', '1', '01', '001', '100', '111'}\n",
      "{'11', '0000', '010', '00', '1011', '0001', '0111', '1110', '101', '1000', 'λ', '1', '0010', '001', '0011', '111', '110', '000', '1001', '0', '0101', '10', '0110', '0100', '011', '1010', '01', '1101', '100', '1111', '1100'}\n"
     ]
    }
   ],
   "source": [
    "# 알파벳으로부터 재귀적으로 문자열 집합 생성\n",
    "def string_set(S, n): # S: Alphabet, n: number of  recursion\n",
    "    String_A={'λ'}\n",
    "    if n < 0:\n",
    "        return print(\"Please, choose n as a integer equal to or more than 0\")\n",
    "    elif n==0: \n",
    "        return String_A\n",
    "    else:\n",
    "        String_A=string_set(S,n-1)\n",
    "        tmp=set()\n",
    "        if len(String_A)==0:\n",
    "            for x in S:\n",
    "                tmp.add(x)\n",
    "        else:        \n",
    "            for x in S:                         \n",
    "                for w in String_A:\n",
    "                    if w=='λ':\n",
    "                        tmp.add(x)\n",
    "                    else:    \n",
    "                        tmp.add(w+x)\n",
    "        String_A.update(tmp)\n",
    "    return String_A     \n",
    "\n",
    "print(string_set({'0','1'}, 0))\n",
    "print(string_set({'0','1'}, 1))\n",
    "print(string_set({'0','1'}, 2))\n",
    "print(string_set({'0','1'}, 3))\n",
    "print(string_set({'0','1'}, 4))"
   ]
  },
  {
   "cell_type": "markdown",
   "metadata": {},
   "source": [
    "### 재귀 알고리즘\n",
    "1. 반복적 알고리즘\n",
    "2. 재귀적 알고리즘\n",
    "3. 글로벌 변수를 사용한 재귀적 알고리즘\n",
    "4. 정수의 거듭 제곱  ( $a^n$ ) 계산 \n",
    "5. 2개 정수의 최대공약수 계산 (Computing gcd(a,b) where a < b)\n",
    "6. 재귀함수 구현시 유의할 점\n",
    "7. 재귀와 반복 비교"
   ]
  },
  {
   "cell_type": "code",
   "execution_count": 166,
   "metadata": {},
   "outputs": [
    {
     "name": "stdout",
     "output_type": "stream",
     "text": [
      "2\n",
      "6\n",
      "24\n",
      "120\n",
      "720\n"
     ]
    }
   ],
   "source": [
    "# 1. 반복적 알고리즘\n",
    "\n",
    "def factorial_iter(n):\n",
    "    if n < 0: #  예외 사항 \n",
    "        return print(\"please, take n as n >= 0\")\n",
    "    if n==0:  # 종료 조건 \n",
    "        return 1\n",
    "    else:\n",
    "        fac=1\n",
    "        for i in range(1, n+1):\n",
    "            fac*=i #1*2*3*...*n \n",
    "        return fac\n",
    "\n",
    "print(factorial_iter(2))\n",
    "print(factorial_iter(3))\n",
    "print(factorial_iter(4))\n",
    "print(factorial_iter(5))\n",
    "print(factorial_iter(6))\n",
    "    "
   ]
  },
  {
   "cell_type": "code",
   "execution_count": 167,
   "metadata": {},
   "outputs": [
    {
     "name": "stdout",
     "output_type": "stream",
     "text": [
      "2\n",
      "6\n",
      "24\n",
      "120\n",
      "720\n"
     ]
    }
   ],
   "source": [
    "# 2. 재귀적 알고리즘\n",
    "\n",
    "def factorial_recursive(n):\n",
    "    if n < 0: #  예외 사항 \n",
    "        return print(\"please, take n as n >= 0\")\n",
    "    if n==0:  # 종료 조건 \n",
    "        return 1\n",
    "    else:\n",
    "        return n*factorial_recursive(n-1)\n",
    "    \n",
    "print(factorial_recursive(2))\n",
    "print(factorial_recursive(3))\n",
    "print(factorial_recursive(4))\n",
    "print(factorial_recursive(5))\n",
    "print(factorial_recursive(6))"
   ]
  },
  {
   "cell_type": "code",
   "execution_count": 168,
   "metadata": {},
   "outputs": [
    {
     "name": "stdout",
     "output_type": "stream",
     "text": [
      "n=6, number=5\n",
      "n=5, number=4\n",
      "n=4, number=3\n",
      "n=3, number=2\n",
      "n=2, number=1\n",
      "n=1, number=0\n"
     ]
    },
    {
     "data": {
      "image/png": "[encoded data removed]",
      "text/latex": [
       "$\\displaystyle 720$"
      ],
      "text/plain": [
       "720"
      ]
     },
     "execution_count": 168,
     "metadata": {},
     "output_type": "execute_result"
    }
   ],
   "source": [
    "# 3. 글로벌 변수를 사용한 재귀적 알고리즘\n",
    "def factorial_recursive2():\n",
    "    global number\n",
    "    if number==0:\n",
    "        return 1\n",
    "    else:\n",
    "        n=number       \n",
    "        number-=1\n",
    "        print(\"n={}, number={}\".format(n,number))\n",
    "        return n*factorial_recursive2()\n",
    "\n",
    "number=6\n",
    "\n",
    "factorial_recursive2()"
   ]
  },
  {
   "cell_type": "code",
   "execution_count": 170,
   "metadata": {},
   "outputs": [
    {
     "data": {
      "image/png": "[encoded data removed]",
      "text/latex": [
       "$\\displaystyle 1024$"
      ],
      "text/plain": [
       "1024"
      ]
     },
     "execution_count": 170,
     "metadata": {},
     "output_type": "execute_result"
    }
   ],
   "source": [
    "# 4. 정수의 거듭 제곱  ( $a^n$ ) 계산 \n",
    "# 수학공식 이용\n",
    "def power_math(a,n):\n",
    "    if n==0:  #종료 조건 \n",
    "        return 1\n",
    "    else:\n",
    "        return a**n \n",
    "power_math(2, 10)"
   ]
  },
  {
   "cell_type": "code",
   "execution_count": 172,
   "metadata": {},
   "outputs": [
    {
     "data": {
      "image/png": "[encoded data removed]",
      "text/latex": [
       "$\\displaystyle 1024$"
      ],
      "text/plain": [
       "1024"
      ]
     },
     "execution_count": 172,
     "metadata": {},
     "output_type": "execute_result"
    }
   ],
   "source": [
    "# 4. 정수의 거듭 제곱  ( $a^n$ ) 계산 \n",
    "# 반복문 이용\n",
    "def power_iter(a,n):\n",
    "    b=1\n",
    "    if n==0:  #종료 조건 \n",
    "        return 1\n",
    "    else:\n",
    "        for i in range(1, n+1):\n",
    "            b*=a\n",
    "        return b \n",
    "power_iter(2,10)"
   ]
  },
  {
   "cell_type": "code",
   "execution_count": 173,
   "metadata": {},
   "outputs": [
    {
     "data": {
      "image/png": "[encoded data removed]",
      "text/latex": [
       "$\\displaystyle 1024$"
      ],
      "text/plain": [
       "1024"
      ]
     },
     "execution_count": 173,
     "metadata": {},
     "output_type": "execute_result"
    }
   ],
   "source": [
    "# 4. 정수의 거듭 제곱  ( $a^n$ ) 계산 \n",
    "# 재귀함수 이용\n",
    "def power_recursive(a,n):\n",
    "    if n==0:  #종료 조건 \n",
    "        return 1\n",
    "    else:\n",
    "        return a*power_recursive(a, n-1) \n",
    "power_recursive(2, 10)"
   ]
  },
  {
   "cell_type": "code",
   "execution_count": 178,
   "metadata": {},
   "outputs": [
    {
     "name": "stdout",
     "output_type": "stream",
     "text": [
      "gcd(24,36) = 12\n"
     ]
    },
    {
     "data": {
      "image/png": "[encoded data removed]",
      "text/latex": [
       "$\\displaystyle 72.0$"
      ],
      "text/plain": [
       "72.0"
      ]
     },
     "execution_count": 178,
     "metadata": {},
     "output_type": "execute_result"
    }
   ],
   "source": [
    "# 5. 2개 정수의 최대공약수 계산 (Computing gcd(a,b) where a < b)\n",
    "def gcd(a,b):\n",
    "    if a==0: #종료조건 \n",
    "        return b\n",
    "    else: return gcd(b%a , a)\n",
    "print(\"gcd(24,36) =\", gcd(24,36))\n",
    "#최소 공배수는 다음과 같다. \n",
    "24 * 36 / gcd(24,36) # 최대 공배수 "
   ]
  },
  {
   "cell_type": "code",
   "execution_count": 180,
   "metadata": {},
   "outputs": [
    {
     "name": "stdout",
     "output_type": "stream",
     "text": [
      "gcd(10, 12) = 2\n",
      "lcm(10, 12) = 60\n"
     ]
    }
   ],
   "source": [
    "# 유클리드 호제법\n",
    "def gcd(x, y):\n",
    "    while(y):\n",
    "        x, y = y, x%y\n",
    "    return x\n",
    "print(\"gcd(10, 12) =\", gcd(10, 12))\n",
    "\n",
    "def lcm(x, y):\n",
    "    result = (x*y) // gcd(x, y)\n",
    "    return result\n",
    "print(\"lcm(10, 12) =\", lcm(10, 12))\n"
   ]
  },
  {
   "cell_type": "markdown",
   "metadata": {},
   "source": [
    "1) 재귀함수에서는  내부 구현 알고리즘이 재귀적으로 수행되게 되는 데, 각 재귀 호출시에 각 호출의  실행 컨텍스트(문맥)가 있고 이 실행 컨텍스트에서 알고리즘이 수행되어야 한다.    \n",
    "2) 종료 조건이 없으면 재귀함수는 무한 재귀호출이 될 수있는 데, 각 재귀호출의 컨텍스트(문맥)들이 계속 메모리(스택)에 저장되어야 하므로 이로 인해 메모리(스택) 가 overflow 되어 프로그램 수행이 문제가 되어 에러처리되고 종료된다.   \n",
    "\n",
    "3) 재귀함수의 각 호출시에  해당 호출  실행 컨텍스트(문맥)에서 수행되어야 함.\n",
    "재귀함수를 처리할 때,  각 재귀 호출마다 각자의 고유한 실행 컨텍스트가 있다는 것을 잊어서는 안됩니다.     \n",
    "재귀중 각 재귀 호출의 실행이 해당 호출 컨텍스트(문맥)에서 수행되도록 하기 위해서 해당 호출의 해당 컨텍스트 상태가 다음 중 하나를 통하여 유지되도록 구현해야 합니다. \n",
    "\n",
    "1. 해당 재귀 호출에서 수행되어야 할 컨텍스트(문맥)의 상태가 해당 재귀 호출 시에 인자를 통해 전달되도록 함\n",
    "2. 재귀 호출에서 수행되어야 할 컨텍스트의 상태를 글로벌 범위로 유지하여, 각 현재 재귀 호출에서 이를 참조하여 해당 재귀 호출 실행 컨텍스트 상태를 계산할 수있도록 지원하도록 함.\n",
    "\n",
    "이를 좀 더 명확히 설명하기 위해, 재귀를 사용하여 1 + 2 + 3 ⋅⋅⋅⋅ + 10을 계산해 봅시다. 우리가 유지해야하는 상태는 (현재 추가하고있는 현재 수, 누적 합계)입니다."
   ]
  },
  {
   "cell_type": "code",
   "execution_count": 183,
   "metadata": {},
   "outputs": [
    {
     "data": {
      "image/png": "[encoded data removed]",
      "text/latex": [
       "$\\displaystyle 55$"
      ],
      "text/plain": [
       "55"
      ]
     },
     "execution_count": 183,
     "metadata": {},
     "output_type": "execute_result"
    }
   ],
   "source": [
    "# 6. 재귀함수 구현시 유의할 점\n",
    "def sum_recursive(current_number, accumulated_sum):\n",
    "    if current_number == 11: #종료조건 \n",
    "        return accumulated_sum\n",
    "    else:  # 해당 재귀호출 실행 콘텍스트의 상태인 (현재 추가하고있는 현재 수, 누적 합계)가 해당 재귀 호출의 인자로 전달  \n",
    "        return sum_recursive(current_number + 1, accumulated_sum + current_number)\n",
    "sum_recursive(1, 0)"
   ]
  },
  {
   "cell_type": "code",
   "execution_count": 185,
   "metadata": {},
   "outputs": [
    {
     "data": {
      "image/png": "[encoded data removed]",
      "text/latex": [
       "$\\displaystyle 55$"
      ],
      "text/plain": [
       "55"
      ]
     },
     "execution_count": 185,
     "metadata": {},
     "output_type": "execute_result"
    }
   ],
   "source": [
    "# 상기 재귀 알고리즘 \n",
    "# Global mutable state\n",
    "current_number = 1\n",
    "accumulated_sum = 0\n",
    "\n",
    "def sum_recursive2():\n",
    "    global current_number \n",
    "    global accumulated_sum\n",
    "    if current_number == 11:\n",
    "        return accumulated_sum\n",
    "    else:\n",
    "        accumulated_sum = accumulated_sum + current_number\n",
    "        current_number = current_number + 1\n",
    "        return sum_recursive2()\n",
    "sum_recursive2()"
   ]
  },
  {
   "cell_type": "code",
   "execution_count": null,
   "metadata": {},
   "outputs": [],
   "source": [
    "# 종료 조건이 없으면 안된다.\n",
    "\n",
    "def power2(a,n):\n",
    "   # if n==0: #  종료 조건 \n",
    "   #     return 1\n",
    "   # else:\n",
    "        return a*power2(a,n-1) \n",
    "power2(2,10)"
   ]
  },
  {
   "cell_type": "code",
   "execution_count": 187,
   "metadata": {},
   "outputs": [
    {
     "data": {
      "image/png": "[encoded data removed]",
      "text/latex": [
       "$\\displaystyle 10$"
      ],
      "text/plain": [
       "10"
      ]
     },
     "execution_count": 187,
     "metadata": {},
     "output_type": "execute_result"
    }
   ],
   "source": [
    "# 7. 재귀와 반복 비교\n",
    "# 반복적 방법의 이진 탑색 3주차에 한 코드\n",
    "def binarysearch(a,num): \n",
    "    first=0 \n",
    "    last=len(a)-1\n",
    "    found=False \n",
    "\n",
    "    while first<=last and not found:\n",
    "        midpoint=(first+last)//2 \n",
    "\n",
    "        if a[midpoint]==num: \n",
    "           found=True\n",
    "        else:\n",
    "            if num<a[midpoint]: \n",
    "                last=midpoint-1\n",
    "            else:\n",
    "                first=midpoint+1  \n",
    "    if midpoint < len(a) and found:\n",
    "          return midpoint+1 \n",
    "    else:\n",
    "          return -1\n",
    "numlist=[1, 3, 5, 6, 7, 8, 10, 12, 13, 15, 16, 18, 19, 20, 22] #List of inputs\n",
    "binarysearch(numlist, 15)"
   ]
  },
  {
   "cell_type": "code",
   "execution_count": 189,
   "metadata": {},
   "outputs": [
    {
     "data": {
      "image/png": "[encoded data removed]",
      "text/latex": [
       "$\\displaystyle 10$"
      ],
      "text/plain": [
       "10"
      ]
     },
     "execution_count": 189,
     "metadata": {},
     "output_type": "execute_result"
    }
   ],
   "source": [
    "# 7. 재귀와 반복 비교\n",
    "# 재귀적 방법으로 작성한 이진 탑색 구현\n",
    "def binarysearch_rec(a, first, last, num):\n",
    "    mid=(first+last)//2\n",
    "    if a[mid]==num: #종료 조건 \n",
    "        return mid+1\n",
    "    elif (num < a[mid]) and (first < mid): \n",
    "        return binarysearch_rec(a, first, mid-1, num)\n",
    "    elif (num > a[mid]) and (last > mid): \n",
    "        return binarysearch_rec(a, mid+1, last, num)\n",
    "    else: return -1 \n",
    "    \n",
    "numlist=[1, 3, 5, 6, 7, 8, 10, 12, 13, 15, 16, 18, 19, 20, 22] #List of inputs\n",
    "binarysearch_rec(numlist, 0, len(numlist)-1, 15)"
   ]
  },
  {
   "cell_type": "code",
   "execution_count": 191,
   "metadata": {},
   "outputs": [
    {
     "name": "stdout",
     "output_type": "stream",
     "text": [
      "count=1; n=6\n",
      "count=2; n=5\n",
      "count=3; n=4\n",
      "count=4; n=3\n",
      "count=5; n=2\n",
      "count=6; n=1\n",
      "count=7; n=0\n",
      "count=8; n=1\n",
      "count=9; n=2\n",
      "count=10; n=1\n",
      "count=11; n=0\n",
      "count=12; n=3\n",
      "count=13; n=2\n",
      "count=14; n=1\n",
      "count=15; n=0\n",
      "count=16; n=1\n",
      "count=17; n=4\n",
      "count=18; n=3\n",
      "count=19; n=2\n",
      "count=20; n=1\n",
      "count=21; n=0\n",
      "count=22; n=1\n",
      "count=23; n=2\n",
      "count=24; n=1\n",
      "count=25; n=0\n"
     ]
    },
    {
     "data": {
      "image/png": "[encoded data removed]",
      "text/latex": [
       "$\\displaystyle 8$"
      ],
      "text/plain": [
       "8"
      ]
     },
     "execution_count": 191,
     "metadata": {},
     "output_type": "execute_result"
    }
   ],
   "source": [
    "# 7. 재귀와 반복 비교\n",
    "# 피보나치 수열에서의 비교\n",
    "def fibonacci(n):\n",
    "    global count\n",
    "    if n<0:\n",
    "        return print(\"Please, take n as n >=0\")        \n",
    "    elif n==0:\n",
    "        count+=1\n",
    "        print(\"count={}; n={}\".format(count, n))\n",
    "        return 0\n",
    "    elif n==1:\n",
    "        count+=1\n",
    "        print(\"count={}; n={}\".format(count, n))\n",
    "        return 1\n",
    "    else:\n",
    "        count+=1\n",
    "        print(\"count={}; n={}\".format(count, n))\n",
    "        return  fibonacci(n-1)+  fibonacci(n-2)        \n",
    "count=0\n",
    "fibonacci(6)"
   ]
  },
  {
   "cell_type": "code",
   "execution_count": 194,
   "metadata": {},
   "outputs": [
    {
     "name": "stdout",
     "output_type": "stream",
     "text": [
      "count=1; n=6; memo[6]=fibo_memo(5)+fibo_memo(4)\n",
      "count=2; n=5; memo[5]=fibo_memo(4)+fibo_memo(3)\n",
      "count=3; n=4; memo[4]=fibo_memo(3)+fibo_memo(2)\n",
      "count=4; n=3; memo[3]=fibo_memo(2)+fibo_memo(1)\n",
      "count=5; n=2; memo[2]=fibo_memo(1)+fibo_memo(0)\n",
      "count=6; n=1; memo[1] \n",
      "count=7; n=0; memo[0] \n",
      "count=8; n=1; memo[1] \n",
      "count=9; n=2; memo[2] \n",
      "count=10; n=3; memo[3] \n",
      "count=11; n=4; memo[4] \n"
     ]
    },
    {
     "data": {
      "image/png": "[encoded data removed]",
      "text/latex": [
       "$\\displaystyle 8$"
      ],
      "text/plain": [
       "8"
      ]
     },
     "execution_count": 194,
     "metadata": {},
     "output_type": "execute_result"
    }
   ],
   "source": [
    "def fibo_memo(n):\n",
    "    global count\n",
    "    if n<0:\n",
    "        return print(\"Please, take n as n >=0\")  \n",
    "    elif n< len(memo):        \n",
    "        count+=1\n",
    "        print(\"count={}; n={}; memo[{}] \".format(count, n, n))    \n",
    "        return memo[n]\n",
    "    else:\n",
    "        count+=1\n",
    "        print(\"count={}; n={}; memo[{}]=fibo_memo({})+fibo_memo({})\".format(count, n, n, n-1, n-2))     \n",
    "        memo[n]=fibo_memo(n-1)+fibo_memo(n-2)\n",
    "       \n",
    "        return memo[n]\n",
    "count=0\n",
    "memo={0:0, 1:1}\n",
    "fibo_memo(6)"
   ]
  },
  {
   "cell_type": "code",
   "execution_count": 195,
   "metadata": {},
   "outputs": [
    {
     "name": "stdout",
     "output_type": "stream",
     "text": [
      "1\n",
      "1\n",
      "2\n",
      "3\n",
      "5\n",
      "8\n",
      "13\n",
      "21\n",
      "34\n"
     ]
    }
   ],
   "source": [
    "# 피보나치 수열 반복적 구현\n",
    "def fibonacci_iter(n):    \n",
    "    if n <=1 :\n",
    "        return n\n",
    "    a, b=0, 1\n",
    "    #print(type(a))\n",
    "    for i in range(n):        \n",
    "        b,a = a+b, b\n",
    "    return a\n",
    "\n",
    "for i in range(1,10):\n",
    "    print(fibonacci_iter(i))"
   ]
  },
  {
   "cell_type": "markdown",
   "metadata": {},
   "source": [
    "## 5week\n",
    "기본 반복 알고리즘들의 재귀적 구현 / bubble sort 재귀적 구현 / merge sort 재귀적 구현"
   ]
  },
  {
   "cell_type": "markdown",
   "metadata": {},
   "source": [
    "### 기본 반복 알고리즘들의 재귀적 구현\n",
    "1. max 구현 (반복 / 재귀)\n",
    "2. 스트링 역 구하기 (재귀)\n",
    "3. 리스트에서 특정 값 인덱스 구하기 (반복 / 재귀)"
   ]
  },
  {
   "cell_type": "code",
   "execution_count": 32,
   "metadata": {},
   "outputs": [
    {
     "name": "stdout",
     "output_type": "stream",
     "text": [
      "type of A = <class 'list'>\n",
      "A = [8, 2, 7, 8, 8, 5, 9, 4, 9, 5, 6, 7, 7, 9, 6, 7, 9, 0, 9, 0]\n",
      "최대값  9  은(는) 마지막으로 리스트의 19 번째에 위치한다.\n"
     ]
    }
   ],
   "source": [
    "# 1. max 구현 반복\n",
    "def max_pos(X):\n",
    "    max = 0    \n",
    "    for (i, item) in enumerate(X):\n",
    "        if max <= item: # 크거나 같은것 이기 때문에 맨 마지막에 큰 값을 추출한다.\n",
    "            max = item\n",
    "            pos = i+1             \n",
    "    print(\"최대값  %d  은(는) 마지막으로 리스트의 %d 번째에 위치한다.\" %(max, pos))                \n",
    "    return \n",
    "\n",
    "from random import *\n",
    "import copy\n",
    "A = choices(list(range(10)), k=20) \n",
    "print(\"type of A =\", type(A))\n",
    "print(\"A =\", A)\n",
    "max_pos(A)"
   ]
  },
  {
   "cell_type": "code",
   "execution_count": 36,
   "metadata": {},
   "outputs": [
    {
     "name": "stdout",
     "output_type": "stream",
     "text": [
      "2\n",
      "최대값  9  은(는) 마지막으로 리스트의 19 번째에 위치한다.\n"
     ]
    }
   ],
   "source": [
    "# 1. max 구현 재귀 \n",
    "def max_pos_recursive(X, left, right):   \n",
    "    if left < 0 or right < 0:     \n",
    "        print(\"Please take \\\"left >= 0 and right >0  \\\"\")\n",
    "    if (right - left) == 1:      \n",
    "        return X[left], left    \n",
    "    if (right - left) == 2: #종료조건      \n",
    "        if X[left] <= X[left+1]: # 맨 앞에 있는 값을 찾고 싶으면  이부분을 수정\n",
    "            return X[left+1], right-1\n",
    "        else:\n",
    "            return X[left], left           \n",
    "    mid = (left + right)//2 # 리스트에 중간 지점 찾기\n",
    "    # print(\"Search range; X[{}~{}]={} \".format(left, right-1, X[left:right]))\n",
    "    left_most, left_most_pos = max_pos_recursive(X, left, mid)\n",
    "    # print(\"Search rangeL; X[{}~{}]={}, most_pos={}, most={}\".format(left, mid-1, X[left:mid], left_most_pos, left_most))  \n",
    "    right_most, right_most_pos = max_pos_recursive(X, mid, right)\n",
    "    # print(\"Search rangeR; X[{}~{}]={},most_pos={}, most={},\".format(mid, right-1, X[mid:right], right_most_pos, right_most))\n",
    "    if  left_most<=right_most: # 맨 앞에 있는 값을 찾고 싶으면  이부분을 수정\n",
    "            return right_most, right_most_pos\n",
    "    else:\n",
    "            return left_most, left_most_pos                \n",
    "B = copy.deepcopy(A)\n",
    "print(5//2)\n",
    "max, pos= max_pos_recursive(B, 0,len(B))\n",
    "print(\"최대값  {}  은(는) 마지막으로 리스트의 {} 번째에 위치한다.\".format(max, pos+1))"
   ]
  },
  {
   "cell_type": "code",
   "execution_count": 39,
   "metadata": {},
   "outputs": [
    {
     "name": "stdout",
     "output_type": "stream",
     "text": [
      "dlroW olleH\n"
     ]
    }
   ],
   "source": [
    "# 2. 스트링 역구하기 재귀\n",
    "def reverse_recursive(string):\n",
    "    if len(string) == 0:\n",
    "        return string\n",
    "    else:\n",
    "        return reverse_recursive(string[1:]) + string[0]      \n",
    "    \n",
    "reverse_me = \"Hello World\"\n",
    "# print(len(reverse_me))\n",
    "print(reverse_recursive(reverse_me))"
   ]
  },
  {
   "cell_type": "code",
   "execution_count": 42,
   "metadata": {},
   "outputs": [
    {
     "name": "stdout",
     "output_type": "stream",
     "text": [
      "dlroW olleH\n"
     ]
    }
   ],
   "source": [
    "# 2. 파이썬 자체 함수 이용\n",
    "txt = reverse_me[::-1]\n",
    "print(txt)"
   ]
  },
  {
   "cell_type": "code",
   "execution_count": 100,
   "metadata": {},
   "outputs": [
    {
     "name": "stdout",
     "output_type": "stream",
     "text": [
      "[2, 14, 13, 14, 6, 4, 5, 6, 4, 0]\n",
      "리스트 A 에서 4 는 6 번째 위치한다.\n"
     ]
    }
   ],
   "source": [
    "# 3. 선형탐색 반복 \n",
    "def LinearSearch_iter(x, L):      \n",
    "    # for (k, item) in enumerate(L[::-1]): # L을 뒤집는다.   \n",
    "    for (k, item) in enumerate(L):  \n",
    "        if item==x:\n",
    "            return k\n",
    "    return -1\n",
    "    \n",
    "from random import *\n",
    "import copy\n",
    "A=choices(list(range(15)), k=10)\n",
    "print(A)\n",
    "p=LinearSearch_iter(4,A)\n",
    "if p!=-1:\n",
    "    print(\"리스트 {} 에서 {} 는 {} 번째 위치한다.\".format('A', 4, p+1 ))\n",
    "else:\n",
    "    # print(\"리스트 {} 에서 {} 는 {} 번째 위치한다.\".format('A', 4, p+1 ))\n",
    "    print(\"리스트 {} 에서 {} 는 없습니다.\".format('A', 4))"
   ]
  },
  {
   "cell_type": "code",
   "execution_count": 102,
   "metadata": {},
   "outputs": [
    {
     "name": "stdout",
     "output_type": "stream",
     "text": [
      "[2, 14, 13, 14, 6, 4, 5, 6, 4, 0]\n",
      "리스트 B 에서 4 는 6 번째 위치한다.\n"
     ]
    }
   ],
   "source": [
    "# 3. 선형 탐색 재귀 작은 위치 \n",
    "def LinearSearch_recursive(x, L, left, right):          \n",
    "    if right == left:\n",
    "        return -1\n",
    "    if (right - left)==1:     \n",
    "        if x == L[left]:\n",
    "            found=True\n",
    "            return left\n",
    "        else:\n",
    "            return -1\n",
    "    mid=(left+right)//2\n",
    "    l=LinearSearch_recursive(x, L, left, mid)\n",
    "    # print(\"search_l=L[{}:{}], l={}\".format(left, mid, l))\n",
    "    \n",
    "    if l!=-1:\n",
    "        return l\n",
    "    else:\n",
    "        r= LinearSearch_recursive(x, L, mid, right)    \n",
    "        # print(\"search_r=L[{}:{}], r={}\".format(mid, right, r))        \n",
    "        if r!=-1:\n",
    "            return r\n",
    "        else:\n",
    "            return -1\n",
    "\n",
    "B=copy.deepcopy(A)\n",
    "print(B)\n",
    "x=4\n",
    "found=False\n",
    "p=LinearSearch_recursive(x,B, 0, len(A))\n",
    "if p!=-1:\n",
    "    print(\"리스트 {} 에서 {} 는 {} 번째 위치한다.\".format('B', x, p+1 ))\n",
    "else:\n",
    "    print(\"리스트 {}에서 {} 는 없습니다.\".format('B', x))"
   ]
  },
  {
   "cell_type": "code",
   "execution_count": 104,
   "metadata": {},
   "outputs": [
    {
     "name": "stdout",
     "output_type": "stream",
     "text": [
      "[2, 14, 13, 14, 6, 4, 5, 6, 4, 0]\n",
      "리스트 B 에서 4 는 9 번째 위치한다.\n"
     ]
    }
   ],
   "source": [
    "# 3. 선형 탐색 재귀 큰 위치 \n",
    "def LinearSearch_recursive(x, L, left, right):          \n",
    "    if right == left:\n",
    "        return -1\n",
    "    if (right - left)==1:     \n",
    "        if x == L[left]:\n",
    "            found=True\n",
    "            return left\n",
    "        else:\n",
    "            return -1\n",
    "    mid=(left+right)//2\n",
    "    l=LinearSearch_recursive(x, L, mid, right)\n",
    "    # print(\"search_l=L[{}:{}], l={}\".format(left, mid, l))\n",
    "    \n",
    "    if l!=-1:\n",
    "        return l\n",
    "    else:\n",
    "        r= LinearSearch_recursive(x, L, left, mid)    \n",
    "        # print(\"search_r=L[{}:{}], r={}\".format(mid, right, r))        \n",
    "        if r!=-1:\n",
    "            return r\n",
    "        else:\n",
    "            return -1\n",
    "\n",
    "B=copy.deepcopy(A)\n",
    "print(B)\n",
    "x=4\n",
    "found=False\n",
    "p=LinearSearch_recursive(x,B, 0, len(A))\n",
    "if p!=-1:\n",
    "    print(\"리스트 {} 에서 {} 는 {} 번째 위치한다.\".format('B', x, p+1 ))\n",
    "else:\n",
    "    print(\"리스트 {}에서 {} 는 없습니다.\".format('B', x))"
   ]
  },
  {
   "cell_type": "markdown",
   "metadata": {},
   "source": [
    "### bublle sort 재귀적 구현\n",
    "1. 반복적 방법\n",
    "2. 재귀적 방법 1\n",
    "3. 재귀적 방법 2\n",
    "4. 파이썬 내장 함수 이용 재귀적 방법 "
   ]
  },
  {
   "cell_type": "code",
   "execution_count": 169,
   "metadata": {},
   "outputs": [
    {
     "name": "stdout",
     "output_type": "stream",
     "text": [
      "list A = [16, 1, 4, 12, 11, 14, 0, 10, 13, 2]\n",
      "list B = [16, 1, 4, 12, 11, 14, 0, 10, 13, 2]\n",
      "list C = [16, 1, 4, 12, 11, 14, 0, 10, 13, 2]\n",
      "list D = [16, 1, 4, 12, 11, 14, 0, 10, 13, 2]\n",
      "list E = [16, 1, 4, 12, 11, 14, 0, 10, 13, 2]\n"
     ]
    }
   ],
   "source": [
    "from random import *\n",
    "import copy\n",
    "A = sample(range(0, 20), 10)\n",
    "B = A  #shallow copy\n",
    "C = copy.deepcopy(A)  #deep copy \n",
    "D = copy.deepcopy(A)  #deep copy \n",
    "E = copy.deepcopy(A)  #deep copy \n",
    "\n",
    "print(\"list A =\", A)\n",
    "print(\"list B =\", B)\n",
    "print(\"list C =\", C)\n",
    "print(\"list D =\", D)\n",
    "print(\"list E =\", E)\n"
   ]
  },
  {
   "cell_type": "code",
   "execution_count": 170,
   "metadata": {},
   "outputs": [
    {
     "data": {
      "text/plain": [
       "[0, 1, 2, 4, 10, 11, 12, 13, 14, 16]"
      ]
     },
     "execution_count": 170,
     "metadata": {},
     "output_type": "execute_result"
    }
   ],
   "source": [
    "# 1. 반복적 방법\n",
    "def sort_bubble(L):\n",
    "    n=len(L)\n",
    "    for i in range(n-1):\n",
    "        for j in range(n-i-1):\n",
    "            if L[j]> L[j+1]:\n",
    "                L[j+1], L[j]=L[j], L[j+1]\n",
    "    return L\n",
    "sort_bubble(A)"
   ]
  },
  {
   "cell_type": "code",
   "execution_count": 173,
   "metadata": {},
   "outputs": [
    {
     "name": "stdout",
     "output_type": "stream",
     "text": [
      "[0, 1, 2, 4, 10, 11, 12, 13, 14, 16]\n",
      "[16, 1, 4, 12, 11, 14, 0, 10, 13, 2]\n"
     ]
    },
    {
     "data": {
      "text/plain": [
       "[0, 1, 2, 4, 10, 11, 12, 13, 14, 16]"
      ]
     },
     "execution_count": 173,
     "metadata": {},
     "output_type": "execute_result"
    }
   ],
   "source": [
    "# 2. 재귀적 방법 1\n",
    "def max2(L):\n",
    "    Maximum=0\n",
    "    index=0\n",
    "    for i, item in enumerate(L):\n",
    "        if item>Maximum:\n",
    "            Maximum=item\n",
    "            index=i\n",
    "    return Maximum, index    \n",
    "\n",
    "def bubble_sort_recursive(L, n):\n",
    "       # print(list, n)\n",
    "    if n==1:  \n",
    "        return L\n",
    "    M, index=max2(L)\n",
    "    L.pop(index)   \n",
    "    return bubble_sort_recursive(L, n-1)+ list([M])\n",
    "\n",
    "n=10\n",
    "print(B)\n",
    "C=copy.deepcopy(D)\n",
    "print(C)\n",
    "bubble_sort_recursive(C, n)"
   ]
  },
  {
   "cell_type": "code",
   "execution_count": 148,
   "metadata": {},
   "outputs": [],
   "source": [
    "# 3. 재귀적 방법 2\n",
    "def max3(L):    \n",
    "    for j in range(len(L)-1):\n",
    "        if L[j]>L[j+1]:\n",
    "            L[j+1], L[j]=L[j], L[j+1]\n",
    "    return L[len(L)-1], len(L)-1     \n",
    "def bubble_sort_recursive2(L, n):\n",
    "       # print(list, n)\n",
    "    if n==1:  \n",
    "        return L\n",
    "    M, index=max3(L)\n",
    "    L.pop(index)   \n",
    "    return bubble_sort_recursive(L, n-1)+ list([M])"
   ]
  },
  {
   "cell_type": "code",
   "execution_count": 175,
   "metadata": {},
   "outputs": [
    {
     "name": "stdout",
     "output_type": "stream",
     "text": [
      "[0, 1, 2, 4, 10, 11, 12, 13, 14, 16]\n",
      "[16, 1, 4, 12, 11, 14, 0, 10, 13, 2]\n",
      "[16, 1, 4, 12, 11, 14, 0, 10, 13, 2]\n"
     ]
    },
    {
     "data": {
      "text/plain": [
       "[0, 1, 2, 4, 10, 11, 12, 13, 14, 16]"
      ]
     },
     "execution_count": 175,
     "metadata": {},
     "output_type": "execute_result"
    }
   ],
   "source": [
    "# 4. 파이썬 내장 함수 이용 재귀적 방법\n",
    "def bubble_sort_recursive3(L, n):\n",
    "       # print(list, n)\n",
    "    if n==1:  \n",
    "        return L\n",
    "    M, l = max3(L)\n",
    "    p=L.index(M)\n",
    "    L.pop(p)   \n",
    "    return bubble_sort_recursive(L, n-1)+ list([M])\n",
    "n=10\n",
    "print(B)\n",
    "C=copy.deepcopy(D)\n",
    "print(C)\n",
    "bubble_sort_recursive2(C, n)\n",
    "\n",
    "n=10\n",
    "C=copy.deepcopy(D)\n",
    "print(C)\n",
    "bubble_sort_recursive3(C, n)"
   ]
  },
  {
   "cell_type": "markdown",
   "metadata": {},
   "source": [
    "### merge sort 재귀적 구현\n",
    "1. 반복적 방법\n",
    "2. 재귀적 방법"
   ]
  },
  {
   "cell_type": "code",
   "execution_count": 182,
   "metadata": {},
   "outputs": [
    {
     "data": {
      "text/plain": [
       "[2, 3, 5, 6, 7, 9, 10, 12, 15]"
      ]
     },
     "execution_count": 182,
     "metadata": {},
     "output_type": "execute_result"
    }
   ],
   "source": [
    "# 1. 반복이용\n",
    "def merge(L1, L2):\n",
    "    result = []\n",
    "    while (len(L1) > 0) and (len(L2) > 0):\n",
    "            if L1[0] < L2[0]:\n",
    "                result.append(L1[0]) \n",
    "                L1.pop(0)\n",
    "            else:\n",
    "                result.append(L2[0])\n",
    "                L2.pop(0)\n",
    "    \n",
    "    result += L1\n",
    "    result += L2\n",
    "    return result\n",
    "L1=[3,7,9,12]\n",
    "L2=[2,5,6,10,15]\n",
    "merge(L1,L2)"
   ]
  },
  {
   "cell_type": "code",
   "execution_count": 183,
   "metadata": {},
   "outputs": [
    {
     "data": {
      "text/plain": [
       "[2, 3, 5, 6, 7, 9, 10, 12, 15]"
      ]
     },
     "execution_count": 183,
     "metadata": {},
     "output_type": "execute_result"
    }
   ],
   "source": [
    "# 2. 재귀이용\n",
    "def msort_recursive(x):\n",
    "    if len(x) < 2:\n",
    "        return x\n",
    "    mid = len(x)//2 \n",
    "    y = msort_recursive(x[:mid])\n",
    "    z = msort_recursive(x[mid:])\n",
    "    return merge(y,z)\n",
    "\n",
    "a=[3, 7, 9, 12, 2, 5, 6, 10, 15]\n",
    "msort_recursive(a)"
   ]
  }
 ],
 "metadata": {
  "kernelspec": {
   "display_name": "Python 3.9.12 ('base')",
   "language": "python",
   "name": "python3"
  },
  "language_info": {
   "codemirror_mode": {
    "name": "ipython",
    "version": 3
   },
   "file_extension": ".py",
   "mimetype": "text/x-python",
   "name": "python",
   "nbconvert_exporter": "python",
   "pygments_lexer": "ipython3",
   "version": "3.9.12"
  },
  "orig_nbformat": 4,
  "vscode": {
   "interpreter": {
    "hash": "d53987ecb595d47b858fb20818fc57333593e153a0e3e1d0f7ed0487b17d3604"
   }
  }
 },
 "nbformat": 4,
 "nbformat_minor": 2
}
