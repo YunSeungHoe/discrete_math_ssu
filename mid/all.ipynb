{
 "cells": [
  {
   "cell_type": "markdown",
   "metadata": {},
   "source": [
    "# <div align=\"center\">이산수학 중간고사 대비</div>"
   ]
  },
  {
   "cell_type": "markdown",
   "metadata": {},
   "source": [
    "### random\n",
    "1. 랜덤으로 정수를 출력하는 함수 (숫자 중복)\n",
    "2. 랜덤으로 정수를 출력하는 함수 (숫자 중복x)\n",
    "3. 랜덤으로 정수를 중복없이 출력하는 함수 "
   ]
  },
  {
   "cell_type": "code",
   "execution_count": 50,
   "metadata": {},
   "outputs": [
    {
     "name": "stdout",
     "output_type": "stream",
     "text": [
      "type =  <class 'list'>\n",
      "list =  [0, 2, 3, 1, 1]\n"
     ]
    }
   ],
   "source": [
    "# 1. 랜덤으로 정수를 출력하는 함수 (숫자 중복)\n",
    "import random\n",
    "\n",
    "random_list = []\n",
    "for i in range(5):\n",
    "    random_list.append(random.randint(0, 4)) # 0(포함) ~ 4(포함) 중 한개를 출력\n",
    "\n",
    "print(\"type = \", type(random_list))\n",
    "print(\"list = \", random_list)"
   ]
  },
  {
   "cell_type": "code",
   "execution_count": 51,
   "metadata": {},
   "outputs": [
    {
     "name": "stdout",
     "output_type": "stream",
     "text": [
      "type =  <class 'list'>\n",
      "list =  [2, 4, 0, 3, 1]\n"
     ]
    }
   ],
   "source": [
    "# 2. 랜덤으로 정수를 출력하는 함수 (숫자 중복x)\n",
    "import random\n",
    "\n",
    "random_list = []\n",
    "check_int = 0\n",
    "\n",
    "for i in range(5):\n",
    "    check_int = random.randint(0, 4)\n",
    "    while(check_int in random_list):\n",
    "        check_int = random.randint(0, 4)\n",
    "    random_list.append(check_int)\n",
    "\n",
    "print(\"type = \", type(random_list))\n",
    "print(\"list = \", random_list)"
   ]
  },
  {
   "cell_type": "code",
   "execution_count": 52,
   "metadata": {},
   "outputs": [
    {
     "name": "stdout",
     "output_type": "stream",
     "text": [
      "type =  <class 'list'>\n",
      "list =  [3, 4, 1, 2]\n"
     ]
    }
   ],
   "source": [
    "# 3. 랜덤으로 정수를 중복없이 출력하는 함수 \n",
    "import random\n",
    " \n",
    "random_list = random.sample(range(0, 5), 4) # 0(포함) ~ 5(포함) 중 4개를 중복없이 출력\n",
    "\n",
    "print(\"type = \", type(random_list))\n",
    "print(\"list = \", random_list)"
   ]
  },
  {
   "cell_type": "markdown",
   "metadata": {},
   "source": [
    "### set\n",
    "1. set 정의는 {}, set() 함수를 이용한다.\n",
    "2. set 특징 : 중복이 삭제된다. sympy 활용\n",
    "3. set iteration(반복)"
   ]
  },
  {
   "cell_type": "code",
   "execution_count": 58,
   "metadata": {},
   "outputs": [
    {
     "name": "stdout",
     "output_type": "stream",
     "text": [
      "set_A =  {1, 2, 3}\n",
      "type of set_A =  <class 'set'>\n",
      "set_B =  {'c', 'a', 'd', 'b'}\n",
      "type of set_B =  <class 'set'>\n",
      "set_P =  {1, 3, 5, 7, 9}\n",
      "type of set_P =  <class 'set'>\n"
     ]
    }
   ],
   "source": [
    "# 1. set 정의 \n",
    "set_A = {1,2,3}\n",
    "set_B = set(['a', 'b', 'c', 'd'])\n",
    "set_P = { n for n in range(10) if n%2 == 1} # 0(포함) ~ 9(포함) 중 2로 나누었을 때 나머지가 1인 값\n",
    "\n",
    "print(\"set_A = \", set_A)\n",
    "print(\"type of set_A = \", type(set_A))\n",
    "print(\"set_B = \", set_B)\n",
    "print(\"type of set_B = \", type(set_B))\n",
    "print(\"set_P = \", set_P)\n",
    "print(\"type of set_P = \", type(set_P))"
   ]
  },
  {
   "cell_type": "code",
   "execution_count": 65,
   "metadata": {},
   "outputs": [
    {
     "name": "stdout",
     "output_type": "stream",
     "text": [
      "set_A =  {2, 3}\n",
      "type of set_A =  <class 'set'>\n",
      "set_A =  {1, 2, 3, 4}\n",
      "type of set_A =  <class 'set'>\n",
      "temp_list =  [1, 2, 2, 3, 4, 4]\n",
      "type of temp_list =  <class 'list'>\n",
      "set_A =  {1, 2, 3, 4}\n",
      "type of set_A =  <class 'set'>\n"
     ]
    },
    {
     "ename": "TypeError",
     "evalue": "unhashable type: 'set'",
     "output_type": "error",
     "traceback": [
      "\u001b[0;31m---------------------------------------------------------------------------\u001b[0m",
      "\u001b[0;31mTypeError\u001b[0m                                 Traceback (most recent call last)",
      "\u001b[0;32m<ipython-input-65-83bc9b6d1965>\u001b[0m in \u001b[0;36m<module>\u001b[0;34m\u001b[0m\n\u001b[1;32m     23\u001b[0m \u001b[0;34m\u001b[0m\u001b[0m\n\u001b[1;32m     24\u001b[0m \u001b[0;31m# set은 1차원이여야 하면 원소로 set, list 가 올 수 없다.\u001b[0m\u001b[0;34m\u001b[0m\u001b[0;34m\u001b[0m\u001b[0;34m\u001b[0m\u001b[0m\n\u001b[0;32m---> 25\u001b[0;31m \u001b[0mset_A\u001b[0m \u001b[0;34m=\u001b[0m \u001b[0;34m{\u001b[0m\u001b[0;36m1\u001b[0m\u001b[0;34m,\u001b[0m \u001b[0;36m2\u001b[0m\u001b[0;34m,\u001b[0m \u001b[0;34m{\u001b[0m\u001b[0;36m3\u001b[0m\u001b[0;34m,\u001b[0m \u001b[0;36m4\u001b[0m\u001b[0;34m}\u001b[0m\u001b[0;34m}\u001b[0m \u001b[0;31m# set안에 set이 있어 오류 발생\u001b[0m\u001b[0;34m\u001b[0m\u001b[0;34m\u001b[0m\u001b[0m\n\u001b[0m\u001b[1;32m     26\u001b[0m \u001b[0mprint\u001b[0m\u001b[0;34m(\u001b[0m\u001b[0;34m\"set_A = \"\u001b[0m\u001b[0;34m,\u001b[0m \u001b[0mset_A\u001b[0m\u001b[0;34m)\u001b[0m\u001b[0;34m\u001b[0m\u001b[0;34m\u001b[0m\u001b[0m\n\u001b[1;32m     27\u001b[0m \u001b[0;34m\u001b[0m\u001b[0m\n",
      "\u001b[0;31mTypeError\u001b[0m: unhashable type: 'set'"
     ]
    }
   ],
   "source": [
    "# 2. set 특징\n",
    "# 함수에 적용 가능하다.\n",
    "from sympy import *\n",
    "\n",
    "x = Symbol(\"x\")\n",
    "set_A = set(solve(x**2 - 5*x + 6))\n",
    "\n",
    "print(\"set_A = \", set_A)\n",
    "print(\"type of set_A = \", type(set_A))\n",
    "\n",
    "# 중복이 제거된다.\n",
    "set_A = {1, 2, 2, 3, 4, 4}\n",
    "print(\"set_A = \", set_A)\n",
    "print(\"type of set_A = \", type(set_A))\n",
    "\n",
    "# 리스트를 set에 넣어도 제거된다. \n",
    "temp_list = [1, 2, 2, 3, 4, 4]\n",
    "set_A = set(temp_list)\n",
    "print(\"temp_list = \", temp_list)\n",
    "print(\"type of temp_list = \", type(temp_list))\n",
    "print(\"set_A = \", set_A)\n",
    "print(\"type of set_A = \", type(set_A))\n",
    "\n",
    "# set은 1차원이여야 하면 원소로 set, list 가 올 수 없다.\n",
    "set_A = {1, 2, {3, 4}} # set안에 set이 있어 오류 발생\n",
    "print(\"set_A = \", set_A) \n",
    "\n",
    "set_A = {1, 2, [3, 4]} # set안에 list가 있어 오류 발생\n",
    "print(\"set_A = \", set_A)"
   ]
  },
  {
   "cell_type": "code",
   "execution_count": 67,
   "metadata": {},
   "outputs": [
    {
     "name": "stdout",
     "output_type": "stream",
     "text": [
      "Vienna\n",
      "Paris\n",
      "London\n",
      "Istanbul\n"
     ]
    },
    {
     "ename": "TypeError",
     "evalue": "'set' object is not subscriptable",
     "output_type": "error",
     "traceback": [
      "\u001b[0;31m---------------------------------------------------------------------------\u001b[0m",
      "\u001b[0;31mTypeError\u001b[0m                                 Traceback (most recent call last)",
      "\u001b[0;32m<ipython-input-67-00af3af9b0de>\u001b[0m in \u001b[0;36m<module>\u001b[0;34m\u001b[0m\n\u001b[1;32m      6\u001b[0m \u001b[0;31m# 다른 방법\u001b[0m\u001b[0;34m\u001b[0m\u001b[0;34m\u001b[0m\u001b[0;34m\u001b[0m\u001b[0m\n\u001b[1;32m      7\u001b[0m \u001b[0;32mfor\u001b[0m \u001b[0mplace\u001b[0m \u001b[0;32min\u001b[0m \u001b[0mrange\u001b[0m\u001b[0;34m(\u001b[0m\u001b[0;36m0\u001b[0m\u001b[0;34m,\u001b[0m \u001b[0mlen\u001b[0m\u001b[0;34m(\u001b[0m\u001b[0mcities\u001b[0m\u001b[0;34m)\u001b[0m\u001b[0;34m)\u001b[0m\u001b[0;34m:\u001b[0m\u001b[0;34m\u001b[0m\u001b[0;34m\u001b[0m\u001b[0m\n\u001b[0;32m----> 8\u001b[0;31m     \u001b[0mprint\u001b[0m\u001b[0;34m(\u001b[0m\u001b[0mcities\u001b[0m\u001b[0;34m[\u001b[0m\u001b[0mplace\u001b[0m\u001b[0;34m]\u001b[0m\u001b[0;34m)\u001b[0m\u001b[0;34m\u001b[0m\u001b[0;34m\u001b[0m\u001b[0m\n\u001b[0m",
      "\u001b[0;31mTypeError\u001b[0m: 'set' object is not subscriptable"
     ]
    }
   ],
   "source": [
    "# 3. set iteration 사용\n",
    "cities = { \"London\", \"Paris\", \"Vienna\", \"Istanbul\" }\n",
    "for place in cities:\n",
    "    print(place)\n",
    "\n",
    "# 다른 방법 \n",
    "for place in range(0, len(cities)):\n",
    "    print(cities[place])"
   ]
  }
 ],
 "metadata": {
  "kernelspec": {
   "display_name": "Python 3.8.8 ('base')",
   "language": "python",
   "name": "python3"
  },
  "language_info": {
   "codemirror_mode": {
    "name": "ipython",
    "version": 3
   },
   "file_extension": ".py",
   "mimetype": "text/x-python",
   "name": "python",
   "nbconvert_exporter": "python",
   "pygments_lexer": "ipython3",
   "version": "3.8.8"
  },
  "orig_nbformat": 4,
  "vscode": {
   "interpreter": {
    "hash": "caf1c2fcf97217de91eafa76b907d50f9ea378f5ffbee7f571142d119bb6a771"
   }
  }
 },
 "nbformat": 4,
 "nbformat_minor": 2
}
