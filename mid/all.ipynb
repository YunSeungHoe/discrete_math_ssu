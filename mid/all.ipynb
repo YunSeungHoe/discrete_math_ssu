{
 "cells": [
  {
   "cell_type": "markdown",
   "metadata": {},
   "source": [
    "# <div align=\"center\">이산수학 중간고사 대비</div>"
   ]
  },
  {
   "cell_type": "markdown",
   "metadata": {},
   "source": [
    "### random\n",
    "1. 랜덤으로 정수를 출력하는 함수 (숫자 중복)\n",
    "2. 랜덤으로 정수를 출력하는 함수 (숫자 중복x)\n",
    "3. 랜덤으로 정수를 중복없이 출력하는 함수 "
   ]
  },
  {
   "cell_type": "code",
   "execution_count": 1,
   "metadata": {},
   "outputs": [
    {
     "name": "stdout",
     "output_type": "stream",
     "text": [
      "type =  <class 'list'>\n",
      "list =  [0, 2, 1, 3, 3]\n"
     ]
    }
   ],
   "source": [
    "# 1. 랜덤으로 정수를 출력하는 함수 (숫자 중복)\n",
    "import random\n",
    "\n",
    "random_list = []\n",
    "for i in range(5):\n",
    "    random_list.append(random.randint(0, 4)) # 0(포함) ~ 4(포함) 중 한개를 출력\n",
    "\n",
    "print(\"type = \", type(random_list))\n",
    "print(\"list = \", random_list)"
   ]
  },
  {
   "cell_type": "code",
   "execution_count": 2,
   "metadata": {},
   "outputs": [
    {
     "name": "stdout",
     "output_type": "stream",
     "text": [
      "type =  <class 'list'>\n",
      "list =  [1, 4, 0, 2, 3]\n"
     ]
    }
   ],
   "source": [
    "# 2. 랜덤으로 정수를 출력하는 함수 (숫자 중복x)\n",
    "import random\n",
    "\n",
    "random_list = []\n",
    "check_int = 0\n",
    "\n",
    "for i in range(5):\n",
    "    check_int = random.randint(0, 4)\n",
    "    while(check_int in random_list):\n",
    "        check_int = random.randint(0, 4)\n",
    "    random_list.append(check_int)\n",
    "\n",
    "print(\"type = \", type(random_list))\n",
    "print(\"list = \", random_list)"
   ]
  },
  {
   "cell_type": "code",
   "execution_count": 3,
   "metadata": {},
   "outputs": [
    {
     "name": "stdout",
     "output_type": "stream",
     "text": [
      "type =  <class 'list'>\n",
      "list =  [1, 0, 3, 2]\n"
     ]
    }
   ],
   "source": [
    "# 3. 랜덤으로 정수를 중복없이 출력하는 함수 \n",
    "import random\n",
    " \n",
    "random_list = random.sample(range(0, 5), 4) # 0(포함) ~ 5(포함) 중 4개를 중복없이 출력\n",
    "\n",
    "print(\"type = \", type(random_list))\n",
    "print(\"list = \", random_list)"
   ]
  },
  {
   "cell_type": "markdown",
   "metadata": {},
   "source": [
    "### 파일 입출력 함수\n",
    "1. 입력 : with 활용\n",
    "2. 출력 : 한줄만/ 여러줄/ 공백 없이"
   ]
  },
  {
   "cell_type": "code",
   "execution_count": 4,
   "metadata": {},
   "outputs": [],
   "source": [
    "# 1. 입력\n",
    "f = open('t1.txt','w')\n",
    "f.write('hi python\\n')\n",
    "f.write('hi python\\n')\n",
    "f.close()"
   ]
  },
  {
   "cell_type": "code",
   "execution_count": 5,
   "metadata": {},
   "outputs": [],
   "source": [
    "# with문을 이용해 파일에 값을 입력하기\n",
    "# with문을 이용하면 close를 생략한다.\n",
    "with open(\"t1.txt\", \"w\") as f:\n",
    "    f.write('hi python\\n')\n",
    "    f.write('hi python\\n')\n",
    "    \n"
   ]
  },
  {
   "cell_type": "code",
   "execution_count": 6,
   "metadata": {},
   "outputs": [
    {
     "name": "stdout",
     "output_type": "stream",
     "text": [
      "hi python\n",
      "\n"
     ]
    }
   ],
   "source": [
    "# 2. 출력 1줄만 읽기 \n",
    "\n",
    "f = open(\"t1.txt\", 'r')\n",
    "# f = open(\"t1.txt\")\n",
    "line = f.readline()\n",
    "print(line)\n",
    "f.close()"
   ]
  },
  {
   "cell_type": "code",
   "execution_count": 7,
   "metadata": {},
   "outputs": [
    {
     "name": "stdout",
     "output_type": "stream",
     "text": [
      "hi python\n",
      "\n",
      "hi python\n",
      "\n"
     ]
    }
   ],
   "source": [
    "# 2. 모든 줄을 다 읽기\n",
    "f = open(\"t1.txt\", 'r')\n",
    "# f = open(\"t1.txt\")\n",
    "\n",
    "while True:\n",
    "    line = f.readline()\n",
    "    if not line: break\n",
    "    print(line)\n",
    "    \n",
    "f.close()"
   ]
  },
  {
   "cell_type": "code",
   "execution_count": 8,
   "metadata": {},
   "outputs": [
    {
     "name": "stdout",
     "output_type": "stream",
     "text": [
      "type of lines =  <class 'list'>\n",
      "lines =  ['hi python\\n', 'hi python\\n']\n",
      "hi python\n",
      "\n",
      "hi python\n",
      "\n"
     ]
    }
   ],
   "source": [
    "# 2. readlines() 함수 이용해서 읽기\n",
    "f = open(\"t1.txt\", 'r')\n",
    "lines = f.readlines()\n",
    "print(\"type of lines = \", type(lines))\n",
    "print(\"lines = \", lines)\n",
    "for line in lines:\n",
    "    print(line)\n",
    "f.close()"
   ]
  },
  {
   "cell_type": "code",
   "execution_count": 9,
   "metadata": {},
   "outputs": [
    {
     "name": "stdout",
     "output_type": "stream",
     "text": [
      "hi python\n",
      "hi python\n"
     ]
    }
   ],
   "source": [
    "# 2. 읽을때 \\n 이 포함되지 않도록 하기\n",
    "f = open(\"t1.txt\", 'r')\n",
    "lines = f.readlines()\n",
    "for line in lines:\n",
    "    line = line.strip() \n",
    "    print(line)\n",
    "f.close()"
   ]
  },
  {
   "cell_type": "code",
   "execution_count": 10,
   "metadata": {},
   "outputs": [
    {
     "name": "stdout",
     "output_type": "stream",
     "text": [
      "type of data = <class 'str'>\n",
      "hi python\n",
      "hi python\n",
      "\n"
     ]
    }
   ],
   "source": [
    "# 2. 파일의 전체내용 저장하기\n",
    "f = open(\"t1.txt\", 'r')\n",
    "data = f.read()\n",
    "print(\"type of data =\", type(data))\n",
    "print(data)\n",
    "f.close()"
   ]
  },
  {
   "cell_type": "markdown",
   "metadata": {},
   "source": [
    "### set\n",
    "1. set 정의는 {}, set() 함수를 이용한다.\n",
    "2. set 특징 : 중복이 삭제된다. sympy 활용\n",
    "3. set iteration(반복)\n",
    "4. set operations : set 연산자\n",
    "5. file에 적용하여 operations 응용\n",
    "6. change items (원소 변경은 불가능, 추가 삭제 가능)\n",
    "7. Frozen set (데이터가 고정되어 있는 data)\n",
    "8. Power set (멱집합)"
   ]
  },
  {
   "cell_type": "code",
   "execution_count": 11,
   "metadata": {},
   "outputs": [
    {
     "name": "stdout",
     "output_type": "stream",
     "text": [
      "set_A =  {1, 2, 3}\n",
      "type of set_A =  <class 'set'>\n",
      "set_B =  {'c', 'd', 'a', 'b'}\n",
      "type of set_B =  <class 'set'>\n",
      "set_P =  {1, 3, 5, 7, 9}\n",
      "type of set_P =  <class 'set'>\n"
     ]
    }
   ],
   "source": [
    "# 1. set 정의 \n",
    "set_A = {1,2,3}\n",
    "set_B = set(['a', 'b', 'c', 'd'])\n",
    "set_P = { n for n in range(10) if n%2 == 1} # 0(포함) ~ 9(포함) 중 2로 나누었을 때 나머지가 1인 값\n",
    "\n",
    "print(\"set_A = \", set_A)\n",
    "print(\"type of set_A = \", type(set_A))\n",
    "print(\"set_B = \", set_B)\n",
    "print(\"type of set_B = \", type(set_B))\n",
    "print(\"set_P = \", set_P)\n",
    "print(\"type of set_P = \", type(set_P))"
   ]
  },
  {
   "cell_type": "code",
   "execution_count": 12,
   "metadata": {},
   "outputs": [
    {
     "name": "stdout",
     "output_type": "stream",
     "text": [
      "set_A =  {2, 3}\n",
      "type of set_A =  <class 'set'>\n",
      "set_A =  {1, 2, 3, 4}\n",
      "type of set_A =  <class 'set'>\n",
      "temp_list =  [1, 2, 2, 3, 4, 4]\n",
      "type of temp_list =  <class 'list'>\n",
      "set_A =  {1, 2, 3, 4}\n",
      "type of set_A =  <class 'set'>\n",
      "set_A =  {1, 2, 'hello', 'world'}\n"
     ]
    },
    {
     "ename": "TypeError",
     "evalue": "unhashable type: 'set'",
     "output_type": "error",
     "traceback": [
      "\u001b[0;31m---------------------------------------------------------------------------\u001b[0m",
      "\u001b[0;31mTypeError\u001b[0m                                 Traceback (most recent call last)",
      "\u001b[1;32m/home/misys/github/discrete_math_ssu/mid/all.ipynb Cell 16\u001b[0m in \u001b[0;36m<cell line: 28>\u001b[0;34m()\u001b[0m\n\u001b[1;32m     <a href='vscode-notebook-cell:/home/misys/github/discrete_math_ssu/mid/all.ipynb#X12sZmlsZQ%3D%3D?line=24'>25</a>\u001b[0m set_A \u001b[39m=\u001b[39m {\u001b[39m1\u001b[39m, \u001b[39m2\u001b[39m, \u001b[39m\"\u001b[39m\u001b[39mhello\u001b[39m\u001b[39m\"\u001b[39m, \u001b[39m'\u001b[39m\u001b[39mworld\u001b[39m\u001b[39m'\u001b[39m} \u001b[39m# set안에 type이 달라도 괜찮다.\u001b[39;00m\n\u001b[1;32m     <a href='vscode-notebook-cell:/home/misys/github/discrete_math_ssu/mid/all.ipynb#X12sZmlsZQ%3D%3D?line=25'>26</a>\u001b[0m \u001b[39mprint\u001b[39m(\u001b[39m\"\u001b[39m\u001b[39mset_A = \u001b[39m\u001b[39m\"\u001b[39m, set_A)\n\u001b[0;32m---> <a href='vscode-notebook-cell:/home/misys/github/discrete_math_ssu/mid/all.ipynb#X12sZmlsZQ%3D%3D?line=27'>28</a>\u001b[0m set_A \u001b[39m=\u001b[39m {\u001b[39m1\u001b[39m, \u001b[39m2\u001b[39m, {\u001b[39m3\u001b[39m, \u001b[39m4\u001b[39m}} \u001b[39m# set안에 set이 있어 오류 발생\u001b[39;00m\n\u001b[1;32m     <a href='vscode-notebook-cell:/home/misys/github/discrete_math_ssu/mid/all.ipynb#X12sZmlsZQ%3D%3D?line=28'>29</a>\u001b[0m \u001b[39mprint\u001b[39m(\u001b[39m\"\u001b[39m\u001b[39mset_A = \u001b[39m\u001b[39m\"\u001b[39m, set_A) \n\u001b[1;32m     <a href='vscode-notebook-cell:/home/misys/github/discrete_math_ssu/mid/all.ipynb#X12sZmlsZQ%3D%3D?line=30'>31</a>\u001b[0m set_A \u001b[39m=\u001b[39m {\u001b[39m1\u001b[39m, \u001b[39m2\u001b[39m, [\u001b[39m3\u001b[39m, \u001b[39m4\u001b[39m]} \u001b[39m# set안에 list가 있어 오류 발생\u001b[39;00m\n",
      "\u001b[0;31mTypeError\u001b[0m: unhashable type: 'set'"
     ]
    }
   ],
   "source": [
    "# set안에 set이 있어 오류 발생# 2. set 특징\n",
    "# 함수에 적용 가능하다.\n",
    "from sympy import *\n",
    "\n",
    "x = Symbol(\"x\")\n",
    "set_A = set(solve(x**2 - 5*x + 6))\n",
    "\n",
    "print(\"set_A = \", set_A)\n",
    "print(\"type of set_A = \", type(set_A))\n",
    "\n",
    "# 중복이 제거된다.\n",
    "set_A = {1, 2, 2, 3, 4, 4}\n",
    "print(\"set_A = \", set_A)\n",
    "print(\"type of set_A = \", type(set_A))\n",
    "\n",
    "# 리스트를 set에 넣어도 제거된다. \n",
    "temp_list = [1, 2, 2, 3, 4, 4]\n",
    "set_A = set(temp_list)\n",
    "print(\"temp_list = \", temp_list)\n",
    "print(\"type of temp_list = \", type(temp_list))\n",
    "print(\"set_A = \", set_A)\n",
    "print(\"type of set_A = \", type(set_A))\n",
    "\n",
    "# set은 1차원이여야 하면 원소로 set, list 가 올 수 없다.\n",
    "set_A = {1, 2, \"hello\", 'world'} # set안에 type이 달라도 괜찮다.\n",
    "print(\"set_A = \", set_A)\n",
    "\n",
    "set_A = {1, 2, {3, 4}} # set안에 set이 있어 오류 발생\n",
    "print(\"set_A = \", set_A) \n",
    "\n",
    "set_A = {1, 2, [3, 4]} # set안에 list가 있어 오류 발생\n",
    "print(\"set_A = \", set_A)"
   ]
  },
  {
   "cell_type": "code",
   "execution_count": 13,
   "metadata": {},
   "outputs": [
    {
     "name": "stdout",
     "output_type": "stream",
     "text": [
      "Paris\n",
      "Istanbul\n",
      "London\n",
      "Vienna\n",
      "Paris\n",
      "Istanbul\n",
      "London\n",
      "Vienna\n"
     ]
    }
   ],
   "source": [
    "# 3. set iteration 사용\n",
    "cities = { \"London\", \"Paris\", \"Vienna\", \"Istanbul\" }\n",
    "for place in cities:\n",
    "    print(place)\n",
    "\n",
    "# 다른 방법 list로 변환후 적용한다.\n",
    "cities_list = list(cities)\n",
    "for index in range(0, len(cities)):\n",
    "    print(cities_list[index])"
   ]
  },
  {
   "cell_type": "code",
   "execution_count": 14,
   "metadata": {},
   "outputs": [
    {
     "name": "stdout",
     "output_type": "stream",
     "text": [
      "1 in set_A\n",
      "1 is not in set_B\n",
      "set_A < set_A = False\n",
      "set_A < set_B = False\n",
      "set_A < set_D = True\n",
      "set_A <= set_A = True\n",
      "set_A <= set_B = False\n",
      "set_A <= set_D = True\n",
      "set_A | set_B =  {1, 2, 3, 4, 5, 6}\n",
      "set_A | set_C =  {1, 2, 3, 'c', 'a', 'b'}\n",
      "set_A | set_D =  {1, 2, 3, 'a', '4'}\n",
      "set_A & set_B =  set()\n",
      "set_A & set_C =  set()\n",
      "set_A & set_D =  {1, 2, 3}\n",
      "set_A - set_B =  {1, 2, 3}\n",
      "set_A - set_C =  {1, 2, 3}\n",
      "set_A - set_D =  set()\n"
     ]
    }
   ],
   "source": [
    "# 4. set operations : set 연산자\n",
    "set_A = {1, 2, 3}\n",
    "set_B = {4, 5, 6}\n",
    "set_C = {'a', 'b', 'c'}\n",
    "set_D = {1, 2, 3, 'a', '4'}\n",
    "\n",
    "# in / not in\n",
    "if 1 in set_A:\n",
    "    print(\"1 in set_A\")\n",
    "else:\n",
    "    print(\"1 is not in set_A\")\n",
    "    \n",
    "if 1 in set_B:\n",
    "    print(\"1 in set_B\")\n",
    "else:\n",
    "    print(\"1 is not in set_B\")\n",
    "\n",
    "# 포함한다 < / <= 의 차이\n",
    "print(\"set_A < set_A =\", set_A < set_A) # 주목\n",
    "print(\"set_A < set_B =\", set_A < set_B)     \n",
    "print(\"set_A < set_D =\", set_A < set_D)     \n",
    "    \n",
    "print(\"set_A <= set_A =\", set_A <= set_A) # 주목\n",
    "print(\"set_A <= set_B =\", set_A <= set_B)     \n",
    "print(\"set_A <= set_D =\", set_A <= set_D)\n",
    "\n",
    "# 합집합(|) / 교집합(&) / 차집합(-)\n",
    "print(\"set_A | set_B = \", set_A|set_B)\n",
    "print(\"set_A | set_C = \", set_A|set_C)\n",
    "print(\"set_A | set_D = \", set_A|set_D)\n",
    "\n",
    "print(\"set_A & set_B = \", set_A&set_B) # set()은 없다는 의미이다.\n",
    "print(\"set_A & set_C = \", set_A&set_C)\n",
    "print(\"set_A & set_D = \", set_A&set_D)\n",
    "\n",
    "print(\"set_A - set_B = \", set_A-set_B)\n",
    "print(\"set_A - set_C = \", set_A-set_C)\n",
    "print(\"set_A - set_D = \", set_A-set_D)"
   ]
  },
  {
   "cell_type": "code",
   "execution_count": 15,
   "metadata": {},
   "outputs": [
    {
     "name": "stdout",
     "output_type": "stream",
     "text": [
      "type of year4 =  <class 'set'>\n",
      "type of cs =  <class 'set'>\n",
      "type of ee =  <class 'set'>\n",
      "type of goodGrades =  <class 'set'>\n",
      "Elizabeth\n",
      "Tom\n",
      "John\n"
     ]
    }
   ],
   "source": [
    "# 5. file에 적용하여 operations 응용\n",
    "def setOfNames(fileName):\n",
    "    return { line.strip()\n",
    "        for line in open(fileName) }\n",
    "\n",
    "year4 = setOfNames(\"year4.txt\")\n",
    "cs = setOfNames(\"CS.txt\")\n",
    "ee = setOfNames(\"ee.txt\")\n",
    "goodGrades = setOfNames(\"GoodGrades.txt\")\n",
    "candidates = year4 & (cs | ee) & goodGrades\n",
    "print(\"type of year4 = \", type(year4))\n",
    "print(\"type of cs = \", type(cs))\n",
    "print(\"type of ee = \", type(ee))\n",
    "print(\"type of goodGrades = \", type(goodGrades))\n",
    "for student in candidates:\n",
    "    print(student)"
   ]
  },
  {
   "cell_type": "code",
   "execution_count": 16,
   "metadata": {},
   "outputs": [
    {
     "name": "stdout",
     "output_type": "stream",
     "text": [
      "{'orange', 'cherry', 'banana', 'apple'}\n",
      "{'grapes', 'mango', 'apple', 'orange', 'cherry', 'banana'}\n",
      "{'grapes', 'mango', 'apple', 'orange', 'cherry'}\n",
      "set()\n"
     ]
    }
   ],
   "source": [
    "# 6. Change items\n",
    "# add / update / remove items/ clear\n",
    "thisset = {\"apple\", \"banana\", \"cherry\"}\n",
    "\n",
    "thisset.add(\"orange\")\n",
    "print(thisset)\n",
    "\n",
    "thisset.update([\"orange\", \"mango\", \"grapes\"])\n",
    "print(thisset)\n",
    "\n",
    "thisset.remove(\"banana\")\n",
    "print(thisset)\n",
    "\n",
    "thisset.clear()\n",
    "print(thisset)"
   ]
  },
  {
   "cell_type": "code",
   "execution_count": 17,
   "metadata": {},
   "outputs": [
    {
     "ename": "NameError",
     "evalue": "name 'thisset' is not defined",
     "output_type": "error",
     "traceback": [
      "\u001b[0;31m---------------------------------------------------------------------------\u001b[0m",
      "\u001b[0;31mNameError\u001b[0m                                 Traceback (most recent call last)",
      "\u001b[1;32m/home/misys/github/discrete_math_ssu/mid/all.ipynb Cell 21\u001b[0m in \u001b[0;36m<cell line: 3>\u001b[0;34m()\u001b[0m\n\u001b[1;32m      <a href='vscode-notebook-cell:/home/misys/github/discrete_math_ssu/mid/all.ipynb#X30sZmlsZQ%3D%3D?line=0'>1</a>\u001b[0m thisset \u001b[39m=\u001b[39m {\u001b[39m\"\u001b[39m\u001b[39mapple\u001b[39m\u001b[39m\"\u001b[39m, \u001b[39m\"\u001b[39m\u001b[39mbanana\u001b[39m\u001b[39m\"\u001b[39m, \u001b[39m\"\u001b[39m\u001b[39mcherry\u001b[39m\u001b[39m\"\u001b[39m}\n\u001b[1;32m      <a href='vscode-notebook-cell:/home/misys/github/discrete_math_ssu/mid/all.ipynb#X30sZmlsZQ%3D%3D?line=1'>2</a>\u001b[0m \u001b[39mdel\u001b[39;00m thisset\n\u001b[0;32m----> <a href='vscode-notebook-cell:/home/misys/github/discrete_math_ssu/mid/all.ipynb#X30sZmlsZQ%3D%3D?line=2'>3</a>\u001b[0m \u001b[39mprint\u001b[39m(thisset)\n",
      "\u001b[0;31mNameError\u001b[0m: name 'thisset' is not defined"
     ]
    }
   ],
   "source": [
    "thisset = {\"apple\", \"banana\", \"cherry\"}\n",
    "del thisset\n",
    "print(thisset)"
   ]
  },
  {
   "cell_type": "code",
   "execution_count": 18,
   "metadata": {},
   "outputs": [
    {
     "name": "stdout",
     "output_type": "stream",
     "text": [
      "type of s1 = <class 'frozenset'>\n",
      "s1 = frozenset()\n",
      "type of s2 = <class 'frozenset'>\n",
      "s2 = frozenset({0, 1, 2, 3})\n",
      "type of s3 = <class 'frozenset'>\n",
      "s3 = frozenset({0, 1, 2, 3})\n",
      "type of s4 = <class 'frozenset'>\n",
      "s4 = frozenset({0, 1, 2, 3})\n",
      "type of s5 = <class 'frozenset'>\n",
      "s5 = frozenset({0, 1, 2, 3})\n"
     ]
    },
    {
     "ename": "AttributeError",
     "evalue": "'frozenset' object has no attribute 'add'",
     "output_type": "error",
     "traceback": [
      "\u001b[0;31m---------------------------------------------------------------------------\u001b[0m",
      "\u001b[0;31mAttributeError\u001b[0m                            Traceback (most recent call last)",
      "\u001b[1;32m/home/misys/github/discrete_math_ssu/mid/all.ipynb Cell 22\u001b[0m in \u001b[0;36m<cell line: 24>\u001b[0;34m()\u001b[0m\n\u001b[1;32m     <a href='vscode-notebook-cell:/home/misys/github/discrete_math_ssu/mid/all.ipynb#X31sZmlsZQ%3D%3D?line=20'>21</a>\u001b[0m \u001b[39mprint\u001b[39m(\u001b[39m\"\u001b[39m\u001b[39ms5 =\u001b[39m\u001b[39m\"\u001b[39m, s5)\n\u001b[1;32m     <a href='vscode-notebook-cell:/home/misys/github/discrete_math_ssu/mid/all.ipynb#X31sZmlsZQ%3D%3D?line=22'>23</a>\u001b[0m \u001b[39m# 추가 제거 기능이 안된다.\u001b[39;00m\n\u001b[0;32m---> <a href='vscode-notebook-cell:/home/misys/github/discrete_math_ssu/mid/all.ipynb#X31sZmlsZQ%3D%3D?line=23'>24</a>\u001b[0m s3\u001b[39m.\u001b[39;49madd(\u001b[39m\"\u001b[39m\u001b[39morange\u001b[39m\u001b[39m\"\u001b[39m)\n\u001b[1;32m     <a href='vscode-notebook-cell:/home/misys/github/discrete_math_ssu/mid/all.ipynb#X31sZmlsZQ%3D%3D?line=24'>25</a>\u001b[0m \u001b[39mprint\u001b[39m(thisset)\n\u001b[1;32m     <a href='vscode-notebook-cell:/home/misys/github/discrete_math_ssu/mid/all.ipynb#X31sZmlsZQ%3D%3D?line=26'>27</a>\u001b[0m s3\u001b[39m.\u001b[39mremove(\u001b[39m\"\u001b[39m\u001b[39mbanana\u001b[39m\u001b[39m\"\u001b[39m)\n",
      "\u001b[0;31mAttributeError\u001b[0m: 'frozenset' object has no attribute 'add'"
     ]
    }
   ],
   "source": [
    "# 7.Frozen set\n",
    "s1 = frozenset()              # 빈 집합\n",
    "\n",
    "s2 = frozenset((0, 1, 2, 3))  # 튜플로 집합을\n",
    "\n",
    "s3 = frozenset([0, 1, 2, 3])  # 목록으로 집합을\n",
    "\n",
    "s4 = frozenset({0, 1, 2, 3})  # 딕셔너리도 가능\n",
    "\n",
    "s5 = frozenset(range(4))      # 반복자로 집합을\n",
    "\n",
    "print(\"type of s1 =\", type(s1))\n",
    "print(\"s1 =\", s1)\n",
    "print(\"type of s2 =\", type(s2))\n",
    "print(\"s2 =\", s2)\n",
    "print(\"type of s3 =\", type(s3))\n",
    "print(\"s3 =\", s3)\n",
    "print(\"type of s4 =\", type(s4))\n",
    "print(\"s4 =\", s4)\n",
    "print(\"type of s5 =\", type(s5))\n",
    "print(\"s5 =\", s5)\n",
    "\n",
    "# 추가 제거 기능이 안된다.\n",
    "s3.add(\"orange\")\n",
    "print(thisset)\n",
    "\n",
    "s3.remove(\"banana\")\n",
    "print(thisset)"
   ]
  },
  {
   "cell_type": "code",
   "execution_count": 19,
   "metadata": {},
   "outputs": [
    {
     "name": "stdout",
     "output_type": "stream",
     "text": [
      "i=1,j=0,items[0]=a\n",
      "i=2,j=1,items[1]=b\n",
      "i=3,j=0,items[0]=a\n",
      "i=3,j=1,items[1]=b\n",
      "i=4,j=2,items[2]=c\n",
      "i=5,j=0,items[0]=a\n",
      "i=5,j=2,items[2]=c\n",
      "i=6,j=1,items[1]=b\n",
      "i=6,j=2,items[2]=c\n",
      "i=7,j=0,items[0]=a\n",
      "i=7,j=1,items[1]=b\n",
      "i=7,j=2,items[2]=c\n",
      "[[], ['a'], ['b'], ['a', 'b'], ['c'], ['a', 'c'], ['b', 'c'], ['a', 'b', 'c']]\n"
     ]
    },
    {
     "ename": "TypeError",
     "evalue": "unhashable type: 'list'",
     "output_type": "error",
     "traceback": [
      "\u001b[0;31m---------------------------------------------------------------------------\u001b[0m",
      "\u001b[0;31mTypeError\u001b[0m                                 Traceback (most recent call last)",
      "\u001b[1;32m/home/misys/github/discrete_math_ssu/mid/all.ipynb Cell 23\u001b[0m in \u001b[0;36m<cell line: 22>\u001b[0;34m()\u001b[0m\n\u001b[1;32m     <a href='vscode-notebook-cell:/home/misys/github/discrete_math_ssu/mid/all.ipynb#X32sZmlsZQ%3D%3D?line=19'>20</a>\u001b[0m \u001b[39m# print(type(B))\u001b[39;00m\n\u001b[1;32m     <a href='vscode-notebook-cell:/home/misys/github/discrete_math_ssu/mid/all.ipynb#X32sZmlsZQ%3D%3D?line=20'>21</a>\u001b[0m \u001b[39mprint\u001b[39m(B)\n\u001b[0;32m---> <a href='vscode-notebook-cell:/home/misys/github/discrete_math_ssu/mid/all.ipynb#X32sZmlsZQ%3D%3D?line=21'>22</a>\u001b[0m \u001b[39mprint\u001b[39m(\u001b[39mset\u001b[39;49m(B))\n",
      "\u001b[0;31mTypeError\u001b[0m: unhashable type: 'list'"
     ]
    }
   ],
   "source": [
    "# 8.Power set(멱집합)\n",
    "# 파이썬에서 멱집합을 내장 지원하는 메소드나 외장 라이브러리 패키지도 없습니다.\n",
    "\n",
    "def power_set(items):\n",
    "    N = len(items)\n",
    "    for i in range(2 ** N):\n",
    "        combo = []\n",
    "        for j in range(N):\n",
    "            if (i >> j) % 2 == 1:\n",
    "                combo.append(items[j])\n",
    "                print(\"i={},j={},items[{}]={}\".format(i,j, j, items[j]))\n",
    "        yield combo\n",
    "# >> 1 : 2의 1제곱으로 나눈다.\n",
    "# >> 2 : 2의 2제곱으로 나눈다.\n",
    "# << 1 : 2의 1제곱을 곱한다.\n",
    "# << 1 : 2의 1제곱을 곱한다.\n",
    "\n",
    "A=['a','b','c']\n",
    "B=list(power_set(A))\n",
    "# print(type(B))\n",
    "print(B)\n",
    "print(set(B))"
   ]
  },
  {
   "cell_type": "code",
   "execution_count": 20,
   "metadata": {},
   "outputs": [
    {
     "name": "stdout",
     "output_type": "stream",
     "text": [
      "i=1,j=0,items[0]=c\n",
      "i=2,j=1,items[1]=a\n",
      "i=3,j=0,items[0]=c\n",
      "i=3,j=1,items[1]=a\n",
      "i=4,j=2,items[2]=b\n",
      "i=5,j=0,items[0]=c\n",
      "i=5,j=2,items[2]=b\n",
      "i=6,j=1,items[1]=a\n",
      "i=6,j=2,items[2]=b\n",
      "i=7,j=0,items[0]=c\n",
      "i=7,j=1,items[1]=a\n",
      "i=7,j=2,items[2]=b\n",
      "[set(), {'c'}, {'a'}, {'c', 'a'}, {'b'}, {'c', 'b'}, {'a', 'b'}, {'c', 'a', 'b'}]\n"
     ]
    },
    {
     "ename": "TypeError",
     "evalue": "unhashable type: 'set'",
     "output_type": "error",
     "traceback": [
      "\u001b[0;31m---------------------------------------------------------------------------\u001b[0m",
      "\u001b[0;31mTypeError\u001b[0m                                 Traceback (most recent call last)",
      "\u001b[1;32m/home/misys/github/discrete_math_ssu/mid/all.ipynb Cell 24\u001b[0m in \u001b[0;36m<cell line: 18>\u001b[0;34m()\u001b[0m\n\u001b[1;32m     <a href='vscode-notebook-cell:/home/misys/github/discrete_math_ssu/mid/all.ipynb#X33sZmlsZQ%3D%3D?line=15'>16</a>\u001b[0m B\u001b[39m=\u001b[39m\u001b[39mlist\u001b[39m(power_set(A))\n\u001b[1;32m     <a href='vscode-notebook-cell:/home/misys/github/discrete_math_ssu/mid/all.ipynb#X33sZmlsZQ%3D%3D?line=16'>17</a>\u001b[0m \u001b[39mprint\u001b[39m(B)\n\u001b[0;32m---> <a href='vscode-notebook-cell:/home/misys/github/discrete_math_ssu/mid/all.ipynb#X33sZmlsZQ%3D%3D?line=17'>18</a>\u001b[0m \u001b[39mprint\u001b[39m(\u001b[39mset\u001b[39;49m(B))\n",
      "\u001b[0;31mTypeError\u001b[0m: unhashable type: 'set'"
     ]
    }
   ],
   "source": [
    "# 8.Power set(멱집합)\n",
    "# 위에 함수와는 완전히 다르다.\n",
    "\n",
    "def power_set(A):\n",
    "    items=list(A)\n",
    "    N = len(items)\n",
    "    for i in range(2 ** N):\n",
    "        combo = set() # set으로 선언.\n",
    "        for j in range(N):\n",
    "            if (i >> j) % 2 == 1:\n",
    "                combo.add(items[j])\n",
    "                print(\"i={},j={},items[{}]={}\".format(i,j, j, items[j]))\n",
    "        yield combo\n",
    "\n",
    "A={'a','b','c'}\n",
    "B=list(power_set(A))\n",
    "print(B)\n",
    "print(set(B))"
   ]
  },
  {
   "cell_type": "markdown",
   "metadata": {},
   "source": [
    "### Sequences\n",
    "1. 시퀀스 개요\n",
    "2. map / filter / reduce / lambda\n",
    "3. Tuple (튜플)\n",
    "4. Cartisian Product (곱집합)"
   ]
  },
  {
   "cell_type": "code",
   "execution_count": 21,
   "metadata": {},
   "outputs": [
    {
     "name": "stdout",
     "output_type": "stream",
     "text": [
      "(1, 2, 3, 'a', 1, 2, 3, 4, 5)\n",
      "['a', 'b', 'c', 'd', 'e', 1, 2, 3, 4]\n",
      "hello world\n"
     ]
    }
   ],
   "source": [
    "# 1. 시퀀스는 개체들의 순서있는 모임을 의미합니다. \n",
    "# 시퀀스 타입에는 string / list / tuople / range / array 등이 있습니다.\n",
    "# 시퀀스 데이터 타입들은 iterable 객체이며 iter() method를 가지고 있습니다.\n",
    "\n",
    "tuple_A = (1,2,3,'a')\n",
    "tuple_B = tuple([1,2,3,4,5])\n",
    "tuple_C = tuple_A+tuple_B\n",
    "print(tuple_C)\n",
    "\n",
    "list_A=['a', 'b', 'c', 'd', 'e']\n",
    "list_B=list([1,2,3,4])\n",
    "list_C=list_A+list_B\n",
    "print(list_C)\n",
    "\n",
    "s1=\"hello \"\n",
    "s2=\"world\"\n",
    "s3=s1+s2\n",
    "print(s3)\n",
    " "
   ]
  },
  {
   "cell_type": "code",
   "execution_count": 22,
   "metadata": {},
   "outputs": [
    {
     "name": "stdout",
     "output_type": "stream",
     "text": [
      "Overwriting test.txt\n"
     ]
    }
   ],
   "source": [
    "%%writefile test.txt\n",
    "Mac,ME\n",
    "Paul,CS\n",
    "Jim,EE\n",
    "Peter,PHY"
   ]
  },
  {
   "cell_type": "code",
   "execution_count": null,
   "metadata": {},
   "outputs": [
    {
     "name": "stdout",
     "output_type": "stream",
     "text": [
      "<class '_io.TextIOWrapper'>\n",
      "<class 'str'>\n",
      "Mac,ME\n",
      "M\n"
     ]
    }
   ],
   "source": [
    "A=open(\"test.txt\")\n",
    "print(type(A))\n",
    "B=next(A)\n",
    "print(type(B))\n",
    "print(B.strip()) #strip 은 스트링의 시작 및 끝의 공백(space)을 제거\n",
    "print(B[0])"
   ]
  },
  {
   "cell_type": "code",
   "execution_count": 23,
   "metadata": {},
   "outputs": [
    {
     "name": "stdout",
     "output_type": "stream",
     "text": [
      "[4, 9, 25, 49, 121]\n",
      "{64, 100, 4, 36, 16}\n",
      "(4, 9, 25, 49, 121)\n",
      "[4, 16, 36, 64, 100]\n",
      "[2, 3, 7]\n",
      "28\n",
      "35\n"
     ]
    }
   ],
   "source": [
    "# 2. map / filter / reduce / lambda\n",
    "\n",
    "def double(x):\n",
    "    return x*x\n",
    "\n",
    "print(list(map(double, (2,3,5,7,11))))\n",
    "print(set(map(lambda x : x * x, range(2,12,2))))\n",
    "print(tuple(map(double, {2,3,5,7,11})))\n",
    "print(list(map(double, range(2,12,2))))\n",
    "print(list(filter(lambda x : x > 0, (2, 3, 0, -5, 7, -11))))\n",
    "\n",
    "from functools import *\n",
    "\n",
    "print(reduce(lambda x, y : x + y, [2, 3, 5, 7, 11]))\n",
    "\n",
    "sum = reduce(lambda x, y : x + y, [2, 3, 5, 7, 11], 7)\n",
    "print(sum)\n"
   ]
  },
  {
   "cell_type": "code",
   "execution_count": 24,
   "metadata": {},
   "outputs": [
    {
     "name": "stdout",
     "output_type": "stream",
     "text": [
      "type of t1 = <class 'int'>\n",
      "t1 = 123\n",
      "type of t2 = <class 'tuple'>\n",
      "t2 = (123,)\n",
      "type of t3 = <class 'tuple'>\n",
      "t3 = (5, 6)\n"
     ]
    },
    {
     "ename": "TypeError",
     "evalue": "'tuple' object does not support item assignment",
     "output_type": "error",
     "traceback": [
      "\u001b[0;31m---------------------------------------------------------------------------\u001b[0m",
      "\u001b[0;31mTypeError\u001b[0m                                 Traceback (most recent call last)",
      "\u001b[1;32m/home/misys/github/discrete_math_ssu/mid/all.ipynb Cell 30\u001b[0m in \u001b[0;36m<cell line: 14>\u001b[0;34m()\u001b[0m\n\u001b[1;32m     <a href='vscode-notebook-cell:/home/misys/github/discrete_math_ssu/mid/all.ipynb#X46sZmlsZQ%3D%3D?line=10'>11</a>\u001b[0m \u001b[39mprint\u001b[39m(\u001b[39m\"\u001b[39m\u001b[39mtype of t3 =\u001b[39m\u001b[39m\"\u001b[39m,\u001b[39mtype\u001b[39m(t3))\n\u001b[1;32m     <a href='vscode-notebook-cell:/home/misys/github/discrete_math_ssu/mid/all.ipynb#X46sZmlsZQ%3D%3D?line=11'>12</a>\u001b[0m \u001b[39mprint\u001b[39m(\u001b[39m\"\u001b[39m\u001b[39mt3 =\u001b[39m\u001b[39m\"\u001b[39m, t3)\n\u001b[0;32m---> <a href='vscode-notebook-cell:/home/misys/github/discrete_math_ssu/mid/all.ipynb#X46sZmlsZQ%3D%3D?line=13'>14</a>\u001b[0m t3[\u001b[39m0\u001b[39m] \u001b[39m=\u001b[39m \u001b[39m1\u001b[39m\n",
      "\u001b[0;31mTypeError\u001b[0m: 'tuple' object does not support item assignment"
     ]
    }
   ],
   "source": [
    "# Tuple (튜플)\n",
    "t1=(123)\n",
    "print(\"type of t1 =\",type(t1))\n",
    "print(\"t1 =\", t1)\n",
    "\n",
    "t2=(123,)\n",
    "print(\"type of t2 =\",type(t2))\n",
    "print(\"t2 =\", t2)\n",
    "\n",
    "t3 = (5, 6)\n",
    "print(\"type of t3 =\",type(t3))\n",
    "print(\"t3 =\", t3)\n",
    "\n",
    "t3[0] = 1 # 튜플은 immutable(불변) 타입"
   ]
  },
  {
   "cell_type": "code",
   "execution_count": 25,
   "metadata": {},
   "outputs": [
    {
     "name": "stdout",
     "output_type": "stream",
     "text": [
      "type of t2 = <class 'list'>\n",
      "t2 = [1, 2, 3]\n",
      "type of t1 = <class 'tuple'>\n",
      "t1 = (1, 2, 3, 4)\n"
     ]
    }
   ],
   "source": [
    "# 튜플에 값 추가하는 방법 \n",
    "t1 = (1, 2, 3)\n",
    "t2 = list(t1)\n",
    "print(\"type of t2 =\", type(t2))\n",
    "print(\"t2 =\", t2)\n",
    "t2.append(4)\n",
    "t1 = tuple(t2)\n",
    "print(\"type of t1 =\", type(t1))\n",
    "print(\"t1 =\", t1)\n"
   ]
  },
  {
   "cell_type": "markdown",
   "metadata": {},
   "source": [
    "Cartisian Product<br>\n",
    "수학에서 Cartisian Product의 각 요소는 튜플로 표현됩니다.<br>\n",
    "&nbsp; &nbsp; &nbsp; &nbsp; &nbsp; &nbsp;  The Cartesian Product of two sets A and B, denoted by A × B,  is the set of ordered pairs (a,b) where a ∈ A and b ∈ B .  <br>\n",
    "&nbsp; &nbsp; &nbsp; &nbsp; &nbsp; &nbsp;  $ A X B = \\{ (a,b) | a \\in A ~\\wedge ~b \\in B \\} $  <br>\n",
    "</pre>    \n",
    "파이썬에서는 Cartisian Product 는 다음과 같이 compression 을 이용하여 간단히 구할 수있습니다. "
   ]
  },
  {
   "cell_type": "code",
   "execution_count": 26,
   "metadata": {},
   "outputs": [
    {
     "name": "stdout",
     "output_type": "stream",
     "text": [
      "{('A', 'x', '1'), ('D', 'x', '2'), ('B', 'x', '2'), ('C', 'y', '3'), ('D', 'y', '1'), ('B', 'y', '1'), ('C', 'x', '2'), ('B', 'x', '4'), ('A', 'y', '3'), ('D', 'x', '4'), ('A', 'x', '2'), ('C', 'x', '4'), ('C', 'y', '1'), ('D', 'y', '2'), ('B', 'y', '2'), ('A', 'x', '4'), ('A', 'y', '1'), ('B', 'y', '4'), ('D', 'y', '4'), ('C', 'y', '2'), ('D', 'x', '3'), ('B', 'x', '3'), ('C', 'x', '3'), ('A', 'y', '2'), ('C', 'y', '4'), ('A', 'x', '3'), ('A', 'y', '4'), ('B', 'x', '1'), ('D', 'x', '1'), ('D', 'y', '3'), ('B', 'y', '3'), ('C', 'x', '1')}\n",
      "------\n"
     ]
    },
    {
     "data": {
      "text/plain": [
       "{('A', 'x', '1'),\n",
       " ('A', 'x', '2'),\n",
       " ('A', 'x', '3'),\n",
       " ('A', 'x', '4'),\n",
       " ('A', 'y', '1'),\n",
       " ('A', 'y', '2'),\n",
       " ('A', 'y', '3'),\n",
       " ('A', 'y', '4'),\n",
       " ('B', 'x', '1'),\n",
       " ('B', 'x', '2'),\n",
       " ('B', 'x', '3'),\n",
       " ('B', 'x', '4'),\n",
       " ('B', 'y', '1'),\n",
       " ('B', 'y', '2'),\n",
       " ('B', 'y', '3'),\n",
       " ('B', 'y', '4'),\n",
       " ('C', 'x', '1'),\n",
       " ('C', 'x', '2'),\n",
       " ('C', 'x', '3'),\n",
       " ('C', 'x', '4'),\n",
       " ('C', 'y', '1'),\n",
       " ('C', 'y', '2'),\n",
       " ('C', 'y', '3'),\n",
       " ('C', 'y', '4'),\n",
       " ('D', 'x', '1'),\n",
       " ('D', 'x', '2'),\n",
       " ('D', 'x', '3'),\n",
       " ('D', 'x', '4'),\n",
       " ('D', 'y', '1'),\n",
       " ('D', 'y', '2'),\n",
       " ('D', 'y', '3'),\n",
       " ('D', 'y', '4')}"
      ]
     },
     "execution_count": 26,
     "metadata": {},
     "output_type": "execute_result"
    }
   ],
   "source": [
    "# 4. Cartisian Product (곱집합)\n",
    "iterable1 = 'ABCD'\n",
    "iterable2 = 'xy'\n",
    "iterable3 = '1234'\n",
    "a = { (a,b,c) for a in iterable1 for b in iterable2 for c in iterable3 }\n",
    "# 출력할 때 순서대로 값이 들어가지는 않는다.\n",
    "print(a)\n",
    "print('------')\n",
    "a"
   ]
  },
  {
   "cell_type": "code",
   "execution_count": 27,
   "metadata": {},
   "outputs": [
    {
     "data": {
      "text/plain": [
       "{('A', 'x', '1'),\n",
       " ('A', 'x', '2'),\n",
       " ('A', 'x', '3'),\n",
       " ('A', 'x', '4'),\n",
       " ('A', 'y', '1'),\n",
       " ('A', 'y', '2'),\n",
       " ('A', 'y', '3'),\n",
       " ('A', 'y', '4'),\n",
       " ('B', 'x', '1'),\n",
       " ('B', 'x', '2'),\n",
       " ('B', 'x', '3'),\n",
       " ('B', 'x', '4'),\n",
       " ('B', 'y', '1'),\n",
       " ('B', 'y', '2'),\n",
       " ('B', 'y', '3'),\n",
       " ('B', 'y', '4'),\n",
       " ('C', 'x', '1'),\n",
       " ('C', 'x', '2'),\n",
       " ('C', 'x', '3'),\n",
       " ('C', 'x', '4'),\n",
       " ('C', 'y', '1'),\n",
       " ('C', 'y', '2'),\n",
       " ('C', 'y', '3'),\n",
       " ('C', 'y', '4'),\n",
       " ('D', 'x', '1'),\n",
       " ('D', 'x', '2'),\n",
       " ('D', 'x', '3'),\n",
       " ('D', 'x', '4'),\n",
       " ('D', 'y', '1'),\n",
       " ('D', 'y', '2'),\n",
       " ('D', 'y', '3'),\n",
       " ('D', 'y', '4')}"
      ]
     },
     "execution_count": 27,
     "metadata": {},
     "output_type": "execute_result"
    }
   ],
   "source": [
    "# 파이썬에서는 cartisian product는 itertools 모듈을 이용하여 간단히 구할 수 있다.\n",
    "import itertools\n",
    "\n",
    "iterable1 = 'ABCD'\n",
    "iterable2 = 'xy'\n",
    "iterable3 = '1234'\n",
    "q=itertools.product(iterable1, iterable2, iterable3)\n",
    "# print(set(q))    출력이 달라짐 .. ?\n",
    "# print('------')\n",
    "set(q)"
   ]
  },
  {
   "cell_type": "markdown",
   "metadata": {},
   "source": [
    "### Functions in Python"
   ]
  },
  {
   "cell_type": "code",
   "execution_count": 28,
   "metadata": {},
   "outputs": [
    {
     "name": "stdout",
     "output_type": "stream",
     "text": [
      "test\n",
      "square(4) =  16\n",
      "type of a = <class 'tuple'>\n",
      "a = (9, 27, 81)\n",
      "type of x2, x3, x4 =  <class 'int'> <class 'int'> <class 'int'>\n",
      "x2, x3, x4 =  9 27 81\n"
     ]
    }
   ],
   "source": [
    "# 리턴이 없는 함수\n",
    "def func0():   \n",
    "    print(\"test\")\n",
    "\n",
    "func0()\n",
    "\n",
    "# 리턴이 있는 함수\n",
    "def square(x):\n",
    "    \"\"\"\n",
    "    Return the square of x.\n",
    "    \"\"\"\n",
    "    return x ** 2\n",
    "\n",
    "print(\"square(4) = \", square(4))\n",
    "\n",
    "# 리턴이 여러개인 함수\n",
    "def powers(x):\n",
    "    \"\"\"\n",
    "    Return a few powers of x.\n",
    "    \"\"\"\n",
    "    return x ** 2, x ** 3, x ** 4\n",
    "\n",
    "# 리턴이 여러개인데 한번에 받으면 튜플이 된다.\n",
    "a = powers(3)\n",
    "print(\"type of a =\", type(a))\n",
    "print(\"a =\", a)\n",
    "\n",
    "# 리턴이 여러개 일때 각각의 값을 받을 수 있다.\n",
    "x2, x3, x4 = powers(3)\n",
    "print(\"type of x2, x3, x4 = \", type(x2), type(x3), type(x4))\n",
    "print(\"x2, x3, x4 = \", x2, x3, x4)"
   ]
  },
  {
   "cell_type": "code",
   "execution_count": 29,
   "metadata": {},
   "outputs": [
    {
     "name": "stdout",
     "output_type": "stream",
     "text": [
      "myfunc(5) = 25\n",
      "=========================================================\n",
      "evaluating myfunc for x = 5 using exponent p = 2\n",
      "myfunc(5, debug=True) = 25\n",
      "=========================================================\n",
      "evaluating myfunc for x = 7 using exponent p = 3\n",
      "myfunc(p=3, debug=True, x=7) = 343\n"
     ]
    }
   ],
   "source": [
    "# 인자의 초기값을 선언할 수 있다.\n",
    "def myfunc(x, p=2, debug=False):\n",
    "    if debug:\n",
    "        print(\"evaluating myfunc for x = \" + str(x) + \" using exponent p = \" + str(p))\n",
    "    return x**p\n",
    "\n",
    "print(\"myfunc(5) =\", myfunc(5))\n",
    "print(\"=========================================================\")\n",
    "print(\"myfunc(5, debug=True) =\", myfunc(5, debug=True)) # 함수 안에 있는 디버깅이 호출됨\n",
    "# 인자의 이름을 정확히 명시하면 인자의 순서는 상관 없다.\n",
    "print(\"=========================================================\")\n",
    "print(\"myfunc(p=3, debug=True, x=7) =\", myfunc(p=3, debug=True, x=7))"
   ]
  },
  {
   "cell_type": "markdown",
   "metadata": {},
   "source": [
    "### lambda 함수 "
   ]
  },
  {
   "cell_type": "code",
   "execution_count": 30,
   "metadata": {},
   "outputs": [
    {
     "name": "stdout",
     "output_type": "stream",
     "text": [
      "4 4\n",
      "<map object at 0x7f44cf419760>\n",
      "[9, 4, 1, 0, 1, 4, 9]\n"
     ]
    }
   ],
   "source": [
    "f1 = lambda x: x**2\n",
    "    \n",
    "def f2(x):\n",
    "    return x**2\n",
    "\n",
    "print(f1(2), f2(2))\n",
    "\n",
    "print(map(lambda x: x**2, range(-3,4)))\n",
    "print(list(map(lambda x: x**2, range(-3,4))))"
   ]
  },
  {
   "cell_type": "markdown",
   "metadata": {},
   "source": [
    "### Arrays in Python"
   ]
  },
  {
   "cell_type": "code",
   "execution_count": 31,
   "metadata": {},
   "outputs": [
    {
     "name": "stdout",
     "output_type": "stream",
     "text": [
      "1\n",
      "2\n",
      "3\n",
      "a\n",
      "b\n",
      "c\n",
      "p\n",
      "q\n",
      "r\n",
      "s\n",
      "alpha\n",
      "beta\n",
      "gamma\n",
      "6\n",
      "7\n",
      "8\n",
      "9\n"
     ]
    }
   ],
   "source": [
    "set_A={1,2,3}\n",
    "for n in set_A:\n",
    "    print(n)\n",
    "\n",
    "dictionary_B={'a':1,'b':2, 'c': 3}\n",
    "for n in dictionary_B:\n",
    "    print(n)\n",
    "    \n",
    "list_C=['p','q','r','s']\n",
    "for n in list_C:\n",
    "    print(n)\n",
    "\n",
    "tuple_D=('alpha', 'beta', 'gamma')\n",
    "for n in tuple_D:\n",
    "    print(n)\n",
    "\n",
    "from numpy import *\n",
    "qqq = array([6,7,8,9])\n",
    "for n in qqq:\n",
    "    print(n)\n"
   ]
  },
  {
   "cell_type": "markdown",
   "metadata": {},
   "source": [
    "### Matrices (행렬)"
   ]
  },
  {
   "cell_type": "code",
   "execution_count": 32,
   "metadata": {},
   "outputs": [
    {
     "name": "stdout",
     "output_type": "stream",
     "text": [
      "A = [[1 2]\n",
      " [3 4]]\n",
      "type of A = <class 'numpy.ndarray'>\n",
      "B = [[-1 -1]\n",
      " [ 1  2]]\n",
      "type of B = <class 'numpy.ndarray'>\n"
     ]
    }
   ],
   "source": [
    "from numpy import *\n",
    "A=array([[1,2], [3,4]])\n",
    "B=array([[-1, -1], [1, 2]])\n",
    "print(\"A =\", A)\n",
    "print(\"type of A =\", type(A))\n",
    "\n",
    "print(\"B =\", B)\n",
    "print(\"type of B =\", type(B))"
   ]
  },
  {
   "cell_type": "code",
   "execution_count": 33,
   "metadata": {},
   "outputs": [
    {
     "data": {
      "text/plain": [
       "array([[0, 1],\n",
       "       [4, 6]])"
      ]
     },
     "execution_count": 33,
     "metadata": {},
     "output_type": "execute_result"
    }
   ],
   "source": [
    "A + B"
   ]
  },
  {
   "cell_type": "code",
   "execution_count": 34,
   "metadata": {},
   "outputs": [
    {
     "name": "stdout",
     "output_type": "stream",
     "text": [
      "type of C = <class 'numpy.matrix'>\n",
      "C = [[1 2]\n",
      " [3 4]]\n",
      "type of D = <class 'numpy.matrix'>\n",
      "D = [[-1 -1]\n",
      " [ 1  2]]\n"
     ]
    }
   ],
   "source": [
    "C = matrix(A)\n",
    "D = matrix(B)\n",
    "print(\"type of C =\", type(C))\n",
    "print(\"C =\", C)\n",
    "print(\"type of D =\", type(D))\n",
    "print(\"D =\", D)"
   ]
  },
  {
   "cell_type": "code",
   "execution_count": 35,
   "metadata": {},
   "outputs": [
    {
     "data": {
      "text/plain": [
       "matrix([[0, 1],\n",
       "        [4, 6]])"
      ]
     },
     "execution_count": 35,
     "metadata": {},
     "output_type": "execute_result"
    }
   ],
   "source": [
    "C + D"
   ]
  },
  {
   "cell_type": "code",
   "execution_count": 36,
   "metadata": {},
   "outputs": [
    {
     "data": {
      "text/plain": [
       "matrix([[2],\n",
       "        [8]])"
      ]
     },
     "execution_count": 36,
     "metadata": {},
     "output_type": "execute_result"
    }
   ],
   "source": [
    "G = matrix([[1,2,3],[4,5,6]])\n",
    "H = matrix([[1], [2], [-1]])\n",
    "G*H"
   ]
  }
 ],
 "metadata": {
  "kernelspec": {
   "display_name": "Python 3.9.12 ('base')",
   "language": "python",
   "name": "python3"
  },
  "language_info": {
   "codemirror_mode": {
    "name": "ipython",
    "version": 3
   },
   "file_extension": ".py",
   "mimetype": "text/x-python",
   "name": "python",
   "nbconvert_exporter": "python",
   "pygments_lexer": "ipython3",
   "version": "3.9.12"
  },
  "orig_nbformat": 4,
  "vscode": {
   "interpreter": {
    "hash": "d53987ecb595d47b858fb20818fc57333593e153a0e3e1d0f7ed0487b17d3604"
   }
  }
 },
 "nbformat": 4,
 "nbformat_minor": 2
}
