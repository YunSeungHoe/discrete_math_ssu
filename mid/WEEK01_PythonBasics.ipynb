{
 "cells": [
  {
   "cell_type": "markdown",
   "metadata": {},
   "source": [
    "# 1주 2강: Python Basics\n",
    "Python에 익숙하지 않은 수강생분들이 있는 것 같아서, Python의 기본 문법을 간단히 다뤄볼까 합니다\n",
    "\n",
    "## 1. Basics\n",
    "\n",
    "일단 본인이 설치한 python의 버전을 확인해 봅시다.\n",
    "수업에서는 3.8.3을 사용합니다만, 3.4 이상이면 문제가 없을 것이라고 생각합니다\n",
    "아래의 코드에 대한 자세한 설명은 뒤에 하고, 아래처럼 major, minor, micro version이 나옵니다.\n",
    "\n",
    "Python의 버전은 major.minor.micro 이런 식으로 표기합니다. 예를 들어서 지금 제가 쓰는 버전은 아래와 같이 나옵니다. \n",
    "\n",
    "```Python\n",
    "sys.version_info(major=3, minor=8, micro=3, releaselevel='final', serial=0)\n",
    "```\n",
    "\n",
    "즉, 지금의 Python Version이 3.8.3 인 것을 알 수 있습니다."
   ]
  },
  {
   "cell_type": "code",
   "execution_count": 1,
   "metadata": {},
   "outputs": [],
   "source": [
    "import sys\n",
    "print(sys.version_info)"
   ]
  },
  {
   "cell_type": "markdown",
   "metadata": {},
   "source": [
    "Python에서 외부 패키지를 가져오려면 import를 사용합니다. C의 include와 유사합니다. \n",
    "위 소스에서는 import sys가 있네요. 대부분 관례적으로 소스코드 맨 앞에 import 합니다만, 실제로는 사용하기 전 언제 import를 해도 크게 상관 없습니다. \n",
    "\n",
    "Python 소스코드의 확장자는 .py 입니다.\n",
    "Python 인터프리터는 이 소스코드를 한 줄 씩 읽어서 프로그램을 실행해줍니다.\n",
    "\n",
    "지금 여러분이 보시는 .ipynb 파일은 Jupyter notebook 형태의 파일입니다.\n",
    "Jupyter는 interactive computing을 위한 툴입니다. 이번 강의는 여러가지 이유로 주피터를 사용합니다.\n",
    "Jupyter의 하위 프로젝트가 많은데요. 저는 연구용으로 주로 Jupyter lab을 많이 사용합니다.\n",
    "Jupyter noteook과 lab은 거의 같은 일을 해 주지만, lab의 경우 좌측의 파일탐색기, 화면분할, 탭 기능을 지원해서 개발과 연구에 더 편합니다. 다만 자원을 더 많이 사용하고, 옛날에 노트북으로 나왔던 extension중 일부는 사용이 되지 않는 것 같습니다.\n",
    "\n",
    "jupyter notebook/lab에서 소스를 쓰는 이 한 \"칸\"을 \"Cell\" 이라고 합니다.\n",
    "이 cell은 크게 소스코드를 쓰고 실행할 수 있는 code, 형식이 있는 텍스트를 쓸 수 있는 markdown, 그냥 텍스트를 쓸 수 있는 text로 나뉩니다.\n",
    "\n",
    "code cell에서 shell (command line) 프로그램을 실행시키고 싶으면 앞에 !를 붙이면 됩니다"
   ]
  },
  {
   "cell_type": "code",
   "execution_count": 2,
   "metadata": {},
   "outputs": [
    {
     "name": "stdout",
     "output_type": "stream",
     "text": [
      " E 드라이브의 볼륨: DATADISK02\n",
      " 볼륨 일련 번호: DCE5-0977\n",
      "\n",
      " e:\\ 디렉터리\n",
      "\n",
      "2020-10-07  오후 08:42    <DIR>          LectureRecording\n",
      "2020-10-08  오전 12:24    <DIR>          PersonalProjects\n",
      "2020-10-08  오전 12:25    <DIR>          ResearchProjects\n",
      "2020-10-08  오전 12:26    <DIR>          Utils\n",
      "2020-10-08  오전 03:07    <DIR>          VideoRecording\n",
      "               0개 파일                   0 바이트\n",
      "               5개 디렉터리  5,900,781,723,648 바이트 남음\n"
     ]
    }
   ],
   "source": [
    "# 본인이 원하는 커맨드를 넣어보세요\n",
    "\n",
    "!dir e:\\ "
   ]
  },
  {
   "cell_type": "code",
   "execution_count": 3,
   "metadata": {},
   "outputs": [
    {
     "name": "stdout",
     "output_type": "stream",
     "text": [
      "Hello world\n"
     ]
    },
    {
     "data": {
      "text/plain": [
       "'\\n여러줄의 주석을 작성하고 싶으시면 이런 형태로 하시면 됩니다.\\n엄밀하게 말하면 이렇게 작성한 주석과 #로 작성한 주석은 처리하는 방법이 전혀 다르긴 합니다.\\n이건 사실은 docstring이라고 부릅니다.\\n가장 큰 차이는 #로 작성한 주석은 인터프리터가 코드의 일부로 보지 않고 무시하지만, \\n이런 docstring은 소스의 일부로 인지한다는 것입니다. \\n예를 들어서 이 뒤에 추가적인 출력이 없다면, jupyter는 이 스트링의 내용을 아래에 같이 출력해줄 것입니다. \\n이 docstring에 대한것은 나중에 함수를 다룰 때 다시 잠깐 다루겠습니다.\\n'"
      ]
     },
     "execution_count": 3,
     "metadata": {},
     "output_type": "execute_result"
    }
   ],
   "source": [
    "# python에서 주석을 달기 위한 방법은 두 가지가 있습니다. \n",
    "# 첫 번째 방법은 지금처럼 #을 쓰면 됩니다.\n",
    "# Console에 텍스트를 출력해봅시다. 아래처럼 print 함수를 쓰면 됩니다. \n",
    "# python 2에서의 print는 함수가 아니라 for 문과 같은 statement였습니다만, 이제는 fuction입니다.\n",
    "\n",
    "print(\"Hello world\") # 이렇게 한 줄에 소스코드와 주석을 모두 쓸 수 있습니다.\n",
    "\n",
    "\"\"\"\n",
    "여러줄의 주석을 작성하고 싶으시면 이런 형태로 하시면 됩니다.\n",
    "엄밀하게 말하면 이렇게 작성한 주석과 #로 작성한 주석은 처리하는 방법이 전혀 다르긴 합니다.\n",
    "이건 사실은 docstring이라고 부릅니다.\n",
    "가장 큰 차이는 #로 작성한 주석은 인터프리터가 코드의 일부로 보지 않고 무시하지만, \n",
    "이런 docstring은 소스의 일부로 인지한다는 것입니다. \n",
    "예를 들어서 이 뒤에 추가적인 출력이 없다면, jupyter는 이 스트링의 내용을 아래에 같이 출력해줄 것입니다. \n",
    "이 docstring에 대한것은 나중에 함수를 다룰 때 다시 잠깐 다루겠습니다.\n",
    "\"\"\"\n",
    "\n",
    "#print(\"test\") 이것을 uncomment 하시면 위의 출력이 사라집니다. 해보세요."
   ]
  },
  {
   "cell_type": "markdown",
   "metadata": {},
   "source": [
    "변수를 정의하는 방법은 대부분의 언어와 같습니다. Python의 대표적인 특징이자 C와 같은 언어를 사용하던 사람들이 쉽게 적응하지 못하는 것 중 하나가, Python은 변수를 정의할 때 명시적인 type을 지정해주지 않아도 된다는 것입니다."
   ]
  },
  {
   "cell_type": "code",
   "execution_count": 4,
   "metadata": {},
   "outputs": [
    {
     "name": "stdout",
     "output_type": "stream",
     "text": [
      "Jinhyk Yun\n"
     ]
    }
   ],
   "source": [
    "name = \"Jinhyk Yun\"\n",
    "print(name)"
   ]
  },
  {
   "cell_type": "markdown",
   "metadata": {},
   "source": [
    "## 2. 사칙연산 (Arithmetic)\n",
    "\n",
    "Python은 매우 다양한 자료형을 제공합니다. 주요 데이터 타입은 아래와 같습니다."
   ]
  },
  {
   "cell_type": "code",
   "execution_count": 5,
   "metadata": {},
   "outputs": [],
   "source": [
    "var1 = 100 # integer: int\n",
    "var2 = 100.1 # float: float \n",
    "var3 = \"String\" # string: str\n",
    "var4 = [100, 100] # list: list\n",
    "var5 = {1: 100, 2:200} # dictionary: dict\n",
    "var6 = {100, 200, 300} # set"
   ]
  },
  {
   "cell_type": "markdown",
   "metadata": {},
   "source": [
    "숫자의 연산자는 아래의 7가지가 있습니다"
   ]
  },
  {
   "cell_type": "code",
   "execution_count": 6,
   "metadata": {},
   "outputs": [
    {
     "name": "stdout",
     "output_type": "stream",
     "text": [
      "10 + 4 =  14\n",
      "10 - 4 =  6\n",
      "10 * 4 =  40\n",
      "10 / 4 =  2.5\n",
      "10 % 4 =  2\n",
      "10 // 4 =  2\n",
      "10.0 // 4.0 =  2.0\n",
      "10 ** 4 =  10000\n"
     ]
    }
   ],
   "source": [
    "print(\"10 + 4 = \", 10 + 4)\n",
    "print(\"10 - 4 = \", 10 - 4)\n",
    "print(\"10 * 4 = \", 10 * 4)\n",
    "print(\"10 / 4 = \", 10 / 4)\n",
    "print(\"10 % 4 = \", 10 % 4)\n",
    "print(\"10 // 4 = \", 10 // 4) # 나눗셈의 소숫점 아래를 버립니다 (몫만 나옵니다.)\n",
    "print(\"10.0 // 4.0 = \", 10.0 // 4.0) # integer는 integer로, float은 float으로 나옵니다. \n",
    "print(\"10 ** 4 = \", 10 ** 4)"
   ]
  },
  {
   "cell_type": "markdown",
   "metadata": {},
   "source": [
    "연산의 순서는 일반적인 사칙연산과 같습니다. (곱하기와 나누기를 먼저, 그 다음에 더하기와 빼기)"
   ]
  },
  {
   "cell_type": "code",
   "execution_count": 7,
   "metadata": {},
   "outputs": [
    {
     "name": "stdout",
     "output_type": "stream",
     "text": [
      "-9\n",
      "0\n"
     ]
    }
   ],
   "source": [
    "print(1 + 2 - 3 * 4) # 3 - 12 = -9 가 됩니다\n",
    "print((1 + 2 - 3) * 4) # 0 * 4 = 0 이 됩니다"
   ]
  },
  {
   "cell_type": "markdown",
   "metadata": {},
   "source": [
    "## 3. 스트링 (strings)\n",
    "string은 아래와 정의합니다."
   ]
  },
  {
   "cell_type": "code",
   "execution_count": 8,
   "metadata": {},
   "outputs": [
    {
     "name": "stdout",
     "output_type": "stream",
     "text": [
      "스트링을 출력합니다 String, 스트링 \n",
      "이렇게 여러 줄의\n",
      "스트링을 정의 할 수도 있습니다. 개인적으로는 한 줄에 개행문자\n",
      "를 쓰는 것을 더 선호합니다\n"
     ]
    }
   ],
   "source": [
    "simple_string = \"String, 스트링\"\n",
    "\n",
    "multiline_string = '''\n",
    "이렇게 여러 줄의\n",
    "스트링을 정의 할 수도 있습니다.'''\n",
    "\n",
    "multiline_string2 = \"개인적으로는 한 줄에 개행문자\\n를 쓰는 것을 더 선호합니다\"\n",
    "\n",
    "print(\"%s %s %s %s\" % (\"스트링을 출력합니다\", simple_string, multiline_string, multiline_string2))"
   ]
  },
  {
   "cell_type": "markdown",
   "metadata": {},
   "source": [
    "문장의 끝 문자는 기본적으로 개행문자 \\n 입니다\n",
    "end를 통해서 print에서 끝 문자를 바꿀 수 있습니다. "
   ]
  },
  {
   "cell_type": "code",
   "execution_count": 9,
   "metadata": {},
   "outputs": [
    {
     "name": "stdout",
     "output_type": "stream",
     "text": [
      "문장의 끝에 줄바꿈을 하고 싶지 않다면, 이렇게 하면 됩니다\n"
     ]
    }
   ],
   "source": [
    "print(\"문장의 끝에 줄바꿈을 하고 싶지 않다면, \", end=\"\") \n",
    "print(\"이렇게 하면 됩니다\") "
   ]
  },
  {
   "cell_type": "markdown",
   "metadata": {},
   "source": [
    "string도 사칙연산(?)이 가능합니다. "
   ]
  },
  {
   "cell_type": "code",
   "execution_count": 10,
   "metadata": {},
   "outputs": [
    {
     "name": "stdout",
     "output_type": "stream",
     "text": [
      "안녕하세요, 안녕하십니까\n",
      "안녕하세요, 안녕하세요, 안녕하세요, 안녕하세요, 안녕하세요, \n"
     ]
    }
   ],
   "source": [
    "print(\"안녕하세요, \" + \"안녕하십니까\")\n",
    "print(\"안녕하세요, \" * 5)"
   ]
  },
  {
   "cell_type": "markdown",
   "metadata": {},
   "source": [
    "python은 스트링에 매우 다양한 기능을 제공합니다. 뒤에 다시 다루고자 합니다."
   ]
  },
  {
   "cell_type": "markdown",
   "metadata": {},
   "source": [
    "## 4. List / Array"
   ]
  },
  {
   "cell_type": "markdown",
   "metadata": {},
   "source": [
    "리스트는 [ ] 이런 대괄호로 정의합니다"
   ]
  },
  {
   "cell_type": "code",
   "execution_count": 11,
   "metadata": {},
   "outputs": [
    {
     "name": "stdout",
     "output_type": "stream",
     "text": [
      "확률및통계\n",
      "확률및통계(스마트시스템소프트웨어학과)\n",
      "['자료구조', '알고리즘']\n"
     ]
    }
   ],
   "source": [
    "class_list = [\"확률및통계\", \"자료구조\", \"알고리즘\", \"이산수학\"]\n",
    "print(class_list[0]) # 이런 식으로 조회합니다. \n",
    "\n",
    "class_list[0] = \"확률및통계(스마트시스템소프트웨어학과)\" # 이런식으로 각 index의 내용을 바꿀 수 있습니다\n",
    "print(class_list[0]) # 이런 식으로 조회합니다. \n",
    "\n",
    "print(class_list[1:3]) # [:] 을 통해서 sublist를 불러올 수 있습니다. [a:b]는 a,a+1,...,b-1 까지를 의미합니다"
   ]
  },
  {
   "cell_type": "code",
   "execution_count": 12,
   "metadata": {},
   "outputs": [
    {
     "data": {
      "text/plain": [
       "['확률및통계(스마트시스템소프트웨어학과)', '알고리즘']"
      ]
     },
     "execution_count": 12,
     "metadata": {},
     "output_type": "execute_result"
    }
   ],
   "source": [
    "class_list[::2] # 매 2개마다 sampling도 가능합니다"
   ]
  },
  {
   "cell_type": "markdown",
   "metadata": {},
   "source": [
    "2-d list를 만드는 것도 간편합니다. 사실 n-d 리스트를 만들기도 쉽습니다"
   ]
  },
  {
   "cell_type": "code",
   "execution_count": 13,
   "metadata": {},
   "outputs": [
    {
     "name": "stdout",
     "output_type": "stream",
     "text": [
      "[['확률및통계(스마트시스템소프트웨어학과)', '자료구조', '알고리즘', '이산수학'], ['GitHub 가입', 'Python 설치', '문제 1번 풀기', '문제 2번 풀기']]\n",
      "문제 1번 풀기\n",
      "[['확률및통계(스마트시스템소프트웨어학과)', '자료구조', '알고리즘', '이산수학'], ['GitHub 가입', 'Python 설치', '문제 1번 풀기', '문제 2번 풀기', '문제 3번 풀기']]\n",
      "[['확률및통계(스마트시스템소프트웨어학과)', '자료구조', '알고리즘', '이산수학'], ['GitHub 가입', '아이디와 이메일 보내기', 'Python 설치', '문제 1번 풀기', '문제 2번 풀기', '문제 3번 풀기']]\n",
      "[['확률및통계(스마트시스템소프트웨어학과)', '자료구조', '알고리즘', '이산수학'], ['GitHub 가입', '아이디와 이메일 보내기', 'Python 설치', '문제 1번 풀기', '문제 3번 풀기']]\n",
      "['A', 'B', 'A']\n",
      "[['확률및통계(스마트시스템소프트웨어학과)', '자료구조', '알고리즘', '이산수학'], ['GitHub 가입', 'Python 설치', '문제 1번 풀기', '문제 3번 풀기', '아이디와 이메일 보내기']]\n",
      "[['확률및통계(스마트시스템소프트웨어학과)', '자료구조', '알고리즘', '이산수학'], ['아이디와 이메일 보내기', '문제 3번 풀기', '문제 1번 풀기', 'Python 설치', 'GitHub 가입']]\n",
      "[['확률및통계(스마트시스템소프트웨어학과)', '자료구조', '알고리즘', '이산수학'], ['GitHub 가입', 'Python 설치', '문제 1번 풀기', '문제 3번 풀기', '아이디와 이메일 보내기']]\n",
      "[['확률및통계(스마트시스템소프트웨어학과)', '자료구조', '알고리즘', '이산수학'], ['GitHub 가입', 'Python 설치', '문제 1번 풀기', '아이디와 이메일 보내기']]\n"
     ]
    }
   ],
   "source": [
    "homework_list = [\"GitHub 가입\", \"Python 설치\", \"문제 1번 풀기\", \"문제 2번 풀기\"]\n",
    "this_week = [class_list, homework_list]\n",
    "print(this_week)\n",
    "print(this_week[1][2])\n",
    "\n",
    "homework_list.append(\"문제 3번 풀기\") # append를 통해 맨 뒤에 element를 추가할 수 있습니다.\n",
    "# 중요: list의 이름은 C++의 pointer같이 자료의 메모리상 위치를 다룹니다. \n",
    "# 그래서 this_week의 내용도 바뀌어 있습니다.\n",
    "print(this_week) \n",
    "\n",
    "homework_list.insert(1, \"아이디와 이메일 보내기\") \n",
    "# insert를 이용해 임의의 위치에 삽입할 수 있습니다.\n",
    "# 자료구조 들으신 분들은 아시겠지만 이런 임의 삽입 연산은 매우 느립니다.\n",
    "print(this_week)\n",
    "\n",
    "homework_list.remove(\"문제 2번 풀기\") # 같은 이름의 성분을 지웁니다\n",
    "print(this_week)\n",
    "\n",
    "sample_list = [\"A\", \"A\", \"B\", \"A\"]\n",
    "sample_list.remove(\"A\") # 이렇게 되면 모든 \"A\"를 지우지 않고, 맨 앞의 것만 지워집니다.\n",
    "print(sample_list)\n",
    "\n",
    "homework_list.sort() # 역순으로 뒤집을 수도 있습니다\n",
    "print(this_week)\n",
    "\n",
    "homework_list.sort(reverse=True) # 역순으로 뒤집을 수도 있습니다\n",
    "print(this_week)\n",
    "\n",
    "homework_list.reverse() # 전체의 순서를 한 번에 뒤집을 수도 있습니다.\n",
    "print(this_week)\n",
    "\n",
    "del homework_list[3] # 3번 인덱스의 자료를 지웁니다. \n",
    "print(this_week)"
   ]
  },
  {
   "cell_type": "markdown",
   "metadata": {},
   "source": [
    "리스트도 더하기, 곱하기 연산이 정의되어 있습니다."
   ]
  },
  {
   "cell_type": "code",
   "execution_count": 14,
   "metadata": {},
   "outputs": [
    {
     "name": "stdout",
     "output_type": "stream",
     "text": [
      "['확률및통계(스마트시스템소프트웨어학과)', '자료구조', '알고리즘', '이산수학', 'GitHub 가입', 'Python 설치', '문제 1번 풀기', '아이디와 이메일 보내기']\n",
      "['확률및통계(스마트시스템소프트웨어학과)', '자료구조', '알고리즘', '이산수학', '확률및통계(스마트시스템소프트웨어학과)', '자료구조', '알고리즘', '이산수학']\n",
      "[['확률및통계(스마트시스템소프트웨어학과)', '자료구조', '알고리즘', '이산수학'], ['확률및통계(스마트시스템소프트웨어학과)', '자료구조', '알고리즘', '이산수학']]\n",
      "[['확률및통계(스마트시스템소프트웨어학과)', '치환됨', '알고리즘', '이산수학'], ['확률및통계(스마트시스템소프트웨어학과)', '치환됨', '알고리즘', '이산수학']]\n",
      "4\n",
      "확률및통계(스마트시스템소프트웨어학과)\n",
      "알고리즘\n"
     ]
    }
   ],
   "source": [
    "this_week2 = class_list + homework_list\n",
    "print(this_week2)\n",
    "class_list2 = class_list * 2\n",
    "print(class_list2)\n",
    "\n",
    "# 주의할 것: 2d list를 *으로 정의하면 위와 다르게 아래처럼 작동합니다. \n",
    "class_list2 = [class_list] * 2\n",
    "print(class_list2)\n",
    "class_list2[0][1] = \"치환됨\"\n",
    "print(class_list2) # [0][1]과 [1][1]이 모두 class list라는 같은 주소를 가키키고 있어서 모두 바뀝니다\n",
    "\n",
    "print(len(class_list)) # 길이는 len으로 체크합니다\n",
    "print(max(class_list)) # 숫자 뿐 아니라 오름차순 정렬시 가장 마지막 element와 같은 것을 return해줍니다.\n",
    "print(min(class_list)) # 숫자 뿐 아니라 오름차순 정렬시 가장 마지막 element와 같은 것을 return해줍니다.\n"
   ]
  },
  {
   "cell_type": "code",
   "execution_count": 15,
   "metadata": {},
   "outputs": [
    {
     "data": {
      "text/plain": [
       "['확률및통계', 3, ['테스트', 1234], '선생님']"
      ]
     },
     "execution_count": 15,
     "metadata": {},
     "output_type": "execute_result"
    }
   ],
   "source": [
    "[\"확률및통계\", 3, [\"테스트\", 1234], \"선생님\"] # 같은 형태의 자료형이 아니더라도 list를 만들 수 있습니다"
   ]
  },
  {
   "cell_type": "markdown",
   "metadata": {},
   "source": [
    "## 5. Tuple\n",
    "Tuple도 리스트와 같이 변수들이 나열되어 있는 형태입니다.\n",
    "Tuple의 경우 리스트와 다르게 한번 정의되면 안의 내용을 바꿀 수 없습니다. "
   ]
  },
  {
   "cell_type": "code",
   "execution_count": 16,
   "metadata": {},
   "outputs": [
    {
     "name": "stdout",
     "output_type": "stream",
     "text": [
      "<class 'tuple'>\n",
      "<class 'list'>\n",
      "<class 'tuple'>\n",
      "4\n",
      "6\n",
      "1\n",
      "9\n"
     ]
    }
   ],
   "source": [
    "pi = (3, 1, 4, 1, 5, 9) # 이렇게 () 로 정의합니다\n",
    "print(type(pi))\n",
    "# 리스트와 typecast로 변환이 가능합니다.\n",
    "list_pi = list(pi)\n",
    "print(type(list_pi))\n",
    "tuple_pi = tuple(pi)\n",
    "print(type(tuple_pi))\n",
    "\n",
    "# list와 같이 아래처럼 잘 작동합니다. \n",
    "print(pi[2])\n",
    "print(len(pi))\n",
    "print(min(pi))\n",
    "print(max(pi))"
   ]
  },
  {
   "cell_type": "markdown",
   "metadata": {},
   "source": [
    "## 6. set / dictionary\n",
    "\n",
    "set과 dictionary는 tuple/list와 다르게 순서가 없는 자료형입니다.\n",
    "\n",
    "set과 dictionary의 가장 큰 차이는 set은 값(value)만 가지고 있고, dictionary는 key-value pair로 저장되어 key를 통해 value를 조회할 수 있다는 점입니다.\n",
    "\n",
    "둘 다 { } 으로 정의합니다"
   ]
  },
  {
   "cell_type": "code",
   "execution_count": 17,
   "metadata": {},
   "outputs": [
    {
     "name": "stdout",
     "output_type": "stream",
     "text": [
      "<class 'set'>\n",
      "{'Jane', 'Tom', 'Mike'}\n",
      "<class 'set'>\n",
      "{'Jane', 'Tom', 'Mike'}\n",
      "<class 'dict'>\n",
      "20201010\n",
      "20201010\n",
      "{'Tom': 20201010, 'Mike': 20191219}\n",
      "{'Tom': 20201010, 'Mike': 20191219, 'Jane': 20172193}\n",
      "{'Tom': 20201010, 'Mike': 20192191, 'Jane': 20172193}\n",
      "3\n",
      "dict_items([('Tom', 20201010), ('Mike', 20192191), ('Jane', 20172193)])\n",
      "dict_keys(['Tom', 'Mike', 'Jane'])\n",
      "dict_values([20201010, 20192191, 20172193])\n"
     ]
    }
   ],
   "source": [
    "attendence_set = {\"Tom\", \"Mike\", \"Jane\"} # set\n",
    "print(type(attendence_set))\n",
    "print(attendence_set)\n",
    "\n",
    "attendence_set2 = {\"Tom\", \"Mike\", \"Jane\", \"Tom\"} # set\n",
    "print(type(attendence_set2)) # 순서는 없고 중복을 허용하지 않습니다.\n",
    "print(attendence_set2)\n",
    "\n",
    "student_number = {\"Tom\": 20201010, \"Mike\": 20191219, \"Jane\": 20172193} # dict\n",
    "print(type(student_number))\n",
    "\n",
    "print(student_number[\"Tom\"]) # 조회연산\n",
    "print(student_number.get(\"Tom\")) # 조회연산2\n",
    "\n",
    "del(student_number[\"Jane\"])\n",
    "print(student_number)\n",
    "\n",
    "student_number[\"Jane\"] = 20172193 # 없는 값을 이렇게 정의해줄 수도 있고\n",
    "print(student_number)\n",
    "\n",
    "student_number[\"Mike\"] = 20192191 # 있는 값을 교체할 수도 있습니다.\n",
    "print(student_number)\n",
    "\n",
    "print(len(student_number))\n",
    "# dictionary의 key로 int, string, flaot등 말고 tuple도 가질 수 있습니다 (list는 불가능합니다.)\n",
    "\n",
    "print(student_number.items())\n",
    "print(student_number.keys())\n",
    "print(student_number.values()) \n",
    "\n",
    "# 2.X에서는 iteritems, iterkeys, itervalues라는 iterator형태도 있었는데 3.x에서 삭제되었습니다."
   ]
  }
 ],
 "metadata": {
  "kernelspec": {
   "display_name": "Python 3",
   "language": "python",
   "name": "python3"
  },
  "language_info": {
   "codemirror_mode": {
    "name": "ipython",
    "version": 3
   },
   "file_extension": ".py",
   "mimetype": "text/x-python",
   "name": "python",
   "nbconvert_exporter": "python",
   "pygments_lexer": "ipython3",
   "version": "3.8.10"
  }
 },
 "nbformat": 4,
 "nbformat_minor": 4
}
