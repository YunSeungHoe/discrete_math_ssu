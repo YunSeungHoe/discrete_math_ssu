{
 "cells": [
  {
   "cell_type": "markdown",
   "metadata": {},
   "source": [
    "## 실습1"
   ]
  },
  {
   "cell_type": "markdown",
   "metadata": {},
   "source": [
    "####  다음  [그림 6] 의 트리를 읽어,  [그림 4] 의 균형 이진 탐색 트리로 변환하고자 한다. 다음에 답하시오.  \n",
    "![Altext](fig14-6.png)"
   ]
  },
  {
   "cell_type": "markdown",
   "metadata": {},
   "source": [
    "### (a). [그림 6] 의 3-ary 트리를 생성하는 파이썬 코드를 작성해 보시오. "
   ]
  },
  {
   "cell_type": "code",
   "execution_count": 1,
   "metadata": {},
   "outputs": [],
   "source": [
    "class M_ary_Node:\n",
    "    def __init__(self, data, m=2, distance=0): \n",
    "        self.children=[] \n",
    "        self.m_ary=m  \n",
    "        self.value = [data, distance]  \n",
    "  \n",
    "    def add_child(self, data, m=2, distance=1):      \n",
    "        queue=[]\n",
    "        queue.append(self)\n",
    "        while queue:\n",
    "            current_exploring_node=queue.pop(0)            \n",
    "            if current_exploring_node.value!=None:    \n",
    "                if len(current_exploring_node.children)< current_exploring_node.m_ary:           \n",
    "                    current_exploring_node.children.append(M_ary_Node(data, m, current_exploring_node.value[1]+ distance))                \n",
    "                    return \n",
    "                else:\n",
    "                    for i in range(current_exploring_node.m_ary):                   \n",
    "                         \n",
    "                        if (len(current_exploring_node.children[i].children)< current_exploring_node.children[i].m_ary):                            \n",
    "                            current_exploring_node.children[i].children.append(M_ary_Node(data, m, current_exploring_node.children[i].value[1]+distance))\n",
    "                            return \n",
    "                        queue.append(current_exploring_node.children[i])                \n",
    "            else:           \n",
    "                current_exploring_node.value = [data, distance]\n",
    "        return \n",
    "    def remove_child(self, data):\n",
    "        queue=[]        \n",
    "        queue.append(self)\n",
    "        while queue:\n",
    "            test=queue.pop(0)               \n",
    "            for i, node in enumerate(test.children):                \n",
    "                if node.value[0]==data:                     \n",
    "                    test.children.pop(i)\n",
    "                    if test.children==[]:\n",
    "                        del(test) \n",
    "                    return 1\n",
    "                queue.append(node)\n",
    "        return None\n",
    "\n",
    "    def remove_all(self):    \n",
    "        if self.children==[]:           \n",
    "            return \n",
    "        for node in self.children:           \n",
    "            node.remove_all()\n",
    "            del(node.children)\n",
    "            del(node.m_ary)\n",
    "            del(node.value)\n",
    "            del(node)\n",
    "        self.children=[] \n",
    "        return\n",
    "    \n",
    "    def PrintTree(self):\n",
    "        if self:\n",
    "            print(self.value)\n",
    "        for i in range(len(self.children)):         \n",
    "            if self.children[i]:                \n",
    "                self.children[i].PrintTree()      \n",
    "\n",
    "    def PreorderTraversal(self):\n",
    "        res = []\n",
    "        if self:\n",
    "            res.append(self.value[0])\n",
    "            for i in range(len(self.children)):\n",
    "                if self.children[i]:\n",
    "                    res = res + self.children[i].PreorderTraversal()\n",
    "        return res\n",
    "\n",
    "    def PostorderTraversal(self):\n",
    "        res = []\n",
    "        if self:\n",
    "            for i in range(len(self.children)):\n",
    "                if self.children[i]:    \n",
    "                    res = res + self.children[i].PostorderTraversal()\n",
    "            res.append(self.value[0])\n",
    "        return res    \n",
    "\n",
    "    def InorderTraversal(self):\n",
    "        res = []\n",
    "        if self:            \n",
    "            if len(self.children)!=0:           \n",
    "                res = res + self.children[0].InorderTraversal()\n",
    "            res.append(self.value[0])\n",
    "            for i in range(1, len(self.children)):\n",
    "                if self.children[i]:\n",
    "                    res = res + self.children[i].InorderTraversal()\n",
    "            \n",
    "        return res                    "
   ]
  },
  {
   "cell_type": "code",
   "execution_count": 2,
   "metadata": {},
   "outputs": [],
   "source": [
    "M3_ary = M_ary_Node('a', 3)\n",
    "M3_ary.add_child('b', 3)\n",
    "M3_ary.add_child('c', 0)\n",
    "M3_ary.add_child('d', 3)\n",
    "M3_ary.add_child('e', 3)\n",
    "M3_ary.add_child('f', 0)\n",
    "M3_ary.add_child('g', 1)\n",
    "M3_ary.add_child('h', 1)\n",
    "M3_ary.add_child('i', 0)\n",
    "M3_ary.add_child('j', 2)\n",
    "M3_ary.add_child('k', 0)\n",
    "M3_ary.add_child('l', 0)\n",
    "M3_ary.add_child('m', 0)\n",
    "M3_ary.add_child('n', 2)\n",
    "M3_ary.add_child('o', 0)\n",
    "M3_ary.add_child('p', 0)\n",
    "M3_ary.add_child('q', 0)\n",
    "M3_ary.add_child('r', 0)\n",
    "M3_ary.add_child('s', 0)\n"
   ]
  },
  {
   "cell_type": "code",
   "execution_count": 3,
   "metadata": {},
   "outputs": [
    {
     "name": "stdout",
     "output_type": "stream",
     "text": [
      "['a', 'b', 'e', 'k', 'l', 'm', 'f', 'g', 'n', 'r', 's', 'c', 'd', 'h', 'o', 'i', 'j', 'p', 'q']\n",
      "['k', 'l', 'm', 'e', 'f', 'r', 's', 'n', 'g', 'b', 'c', 'o', 'h', 'i', 'p', 'q', 'j', 'd', 'a']\n",
      "['k', 'e', 'l', 'm', 'b', 'f', 'r', 'n', 's', 'g', 'a', 'c', 'o', 'h', 'd', 'i', 'p', 'j', 'q']\n"
     ]
    }
   ],
   "source": [
    "print(M3_ary.PreorderTraversal())   # 깊이 우선 탐색\n",
    "print(M3_ary.PostorderTraversal())  # left -> right / down -> up\n",
    "print(M3_ary.InorderTraversal())    # down -> up / left -> right "
   ]
  },
  {
   "cell_type": "markdown",
   "metadata": {},
   "source": [
    "### (b). [그림 6]의 3-ary 트리의 깊이(높이)가 4이다. 이를 '균형 이진 탐색 트리'(BBST)로 변형하는 경우에, 해당 BBST를 생성하는 파이썬 코드를 작성해 보시오"
   ]
  },
  {
   "cell_type": "code",
   "execution_count": 4,
   "metadata": {},
   "outputs": [],
   "source": [
    "from math import *\n",
    "\n",
    "def depth_of_BBST(tree):\n",
    "    m = len(tree.PreorderTraversal())\n",
    "    return ceil(log2(m+1)-1)"
   ]
  },
  {
   "cell_type": "code",
   "execution_count": 5,
   "metadata": {},
   "outputs": [
    {
     "data": {
      "text/plain": [
       "4"
      ]
     },
     "execution_count": 5,
     "metadata": {},
     "output_type": "execute_result"
    }
   ],
   "source": [
    "depth_of_BBST(M3_ary)"
   ]
  },
  {
   "cell_type": "code",
   "execution_count": 6,
   "metadata": {},
   "outputs": [],
   "source": [
    "class BTree_Node_Traversal:\n",
    "    def __init__(self, data):\n",
    "        self.parent = None\n",
    "        self.left = None   \n",
    "        self.right = None  \n",
    "        self.data = data   \n",
    "\n",
    "    def insert(self, data):\n",
    "        if self.data:\n",
    "            if data < self.data:\n",
    "                if self.left is None:\n",
    "                    self.left = BTree_Node_Traversal(data) \n",
    "                else:\n",
    "                    self.left.insert(data)                                        \n",
    "            elif data > self.data:\n",
    "                if self.right is None:\n",
    "                    self.right = BTree_Node_Traversal(data)\n",
    "                else:\n",
    "                    self.right.insert(data)                    \n",
    "        else:\n",
    "            self.data = data\n",
    "            self.parent =self\n",
    "\n",
    "    def search(self, data, explored=[]): \n",
    "        explored.append(self.data)       \n",
    "        if data < self.data:\n",
    "            if self.left==None:\n",
    "                return print(\"The tree does not have  the item({})\".format(data))                      \n",
    "            else:\n",
    "                    self.left.search(data, explored)\n",
    "        elif data > self.data:\n",
    "            if self.right == None:\n",
    "                return print(\"The tree does not have  the item({})\".format(data))                      \n",
    "            else:\n",
    "                self.right.search(data, explored)\n",
    "        else:         \n",
    "            return print(explored)\n",
    "\n",
    "    def PrintTree(self):\n",
    "        if self.left:\n",
    "            self.left.PrintTree()\n",
    "        print(self.data),\n",
    "        if self.right:\n",
    "            self.right.PrintTree()\n",
    "            \n",
    "    def PreorderTraversal(self):\n",
    "        res = []\n",
    "        if self:\n",
    "            res.append(self.data)\n",
    "            if self.left:\n",
    "                res = res + self.left.PreorderTraversal()\n",
    "            if self.right:    \n",
    "                res = res + self.right.PreorderTraversal()\n",
    "        return res\n",
    "\n",
    "    def PostorderTraversal(self):\n",
    "        res = []\n",
    "        if self:\n",
    "            if self.left:\n",
    "                res = self.left.PostorderTraversal()\n",
    "            if self.right:    \n",
    "                res = res + self.right.PostorderTraversal()\n",
    "            res.append(self.data)\n",
    "        return res    \n",
    "\n",
    "    def InorderTraversal(self):\n",
    "        res = []\n",
    "        if self:\n",
    "            if self.left:\n",
    "                res = self.left.InorderTraversal()\n",
    "            res.append(self.data)\n",
    "            if self.right:\n",
    "                res = res + self.right.InorderTraversal()\n",
    "        return res    "
   ]
  },
  {
   "cell_type": "code",
   "execution_count": 7,
   "metadata": {},
   "outputs": [],
   "source": [
    "def Select_from_BST_list(node_list): \n",
    "    number=len(node_list)\n",
    "    node_list.sort()   \n",
    "    \n",
    "    bst=[] \n",
    "    start=0\n",
    "    if number< 1:\n",
    "        return bst\n",
    "    end= number-1\n",
    "    middle=(end-start+1)//2 \n",
    "    bst.append(node_list[middle]) \n",
    "    left=node_list[start:middle]    \n",
    "    right=node_list[middle+1:end+1]    \n",
    "    left_number = number//2\n",
    "    if number%2==0:\n",
    "        right_number=number//2 -1\n",
    "    else: \n",
    "        right_number=number//2 \n",
    "    \n",
    "    bst+=Select_from_BST_list(left)    \n",
    "    bst+=Select_from_BST_list(right)\n",
    "    return bst\n",
    "\n",
    "\n",
    "def To_BST(sel_node_list):\n",
    "    bst_root = BTree_Node_Traversal(sel_node_list[0])\n",
    "    for i in sel_node_list[1:]:\n",
    "        bst_root.insert(i)\n",
    "    return bst_root"
   ]
  },
  {
   "cell_type": "code",
   "execution_count": 8,
   "metadata": {},
   "outputs": [],
   "source": [
    "sel_lst3=Select_from_BST_list(M3_ary.PreorderTraversal())\n",
    "bst3=To_BST(sel_lst3)"
   ]
  },
  {
   "cell_type": "markdown",
   "metadata": {},
   "source": [
    "### (c)  생성한 '균형 이진 탐색 트리(BBST)'에 대해 Inorder 순회로 하는 경우에 , 알파벳순으로 출력됨을 보이시오."
   ]
  },
  {
   "cell_type": "code",
   "execution_count": 9,
   "metadata": {},
   "outputs": [
    {
     "name": "stdout",
     "output_type": "stream",
     "text": [
      "['a', 'b', 'c', 'd', 'e', 'f', 'g', 'h', 'i', 'j', 'k', 'l', 'm', 'n', 'o', 'p', 'q', 'r', 's']\n"
     ]
    }
   ],
   "source": [
    "# print(bst3.PreorderTraversal())   \n",
    "# print(bst3.PostorderTraversal())  \n",
    "print(bst3.InorderTraversal())    "
   ]
  },
  {
   "cell_type": "markdown",
   "metadata": {},
   "source": [
    "### (d) 상기 생성된  '균형 이진 탐색 트리(BBST)'를 NetworkX를 사용하여 그려보시오. "
   ]
  },
  {
   "cell_type": "code",
   "execution_count": 10,
   "metadata": {},
   "outputs": [],
   "source": [
    "import networkx as nx\n",
    "import matplotlib.pyplot as plt\n",
    "\n",
    "def draw_colored_graph(graph, color = None, pos = None) :\n",
    "    G = nx.Graph()\n",
    "    nodes = graph.keys()\n",
    "    edges = [(src, dst) for src in graph for dst in graph[src] ]\n",
    "    G.add_nodes_from(nodes)\n",
    "    G.add_edges_from(edges)\n",
    "    plt.figure(figsize=(10, 10))\n",
    "    if not pos : pos=nx.spring_layout(G)\n",
    "    if not color : color = 'cyan'\n",
    "    nx.draw_networkx_nodes(G, pos=pos, node_size=2000, node_color=color)\n",
    "    nx.draw_networkx_edges(G, pos=pos)\n",
    "    nx.draw_networkx_labels(G, pos=pos, font_size=30)\n",
    "    plt.show()"
   ]
  },
  {
   "cell_type": "code",
   "execution_count": 11,
   "metadata": {},
   "outputs": [
    {
     "data": {
      "image/png": "[encoded data removed]",
      "text/plain": [
       "<Figure size 720x720 with 1 Axes>"
      ]
     },
     "metadata": {},
     "output_type": "display_data"
    }
   ],
   "source": [
    "\n",
    "import math \n",
    "\n",
    "def make_graph(root):\n",
    "    graph = {}\n",
    "    queue = [root]\n",
    "    while queue:\n",
    "        v = queue.pop(0)\n",
    "        temp = []\n",
    "        if v.left:\n",
    "            v.left.parent = v.data\n",
    "            temp.append(v.left.data)\n",
    "            queue.append(v.left)\n",
    "        if v.right:\n",
    "            v.right.parent = v.data\n",
    "            temp.append(v.right.data)\n",
    "            queue.append(v.right)\n",
    "        graph[v.data] = temp\n",
    "    return graph\n",
    "\n",
    "def make_pos(root):\n",
    "    pos = {}\n",
    "    queue = [root]\n",
    "    cnt = 1\n",
    "    pos[root.data] = (10, 10)\n",
    "    while queue:\n",
    "        v = queue.pop(0)\n",
    "        if v.left:\n",
    "            cnt += 1\n",
    "            queue.append(v.left)\n",
    "            pos[v.left.data] = (pos[v.left.parent][0] - 10/(2*int(math.log2(cnt))), pos[v.left.parent][1] - 2)\n",
    "        if v.right:\n",
    "            cnt += 1\n",
    "            queue.append(v.right)\n",
    "            pos[v.right.data] = (pos[v.right.parent][0] + 10/(2*int(math.log2(cnt))), pos[v.right.parent][1] - 2)\n",
    "    return pos\n",
    "\n",
    "graph = make_graph(bst3)\n",
    "pos = make_pos(bst3)\n",
    "draw_colored_graph(graph, pos=pos)    "
   ]
  },
  {
   "cell_type": "markdown",
   "metadata": {},
   "source": [
    "## 실습 2 \n",
    "### (a) 너비 우선 탐색으로 주어진 그래프에서 주어진 소스 노드에서의 신장 트리 하나를 찾는 파이썬 코드를 작성하시오. "
   ]
  },
  {
   "cell_type": "code",
   "execution_count": 12,
   "metadata": {},
   "outputs": [],
   "source": [
    "import copy\n",
    "def bfs(graph, start):\n",
    "    visited = []\n",
    "    explored = []\n",
    "    edges = []\n",
    "    explored.append(start)\n",
    "    while explored:\n",
    "        node = explored.pop(0)\n",
    "        visited.append(node)\n",
    "        for i in range(len(graph[node])):\n",
    "            if graph[node][i] not in visited and graph[node][i] not in explored: \n",
    "                explored.append(graph[node][i])\n",
    "                edges.append((node,graph[node][i]))\n",
    "    return edges"
   ]
  },
  {
   "cell_type": "markdown",
   "metadata": {},
   "source": [
    "### (b) 상기 너비우선 탐색 기반 신장트리 검출 파이썬 코드를 이용하여 [그림 5] 의 그래프에서 노드 \"S\" 에서 출발하는 신장 트리를 하나 구해 보시오."
   ]
  },
  {
   "cell_type": "markdown",
   "metadata": {},
   "source": [
    "![Alttext](fig14-5.png)"
   ]
  },
  {
   "cell_type": "code",
   "execution_count": 13,
   "metadata": {},
   "outputs": [],
   "source": [
    "graph = {\n",
    "       'B': ['F', 'L', 'N', 'S'],\n",
    "       'E': ['F', 'L'],\n",
    "       'F': ['B', 'E', 'L', 'N'],  \n",
    "       'L': ['B', 'E', 'F', 'S'],\n",
    "       'N': ['B', 'F', 'S'],\n",
    "       'S': ['B', 'L', 'N']}"
   ]
  },
  {
   "cell_type": "code",
   "execution_count": 14,
   "metadata": {},
   "outputs": [
    {
     "data": {
      "text/plain": [
       "[('S', 'B'), ('S', 'L'), ('S', 'N'), ('B', 'F'), ('L', 'E')]"
      ]
     },
     "execution_count": 14,
     "metadata": {},
     "output_type": "execute_result"
    }
   ],
   "source": [
    "bfs(graph, 'S')"
   ]
  },
  {
   "cell_type": "markdown",
   "metadata": {},
   "source": [
    "### (c) 상기 너비우선 탐색 기반 신장트리 검출 파이썬 코드를 이용하여,  교과서 예제 Fig. 6 의 그래프에서 노드 \"f' 에서 출발하는 신장 트리를 구해 보시오.\n",
    "![Alttext](fig14_sol3.png)"
   ]
  },
  {
   "cell_type": "code",
   "execution_count": 15,
   "metadata": {},
   "outputs": [],
   "source": [
    "graph = {'a': ['c'],\n",
    "        'b': ['c'],\n",
    "        'c': ['a', 'b', 'e'],\n",
    "        'd': ['e', 'f'],  \n",
    "        'e': ['c', 'd', 'f'],\n",
    "        'f': ['d', 'e', 'g', 'h'],\n",
    "        'g': ['f', 'h'],\n",
    "        'h': ['f', 'g', 'i', 'k'], \n",
    "        'i': ['h'],\n",
    "        'j': ['k'],\n",
    "        'k': ['h', 'j']}"
   ]
  },
  {
   "cell_type": "code",
   "execution_count": 16,
   "metadata": {},
   "outputs": [
    {
     "data": {
      "text/plain": [
       "[('f', 'd'),\n",
       " ('f', 'e'),\n",
       " ('f', 'g'),\n",
       " ('f', 'h'),\n",
       " ('e', 'c'),\n",
       " ('h', 'i'),\n",
       " ('h', 'k'),\n",
       " ('c', 'a'),\n",
       " ('c', 'b'),\n",
       " ('k', 'j')]"
      ]
     },
     "execution_count": 16,
     "metadata": {},
     "output_type": "execute_result"
    }
   ],
   "source": [
    "bfs(graph, 'f')"
   ]
  }
 ],
 "metadata": {
  "kernelspec": {
   "display_name": "Python 3.9.12 ('base')",
   "language": "python",
   "name": "python3"
  },
  "language_info": {
   "codemirror_mode": {
    "name": "ipython",
    "version": 3
   },
   "file_extension": ".py",
   "mimetype": "text/x-python",
   "name": "python",
   "nbconvert_exporter": "python",
   "pygments_lexer": "ipython3",
   "version": "3.9.12"
  },
  "orig_nbformat": 4,
  "vscode": {
   "interpreter": {
    "hash": "d53987ecb595d47b858fb20818fc57333593e153a0e3e1d0f7ed0487b17d3604"
   }
  }
 },
 "nbformat": 4,
 "nbformat_minor": 2
}
