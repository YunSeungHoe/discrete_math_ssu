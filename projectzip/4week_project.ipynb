{
 "cells": [
  {
   "cell_type": "markdown",
   "metadata": {},
   "source": [
    "### 실습 1.  정수 리스트의 평균값 계산의 재귀적 구현   \n",
    "주어진 정수 리스트 (예 $a=[8,5,3,2,9,1,4,7,6]$ )의 평균을 계산하는 알고리즘의 반복적 방법의 구현은 다음과 같다. 이 평균 구하는 문제를 재귀적 방법으로 구현해 보시오.\n",
    "<br/><br/>\n",
    "※ 풀이조건\n",
    "<ol>\n",
    "    <li>$a=[8,5,3,2,9,1,4,7,6]$ 리스트를 만들어 print 함수를 통해 출력하시오.</li>\n",
    "    <li>재귀 함수를 만들어 평균값을 구하고, 이를 print 함수를 통해 출력하시오.</li>\n",
    "</ol>"
   ]
  },
  {
   "cell_type": "code",
   "execution_count": 1,
   "metadata": {},
   "outputs": [],
   "source": [
    "def avg(X):\n",
    "    sum=0\n",
    "    for i in X:\n",
    "        sum+=i\n",
    "    return sum/len(X)    "
   ]
  },
  {
   "cell_type": "code",
   "execution_count": 2,
   "metadata": {},
   "outputs": [
    {
     "data": {
      "text/plain": [
       "5.0"
      ]
     },
     "execution_count": 2,
     "metadata": {},
     "output_type": "execute_result"
    }
   ],
   "source": [
    "a=[8,5,3,2,9,1,4,7,6]\n",
    "avg(a)"
   ]
  },
  {
   "cell_type": "markdown",
   "metadata": {},
   "source": [
    "####  재귀적 구현 예"
   ]
  },
  {
   "cell_type": "code",
   "execution_count": 3,
   "metadata": {},
   "outputs": [],
   "source": [
    "def avg_recursive(X):       \n",
    "    if len(X)==0:\n",
    "        return  print(\"please take X as a container which has components\") \n",
    "    list_item=list(X)    \n",
    "    if len(X) ==1:\n",
    "        return list_item[0]\n",
    "    mid=len(X)//2\n",
    "    Y=list_item[:mid]\n",
    "    Z=list_item[mid:]\n",
    "    return (avg_recursive(Y)*mid+avg_recursive(Z)*(len(X)-mid))/len(X)"
   ]
  },
  {
   "cell_type": "code",
   "execution_count": 4,
   "metadata": {},
   "outputs": [
    {
     "data": {
      "text/plain": [
       "5.0"
      ]
     },
     "execution_count": 4,
     "metadata": {},
     "output_type": "execute_result"
    }
   ],
   "source": [
    "a=[8,5,3,2,9,1,4,7,6]\n",
    "avg_recursive(a)"
   ]
  },
  {
   "cell_type": "markdown",
   "metadata": {},
   "source": [
    "### 실습 2. Insertion Sort 구현\n",
    "아래 파이썬 코드는 Insertion Sort  를 반복적인 방법으로 구현한 것이다.  이 Insertion Sort 를 재귀적 방법으로 코딩하여 보시오.     \n",
    "그리고, $a=[8,5,3,2,9,1,4,7,6]$ 에 구현한 Insertion Sort 알고리즘을 적용해보시오.   \n",
    "<br/><br/>\n",
    "※ 풀이조건\n",
    "<ol>\n",
    "    <li>$a=[8,5,3,2,9,1,4,7,6]$ 리스트를 만들어 print 함수를 통해 출력하시오.</li>\n",
    "    <li>재귀 함수를 만들어 위 리스트를 정렬하고, 정렬한 결과를 print 함수를 통해 출력하시오.</li>\n",
    "</ol>"
   ]
  },
  {
   "cell_type": "markdown",
   "metadata": {},
   "source": [
    "#### 반복적(iterative) 방법으로 insertion sort 구현"
   ]
  },
  {
   "cell_type": "code",
   "execution_count": 5,
   "metadata": {},
   "outputs": [],
   "source": [
    "def ins_sort(seq):\n",
    "    for i in range(1,len(seq)):                 # 0..i-1 sorted so far\n",
    "        j = i                                   # Start \"walking\" down\n",
    "        while j > 0 and seq[j-1] > seq[j]:      # Look for OK spot\n",
    "            seq[j-1], seq[j] = seq[j], seq[j-1] # Keep moving seq[j] down\n",
    "            j -= 1                              # Decrement j\n",
    "    return seq     "
   ]
  },
  {
   "cell_type": "code",
   "execution_count": 6,
   "metadata": {},
   "outputs": [
    {
     "data": {
      "text/plain": [
       "[1, 2, 3, 4, 5, 6, 7, 8, 9]"
      ]
     },
     "execution_count": 6,
     "metadata": {},
     "output_type": "execute_result"
    }
   ],
   "source": [
    "a=[8,5,3,2,9,1,4,7,6]\n",
    "ins_sort(a)"
   ]
  },
  {
   "cell_type": "markdown",
   "metadata": {},
   "source": [
    "#### 재귀적 구현 1"
   ]
  },
  {
   "cell_type": "code",
   "execution_count": 7,
   "metadata": {},
   "outputs": [],
   "source": [
    "def ins_sort_rec(seq, i):\n",
    "    if i==1: return                             # Base case -- do nothing\n",
    "    ins_sort_rec(seq, i-1)                      # Sort 0..i-1\n",
    "    j = i-1                                       # Start \"walking\" down\n",
    "    while j > 0 and seq[j-1] > seq[j]:          # Look for OK spot\n",
    "        seq[j-1], seq[j] = seq[j], seq[j-1]     # Keep moving seq[j] down\n",
    "        j -= 1                                  # Decrement j\n",
    "    return seq    "
   ]
  },
  {
   "cell_type": "code",
   "execution_count": 8,
   "metadata": {},
   "outputs": [
    {
     "data": {
      "text/plain": [
       "[1, 2, 3, 4, 5, 6, 7, 8, 9]"
      ]
     },
     "execution_count": 8,
     "metadata": {},
     "output_type": "execute_result"
    }
   ],
   "source": [
    "b=[8,5,3,2,9,1,4,7,6]\n",
    "ins_sort_rec(b,9)"
   ]
  },
  {
   "cell_type": "markdown",
   "metadata": {},
   "source": [
    "#### 재귀적 구현 2"
   ]
  },
  {
   "cell_type": "code",
   "execution_count": 9,
   "metadata": {},
   "outputs": [],
   "source": [
    "# change the position between x[i] and x[j] until that x[j] have right position.\n",
    "def change(x, i, j) :\n",
    "    if x[i] > x[j] and i >= 0:\n",
    "        x[i], x[j] = x[j], x[i]\n",
    "        return change(x, i-1, j-1)\n",
    "    else :\n",
    "        return x\n",
    "\n",
    "def insr(x, i) :\n",
    "    if i == len(x) :\n",
    "        return x\n",
    "    else :\n",
    "        return insr(change(x, i-1, i), i+1)"
   ]
  },
  {
   "cell_type": "code",
   "execution_count": 10,
   "metadata": {},
   "outputs": [
    {
     "data": {
      "text/plain": [
       "[1, 2, 3, 4, 5, 6, 7, 8, 9]"
      ]
     },
     "execution_count": 10,
     "metadata": {},
     "output_type": "execute_result"
    }
   ],
   "source": [
    "a=[8,5,3,2,9,1,4,7,6]\n",
    "insr(a, 1)"
   ]
  },
  {
   "cell_type": "markdown",
   "metadata": {},
   "source": [
    "### 실습 3. Quick Sort\n",
    "#### 다음은 효율적인 Quick Sort 에 대한 설명이다. Quick Sort 를 재귀적 방법으로 파이썬 알고리즘을 구하시오. (2점)\n",
    "\n",
    "#### Quick Sort 는 효율적인 알고리즘이다. 'a1, a2,. . . , an ' 를 정렬하기 위해,  Quick Sort 알고리즘은 첫 번째 요소 a1을 가져 와서 두 개의 서브목록을 형성하는 것으로 시작한다. 첫번째 서브목록은 a1보다 작은 요소들을 포함하고 두번째 서브리스트는 a1보다 큰 요소들을 포함한다. 그런 다음 a1 은 첫번째 서브목록의 끝에 배치한다. 이 절차는 재귀적으로 반복됩니다. 즉, 모든 서브목록에 하나의 요소만이 포함될 때까지 각 서브목록에 대해.  정렬된 목록은 1개의 항목요소를 갖는 서브목록들을을  발생하는 순서대로  결합하여 얻는다.\n",
    "\n",
    "※ 풀이조건\n",
    "<ol>\n",
    "    <li>0 ~ 20까지, 30개의 정수로 이루어진 랜덤 리스트를 만들고 print 함수를 통해 출력한다.</li>\n",
    "    <li>quick sort를 함수를 만들어 위 리스트를 정렬하고, 정렬한 결과를 print 함수를 통해 출력한다.</li>\n",
    "</ol>"
   ]
  },
  {
   "cell_type": "markdown",
   "metadata": {},
   "source": [
    "#### 재귀적 구현 "
   ]
  },
  {
   "cell_type": "code",
   "execution_count": 11,
   "metadata": {},
   "outputs": [],
   "source": [
    "def Split_Two(X):\n",
    "    sub=[]\n",
    "    sup=[]\n",
    "    for n in range(1, len(X)):\n",
    "        if X[n]< X[0] :\n",
    "            sub.append(X[n])\n",
    "        else:\n",
    "            sup.append(X[n])\n",
    "    sub.append(X[0])\n",
    "    return sub, sup"
   ]
  },
  {
   "cell_type": "code",
   "execution_count": 12,
   "metadata": {},
   "outputs": [
    {
     "name": "stdout",
     "output_type": "stream",
     "text": [
      "[11, 13, 5, 0, 7, 18, 7, 5, 5, 20, 6, 1, 3, 5, 10, 0, 10, 20, 18, 2, 9, 16, 6, 14, 0, 13, 15, 19, 9, 2]\n",
      "([5, 0, 7, 7, 5, 5, 6, 1, 3, 5, 10, 0, 10, 2, 9, 6, 0, 9, 2, 11], [13, 18, 20, 20, 18, 16, 14, 13, 15, 19])\n"
     ]
    }
   ],
   "source": [
    "from random import *\n",
    "X=choices(list(range(0,21)), k=30)\n",
    "print(X)\n",
    "print(Split_Two(X))"
   ]
  },
  {
   "cell_type": "code",
   "execution_count": 13,
   "metadata": {},
   "outputs": [],
   "source": [
    "def QuickSort(X):\n",
    "    if len(X)==0:\n",
    "        return []\n",
    "    if len(X)==1:\n",
    "        return X\n",
    "    Left, Right = Split_Two(X)\n",
    "    return QuickSort(Left)+QuickSort(Right)"
   ]
  },
  {
   "cell_type": "code",
   "execution_count": 14,
   "metadata": {},
   "outputs": [
    {
     "name": "stdout",
     "output_type": "stream",
     "text": [
      "[15, 3, 6, 13, 8, 13, 6, 11, 11, 19, 2, 11, 18, 13, 8, 18, 6, 2, 4, 2, 15, 18, 13, 19, 8, 15, 18, 6, 6, 14]\n",
      "[2, 2, 2, 3, 4, 6, 6, 6, 6, 6, 8, 8, 8, 11, 11, 11, 13, 13, 13, 13, 14, 15, 15, 15, 18, 18, 18, 18, 19, 19]\n"
     ]
    }
   ],
   "source": [
    "from random import *\n",
    "C=choices(list(range(0,21)), k=30)\n",
    "print(C)\n",
    "print(QuickSort(C))"
   ]
  }
 ],
 "metadata": {
  "kernelspec": {
   "display_name": "Python 3.9.12 ('base')",
   "language": "python",
   "name": "python3"
  },
  "language_info": {
   "codemirror_mode": {
    "name": "ipython",
    "version": 3
   },
   "file_extension": ".py",
   "mimetype": "text/x-python",
   "name": "python",
   "nbconvert_exporter": "python",
   "pygments_lexer": "ipython3",
   "version": "3.9.12"
  },
  "orig_nbformat": 4,
  "vscode": {
   "interpreter": {
    "hash": "d53987ecb595d47b858fb20818fc57333593e153a0e3e1d0f7ed0487b17d3604"
   }
  }
 },
 "nbformat": 4,
 "nbformat_minor": 2
}
