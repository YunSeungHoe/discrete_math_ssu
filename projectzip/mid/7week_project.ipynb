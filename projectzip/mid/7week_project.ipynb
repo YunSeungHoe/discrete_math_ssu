{
 "cells": [
  {
   "cell_type": "markdown",
   "metadata": {},
   "source": [
    "\n",
    "### 실습 \n"
   ]
  },
  {
   "cell_type": "markdown",
   "metadata": {},
   "source": [
    "### 실습 1.  우표를 파는 벤딩머신이 1 달러 코인, 1달러 지폐, 5달러 지폐만을 받아드린다고 한다. \n",
    "#### 1) 1달러 코인과 1달러 지폐를 벤딩머신에 삽입하는 순서가  차이가 있다고 할 때,  $n$ 달러를 벤딩머신에 삽입하는 경우의 수를 계산하는 재귀식(점화식) 을 구하시오.  ( $n$ 달러를 벤딩머신에 삽입하는 경우수를 $A(n) $  이라 하고, A(n) 의 재귀식을 구함)."
   ]
  },
  {
   "cell_type": "markdown",
   "metadata": {},
   "source": [
    "&nbsp; <sub>n</sub>C<sub>r</sub> = $\\frac{n! }{r!(n-r)!} $ 입니다. <br>\n",
    "&nbsp; <sub>n</sub>H<sub>r</sub> = <sub>n+r-1</sub>C<sub>r</sub> = $\\frac{(n+r-1)! }{r!((n+r-1)-r)!} $ 입니다.<br>\n",
    "1달러 코인과 1달러 지폐를 이용해서 n 달러 벤딩머신에 삽입하는 경우의 수는 중복을 허용하기 때문에 2<sup>n</sup> 입니다.<br>\n",
    "1달러 코인과 1달러 지폐와 5달러 지폐를 순서가 차이가 있다고 할때의 경우는 다음과 같습니다.<br>\n",
    "$A(1) =$ 2<sup>1</sup><sub>1</sub>C<sub>0</sub><br>\n",
    "$A(2) =$ 2<sup>2</sup><sub>2</sub>C<sub>0</sub><br>\n",
    "$A(3) =$ 2<sup>3</sup><sub>3</sub>C<sub>0</sub><br>\n",
    "$A(4) =$ 2<sup>4</sup><sub>4</sub>C<sub>0</sub><br>\n",
    "$A(5) =$ 2<sup>5</sup><sub>5</sub>C<sub>0</sub> + 2<sup>0</sup><sub>1</sub>C<sub>1</sub><br>\n",
    "$A(6) =$ 2<sup>6</sup><sub>6</sub>C<sub>0</sub> + 2<sup>1</sup><sub>2</sub>C<sub>1</sub><br>\n",
    "$A(7) =$ 2<sup>7</sup><sub>7</sub>C<sub>0</sub> + 2<sup>2</sup><sub>3</sub>C<sub>1</sub><br>\n",
    "$A(8) =$ 2<sup>8</sup><sub>8</sub>C<sub>0</sub> + 2<sup>3</sup><sub>4</sub>C<sub>1</sub><br>\n",
    "$A(9) =$ 2<sup>9</sup><sub>9</sub>C<sub>0</sub> + 2<sup>4</sup><sub>5</sub>C<sub>1</sub><br>\n",
    "$A(10) =$ 2<sup>10</sup><sub>10</sub>C<sub>0</sub> + 2<sup>5</sup><sub>6</sub>C<sub>1</sub> + 2<sup>0</sup><sub>2</sub>C<sub>2</sub><br>\n",
    "$A(n) =$ 2<sup>n</sup><sub>n</sub>C<sub>0</sub> + 2<sup>n-5</sup><sub>n-4</sub>C<sub>1</sub> + 2<sup>n-10</sup><sub>n-8</sub>C<sub>2</sub>$...$2<sup>n-5*x</sup><sub>n-4*x</sub>C<sub>x</sub><br>\n",
    "즉, <br>\n",
    "n = 1 일때 A(1) = 2<br>\n",
    "n = 2 일때 A(2) = 4<br>\n",
    "n = 3 일때 A(3) = 8<br>\n",
    "n = 4 일때 A(4) = 16<br>\n",
    "n = 5 일때 A(5) = 32<br>\n",
    "n > 6 일때 A(n) = 2*A(n-1) + A(n-5)<br>\n"
   ]
  },
  {
   "cell_type": "markdown",
   "metadata": {},
   "source": [
    "#### 2) 초기 조건들은 무엇인가?   (즉, $A(1), A(2), A(3), A(4), A(5) $  값을 구함,"
   ]
  },
  {
   "cell_type": "markdown",
   "metadata": {},
   "source": [
    "$A(1) =$ 2<sup>1</sup><sub>1</sub>C<sub>0</sub> = 2<br>\n",
    "$A(2) =$ 2<sup>2</sup><sub>2</sub>C<sub>0</sub> = 4<br>\n",
    "$A(3) =$ 2<sup>3</sup><sub>3</sub>C<sub>0</sub> = 8<br>\n",
    "$A(4) =$ 2<sup>4</sup><sub>4</sub>C<sub>0</sub> = 16<br>\n",
    "$A(5) =$ 2<sup>5</sup><sub>5</sub>C<sub>0</sub> + 2<sup>0</sup><sub>1</sub>C<sub>1</sub> = 33<br>"
   ]
  },
  {
   "cell_type": "markdown",
   "metadata": {},
   "source": [
    "#### 3) 10달러를 삽입하는 방법에는 몇가지 방법이 있는가?  \n"
   ]
  },
  {
   "cell_type": "markdown",
   "metadata": {},
   "source": [
    "$A(10) =$ 2<sup>10</sup><sub>10</sub>C<sub>0</sub> + 2<sup>5</sup><sub>6</sub>C<sub>1</sub> + 2<sup>0</sup><sub>2</sub>C<sub>2</sub> =  1024 + 192 + 1 = 1217<br>\n",
    "A(10) = 2*A(9) + A(5) $=$ 2*(2*A(8) + A(4)) + A(5) $=$ 2*(2*(2*A(7) + A(3)) + A(4)) + A(5) $=$ 2*(2*(2*(2*A(6) + A(2)) + A(3)) + A(4)) + A(5) $=$<br>\n",
    "= 2*(2*(2*(2*(2*A(5) + A(1)) + A(2)) + A(3)) + A(4)) + A(5) = 2*(2*(2*(2*(2*33 + 2) + 4) + 8) + 16) + 33 = 2*(2*(2*(2*(68) + 4) + 8) + 16) + 33  <br>\n",
    "= 2*(2*(2*(140) + 8) + 16) + 33 = 2*(2*(288) + 16) + 33 = 2*(592) + 33 = 1184 + 33 = 1217  <br>\n",
    "총 1217 가지."
   ]
  },
  {
   "cell_type": "markdown",
   "metadata": {},
   "source": [
    "### 실습 2 . 상기 실습1 에서 구한 점화식(recurrence relation)을 이용하여 $n$ 달러를 벤딩머신에 삽입하는 경우의 수를 구하는 재귀 알고리즘을 파이썬 코딩하시오."
   ]
  },
  {
   "cell_type": "code",
   "execution_count": 5,
   "metadata": {},
   "outputs": [],
   "source": [
    "def func(n):\n",
    "    if n == 1:\n",
    "        return 2\n",
    "    elif n == 2:\n",
    "        return 4\n",
    "    elif n == 3:\n",
    "        return 8\n",
    "    elif n == 4:\n",
    "        return 16\n",
    "    elif n == 5:\n",
    "        return 33\n",
    "    return 2*func(n-1) + func(n-5)"
   ]
  },
  {
   "cell_type": "code",
   "execution_count": 7,
   "metadata": {},
   "outputs": [
    {
     "name": "stdout",
     "output_type": "stream",
     "text": [
      "n = 1일때, A(1) = 2\n",
      "n = 2일때, A(2) = 4\n",
      "n = 3일때, A(3) = 8\n",
      "n = 4일때, A(4) = 16\n",
      "n = 5일때, A(5) = 33\n",
      "n = 10일때, A(10) = 1217\n",
      "n = 15일때, A(15) = 44705\n",
      "n = 20일때, A(20) = 1642241\n",
      "n = 25일때, A(25) = 60327873\n"
     ]
    }
   ],
   "source": [
    "print(\"n = {}일때, A({}) = {}\".format(1, 1, func(1)))\n",
    "print(\"n = {}일때, A({}) = {}\".format(2, 2, func(2)))\n",
    "print(\"n = {}일때, A({}) = {}\".format(3, 3, func(3)))\n",
    "print(\"n = {}일때, A({}) = {}\".format(4, 4, func(4)))\n",
    "print(\"n = {}일때, A({}) = {}\".format(5, 5, func(5)))\n",
    "print(\"n = {}일때, A({}) = {}\".format(10, 10, func(10)))\n",
    "print(\"n = {}일때, A({}) = {}\".format(15, 15, func(15)))\n",
    "print(\"n = {}일때, A({}) = {}\".format(20, 20, func(20)))\n",
    "print(\"n = {}일때, A({}) = {}\".format(25, 25, func(25)))\n"
   ]
  }
 ],
 "metadata": {
  "kernelspec": {
   "display_name": "Python 3.9.12 ('base')",
   "language": "python",
   "name": "python3"
  },
  "language_info": {
   "codemirror_mode": {
    "name": "ipython",
    "version": 3
   },
   "file_extension": ".py",
   "mimetype": "text/x-python",
   "name": "python",
   "nbconvert_exporter": "python",
   "pygments_lexer": "ipython3",
   "version": "3.9.12"
  },
  "orig_nbformat": 4,
  "vscode": {
   "interpreter": {
    "hash": "d53987ecb595d47b858fb20818fc57333593e153a0e3e1d0f7ed0487b17d3604"
   }
  }
 },
 "nbformat": 4,
 "nbformat_minor": 2
}
