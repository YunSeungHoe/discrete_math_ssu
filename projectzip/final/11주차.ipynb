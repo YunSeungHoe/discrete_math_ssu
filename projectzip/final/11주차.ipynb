{
 "cells": [
  {
   "cell_type": "markdown",
   "metadata": {},
   "source": [
    "<br/><br/><br/><br/>\n",
    "<h1 style='text-align:center;'>실습 문제"
   ]
  },
  {
   "cell_type": "markdown",
   "metadata": {},
   "source": [
    "### 실습 1. \n",
    "#### 너비우선 탐색 방법을 활용하여 주어진 그래프에서 주어진 시작 노드와 종단 노드간의  모든 경로와 그 경로의 길이를 구하는 파이썬 함수를 코딩하여 보고, 이를 [그림 9]에 적용하여 보시오. \n",
    "![Altext](img/fig12-4.png)\n",
    "#### 주어진 그래프 표현은 인접목록 표현으로 주어진다고 가정함. 즉, [그림 9]의 그래프 의 인접목록  표현은 다음과 같다. \n",
    "~~~python\n",
    "graph_w = {'S': [['B', 175], ['L', 125],['N', 320]],\n",
    "             'B': [['F', 245], ['L', 115], ['N', 145], ['S', 175]],\n",
    "             'L': [['B', 115], ['E', 645],['F', 220],['N', 260],['S', 125]],\n",
    "             'N': [['B', 145], ['F', 385],['L', 260],['S', 320]],\n",
    "             'E': [['F', 450],['L', 645]],\n",
    "             'F': [['B', 245], ['E', 450],['N', 385]]} \n",
    "~~~"
   ]
  },
  {
   "cell_type": "code",
   "execution_count": 2,
   "metadata": {},
   "outputs": [],
   "source": [
    "graph_w =    {'S': [['B', 175], ['L', 125],['N', 320]],\n",
    "             'B': [['F', 245], ['L', 115], ['N', 145], ['S', 175]],\n",
    "             'L': [['B', 115], ['E', 645],['F', 220],['N', 260],['S', 125]],\n",
    "             'N': [['B', 145], ['F', 385],['L', 260],['S', 320]],\n",
    "             'E': [['F', 450],['L', 645]],\n",
    "             'F': [['B', 245], ['E', 450],['N', 385]]} "
   ]
  },
  {
   "cell_type": "code",
   "execution_count": 3,
   "metadata": {},
   "outputs": [],
   "source": [
    "import copy\n",
    "def find_all_paths_with_distance_by_bfs(graph, start, end, path=[]):     \n",
    "    \n",
    "    if not start in graph:\n",
    "            return None\n",
    "        \n",
    "    if path==[]:\n",
    "        path=[0, [start]]  \n",
    "     \n",
    "    for w in graph[path[1][-1]]: #(2)Path 갱신\n",
    "         if w[0]==start:\n",
    "            add_distance=w[1]      \n",
    "            path[0]+=add_distance\n",
    "            path[1].append(start)      \n",
    "            break\n",
    "   \n",
    "        \n",
    "    if start == end:\n",
    "        \n",
    "        return path\n",
    "    \n",
    "    node_queue=[start]\n",
    "    path_queue=[path]\n",
    "    all_paths=[]\n",
    "\n",
    "    while True:        \n",
    "        if path_queue: path=path_queue.pop(0)\n",
    "        else: return all_paths    \n",
    "       # new_path=path        \n",
    "        v=path[1][-1]            \n",
    "        for w in graph[v]:        \n",
    "            if w[0] not in path[1]:       \n",
    "                path[1].append(w[0])\n",
    "                path[0]+=w[1]\n",
    "                new_path= copy.deepcopy(path)\n",
    "                if w[0]==end: all_paths.append(new_path)\n",
    "                else:                    \n",
    "                    path_queue.append(new_path)                                             \n",
    "                if path:                \n",
    "                    path[1].pop()\n",
    "                    path[0]-=w[1]\n",
    "    return all_paths"
   ]
  },
  {
   "cell_type": "code",
   "execution_count": 4,
   "metadata": {},
   "outputs": [
    {
     "data": {
      "text/plain": [
       "[[420, ['S', 'B', 'F']],\n",
       " [345, ['S', 'L', 'F']],\n",
       " [705, ['S', 'N', 'F']],\n",
       " [510, ['S', 'B', 'L', 'F']],\n",
       " [705, ['S', 'B', 'N', 'F']],\n",
       " [485, ['S', 'L', 'B', 'F']],\n",
       " [1220, ['S', 'L', 'E', 'F']],\n",
       " [770, ['S', 'L', 'N', 'F']],\n",
       " [710, ['S', 'N', 'B', 'F']],\n",
       " [800, ['S', 'N', 'L', 'F']],\n",
       " [1385, ['S', 'B', 'L', 'E', 'F']],\n",
       " [935, ['S', 'B', 'L', 'N', 'F']],\n",
       " [800, ['S', 'B', 'N', 'L', 'F']],\n",
       " [770, ['S', 'L', 'B', 'N', 'F']],\n",
       " [775, ['S', 'L', 'N', 'B', 'F']],\n",
       " [800, ['S', 'N', 'B', 'L', 'F']],\n",
       " [940, ['S', 'N', 'L', 'B', 'F']],\n",
       " [1675, ['S', 'N', 'L', 'E', 'F']],\n",
       " [1675, ['S', 'B', 'N', 'L', 'E', 'F']],\n",
       " [1675, ['S', 'N', 'B', 'L', 'E', 'F']]]"
      ]
     },
     "execution_count": 4,
     "metadata": {},
     "output_type": "execute_result"
    }
   ],
   "source": [
    "find_all_paths_with_distance_by_bfs(graph_w, 'S', 'F')"
   ]
  },
  {
   "cell_type": "markdown",
   "metadata": {},
   "source": [
    "### 실습 2. \n",
    "#### 너비우선 탐색 방법을 활용하여 주어진 그래프에서 주어진 시작 노드와 종단 노드간의최단 경로를 찾는 파이썬 함수를 코딩하여 보고, 이를 상기 [그림 9]에 적용하여 보시오. "
   ]
  },
  {
   "cell_type": "code",
   "execution_count": 5,
   "metadata": {},
   "outputs": [],
   "source": [
    "def find_shortest_path_by_bfs2(graph, start, end):     \n",
    "    path_queue = [[0, [start]]]\n",
    "    paths = list()\n",
    "    shortest_distance = float(\"inf\")\n",
    "    shortest_path = None\n",
    "    if not start in graph:\n",
    "            return print(\"start node is not a graph node\")\n",
    "    if start == end:\n",
    "        return [0, start]\n",
    "\n",
    "    while path_queue:\n",
    "        path=path_queue.pop(0) #1st_stage - path=[0, [start='S']] ; 1st_stage - path=[175, ['S', 'B']]\n",
    "       # print(\"path=\", path)\n",
    "        for w in graph[path[1][-1]]: #w 는 'S' 의 인접노드로  ['B', 175], ['L', 125],['N', 320] 등임 \n",
    "            if end == w[0] :\n",
    "                #print(\"path[1][-1]={}, w[0]={}\".format(path[1][-1], w[0])) \n",
    "                if path[0]+w[1] < shortest_distance:                      \n",
    "                    shortest_path=path[1]+[w[0]]\n",
    "                    shortest_distance=path[0]+w[1]  \n",
    "                #    print(\"1shortest_path={}, 1shortest_istance={}\".format(shortest_path, shortest_distance))\n",
    "                    continue\n",
    "            if w[0] not in path[1]: \n",
    "                path_queue.append([path[0]+w[1], path[1]+[w[0]]]) #path[0]+w[1]= 175, path[1]+[[w[0]]=['S']+['B']=['S', 'B'] \n",
    "           #     print(\"path_queue=\", path_queue)\n",
    "    return shortest_distance, shortest_path"
   ]
  },
  {
   "cell_type": "code",
   "execution_count": 6,
   "metadata": {},
   "outputs": [
    {
     "data": {
      "text/plain": [
       "(345, ['S', 'L', 'F'])"
      ]
     },
     "execution_count": 6,
     "metadata": {},
     "output_type": "execute_result"
    }
   ],
   "source": [
    "find_shortest_path_by_bfs2(graph_w, 'S', 'F')"
   ]
  },
  {
   "cell_type": "code",
   "execution_count": 7,
   "metadata": {},
   "outputs": [
    {
     "data": {
      "text/plain": [
       "(770, ['E', 'L', 'S'])"
      ]
     },
     "execution_count": 7,
     "metadata": {},
     "output_type": "execute_result"
    }
   ],
   "source": [
    "find_shortest_path_by_bfs2(graph_w, 'E', 'S')"
   ]
  },
  {
   "cell_type": "code",
   "execution_count": 8,
   "metadata": {},
   "outputs": [],
   "source": [
    "graph_w1 = { 'B': [['F', 245], ['L', 115], ['N', 145], ['S', 175]],             \n",
    "             'E': [['F', 450],['L', 645]],\n",
    "             'F': [['B', 245], ['E', 450],['N', 385]],\n",
    "             'L': [['B', 115], ['E', 645],['F', 220],['N', 260],['S', 125]],\n",
    "             'N': [['B', 145], ['F', 385],['L', 260],['S', 320]],\n",
    "             'S': [['B', 175], ['L', 125],['N', 320]]} "
   ]
  },
  {
   "cell_type": "code",
   "execution_count": 9,
   "metadata": {},
   "outputs": [
    {
     "data": {
      "text/plain": [
       "(345, ['S', 'L', 'F'])"
      ]
     },
     "execution_count": 9,
     "metadata": {},
     "output_type": "execute_result"
    }
   ],
   "source": [
    "find_shortest_path_by_bfs2(graph_w1, 'S', 'F')"
   ]
  },
  {
   "cell_type": "code",
   "execution_count": 10,
   "metadata": {},
   "outputs": [
    {
     "data": {
      "text/plain": [
       "(770, ['E', 'L', 'S'])"
      ]
     },
     "execution_count": 10,
     "metadata": {},
     "output_type": "execute_result"
    }
   ],
   "source": [
    "find_shortest_path_by_bfs2(graph_w1, 'E', 'S')"
   ]
  },
  {
   "cell_type": "markdown",
   "metadata": {},
   "source": [
    "### 실습 3.\n",
    "#### 깊이 우선 탐색 방법을 활용하여 주어진 그래프에서 주어진 시작 노드와 종단 노드간의최단 경로를 찾는 파이썬 함수를 코딩하여 보고, 이를 상기  [그림 9]에 적용하여 보시오. "
   ]
  },
  {
   "cell_type": "code",
   "execution_count": 11,
   "metadata": {},
   "outputs": [],
   "source": [
    "import copy\n",
    "def find_shortest_path_by_dfs(graph, start, end, path=[]):\n",
    "    if not start in graph : # (1) 시작노드가  그래프 노드 인지 점검\n",
    "            return print(\"start node is not a graph node\")    \n",
    "    shortest_distance = float(\"inf\")\n",
    "    shortest_path = None\n",
    "    add_distance=0\n",
    "    if path==[]:\n",
    "        path=[0, [start]]  \n",
    "     \n",
    "    for w in graph[path[1][-1]]: #(2)Path 갱신\n",
    "         if w[0]==start:\n",
    "            add_distance=w[1]      \n",
    "            path[0]+=add_distance\n",
    "            path[1].append(start)      \n",
    "            break\n",
    "   \n",
    "    if start == end:        # (3)종단노드까지의 경로 찾으면 리턴\n",
    "        print(\"path={}\".format(path))   \n",
    "        return path[0], path[1]\n",
    " \n",
    "    for node in graph[start]: # (4) 시작 노드의 인접 노드 탐색 \n",
    "         #   print(\"start={}, graph[start]={}, node={}\".format(start, graph[start], node))\n",
    "            if node[0] not in path[1]:\n",
    "                A_path=copy.deepcopy(path)\n",
    "                newpath_distance, newpath = find_shortest_path_by_dfs(graph, node[0], end, A_path) # (6) newpaths 는 해당 노드(node)를 시작로 한 모든 경로들의 리스트\n",
    "           #     print(\"newpath={}\".format(newpath))\n",
    "                if newpath_distance < shortest_distance:\n",
    "                    shortest_distance=newpath_distance\n",
    "                    shortest_path=copy.deepcopy(newpath)\n",
    "           #        print(\"shortest_distance={}, shortest_path={}\".format(shortest_distance, shortest_path))\n",
    "                if len(path[1])>1 and path[1][-1]==end :  #(5) backtracking     \n",
    "                    A_path[1].pop()\n",
    "                    A_path[0]-=add_distance \n",
    "         \n",
    "         \n",
    "    return shortest_distance, shortest_path"
   ]
  },
  {
   "cell_type": "code",
   "execution_count": 12,
   "metadata": {},
   "outputs": [],
   "source": [
    "graph_w =    {'S': [['B', 175], ['L', 125],['N', 320]],\n",
    "             'B': [['F', 245], ['L', 115], ['N', 145], ['S', 175]],\n",
    "             'L': [['B', 115], ['E', 645],['F', 220],['N', 260],['S', 125]],\n",
    "             'N': [['B', 145], ['F', 385],['L', 260],['S', 320]],\n",
    "             'E': [['F', 450],['L', 645]],\n",
    "             'F': [['B', 245], ['E', 450],['N', 385]]} "
   ]
  },
  {
   "cell_type": "code",
   "execution_count": 13,
   "metadata": {},
   "outputs": [
    {
     "name": "stdout",
     "output_type": "stream",
     "text": [
      "path=[420, ['S', 'B', 'F']]\n",
      "path=[1385, ['S', 'B', 'L', 'E', 'F']]\n",
      "path=[510, ['S', 'B', 'L', 'F']]\n",
      "path=[935, ['S', 'B', 'L', 'N', 'F']]\n",
      "path=[705, ['S', 'B', 'N', 'F']]\n",
      "path=[1675, ['S', 'B', 'N', 'L', 'E', 'F']]\n",
      "path=[800, ['S', 'B', 'N', 'L', 'F']]\n",
      "path=[485, ['S', 'L', 'B', 'F']]\n",
      "path=[770, ['S', 'L', 'B', 'N', 'F']]\n",
      "path=[1220, ['S', 'L', 'E', 'F']]\n",
      "path=[345, ['S', 'L', 'F']]\n",
      "path=[775, ['S', 'L', 'N', 'B', 'F']]\n",
      "path=[770, ['S', 'L', 'N', 'F']]\n",
      "path=[710, ['S', 'N', 'B', 'F']]\n",
      "path=[1675, ['S', 'N', 'B', 'L', 'E', 'F']]\n",
      "path=[800, ['S', 'N', 'B', 'L', 'F']]\n",
      "path=[705, ['S', 'N', 'F']]\n",
      "path=[940, ['S', 'N', 'L', 'B', 'F']]\n",
      "path=[1675, ['S', 'N', 'L', 'E', 'F']]\n",
      "path=[800, ['S', 'N', 'L', 'F']]\n"
     ]
    },
    {
     "data": {
      "text/plain": [
       "(345, ['S', 'L', 'F'])"
      ]
     },
     "execution_count": 13,
     "metadata": {},
     "output_type": "execute_result"
    }
   ],
   "source": [
    "find_shortest_path_by_dfs(graph_w, 'S', 'F')"
   ]
  },
  {
   "cell_type": "code",
   "execution_count": 14,
   "metadata": {},
   "outputs": [
    {
     "name": "stdout",
     "output_type": "stream",
     "text": [
      "path=[1390, ['E', 'F', 'B', 'L', 'N', 'S']]\n",
      "path=[935, ['E', 'F', 'B', 'L', 'S']]\n",
      "path=[1225, ['E', 'F', 'B', 'N', 'L', 'S']]\n",
      "path=[1160, ['E', 'F', 'B', 'N', 'S']]\n",
      "path=[870, ['E', 'F', 'B', 'S']]\n",
      "path=[1220, ['E', 'F', 'N', 'B', 'L', 'S']]\n",
      "path=[1155, ['E', 'F', 'N', 'B', 'S']]\n",
      "path=[1385, ['E', 'F', 'N', 'L', 'B', 'S']]\n",
      "path=[1220, ['E', 'F', 'N', 'L', 'S']]\n",
      "path=[1155, ['E', 'F', 'N', 'S']]\n",
      "path=[1710, ['E', 'L', 'B', 'F', 'N', 'S']]\n",
      "path=[1225, ['E', 'L', 'B', 'N', 'S']]\n",
      "path=[935, ['E', 'L', 'B', 'S']]\n",
      "path=[1575, ['E', 'L', 'F', 'B', 'N', 'S']]\n",
      "path=[1285, ['E', 'L', 'F', 'B', 'S']]\n",
      "path=[1570, ['E', 'L', 'F', 'N', 'B', 'S']]\n",
      "path=[1570, ['E', 'L', 'F', 'N', 'S']]\n",
      "path=[1225, ['E', 'L', 'N', 'B', 'S']]\n",
      "path=[1710, ['E', 'L', 'N', 'F', 'B', 'S']]\n",
      "path=[1225, ['E', 'L', 'N', 'S']]\n",
      "path=[770, ['E', 'L', 'S']]\n"
     ]
    },
    {
     "data": {
      "text/plain": [
       "(770, ['E', 'L', 'S'])"
      ]
     },
     "execution_count": 14,
     "metadata": {},
     "output_type": "execute_result"
    }
   ],
   "source": [
    "find_shortest_path_by_dfs(graph_w, 'E', 'S')"
   ]
  }
 ],
 "metadata": {
  "kernelspec": {
   "display_name": "Python 3.9.12 ('base')",
   "language": "python",
   "name": "python3"
  },
  "language_info": {
   "codemirror_mode": {
    "name": "ipython",
    "version": 3
   },
   "file_extension": ".py",
   "mimetype": "text/x-python",
   "name": "python",
   "nbconvert_exporter": "python",
   "pygments_lexer": "ipython3",
   "version": "3.9.12"
  },
  "vscode": {
   "interpreter": {
    "hash": "d53987ecb595d47b858fb20818fc57333593e153a0e3e1d0f7ed0487b17d3604"
   }
  }
 },
 "nbformat": 4,
 "nbformat_minor": 2
}
