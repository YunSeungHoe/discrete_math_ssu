{
 "cells": [
  {
   "cell_type": "markdown",
   "metadata": {},
   "source": [
    "## 2.1 Set in Python\n",
    "\n",
    "#### 집합은 immutable 값을 갖는 요소(객체)들의 모임입니다. 집합에 포함된 요소는 원소(element)라 하며 중복으로 포함될 수없으며 원소들간의 순서는 없습니다.   \n",
    "#### 컴퓨터에서는 숫자, 문자, 스트링, 함수, 클래스 객체 등 많은 entity 들을 통상적으로 객체라고 지칭합니다. 이러한 다양한 객체들이 모든 집합의 원소가 될 수있습니다.   \n",
    "#### 기본적으로 집합은 대수적 구조는 가정되어 있지 않은 순수한 요소(객체)들의 모임입니다. 따라서, 집합의 원소간의 연산은 따로 정의되지 않습니다.    \n",
    "#### 집합은 다른 모든 객체 모임 구조의 기본이 됩니다. 즉, 튜플은 순서가 매겨져 있는 유한 개의 순서쌍 집합이고, dictionary 는 원소가 (key, value) 순서쌍으로 구성된 집합입니다. 리스트는 순서가 매겨져 있는 원소들이 순서대로 정리되는 집합으로 간주됩니다.  한편 집합 원소간의 대수적 연산(예; 원소간 더하기 연산 및 스칼라 곱하기 등)이 정의되고, 이들 연산에 대해 닫혀있으며, 더하기 연산에 대한 항등원, 역원, 스칼라 곱하기 연산에 대한 항등원 등이 정의되는 대수적 구조가 부가되는 집합을 벡터공간(Vector space)이라 합니다. 벡터공간에 대해서는 선형대수에서 배우게 되는 데, 이 벡터공간도 대수적 구조가 추가적으로 정의된 집합입니다.    \n",
    "    \n",
    "#### 집합은 결국 어떤 객체가 집합에 속하는 지? 집합의 원소 갯수는 몇개인지, 집합간의 포함관계는 어떠한 지 를 따질 때, 또는 시퀀스에서 중복을 제거하고자 할 때 사용됩니다. 또한, 컴퓨터로 풀어야 하는 중요한 문제 종류 가운데, 관계 (예; SNS 에서 친구 관계 등) 를 기술하고 따져야 하는 경우가 많이 있습니다. 이러한 관계를 논리적(수학적)으로 기술하는 데에 집합이 유용하게 사용됩니다.         \n",
    "\n",
    "#### 여기서는 파이썬에서 지원하는 집합 처리 구조와 이를 이용한 문제 풀이를 살펴 보기로 하겠습니다. "
   ]
  },
  {
   "cell_type": "markdown",
   "metadata": {},
   "source": [
    "### 2.1.1  Set 정의 (생성)  \n",
    "#### 파이썬에서의 집합은 \"{}\"  를 이용하거나, 'set()' 이라는 내장 함수를 사용하여 정의(생성)하는 데, 이 때 수학에서와 같이 집합은 원소들을 열거하거나, set comprehension 을 통해 집합 원소의 성질을 기술합니다.. "
   ]
  },
  {
   "cell_type": "code",
   "execution_count": 1,
   "metadata": {},
   "outputs": [],
   "source": [
    "set_A={1,2,3}\n",
    "set_B=set(['a', 'b', 'c', 'd'])\n",
    "set_P= { n for n in range(10) if n%2==1} #  { n │ 0 < n < 10 and n is odd }"
   ]
  },
  {
   "cell_type": "code",
   "execution_count": 2,
   "metadata": {},
   "outputs": [
    {
     "data": {
      "text/plain": [
       "{1, 3, 5, 7, 9}"
      ]
     },
     "execution_count": 2,
     "metadata": {},
     "output_type": "execute_result"
    }
   ],
   "source": [
    "set_P"
   ]
  },
  {
   "cell_type": "code",
   "execution_count": 3,
   "metadata": {},
   "outputs": [],
   "source": [
    "from sympy import *\n",
    "x = Symbol(\"x\")\n",
    "set_Q=set(solve(x**2 -5*x +6))  # { x │ x2 - 5x + 6 = 0 }"
   ]
  },
  {
   "cell_type": "code",
   "execution_count": 4,
   "metadata": {},
   "outputs": [
    {
     "data": {
      "text/plain": [
       "[2, 3]"
      ]
     },
     "execution_count": 4,
     "metadata": {},
     "output_type": "execute_result"
    }
   ],
   "source": [
    "solve(x**2 -5*x +6)"
   ]
  },
  {
   "cell_type": "code",
   "execution_count": 5,
   "metadata": {},
   "outputs": [
    {
     "data": {
      "text/plain": [
       "{2, 3}"
      ]
     },
     "execution_count": 5,
     "metadata": {},
     "output_type": "execute_result"
    }
   ],
   "source": [
    "set_Q"
   ]
  },
  {
   "cell_type": "code",
   "execution_count": 6,
   "metadata": {},
   "outputs": [
    {
     "data": {
      "text/plain": [
       "{1, 2, 3, 5}"
      ]
     },
     "execution_count": 6,
     "metadata": {},
     "output_type": "execute_result"
    }
   ],
   "source": [
    "A=[1,2,3,1,2,5]\n",
    "set(A) # 중복 제거 "
   ]
  },
  {
   "cell_type": "markdown",
   "metadata": {},
   "source": [
    "### 파이썬에서 집합의  원소 데이터 타입  \n",
    "#### 파이썬 집합에서 hashable  한 어떠한 종류의 데이터 타입도 원소로 가능합니다. 파이썬에서  Hasbale 데이터는 생명 주기 동안에 값이 변경되지 않는 값을 갖는 데이터 타입의 테이터를 말합니다. List 나 Set 데이터 타입의 데이터는 mutable한 (변경가능한)  데이터 타입이므로, hashable 한 데이터 타입이 아닙니다.  따라서,  집합의 원소로 허용되지 않습니다, "
   ]
  },
  {
   "cell_type": "code",
   "execution_count": 7,
   "metadata": {},
   "outputs": [
    {
     "data": {
      "text/plain": [
       "{1, 2, 'a', 'hello'}"
      ]
     },
     "execution_count": 7,
     "metadata": {},
     "output_type": "execute_result"
    }
   ],
   "source": [
    "set_D={ 1,2, 'a', 'hello' }\n",
    "set_D"
   ]
  },
  {
   "cell_type": "code",
   "execution_count": 8,
   "metadata": {},
   "outputs": [
    {
     "ename": "TypeError",
     "evalue": "unhashable type: 'set'",
     "output_type": "error",
     "traceback": [
      "\u001b[1;31m---------------------------------------------------------------------------\u001b[0m",
      "\u001b[1;31mTypeError\u001b[0m                                 Traceback (most recent call last)",
      "\u001b[1;32m~\\AppData\\Local\\Temp/ipykernel_4084/90083757.py\u001b[0m in \u001b[0;36m<module>\u001b[1;34m\u001b[0m\n\u001b[1;32m----> 1\u001b[1;33m \u001b[0mset_E\u001b[0m\u001b[1;33m=\u001b[0m\u001b[1;33m{\u001b[0m \u001b[1;36m1\u001b[0m\u001b[1;33m,\u001b[0m\u001b[1;36m2\u001b[0m\u001b[1;33m,\u001b[0m \u001b[1;33m{\u001b[0m\u001b[1;36m3\u001b[0m\u001b[1;33m,\u001b[0m\u001b[1;36m4\u001b[0m\u001b[1;33m}\u001b[0m \u001b[1;33m}\u001b[0m\u001b[1;33m\u001b[0m\u001b[1;33m\u001b[0m\u001b[0m\n\u001b[0m",
      "\u001b[1;31mTypeError\u001b[0m: unhashable type: 'set'"
     ]
    }
   ],
   "source": [
    "set_E={ 1,2, {3,4} }"
   ]
  },
  {
   "cell_type": "code",
   "execution_count": null,
   "metadata": {
    "scrolled": true
   },
   "outputs": [],
   "source": [
    "set_D={1,4,[5,6]}"
   ]
  },
  {
   "cell_type": "markdown",
   "metadata": {},
   "source": [
    "### 집합은 원소들의 컨테이너(container)로 ‘Iteration over set’ 허용 \n",
    "#### A Python set, like a static sequence or a stream, is an object that we can iterate over using a for-statement to do something with every member of the set.\n",
    "#### Any such object is called an iterable in Python terminology."
   ]
  },
  {
   "cell_type": "code",
   "execution_count": 9,
   "metadata": {},
   "outputs": [
    {
     "name": "stdout",
     "output_type": "stream",
     "text": [
      "London\n",
      "Vienna\n",
      "Paris\n",
      "Istanbul\n"
     ]
    }
   ],
   "source": [
    "cities = { \"London\", \"Paris\", \"Vienna\", \"Istanbul\" }\n",
    "for place in cities:\n",
    "    print(place)"
   ]
  },
  {
   "cell_type": "markdown",
   "metadata": {},
   "source": [
    "### 2.1.2 Set Operations\n",
    "#### 다음은 파이썬에서, 집합 연산 기호를 정리한 것입니다.   \n",
    "![Alt text](./set_operation_Python.jpg)"
   ]
  },
  {
   "cell_type": "code",
   "execution_count": 10,
   "metadata": {},
   "outputs": [
    {
     "data": {
      "text/plain": [
       "{1, 2, 3, 'a', 'b', 'c', 'd'}"
      ]
     },
     "execution_count": 10,
     "metadata": {},
     "output_type": "execute_result"
    }
   ],
   "source": [
    "set_A | set_B"
   ]
  },
  {
   "cell_type": "code",
   "execution_count": 11,
   "metadata": {},
   "outputs": [],
   "source": [
    "set_C={3,4,5}"
   ]
  },
  {
   "cell_type": "code",
   "execution_count": 12,
   "metadata": {},
   "outputs": [
    {
     "data": {
      "text/plain": [
       "{3}"
      ]
     },
     "execution_count": 12,
     "metadata": {},
     "output_type": "execute_result"
    }
   ],
   "source": [
    "set_A & set_C"
   ]
  },
  {
   "cell_type": "code",
   "execution_count": 13,
   "metadata": {},
   "outputs": [
    {
     "data": {
      "text/plain": [
       "{3, 4, 5}"
      ]
     },
     "execution_count": 13,
     "metadata": {},
     "output_type": "execute_result"
    }
   ],
   "source": [
    "set_C"
   ]
  },
  {
   "cell_type": "markdown",
   "metadata": {},
   "source": [
    "### Cardinality of Set"
   ]
  },
  {
   "cell_type": "code",
   "execution_count": 14,
   "metadata": {},
   "outputs": [
    {
     "data": {
      "text/plain": [
       "3"
      ]
     },
     "execution_count": 14,
     "metadata": {},
     "output_type": "execute_result"
    }
   ],
   "source": [
    "len(set_C)"
   ]
  },
  {
   "cell_type": "markdown",
   "metadata": {},
   "source": [
    "### 2.1.3 Python 에서 지원하는 Set 및 Set Operation 에 대한 응용 "
   ]
  },
  {
   "cell_type": "markdown",
   "metadata": {},
   "source": [
    "#### 어떤 회사가 대학교에 학생들 채용을 위한 면접 대상자로 전기전자 또는 전산과 4학년 중 학점이 B 이상인 학생을 찾는다고 한다. 전산과 학생 명단 파일(\"cs\"), 전기전자과학생 명단파일(\"ee\"), 4학년학생 명단파일(\"year4\"), B학점이상 학생 명단 파일(\"goodGrades) 들이 주어졌을 때,  면접 대상자를 출력하는 파이썬 프로그래밍하시오."
   ]
  },
  {
   "cell_type": "code",
   "execution_count": 15,
   "metadata": {},
   "outputs": [
    {
     "name": "stdout",
     "output_type": "stream",
     "text": [
      "Elizabeth\n",
      "John\n",
      "Tom\n"
     ]
    }
   ],
   "source": [
    "def setOfNames(fileName):\n",
    "    return { line.strip()\n",
    "        for line in open(fileName) }\n",
    "\n",
    "year4 = setOfNames(\"year4.txt\")\n",
    "cs = setOfNames(\"cs.txt\")\n",
    "ee = setOfNames(\"ee.txt\")\n",
    "goodGrades = setOfNames(\"goodGrades.txt\")\n",
    "candidates = year4 & (cs | ee) & goodGrades\n",
    "for student in candidates:\n",
    "    print(student)"
   ]
  },
  {
   "cell_type": "markdown",
   "metadata": {},
   "source": [
    "### Change Items\n",
    "#### 집합의 원소는 변경이 불가능하며, 다만 원소 삭제 및 추가는  가능합니다. \n",
    "### Add, update, remove items, and clear the set\n",
    "#### To add one item to a set use the add() method.\n",
    "#### To add more than one item to a set use the update() method.\n",
    "#### To remove an item in a set, use the remove(), or the discard() method.\n",
    "#### The clear() method empties the set.\n",
    "\n",
    "### Example"
   ]
  },
  {
   "cell_type": "code",
   "execution_count": 16,
   "metadata": {},
   "outputs": [
    {
     "name": "stdout",
     "output_type": "stream",
     "text": [
      "{'apple', 'banana', 'orange', 'cherry'}\n",
      "{'apple', 'cherry', 'orange', 'mango', 'banana', 'grapes'}\n",
      "{'apple', 'cherry', 'orange', 'mango', 'grapes'}\n",
      "set()\n"
     ]
    }
   ],
   "source": [
    "thisset = {\"apple\", \"banana\", \"cherry\"}\n",
    "\n",
    "thisset.add(\"orange\")\n",
    "print(thisset)\n",
    "\n",
    "thisset.update([\"orange\", \"mango\", \"grapes\"])\n",
    "print(thisset)\n",
    "\n",
    "thisset.remove(\"banana\")\n",
    "print(thisset)\n",
    "\n",
    "thisset.clear()\n",
    "print(thisset)"
   ]
  },
  {
   "cell_type": "markdown",
   "metadata": {},
   "source": [
    "#### The del keyword will delete the set completely:"
   ]
  },
  {
   "cell_type": "code",
   "execution_count": 17,
   "metadata": {},
   "outputs": [
    {
     "ename": "NameError",
     "evalue": "name 'thisset' is not defined",
     "output_type": "error",
     "traceback": [
      "\u001b[1;31m---------------------------------------------------------------------------\u001b[0m",
      "\u001b[1;31mNameError\u001b[0m                                 Traceback (most recent call last)",
      "\u001b[1;32m~\\AppData\\Local\\Temp/ipykernel_4084/2480381304.py\u001b[0m in \u001b[0;36m<module>\u001b[1;34m\u001b[0m\n\u001b[0;32m      1\u001b[0m \u001b[0mthisset\u001b[0m \u001b[1;33m=\u001b[0m \u001b[1;33m{\u001b[0m\u001b[1;34m\"apple\"\u001b[0m\u001b[1;33m,\u001b[0m \u001b[1;34m\"banana\"\u001b[0m\u001b[1;33m,\u001b[0m \u001b[1;34m\"cherry\"\u001b[0m\u001b[1;33m}\u001b[0m\u001b[1;33m\u001b[0m\u001b[1;33m\u001b[0m\u001b[0m\n\u001b[0;32m      2\u001b[0m \u001b[1;32mdel\u001b[0m \u001b[0mthisset\u001b[0m\u001b[1;33m\u001b[0m\u001b[1;33m\u001b[0m\u001b[0m\n\u001b[1;32m----> 3\u001b[1;33m \u001b[0mprint\u001b[0m\u001b[1;33m(\u001b[0m\u001b[0mthisset\u001b[0m\u001b[1;33m)\u001b[0m\u001b[1;33m\u001b[0m\u001b[1;33m\u001b[0m\u001b[0m\n\u001b[0m",
      "\u001b[1;31mNameError\u001b[0m: name 'thisset' is not defined"
     ]
    }
   ],
   "source": [
    "thisset = {\"apple\", \"banana\", \"cherry\"}\n",
    "del thisset\n",
    "print(thisset)"
   ]
  },
  {
   "cell_type": "markdown",
   "metadata": {},
   "source": [
    "### 2.1.4 Frozenset \n",
    "#### 파이썬에서 제공되는 set형(type)에는  set과 더불어 frozenset이 있습니다. 이름(identifier)이 의미하듯이 frozenset은 한번 항목들을 가지고 객체를 만들면 변경할 수 없는 집합 객체이고, set은 변경할 수 있는 집합 객체입니다."
   ]
  },
  {
   "cell_type": "code",
   "execution_count": 18,
   "metadata": {},
   "outputs": [
    {
     "name": "stdout",
     "output_type": "stream",
     "text": [
      "frozenset({0, 1, 2, 3})\n"
     ]
    }
   ],
   "source": [
    "s1 = frozenset()              # 빈 집합\n",
    "\n",
    "s2 = frozenset((0, 1, 2, 3))  # 튜플로 집합을\n",
    "\n",
    "s3 = frozenset([0, 1, 2, 3])  # 목록으로 집합을\n",
    "\n",
    "s4 = frozenset(range(4))      # 반복자로 집합을\n",
    "print(s3)"
   ]
  },
  {
   "cell_type": "code",
   "execution_count": 19,
   "metadata": {},
   "outputs": [
    {
     "ename": "AttributeError",
     "evalue": "'frozenset' object has no attribute 'add'",
     "output_type": "error",
     "traceback": [
      "\u001b[1;31m---------------------------------------------------------------------------\u001b[0m",
      "\u001b[1;31mAttributeError\u001b[0m                            Traceback (most recent call last)",
      "\u001b[1;32m~\\AppData\\Local\\Temp/ipykernel_4084/1291009249.py\u001b[0m in \u001b[0;36m<module>\u001b[1;34m\u001b[0m\n\u001b[1;32m----> 1\u001b[1;33m \u001b[0ms3\u001b[0m\u001b[1;33m.\u001b[0m\u001b[0madd\u001b[0m\u001b[1;33m(\u001b[0m\u001b[1;34m\"orange\"\u001b[0m\u001b[1;33m)\u001b[0m\u001b[1;33m\u001b[0m\u001b[1;33m\u001b[0m\u001b[0m\n\u001b[0m\u001b[0;32m      2\u001b[0m \u001b[0mprint\u001b[0m\u001b[1;33m(\u001b[0m\u001b[0mthisset\u001b[0m\u001b[1;33m)\u001b[0m\u001b[1;33m\u001b[0m\u001b[1;33m\u001b[0m\u001b[0m\n",
      "\u001b[1;31mAttributeError\u001b[0m: 'frozenset' object has no attribute 'add'"
     ]
    }
   ],
   "source": [
    "s3.add(\"orange\")\n",
    "print(thisset)"
   ]
  },
  {
   "cell_type": "code",
   "execution_count": 20,
   "metadata": {},
   "outputs": [
    {
     "ename": "AttributeError",
     "evalue": "'frozenset' object has no attribute 'remove'",
     "output_type": "error",
     "traceback": [
      "\u001b[1;31m---------------------------------------------------------------------------\u001b[0m",
      "\u001b[1;31mAttributeError\u001b[0m                            Traceback (most recent call last)",
      "\u001b[1;32m~\\AppData\\Local\\Temp/ipykernel_4084/1715191881.py\u001b[0m in \u001b[0;36m<module>\u001b[1;34m\u001b[0m\n\u001b[1;32m----> 1\u001b[1;33m \u001b[0ms3\u001b[0m\u001b[1;33m.\u001b[0m\u001b[0mremove\u001b[0m\u001b[1;33m(\u001b[0m\u001b[1;34m\"banana\"\u001b[0m\u001b[1;33m)\u001b[0m\u001b[1;33m\u001b[0m\u001b[1;33m\u001b[0m\u001b[0m\n\u001b[0m\u001b[0;32m      2\u001b[0m \u001b[0mprint\u001b[0m\u001b[1;33m(\u001b[0m\u001b[0mthisset\u001b[0m\u001b[1;33m)\u001b[0m\u001b[1;33m\u001b[0m\u001b[1;33m\u001b[0m\u001b[0m\n",
      "\u001b[1;31mAttributeError\u001b[0m: 'frozenset' object has no attribute 'remove'"
     ]
    }
   ],
   "source": [
    "s3.remove(\"banana\")\n",
    "print(thisset)"
   ]
  },
  {
   "cell_type": "markdown",
   "metadata": {},
   "source": [
    "### 2.1.5 Power Set (멱집합)"
   ]
  },
  {
   "cell_type": "markdown",
   "metadata": {},
   "source": [
    "#### 파이썬에서 멱집합을 내장 지원하는 메소드 나 외장 라이브러리 패키지도 없습니다. "
   ]
  },
  {
   "cell_type": "code",
   "execution_count": 21,
   "metadata": {},
   "outputs": [],
   "source": [
    "def power_set(items):\n",
    "    N = len(items)\n",
    "    # enumerate the 2 ** N possible combinations\n",
    "    for i in range(2 ** N):\n",
    "        combo = []\n",
    "        for j in range(N):\n",
    "            # test bit jth of integer i\n",
    "            if (i >> j) % 2 == 1:\n",
    "                combo.append(items[j])\n",
    "                print(\"i={},j={},items[{}]={}\".format(i,j, j, items[j]))\n",
    "        yield combo"
   ]
  },
  {
   "cell_type": "code",
   "execution_count": 22,
   "metadata": {},
   "outputs": [
    {
     "name": "stdout",
     "output_type": "stream",
     "text": [
      "i=1,j=0,items[0]=a\n",
      "i=2,j=1,items[1]=b\n",
      "i=3,j=0,items[0]=a\n",
      "i=3,j=1,items[1]=b\n",
      "i=4,j=2,items[2]=c\n",
      "i=5,j=0,items[0]=a\n",
      "i=5,j=2,items[2]=c\n",
      "i=6,j=1,items[1]=b\n",
      "i=6,j=2,items[2]=c\n",
      "i=7,j=0,items[0]=a\n",
      "i=7,j=1,items[1]=b\n",
      "i=7,j=2,items[2]=c\n",
      "[[], ['a'], ['b'], ['a', 'b'], ['c'], ['a', 'c'], ['b', 'c'], ['a', 'b', 'c']]\n"
     ]
    },
    {
     "ename": "TypeError",
     "evalue": "unhashable type: 'list'",
     "output_type": "error",
     "traceback": [
      "\u001b[1;31m---------------------------------------------------------------------------\u001b[0m",
      "\u001b[1;31mTypeError\u001b[0m                                 Traceback (most recent call last)",
      "\u001b[1;32m~\\AppData\\Local\\Temp/ipykernel_4084/3065857550.py\u001b[0m in \u001b[0;36m<module>\u001b[1;34m\u001b[0m\n\u001b[0;32m      2\u001b[0m \u001b[0mB\u001b[0m\u001b[1;33m=\u001b[0m\u001b[0mlist\u001b[0m\u001b[1;33m(\u001b[0m\u001b[0mpower_set\u001b[0m\u001b[1;33m(\u001b[0m\u001b[0mA\u001b[0m\u001b[1;33m)\u001b[0m\u001b[1;33m)\u001b[0m\u001b[1;33m\u001b[0m\u001b[1;33m\u001b[0m\u001b[0m\n\u001b[0;32m      3\u001b[0m \u001b[0mprint\u001b[0m\u001b[1;33m(\u001b[0m\u001b[0mB\u001b[0m\u001b[1;33m)\u001b[0m\u001b[1;33m\u001b[0m\u001b[1;33m\u001b[0m\u001b[0m\n\u001b[1;32m----> 4\u001b[1;33m \u001b[0mprint\u001b[0m\u001b[1;33m(\u001b[0m\u001b[0mset\u001b[0m\u001b[1;33m(\u001b[0m\u001b[0mB\u001b[0m\u001b[1;33m)\u001b[0m\u001b[1;33m)\u001b[0m\u001b[1;33m\u001b[0m\u001b[1;33m\u001b[0m\u001b[0m\n\u001b[0m",
      "\u001b[1;31mTypeError\u001b[0m: unhashable type: 'list'"
     ]
    }
   ],
   "source": [
    "A=['a','b','c']\n",
    "B=list(power_set(A))\n",
    "print(B)\n",
    "print(set(B))"
   ]
  },
  {
   "cell_type": "code",
   "execution_count": 23,
   "metadata": {},
   "outputs": [],
   "source": [
    "def power_set(A):\n",
    "    items=list(A)\n",
    "    N = len(items)\n",
    "    # enumerate the 2 ** N possible combinations\n",
    "    for i in range(2 ** N):\n",
    "        combo = set()\n",
    "        for j in range(N):\n",
    "            # test bit jth of integer i\n",
    "            if (i >> j) % 2 == 1:\n",
    "                combo.add(items[j])\n",
    "                print(\"i={},j={},items[{}]={}\".format(i,j, j, items[j]))\n",
    "        yield combo"
   ]
  },
  {
   "cell_type": "code",
   "execution_count": 24,
   "metadata": {},
   "outputs": [
    {
     "name": "stdout",
     "output_type": "stream",
     "text": [
      "i=1,j=0,items[0]=a\n",
      "i=2,j=1,items[1]=c\n",
      "i=3,j=0,items[0]=a\n",
      "i=3,j=1,items[1]=c\n",
      "i=4,j=2,items[2]=b\n",
      "i=5,j=0,items[0]=a\n",
      "i=5,j=2,items[2]=b\n",
      "i=6,j=1,items[1]=c\n",
      "i=6,j=2,items[2]=b\n",
      "i=7,j=0,items[0]=a\n",
      "i=7,j=1,items[1]=c\n",
      "i=7,j=2,items[2]=b\n",
      "[set(), {'a'}, {'c'}, {'a', 'c'}, {'b'}, {'a', 'b'}, {'c', 'b'}, {'a', 'c', 'b'}]\n"
     ]
    }
   ],
   "source": [
    "A={'a','b','c'}\n",
    "B=list(power_set(A))\n",
    "print(B)"
   ]
  },
  {
   "cell_type": "markdown",
   "metadata": {},
   "source": [
    "## 2.2 Sequences"
   ]
  },
  {
   "cell_type": "markdown",
   "metadata": {},
   "source": [
    "### 2.2.1 시퀀스 개요"
   ]
  },
  {
   "cell_type": "markdown",
   "metadata": {},
   "source": [
    "#### 수학에서 시퀀스는 개체들의 순서있는(ordered) 모임을 의미합니다. 마찬가지로, 파이썬에서도 같은 개념의 구현이며, 시퀀스 타입에는 string, list, tuple, range, array (numpy) 등 이 있습니다. 따라서, 시퀀스의 각 요소는 순번을 가지고 있으며,  각 요소를 억세스할 수있습니다.  \n",
    "#### 이들 sequence 데이터 타입들은 또한 iterable 객체이며, iter() method 를 가지고 있고, 이를 이용하여 iterator 를 얻을 수있습니다. \n",
    "#### 다음은 컴퓨터 사이언스에서 나타나는 '시퀀스' 사례들입니다.  \n",
    " * 스트링(string);  문자열 시퀀스\n",
    " * 파일(file); 줄(라인)들의 시숸스 (적어도 파이썬에서는).  각 줄은 문자들의 시퀀스.\n",
    " * 파이썬에서 시퀀스는 range(), opened-file 등을 통해 동적으로 생성되기도 합니다. \n",
    "   \n",
    "### 3 종류의 sequence 타입(string, list, tuple) 에 대해서, concatenation (+) 이 적용됩니다. "
   ]
  },
  {
   "cell_type": "code",
   "execution_count": 25,
   "metadata": {},
   "outputs": [
    {
     "data": {
      "text/plain": [
       "'hello world'"
      ]
     },
     "execution_count": 25,
     "metadata": {},
     "output_type": "execute_result"
    }
   ],
   "source": [
    "tuple_A=(1,2,3,'a')\n",
    "tuple_B=tuple([1,2,3,4,5])\n",
    "tuple_C=tuple_A+tuple_B\n",
    "tuple_C\n",
    "\n",
    "list_A=['a', 'b', 'c', 'd', 'e']\n",
    "list_B=list([1,2,3,4])\n",
    "list_C=list_A+list_B\n",
    "list_C\n",
    "\n",
    "s1=\"hello \"\n",
    "s2=\"world\"\n",
    "s3=s1+s2\n",
    "s3"
   ]
  },
  {
   "cell_type": "code",
   "execution_count": 26,
   "metadata": {},
   "outputs": [
    {
     "name": "stdout",
     "output_type": "stream",
     "text": [
      "Overwriting test.txt\n"
     ]
    }
   ],
   "source": [
    "%%writefile test.txt\n",
    "Mac,ME\n",
    "Paul,CS\n",
    "Jim,EE\n",
    "Peter,PHY"
   ]
  },
  {
   "cell_type": "code",
   "execution_count": 27,
   "metadata": {},
   "outputs": [
    {
     "name": "stdout",
     "output_type": "stream",
     "text": [
      "<class '_io.TextIOWrapper'>\n",
      "<class 'str'>\n",
      "Mac,ME\n",
      "M\n"
     ]
    }
   ],
   "source": [
    "A=open(\"test.txt\")\n",
    "print(type(A))\n",
    "B=next(A)\n",
    "print(type(B))\n",
    "print(B.strip()) #strip 은 스트링의 시작 및 끝의 공백(space)을 제거\n",
    "print(B[0])"
   ]
  },
  {
   "cell_type": "markdown",
   "metadata": {},
   "source": [
    "### 2.2.2 Higher-order sequence functions\n",
    "#### higher-order function 은 함수에 작욯거나 함수를 리턴하는 함수를 말합니다. 파이썬에서는 주로 시퀀스에 적용되는 데, higher-order functions 트리오인 'map', 'filter', 'reduce' 에 대해 살펴 봅시다. 이들 'map', 'filter', 'reduce' 는 빅데이터 컴퓨팅에서의 'MapReduce' 에서도 사용되는 중요한 개념의 함수입니다. "
   ]
  },
  {
   "cell_type": "markdown",
   "metadata": {},
   "source": [
    "#### *map;  map(func,sequence)시퀀스 각 항목에 함수, 'func' 가 적용된다.  \n",
    "#### *filter ; filter(test,sequence)  ; 'test' 는 함수로 시퀀스에 적용된다. \n",
    "#### *reduce ; reduce(f,sequence, initial); 여기서 'f' 는 2개 인자 함수로 시퀀스 처음 2개의 항에 더해 적용하고, 이 결과와  다음 항에 적용한다. 이런 식으로 시퀀스의 모든 항에 대해 적용된다.  \n",
    "#### &nbsp; &nbsp; &nbsp; &nbsp; &nbsp; &nbsp; &nbsp; 값, initial 은 시작값으로 적용되며, 시퀀스가  비워 있을 때는 디폴트로 복귀되는 값이다. "
   ]
  },
  {
   "cell_type": "code",
   "execution_count": 28,
   "metadata": {},
   "outputs": [
    {
     "data": {
      "text/plain": [
       "[4, 9, 25, 49, 121]"
      ]
     },
     "execution_count": 28,
     "metadata": {},
     "output_type": "execute_result"
    }
   ],
   "source": [
    "def double(x):\n",
    "    return x*x\n",
    "\n",
    "list(map(double,(2,3,5,7,11)))"
   ]
  },
  {
   "cell_type": "code",
   "execution_count": 29,
   "metadata": {},
   "outputs": [
    {
     "data": {
      "text/plain": [
       "{4, 16, 36, 64, 100}"
      ]
     },
     "execution_count": 29,
     "metadata": {},
     "output_type": "execute_result"
    }
   ],
   "source": [
    "set(map(lambda x: x*x, range(2,12,2)))"
   ]
  },
  {
   "cell_type": "code",
   "execution_count": 30,
   "metadata": {},
   "outputs": [
    {
     "data": {
      "text/plain": [
       "(4, 9, 25, 49, 121)"
      ]
     },
     "execution_count": 30,
     "metadata": {},
     "output_type": "execute_result"
    }
   ],
   "source": [
    "tuple(map(double,{2,3,5,7,11}))"
   ]
  },
  {
   "cell_type": "code",
   "execution_count": 31,
   "metadata": {},
   "outputs": [
    {
     "data": {
      "text/plain": [
       "[4, 16, 36, 64, 100]"
      ]
     },
     "execution_count": 31,
     "metadata": {},
     "output_type": "execute_result"
    }
   ],
   "source": [
    "list(map(double,range(2,12,2)))"
   ]
  },
  {
   "cell_type": "code",
   "execution_count": 32,
   "metadata": {},
   "outputs": [
    {
     "data": {
      "text/plain": [
       "[2, 3, 7]"
      ]
     },
     "execution_count": 32,
     "metadata": {},
     "output_type": "execute_result"
    }
   ],
   "source": [
    "list(filter(lambda x:x>0, (2,3,0,-5,7,-11)))"
   ]
  },
  {
   "cell_type": "code",
   "execution_count": 33,
   "metadata": {},
   "outputs": [
    {
     "data": {
      "text/plain": [
       "28"
      ]
     },
     "execution_count": 33,
     "metadata": {},
     "output_type": "execute_result"
    }
   ],
   "source": [
    "from functools import *\n",
    "reduce(lambda x,y:x+y, [2,3,5,7,11])"
   ]
  },
  {
   "cell_type": "code",
   "execution_count": 34,
   "metadata": {},
   "outputs": [
    {
     "data": {
      "text/plain": [
       "35"
      ]
     },
     "execution_count": 34,
     "metadata": {},
     "output_type": "execute_result"
    }
   ],
   "source": [
    "sum= reduce(lambda x, y: x+y, [2,3,5,7,11], 7)\n",
    "sum"
   ]
  },
  {
   "cell_type": "markdown",
   "metadata": {},
   "source": [
    "### 2.2.3 Tuple in Python"
   ]
  },
  {
   "cell_type": "markdown",
   "metadata": {},
   "source": [
    "#### Tuple은  **immutable** ordered finite list of values 이다. 리스트와 비슷하게 여러 요소들을 갖는 컬렉션입니다. 리스트와 다른 점은 Tuple은 새로운 요소를 추가하거나 갱신, 삭제하는 일을 할 수 없습니다. 즉, tuple은 한변 결정된 요소를 변경할 수 없는 Immutable 데이타 타입입니다. 따라서, tuple은 컬렉션이 항상 고정된 요소값을 갖기를 원하거나 변경되지 말아야 하는 경우에 사용하게 됩니다.\n",
    "\n",
    "#### 튜플의 요소들은 소괄호(...) 를 사용하여 컬렉션을 표현하는 데, 각 요소들은 서로 다른 타입이 될 수 있으며, 컴마(,)로 구분합니다. 요소가 없는 빈 튜플은 \"()\"와 같이 표현합니다.\n",
    "#### 특히 요소가 하나일 경우에는 요소 뒤에 콤마를 붙여 명시적으로 tuple임을 표시해야 합니다. 아래 예제를 보면 첫번째 (123) 의 경우, 이는 산술식의 괄호로 인식하여 t1의 타입은 정수입니다. 이러한 혼동을 방지하기 위해 t2 에서 처럼 (123,) 콤마를 붙여 명시적으로 Tuple임을 표시합니다. 많은 경우에, 튜플의 요소 갯수 'n'를 좀 더 명확히 하기 위해 'n-tuple' 라고 지칭합니다. 튜플 요소간에 순서가 있기 때문에 '2-tuple' 은 우리말로 '순서쌍' , 'n-tuple' 은 'n중쌍'으로 번역합니다.   수학에서 'n-tuple' 의 응용 사례의 하나는 'n 차원 벡터의 좌표' 를 나타내는 데 사용하는 것입니다. "
   ]
  },
  {
   "cell_type": "code",
   "execution_count": 35,
   "metadata": {},
   "outputs": [
    {
     "name": "stdout",
     "output_type": "stream",
     "text": [
      "<class 'int'>\n",
      "<class 'tuple'>\n"
     ]
    }
   ],
   "source": [
    "t1=(123)\n",
    "print(type(t1))\n",
    "t2=(123,)\n",
    "print(type(t2))"
   ]
  },
  {
   "cell_type": "code",
   "execution_count": 36,
   "metadata": {},
   "outputs": [
    {
     "name": "stdout",
     "output_type": "stream",
     "text": [
      "<class 'tuple'>\n"
     ]
    },
    {
     "ename": "TypeError",
     "evalue": "'tuple' object does not support item assignment",
     "output_type": "error",
     "traceback": [
      "\u001b[1;31m---------------------------------------------------------------------------\u001b[0m",
      "\u001b[1;31mTypeError\u001b[0m                                 Traceback (most recent call last)",
      "\u001b[1;32m~\\AppData\\Local\\Temp/ipykernel_4084/2285369123.py\u001b[0m in \u001b[0;36m<module>\u001b[1;34m\u001b[0m\n\u001b[0;32m      1\u001b[0m \u001b[0mt\u001b[0m \u001b[1;33m=\u001b[0m \u001b[1;33m(\u001b[0m\u001b[1;36m5\u001b[0m\u001b[1;33m,\u001b[0m \u001b[1;36m6\u001b[0m\u001b[1;33m)\u001b[0m       \u001b[1;31m# Create a tuple\u001b[0m\u001b[1;33m\u001b[0m\u001b[1;33m\u001b[0m\u001b[0m\n\u001b[0;32m      2\u001b[0m \u001b[0mprint\u001b[0m \u001b[1;33m(\u001b[0m\u001b[0mtype\u001b[0m\u001b[1;33m(\u001b[0m\u001b[0mt\u001b[0m\u001b[1;33m)\u001b[0m\u001b[1;33m)\u001b[0m\u001b[1;33m\u001b[0m\u001b[1;33m\u001b[0m\u001b[0m\n\u001b[1;32m----> 3\u001b[1;33m \u001b[0mt\u001b[0m\u001b[1;33m[\u001b[0m\u001b[1;36m0\u001b[0m\u001b[1;33m]\u001b[0m \u001b[1;33m=\u001b[0m \u001b[1;36m1\u001b[0m  \u001b[1;31m# 불가. 튜플은 immutable 타입\u001b[0m\u001b[1;33m\u001b[0m\u001b[1;33m\u001b[0m\u001b[0m\n\u001b[0m",
      "\u001b[1;31mTypeError\u001b[0m: 'tuple' object does not support item assignment"
     ]
    }
   ],
   "source": [
    "t = (5, 6)       # Create a tuple\n",
    "print (type(t))\n",
    "t[0] = 1  # 불가. 튜플은 immutable 타입 "
   ]
  },
  {
   "cell_type": "markdown",
   "metadata": {},
   "source": [
    "###  Cartisian Product\n",
    "#### 수학에서 Cartisian Product의 각 요소는 튜플로 표현됩니다.\n",
    "#### &nbsp; &nbsp; &nbsp; &nbsp; &nbsp; &nbsp;  The Cartesian Product of two sets A and B, denoted by A × B,  is the set of ordered pairs (a,b) where a ∈ A and b ∈ B .  \n",
    "#### &nbsp; &nbsp; &nbsp; &nbsp; &nbsp; &nbsp;  $ A X B = \\{ (a,b) | a \\in A ~\\wedge ~b \\in B \\} $  \n",
    "</pre>    \n",
    "#### 파이썬에서는 Cartisian Product 는 다음과 같이 compression 을 이용하여 간단히 구할 수있습니다. "
   ]
  },
  {
   "cell_type": "code",
   "execution_count": 37,
   "metadata": {},
   "outputs": [
    {
     "data": {
      "text/plain": [
       "{('A', 'x', '1'),\n",
       " ('A', 'x', '2'),\n",
       " ('A', 'x', '3'),\n",
       " ('A', 'x', '4'),\n",
       " ('A', 'y', '1'),\n",
       " ('A', 'y', '2'),\n",
       " ('A', 'y', '3'),\n",
       " ('A', 'y', '4'),\n",
       " ('B', 'x', '1'),\n",
       " ('B', 'x', '2'),\n",
       " ('B', 'x', '3'),\n",
       " ('B', 'x', '4'),\n",
       " ('B', 'y', '1'),\n",
       " ('B', 'y', '2'),\n",
       " ('B', 'y', '3'),\n",
       " ('B', 'y', '4'),\n",
       " ('C', 'x', '1'),\n",
       " ('C', 'x', '2'),\n",
       " ('C', 'x', '3'),\n",
       " ('C', 'x', '4'),\n",
       " ('C', 'y', '1'),\n",
       " ('C', 'y', '2'),\n",
       " ('C', 'y', '3'),\n",
       " ('C', 'y', '4'),\n",
       " ('D', 'x', '1'),\n",
       " ('D', 'x', '2'),\n",
       " ('D', 'x', '3'),\n",
       " ('D', 'x', '4'),\n",
       " ('D', 'y', '1'),\n",
       " ('D', 'y', '2'),\n",
       " ('D', 'y', '3'),\n",
       " ('D', 'y', '4')}"
      ]
     },
     "execution_count": 37,
     "metadata": {},
     "output_type": "execute_result"
    }
   ],
   "source": [
    "iterable1 = 'ABCD'\n",
    "iterable2 = 'xy'\n",
    "iterable3 = '1234'\n",
    "a={ (a,b,c ) for a in iterable1 for b in iterable2 for c in iterable3 }\n",
    "a"
   ]
  },
  {
   "cell_type": "markdown",
   "metadata": {},
   "source": [
    "#### 파이썬에서는 Cartisian Product 는 'itertools' 모듈을 이용하여서도  간단히 구할 수있습니다."
   ]
  },
  {
   "cell_type": "code",
   "execution_count": 38,
   "metadata": {},
   "outputs": [
    {
     "data": {
      "text/plain": [
       "{('A', 'x', '1'),\n",
       " ('A', 'x', '2'),\n",
       " ('A', 'x', '3'),\n",
       " ('A', 'x', '4'),\n",
       " ('A', 'y', '1'),\n",
       " ('A', 'y', '2'),\n",
       " ('A', 'y', '3'),\n",
       " ('A', 'y', '4'),\n",
       " ('B', 'x', '1'),\n",
       " ('B', 'x', '2'),\n",
       " ('B', 'x', '3'),\n",
       " ('B', 'x', '4'),\n",
       " ('B', 'y', '1'),\n",
       " ('B', 'y', '2'),\n",
       " ('B', 'y', '3'),\n",
       " ('B', 'y', '4'),\n",
       " ('C', 'x', '1'),\n",
       " ('C', 'x', '2'),\n",
       " ('C', 'x', '3'),\n",
       " ('C', 'x', '4'),\n",
       " ('C', 'y', '1'),\n",
       " ('C', 'y', '2'),\n",
       " ('C', 'y', '3'),\n",
       " ('C', 'y', '4'),\n",
       " ('D', 'x', '1'),\n",
       " ('D', 'x', '2'),\n",
       " ('D', 'x', '3'),\n",
       " ('D', 'x', '4'),\n",
       " ('D', 'y', '1'),\n",
       " ('D', 'y', '2'),\n",
       " ('D', 'y', '3'),\n",
       " ('D', 'y', '4')}"
      ]
     },
     "execution_count": 38,
     "metadata": {},
     "output_type": "execute_result"
    }
   ],
   "source": [
    "import itertools\n",
    "\n",
    "iterable1 = 'ABCD'\n",
    "iterable2 = 'xy'\n",
    "iterable3 = '1234'\n",
    "q=itertools.product(iterable1, iterable2, iterable3)\n",
    "set(q)"
   ]
  },
  {
   "cell_type": "markdown",
   "metadata": {},
   "source": [
    "## 2.3 Functions in Python\n",
    "\n"
   ]
  },
  {
   "cell_type": "markdown",
   "metadata": {},
   "source": [
    "#### 파이썬에서 함수는 \"키워드 `def' + function name + a signature within parentheses `()`, + a colon `:`\" 로 정의됩니다. 함수 몸체의  코드는 함수명보다는 안쪽으로 indentation 되어야 합니다. "
   ]
  },
  {
   "cell_type": "code",
   "execution_count": 39,
   "metadata": {},
   "outputs": [],
   "source": [
    "def func0():   \n",
    "    print(\"test\")"
   ]
  },
  {
   "cell_type": "code",
   "execution_count": 40,
   "metadata": {},
   "outputs": [
    {
     "name": "stdout",
     "output_type": "stream",
     "text": [
      "test\n"
     ]
    }
   ],
   "source": [
    "func0()"
   ]
  },
  {
   "cell_type": "markdown",
   "metadata": {},
   "source": [
    "#### 함수는 키워드 'return' 을 통해 값을 리턴합니다."
   ]
  },
  {
   "cell_type": "code",
   "execution_count": 41,
   "metadata": {},
   "outputs": [],
   "source": [
    "def square(x):\n",
    "    \"\"\"\n",
    "    Return the square of x.\n",
    "    \"\"\"\n",
    "    return x ** 2"
   ]
  },
  {
   "cell_type": "code",
   "execution_count": 42,
   "metadata": {},
   "outputs": [
    {
     "data": {
      "text/plain": [
       "16"
      ]
     },
     "execution_count": 42,
     "metadata": {},
     "output_type": "execute_result"
    }
   ],
   "source": [
    "square(4)"
   ]
  },
  {
   "cell_type": "markdown",
   "metadata": {},
   "source": [
    "#### 파이썬에서 함수는 튜플 형태로 다중 값을 리턴할 수있습니다."
   ]
  },
  {
   "cell_type": "code",
   "execution_count": 43,
   "metadata": {},
   "outputs": [],
   "source": [
    "def powers(x):\n",
    "    \"\"\"\n",
    "    Return a few powers of x.\n",
    "    \"\"\"\n",
    "    return x ** 2, x ** 3, x ** 4"
   ]
  },
  {
   "cell_type": "code",
   "execution_count": 44,
   "metadata": {},
   "outputs": [
    {
     "name": "stdout",
     "output_type": "stream",
     "text": [
      "<class 'tuple'>\n",
      "(9, 27, 81)\n"
     ]
    }
   ],
   "source": [
    "a=powers(3)\n",
    "print(type(a))\n",
    "print(a)"
   ]
  },
  {
   "cell_type": "markdown",
   "metadata": {},
   "source": [
    "#### 복귀되는 튜플값을 각각의 변수로 받을 수있습니다. "
   ]
  },
  {
   "cell_type": "code",
   "execution_count": 45,
   "metadata": {},
   "outputs": [
    {
     "name": "stdout",
     "output_type": "stream",
     "text": [
      "27\n"
     ]
    }
   ],
   "source": [
    "x2, x3, x4 = powers(3)\n",
    "print(x3)"
   ]
  },
  {
   "cell_type": "markdown",
   "metadata": {},
   "source": [
    "### Default argument and keyword arguments"
   ]
  },
  {
   "cell_type": "markdown",
   "metadata": {},
   "source": [
    "#### 파이썬 함수의 일부 인자에 디폴트 값을 할당 할 수가 잇습니다. 이 인자에 별도릐 값을 넘지기 않으면 함수내에서 디폴트 값이 사용됩니다."
   ]
  },
  {
   "cell_type": "code",
   "execution_count": 46,
   "metadata": {},
   "outputs": [],
   "source": [
    "def myfunc(x, p=2, debug=False):\n",
    "    if debug:\n",
    "        print(\"evaluating myfunc for x = \" + str(x) + \" using exponent p = \" + str(p))\n",
    "    return x**p"
   ]
  },
  {
   "cell_type": "code",
   "execution_count": 47,
   "metadata": {},
   "outputs": [
    {
     "data": {
      "text/plain": [
       "25"
      ]
     },
     "execution_count": 47,
     "metadata": {},
     "output_type": "execute_result"
    }
   ],
   "source": [
    "myfunc(5)"
   ]
  },
  {
   "cell_type": "code",
   "execution_count": 48,
   "metadata": {},
   "outputs": [
    {
     "name": "stdout",
     "output_type": "stream",
     "text": [
      "evaluating myfunc for x = 5 using exponent p = 2\n"
     ]
    },
    {
     "data": {
      "text/plain": [
       "25"
      ]
     },
     "execution_count": 48,
     "metadata": {},
     "output_type": "execute_result"
    }
   ],
   "source": [
    "myfunc(5, debug=True)"
   ]
  },
  {
   "cell_type": "markdown",
   "metadata": {},
   "source": [
    "#### 파이썬에서 함수 호출시에 인자의 이름을 명확히 리스트하여 값을 전달하면, 인자의 순서는 상관하지 않습니다."
   ]
  },
  {
   "cell_type": "code",
   "execution_count": 49,
   "metadata": {},
   "outputs": [
    {
     "name": "stdout",
     "output_type": "stream",
     "text": [
      "evaluating myfunc for x = 7 using exponent p = 3\n"
     ]
    },
    {
     "data": {
      "text/plain": [
       "343"
      ]
     },
     "execution_count": 49,
     "metadata": {},
     "output_type": "execute_result"
    }
   ],
   "source": [
    "myfunc(p=3, debug=True, x=7)"
   ]
  },
  {
   "cell_type": "markdown",
   "metadata": {},
   "source": [
    "### Anonymous functions (lambda function)  \n",
    "#### 파이썬에서, 'lambda' 키워드를 이용하여 익명 함수를 만들 수있다. 수학에서의 함수는 항상 동일한 독립변수 값에 대해, 같은 함수값을 생성한다. 그러나, 'def' 키워드로 정의되는 파이썬 함수는 함수 상태에 따라 동일한 입력값이라도 츨력(리턴)값이 달라집니다. \n",
    "####  functional programming(함수형 프로그래밍)은 programming paradigm 입니다(https://ko.wikipedia.org/wiki/%ED%95%A8%EC%88%98%ED%98%95_%ED%94%84%EB%A1%9C%EA%B7%B8%EB%9E%98%EB%B0%8D). 여기서, 함수는 수학적 함수의 구현으로 그 결과가 함수의 입력에만 의존하지 프로그램 상태에 영향을 받지 않습니다. 함수형 프로그래밍의 중요성은 앞으로 공부하면 할수록 잘 느끼게 될 것입니다. 파이썬에서는 'lambda' 함수가 수학적 함수입니다.  "
   ]
  },
  {
   "cell_type": "code",
   "execution_count": 50,
   "metadata": {},
   "outputs": [],
   "source": [
    "f1 = lambda x: x**2\n",
    "    \n",
    "# is equivalent to \n",
    "\n",
    "def f2(x):\n",
    "    return x**2"
   ]
  },
  {
   "cell_type": "code",
   "execution_count": 51,
   "metadata": {},
   "outputs": [
    {
     "data": {
      "text/plain": [
       "(4, 4)"
      ]
     },
     "execution_count": 51,
     "metadata": {},
     "output_type": "execute_result"
    }
   ],
   "source": [
    "f1(2), f2(2)"
   ]
  },
  {
   "cell_type": "markdown",
   "metadata": {},
   "source": [
    "#### Lambda  함수는 간단한 함수를 다른 함수의 인자로 넘기는 다음과 같은 예와 같은 곳에서 매우 유용합니다."
   ]
  },
  {
   "cell_type": "code",
   "execution_count": 52,
   "metadata": {},
   "outputs": [
    {
     "data": {
      "text/plain": [
       "<map at 0x20ecf1cf7f0>"
      ]
     },
     "execution_count": 52,
     "metadata": {},
     "output_type": "execute_result"
    }
   ],
   "source": [
    "# map is a built-in python function\n",
    "map(lambda x: x**2, range(-3,4))"
   ]
  },
  {
   "cell_type": "code",
   "execution_count": 53,
   "metadata": {},
   "outputs": [
    {
     "data": {
      "text/plain": [
       "[9, 4, 1, 0, 1, 4, 9]"
      ]
     },
     "execution_count": 53,
     "metadata": {},
     "output_type": "execute_result"
    }
   ],
   "source": [
    "# in python 3 we can use `list(...)` to convert the iterator to an explicit list\n",
    "list(map(lambda x: x**2, range(-3,4)))"
   ]
  },
  {
   "cell_type": "markdown",
   "metadata": {},
   "source": [
    "##  2.4 Collections (Arrays) in Python \n",
    "#### 파이썬에는 다음과 같은  collection 데이터 타입이 지원됩니다. \n",
    "\n",
    "#### * Set ; a collection which is unordered and unindexed. No duplicate members.\n",
    "#### &nbsp; &nbsp; &nbsp; &nbsp; &nbsp; &nbsp;  A set is created by { } or set().\n",
    "#### * Dictionary ;  a collection which is unordered, changeable and indexed. No duplicate members.\n",
    "#### &nbsp; &nbsp; &nbsp; &nbsp; &nbsp; &nbsp;  A dictionary is created by { } or dict() ; ex. {'a':2, 'b':3, 'c':4 } , dict(a=2, b=3, c=4).\n",
    "#### * List ;  a collection which is ordered and changeable. Allows duplicate members.\n",
    "#### &nbsp; &nbsp; &nbsp; &nbsp; &nbsp; &nbsp;  A list is created by [ ] or list().\n",
    "#### * Tuple ;  a collection which is ordered and immutable. Allows duplicate members.\n",
    "#### &nbsp; &nbsp; &nbsp; &nbsp; &nbsp; &nbsp;  A tuple is created by () or tuple().\n",
    "#### * String  ;  a collection which is ordered and immutable. String is created by either single quotation marks,    or double quotation marks around a sequence of characters. \n",
    "#### * Numpy Array ; an array of homogeneous numeric elements.    \n",
    "\n",
    "\n",
    "####   \n",
    "#### 'Set' 와 'Dictionary' 타입은 'unordered' 요소들의 콜렉션이다는 점에서는 같습니다. 그러나, 'dictionary' 는  'key:value' 의 쌍 요소 (paired element) 의 콜렉션이고 'set' 는 단일 요소들의 콜렉션입니다.     \n",
    "####  'List' 와 'Tuple' 는 'ordered' 요소들의 콜렉션이다는 점에서 유사하나, tuple 은 생성 후에 그 요소가 변경될 수 없다는 점에서 차이가 있습니다.  \n",
    "\n",
    "#### 파이썬의  'for-statement' 은 콜렉션 타입의 요소에 대해 순회(iteration) 이 가능합니다. "
   ]
  },
  {
   "cell_type": "code",
   "execution_count": 54,
   "metadata": {},
   "outputs": [
    {
     "name": "stdout",
     "output_type": "stream",
     "text": [
      "1\n",
      "2\n",
      "3\n",
      "a\n",
      "b\n",
      "c\n",
      "p\n",
      "q\n",
      "r\n",
      "s\n",
      "alpha\n",
      "beta\n",
      "gamma\n",
      "6\n",
      "7\n",
      "8\n",
      "9\n"
     ]
    }
   ],
   "source": [
    "set_A={1,2,3}\n",
    "for n in set_A:\n",
    "    print(n)\n",
    "\n",
    "dictionary_B={'a':1,'b':2, 'c': 3}\n",
    "for n in dictionary_B:\n",
    "    print(n)\n",
    "    \n",
    "list_C=['p','q','r','s']\n",
    "for n in list_C:\n",
    "    print(n)\n",
    "\n",
    "tuple_D=('alpha', 'beta', 'gamma')\n",
    "for n in tuple_D:\n",
    "    print(n)\n",
    "\n",
    "from numpy import *\n",
    "qqq=array([6,7,8,9])\n",
    "for n in qqq:\n",
    "    print(n)\n"
   ]
  },
  {
   "cell_type": "code",
   "execution_count": 55,
   "metadata": {},
   "outputs": [
    {
     "data": {
      "text/plain": [
       "(1, 2, 3, 4, 5)"
      ]
     },
     "execution_count": 55,
     "metadata": {},
     "output_type": "execute_result"
    }
   ],
   "source": [
    "tuple_B"
   ]
  },
  {
   "cell_type": "markdown",
   "metadata": {},
   "source": [
    "## 2.5 Matrices in Python\n",
    "#### 파이썬에서 matrix 는 numpy 의 2 dimentional array 로 표현하거나,  numpy 의 matrix 를 이용할 수있습니다. "
   ]
  },
  {
   "cell_type": "code",
   "execution_count": 56,
   "metadata": {},
   "outputs": [
    {
     "data": {
      "text/plain": [
       "numpy.ndarray"
      ]
     },
     "execution_count": 56,
     "metadata": {},
     "output_type": "execute_result"
    }
   ],
   "source": [
    "from numpy import *\n",
    "A=array([[1,2], [3,4]])\n",
    "B=array([[-1, -1], [1, 2]])\n",
    "type(A)"
   ]
  },
  {
   "cell_type": "code",
   "execution_count": 57,
   "metadata": {},
   "outputs": [
    {
     "data": {
      "text/plain": [
       "array([[0, 1],\n",
       "       [4, 6]])"
      ]
     },
     "execution_count": 57,
     "metadata": {},
     "output_type": "execute_result"
    }
   ],
   "source": [
    "A+B"
   ]
  },
  {
   "cell_type": "code",
   "execution_count": 58,
   "metadata": {},
   "outputs": [
    {
     "data": {
      "text/plain": [
       "numpy.matrix"
      ]
     },
     "execution_count": 58,
     "metadata": {},
     "output_type": "execute_result"
    }
   ],
   "source": [
    "C=matrix(A)\n",
    "D=matrix(B)\n",
    "type(C)"
   ]
  },
  {
   "cell_type": "code",
   "execution_count": 59,
   "metadata": {},
   "outputs": [
    {
     "data": {
      "text/plain": [
       "matrix([[0, 1],\n",
       "        [4, 6]])"
      ]
     },
     "execution_count": 59,
     "metadata": {},
     "output_type": "execute_result"
    }
   ],
   "source": [
    "C+D"
   ]
  },
  {
   "cell_type": "code",
   "execution_count": 60,
   "metadata": {},
   "outputs": [
    {
     "data": {
      "text/plain": [
       "matrix([[2],\n",
       "        [8]])"
      ]
     },
     "execution_count": 60,
     "metadata": {},
     "output_type": "execute_result"
    }
   ],
   "source": [
    "G=matrix([[1,2,3],[4,5,6]])\n",
    "H=matrix([[1], [2], [-1]])\n",
    "G*H"
   ]
  },
  {
   "cell_type": "markdown",
   "metadata": {},
   "source": [
    "## 실습"
   ]
  },
  {
   "cell_type": "markdown",
   "metadata": {},
   "source": [
    "### 1. 인자로 전달되는 변수의 데이터 타입을 출력하는 파이썬 함수를 작성하고, 실제 실수, 스트링, 리스트의 경우를 테스트해보시오.  \n",
    "### &nbsp; &nbsp; 아래는 예시 답안입니다.\n",
    "<pre> \n",
    "  def type_porunt(x): # 함수 정의 \n",
    "    ...........# 파이썬 코드 작성\n",
    " \n",
    "  x=\"Hello\"\n",
    "  y=1.5\n",
    "  z=[1,2,3]\n",
    "  type_print(x)\n",
    "  type_print(y)\n",
    "  type_print(z)\n",
    " ----------------- </pre> \n",
    "  &nbsp; &nbsp; &nbsp; &nbsp; &nbsp; &nbsp; \\<class 'str'\\>  \n",
    "  &nbsp; &nbsp; &nbsp; &nbsp; &nbsp; &nbsp; \\<class 'float'\\>  \n",
    "  &nbsp; &nbsp; &nbsp; &nbsp; &nbsp; &nbsp; \\<class 'list' \\>  \n",
    " "
   ]
  },
  {
   "cell_type": "markdown",
   "metadata": {},
   "source": [
    "### 2. \\[-m,n\\) (m, n 은 양의 정수)  의 정수 가운데(예; {-2, 4) ={-2, -1, 0, 1, 2, 3} ), 양의 정수만을 추려내고 각 양의 정수를 제곱한 후에 이를 모두 더하는 결과를 리턴하는 파이썬 함수룰 작성하고, [-3,4) 에 대해 테스트 해보시오.  \n",
    "### &nbsp; &nbsp; &nbsp; &nbsp; 이 때,  함수의 인자로 양수  m,n 을 사용하고, range, lambda, map, fliter, reduce 등의 함수를 이용하시오.   "
   ]
  },
  {
   "cell_type": "markdown",
   "metadata": {},
   "source": [
    "### 3. 어떤 회사가 대학교에 학생들 채용을 위한 면접 대상자로 전기전자 또는 전산과 4학년 중 학점이 B 이상인 학생을 찾는다고 한다. 학생 명단 파일(\"students.txt\"), 4학년학생 명단파일(\"year4.txt\"), B학점이상 학생 명단 파일(\"goodGrades.txt\") 들이 주어졌을 때,  면접 대상자를 출력하는 파이썬 프로그래밍을 하고자 한다. 주어진 학생 명단 파일 \"students.txt\" 에는  각 줄에 \"아름, 전공\" 으로 기록되어 있다. "
   ]
  },
  {
   "cell_type": "markdown",
   "metadata": {},
   "source": [
    "### 3(a). 다음의 함수를 이용하여, 전산(CS) 또는 전기전자(EE) 학생 명단 집합을 구하고 그 집합 변수 이름을 csOrEE 로 하며, 그 집합에 속한 학생 이름을 출력하는 파이썬 프로그래밍을 작성해보시오. "
   ]
  },
  {
   "cell_type": "code",
   "execution_count": 61,
   "metadata": {},
   "outputs": [],
   "source": [
    "def streamOfTuples(fileName):\n",
    "    return ( line.strip().split(\",\") for line in open(fileName) )"
   ]
  },
  {
   "cell_type": "markdown",
   "metadata": {},
   "source": [
    "### 3(b). 4학년 학생 명단 집합(year4), 좋은 학점 학생 집합(goodGrdages) 등을 각 해당 파일, \"4years.txt\",  \"goodGrades.txt\" 구하고, 이들 집합과 앞에서 구한 전산(CS) 또는 전기전자(EE) 학생 명단 집합(csOrEE)andidates) 을 이용하여 면접대상자 집합 candidates 을 구하고, 면접 대상자 이름을 출력하는 파이썬 코드를 작성하시오. "
   ]
  }
 ],
 "metadata": {
  "kernelspec": {
   "display_name": "Python 3 (ipykernel)",
   "language": "python",
   "name": "python3"
  },
  "language_info": {
   "codemirror_mode": {
    "name": "ipython",
    "version": 3
   },
   "file_extension": ".py",
   "mimetype": "text/x-python",
   "name": "python",
   "nbconvert_exporter": "python",
   "pygments_lexer": "ipython3",
   "version": "3.9.7"
  }
 },
 "nbformat": 4,
 "nbformat_minor": 4
}
