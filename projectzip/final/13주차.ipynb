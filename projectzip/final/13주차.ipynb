{
 "cells": [
  {
   "cell_type": "markdown",
   "metadata": {},
   "source": [
    "###  실습 1: \n",
    "#### 1(a) 상기 M-ary 트리 클래스, \" M_ary_Node\"  클래스로 구성된 M-ary Tree 의 깊이를 구하는 파이썬 코드를 프로그래밍하여 보시오."
   ]
  },
  {
   "cell_type": "markdown",
   "metadata": {},
   "source": [
    "#### M-ary 트리의 깊이는 상기  'M-ary_Node' 클래스를 이용하여 다음과 같은 파이썬 함수로 구할 수있습니다."
   ]
  },
  {
   "cell_type": "code",
   "execution_count": 43,
   "metadata": {},
   "outputs": [],
   "source": [
    "def M_ary_Tree_depth(root, length=0):\n",
    "    tree_depth =0   \n",
    "    p_length=0\n",
    "    if root:\n",
    "        length +=1\n",
    "    for child in root.children:    \n",
    "        p_length = M_ary_Tree_depth(child, length)        \n",
    "        if tree_depth < p_length:\n",
    "                tree_depth=p_length\n",
    "    if tree_depth < length - 1:            \n",
    "        tree_depth = length-1\n",
    "        \n",
    "    return tree_depth  "
   ]
  },
  {
   "cell_type": "markdown",
   "metadata": {},
   "source": [
    "#### 1(b) 상기에서 구한 파이썬 코드를 이용하여 [그림 1]의   3진 트리의 깊이를 확인하시오. "
   ]
  },
  {
   "cell_type": "code",
   "execution_count": 44,
   "metadata": {},
   "outputs": [],
   "source": [
    "Mary_depth1 = M_ary_Node('a', 3)\n",
    "Mary_depth1.add_child('b')\n",
    "Mary_depth1.add_child('c', 0)\n",
    "Mary_depth1.add_child('d', 3)\n",
    "Mary_depth1.add_child('e')\n",
    "Mary_depth1.add_child('f', 0)\n",
    "Mary_depth1.add_child('g')\n",
    "Mary_depth1.add_child('h', 0)\n",
    "Mary_depth1.add_child('i', 0)\n",
    "Mary_depth1.add_child('j', 0)\n",
    "Mary_depth1.add_child('k', 3)\n",
    "Mary_depth1.add_child('l', 0)\n",
    "Mary_depth1.add_child('m', 2)\n",
    "Mary_depth1.add_child('n', 2)\n",
    "Mary_depth1.add_child('o', 0)  \n",
    "Mary_depth1.add_child('p', 1)\n",
    "Mary_depth1.add_child('q', 0)\n",
    "Mary_depth1.add_child('r', 0)\n",
    "Mary_depth1.add_child('s', 0)\n",
    "Mary_depth1.add_child('t', 0)\n",
    "Mary_depth1.add_child('u', 0)\n"
   ]
  },
  {
   "cell_type": "code",
   "execution_count": 35,
   "metadata": {},
   "outputs": [
    {
     "data": {
      "text/plain": [
       "5"
      ]
     },
     "execution_count": 35,
     "metadata": {},
     "output_type": "execute_result"
    }
   ],
   "source": [
    "M_ary_Tree_depth(Mary_depth1)"
   ]
  },
  {
   "cell_type": "markdown",
   "metadata": {},
   "source": [
    "#### 1(c) 상기에서 구한 파이썬 코드를 이용하여 [그림 3]  2진 트리의 깊이를 확인하시오. "
   ]
  },
  {
   "cell_type": "code",
   "execution_count": 36,
   "metadata": {},
   "outputs": [],
   "source": [
    "Mary_tree3 = M_ary_Node('j')\n",
    "Mary_tree3.add_child('e')\n",
    "Mary_tree3.add_child('l')\n",
    "Mary_tree3.add_child('b')\n",
    "Mary_tree3.add_child('h')\n",
    "Mary_tree3.add_child('k',0)\n",
    "Mary_tree3.add_child('n')\n",
    "Mary_tree3.add_child('a',0)\n",
    "Mary_tree3.add_child('d',1)\n",
    "Mary_tree3.add_child('f',1)\n",
    "Mary_tree3.add_child('i',0)\n",
    "Mary_tree3.add_child('m',0)\n",
    "Mary_tree3.add_child('o',0)\n",
    "Mary_tree3.add_child('c',0)\n",
    "Mary_tree3.add_child('g',0)"
   ]
  },
  {
   "cell_type": "code",
   "execution_count": 37,
   "metadata": {},
   "outputs": [
    {
     "data": {
      "text/plain": [
       "4"
      ]
     },
     "execution_count": 37,
     "metadata": {},
     "output_type": "execute_result"
    }
   ],
   "source": [
    "M_ary_Tree_depth(Mary_tree3)"
   ]
  },
  {
   "cell_type": "markdown",
   "metadata": {
    "collapsed": true
   },
   "source": [
    "###  실습 2: \n",
    "####  다음 [그림 3] 를상기 'M_ary_Node_Traversal' 클래스를 이용하여 생성하고,  preorder, inorder, postorder 로 순회하여 보시오. 그리고, [그림 4] 'Balanced Binary Tree'(Binary Search Tree 아님)  를 상기 'BTree_Node_Traversal' 클래스를 이용하여 생성하고  preorder, inorder, postorder 로 순회하여 보시오."
   ]
  },
  {
   "cell_type": "markdown",
   "metadata": {},
   "source": [
    "![Altext](img/13-fig34-bst.png)"
   ]
  },
  {
   "cell_type": "code",
   "execution_count": 49,
   "metadata": {},
   "outputs": [
    {
     "name": "stdout",
     "output_type": "stream",
     "text": [
      "['j', 'e', 'b', 'a', 'd', 'c', 'h', 'f', 'g', 'i', 'l', 'k', 'n', 'm', 'o']\n",
      "['a', 'b', 'c', 'd', 'e', 'g', 'f', 'h', 'i', 'j', 'k', 'l', 'm', 'n', 'o']\n",
      "['a', 'c', 'd', 'b', 'g', 'f', 'i', 'h', 'e', 'k', 'm', 'o', 'n', 'l', 'j']\n"
     ]
    }
   ],
   "source": [
    "tras3= M_ary_Node_Traversal('j')\n",
    "tras3.add_child('e')\n",
    "tras3.add_child('l')\n",
    "tras3.add_child('b')\n",
    "tras3.add_child('h')\n",
    "tras3.add_child('k', 0)\n",
    "tras3.add_child('n', 2)\n",
    "tras3.add_child('a', 0)\n",
    "tras3.add_child('d',1)\n",
    "tras3.add_child('f', 1)\n",
    "tras3.add_child('i', 0)\n",
    "tras3.add_child('m', 0)\n",
    "tras3.add_child('o', 0)\n",
    "tras3.add_child('c', 0)\n",
    "tras3.add_child('g', 0)\n",
    "print(tras3.PreorderTraversal(tras3))  # root - Left- Right \n",
    "print(tras3.InorderTraversal(tras3))   # Left-root-Right \n",
    "print(tras3.PostorderTraversal(tras3)) # Left - Right - root"
   ]
  },
  {
   "cell_type": "code",
   "execution_count": 50,
   "metadata": {},
   "outputs": [],
   "source": [
    "btree3 = BTree_Node_Traversal('h')\n",
    "btree3.insert('d')\n",
    "btree3.insert('l')\n",
    "btree3.insert('b')\n",
    "btree3.insert('f')\n",
    "btree3.insert('j')\n",
    "btree3.insert('n')\n",
    "btree3.insert('a')\n",
    "btree3.insert('c')\n",
    "btree3.insert('e')\n",
    "btree3.insert('g')\n",
    "btree3.insert('i')\n",
    "btree3.insert('k')\n",
    "btree3.insert('m')\n",
    "btree3.insert('o')"
   ]
  },
  {
   "cell_type": "code",
   "execution_count": 51,
   "metadata": {},
   "outputs": [
    {
     "name": "stdout",
     "output_type": "stream",
     "text": [
      "['h', 'd', 'b', 'a', 'c', 'f', 'e', 'g', 'l', 'j', 'i', 'k', 'n', 'm', 'o']\n",
      "['a', 'b', 'c', 'd', 'e', 'f', 'g', 'h', 'i', 'j', 'k', 'l', 'm', 'n', 'o']\n",
      "['a', 'c', 'b', 'e', 'g', 'f', 'd', 'i', 'k', 'j', 'm', 'o', 'n', 'l', 'h']\n"
     ]
    }
   ],
   "source": [
    "print(btree3.PreorderTraversal(btree3))  # root - Left- Right \n",
    "print(btree3.InorderTraversal(btree3))   # Left-root-Right \n",
    "print(btree3.PostorderTraversal(btree3)) # Left - Right - root "
   ]
  }
 ],
 "metadata": {
  "kernelspec": {
   "display_name": "Python 3 (ipykernel)",
   "language": "python",
   "name": "python3"
  },
  "language_info": {
   "codemirror_mode": {
    "name": "ipython",
    "version": 3
   },
   "file_extension": ".py",
   "mimetype": "text/x-python",
   "name": "python",
   "nbconvert_exporter": "python",
   "pygments_lexer": "ipython3",
   "version": "3.9.7"
  }
 },
 "nbformat": 4,
 "nbformat_minor": 2
}
