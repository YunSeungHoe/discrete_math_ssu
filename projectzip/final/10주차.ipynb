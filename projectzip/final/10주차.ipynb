{
 "cells": [
  {
   "cell_type": "markdown",
   "metadata": {},
   "source": [
    "<br/><br/><br/><br/>\n",
    "<h1> 실습 문제 </h1>\n"
   ]
  },
  {
   "cell_type": "markdown",
   "metadata": {},
   "source": [
    "###  다음과 같은 [그림 5] 의 그래프에 대해서 아래 질문들에 답하시오."
   ]
  },
  {
   "cell_type": "markdown",
   "metadata": {},
   "source": [
    "![Exercise](img/fig5.png)"
   ]
  },
  {
   "cell_type": "markdown",
   "metadata": {},
   "source": [
    "###  실습 1. \n",
    "####  [그림 5] 의 그래프에 대해,  ' adjacency list' 표현의 파이썬 코드를 구하시오.\n"
   ]
  },
  {
   "cell_type": "markdown",
   "metadata": {},
   "source": [
    "#### 상기 [그림 5] 의 그래프에 대해, ' adjacency list' 표현의 파이썬 코드는 다음과 같습니다."
   ]
  },
  {
   "cell_type": "code",
   "execution_count": 1,
   "metadata": {},
   "outputs": [],
   "source": [
    "weight_adjacency_list = {\n",
    "             'A': [['B', 2], ['F', 7], ['G', 3]],\n",
    "             'B': [['A', 2],['C', 4], ['G', 6]],\n",
    "             'C': [['B', 4], ['D', 2],['H', 2]],         \n",
    "             'D': [['C', 2], ['E', 1],['H', 8]],\n",
    "             'E': [['D', 1], ['F', 6],['I', 2]],             \n",
    "             'F': [['A', 7], ['E', 6],['I', 5]],\n",
    "             'G': [['A', 3], ['B', 6],['H', 3], ['I', 1]] ,\n",
    "             'H': [['C', 2], ['D', 8],['G', 3], ['I', 4]],\n",
    "             'I': [['E', 2], ['F', 5],['G', 1], ['H', 4]] \n",
    "    \n",
    "}"
   ]
  },
  {
   "cell_type": "markdown",
   "metadata": {},
   "source": [
    "###  실습 2(a). \n",
    "####   'weighted  adjacency list'  파이썬 표현으로부터,  'weighted adjacency matrix'  표현을 구할 수있는  파이썬 함수를 코딩하여 보시오. (node 순서는  알파벳 올림차순 임(즉,  A,  B, C, D, E, F, G, H, I.)"
   ]
  },
  {
   "cell_type": "code",
   "execution_count": 2,
   "metadata": {},
   "outputs": [],
   "source": [
    "def Adj_Mat_W(adjL):  \n",
    "    n=len(adjL)\n",
    "    nodes =list()    \n",
    "    for key in adjL:\n",
    "        nodes.append(key)\n",
    "   \n",
    "    adM= [[] for _ in range(n)]    \n",
    "    \n",
    "    k=0\n",
    "    j=0    \n",
    "    for node in nodes:        \n",
    "        if adjL[node]:\n",
    "            for s in adjL[node]:\n",
    "                i=0\n",
    "               # print(\"node={}, str={}\".format(node,s))\n",
    "                while(i < n):                   \n",
    "                    if i>=j:                       \n",
    "                        if s[0] == nodes[i]:\n",
    "                            adM[k].append(s[1])\n",
    "                            j=i+1           \n",
    "                            i=n\n",
    "                        else:\n",
    "                            adM[k].append(0)  \n",
    "                            i+=1\n",
    "                    else:\n",
    "                        i+=1\n",
    "            if j< n: \n",
    "                for _ in range(j, n):\n",
    "                    adM[k].append(0)  \n",
    "            \n",
    "        else:\n",
    "            for _ in range(n):\n",
    "                adM[k].append(0)\n",
    "        k+=1\n",
    "        j=0\n",
    "    return adM    "
   ]
  },
  {
   "cell_type": "markdown",
   "metadata": {},
   "source": [
    "###  실습 2(b)\n",
    "#### 실습 2(a)에서 구한 함수를 이용하여, 실습1  의 [그림 5] 의 그래프에 대한  ' adjacency list'  파이썬 표현으로부터,  'weighted adjacency matrix'  을 구하여 보시오. "
   ]
  },
  {
   "cell_type": "code",
   "execution_count": 3,
   "metadata": {},
   "outputs": [
    {
     "data": {
      "text/plain": [
       "[[0, 2, 0, 0, 0, 7, 3, 0, 0],\n",
       " [2, 0, 4, 0, 0, 0, 6, 0, 0],\n",
       " [0, 4, 0, 2, 0, 0, 0, 2, 0],\n",
       " [0, 0, 2, 0, 1, 0, 0, 8, 0],\n",
       " [0, 0, 0, 1, 0, 6, 0, 0, 2],\n",
       " [7, 0, 0, 0, 6, 0, 0, 0, 5],\n",
       " [3, 6, 0, 0, 0, 0, 0, 3, 1],\n",
       " [0, 0, 2, 8, 0, 0, 3, 0, 4],\n",
       " [0, 0, 0, 0, 2, 5, 1, 4, 0]]"
      ]
     },
     "execution_count": 3,
     "metadata": {},
     "output_type": "execute_result"
    }
   ],
   "source": [
    "Adj_Mat_W(weight_adjacency_list)"
   ]
  },
  {
   "cell_type": "markdown",
   "metadata": {},
   "source": [
    "### 실습 3.\n",
    "#### \"networkx'  파이썬 패키지를 사용하여 [그림 5]의 그래프를 그려 보시오. 단, 아래 pos 변수를 이용하여 출력 예시와  반드시 동일하게 출력해야 합니다."
   ]
  },
  {
   "cell_type": "code",
   "execution_count": 4,
   "metadata": {},
   "outputs": [],
   "source": [
    "# 그래프 위치에 관한 dictionary. \n",
    "# https://networkx.github.io/documentation/stable/reference/generated/networkx.drawing.nx_pylab.draw_networkx_nodes.html\n",
    "A,B,C,D,E,F,G,H,I = 'ABCDEFGHI'\n",
    "pos = {A:(1, 2),B:(3, 2),C:(4, 1),D:(3, 0),E:(1, 0),F:(0, 1),G:(2, 1.5),H:(3, 1),I:(1, 1)}"
   ]
  },
  {
   "cell_type": "markdown",
   "metadata": {},
   "source": [
    "<출력 예시>"
   ]
  },
  {
   "cell_type": "markdown",
   "metadata": {},
   "source": [
    "![Altext](img/prob0.png)"
   ]
  },
  {
   "cell_type": "markdown",
   "metadata": {},
   "source": [
    "<br/>※ 풀이조건\n",
    "<ol>\n",
    "    <li>그래프를 그릴 때 크기 및 색상은 자유롭게 하되, 각 노드 및 엣지를 '알아볼 수 있도록' 그린다.</li>\n",
    "</ol>\n",
    "<br/> ※ 제한조건\n",
    "<ol>\n",
    "    <li>pos 변수를 사용하여 각 노드 및 엣지의 위치는 위 출력 예시와 동일하게 출력되어야 한다. 안 되었을 시 0.5점 감점한다.</li>\n",
    "</ol>\n"
   ]
  },
  {
   "cell_type": "code",
   "execution_count": 5,
   "metadata": {},
   "outputs": [],
   "source": [
    "import networkx as nx\n",
    "from matplotlib import pyplot as plt"
   ]
  },
  {
   "cell_type": "code",
   "execution_count": 6,
   "metadata": {},
   "outputs": [],
   "source": [
    "def draw_graph(graph, pos=None) :\n",
    "    if pos == None : pos=nx.spring_layout(graph)\n",
    "    plt.figure(figsize=(10, 8))\n",
    "    nx.draw_networkx_nodes(graph, pos=pos, node_size=2000, node_color='cyan')\n",
    "    nx.draw_networkx_edges(graph, pos=pos)\n",
    "    nx.draw_networkx_labels(graph, pos=pos, font_size=30)\n",
    "    edge_labels = {(u, v): d['weight'] for u, v, d in graph.edges(data=True)}\n",
    "    nx.draw_networkx_edge_labels(graph, pos=pos, edge_labels=edge_labels, font_size=20, rotate=False)\n",
    "    plt.show()"
   ]
  },
  {
   "cell_type": "code",
   "execution_count": 7,
   "metadata": {},
   "outputs": [
    {
     "data": {
      "image/png": "[encoded data removed]",
      "text/plain": [
       "<Figure size 720x576 with 1 Axes>"
      ]
     },
     "metadata": {},
     "output_type": "display_data"
    }
   ],
   "source": [
    "A,B,C,D,E,F,G,H,I = 'ABCDEFGHI'\n",
    "graph=nx.Graph()\n",
    "nodes=[A,B,C,D,E,F,G,H,I]\n",
    "edges=[(A, B, 2), (A, G, 3), (A, F, 7), (B, C, 4), (B, G, 6), (C, D, 2), (C, H, 2), \n",
    "       (D, E, 1), (D, H, 8), (E, F, 6), (E, I, 2), (F, I, 5), (G, I, 1), (G, H, 3), (H, I, 4)]\n",
    "\n",
    "\n",
    "graph.add_nodes_from(nodes)\n",
    "graph.add_weighted_edges_from(edges)\n",
    "\n",
    "draw_graph(graph, pos)"
   ]
  },
  {
   "cell_type": "markdown",
   "metadata": {},
   "source": [
    "#### 실습  4.\n",
    "#### \"networkx' 파이썬 패키지를 사용하여 위에서 그린 그래프에서 노드 F 에서 노드 B, C, D, H, G 까지의 최단 경로와 최단 거리를 각각 구하여 출력하시오. 단, 아래 출력 예시에 맞게 출력해야 합니다."
   ]
  },
  {
   "cell_type": "markdown",
   "metadata": {},
   "source": [
    "<출력 예시>\n",
    "<br/>노드 F에서 노드 E까지 최단 경로는 ['F', 'E'] 이며 최단 거리는 6 이다."
   ]
  },
  {
   "cell_type": "markdown",
   "metadata": {},
   "source": [
    "※ 풀이조건\n",
    "<ol>\n",
    "    <li>\"networkx' 파이썬 패키지 내 함수 및 클래스를 사용하여 시작 노드를 F로, 도착 노드를 B, C, D, H, G 중 하나씩 설정해서 총 5개의 최단 경로와 최단 거리를 구하여 출력한다. (예: (F-B), (F-C), (F-D), (F-H), (F-G) 로, 총 5개)</li>\n",
    "    <li>최단 경로가 2개 이상일 경우 아무 것이나 1개를 택하여 출력한다.</li>\n",
    "</ol>\n",
    "<br/> ※ 제한조건\n",
    "<ol>\n",
    "    <li>5개 경로 및 거리가 모두 올바른 값이면 정답 처리 한다.</li>\n",
    "    <li>다른 패키지 함수를 이용하여 간단히 구현해도 정답처리한다. 단 실습 3의 답과 동일하게 구현하면 0점 처리한다.</li>\n",
    "</ol>\n"
   ]
  },
  {
   "cell_type": "code",
   "execution_count": 8,
   "metadata": {},
   "outputs": [
    {
     "name": "stdout",
     "output_type": "stream",
     "text": [
      "노드 F에서 노드 B까지 최단 경로는 ['F', 'A', 'B'] 이며 최단 거리는 9 이다\n",
      "노드 F에서 노드 C까지 최단 경로는 ['F', 'E', 'D', 'C'] 이며 최단 거리는 9 이다\n",
      "노드 F에서 노드 D까지 최단 경로는 ['F', 'E', 'D'] 이며 최단 거리는 7 이다\n",
      "노드 F에서 노드 H까지 최단 경로는 ['F', 'I', 'H'] 이며 최단 거리는 9 이다\n",
      "노드 F에서 노드 G까지 최단 경로는 ['F', 'I', 'G'] 이며 최단 거리는 6 이다\n"
     ]
    }
   ],
   "source": [
    "import networkx as nx\n",
    "\n",
    "src = 'F'\n",
    "dst = 'BCDHG'\n",
    "for d in dst :\n",
    "    print('노드 '+src+'에서 노드 '+d+'까지 최단 경로는',\n",
    "          nx.shortest_path(graph, src, d, \"weight\"),\n",
    "          '이며 최단 거리는',\n",
    "          nx.shortest_path_length(graph, src, d, \"weight\"),\n",
    "          '이다')"
   ]
  }
 ],
 "metadata": {
  "kernelspec": {
   "display_name": "Python 3.9.12 ('base')",
   "language": "python",
   "name": "python3"
  },
  "language_info": {
   "codemirror_mode": {
    "name": "ipython",
    "version": 3
   },
   "file_extension": ".py",
   "mimetype": "text/x-python",
   "name": "python",
   "nbconvert_exporter": "python",
   "pygments_lexer": "ipython3",
   "version": "3.9.12"
  },
  "vscode": {
   "interpreter": {
    "hash": "d53987ecb595d47b858fb20818fc57333593e153a0e3e1d0f7ed0487b17d3604"
   }
  }
 },
 "nbformat": 4,
 "nbformat_minor": 2
}
