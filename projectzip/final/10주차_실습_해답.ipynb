{
 "cells": [
  {
   "cell_type": "markdown",
   "metadata": {},
   "source": [
    "# 그래프 기초 (교재 10장 1,2,3 절)</h1>\n",
    "### 그래프는 컴퓨터 사이언스에서 풀고자하는 많은 문제들을 표현하는 데 매우 유용하다. "
   ]
  },
  {
   "cell_type": "markdown",
   "metadata": {},
   "source": [
    "## 1.  연결 그래프 표현 \n",
    "####  수학에서 그래프 $G$ 는 $G=(V, E) ~~where~~ V ; Node~ Set, ~~E; Edge ~Set $  로 정의됩니다.  \n",
    "#### 다음 [그림 1]  의 그래프에 대해,  파이썬에서는 이를 어떻게 표현하는 게 좋을 지를 살펴 봅시다. \n",
    "![Alttext](fig1.png)\n"
   ]
  },
  {
   "cell_type": "markdown",
   "metadata": {},
   "source": [
    "###  가.   테이블 데이터 표현의 직접적 표현 "
   ]
  },
  {
   "cell_type": "markdown",
   "metadata": {},
   "source": [
    "#### 먼저, 데이터를 테이블 형식으로 표현하고자 할 때, 유용한 파이썬 라이브러리 패키지로 '[pandas](https://pandas.pydata.org/)' 가 있습니다. \n",
    "#### 'pandas' 는 1차원 데이터 표현으로 'Series', 2차원 데이터 표현으로 'Dataframe' 이라는 자료구조를 제공하며, 'Dataframe'을 시각적으로 표현한다면 테이블 형식으로 표현하고 비쥬얼라이제이션 할 수있습니다. \n",
    "\n",
    "#### 아래 파이썬 코드는   Panda 의 'Dataframe'  을 이용하여 테이블 형테로 표현하는 것을 보여줍니다."
   ]
  },
  {
   "cell_type": "code",
   "execution_count": 1,
   "metadata": {},
   "outputs": [
    {
     "data": {
      "text/html": [
       "<div>\n",
       "<style scoped>\n",
       "    .dataframe tbody tr th:only-of-type {\n",
       "        vertical-align: middle;\n",
       "    }\n",
       "\n",
       "    .dataframe tbody tr th {\n",
       "        vertical-align: top;\n",
       "    }\n",
       "\n",
       "    .dataframe thead th {\n",
       "        text-align: right;\n",
       "    }\n",
       "</style>\n",
       "<table border=\"1\" class=\"dataframe\">\n",
       "  <thead>\n",
       "    <tr style=\"text-align: right;\">\n",
       "      <th></th>\n",
       "      <th>B</th>\n",
       "      <th>E</th>\n",
       "      <th>F</th>\n",
       "      <th>L</th>\n",
       "      <th>N</th>\n",
       "      <th>S</th>\n",
       "    </tr>\n",
       "  </thead>\n",
       "  <tbody>\n",
       "    <tr>\n",
       "      <th>B</th>\n",
       "      <td>0</td>\n",
       "      <td>0</td>\n",
       "      <td>1</td>\n",
       "      <td>1</td>\n",
       "      <td>1</td>\n",
       "      <td>1</td>\n",
       "    </tr>\n",
       "    <tr>\n",
       "      <th>E</th>\n",
       "      <td>0</td>\n",
       "      <td>0</td>\n",
       "      <td>1</td>\n",
       "      <td>1</td>\n",
       "      <td>0</td>\n",
       "      <td>0</td>\n",
       "    </tr>\n",
       "    <tr>\n",
       "      <th>F</th>\n",
       "      <td>1</td>\n",
       "      <td>1</td>\n",
       "      <td>0</td>\n",
       "      <td>1</td>\n",
       "      <td>1</td>\n",
       "      <td>0</td>\n",
       "    </tr>\n",
       "    <tr>\n",
       "      <th>L</th>\n",
       "      <td>1</td>\n",
       "      <td>1</td>\n",
       "      <td>1</td>\n",
       "      <td>0</td>\n",
       "      <td>1</td>\n",
       "      <td>1</td>\n",
       "    </tr>\n",
       "    <tr>\n",
       "      <th>N</th>\n",
       "      <td>1</td>\n",
       "      <td>0</td>\n",
       "      <td>1</td>\n",
       "      <td>1</td>\n",
       "      <td>0</td>\n",
       "      <td>1</td>\n",
       "    </tr>\n",
       "    <tr>\n",
       "      <th>S</th>\n",
       "      <td>1</td>\n",
       "      <td>0</td>\n",
       "      <td>0</td>\n",
       "      <td>1</td>\n",
       "      <td>1</td>\n",
       "      <td>0</td>\n",
       "    </tr>\n",
       "  </tbody>\n",
       "</table>\n",
       "</div>"
      ],
      "text/plain": [
       "   B  E  F  L  N  S\n",
       "B  0  0  1  1  1  1\n",
       "E  0  0  1  1  0  0\n",
       "F  1  1  0  1  1  0\n",
       "L  1  1  1  0  1  1\n",
       "N  1  0  1  1  0  1\n",
       "S  1  0  0  1  1  0"
      ]
     },
     "execution_count": 1,
     "metadata": {},
     "output_type": "execute_result"
    }
   ],
   "source": [
    "from pandas import DataFrame\n",
    "\n",
    "connectivity = {'B':  [0, 0, 1, 1, 1, 1],\n",
    "           'E':  [0, 0, 1, 1, 0, 0],\n",
    "           'F' : [1, 1, 0, 1, 1, 0],\n",
    "           'L': [1, 1, 1, 0, 1, 1], \n",
    "           'N': [1, 0, 1, 1, 0, 1], \n",
    "           'S': [1, 0, 0, 1, 1, 0]\n",
    "            }\n",
    "cities = ['B', 'E', 'F', 'L', 'N' , 'S']\n",
    "connectivity_graph = DataFrame(connectivity, columns=['B', 'E', 'F', 'L', 'N', 'S'], index=cities)\n",
    "connectivity_graph"
   ]
  },
  {
   "cell_type": "markdown",
   "metadata": {},
   "source": [
    "### 나.  그래프 정의 표현 \n",
    "####  앞에서 설명했듯이, 수학에서 그래프 $G$ 는 $G=(V, E)~~~ V ; Node Set, E; Edge Set ~~$  로 정의됩니다.  다음은 상기 [그림 1]의 그래프를 노드 집합 $V$ 과 에지 집합 $E$으로 표현해 봅니다."
   ]
  },
  {
   "cell_type": "markdown",
   "metadata": {},
   "source": [
    "### Node Set 표현\n",
    "####  노드를 나타낼 때,  노드를 표시하는 기호를  사용하는 게 일반적입니다. 따라서,  상기 [그림 1]  그래프의 노드 집합은 파이썬에서는  다음과 같이 표현할 수있습니다. "
   ]
  },
  {
   "cell_type": "code",
   "execution_count": 2,
   "metadata": {},
   "outputs": [],
   "source": [
    "V = {'B', 'E', 'F', 'L', 'N',  'S' } "
   ]
  },
  {
   "cell_type": "markdown",
   "metadata": {},
   "source": [
    "### Edge Set 표현\n",
    "#### 에지를 나타낼 때,  시작노드와 종단 노드의 순서쌍으로 표시합니다. 따라서, 파이썬에서는 튜플을 사용합니다.  그런데, 무방향 그래프에서 에지 ('B','F') 는 에지 ('F', 'B')와 동일합니다. 따라서, 무방향 그래프 에지 집합에서는 2개의 동일한 에지 표현에서 하나만 포함시켜야 합니다.  보통  시작노드의 알파벳이 작은 순서(즉, 여기서는 ('B','F'))를 포함합니다.  \n",
    "#### 따라서,  상기 [그림 2]  그래프의 에지 집합은 파이썬에서는  다음과 같이 표현할 수있습니다. "
   ]
  },
  {
   "cell_type": "code",
   "execution_count": 3,
   "metadata": {},
   "outputs": [],
   "source": [
    "E={('B', 'F'), ('B', 'L'), ('B', 'N'), ('B', 'S'),('E', 'F'),('E', 'L'), ('F', 'L'), ('F', 'N'), ('L', 'N'), ('L', 'S'), ('N', 'S')}"
   ]
  },
  {
   "cell_type": "code",
   "execution_count": 4,
   "metadata": {},
   "outputs": [
    {
     "data": {
      "text/plain": [
       "11"
      ]
     },
     "execution_count": 4,
     "metadata": {},
     "output_type": "execute_result"
    }
   ],
   "source": [
    "len(E)"
   ]
  },
  {
   "cell_type": "code",
   "execution_count": 5,
   "metadata": {},
   "outputs": [
    {
     "data": {
      "text/plain": [
       "({'B', 'E', 'F', 'L', 'N', 'S'},\n",
       " {('B', 'F'),\n",
       "  ('B', 'L'),\n",
       "  ('B', 'N'),\n",
       "  ('B', 'S'),\n",
       "  ('E', 'F'),\n",
       "  ('E', 'L'),\n",
       "  ('F', 'L'),\n",
       "  ('F', 'N'),\n",
       "  ('L', 'N'),\n",
       "  ('L', 'S'),\n",
       "  ('N', 'S')})"
      ]
     },
     "execution_count": 5,
     "metadata": {},
     "output_type": "execute_result"
    }
   ],
   "source": [
    "G=(V,E)\n",
    "G"
   ]
  },
  {
   "cell_type": "markdown",
   "metadata": {},
   "source": [
    "####  노드 집합 표현으로  집합 데이터 타입을 사용해도 되나  순서를 매겨놓는 게  차후 처리에 유용합니다.  그런데,  노드  표시 기호들이  변경되면 곤란하므로  immutable 인 tuple 데이터 타입을 이용하는 게  적절합니다.  \n",
    "####   또한, 에지 집합도 나중의 처리를 위해서는 순서를 매겨 놓는 게 좋아서, 에지들의 리스트 형태로 표현하는 게 더 적절합니다. "
   ]
  },
  {
   "cell_type": "code",
   "execution_count": 6,
   "metadata": {},
   "outputs": [],
   "source": [
    "V1 = ('B', 'E', 'F', 'L', 'N',  'S' )\n",
    "E1=[('B', 'F'), ('B', 'L'), ('B', 'N'), ('B', 'S'),('E', 'F'),('E', 'L'), ('F', 'L'), ('F', 'N'), ('L', 'N'), ('L', 'S'), ('N', 'S')]\n"
   ]
  },
  {
   "cell_type": "code",
   "execution_count": 7,
   "metadata": {},
   "outputs": [
    {
     "data": {
      "text/plain": [
       "11"
      ]
     },
     "execution_count": 7,
     "metadata": {},
     "output_type": "execute_result"
    }
   ],
   "source": [
    "len(E1)"
   ]
  },
  {
   "cell_type": "markdown",
   "metadata": {},
   "source": [
    "## 2.  그래프 표현 "
   ]
  },
  {
   "cell_type": "markdown",
   "metadata": {},
   "source": [
    "#### 위 [그림 1]의 그래프를 표현하는 방법으로는 'adjacency list', 'adjacency matrix' 등이 있습니다. "
   ]
  },
  {
   "cell_type": "markdown",
   "metadata": {},
   "source": [
    "### adjacency list 표현\n",
    "#### [그림 1]에 대한 adjacency list 표현은 [그림 2] 와 같습니다. \n",
    "![Alttext](fig2.png)\n",
    "\n",
    "#### [그림 2]의  adjacency list 표현은  파이썬에서는 다음과 같이 'dictionary' 데이터 타입을 이용하는 게 적절합니다. "
   ]
  },
  {
   "cell_type": "code",
   "execution_count": 8,
   "metadata": {},
   "outputs": [],
   "source": [
    "graph = {\n",
    "       'B': ['F', 'L', 'N', 'S'],\n",
    "       'E': ['F', 'L'],\n",
    "       'F': ['B', 'E', 'L', 'N'],\n",
    "       'L': ['B', 'E', 'F', 'N', 'S'],\n",
    "       'N': ['B', 'F', 'L', 'S'],\n",
    "       'S': ['B', 'L', 'N']  }\n"
   ]
  },
  {
   "cell_type": "markdown",
   "metadata": {},
   "source": [
    "#### adjacency list 의 딕셔너리 표현이 정렬이 된 상태로 표현되는 것이 좋습니다.\n",
    "#### 즉,  ![Alttext](adjlist_arrange.png)"
   ]
  },
  {
   "cell_type": "code",
   "execution_count": 9,
   "metadata": {},
   "outputs": [],
   "source": [
    "# Sort dictionary\n",
    "def sort_dictionary(adjL):\n",
    "    tmp=dict(sorted(adjL.items()))\n",
    "  #  print(tmp)\n",
    "    for s in tmp:\n",
    "      #  print(s)\n",
    "      tmp[s].sort()\n",
    "    return tmp"
   ]
  },
  {
   "cell_type": "code",
   "execution_count": 10,
   "metadata": {},
   "outputs": [
    {
     "data": {
      "text/plain": [
       "{'B': ['F', 'L', 'N', 'S'],\n",
       " 'E': ['F', 'L'],\n",
       " 'F': ['B', 'E', 'L', 'N'],\n",
       " 'L': ['B', 'E', 'F', 'N', 'S'],\n",
       " 'N': ['B', 'F', 'L', 'S'],\n",
       " 'S': ['B', 'L', 'N']}"
      ]
     },
     "execution_count": 10,
     "metadata": {},
     "output_type": "execute_result"
    }
   ],
   "source": [
    "graph1 = {\n",
    "       'F': ['L', 'N', 'B', 'E'],\n",
    "       'B': ['F', 'L', 'N', 'S'],\n",
    "       'E': ['F', 'L'],\n",
    "      \n",
    "       'L': ['B', 'E', 'F', 'N', 'S'],\n",
    "       'N': ['B', 'F', 'L', 'S'],\n",
    "       'S': ['B', 'L', 'N']  }\n",
    "\n",
    "sort_dictionary(graph1)"
   ]
  },
  {
   "cell_type": "markdown",
   "metadata": {},
   "source": [
    "#### 상기 표현은 노드 세트 및 에지 세트 모두를 하나의 dictionary 데이터 타입으로 간결하게 표현 했음을 알 수있습니다. \n",
    "#### 상기 표현으로 부터, 노드 세트 $V$ 및 에지 세트 $E$  를 구할 수있습니다. "
   ]
  },
  {
   "cell_type": "code",
   "execution_count": 11,
   "metadata": {},
   "outputs": [],
   "source": [
    "def node_Edge_from_adjacency_list(adjL):\n",
    "    adjList=sort_dictionary(adjL)\n",
    "    TV=list()\n",
    "    TE=list()\n",
    "    for key in adjList:\n",
    "        TV.append(key)\n",
    "        for i in adjList[key]:\n",
    "            if (key, i) not in TE and (i, key) not in TE:\n",
    "                TE.append((key, i))\n",
    "    return tuple(TV), TE"
   ]
  },
  {
   "cell_type": "code",
   "execution_count": 12,
   "metadata": {},
   "outputs": [
    {
     "name": "stdout",
     "output_type": "stream",
     "text": [
      "V2= ('B', 'E', 'F', 'L', 'N', 'S')\n",
      "E2= [('B', 'F'), ('B', 'L'), ('B', 'N'), ('B', 'S'), ('E', 'F'), ('E', 'L'), ('F', 'L'), ('F', 'N'), ('L', 'N'), ('L', 'S'), ('N', 'S')]\n"
     ]
    }
   ],
   "source": [
    "V2, E2= node_Edge_from_adjacency_list(graph)\n",
    "print('V2=', V2)\n",
    "print('E2=', E2)"
   ]
  },
  {
   "cell_type": "code",
   "execution_count": 13,
   "metadata": {},
   "outputs": [
    {
     "name": "stdout",
     "output_type": "stream",
     "text": [
      "True\n"
     ]
    }
   ],
   "source": [
    "print(E1==E2)"
   ]
  },
  {
   "cell_type": "code",
   "execution_count": 14,
   "metadata": {},
   "outputs": [
    {
     "name": "stdout",
     "output_type": "stream",
     "text": [
      "V3= ('B', 'E', 'F', 'L', 'N', 'S')\n",
      "E3= [('B', 'F'), ('B', 'L'), ('B', 'N'), ('B', 'S'), ('E', 'F'), ('E', 'L'), ('F', 'L'), ('F', 'N'), ('L', 'N'), ('L', 'S'), ('N', 'S')]\n"
     ]
    }
   ],
   "source": [
    "V3, E3= node_Edge_from_adjacency_list(graph1)\n",
    "print('V3=', V3)\n",
    "print('E3=', E3)"
   ]
  },
  {
   "cell_type": "code",
   "execution_count": 15,
   "metadata": {},
   "outputs": [
    {
     "name": "stdout",
     "output_type": "stream",
     "text": [
      "True\n",
      "True\n"
     ]
    }
   ],
   "source": [
    "print(V3==V2)\n",
    "print(E3==E2)"
   ]
  },
  {
   "cell_type": "markdown",
   "metadata": {},
   "source": [
    "#### 노드 세트 $V$와 에지 세트 $E$ 로 구성되는 그래프 $G=(V,E)$ 의 그래프 표현으로부터 그래프의 'adjacency list' 표현을 구해봅시다.\n",
    "$V = \\{'B', ~'E', ~'F', ~'L', ~'N', ~ 'S' \\} $ \n",
    "$E=\\{('B',~ 'F'), ('B', ~'L'), ('B', ~'N'), ('B', ~'S'),('E', ~'F'),('E', ~'L'), ('F', ~'L'), ('F', ~'N'), ('L', `'N'), ('L', `'S'), ('N', ~'S')\\}$  \n",
    "$G= (V,~ E)$\n",
    "#### 여기서, 주의해야 할 점은 무방향 그래프에서 에지 ('B','F') 는 에지 ('F', 'B')와 동일하다는 것입니다. 따라서, 무방향 그래프 에지 집합에서는 2개의 동일한 에지 표현에서 하나만 포함한다는 점입니다.  adjacent list 에서는 각 노드에 대한 인접한 노드들을 모두 리스트업합니다.  ('B','F') 에지 표현에서는 'F' 노드가 'B' 노드의 인접 노드임을 가르키며, ('F','B') 에지 표현에서는 'B' 노드가 'F' 노드의 인접 노드임을 가르킨다는 것에 주목하여, adjacent list 처리를 위한 에지 세트에서는 그래프    $G=(V,E)$ 의 에지세트 $E$ 와 다르게,   ('B','F'),  ('F','B') 2개 모두를 포함하여 처리하는 게 좋습니다. "
   ]
  },
  {
   "cell_type": "code",
   "execution_count": 16,
   "metadata": {},
   "outputs": [],
   "source": [
    "def adjacency_list_from_Graph(graph): #graph=(V, E) ==> V=graph[0], E=graph[1]\n",
    "    VL=list(graph[0])\n",
    "    VL.sort() # sorted node(vertex) list\n",
    "    EL=list(graph[1])\n",
    "    EL.sort()  # sorted edge list\n",
    "    TS=set()  # adjacent list 처리를 위한 에지 세트\n",
    "    adjList=dict()\n",
    "    tmp= [[] for _ in range(len(VL))]\n",
    "    for item in EL:\n",
    "        TS.add(item)\n",
    "        if (item[1], item[0]) not in TS:  #(B, F) 가 에지이면, (F,B) 도 에지 세트에 포함\n",
    "            TS.add((item[1], item[0]))\n",
    "    TL=list(TS) #에지 세트를 정렬하기 위해 에지 리스트로 변환\n",
    "    TL.sort()\n",
    "    i=0\n",
    "    # 에지의 시작 노드가  adjacency list dictionary 의 key 와 같으면, 해당 에지노드의 종단노드를 adjacent list  의 해당 키 노드의 인접 노드 리스트에 추가한다.에 추가한다.\n",
    "    for node in VL:\n",
    "        for edge in TL:\n",
    "            if edge[0]==node:\n",
    "                   tmp[i].append(edge[1])        \n",
    "        adjList.update({node:tmp[i]})  #node:tmp[i] 는 '\"B': ['F', 'L', 'N', 'S']\" 형태임\n",
    "        i+=1\n",
    "    return  adjList   "
   ]
  },
  {
   "cell_type": "code",
   "execution_count": 17,
   "metadata": {},
   "outputs": [],
   "source": [
    "V = {'B', 'E', 'F', 'L', 'N',  'S' } \n",
    "E={('B', 'F'), ('B', 'L'), ('B', 'N'), ('B', 'S'),('E', 'F'),('E', 'L'), ('F', 'L'), ('F', 'N'), ('L', 'N'), ('L', 'S'), ('N', 'S')}\n",
    "G=(V,E)"
   ]
  },
  {
   "cell_type": "code",
   "execution_count": 18,
   "metadata": {},
   "outputs": [
    {
     "data": {
      "text/plain": [
       "{'B': ['F', 'L', 'N', 'S'],\n",
       " 'E': ['F', 'L'],\n",
       " 'F': ['B', 'E', 'L', 'N'],\n",
       " 'L': ['B', 'E', 'F', 'N', 'S'],\n",
       " 'N': ['B', 'F', 'L', 'S'],\n",
       " 'S': ['B', 'L', 'N']}"
      ]
     },
     "execution_count": 18,
     "metadata": {},
     "output_type": "execute_result"
    }
   ],
   "source": [
    "adjL_s=adjacency_list_from_Graph(G)\n",
    "adjL_s"
   ]
  },
  {
   "cell_type": "code",
   "execution_count": 19,
   "metadata": {},
   "outputs": [],
   "source": [
    "V1 = {'L', 'N',  'S' , 'B', 'E', 'F' } \n",
    "E1={('F', 'B'), ('L', 'B'), ('B', 'N'), ('B', 'S'),('E', 'F'),('E', 'L'), ('F', 'L'), ('F', 'N'), ('L', 'N'), ('L', 'S'), ('N', 'S')}\n",
    "G1=(V1,E1)"
   ]
  },
  {
   "cell_type": "code",
   "execution_count": 20,
   "metadata": {},
   "outputs": [
    {
     "name": "stdout",
     "output_type": "stream",
     "text": [
      "adjL_s1=\n",
      "{'B': ['F', 'L', 'N', 'S'], 'E': ['F', 'L'], 'F': ['B', 'E', 'L', 'N'], 'L': ['B', 'E', 'F', 'N', 'S'], 'N': ['B', 'F', 'L', 'S'], 'S': ['B', 'L', 'N']} \n",
      "\n",
      "True\n"
     ]
    }
   ],
   "source": [
    "adjL_s1=adjacency_list_from_Graph(G1)\n",
    "print(\"adjL_s1=\\n{} \\n\".format(adjL_s1))\n",
    "print(adjL_s==adjL_s1)      "
   ]
  },
  {
   "cell_type": "markdown",
   "metadata": {},
   "source": [
    "### adjacency matrix 표현\n",
    "####  상기 [그림 1] 그래프에 대한 adjacency matrix 표현은 다음 [그림 3]과 같습니다. \n",
    "![Alttext](fig3.png)"
   ]
  },
  {
   "cell_type": "markdown",
   "metadata": {},
   "source": [
    "### 다음은 'adjacency list' 로 부터,  'adjacency matrix' 를 생성하는 파이썬 함수입니다. "
   ]
  },
  {
   "cell_type": "code",
   "execution_count": 21,
   "metadata": {},
   "outputs": [],
   "source": [
    "def Adj_Mat(adjL):  #adjL 은 딕셔너리타입의 adjacency list\n",
    "    n=len(adjL) # n = 노드 갯수 \n",
    "    nodes =list()    \n",
    "    adjList=sort_dictionary(adjL) #정렬된 adjacency list\n",
    "    #print(\"adjList={}\".format(adjList))\n",
    "    for key in adjList:  # node  리스트 초기화 \n",
    "        nodes.append(key)\n",
    "   \n",
    "    nodes.sort() # 노드 사전식 정렬\n",
    "   # print(\"nodes={}\".format(nodes))\n",
    "    adM= [[] for _ in range(n)]     # adM; adjacency matrix; nxn adjacency matrix 생성 \n",
    "    \n",
    "    k=0 # k; adjacency matrix의 행 . k=0 은 첫번째 행 \n",
    "    j=0 # adjacency matrix의 행에서 현재까지 처리에서 마지막 1 요소 다음 번째 (\"'B': ['F', 'L', 'N', 'S']\" 에서 첫번째 인접 노드 'F' 처리시, j=3 이며,\n",
    "            # 이때, adjacency matrix의 첫번째 행에서 4번째 요소 위치(파이썬에서는 0 부터 시작하니, 3으로 표시됨) \n",
    "    for node in nodes:        \n",
    "        if adjL[node]: # adjacency list 에서 해당 노드의 인접노드 리스트\n",
    "            for s in adjL[node]:\n",
    "                i=0 # 행에서 요소 순서 (i=0 --> 해당 행에서 첫번째 요소)   \n",
    "               # print(\"node={}, str={}\".format(node,s))\n",
    "                while(i < n):                   \n",
    "                    if i>=j:                       \n",
    "                        if s == nodes[i]:\n",
    "                            adM[k].append(1)\n",
    "                            j=i+1 #j 는           \n",
    "                            i=n\n",
    "                        else:\n",
    "                            adM[k].append(0)  \n",
    "                            i+=1\n",
    "                    else:\n",
    "                        i+=1\n",
    "            if j< n: \n",
    "                for _ in range(j, n):\n",
    "                    adM[k].append(0)  \n",
    "            \n",
    "        else:\n",
    "            for _ in range(n):\n",
    "                adM[k].append(0)\n",
    "        k+=1\n",
    "        j=0\n",
    "    return adM    "
   ]
  },
  {
   "cell_type": "code",
   "execution_count": 22,
   "metadata": {},
   "outputs": [
    {
     "name": "stdout",
     "output_type": "stream",
     "text": [
      "{'B': ['F', 'L', 'N', 'S'], 'E': ['F', 'L'], 'F': ['B', 'E', 'L', 'N'], 'L': ['B', 'E', 'F', 'N', 'S'], 'N': ['B', 'F', 'L', 'S'], 'S': ['B', 'L', 'N']}\n"
     ]
    },
    {
     "data": {
      "text/plain": [
       "[[0, 0, 1, 1, 1, 1],\n",
       " [0, 0, 1, 1, 0, 0],\n",
       " [1, 1, 0, 1, 1, 0],\n",
       " [1, 1, 1, 0, 1, 1],\n",
       " [1, 0, 1, 1, 0, 1],\n",
       " [1, 0, 0, 1, 1, 0]]"
      ]
     },
     "execution_count": 22,
     "metadata": {},
     "output_type": "execute_result"
    }
   ],
   "source": [
    "print(adjL_s)\n",
    "adjL_S={ 'E': ['F', 'L'], 'B': ['S', 'L', 'N', 'F'], 'F': ['B', 'E', 'L', 'N'], 'L': ['B', 'E', 'F', 'N', 'S'], 'N': ['B', 'F', 'L', 'S'], 'S': ['B', 'L', 'N']}\n",
    "adjM_List=Adj_Mat(adjL_S)\n",
    "adjM_List"
   ]
  },
  {
   "cell_type": "markdown",
   "metadata": {},
   "source": [
    "### adjacency matrix 에서 adjacency list 로 표현 \n",
    "####  다음 코드는 adjacency matrix 에서 adjacency list 로의  변환 이다. "
   ]
  },
  {
   "cell_type": "code",
   "execution_count": 23,
   "metadata": {},
   "outputs": [],
   "source": [
    "def adjL(nodes, adjM): # nodes; 노드 리스트, adjM : adjacency matrix\n",
    "    nodes.sort() # 노드 정렬\n",
    "    adj_list=dict()\n",
    "    n=len(adjM[0])\n",
    "    for s in nodes:\n",
    "        adj_list.update({s:[]}) # adjacency list 딕셔너리 정렬\n",
    "    i=0\n",
    "    for s in nodes:\n",
    "        for j in range(n):\n",
    "            if adjM[i][j]==1:\n",
    "                    adj_list[s].append(nodes[j])\n",
    "        i+=1                               \n",
    "    return adj_list             "
   ]
  },
  {
   "cell_type": "code",
   "execution_count": 24,
   "metadata": {},
   "outputs": [
    {
     "data": {
      "text/plain": [
       "{'B': ['F', 'L', 'N', 'S'],\n",
       " 'E': ['F', 'L'],\n",
       " 'F': ['B', 'E', 'L', 'N'],\n",
       " 'L': ['B', 'E', 'F', 'N', 'S'],\n",
       " 'N': ['B', 'F', 'L', 'S'],\n",
       " 'S': ['B', 'L', 'N']}"
      ]
     },
     "execution_count": 24,
     "metadata": {},
     "output_type": "execute_result"
    }
   ],
   "source": [
    "Nodes_s = ['E', 'B','F', 'L', 'N',  'S' ]\n",
    "graph_L=adjL(Nodes_s, adjM_List)\n",
    "graph_L    "
   ]
  },
  {
   "cell_type": "code",
   "execution_count": 25,
   "metadata": {},
   "outputs": [],
   "source": [
    "graph_s = {\n",
    "       'B': ['F', 'L', 'N', 'S'],\n",
    "       'E': ['F', 'L'],\n",
    "       'F': ['B', 'E', 'L', 'N'],\n",
    "       'L': ['B', 'E', 'F', 'N', 'S'],\n",
    "       'N': ['B', 'F', 'L', 'S'],\n",
    "       'S': ['B', 'L', 'N']  }\n"
   ]
  },
  {
   "cell_type": "code",
   "execution_count": 26,
   "metadata": {},
   "outputs": [
    {
     "name": "stdout",
     "output_type": "stream",
     "text": [
      "Same\n"
     ]
    }
   ],
   "source": [
    "if graph_L==graph_s:\n",
    "    print(\"Same\")\n",
    "else:   \n",
    "    print(\"Not Same\")"
   ]
  },
  {
   "cell_type": "markdown",
   "metadata": {},
   "source": [
    "## 3.  가중치 그래프 표현 "
   ]
  },
  {
   "cell_type": "markdown",
   "metadata": {},
   "source": [
    "#### 강의노트에서 취급한 다음의 테이블 데이터를  그래프로 표현하는 방법을 알아 봅시다.\n",
    "![Alttext](table2.png)"
   ]
  },
  {
   "cell_type": "markdown",
   "metadata": {},
   "source": [
    "#### 상기 테이블 데이터에 대한 그래프 표현은 [그림 4]와 같은 가중치 그래프(weigted graph) 로 표현할 수있습니다.\n",
    "![Altext](fig4.png)"
   ]
  },
  {
   "cell_type": "markdown",
   "metadata": {},
   "source": [
    "#### 상기 [그림 4]에 대한, pandas 를 이용한  테이블 표현은 다음과 같습니다"
   ]
  },
  {
   "cell_type": "code",
   "execution_count": 27,
   "metadata": {},
   "outputs": [
    {
     "data": {
      "text/html": [
       "<div>\n",
       "<style scoped>\n",
       "    .dataframe tbody tr th:only-of-type {\n",
       "        vertical-align: middle;\n",
       "    }\n",
       "\n",
       "    .dataframe tbody tr th {\n",
       "        vertical-align: top;\n",
       "    }\n",
       "\n",
       "    .dataframe thead th {\n",
       "        text-align: right;\n",
       "    }\n",
       "</style>\n",
       "<table border=\"1\" class=\"dataframe\">\n",
       "  <thead>\n",
       "    <tr style=\"text-align: right;\">\n",
       "      <th></th>\n",
       "      <th>B</th>\n",
       "      <th>E</th>\n",
       "      <th>F</th>\n",
       "      <th>L</th>\n",
       "      <th>N</th>\n",
       "      <th>S</th>\n",
       "    </tr>\n",
       "  </thead>\n",
       "  <tbody>\n",
       "    <tr>\n",
       "      <th>Barstow</th>\n",
       "      <td>0</td>\n",
       "      <td>0</td>\n",
       "      <td>245</td>\n",
       "      <td>115</td>\n",
       "      <td>145</td>\n",
       "      <td>175</td>\n",
       "    </tr>\n",
       "    <tr>\n",
       "      <th>Eureka</th>\n",
       "      <td>0</td>\n",
       "      <td>0</td>\n",
       "      <td>450</td>\n",
       "      <td>645</td>\n",
       "      <td>0</td>\n",
       "      <td>0</td>\n",
       "    </tr>\n",
       "    <tr>\n",
       "      <th>Fresno</th>\n",
       "      <td>245</td>\n",
       "      <td>450</td>\n",
       "      <td>0</td>\n",
       "      <td>220</td>\n",
       "      <td>385</td>\n",
       "      <td>0</td>\n",
       "    </tr>\n",
       "    <tr>\n",
       "      <th>Los Angeles</th>\n",
       "      <td>115</td>\n",
       "      <td>645</td>\n",
       "      <td>220</td>\n",
       "      <td>0</td>\n",
       "      <td>260</td>\n",
       "      <td>125</td>\n",
       "    </tr>\n",
       "    <tr>\n",
       "      <th>Needles</th>\n",
       "      <td>145</td>\n",
       "      <td>0</td>\n",
       "      <td>385</td>\n",
       "      <td>260</td>\n",
       "      <td>0</td>\n",
       "      <td>320</td>\n",
       "    </tr>\n",
       "    <tr>\n",
       "      <th>San Diego</th>\n",
       "      <td>175</td>\n",
       "      <td>0</td>\n",
       "      <td>0</td>\n",
       "      <td>125</td>\n",
       "      <td>320</td>\n",
       "      <td>0</td>\n",
       "    </tr>\n",
       "  </tbody>\n",
       "</table>\n",
       "</div>"
      ],
      "text/plain": [
       "               B    E    F    L    N    S\n",
       "Barstow        0    0  245  115  145  175\n",
       "Eureka         0    0  450  645    0    0\n",
       "Fresno       245  450    0  220  385    0\n",
       "Los Angeles  115  645  220    0  260  125\n",
       "Needles      145    0  385  260    0  320\n",
       "San Diego    175    0    0  125  320    0"
      ]
     },
     "execution_count": 27,
     "metadata": {},
     "output_type": "execute_result"
    }
   ],
   "source": [
    "from pandas import DataFrame\n",
    "\n",
    "distance = {'B':  [0,     0, 245, 115, 145, 175],\n",
    "            'E':  [0,     0, 450, 645,   0,   0],\n",
    "            'F':  [245, 450,   0, 220, 385,   0],\n",
    "            'L':  [115, 645, 220,   0, 260, 125], \n",
    "            'N':  [145,   0, 385, 260,   0, 320], \n",
    "            'S':  [175,   0,   0, 125, 320,   0]\n",
    "            }\n",
    "cities = ['Barstow', 'Eureka', 'Fresno', 'Los Angeles', 'Needles' , 'San Diego']\n",
    "cal_cit_dis = DataFrame(distance, columns=['B', 'E', 'F', 'L', 'N', 'S'], index=cities)\n",
    "cal_cit_dis"
   ]
  },
  {
   "cell_type": "markdown",
   "metadata": {},
   "source": [
    "#### 상기 테이블 표현은 'weighted adjacency matrix'  표현입니다. 즉\n",
    "$ [[  ~~0,   ~~~0,  ~~245, ~115, 145, 175],  $   \n",
    "$ ~ [ ~~ 0,   ~~~0,  ~~450, ~645,   ~~~0,   ~~~~~0],  $   \n",
    "$   [245, 450,    ~~~0, ~220, ~~385,   ~~~0],  $  \n",
    "$   [115, 645, 220,  ~~~ 0, ~~260, 125],  $  \n",
    "$   [145,   ~~~0,  ~385, 260,  ~~~~~0, 320],  $  \n",
    "$   [175,   ~~~0,    ~~~0, ~125, ~~320,   ~~~0] ]  $\n",
    "   "
   ]
  },
  {
   "cell_type": "markdown",
   "metadata": {},
   "source": [
    "#### 상기 [그림 4]의 가중치 그래프에 대한 ' adjacency list' 표현의 하나는 다음과 같습니다."
   ]
  },
  {
   "cell_type": "code",
   "execution_count": 28,
   "metadata": {},
   "outputs": [],
   "source": [
    "weight_adjacency_list = {\n",
    "             'B': [['F', 245], ['L', 115], ['N', 145], ['S', 175]],\n",
    "             'E': [['F', 450],['L', 645]],\n",
    "             'F': [['B', 245], ['E', 450],['N', 385]],         \n",
    "             'L': [['B', 115], ['E', 645],['F', 220],['N', 260],['S', 125]],\n",
    "             'N': [['B', 145], ['F', 385],['L', 260],['S', 320]],             \n",
    "             'S': [['B', 175], ['L', 125],['N', 320]]  }"
   ]
  },
  {
   "cell_type": "markdown",
   "metadata": {},
   "source": [
    "## 4. 'networkx'  패키지를 활용한 그래프 문제 풀기 "
   ]
  },
  {
   "cell_type": "markdown",
   "metadata": {},
   "source": [
    "### Graph 다루는 파이선 패키지로 'networkx' (https://networkx.github.io/) 가 있습니다.   "
   ]
  },
  {
   "cell_type": "markdown",
   "metadata": {},
   "source": [
    "#### 'networkx' 패키지 활용 참고 자료 : http://pythonkr.github.io/pyconkr-2014/pdf/pyconkr-2014-07_networkx.pdf"
   ]
  },
  {
   "cell_type": "markdown",
   "metadata": {},
   "source": [
    "#### 이를 이용하여 그래프를 생성해봅시다. \n",
    "#### 'networkx' 에서는 그래프 정의와 같이,  노드 집합과 에지 집합을 리스트 데이터 타입으로 하여  노드들과 에지들을 등록하여 그래프를 생성하도록 지원한다. "
   ]
  },
  {
   "cell_type": "code",
   "execution_count": 29,
   "metadata": {},
   "outputs": [],
   "source": [
    "import networkx as nx # networkx 패키지 임포트\n",
    "G=nx.Graph()\n",
    "Nodes=['B', 'E', 'F', 'L', 'N',  'S' ]\n",
    "G.add_nodes_from(Nodes)\n",
    "E=[('B', 'F'), ('B', 'L'), ('B', 'N'), ('B', 'S'),('E', 'F'),('E', 'L'), ('F', 'L'), ('F', 'N'), ('L', 'N'), ('L', 'S'), ('N', 'S')]\n",
    "# adding a list of edges:\n",
    "G.add_edges_from(E)"
   ]
  },
  {
   "cell_type": "code",
   "execution_count": 30,
   "metadata": {},
   "outputs": [
    {
     "name": "stdout",
     "output_type": "stream",
     "text": [
      "Nodes of graph: \n",
      "['B', 'E', 'F', 'L', 'N', 'S']\n",
      "Edges of graph: \n",
      "[('B', 'F'), ('B', 'L'), ('B', 'N'), ('B', 'S'), ('E', 'F'), ('E', 'L'), ('F', 'L'), ('F', 'N'), ('L', 'N'), ('L', 'S'), ('N', 'S')]\n"
     ]
    }
   ],
   "source": [
    "print(\"Nodes of graph: \")\n",
    "print(G.nodes())\n",
    "print(\"Edges of graph: \")\n",
    "print(G.edges())"
   ]
  },
  {
   "cell_type": "markdown",
   "metadata": {},
   "source": [
    "#### 'networkx' 패키지 에서는 등록된 그래프의  인접 행렬을 쉽게 구해준다. "
   ]
  },
  {
   "cell_type": "code",
   "execution_count": 31,
   "metadata": {},
   "outputs": [
    {
     "data": {
      "text/plain": [
       "matrix([[0., 0., 1., 1., 1., 1.],\n",
       "        [0., 0., 1., 1., 0., 0.],\n",
       "        [1., 1., 0., 1., 1., 0.],\n",
       "        [1., 1., 1., 0., 1., 1.],\n",
       "        [1., 0., 1., 1., 0., 1.],\n",
       "        [1., 0., 0., 1., 1., 0.]])"
      ]
     },
     "execution_count": 31,
     "metadata": {},
     "output_type": "execute_result"
    }
   ],
   "source": [
    "nx.to_numpy_matrix(G)"
   ]
  },
  {
   "cell_type": "code",
   "execution_count": 32,
   "metadata": {},
   "outputs": [],
   "source": [
    "graph_s = {\n",
    "       'B': ['F', 'L', 'N', 'S'],\n",
    "       'E': ['F', 'L'],\n",
    "       'F': ['B', 'E', 'L', 'N'],\n",
    "       'L': ['B', 'E', 'F', 'N', 'S'],\n",
    "       'N': ['B', 'F', 'L', 'S'],\n",
    "       'S': ['B', 'L', 'N']  }\n"
   ]
  },
  {
   "cell_type": "markdown",
   "metadata": {},
   "source": [
    "####  'networkx' 패키지 에서는 그래프 그리기도 지원합니다. 각 노드의 위치는 'networkx.spring_layout(G)' 함수 호출을 통해서,  각 노드의 (x,y)  좌표값의 딕셔너리 데이터를 리턴합니다.  'networkx.spring_layout(G)' 에서 각 노드 좌표값을 계산하기 위해 사용되는 알고리즘으로는  원하는 모양의 그래프가 그려지기 힘드므로, 직접 각 노드의 좌표값을 지정하여 줄 수있습니다."
   ]
  },
  {
   "cell_type": "code",
   "execution_count": 36,
   "metadata": {
    "scrolled": false
   },
   "outputs": [
    {
     "data": {
      "image/png": "[encoded data removed]",
      "text/plain": [
       "<Figure size 720x720 with 1 Axes>"
      ]
     },
     "metadata": {},
     "output_type": "display_data"
    }
   ],
   "source": [
    "import matplotlib.pyplot as plt\n",
    "plt.figure(figsize=(10, 10))\n",
    "B, E, F, L, N, S = 'BEFLNS'\n",
    "pos=nx.spring_layout(G)\n",
    "nx.draw_networkx_nodes(G, pos=pos, node_size=2000, node_color='cyan')\n",
    "nx.draw_networkx_edges(G, pos=pos)\n",
    "nx.draw_networkx_labels(G, pos=pos, font_size=30)\n",
    "plt.show()"
   ]
  },
  {
   "cell_type": "markdown",
   "metadata": {},
   "source": [
    "#### 이제 [그림 1] 과 유사한 모양의 그래프를 그려보기로 합시다. "
   ]
  },
  {
   "cell_type": "code",
   "execution_count": 37,
   "metadata": {},
   "outputs": [
    {
     "data": {
      "image/png": "[encoded data removed]",
      "text/plain": [
       "<Figure size 720x720 with 1 Axes>"
      ]
     },
     "metadata": {},
     "output_type": "display_data"
    }
   ],
   "source": [
    "import matplotlib.pyplot as plt\n",
    "plt.figure(figsize=(10, 10))\n",
    "B, E, F, L, N, S = 'BEFLNS'\n",
    "#pos=nx.spring_layout(G)\n",
    "pos = {S:(-1, -0.8), N:(1, -1.0), L:(-0.9, 0), B:(0.4, 0), F:(0.7, 1), E:(-0.4, 1)} #직접 각 노드의 좌표값 지정.\n",
    "nx.draw_networkx_nodes(G, pos=pos, node_size=2000, node_color='cyan')\n",
    "nx.draw_networkx_edges(G, pos=pos)\n",
    "nx.draw_networkx_labels(G, pos=pos, font_size=30)\n",
    "plt.show()"
   ]
  },
  {
   "cell_type": "markdown",
   "metadata": {},
   "source": [
    "#### 'S' 노드와 연결되어 있는 노드는 아래 코드로 찾을 수 있습니다."
   ]
  },
  {
   "cell_type": "code",
   "execution_count": 38,
   "metadata": {
    "scrolled": true
   },
   "outputs": [
    {
     "name": "stdout",
     "output_type": "stream",
     "text": [
      "{'B': {}, 'L': {}, 'N': {}}\n"
     ]
    }
   ],
   "source": [
    "print(G['S'])"
   ]
  },
  {
   "cell_type": "markdown",
   "metadata": {},
   "source": [
    "####  'networkx' 패키지에서는  노드 및 에지 순서는 상관하지 않습니다."
   ]
  },
  {
   "cell_type": "code",
   "execution_count": 39,
   "metadata": {},
   "outputs": [
    {
     "name": "stdout",
     "output_type": "stream",
     "text": [
      "Nodes of graph: \n",
      "['S', 'B', 'L', 'N', 'E', 'F']\n",
      "Edges of graph: \n",
      "[('S', 'L'), ('S', 'B'), ('S', 'N'), ('B', 'F'), ('B', 'L'), ('B', 'N'), ('L', 'E'), ('L', 'F'), ('L', 'N'), ('N', 'F'), ('E', 'F')]\n"
     ]
    }
   ],
   "source": [
    "G1=nx.Graph()\n",
    "Nodes=['S', 'B', 'L', 'N', 'E', 'F' ]\n",
    "G1.add_nodes_from(Nodes)\n",
    "\n",
    "# adding a list of edges:\n",
    "G1.add_edges_from([('S', 'L'), ('S', 'B'),  ('S', 'N'),('B', 'F'), ('B', 'L'), ('B', 'N'), ('L', 'E'), ('L', 'F'), ('L', 'N'), \n",
    "                   ('N', 'F'), ('E', 'F') ])\n",
    "print(\"Nodes of graph: \")\n",
    "print(G1.nodes())\n",
    "print(\"Edges of graph: \")\n",
    "print(G1.edges())"
   ]
  },
  {
   "cell_type": "code",
   "execution_count": 40,
   "metadata": {},
   "outputs": [
    {
     "data": {
      "image/png": "[encoded data removed]",
      "text/plain": [
       "<Figure size 720x720 with 1 Axes>"
      ]
     },
     "metadata": {},
     "output_type": "display_data"
    }
   ],
   "source": [
    "plt.figure(figsize=(10, 10))\n",
    "B, E, F, L, N, S = 'BEFLNS'\n",
    "pos = {S:(-1, -0.8), N:(1, -1.0), L:(-0.9, 0), B:(0.4, 0), F:(0.7, 1), E:(-0.4, 1)}\n",
    "nx.draw_networkx_nodes(G1, pos=pos, node_size=2000, node_color='cyan')\n",
    "nx.draw_networkx_edges(G1, pos=pos)\n",
    "nx.draw_networkx_labels(G1, pos=pos, font_size=30)\n",
    "plt.show()"
   ]
  },
  {
   "cell_type": "markdown",
   "metadata": {},
   "source": [
    "\n",
    "#### 위 그래프에서 거리(weight)를 추가한 그래프를 새로 만들어 봅니다."
   ]
  },
  {
   "cell_type": "code",
   "execution_count": 41,
   "metadata": {},
   "outputs": [
    {
     "name": "stdout",
     "output_type": "stream",
     "text": [
      "Nodes of graph: \n",
      "['B', 'E', 'F', 'L', 'N', 'S']\n",
      "Weighted Edges of graph: \n",
      "[('B', 'F'), ('B', 'L'), ('B', 'N'), ('B', 'S'), ('E', 'F'), ('E', 'L'), ('F', 'L'), ('F', 'N'), ('L', 'N'), ('L', 'S'), ('N', 'S')]\n"
     ]
    }
   ],
   "source": [
    "G2=nx.Graph()\n",
    "Nodes=[ 'B', 'E', 'F', 'L', 'N',  'S' ]\n",
    "G2.add_nodes_from(Nodes)\n",
    "G2.add_weighted_edges_from([('B', 'F', 245), ('B', 'L', 115), ('B', 'N', 145), ('B', 'S', 175 ), ('E', 'F', 450), ('E', 'L', 645), ('F', 'L', 220), ('F', 'N', 385), ('L', 'N', 260), ('L', 'S', 125),  ('N', 'S', 320) ])\n",
    "print(\"Nodes of graph: \")\n",
    "print(G2.nodes())\n",
    "print(\"Weighted Edges of graph: \")\n",
    "print(G2.edges())"
   ]
  },
  {
   "cell_type": "markdown",
   "metadata": {},
   "source": [
    "이제 'S' 노드와 연결되어 있는 노드를 출력하면 거리값도 같이 출력됨을 알 수 있다."
   ]
  },
  {
   "cell_type": "code",
   "execution_count": 42,
   "metadata": {},
   "outputs": [
    {
     "name": "stdout",
     "output_type": "stream",
     "text": [
      "{'B': {'weight': 175}, 'L': {'weight': 125}, 'N': {'weight': 320}}\n"
     ]
    }
   ],
   "source": [
    "print(G2['S'])"
   ]
  },
  {
   "cell_type": "code",
   "execution_count": 43,
   "metadata": {
    "scrolled": true
   },
   "outputs": [
    {
     "data": {
      "image/png": "[encoded data removed]",
      "text/plain": [
       "<Figure size 720x720 with 1 Axes>"
      ]
     },
     "metadata": {},
     "output_type": "display_data"
    }
   ],
   "source": [
    "plt.figure(figsize=(10, 10))\n",
    "B, E, F, L, N, S = 'BEFLNS'\n",
    "pos = {S:(-1, -0.8), N:(1, -1.0), L:(-0.9, 0), B:(0.4, 0), F:(0.7, 1), E:(-0.4, 1)} \n",
    "nx.draw_networkx_nodes(G2, pos=pos, node_size=2000, node_color='cyan')\n",
    "nx.draw_networkx_edges(G2, pos=pos)\n",
    "nx.draw_networkx_labels(G2, pos=pos, font_size=30)\n",
    "edge_labels = {(u, v): d['weight'] for u, v, d in G2.edges(data=True)}\n",
    "nx.draw_networkx_edge_labels(G2, pos=pos, edge_labels=edge_labels, font_size=15)\n",
    "plt.show()"
   ]
  },
  {
   "cell_type": "markdown",
   "metadata": {},
   "source": [
    "####  'networkx' 패키지에서는, 그래프의 다양한 알고리즘을 지원합니다.\n",
    "#### 다음은 그래프의 시작 노드에서 종단 노드까지의 최단 거리 패스 및 거리값을 구해봅니다. "
   ]
  },
  {
   "cell_type": "code",
   "execution_count": 44,
   "metadata": {},
   "outputs": [
    {
     "data": {
      "text/plain": [
       "['S', 'L', 'F']"
      ]
     },
     "execution_count": 44,
     "metadata": {},
     "output_type": "execute_result"
    }
   ],
   "source": [
    "nx.shortest_path(G2, \"S\", \"F\", \"weight\")"
   ]
  },
  {
   "cell_type": "code",
   "execution_count": 45,
   "metadata": {
    "scrolled": true
   },
   "outputs": [
    {
     "data": {
      "text/plain": [
       "345"
      ]
     },
     "execution_count": 45,
     "metadata": {},
     "output_type": "execute_result"
    }
   ],
   "source": [
    "nx.shortest_path_length(G2, \"S\", \"F\", \"weight\")"
   ]
  },
  {
   "cell_type": "markdown",
   "metadata": {},
   "source": [
    "<br/><br/><br/><br/>\n",
    "<h1> 실습 문제 </h1>\n"
   ]
  },
  {
   "cell_type": "markdown",
   "metadata": {},
   "source": [
    "###  다음과 같은 [그림 5] 의 그래프에 대해서 아래 질문들에 답하시오."
   ]
  },
  {
   "cell_type": "markdown",
   "metadata": {},
   "source": [
    "![Exercise](fig5.png)"
   ]
  },
  {
   "cell_type": "markdown",
   "metadata": {},
   "source": [
    "###  실습 1. \n",
    "####  [그림 5] 의 그래프에 대해,  ' adjacency list' 표현의 파이썬 코드를 구하시오.\n"
   ]
  },
  {
   "cell_type": "markdown",
   "metadata": {},
   "source": [
    "#### 상기 [그림 5] 의 그래프에 대해, ' adjacency list' 표현의 파이썬 코드는 다음과 같습니다."
   ]
  },
  {
   "cell_type": "code",
   "execution_count": 5,
   "metadata": {},
   "outputs": [],
   "source": [
    "weight_adjacency_list = {\n",
    "             'A': [['B', 2], ['F', 7], ['G', 3]],\n",
    "             'B': [['A', 2],['C', 4], ['G', 6]],\n",
    "             'C': [['B', 4], ['D', 2],['H', 2]],         \n",
    "             'D': [['C', 2], ['E', 1],['H', 8]],\n",
    "             'E': [['D', 1], ['F', 6],['I', 2]],             \n",
    "             'F': [['A', 7], ['E', 6],['I', 5]],\n",
    "             'G': [['A', 3], ['B', 6],['H', 3], ['I', 1]] ,\n",
    "             'H': [['C', 2], ['D', 8],['G', 3], ['I', 4]],\n",
    "             'I': [['E', 2], ['F', 5],['G', 1], ['H', 4]] \n",
    "    \n",
    "}"
   ]
  },
  {
   "cell_type": "markdown",
   "metadata": {},
   "source": [
    "###  실습 2(a). \n",
    "####   'weighted  adjacency list'  파이썬 표현으로부터,  'weighted adjacency matrix'  표현을 구할 수있는  파이썬 함수를 코딩하여 보시오. (node 순서는  알파벳 올림차순 임(즉,  A,  B, C, D, E, F, G, H, I.)"
   ]
  },
  {
   "cell_type": "code",
   "execution_count": 6,
   "metadata": {},
   "outputs": [],
   "source": [
    "def Adj_Mat_W(adjL):  \n",
    "    n=len(adjL)\n",
    "    nodes =list()    \n",
    "    for key in adjL:\n",
    "        nodes.append(key)\n",
    "   \n",
    "    adM= [[] for _ in range(n)]    \n",
    "    \n",
    "    k=0\n",
    "    j=0    \n",
    "    for node in nodes:        \n",
    "        if adjL[node]:\n",
    "            for s in adjL[node]:\n",
    "                i=0\n",
    "               # print(\"node={}, str={}\".format(node,s))\n",
    "                while(i < n):                   \n",
    "                    if i>=j:                       \n",
    "                        if s[0] == nodes[i]:\n",
    "                            adM[k].append(s[1])\n",
    "                            j=i+1           \n",
    "                            i=n\n",
    "                        else:\n",
    "                            adM[k].append(0)  \n",
    "                            i+=1\n",
    "                    else:\n",
    "                        i+=1\n",
    "            if j< n: \n",
    "                for _ in range(j, n):\n",
    "                    adM[k].append(0)  \n",
    "            \n",
    "        else:\n",
    "            for _ in range(n):\n",
    "                adM[k].append(0)\n",
    "        k+=1\n",
    "        j=0\n",
    "    return adM    "
   ]
  },
  {
   "cell_type": "markdown",
   "metadata": {},
   "source": [
    "###  실습 2(b)\n",
    "#### 실습 2(a)에서 구한 함수를 이용하여, 실습1  의 [그림 5] 의 그래프에 대한  ' adjacency list'  파이썬 표현으로부터,  'weighted adjacency matrix'  을 구하여 보시오. "
   ]
  },
  {
   "cell_type": "code",
   "execution_count": 7,
   "metadata": {},
   "outputs": [
    {
     "data": {
      "text/plain": [
       "[[0, 2, 0, 0, 0, 7, 3, 0, 0],\n",
       " [2, 0, 4, 0, 0, 0, 6, 0, 0],\n",
       " [0, 4, 0, 2, 0, 0, 0, 2, 0],\n",
       " [0, 0, 2, 0, 1, 0, 0, 8, 0],\n",
       " [0, 0, 0, 1, 0, 6, 0, 0, 2],\n",
       " [7, 0, 0, 0, 6, 0, 0, 0, 5],\n",
       " [3, 6, 0, 0, 0, 0, 0, 3, 1],\n",
       " [0, 0, 2, 8, 0, 0, 3, 0, 4],\n",
       " [0, 0, 0, 0, 2, 5, 1, 4, 0]]"
      ]
     },
     "execution_count": 7,
     "metadata": {},
     "output_type": "execute_result"
    }
   ],
   "source": [
    "Adj_Mat_W(weight_adjacency_list)"
   ]
  },
  {
   "cell_type": "markdown",
   "metadata": {},
   "source": [
    "### 실습 3.\n",
    "#### \"networkx'  파이썬 패키지를 사용하여 [그림 5]의 그래프를 그려 보시오. 단, 아래 pos 변수를 이용하여 출력 예시와  반드시 동일하게 출력해야 합니다."
   ]
  },
  {
   "cell_type": "code",
   "execution_count": 11,
   "metadata": {},
   "outputs": [],
   "source": [
    "# 그래프 위치에 관한 dictionary. \n",
    "# https://networkx.github.io/documentation/stable/reference/generated/networkx.drawing.nx_pylab.draw_networkx_nodes.html\n",
    "A,B,C,D,E,F,G,H,I = 'ABCDEFGHI'\n",
    "pos = {A:(1, 2),B:(3, 2),C:(4, 1),D:(3, 0),E:(1, 0),F:(0, 1),G:(2, 1.5),H:(3, 1),I:(1, 1)}"
   ]
  },
  {
   "cell_type": "markdown",
   "metadata": {},
   "source": [
    "<출력 예시>"
   ]
  },
  {
   "cell_type": "markdown",
   "metadata": {},
   "source": [
    "![Altext](prob0.png)"
   ]
  },
  {
   "cell_type": "markdown",
   "metadata": {},
   "source": [
    "<br/>※ 풀이조건\n",
    "<ol>\n",
    "    <li>그래프를 그릴 때 크기 및 색상은 자유롭게 하되, 각 노드 및 엣지를 '알아볼 수 있도록' 그린다.</li>\n",
    "</ol>\n",
    "<br/> ※ 제한조건\n",
    "<ol>\n",
    "    <li>pos 변수를 사용하여 각 노드 및 엣지의 위치는 위 출력 예시와 동일하게 출력되어야 한다. 안 되었을 시 0.5점 감점한다.</li>\n",
    "</ol>\n"
   ]
  },
  {
   "cell_type": "code",
   "execution_count": 12,
   "metadata": {},
   "outputs": [],
   "source": [
    "import networkx as nx\n",
    "from matplotlib import pyplot as plt"
   ]
  },
  {
   "cell_type": "code",
   "execution_count": 13,
   "metadata": {},
   "outputs": [],
   "source": [
    "def draw_graph(graph, pos=None) :\n",
    "    if pos == None : pos=nx.spring_layout(graph)\n",
    "    plt.figure(figsize=(10, 8))\n",
    "    nx.draw_networkx_nodes(graph, pos=pos, node_size=2000, node_color='cyan')\n",
    "    nx.draw_networkx_edges(graph, pos=pos)\n",
    "    nx.draw_networkx_labels(graph, pos=pos, font_size=30)\n",
    "    edge_labels = {(u, v): d['weight'] for u, v, d in graph.edges(data=True)}\n",
    "    nx.draw_networkx_edge_labels(graph, pos=pos, edge_labels=edge_labels, font_size=20, rotate=False)\n",
    "    plt.show()"
   ]
  },
  {
   "cell_type": "code",
   "execution_count": 14,
   "metadata": {},
   "outputs": [
    {
     "data": {
      "image/png": "[encoded data removed]",
      "text/plain": [
       "<Figure size 720x576 with 1 Axes>"
      ]
     },
     "metadata": {},
     "output_type": "display_data"
    }
   ],
   "source": [
    "A,B,C,D,E,F,G,H,I = 'ABCDEFGHI'\n",
    "graph=nx.Graph()\n",
    "nodes=[A,B,C,D,E,F,G,H,I]\n",
    "edges=[(A, B, 2), (A, G, 3), (A, F, 7), (B, C, 4), (B, G, 6), (C, D, 2), (C, H, 2), \n",
    "       (D, E, 1), (D, H, 8), (E, F, 6), (E, I, 2), (F, I, 5), (G, I, 1), (G, H, 3), (H, I, 4)]\n",
    "\n",
    "\n",
    "graph.add_nodes_from(nodes)\n",
    "graph.add_weighted_edges_from(edges)\n",
    "\n",
    "draw_graph(graph, pos)"
   ]
  },
  {
   "cell_type": "markdown",
   "metadata": {},
   "source": [
    "#### 실습  4.\n",
    "#### \"networkx' 파이썬 패키지를 사용하여 위에서 그린 그래프에서 노드 F 에서 노드 B, C, D, H, G 까지의 최단 경로와 최단 거리를 각각 구하여 출력하시오. 단, 아래 출력 예시에 맞게 출력해야 합니다."
   ]
  },
  {
   "cell_type": "markdown",
   "metadata": {},
   "source": [
    "<출력 예시>\n",
    "<br/>노드 F에서 노드 E까지 최단 경로는 ['F', 'E'] 이며 최단 거리는 6 이다."
   ]
  },
  {
   "cell_type": "markdown",
   "metadata": {},
   "source": [
    "※ 풀이조건\n",
    "<ol>\n",
    "    <li>\"networkx' 파이썬 패키지 내 함수 및 클래스를 사용하여 시작 노드를 F로, 도착 노드를 B, C, D, H, G 중 하나씩 설정해서 총 5개의 최단 경로와 최단 거리를 구하여 출력한다. (예: (F-B), (F-C), (F-D), (F-H), (F-G) 로, 총 5개)</li>\n",
    "    <li>최단 경로가 2개 이상일 경우 아무 것이나 1개를 택하여 출력한다.</li>\n",
    "</ol>\n",
    "<br/> ※ 제한조건\n",
    "<ol>\n",
    "    <li>5개 경로 및 거리가 모두 올바른 값이면 정답 처리 한다.</li>\n",
    "    <li>다른 패키지 함수를 이용하여 간단히 구현해도 정답처리한다. 단 실습 3의 답과 동일하게 구현하면 0점 처리한다.</li>\n",
    "</ol>\n"
   ]
  },
  {
   "cell_type": "code",
   "execution_count": 15,
   "metadata": {},
   "outputs": [
    {
     "name": "stdout",
     "output_type": "stream",
     "text": [
      "노드 F에서 노드 B까지 최단 경로는 ['F', 'A', 'B'] 이며 최단 거리는 9 이다\n",
      "노드 F에서 노드 C까지 최단 경로는 ['F', 'E', 'D', 'C'] 이며 최단 거리는 9 이다\n",
      "노드 F에서 노드 D까지 최단 경로는 ['F', 'E', 'D'] 이며 최단 거리는 7 이다\n",
      "노드 F에서 노드 H까지 최단 경로는 ['F', 'I', 'H'] 이며 최단 거리는 9 이다\n",
      "노드 F에서 노드 G까지 최단 경로는 ['F', 'I', 'G'] 이며 최단 거리는 6 이다\n"
     ]
    }
   ],
   "source": [
    "import networkx as nx\n",
    "\n",
    "src = 'F'\n",
    "dst = 'BCDHG'\n",
    "for d in dst :\n",
    "    print('노드 '+src+'에서 노드 '+d+'까지 최단 경로는',\n",
    "          nx.shortest_path(graph, src, d, \"weight\"),\n",
    "          '이며 최단 거리는',\n",
    "          nx.shortest_path_length(graph, src, d, \"weight\"),\n",
    "          '이다')"
   ]
  }
 ],
 "metadata": {
  "kernelspec": {
   "display_name": "Python 3 (ipykernel)",
   "language": "python",
   "name": "python3"
  },
  "language_info": {
   "codemirror_mode": {
    "name": "ipython",
    "version": 3
   },
   "file_extension": ".py",
   "mimetype": "text/x-python",
   "name": "python",
   "nbconvert_exporter": "python",
   "pygments_lexer": "ipython3",
   "version": "3.9.7"
  }
 },
 "nbformat": 4,
 "nbformat_minor": 2
}
