{
 "cells": [
  {
   "cell_type": "markdown",
   "metadata": {},
   "source": [
    "## 실습 1\n",
    "###  상기 [그림 1] 의 그래프에 대해  \"networkx'  파이썬 패키지를 사용하여 Prim 및 Kruskal 알고리즘 기반 MST 를 각각구해 보고, 그 결과가 앞의 알고리즘들을 적용한 결과와 같음을 살펴보시오."
   ]
  },
  {
   "cell_type": "code",
   "execution_count": 47,
   "metadata": {},
   "outputs": [],
   "source": [
    "import networkx as nx\n",
    "import matplotlib.pyplot as plt\n",
    "from networkx.algorithms import tree\n",
    "def nx_MST_algorithm(graph, alg): #graph ;  인접 노드 리스트, alg='prim' or 'krusla'\n",
    "    nodes= graph.keys()\n",
    "    edges = [(u,v,w) for u in graph for v, w in graph[u] if u <=v ] \n",
    "    G = nx.Graph()\n",
    "    G.add_nodes_from(nodes)        \n",
    "    G.add_weighted_edges_from(edges)\n",
    "    mst=tree.minimum_spanning_edges(G, algorithm=alg, data=False)\n",
    "    edgelist = list(mst)\n",
    "    return edgelist"
   ]
  },
  {
   "cell_type": "code",
   "execution_count": 48,
   "metadata": {},
   "outputs": [
    {
     "data": {
      "text/plain": [
       "[('S', 'L'), ('L', 'B'), ('B', 'N'), ('L', 'F'), ('F', 'E')]"
      ]
     },
     "execution_count": 48,
     "metadata": {},
     "output_type": "execute_result"
    }
   ],
   "source": [
    "nx_MST_algorithm(graph1, 'prim')"
   ]
  },
  {
   "cell_type": "markdown",
   "metadata": {},
   "source": [
    "![Alttext](img/fig15-2.png)"
   ]
  },
  {
   "cell_type": "code",
   "execution_count": 49,
   "metadata": {},
   "outputs": [
    {
     "data": {
      "text/plain": [
       "[('B', 'L'), ('L', 'S'), ('B', 'N'), ('F', 'L'), ('E', 'F')]"
      ]
     },
     "execution_count": 49,
     "metadata": {},
     "output_type": "execute_result"
    }
   ],
   "source": [
    "nx_MST_algorithm(graph1, 'kruskal')"
   ]
  },
  {
   "cell_type": "markdown",
   "metadata": {},
   "source": [
    "### 실습 2.  상기 [그림 3] 의 그래프에 대해  \"networkx'  파이썬 패키지를 사용하여 Prim 및 Kruskal 알고리즘 기반 MST 를 각각구해 보고, 그 결과가 앞의 알고리즘들을 적용한 결과와 같음을 살펴보시오."
   ]
  },
  {
   "cell_type": "code",
   "execution_count": 50,
   "metadata": {},
   "outputs": [
    {
     "data": {
      "text/plain": [
       "[('H', 'J'),\n",
       " ('J', 'I'),\n",
       " ('I', 'G'),\n",
       " ('G', 'E'),\n",
       " ('E', 'C'),\n",
       " ('C', 'F'),\n",
       " ('C', 'B'),\n",
       " ('B', 'A'),\n",
       " ('A', 'D')]"
      ]
     },
     "execution_count": 50,
     "metadata": {},
     "output_type": "execute_result"
    }
   ],
   "source": [
    "nx_MST_algorithm(graph3, 'prim')"
   ]
  },
  {
   "cell_type": "markdown",
   "metadata": {},
   "source": [
    "![Altext](img/fig15-prim_ex_sol.png)"
   ]
  },
  {
   "cell_type": "code",
   "execution_count": 51,
   "metadata": {},
   "outputs": [
    {
     "data": {
      "text/plain": [
       "[('A', 'D'),\n",
       " ('C', 'F'),\n",
       " ('C', 'E'),\n",
       " ('E', 'G'),\n",
       " ('H', 'J'),\n",
       " ('G', 'I'),\n",
       " ('I', 'J'),\n",
       " ('A', 'B'),\n",
       " ('B', 'C')]"
      ]
     },
     "execution_count": 51,
     "metadata": {},
     "output_type": "execute_result"
    }
   ],
   "source": [
    "nx_MST_algorithm(graph3, 'kruskal')"
   ]
  },
  {
   "cell_type": "markdown",
   "metadata": {},
   "source": [
    "![Alttext](img/fig15-Kruskal_ex_sol.jpg)"
   ]
  }
 ],
 "metadata": {
  "kernelspec": {
   "display_name": "Python 3.9.12 ('base')",
   "language": "python",
   "name": "python3"
  },
  "language_info": {
   "codemirror_mode": {
    "name": "ipython",
    "version": 3
   },
   "file_extension": ".py",
   "mimetype": "text/x-python",
   "name": "python",
   "nbconvert_exporter": "python",
   "pygments_lexer": "ipython3",
   "version": "3.9.12"
  },
  "vscode": {
   "interpreter": {
    "hash": "d53987ecb595d47b858fb20818fc57333593e153a0e3e1d0f7ed0487b17d3604"
   }
  }
 },
 "nbformat": 4,
 "nbformat_minor": 2
}
