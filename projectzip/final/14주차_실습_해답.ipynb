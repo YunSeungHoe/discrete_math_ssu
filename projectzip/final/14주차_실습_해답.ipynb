{
 "cells": [
  {
   "cell_type": "markdown",
   "metadata": {},
   "source": [
    "## 1. 트리 변환 "
   ]
  },
  {
   "cell_type": "markdown",
   "metadata": {},
   "source": [
    "### 1.1 M-ary Tree "
   ]
  },
  {
   "cell_type": "markdown",
   "metadata": {},
   "source": [
    "###  'm-ary tree' 는 트리의 모든 내부 노드(잎새 노드(leaf)가 아닌 노드) 가 자식 노드를 최대 m 개를 갖는 트리를 말합니다. \n",
    "### (예) \n",
    "![Altext](./fig14-fig1_2.png)\n",
    "\n",
    "### 트리 노드의 레벨(level)은 루트로 부터 해당 노드까지 단계별로 내려가면서 (올라 오는 것은 허용 안함) 도달하는 데 거치는 에지 갯수를 말합니다. 트리의 높이/깊이(height/depth)는 트리  잎새노드 레벨중 가장 큰 값을 말합니다.   상기 [그림 1] r과 [그림 2] 의 m-ary tree 의 깊이는  각각 4 와 5입니다.  "
   ]
  },
  {
   "cell_type": "markdown",
   "metadata": {},
   "source": [
    "#### 다음은 13주 실습에서 학습했던 \"M_ary_Node_Traversal2\" 입니다. "
   ]
  },
  {
   "cell_type": "code",
   "execution_count": 1,
   "metadata": {},
   "outputs": [],
   "source": [
    "class M_ary_Node_Traversal2:\n",
    "  # 노드 object 생성 초기화\n",
    "    def __init__(self, data, m=2, distance=0): \n",
    "\n",
    "        self.children=[]   # 자식 노드(자식 서브트리)들 리스트\n",
    "        self.m_ary=m  # 최대 허용 자식 노드  갯수  \n",
    "        self.value = [data, distance]   # 자신(루트노드) 데이터 값(data) 및 루트노드로부터의 거리 distance 설정 \n",
    "  \n",
    "  # 자식 노드 갯수를 넘지 않는 범위에서 자식 노드를 생성하고 삽입 새 데이터 값을 노드 데이터값 으로 셋팅       \n",
    "    def add_child(self, data, m=2, distance=1):  # interval_distance ; 부모노드로부터 자식노드까지의 거리        \n",
    "        #print(\"data1={}, m1={}\".format(data,m))\n",
    "        #print(\"self.value=\", self.value)\n",
    "        queue=[]\n",
    "        queue.append(self)\n",
    "        while queue:\n",
    "            current_exploring_node=queue.pop(0)            \n",
    "            if current_exploring_node.value!=None:    \n",
    "            #print(\"data2={}, m2={}\".format(data,m))\n",
    "                if len(current_exploring_node.children)< current_exploring_node.m_ary:           \n",
    "                    current_exploring_node.children.append(M_ary_Node_Traversal2(data, m, current_exploring_node.value[1]+ distance))                \n",
    "                    return \n",
    "                else: # 최대 허용 자식 노드 갯수를 넘었을 경우, 손자 노드를 생성\n",
    "                    for i in range(current_exploring_node.m_ary):                   \n",
    "                         \n",
    "                        if (len(current_exploring_node.children[i].children)< current_exploring_node.children[i].m_ary):                            \n",
    "                            current_exploring_node.children[i].children.append(M_ary_Node_Traversal2(data, m, current_exploring_node.children[i].value[1]+distance))\n",
    "                            return \n",
    "                        queue.append(current_exploring_node.children[i])                \n",
    "            else:           \n",
    "                current_exploring_node.value = [data, distance]\n",
    "        return \n",
    "    def remove_child(self, data):\n",
    "        queue=[]        \n",
    "        queue.append(self)\n",
    "        while queue:\n",
    "            test=queue.pop(0)               \n",
    "            for i, node in enumerate(test.children):                \n",
    "                if node.value[0]==data:                     \n",
    "                    test.children.pop(i)\n",
    "                    if test.children==[]:\n",
    "                        del(test) \n",
    "                    return 1\n",
    "                queue.append(node)\n",
    "            \n",
    "        return None\n",
    "    def remove_all(self):      #자식 노드를 추가하지 않은 처음 루트노드 생성때로 돌아 감    \n",
    "        if self.children==[]:           \n",
    "            return \n",
    "        for node in self.children:           \n",
    "            node.remove_all()\n",
    "            #잎새 노도들 제거\n",
    "            del(node.children)\n",
    "            del(node.m_ary)\n",
    "            del(node.value)\n",
    "            del(node)\n",
    "        self.children=[]   #자식 잎새노드들이 제거되었으면 부모 노드 가 자식이 없으므로 초기화   \n",
    "        return\n",
    "# 트리 노드 값들을 'preorder' 형식으로 출력 ('preorder' 형식은 깊이 우선 탐색임)\n",
    "    def PrintTree(self):\n",
    "        if self:\n",
    "            print(self.value)\n",
    "        for i in range(len(self.children)):         \n",
    "            if self.children[i]:                \n",
    "                self.children[i].PrintTree()      \n",
    "# 이제, 트리 순회에 대해 살펴보자\n",
    "# Preorder traversal ; Root -> Left ->Right\n",
    "    def PreorderTraversal(self):\n",
    "        res = []\n",
    "        if self:\n",
    "            res.append(self.value[0])\n",
    "            for i in range(len(self.children)):\n",
    "                if self.children[i]:\n",
    "                    res = res + self.children[i].PreorderTraversal()\n",
    "        return res\n",
    "\n",
    "# Postorder traversal ; Left ->Right -> Root\n",
    "    def PostorderTraversal(self):\n",
    "        res = []\n",
    "        if self:\n",
    "            for i in range(len(self.children)):\n",
    "                if self.children[i]:    \n",
    "                    res = res + self.children[i].PostorderTraversal()\n",
    "            res.append(self.value[0])\n",
    "        return res    \n",
    "\n",
    "# Inorder traversal ; Left -> Root -> Right\n",
    "    def InorderTraversal(self):\n",
    "        res = []\n",
    "        if self:            \n",
    "            if len(self.children)!=0:           \n",
    "                res = res + self.children[0].InorderTraversal()\n",
    "            res.append(self.value[0])\n",
    "            for i in range(1, len(self.children)):\n",
    "                if self.children[i]:\n",
    "                    res = res + self.children[i].InorderTraversal()\n",
    "            \n",
    "        return res                    "
   ]
  },
  {
   "cell_type": "code",
   "execution_count": 2,
   "metadata": {},
   "outputs": [],
   "source": [
    "MaryS1 = M_ary_Node_Traversal2('a')\n",
    "MaryS1.add_child('b')\n",
    "MaryS1.add_child('c')\n",
    "MaryS1.add_child('d')\n",
    "MaryS1.add_child('e')\n",
    "MaryS1.add_child('f', 0)\n",
    "MaryS1.add_child('g')\n",
    "MaryS1.add_child('h', 0)\n",
    "MaryS1.add_child('i', 1)\n",
    "MaryS1.add_child('j', 1)\n",
    "MaryS1.add_child('k', 0)\n",
    "MaryS1.add_child('l', 0)\n",
    "MaryS1.add_child('m', 0)\n",
    "MaryS1.add_child('n', 0)\n",
    "MaryS1.add_child('o', 0)  \n"
   ]
  },
  {
   "cell_type": "code",
   "execution_count": 3,
   "metadata": {},
   "outputs": [
    {
     "name": "stdout",
     "output_type": "stream",
     "text": [
      "['a', 'b', 'd', 'h', 'i', 'n', 'e', 'j', 'o', 'k', 'c', 'f', 'g', 'l', 'm']\n",
      "['h', 'n', 'i', 'd', 'o', 'j', 'k', 'e', 'b', 'f', 'l', 'm', 'g', 'c', 'a']\n",
      "['h', 'd', 'n', 'i', 'b', 'o', 'j', 'e', 'k', 'a', 'f', 'c', 'l', 'g', 'm']\n"
     ]
    }
   ],
   "source": [
    "print(MaryS1.PreorderTraversal())\n",
    "print(MaryS1.PostorderTraversal())\n",
    "print(MaryS1.InorderTraversal())"
   ]
  },
  {
   "cell_type": "code",
   "execution_count": 4,
   "metadata": {},
   "outputs": [],
   "source": [
    "MaryS2 = M_ary_Node_Traversal2('a', 3)\n",
    "MaryS2.add_child('b')\n",
    "MaryS2.add_child('c', 0)\n",
    "MaryS2.add_child('d', 3)\n",
    "MaryS2.add_child('e')\n",
    "MaryS2.add_child('f', 0)\n",
    "MaryS2.add_child('g')\n",
    "MaryS2.add_child('h', 0)\n",
    "MaryS2.add_child('i', 0)\n",
    "MaryS2.add_child('j', 0)\n",
    "MaryS2.add_child('k', 3)\n",
    "MaryS2.add_child('l', 0)\n",
    "MaryS2.add_child('m')\n",
    "MaryS2.add_child('n')\n",
    "MaryS2.add_child('o', 0)  \n",
    "MaryS2.add_child('p', 1)\n",
    "MaryS2.add_child('q', 0)\n",
    "MaryS2.add_child('r', 0)\n",
    "MaryS2.add_child('s', 0)\n",
    "MaryS2.add_child('t', 0)\n",
    "MaryS2.add_child('u', 0)\n"
   ]
  },
  {
   "cell_type": "code",
   "execution_count": 5,
   "metadata": {},
   "outputs": [
    {
     "name": "stdout",
     "output_type": "stream",
     "text": [
      "['a', 'b', 'e', 'j', 'k', 'n', 's', 't', 'o', 'p', 'u', 'f', 'c', 'd', 'g', 'l', 'm', 'q', 'r', 'h', 'i']\n"
     ]
    }
   ],
   "source": [
    "print(MaryS2.PreorderTraversal())"
   ]
  },
  {
   "cell_type": "markdown",
   "metadata": {},
   "source": [
    "### 1.2. 이진 탐색 트리 및 균형 이진 탐색 트리"
   ]
  },
  {
   "cell_type": "markdown",
   "metadata": {},
   "source": [
    "####  이진 탐색 트리(Binary Search Tree)  는  노드간의 순서가 \" left 자식 노드값 < root 노드 값 < right 자식 노드값 \" 의 순서를 갖도록 정렬된  이진 트리(binary tree) 입니다.  예를 들어 [그림 1] 의 m-ary 트리, [그림 2]의 이진 트리를 이진 탐색  트리로 변경한 것은 각각 [그림  3], [그림 4]와 같습니다. \n",
    "![Altext](fig14-fig3_4.png)\n",
    "\n",
    "\n",
    "#### 균형 이진 트리(Balanced Binary Tree) 는 루트 노드와 트리내 각 단말 노드까지의 거리들의 차이가 1 이하인 경을 말합니다.  [그림 1] 과 [그림 2]의 트리는 균형트리가 아니고, [그림 3] 과 [그림 4]의 트리는 균형트리입니다. \n",
    "####  이진 탐색 트리를 구축하는 데 있어서 '균형 이진 탐색 트리(balanced binary search tree)' 를 구축하는 것이 추후 탐색 횟수를 줄이는 데 도움이 됩니다.  주어진 노드 집합들에 대해 구성할 수있는  이진 탐색 트리 들중  균형 이진 탐색 트리가 가장 깊이가 작습니다.\n",
    "####  깊이 $h$ 인 'full binary tree 의 총 노드 갯수  $V(h)$ 은 $V(h)=2^{h+1} -1 $  이므로, 총 노드 갯수 $m(=V(h))$ 개로 부터 구성할 수있는 트리들의 깊이중 최소 깊이는 'log<sub>2</sub><super>(m+1)</super>-1'  보다 큰 정수가운데, 최소 정수가 됩니다. \n",
    "#### m 개의 노드값이 주어졌을 때 (예; [그림 2]와 같이 {'a', 'b' , 'c', 'd', 'e', 'f', 'g', 'h', 'i', 'j', 'k', 'l', 'm', 'n', 'o'} 등의 15개 노드값), m 개의 노드값을 갖는 균형 이진 탐색 트리 의 깊이 'n'은 다음과 같이 구합니다. \n",
    "####  &nbsp;&nbsp;&nbsp;&nbsp;  h=min{ k >=log<sub>2</sub><super>(m+1)</super>-1 | k ; integer}  \n",
    "####  m 개의 노드값이 주어졌을 때, 13주 실습에서 주어진, 상기 파이썬 'Class BTree_Node' 를 이용하여, 균형 이진 탐색 트리를 구성하는 방법의 하나는 다음과 같습니다.       \n",
    " 1) 먼저 구성할 균형 이진 탐색 트리의 깊이 $'h' $을 구한 후에, 깊이 $'h-1'$ 의 균형 이진 탐색 트리(이 경우 완전 균형 트리임) 구성에  필요한 총노드수 $2^{h} -1$ 를 구한다.  \n",
    " 2) 이후, m 개의 노드값에서 $2^{h} -1$ 개의 노드값을 적절히 뽑아, 깊이 $'h-1' $까지의 균형 이진 탐색 트리를 구성한다.   \n",
    " 3) m 개의 노드값에서 뽑은 $2^{h} -1$ 개의 노드값을 뺀 나머지 노드값들은 구성된 깊이 'h-1' 의 균형 이진 탐색 트\n",
    "    리의 루트노드의 'insert' 메소드를 이용하여 삽입하면 자동적으로 깊이 'h' 의 균형 이진 탐색 트리가 구성된다.\n",
    "\n",
    "#### 예를 들어, 13주 실습에서 주어진, 상기 파이썬 'Class BTree_Node' 를 이용하여 구성된 상기 [그림 1]의 이진트리를   'Class Node' 를 이용하여 [그림 4]와 같은 깊이 'n' 인 균형 이진  탐색 트리로 구성하기 위해서는  깊이 'n-1' 의 완전 균형 이진 탐색 트리를 구성하기 위한, $2^{n} -1$  개의 노드 값 리스트를 먼저 구합니다.  즉, [그림 1]의 15개 노드값 ['a',  'b', ..., 'm', 'n', 'o'] 에대해, 7 (= 2^3-1)개  노드값 ['h', 'd', 'b', 'f', 'l', 'j', 'n'] 를 먼저 구하고, 이 노드 값들이 먼저 배치되고, 나머지 8개 노드값들이 배치되는 리스트 (예 ; ['h', 'd', 'b', 'f', 'l', 'j', 'n', 'a', 'c', 'e', 'g', 'i', 'k', 'm', 'o'] )를 구한 후에, 이 리스트의 첫 노드값을 갖는 루트 노드를 생성하고 (즉,  root=Node('h') ) , 이후  이 리스트의 값을 순차적으로 이 루트노트에 삽입하면됩니다. \n",
    "#### 즉,    \n",
    "  <pre> \n",
    "   root=Node('h')\n",
    "   root.insert('d') \n",
    "    .... \n",
    "  <code>   "
   ]
  },
  {
   "cell_type": "markdown",
   "metadata": {},
   "source": [
    "####  생성된, 상기 파이썬 코드 'Class BTree_Node' 를 이용하여 구성한 노드 'm' 개의 트리의 노드값들이 Alphabet 문자열을 갖는다고 합시다([그림 1] 참조). 이러한 트리에 대해,  같은 갯수의 노드와 노드값을 갖는 균형 이진 탐색 트리를 구성해 봅시다. "
   ]
  },
  {
   "cell_type": "code",
   "execution_count": 6,
   "metadata": {},
   "outputs": [],
   "source": [
    "# 이진트리의 깊이 \n",
    "from math import *\n",
    "def depth_of_BBST(tree):\n",
    "    m=len(tree.PreorderTraversal())\n",
    "    print(m)\n",
    "    return ceil(log2(m+1)-1)"
   ]
  },
  {
   "cell_type": "code",
   "execution_count": 7,
   "metadata": {},
   "outputs": [
    {
     "name": "stdout",
     "output_type": "stream",
     "text": [
      "15\n"
     ]
    },
    {
     "data": {
      "text/plain": [
       "3"
      ]
     },
     "execution_count": 7,
     "metadata": {},
     "output_type": "execute_result"
    }
   ],
   "source": [
    "depth_of_BBST(MaryS1)"
   ]
  },
  {
   "cell_type": "code",
   "execution_count": 8,
   "metadata": {},
   "outputs": [
    {
     "name": "stdout",
     "output_type": "stream",
     "text": [
      "21\n"
     ]
    },
    {
     "data": {
      "text/plain": [
       "4"
      ]
     },
     "execution_count": 8,
     "metadata": {},
     "output_type": "execute_result"
    }
   ],
   "source": [
    "depth_of_BBST(MaryS2)"
   ]
  },
  {
   "cell_type": "code",
   "execution_count": 9,
   "metadata": {},
   "outputs": [
    {
     "data": {
      "text/plain": [
       "4"
      ]
     },
     "execution_count": 9,
     "metadata": {},
     "output_type": "execute_result"
    }
   ],
   "source": [
    "from math import *\n",
    "ceil(log2(22)-1)"
   ]
  },
  {
   "cell_type": "code",
   "execution_count": 10,
   "metadata": {},
   "outputs": [
    {
     "data": {
      "text/plain": [
       "4.459431618637297"
      ]
     },
     "execution_count": 10,
     "metadata": {},
     "output_type": "execute_result"
    }
   ],
   "source": [
    "from math import *\n",
    "log2(22)"
   ]
  },
  {
   "cell_type": "markdown",
   "metadata": {},
   "source": [
    "#### 다음은 13주 실습에서 학습했던 \"class BTree_Traversal\"  입니다. "
   ]
  },
  {
   "cell_type": "code",
   "execution_count": 11,
   "metadata": {},
   "outputs": [],
   "source": [
    "class BTree_Node_Traversal:\n",
    "   # object 생성 초기화\n",
    "    def __init__(self, data):\n",
    "        self.parent = None\n",
    "        self.left = None   # 왼쪽 서브트리 루트 노드값 설정\n",
    "        self.right = None  # 오른쪽 서브트리 루트 노그값 설정 \n",
    "        self.data = data   # 루트 노드 값  설정 \n",
    "\n",
    "  # 삽입되는 새 값을  왼쪽 서브트리의 루트 노드값  또는 오른쪽 서브트리  루트노트값과 비교하여  적절한 위치에  노드를 생성하고 삽입 새 데이터 값을 \n",
    "  # 노드값 으로 셋팅       \n",
    "    def insert(self, data):\n",
    "        if self.data:\n",
    "            if data < self.data:\n",
    "                if self.left is None:\n",
    "                    self.left = BTree_Node_Traversal(data) ####\n",
    "                else:\n",
    "                    self.left.insert(data)                                        \n",
    "            elif data > self.data:\n",
    "                if self.right is None:\n",
    "                    self.right = BTree_Node_Traversal(data) ####\n",
    "                else:\n",
    "                    self.right.insert(data)                    \n",
    "        else:\n",
    "            self.data = data\n",
    "            self.parent=self\n",
    "    def search(self, data, explored=[]): \n",
    "        explored.append(self.data)       \n",
    "        if data < self.data:\n",
    "            if self.left==None:\n",
    "                return print(\"The tree does not have  the item({})\".format(data))                      \n",
    "            else:\n",
    "                    self.left.search(data, explored)\n",
    "        elif data > self.data:\n",
    "            if self.right == None:\n",
    "                return print(\"The tree does not have  the item({})\".format(data))                      \n",
    "            else:\n",
    "                self.right.search(data, explored)\n",
    "        else:         \n",
    "            return print(explored)\n",
    "# 트리 노드 값들을 프린팅\n",
    "    def PrintTree(self):\n",
    "        if self.left:\n",
    "            self.left.PrintTree()\n",
    "        print( self.data),\n",
    "        if self.right:\n",
    "            self.right.PrintTree()\n",
    "            \n",
    "          \n",
    " # Preorder traversal\n",
    "# Root -> Left ->Right\n",
    "    def PreorderTraversal(self):\n",
    "        res = []\n",
    "        if self:\n",
    "            res.append(self.data)\n",
    "            if self.left:\n",
    "                res = res + self.left.PreorderTraversal()\n",
    "            if self.right:    \n",
    "                res = res + self.right.PreorderTraversal()\n",
    "        return res\n",
    "\n",
    "# Postorder traversal\n",
    "# Left ->Right -> Root\n",
    "    def PostorderTraversal(self):\n",
    "        res = []\n",
    "        if self:\n",
    "            if self.left:\n",
    "                res = self.left.PostorderTraversal()\n",
    "            if self.right:    \n",
    "                res = res + self.right.PostorderTraversal()\n",
    "            res.append(self.data)\n",
    "        return res    \n",
    "\n",
    "# Inorder traversal\n",
    "# Left -> Root -> Right\n",
    "    def InorderTraversal(self):\n",
    "        res = []\n",
    "        if self:\n",
    "            if self.left:\n",
    "                res = self.left.InorderTraversal()\n",
    "            res.append(self.data)\n",
    "            if self.right:\n",
    "                res = res + self.right.InorderTraversal()\n",
    "        return res    "
   ]
  },
  {
   "cell_type": "markdown",
   "metadata": {},
   "source": [
    "### 1.3. 균형 이진 탐색 트리로의 변환\n",
    "####  이제, 상기 파이썬 코드 'Class Node' 를 이용하여 생성된 트리의 m 개 노드값들을 읽어서, 해당 노드값들을 갖는 균형 이진 탐색트리를 구성하는 데 필요한  (앞에서 설명한 바와 같은)를 노드값 리스트 를  구하는  파이썬 함수를 코딩한 후에 이를 이용하여  [그림 1]및 [그림 2] 의 트리에 대해 균형 이진 탐색 트리를 생성해 봅시다. "
   ]
  },
  {
   "cell_type": "code",
   "execution_count": 12,
   "metadata": {},
   "outputs": [],
   "source": [
    "from math import *\n",
    "\n",
    "def depth_of_BBST(nodes): #\n",
    "    m=len(nodes)\n",
    "    return ceil(log2(m+1)-1)\n",
    "\n",
    "def num_tree_nodes(depth):\n",
    "    return 2**(depth+1)-1\n",
    "\n",
    "def Select_from_BST_list(node_list): # node_list; 트리의 노드 리스트\n",
    "    number=len(node_list) # 트리 노드 갯수 \n",
    "    node_list.sort()   # 트리 노드를  정렬함 \n",
    "    \n",
    "    #정렬된 노드 리스트들로부터 균형 이진 탐색 트리구성을 위해, 트리 노드값 중 중앙값을 찾아 루트에 배치 \n",
    "    bst=[] #균평 트리 노드 리스트\n",
    "    start=0\n",
    "    if number< 1:\n",
    "        return bst\n",
    "    end= number-1\n",
    "    middle=(end-start+1)//2 # middle= 중앙 위치값 \n",
    "    bst.append(node_list[middle]) # 중앙 위치의 노드 값이  먼저  균형 트리 노드 리스트에 등록 \n",
    "    left=node_list[start:middle]    \n",
    "    right=node_list[middle+1:end+1]    \n",
    "    left_number = number//2\n",
    "    if number%2==0:\n",
    "        right_number=number//2 -1\n",
    "    else: \n",
    "        right_number=number//2 \n",
    "    \n",
    "    bst+=Select_from_BST_list(left)    \n",
    "    bst+=Select_from_BST_list(right)\n",
    " #   if len(bst)==number:\n",
    " #       return bst\n",
    "    return bst\n",
    "\n",
    "\n",
    "def To_BST(sel_node_list):\n",
    "    bst_root=BTree_Node_Traversal(sel_node_list[0])\n",
    "    for i in sel_node_list[1:]:\n",
    "        bst_root.insert(i)\n",
    "    return bst_root\n",
    "        "
   ]
  },
  {
   "cell_type": "code",
   "execution_count": 13,
   "metadata": {},
   "outputs": [
    {
     "data": {
      "text/plain": [
       "['a', 'b', 'c', 'd', 'e', 'f', 'g', 'h', 'i', 'j', 'k', 'l', 'm', 'n', 'o']"
      ]
     },
     "execution_count": 13,
     "metadata": {},
     "output_type": "execute_result"
    }
   ],
   "source": [
    "a=MaryS1.PreorderTraversal()\n",
    "a.sort()\n",
    "a"
   ]
  },
  {
   "cell_type": "code",
   "execution_count": 14,
   "metadata": {},
   "outputs": [
    {
     "data": {
      "text/plain": [
       "['h', 'd', 'b', 'a', 'c', 'f', 'e', 'g', 'l', 'j', 'i', 'k', 'n', 'm', 'o']"
      ]
     },
     "execution_count": 14,
     "metadata": {},
     "output_type": "execute_result"
    }
   ],
   "source": [
    "Select_from_BST_list(MaryS1.PreorderTraversal())"
   ]
  },
  {
   "cell_type": "code",
   "execution_count": 15,
   "metadata": {},
   "outputs": [],
   "source": [
    "sel_lst3=Select_from_BST_list(MaryS1.PreorderTraversal())\n",
    "bst3=To_BST(sel_lst3)"
   ]
  },
  {
   "cell_type": "markdown",
   "metadata": {},
   "source": [
    "####  상기에서  구성한 균형 이진 탐색 트리에 대해, 'Class Node' 의   'Inorder' 순회 함수를 적용한 결과가 \n",
    "####  ['a', 'b', 'c', 'd', 'e', 'f', 'g', 'h', 'i', 'j', 'k', 'l', 'm', 'n', 'o'] 로 출력됨을 확인해 봅시다. "
   ]
  },
  {
   "cell_type": "code",
   "execution_count": 16,
   "metadata": {},
   "outputs": [
    {
     "name": "stdout",
     "output_type": "stream",
     "text": [
      "['h', 'd', 'b', 'a', 'c', 'f', 'e', 'g', 'l', 'j', 'i', 'k', 'n', 'm', 'o']\n",
      "['a', 'c', 'b', 'e', 'g', 'f', 'd', 'i', 'k', 'j', 'm', 'o', 'n', 'l', 'h']\n",
      "['a', 'b', 'c', 'd', 'e', 'f', 'g', 'h', 'i', 'j', 'k', 'l', 'm', 'n', 'o']\n"
     ]
    }
   ],
   "source": [
    "print(bst3.PreorderTraversal())  # root - Left- Right ####\n",
    "print(bst3.PostorderTraversal()) # Left - Right - root ####\n",
    "print(bst3.InorderTraversal())   # Left-root-Right ####"
   ]
  },
  {
   "cell_type": "code",
   "execution_count": 17,
   "metadata": {},
   "outputs": [
    {
     "name": "stdout",
     "output_type": "stream",
     "text": [
      "['k', 'f', 'c', 'b', 'a', 'e', 'd', 'i', 'h', 'g', 'j', 'q', 'n', 'm', 'l', 'p', 'o', 't', 's', 'r', 'u']\n"
     ]
    }
   ],
   "source": [
    "sel_lst4=Select_from_BST_list(MaryS2.PreorderTraversal())\n",
    "print(sel_lst4)\n",
    "bst4=To_BST(sel_lst4)"
   ]
  },
  {
   "cell_type": "markdown",
   "metadata": {},
   "source": [
    "####  상기에서  구성한 균형 이진 탐색 트리에 대해, 'Class Node' 의   'Inorder' 순회 함수를 적용한 결과가 \n",
    "####  ['a', 'b', 'c', 'd', 'e', 'f', 'g', 'h', 'i', 'j', 'k', 'l', 'm', 'n', 'o', 'p', 'q', 'r', 's', 't', 'u'] 로 출력됨을 확인해 봅시다. "
   ]
  },
  {
   "cell_type": "code",
   "execution_count": 18,
   "metadata": {},
   "outputs": [
    {
     "name": "stdout",
     "output_type": "stream",
     "text": [
      "['k', 'f', 'c', 'b', 'a', 'e', 'd', 'i', 'h', 'g', 'j', 'q', 'n', 'm', 'l', 'p', 'o', 't', 's', 'r', 'u']\n",
      "['a', 'b', 'd', 'e', 'c', 'g', 'h', 'j', 'i', 'f', 'l', 'm', 'o', 'p', 'n', 'r', 's', 'u', 't', 'q', 'k']\n",
      "['a', 'b', 'c', 'd', 'e', 'f', 'g', 'h', 'i', 'j', 'k', 'l', 'm', 'n', 'o', 'p', 'q', 'r', 's', 't', 'u']\n"
     ]
    }
   ],
   "source": [
    "print(bst4.PreorderTraversal())  # root - Left- Right ####\n",
    "print(bst4.PostorderTraversal()) # Left - Right - root ####\n",
    "print(bst4.InorderTraversal())   # Left-root-Right ####\n"
   ]
  },
  {
   "cell_type": "markdown",
   "metadata": {},
   "source": [
    "#### 이제, 13주 실습에서 배운  트리의 깊이(depth)를 구하는 파이썬 함수를 적용하여 앞에서 구성한 [그림 3] 및 [그림 4]의  균형 이진 탐색 트리의 깊이가 3 및 4임을 확인해 봅시다."
   ]
  },
  {
   "cell_type": "code",
   "execution_count": 19,
   "metadata": {},
   "outputs": [],
   "source": [
    "def Tree_depth(root, length=0):\n",
    "    tree_depth =0   \n",
    "    if root:\n",
    "        length +=1\n",
    "        tree_depth = Tree_depth(root.left, length)        \n",
    "        if tree_depth < Tree_depth(root.right, length):\n",
    "                tree_depth=Tree_depth(root.right, length)\n",
    "    if tree_depth < length - 1:            \n",
    "        tree_depth = length-1\n",
    "        \n",
    "    return tree_depth  "
   ]
  },
  {
   "cell_type": "code",
   "execution_count": 20,
   "metadata": {},
   "outputs": [
    {
     "name": "stdout",
     "output_type": "stream",
     "text": [
      "3\n",
      "4\n"
     ]
    }
   ],
   "source": [
    "print(Tree_depth(bst3))\n",
    "print(Tree_depth(bst4))"
   ]
  },
  {
   "cell_type": "markdown",
   "metadata": {},
   "source": [
    "## 2. Spanning Tree"
   ]
  },
  {
   "cell_type": "markdown",
   "metadata": {},
   "source": [
    "#### 그래프에서 지정된 소스 노드로부터 의 신장트리 한개를 깊이 우선 탐색 기반 으로  구해 보기"
   ]
  },
  {
   "cell_type": "code",
   "execution_count": 29,
   "metadata": {},
   "outputs": [],
   "source": [
    "import copy\n",
    "def find_SpanningTree_by_dfs2(graph, start, edges=[]):  #graph ; 인접 노드 목록 그래프 표현, #start ;  시작 노드, edges=탐색된 에지 리스트   \n",
    "    #print(\"Beginning;  start={}, edges={}\".format(start, edges))   \n",
    "    if not start in graph: #시작노드가 그래프 노드 가 아니면 문제 있음 \n",
    "        return None    \n",
    "    \n",
    "    \n",
    "    for w in graph[start]: # (3) 시작노드들의 인접 노드들에 대해 for looping  \n",
    "        #print(\"After For Loop;  w={}, start={}, edges={}\".format(w, start, edges))\n",
    "        explored=[]\n",
    "        if edges!=[]:\n",
    "            explored=[edges[0][0]] # edges[0]=(S,B); 첫번째 탐색 에지. 에지는 (시작노드, 종착노드) 로 구성. 따라서, edges[0][0] 은 첫번째 에지의 시작노드 \n",
    "            for item in edges:\n",
    "                explored.append(item[1])  #item은 에지.(S,B) item[1]은 종착노드 B\n",
    "            #explored=['S', 'B']\n",
    "        else:\n",
    "            if start not in explored:\n",
    "                explored=explored+[start]   # start 가 탐색된 노드 리스트에 없으면 추가\n",
    "  \n",
    "        if w not in explored:   \n",
    "            #print(\"2After For Loop;  w={}, start={}, explored={}\".format(w, start, explored))     \n",
    "            if explored!=[]: #[\"S','B']\"] //edgds=[(S, B)]\n",
    "                if (explored[-1], w) in edges or (w, explored[-1]) in edges:          \n",
    "                    return edges                 \n",
    "                else:\n",
    "                    if edges==[]:\n",
    "                        edges.append((explored[-1], w))  \n",
    "                    elif edges!=[] and edges[-1][1]!=w and edges[-1][0] not in explored: #w 가 탐색 에지의 종착 노드가 아니면   ('S', 'B') edges=[('S', 'B'),..,(F,E) ]}                  \n",
    "                        edges.append((explored[-1], w)) #(B,F)    \n",
    "                    else:    \n",
    "                        edges.append((start, w)) #(B,F)    \n",
    "            #print(\"w={} at graph[{}], explored={},  edges={}\".format(w, start, explored+[w], edges))             \n",
    "            edges=find_SpanningTree_by_dfs2(graph, w, edges)  # (5)계속해서 깊이 탐색해 들어감             \n",
    "\n",
    "        if len(edges)== len(graph)-1:        \n",
    "            break \n",
    "    #print(\"w={} at graph[{}], explored={},  edges={}\".format(w, start, explored, edges))    \n",
    "    return edges"
   ]
  },
  {
   "cell_type": "markdown",
   "metadata": {},
   "source": [
    "![Alttext](fig14-5.png)\n",
    "#### 상기 [그림 5]에 대해서 신장트리를 구해 봅시다. "
   ]
  },
  {
   "cell_type": "code",
   "execution_count": 30,
   "metadata": {},
   "outputs": [
    {
     "data": {
      "text/plain": [
       "{'B': ['F', 'L', 'N', 'S'],\n",
       " 'E': ['F', 'L'],\n",
       " 'F': ['B', 'E', 'L', 'N'],\n",
       " 'L': ['B', 'E', 'F', 'S'],\n",
       " 'N': ['B', 'F', 'S'],\n",
       " 'S': ['B', 'L', 'N']}"
      ]
     },
     "execution_count": 30,
     "metadata": {},
     "output_type": "execute_result"
    }
   ],
   "source": [
    "graph5 = {\n",
    "       'B': ['F', 'L', 'N', 'S'],\n",
    "       'E': ['F', 'L'],\n",
    "       'F': ['B', 'E', 'L', 'N'],  \n",
    "       'L': ['B', 'E', 'F', 'S'],\n",
    "       'N': ['B', 'F', 'S'],\n",
    "       'S': ['B', 'L', 'N']}\n",
    "graph5"
   ]
  },
  {
   "cell_type": "code",
   "execution_count": 31,
   "metadata": {},
   "outputs": [
    {
     "data": {
      "text/plain": [
       "[('S', 'B'), ('B', 'F'), ('F', 'E'), ('E', 'L'), ('F', 'N')]"
      ]
     },
     "execution_count": 31,
     "metadata": {},
     "output_type": "execute_result"
    }
   ],
   "source": [
    "find_SpanningTree_by_dfs2(graph5, 'S', [])"
   ]
  },
  {
   "cell_type": "markdown",
   "metadata": {},
   "source": [
    "![Alttext](fig14-5_12.png)"
   ]
  },
  {
   "cell_type": "markdown",
   "metadata": {},
   "source": [
    "![Alttext](fig14-5e.png)\n",
    "#### 상기 [그림 5e]에 대해서 신장트리를 구해 봅시다. "
   ]
  },
  {
   "cell_type": "code",
   "execution_count": 32,
   "metadata": {},
   "outputs": [
    {
     "data": {
      "text/plain": [
       "{'B': ['F', 'L', 'N', 'S'],\n",
       " 'E': ['F', 'L', 'U'],\n",
       " 'F': ['B', 'E', 'L', 'N', 'U'],\n",
       " 'L': ['B', 'E', 'F', 'S'],\n",
       " 'N': ['B', 'F', 'S'],\n",
       " 'S': ['B', 'L', 'N'],\n",
       " 'U': ['E', 'F']}"
      ]
     },
     "execution_count": 32,
     "metadata": {},
     "output_type": "execute_result"
    }
   ],
   "source": [
    "graph5e = {\n",
    "       'B': ['F', 'L', 'N', 'S'],\n",
    "       'E': ['F', 'L', 'U'],\n",
    "       'F': ['B', 'E', 'L', 'N', 'U'],  \n",
    "       'L': ['B', 'E', 'F', 'S'],\n",
    "       'N': ['B', 'F', 'S'],\n",
    "       'S': ['B', 'L', 'N'],\n",
    "       'U': ['E', 'F']}\n",
    "graph5e"
   ]
  },
  {
   "cell_type": "code",
   "execution_count": 34,
   "metadata": {},
   "outputs": [
    {
     "data": {
      "text/plain": [
       "[('S', 'B'), ('B', 'F'), ('F', 'E'), ('E', 'L'), ('E', 'U'), ('F', 'N')]"
      ]
     },
     "execution_count": 34,
     "metadata": {},
     "output_type": "execute_result"
    }
   ],
   "source": [
    "find_SpanningTree_by_dfs2(graph5e, 'S', [])"
   ]
  },
  {
   "cell_type": "markdown",
   "metadata": {},
   "source": [
    "![Altext](fig14-5e-sol.png)"
   ]
  },
  {
   "cell_type": "markdown",
   "metadata": {},
   "source": [
    "### 다음의 교과서 예제 Fig. 6 의 그래프에서 노드 \"f' 에서 출발하는 신장 트리를 구해 봅시다. \n",
    "![Alttext](fig14-67.png)"
   ]
  },
  {
   "cell_type": "code",
   "execution_count": 35,
   "metadata": {},
   "outputs": [
    {
     "data": {
      "text/plain": [
       "{'a': ['c'],\n",
       " 'b': ['c'],\n",
       " 'c': ['a', 'b', 'e'],\n",
       " 'd': ['e', 'f'],\n",
       " 'e': ['c', 'd', 'f'],\n",
       " 'f': ['d', 'e', 'g', 'h'],\n",
       " 'g': ['f', 'h'],\n",
       " 'h': ['f', 'g', 'i', 'k'],\n",
       " 'i': ['h'],\n",
       " 'j': ['k'],\n",
       " 'k': ['h', 'j']}"
      ]
     },
     "execution_count": 35,
     "metadata": {},
     "output_type": "execute_result"
    }
   ],
   "source": [
    "graph6 = {\n",
    "       'a': ['c'],\n",
    "       'b': ['c'],\n",
    "       'c': ['a', 'b', 'e'],\n",
    "       'd': ['e', 'f'],  \n",
    "       'e': ['c', 'd', 'f'],\n",
    "       'f': ['d', 'e', 'g', 'h'],\n",
    "       'g': ['f', 'h'],\n",
    "       'h': ['f', 'g', 'i', 'k'], \n",
    "       'i': ['h'],\n",
    "       'j': ['k'],\n",
    "       'k': ['h', 'j']    \n",
    "      }\n",
    "graph6"
   ]
  },
  {
   "cell_type": "code",
   "execution_count": 36,
   "metadata": {},
   "outputs": [
    {
     "data": {
      "text/plain": [
       "[('f', 'd'),\n",
       " ('d', 'e'),\n",
       " ('e', 'c'),\n",
       " ('c', 'a'),\n",
       " ('c', 'b'),\n",
       " ('f', 'g'),\n",
       " ('g', 'h'),\n",
       " ('h', 'i'),\n",
       " ('h', 'k'),\n",
       " ('k', 'j')]"
      ]
     },
     "execution_count": 36,
     "metadata": {},
     "output_type": "execute_result"
    }
   ],
   "source": [
    "find_SpanningTree_by_dfs2(graph6, 'f', [])"
   ]
  },
  {
   "cell_type": "code",
   "execution_count": 37,
   "metadata": {},
   "outputs": [
    {
     "data": {
      "text/plain": [
       "{'a': ['c'],\n",
       " 'b': ['c'],\n",
       " 'c': ['a', 'b', 'e'],\n",
       " 'd': ['e', 'f'],\n",
       " 'e': ['c', 'd', 'f'],\n",
       " 'f': ['g', 'd', 'e', 'h'],\n",
       " 'g': ['f', 'h'],\n",
       " 'h': ['f', 'g', 'k', 'i'],\n",
       " 'i': ['h'],\n",
       " 'j': ['k'],\n",
       " 'k': ['h', 'j']}"
      ]
     },
     "execution_count": 37,
     "metadata": {},
     "output_type": "execute_result"
    }
   ],
   "source": [
    "graph7 = {\n",
    "       'a': ['c'],\n",
    "       'b': ['c'],\n",
    "       'c': ['a', 'b', 'e'],\n",
    "       'd': ['e', 'f'],  \n",
    "       'e': ['c', 'd', 'f'],\n",
    "       'f': ['g','d', 'e', 'h'],\n",
    "       'g': ['f', 'h'],\n",
    "       'h': ['f', 'g', 'k', 'i'], \n",
    "       'i': ['h'],\n",
    "       'j': ['k'],\n",
    "       'k': ['h', 'j']    \n",
    "      }\n",
    "graph7"
   ]
  },
  {
   "cell_type": "code",
   "execution_count": 38,
   "metadata": {},
   "outputs": [
    {
     "data": {
      "text/plain": [
       "[('f', 'g'),\n",
       " ('g', 'h'),\n",
       " ('h', 'k'),\n",
       " ('k', 'j'),\n",
       " ('h', 'i'),\n",
       " ('f', 'd'),\n",
       " ('d', 'e'),\n",
       " ('e', 'c'),\n",
       " ('c', 'a'),\n",
       " ('c', 'b')]"
      ]
     },
     "execution_count": 38,
     "metadata": {},
     "output_type": "execute_result"
    }
   ],
   "source": [
    "find_SpanningTree_by_dfs2(graph7, 'f', [])"
   ]
  },
  {
   "cell_type": "markdown",
   "metadata": {},
   "source": [
    "## 실습1:"
   ]
  },
  {
   "cell_type": "markdown",
   "metadata": {},
   "source": [
    "####  다음  [그림 6] 의 트리를 읽어,  [그림 4] 의 균형 이진 탐색 트리로 변환하고자 한다. 다음에 답하시오.  \n",
    "![Altext](fig14-6.png)"
   ]
  },
  {
   "cell_type": "markdown",
   "metadata": {},
   "source": [
    "### (a). [그림 6] 의 3-ary 트리를 생성하는 파이썬 코드를 작성해 보시오. "
   ]
  },
  {
   "cell_type": "code",
   "execution_count": 39,
   "metadata": {},
   "outputs": [],
   "source": [
    "class M_ary_Node_Traversal2:\n",
    "  # 노드 object 생성 초기화\n",
    "    def __init__(self, data, m=2, distance=0): \n",
    "\n",
    "        self.children=[]   # 자식 노드(자식 서브트리)들 리스트\n",
    "        self.m_ary=m  # 최대 허용 자식 노드  갯수  \n",
    "        self.value = [data, distance]   # 자신(루트노드) 데이터 값(data) 및 루트노드로부터의 거리 distance 설정 \n",
    "  \n",
    "  # 자식 노드 갯수를 넘지 않는 범위에서 자식 노드를 생성하고 삽입 새 데이터 값을 노드 데이터값 으로 셋팅       \n",
    "    def add_child(self, data, m=2, distance=1):  # interval_distance ; 부모노드로부터 자식노드까지의 거리        \n",
    "        #print(\"data1={}, m1={}\".format(data,m))\n",
    "        #print(\"self.value=\", self.value)\n",
    "        queue=[]\n",
    "        queue.append(self)\n",
    "        while queue:\n",
    "            current_exploring_node=queue.pop(0)            \n",
    "            if current_exploring_node.value!=None:    \n",
    "            #print(\"data2={}, m2={}\".format(data,m))\n",
    "                if len(current_exploring_node.children)< current_exploring_node.m_ary:           \n",
    "                    current_exploring_node.children.append(M_ary_Node_Traversal2(data, m, current_exploring_node.value[1]+ distance))                \n",
    "                    return \n",
    "                else: # 최대 허용 자식 노드 갯수를 넘었을 경우, 손자 노드를 생성\n",
    "                    for i in range(current_exploring_node.m_ary):                   \n",
    "                         \n",
    "                        if (len(current_exploring_node.children[i].children)< current_exploring_node.children[i].m_ary):                            \n",
    "                            current_exploring_node.children[i].children.append(M_ary_Node_Traversal2(data, m, current_exploring_node.children[i].value[1]+distance))\n",
    "                            return \n",
    "                        queue.append(current_exploring_node.children[i])                \n",
    "            else:           \n",
    "                current_exploring_node.value = [data, distance]\n",
    "        return \n",
    "    def remove_child(self, data):\n",
    "        queue=[]        \n",
    "        queue.append(self)\n",
    "        while queue:\n",
    "            test=queue.pop(0)               \n",
    "            for i, node in enumerate(test.children):                \n",
    "                if node.value[0]==data:                     \n",
    "                    test.children.pop(i)\n",
    "                    if test.children==[]:\n",
    "                        del(test) \n",
    "                    return 1\n",
    "                queue.append(node)\n",
    "            \n",
    "        return None\n",
    "    def remove_all(self):      #자식 노드를 추가하지 않은 처음 루트노드 생성때로 돌아 감    \n",
    "        if self.children==[]:           \n",
    "            return \n",
    "        for node in self.children:           \n",
    "            node.remove_all()\n",
    "            #잎새 노도들 제거\n",
    "            del(node.children)\n",
    "            del(node.m_ary)\n",
    "            del(node.value)\n",
    "            del(node)\n",
    "        self.children=[]   #자식 잎새노드들이 제거되었으면 부모 노드 가 자식이 없으므로 초기화   \n",
    "        return\n",
    "# 트리 노드 값들을 'preorder' 형식으로 출력 ('preorder' 형식은 깊이 우선 탐색임)\n",
    "    def PrintTree(self):\n",
    "        if self:\n",
    "            print(self.value)\n",
    "        for i in range(len(self.children)):         \n",
    "            if self.children[i]:                \n",
    "                self.children[i].PrintTree()      \n",
    "# 이제, 트리 순회에 대해 살펴보자\n",
    "# Preorder traversal ; Root -> Left ->Right\n",
    "    def PreorderTraversal(self):\n",
    "        res = []\n",
    "        if self:\n",
    "            res.append(self.value[0])\n",
    "            for i in range(len(self.children)):\n",
    "                if self.children[i]:\n",
    "                    res = res + self.children[i].PreorderTraversal()\n",
    "        return res\n",
    "\n",
    "# Postorder traversal ; Left ->Right -> Root\n",
    "    def PostorderTraversal(self):\n",
    "        res = []\n",
    "        if self:\n",
    "            for i in range(len(self.children)):\n",
    "                if self.children[i]:    \n",
    "                    res = res + self.children[i].PostorderTraversal()\n",
    "            res.append(self.value[0])\n",
    "        return res    \n",
    "\n",
    "# Inorder traversal ; Left -> Root -> Right\n",
    "    def InorderTraversal(self):\n",
    "        res = []\n",
    "        if self:            \n",
    "            if len(self.children)!=0:           \n",
    "                res = res + self.children[0].InorderTraversal()\n",
    "            res.append(self.value[0])\n",
    "            for i in range(1, len(self.children)):\n",
    "                if self.children[i]:\n",
    "                    res = res + self.children[i].InorderTraversal()\n",
    "            \n",
    "        return res                    "
   ]
  },
  {
   "cell_type": "code",
   "execution_count": 43,
   "metadata": {},
   "outputs": [],
   "source": [
    "Mary6 = M_ary_Node_Traversal2('a', 3)\n",
    "Mary6.add_child('b', 3)\n",
    "Mary6.add_child('c', 0)\n",
    "Mary6.add_child('d', 3)\n",
    "Mary6.add_child('e',3)\n",
    "Mary6.add_child('f', 0)\n",
    "Mary6.add_child('g',1)\n",
    "Mary6.add_child('h', 1)\n",
    "Mary6.add_child('i', 0)\n",
    "Mary6.add_child('j')\n",
    "Mary6.add_child('k', 0)\n",
    "Mary6.add_child('l', 0)\n",
    "Mary6.add_child('m',0)\n",
    "Mary6.add_child('n')\n",
    "Mary6.add_child('o', 0)  \n",
    "Mary6.add_child('p', 1)\n",
    "Mary6.add_child('q', 0)\n",
    "Mary6.add_child('r', 0)\n",
    "Mary6.add_child('s', 0)"
   ]
  },
  {
   "cell_type": "code",
   "execution_count": 44,
   "metadata": {},
   "outputs": [
    {
     "data": {
      "text/plain": [
       "19"
      ]
     },
     "execution_count": 44,
     "metadata": {},
     "output_type": "execute_result"
    }
   ],
   "source": [
    "len(Mary6.PreorderTraversal())"
   ]
  },
  {
   "cell_type": "markdown",
   "metadata": {},
   "source": [
    "### (b). [그림 6]의 3-ary 트리의 깊이(높이)가 4이다. 이를 '균형 이진 탐색 트리'(BBST)로 변형하는 경우에, 해당 BBST를 생성하는 파이썬 코드를 작성해 보시오"
   ]
  },
  {
   "cell_type": "code",
   "execution_count": 40,
   "metadata": {},
   "outputs": [],
   "source": [
    "class BTree_Node_Traversal:\n",
    "   # object 생성 초기화\n",
    "    def __init__(self, data):\n",
    "        self.parent = None\n",
    "        self.left = None   # 왼쪽 서브트리 루트 노드값 설정\n",
    "        self.right = None  # 오른쪽 서브트리 루트 노그값 설정 \n",
    "        self.data = data   # 루트 노드 값  설정 \n",
    "\n",
    "  # 삽입되는 새 값을  왼쪽 서브트리의 루트 노드값  또는 오른쪽 서브트리  루트노트값과 비교하여  적절한 위치에  노드를 생성하고 삽입 새 데이터 값을 \n",
    "  # 노드값 으로 셋팅       \n",
    "    def insert(self, data):\n",
    "        if self.data:\n",
    "            if data < self.data:\n",
    "                if self.left is None:\n",
    "                    self.left = BTree_Node_Traversal(data) ####\n",
    "                else:\n",
    "                    self.left.insert(data)                                        \n",
    "            elif data > self.data:\n",
    "                if self.right is None:\n",
    "                    self.right = BTree_Node_Traversal(data) ####\n",
    "                else:\n",
    "                    self.right.insert(data)                    \n",
    "        else:\n",
    "            self.data = data\n",
    "            self.parent=self\n",
    "    def search(self, data, explored=[]): \n",
    "        explored.append(self.data)       \n",
    "        if data < self.data:\n",
    "            if self.left==None:\n",
    "                return print(\"The tree does not have  the item({})\".format(data))                      \n",
    "            else:\n",
    "                    self.left.search(data, explored)\n",
    "        elif data > self.data:\n",
    "            if self.right == None:\n",
    "                return print(\"The tree does not have  the item({})\".format(data))                      \n",
    "            else:\n",
    "                self.right.search(data, explored)\n",
    "        else:         \n",
    "            return print(explored)\n",
    "# 트리 노드 값들을 프린팅\n",
    "    def PrintTree(self):\n",
    "        if self.left:\n",
    "            self.left.PrintTree()\n",
    "        print( self.data),\n",
    "        if self.right:\n",
    "            self.right.PrintTree()\n",
    "            \n",
    "          \n",
    " # Preorder traversal\n",
    "# Root -> Left ->Right\n",
    "    def PreorderTraversal(self):\n",
    "        res = []\n",
    "        if self:\n",
    "            res.append(self.data)\n",
    "            if self.left:\n",
    "                res = res + self.left.PreorderTraversal()\n",
    "            if self.right:    \n",
    "                res = res + self.right.PreorderTraversal()\n",
    "        return res\n",
    "\n",
    "# Postorder traversal\n",
    "# Left ->Right -> Root\n",
    "    def PostorderTraversal(self):\n",
    "        res = []\n",
    "        if self:\n",
    "            if self.left:\n",
    "                res = self.left.PostorderTraversal()\n",
    "            if self.right:    \n",
    "                res = res + self.right.PostorderTraversal()\n",
    "            res.append(self.data)\n",
    "        return res    \n",
    "\n",
    "# Inorder traversal\n",
    "# Left -> Root -> Right\n",
    "    def InorderTraversal(self):\n",
    "        res = []\n",
    "        if self:\n",
    "            if self.left:\n",
    "                res = self.left.InorderTraversal()\n",
    "            res.append(self.data)\n",
    "            if self.right:\n",
    "                res = res + self.right.InorderTraversal()\n",
    "        return res    "
   ]
  },
  {
   "cell_type": "code",
   "execution_count": 41,
   "metadata": {},
   "outputs": [],
   "source": [
    "from math import *\n",
    "\n",
    "def depth_of_BBST(nodes): #\n",
    "    m=len(nodes)\n",
    "    return ceil(log2(m+1)-1)\n",
    "\n",
    "def num_tree_nodes(depth):\n",
    "    return 2**(depth+1)-1\n",
    "\n",
    "def Select_from_BST_list(node_list): # node_list; 트리의 노드 리스트\n",
    "    number=len(node_list) # 트리 노드 갯수 \n",
    "    node_list.sort()   # 트리 노드를  정렬함 \n",
    "    \n",
    "    #정렬된 노드 리스트들로부터 균형 이진 탐색 트리구성을 위해, 트리 노드값 중 중앙값을 찾아 루트에 배치 \n",
    "    bst=[] #균평 트리 노드 리스트\n",
    "    start=0\n",
    "    if number< 1:\n",
    "        return bst\n",
    "    end= number-1\n",
    "    middle=(end-start+1)//2 # middle= 중앙 위치값 \n",
    "    bst.append(node_list[middle]) # 중앙 위치의 노드 값이  먼저  균형 트리 노드 리스트에 등록 \n",
    "    left=node_list[start:middle]    \n",
    "    right=node_list[middle+1:end+1]    \n",
    "    left_number = number//2\n",
    "    if number%2==0:\n",
    "        right_number=number//2 -1\n",
    "    else: \n",
    "        right_number=number//2 \n",
    "    \n",
    "    bst+=Select_from_BST_list(left)    \n",
    "    bst+=Select_from_BST_list(right)\n",
    " #   if len(bst)==number:\n",
    " #       return bst\n",
    "    return bst\n",
    "\n",
    "\n",
    "def To_BST(sel_node_list):\n",
    "    bst_root=BTree_Node_Traversal(sel_node_list[0])\n",
    "    for i in sel_node_list[1:]:\n",
    "        bst_root.insert(i)\n",
    "    return bst_root\n"
   ]
  },
  {
   "cell_type": "code",
   "execution_count": 45,
   "metadata": {},
   "outputs": [],
   "source": [
    "sel_lst6=Select_from_BST_list(Mary6.PreorderTraversal())\n",
    "bst6=To_BST(sel_lst6)"
   ]
  },
  {
   "cell_type": "code",
   "execution_count": 46,
   "metadata": {},
   "outputs": [
    {
     "data": {
      "text/plain": [
       "['j',\n",
       " 'e',\n",
       " 'c',\n",
       " 'b',\n",
       " 'a',\n",
       " 'd',\n",
       " 'h',\n",
       " 'g',\n",
       " 'f',\n",
       " 'i',\n",
       " 'o',\n",
       " 'm',\n",
       " 'l',\n",
       " 'k',\n",
       " 'n',\n",
       " 'r',\n",
       " 'q',\n",
       " 'p',\n",
       " 's']"
      ]
     },
     "execution_count": 46,
     "metadata": {},
     "output_type": "execute_result"
    }
   ],
   "source": [
    "sel_lst6"
   ]
  },
  {
   "cell_type": "markdown",
   "metadata": {},
   "source": [
    "### (c)  생성한 '균형 이진 탐색 트리(BBST)'에 대해 Inorder 순회로 하는 경우에 , 알파벳순으로 출력됨을 보이시오."
   ]
  },
  {
   "cell_type": "code",
   "execution_count": 47,
   "metadata": {},
   "outputs": [
    {
     "data": {
      "text/plain": [
       "['a',\n",
       " 'b',\n",
       " 'c',\n",
       " 'd',\n",
       " 'e',\n",
       " 'f',\n",
       " 'g',\n",
       " 'h',\n",
       " 'i',\n",
       " 'j',\n",
       " 'k',\n",
       " 'l',\n",
       " 'm',\n",
       " 'n',\n",
       " 'o',\n",
       " 'p',\n",
       " 'q',\n",
       " 'r',\n",
       " 's']"
      ]
     },
     "execution_count": 47,
     "metadata": {},
     "output_type": "execute_result"
    }
   ],
   "source": [
    "bst6.InorderTraversal()"
   ]
  },
  {
   "cell_type": "markdown",
   "metadata": {},
   "source": [
    "### (d) 상기 생성된  '균형 이진 탐색 트리(BBST)'를 NetworkX를 사용하여 그려보시오. "
   ]
  },
  {
   "cell_type": "code",
   "execution_count": 49,
   "metadata": {},
   "outputs": [],
   "source": [
    "def edges_in_tree(tree, edges=[]):\n",
    "    if tree.data == None:\n",
    "        return  []    \n",
    "    edges, left_edges, right_edges = list(), list(), list() \n",
    "\n",
    "    if tree.left != None:            \n",
    "        edges.append((tree.data, tree.left.data))\n",
    "        left_edges= edges_in_tree(tree.left, edges)        \n",
    "    if tree.right != None:       \n",
    "        edges.append((tree.data, tree.right.data))\n",
    "        right_edges=edges_in_tree(tree.right, edges)\n",
    "        \n",
    "    return edges + left_edges + right_edges"
   ]
  },
  {
   "cell_type": "code",
   "execution_count": 50,
   "metadata": {},
   "outputs": [
    {
     "data": {
      "text/plain": [
       "[('j', 'e'),\n",
       " ('j', 'o'),\n",
       " ('e', 'c'),\n",
       " ('e', 'h'),\n",
       " ('c', 'b'),\n",
       " ('c', 'd'),\n",
       " ('b', 'a'),\n",
       " ('h', 'g'),\n",
       " ('h', 'i'),\n",
       " ('g', 'f'),\n",
       " ('o', 'm'),\n",
       " ('o', 'r'),\n",
       " ('m', 'l'),\n",
       " ('m', 'n'),\n",
       " ('l', 'k'),\n",
       " ('r', 'q'),\n",
       " ('r', 's'),\n",
       " ('q', 'p')]"
      ]
     },
     "execution_count": 50,
     "metadata": {},
     "output_type": "execute_result"
    }
   ],
   "source": [
    "edges_in_tree(bst6)"
   ]
  },
  {
   "cell_type": "code",
   "execution_count": 51,
   "metadata": {},
   "outputs": [],
   "source": [
    "import networkx as nx\n",
    "import matplotlib.pyplot as plt"
   ]
  },
  {
   "cell_type": "code",
   "execution_count": 52,
   "metadata": {},
   "outputs": [],
   "source": [
    "def draw_balanced_binary_search_tree(BBT_tree, pos = None) :\n",
    "    G = nx.Graph()\n",
    "    nodes = BBT_tree.InorderTraversal()\n",
    "    edges = edges_in_tree(BBT_tree)\n",
    "   \n",
    "    G.add_nodes_from(nodes)\n",
    "    G.add_edges_from(edges)\n",
    "\n",
    "    \n",
    "    plt.figure(figsize=(10, 10))\n",
    "    \n",
    "    nx.draw_networkx_nodes(G, pos=pos, node_size=2000, node_color=\"g\",)\n",
    "    nx.draw_networkx_edges(G, pos=pos)\n",
    "    nx.draw_networkx_labels(G, pos=pos, font_size=30)\n",
    "    plt.show()"
   ]
  },
  {
   "cell_type": "code",
   "execution_count": 53,
   "metadata": {},
   "outputs": [
    {
     "data": {
      "image/png": "[encoded data removed]",
      "text/plain": [
       "<Figure size 720x720 with 1 Axes>"
      ]
     },
     "metadata": {},
     "output_type": "display_data"
    }
   ],
   "source": [
    "pos = {'a':(-3.5, 0), 'b':(-3,1), 'c':(-2.5, 2), 'd':(-2.1,1), 'e':(-2, 3), 'f':(-1.8, 0), 'g':(-1.4, 1), 'h':(-1.0, 2), 'i':(-0.6,1), 'j':(0,4), 'k':(-0.3, 0),\n",
    "      'l':(0.5, 1),'m':(1,2),'n':(1.3, 1),'o':(2,3),'p':(1.5, 0),'q':(2.2, 1),'r':(2.5, 2), 's':(3,1)}\n",
    "draw_balanced_binary_search_tree(bst6, pos) "
   ]
  },
  {
   "cell_type": "markdown",
   "metadata": {},
   "source": [
    "## 실습 2: \n",
    "### (a) 너비 우선 탐색으로 주어진 그래프에서 주어진 소스 노드에서의 신장 트리 하나를 찾는 파이썬 코드를 작성하시오. "
   ]
  },
  {
   "cell_type": "code",
   "execution_count": 54,
   "metadata": {},
   "outputs": [],
   "source": [
    "import copy\n",
    "def find_SpanningTree_by_bfs(graph, start, edges=[]): \n",
    "    graph_nodes= list(graph.keys())\n",
    "    explored, edges, queue = list(), list(), [start]\n",
    "    explored.append(start)\n",
    "    while queue: #탐색할 큐에 노드가 있는 한 계속 수행  \n",
    "        v = queue.pop(0)  # 큐에서  FIFO 순으로 큐의 제일앞에 있는 노드을  뽑음\n",
    "        for w in graph[v]:   #현재 노드 v 의 인접 모드들에 대해 for looping        \n",
    "            if w not in explored:                \n",
    "                explored.append(w) #현 노드가 순회되지 않았으면 현 노드를 순회된 리스트에 등록               \n",
    "                if (v,w) not in edges and (w,v) not in edges:              #if (v,w) not in edges :    \n",
    "                    edges.append((v, w))\n",
    "                    if len(edges)==len(graph) and explored.sort()==graph_nodes:\n",
    "                        return edges  \n",
    "                    #else: edges.pop(-1)\n",
    "                queue.append(w) # 다음 레벨 탐색을 위해  큐에 해당 노드 를 저장함\n",
    "    return edges"
   ]
  },
  {
   "cell_type": "markdown",
   "metadata": {},
   "source": [
    "### (b) 상기 너비우선 탐색 기반 신장트리 검출 파이썬 코드를 이용하여 [그림 5] 의 그래프에서 노드 \"S\" 에서 출발하는 신장 트리를 하나 구해 보시오."
   ]
  },
  {
   "cell_type": "code",
   "execution_count": 55,
   "metadata": {},
   "outputs": [
    {
     "data": {
      "text/plain": [
       "{'B': ['F', 'L', 'N', 'S'],\n",
       " 'E': ['F', 'L'],\n",
       " 'F': ['B', 'E', 'L', 'N'],\n",
       " 'L': ['B', 'E', 'F', 'S'],\n",
       " 'N': ['B', 'F', 'S'],\n",
       " 'S': ['B', 'L', 'N']}"
      ]
     },
     "execution_count": 55,
     "metadata": {},
     "output_type": "execute_result"
    }
   ],
   "source": [
    "graph5 = {\n",
    "       'B': ['F', 'L', 'N', 'S'],\n",
    "       'E': ['F', 'L'],\n",
    "       'F': ['B', 'E', 'L', 'N'],  \n",
    "       'L': ['B', 'E', 'F', 'S'],\n",
    "       'N': ['B', 'F', 'S'],\n",
    "       'S': ['B', 'L', 'N']}\n",
    "graph5"
   ]
  },
  {
   "cell_type": "code",
   "execution_count": 56,
   "metadata": {},
   "outputs": [
    {
     "data": {
      "text/plain": [
       "[('S', 'B'), ('S', 'L'), ('S', 'N'), ('B', 'F'), ('L', 'E')]"
      ]
     },
     "execution_count": 56,
     "metadata": {},
     "output_type": "execute_result"
    }
   ],
   "source": [
    "find_SpanningTree_by_bfs(graph5, 'S') "
   ]
  },
  {
   "cell_type": "markdown",
   "metadata": {},
   "source": [
    "![Alttext](fig14-5_3.png)"
   ]
  },
  {
   "cell_type": "markdown",
   "metadata": {},
   "source": [
    "### (c) 상기 너비우선 탐색 기반 신장트리 검출 파이썬 코드를 이용하여,  교과서 예제 Fig. 6 의 그래프에서 노드 \"f' 에서 출발하는 신장 트리를 구해 보시오."
   ]
  },
  {
   "cell_type": "markdown",
   "metadata": {},
   "source": [
    "![Alttext](fig14_sol3.png)"
   ]
  },
  {
   "cell_type": "code",
   "execution_count": null,
   "metadata": {},
   "outputs": [],
   "source": [
    "graph6 = {\n",
    "       'a': ['c'],\n",
    "       'b': ['c'],\n",
    "       'c': ['a', 'b', 'e'],\n",
    "       'd': ['e', 'f'],  \n",
    "       'e': ['c', 'd', 'f'],\n",
    "       'f': ['d', 'e', 'g', 'h'],\n",
    "       'g': ['f', 'h'],\n",
    "       'h': ['f', 'g', 'i', 'k'], \n",
    "       'i': ['h'],\n",
    "       'j': ['k'],\n",
    "       'k': ['h', 'j']    \n",
    "      }\n",
    "graph6"
   ]
  },
  {
   "cell_type": "code",
   "execution_count": 57,
   "metadata": {},
   "outputs": [
    {
     "data": {
      "text/plain": [
       "[('f', 'd'),\n",
       " ('f', 'e'),\n",
       " ('f', 'g'),\n",
       " ('f', 'h'),\n",
       " ('e', 'c'),\n",
       " ('h', 'i'),\n",
       " ('h', 'k'),\n",
       " ('c', 'a'),\n",
       " ('c', 'b'),\n",
       " ('k', 'j')]"
      ]
     },
     "execution_count": 57,
     "metadata": {},
     "output_type": "execute_result"
    }
   ],
   "source": [
    "find_SpanningTree_by_bfs(graph6, 'f') "
   ]
  }
 ],
 "metadata": {
  "kernelspec": {
   "display_name": "Python 3 (ipykernel)",
   "language": "python",
   "name": "python3"
  },
  "language_info": {
   "codemirror_mode": {
    "name": "ipython",
    "version": 3
   },
   "file_extension": ".py",
   "mimetype": "text/x-python",
   "name": "python",
   "nbconvert_exporter": "python",
   "pygments_lexer": "ipython3",
   "version": "3.9.7"
  }
 },
 "nbformat": 4,
 "nbformat_minor": 2
}
