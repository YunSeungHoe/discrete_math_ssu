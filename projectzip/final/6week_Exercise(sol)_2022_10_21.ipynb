{
 "cells": [
  {
   "cell_type": "markdown",
   "metadata": {},
   "source": [
    "# Chapter 06: Counting\n",
    "# 이번주 본 실습에서는 알고리즘의 복잡도 계산, 경우의 수 계산 등에 필요한 카운팅 수학 기법에 파이썬 구현에 대해 살펴 보기로 합니다. \n",
    "# 카운팅에 대한 수학 이론 배경은 고등학교때에 배워 익숙한 순열(permutation) 및 조합(combination) 입니다. 물론 알고리즘 측면에서 살펴 볼 부분이 있어 고등학교 때의 순열 및 조합과는 좀 배우고 생각하여야 할 것 있습니다. "
   ]
  },
  {
   "cell_type": "markdown",
   "metadata": {},
   "source": [
    "### Permutation (순열) 계산 \n",
    "#### <sub>n</sub>P<sub>r</sub>  은 n 개에서 순서를 가지고 r 개를 뽑는 방법의 갯수입니다. \n",
    "#### 잘 아시다시피, \n",
    "&nbsp; <sub>n</sub>P<sub>r</sub> = $n(n-1)...(n-r+1)= \\frac{n! }{(n-r)!} $"
   ]
  },
  {
   "cell_type": "markdown",
   "metadata": {},
   "source": [
    "#### Permutation (순열) 구현  Example 01: Page 407\n",
    "#### &nbsp; <sub>n</sub>P<sub>r</sub> = n(n-1)...(n-r+1)=n(n-1)...(n-r+1)"
   ]
  },
  {
   "cell_type": "markdown",
   "metadata": {},
   "source": [
    "#### Iterative algorithm 으로 Permutation 구현 "
   ]
  },
  {
   "cell_type": "code",
   "execution_count": 2,
   "metadata": {},
   "outputs": [],
   "source": [
    "def permutation_iter(n,r): #function definition\n",
    "#    i=n ; disable \n",
    "    result=1\n",
    "    for i in range((n-r)+1,n+1): #computing the permutation; nPr=n(n-1)...(n-r+1)=(n-r+1)(n-r+2)...(n-1)n\n",
    "        result=result*i\n",
    "    \n",
    "    return result\n"
   ]
  },
  {
   "cell_type": "code",
   "execution_count": 3,
   "metadata": {},
   "outputs": [
    {
     "name": "stdout",
     "output_type": "stream",
     "text": [
      "The number of ways to select 3 students from a group of 5 students to line up for a picture is  60\n",
      "The number of ways to select 5 students from a group of 5 students to line up for a picture is  120\n"
     ]
    }
   ],
   "source": [
    "print(\"The number of ways to select 3 students from a group of 5 students to line up for a picture is \",permutation_iter(5,3)) #function call\n",
    "print( \"The number of ways to select 5 students from a group of 5 students to line up for a picture is \",permutation_iter(5,5)) #function call"
   ]
  },
  {
   "cell_type": "code",
   "execution_count": 4,
   "metadata": {},
   "outputs": [],
   "source": [
    "def permutation_iter2(n,r): #function definition     \n",
    "    result=1\n",
    "    for i in range(n, n-r,-1): #computing the permutation; nPr=(n-r+1)=n(n-1)...(n-r+1)\n",
    "        result=result*i    \n",
    "    return result"
   ]
  },
  {
   "cell_type": "code",
   "execution_count": 5,
   "metadata": {},
   "outputs": [
    {
     "data": {
      "text/plain": [
       "60"
      ]
     },
     "execution_count": 5,
     "metadata": {},
     "output_type": "execute_result"
    }
   ],
   "source": [
    "permutation_iter2(5,3)"
   ]
  },
  {
   "cell_type": "markdown",
   "metadata": {},
   "source": [
    "#### How many ways are there to select a first-prize winner, a second-prize winner, and a third-prize winner from 100 different people who have entered a contest?"
   ]
  },
  {
   "cell_type": "code",
   "execution_count": 5,
   "metadata": {},
   "outputs": [
    {
     "name": "stdin",
     "output_type": "stream",
     "text": [
      "Enter the number of people:  100\n",
      "Enter the prizes:  3\n"
     ]
    },
    {
     "name": "stdout",
     "output_type": "stream",
     "text": [
      "The number of ways to decide the prize winners is  970200\n"
     ]
    }
   ],
   "source": [
    "num=int(input(\"Enter the number of people: \"))\n",
    "perm=int(input(\"Enter the prizes: \"))\n",
    "print (\"The number of ways to decide the prize winners is \", permutation_i(num,perm)) #function call"
   ]
  },
  {
   "cell_type": "markdown",
   "metadata": {},
   "source": [
    "#### Recursive algorithm 으로 Permutation 구현 \n",
    "#### &nbsp; <sub>n</sub>P<sub>r</sub> = n * <sub>n-1</sub>P<sub>r-1</sub>"
   ]
  },
  {
   "cell_type": "code",
   "execution_count": 1,
   "metadata": {},
   "outputs": [],
   "source": [
    "def permutation_recursive(n,r):\n",
    "    if n< r:\n",
    "        return print(\" Please take n greater r\") #예외 점검 \n",
    "    if r==0: # 종료\n",
    "        return 1\n",
    "    return n*permutation_recursive(n-1,r-1) #typing_error"
   ]
  },
  {
   "cell_type": "code",
   "execution_count": 2,
   "metadata": {},
   "outputs": [
    {
     "name": "stdin",
     "output_type": "stream",
     "text": [
      "Enter the number of people:  5\n",
      "Enter the prizes:  3\n"
     ]
    },
    {
     "name": "stdout",
     "output_type": "stream",
     "text": [
      "The number of ways to decide the prize winners is  60\n"
     ]
    }
   ],
   "source": [
    "num=int(input(\"Enter the number of people: \"))\n",
    "perm=int(input(\"Enter the prizes: \"))\n",
    "print (\"The number of ways to decide the prize winners is \", permutation_recursive(num,perm)) #function call"
   ]
  },
  {
   "cell_type": "markdown",
   "metadata": {},
   "source": [
    "####  Factorial 계산을 직접 이용한  permutation 계산     \n",
    "#### <sub>n</sub>P<sub>r</sub> = $n(n-1)...(n-r+1)= \\frac{n! }{(n-r)!} $"
   ]
  },
  {
   "cell_type": "code",
   "execution_count": 6,
   "metadata": {},
   "outputs": [],
   "source": [
    "def factorial(n):\n",
    "    if n==0:\n",
    "        return 1\n",
    "    return n*factorial(n-1)\n",
    "\n",
    "def permutation_Facto(n,r):\n",
    "    if n <r : \n",
    "        return print(\" Please take n greater r\")\n",
    "    if r==0:\n",
    "        return 1\n",
    "    return factorial(n)//factorial(n-r)"
   ]
  },
  {
   "cell_type": "code",
   "execution_count": 7,
   "metadata": {},
   "outputs": [
    {
     "data": {
      "text/plain": [
       "60"
      ]
     },
     "execution_count": 7,
     "metadata": {},
     "output_type": "execute_result"
    }
   ],
   "source": [
    "permutation_Facto(5,3)"
   ]
  },
  {
   "cell_type": "markdown",
   "metadata": {},
   "source": [
    "### Combination(조합) 계산 \n",
    "#### <sub>n</sub>C<sub>r</sub>  은 n 개에서 순서없이 r 개를 뽑는 방법의 갯수입니다. \n",
    "#### 잘 아시다시피, \n",
    "&nbsp; <sub>n</sub>C<sub>r</sub> =   <sub>n</sub>P<sub>r</sub>/r!  = $\\frac{n(n-1)...(n-r+1)}{r!} = \\frac{n! }{(n-r)!r!} $"
   ]
  },
  {
   "cell_type": "markdown",
   "metadata": {},
   "source": [
    "#### Iterative algorithm 으로 Combination 구현 \n",
    "&nbsp; <sub>n</sub>C<sub>r</sub> =   $\\frac{n(n-1)...(n-r+1)}{r!} $"
   ]
  },
  {
   "cell_type": "code",
   "execution_count": 8,
   "metadata": {},
   "outputs": [],
   "source": [
    "def combination_iter(n,r): #combination function\n",
    "    i=n\n",
    "    numerator=1\n",
    "    denominator=1\n",
    "    for i in range((n-r)+1,n+1):#computes the value of the numerator ; n(n-1)...(n-r+1)=(n-r+1)...(n-1)n\n",
    "        numerator=numerator*i\n",
    "    for j in range (1,r+1): #computes the value of the denominator ;  r!\n",
    "        denominator=denominator*j\n",
    "    result=numerator//denominator #computes result\n",
    "    return result\n"
   ]
  },
  {
   "cell_type": "code",
   "execution_count": 13,
   "metadata": {},
   "outputs": [
    {
     "name": "stdout",
     "output_type": "stream",
     "text": [
      "Enter the number of elements: 5\n",
      "Enter the combinations: 3\n",
      "The number of combinations are 10.\n"
     ]
    }
   ],
   "source": [
    "num=int(input(\"Enter the number of elements: \"))\n",
    "comb=int(input(\"Enter the combinations: \"))\n",
    "print (\"The number of combinations are %d.\"  %(combination_iter(num,comb)))"
   ]
  },
  {
   "cell_type": "markdown",
   "metadata": {},
   "source": [
    "#### Permutation 을 이용한 combination 계산 "
   ]
  },
  {
   "cell_type": "code",
   "execution_count": 15,
   "metadata": {},
   "outputs": [],
   "source": [
    "def combination_P(n,r):\n",
    "    if n< r:\n",
    "        return print(\" Please take n greater r\")\n",
    "    if r==0:\n",
    "        return 1\n",
    "    return permutation_i(n,r)//factorial(r)"
   ]
  },
  {
   "cell_type": "code",
   "execution_count": 16,
   "metadata": {},
   "outputs": [
    {
     "data": {
      "text/plain": [
       "10"
      ]
     },
     "execution_count": 16,
     "metadata": {},
     "output_type": "execute_result"
    }
   ],
   "source": [
    "combination_P(5,3)"
   ]
  },
  {
   "cell_type": "markdown",
   "metadata": {},
   "source": [
    "#### Recursive algorithm 으로 Combination 구현 - Pascal's Identity 이용\n",
    "#### &nbsp; <sub>n+1</sub>C<sub>r</sub> =  <sub>n</sub>C<sub>r</sub> + <sub>n</sub>C<sub>r-1</sub> ==> <sub>n</sub>C<sub>r</sub> =  <sub>n-1</sub>C<sub>r</sub> + <sub>n-1</sub>C<sub>r-1</sub>"
   ]
  },
  {
   "cell_type": "code",
   "execution_count": 18,
   "metadata": {},
   "outputs": [],
   "source": [
    "def combination_recursive(n,r):\n",
    "    if n< r:\n",
    "        return print(\" Please take n greater r\")\n",
    "    if r==0:\n",
    "        return 1\n",
    "    return combination_r(n-1,r)+combination_r(n-1,r-1)"
   ]
  },
  {
   "cell_type": "code",
   "execution_count": 20,
   "metadata": {},
   "outputs": [
    {
     "data": {
      "text/plain": [
       "10"
      ]
     },
     "execution_count": 20,
     "metadata": {},
     "output_type": "execute_result"
    }
   ],
   "source": [
    "combination_recursive(5,3)"
   ]
  },
  {
   "cell_type": "markdown",
   "metadata": {},
   "source": [
    "##  \"iterable\" 객체, \"iterator\" 객체, \"enumerate\" 객체, 'generator\" 객체 를 통한 Counting "
   ]
  },
  {
   "cell_type": "markdown",
   "metadata": {},
   "source": [
    "### 파이썬에서의 \"iterable\" 객체, \"iterator\" 객체, \"enumerate\" 객체 \n",
    "#### 1) 'iterable' 객체는 'for loop' 등에서 저장된 값을 하나씩 처리하는 데 사용된다. list, tuple, set, dictionary, string ,  range()로 생성된 객체, numpy array 들은 모두  iterable 객체들이다.  이들 객체들은 모두파이썬의 내장함수   'iter(object[, sentinel])'  이용해  연관된 \" iterator\" 객체를 생성할 수있다. \n",
    "#### 2)  \"iterator\" 객체는 셀수 있는 값들을 포함한 객체로, 저장된 값들을 계속해서 하나 하나 불러 낼 수있다.  다 불러내면  \"iterator\" 객체에서 남아 있는 요소는 없다. 파이썬에서는 기술적으로 , 'iterator protocol' 즉 '__iter__()' 와 '__next__()' 라는 매직 메소드를 구현한 객체이다. \n",
    "#### 2-1) 파이썬의 내장함수   'iter(object[, sentinel])' 는 itertor 객체를 생성한다. \n",
    "#### 3) 'enumerate' 는 'iterable' 객체를 입력으로 받아 인덱스 값을 포함하는 enumerate 객체를 리턴한다. 파이썬의 내장함수  'enumerate(iterable, start=0)' 는 'enumerate' 객체를 생성한다.\n",
    "#### 4) 'Generator' 함수는 호출시에 동작을 재개하여 이터레이팅(반복)이 가능한 'generator'('generator iterator')로 알려진 객체를 반환하는 함수로, 내부적으로 'yield' 라는 파이썬 키워드가 들어가 있다. 리스트 등과 달리, 'next()' method 가 호출될 때, 내부적으로 'yield' statement 를 통해 요소 하나씩의 생성을 수행한다.보관하고 있는 요소(데이터)가 모두 'next()' 메소드 호출로 생성되면, 보관된 요소(데이터)가 모든 생성되면 그 이후 호출은 StopIteration exception 이 발생된다.  Generator 함수에 의해 리턴된 객체를 generator 객체라 한다. "
   ]
  },
  {
   "cell_type": "code",
   "execution_count": 21,
   "metadata": {},
   "outputs": [
    {
     "name": "stdout",
     "output_type": "stream",
     "text": [
      "c\n",
      "a\n",
      "t\n"
     ]
    }
   ],
   "source": [
    "str=\"cat\" #iterable 객체 \n",
    "for c in str:\n",
    "    print(c)    "
   ]
  },
  {
   "cell_type": "code",
   "execution_count": 22,
   "metadata": {},
   "outputs": [
    {
     "ename": "TypeError",
     "evalue": "'str' object is not an iterator",
     "output_type": "error",
     "traceback": [
      "\u001b[1;31m---------------------------------------------------------------------------\u001b[0m",
      "\u001b[1;31mTypeError\u001b[0m                                 Traceback (most recent call last)",
      "\u001b[1;32m~\\AppData\\Local\\Temp/ipykernel_2692/59669419.py\u001b[0m in \u001b[0;36m<module>\u001b[1;34m\u001b[0m\n\u001b[1;32m----> 1\u001b[1;33m \u001b[0mprint\u001b[0m\u001b[1;33m(\u001b[0m\u001b[0mnext\u001b[0m\u001b[1;33m(\u001b[0m\u001b[0mstr\u001b[0m\u001b[1;33m)\u001b[0m\u001b[1;33m)\u001b[0m\u001b[1;33m\u001b[0m\u001b[1;33m\u001b[0m\u001b[0m\n\u001b[0m",
      "\u001b[1;31mTypeError\u001b[0m: 'str' object is not an iterator"
     ]
    }
   ],
   "source": [
    "print(next(str))"
   ]
  },
  {
   "cell_type": "code",
   "execution_count": 23,
   "metadata": {},
   "outputs": [
    {
     "name": "stdout",
     "output_type": "stream",
     "text": [
      "<class 'str'>\n",
      "<class 'str_iterator'>\n",
      "c\n",
      "a\n",
      "t\n"
     ]
    },
    {
     "ename": "StopIteration",
     "evalue": "",
     "output_type": "error",
     "traceback": [
      "\u001b[1;31m---------------------------------------------------------------------------\u001b[0m",
      "\u001b[1;31mStopIteration\u001b[0m                             Traceback (most recent call last)",
      "\u001b[1;32m~\\AppData\\Local\\Temp/ipykernel_2692/1152917784.py\u001b[0m in \u001b[0;36m<module>\u001b[1;34m\u001b[0m\n\u001b[0;32m      6\u001b[0m \u001b[0mprint\u001b[0m\u001b[1;33m(\u001b[0m\u001b[0mnext\u001b[0m\u001b[1;33m(\u001b[0m\u001b[0mmyit\u001b[0m\u001b[1;33m)\u001b[0m\u001b[1;33m)\u001b[0m\u001b[1;33m\u001b[0m\u001b[1;33m\u001b[0m\u001b[0m\n\u001b[0;32m      7\u001b[0m \u001b[0mprint\u001b[0m\u001b[1;33m(\u001b[0m\u001b[0mnext\u001b[0m\u001b[1;33m(\u001b[0m\u001b[0mmyit\u001b[0m\u001b[1;33m)\u001b[0m\u001b[1;33m)\u001b[0m\u001b[1;33m\u001b[0m\u001b[1;33m\u001b[0m\u001b[0m\n\u001b[1;32m----> 8\u001b[1;33m \u001b[0mprint\u001b[0m\u001b[1;33m(\u001b[0m\u001b[0mnext\u001b[0m\u001b[1;33m(\u001b[0m\u001b[0mmyit\u001b[0m\u001b[1;33m)\u001b[0m\u001b[1;33m)\u001b[0m \u001b[1;31m# 더 이상 불러 올 게 없어 에러 발생\u001b[0m\u001b[1;33m\u001b[0m\u001b[1;33m\u001b[0m\u001b[0m\n\u001b[0m",
      "\u001b[1;31mStopIteration\u001b[0m: "
     ]
    }
   ],
   "source": [
    "str=\"cat\" #iterable 객체\n",
    "print(type(str))\n",
    "myit=iter(str) # itertor 객체 생성 \n",
    "print(type(myit))\n",
    "print(next(myit))\n",
    "print(next(myit))\n",
    "print(next(myit))\n",
    "print(next(myit)) # 더 이상 불러 올 게 없어 에러 발생"
   ]
  },
  {
   "cell_type": "code",
   "execution_count": 25,
   "metadata": {},
   "outputs": [
    {
     "name": "stdout",
     "output_type": "stream",
     "text": [
      "cat\n",
      "cat\n",
      "<class 'str'>\n"
     ]
    },
    {
     "ename": "TypeError",
     "evalue": "'str' object is not an iterator",
     "output_type": "error",
     "traceback": [
      "\u001b[1;31m---------------------------------------------------------------------------\u001b[0m",
      "\u001b[1;31mTypeError\u001b[0m                                 Traceback (most recent call last)",
      "\u001b[1;32m~\\AppData\\Local\\Temp/ipykernel_2692/1800269996.py\u001b[0m in \u001b[0;36m<module>\u001b[1;34m\u001b[0m\n\u001b[0;32m      4\u001b[0m \u001b[0mprint\u001b[0m\u001b[1;33m(\u001b[0m\u001b[0mmyit\u001b[0m\u001b[1;33m)\u001b[0m\u001b[1;33m\u001b[0m\u001b[1;33m\u001b[0m\u001b[0m\n\u001b[0;32m      5\u001b[0m \u001b[0mprint\u001b[0m\u001b[1;33m(\u001b[0m\u001b[0mtype\u001b[0m\u001b[1;33m(\u001b[0m\u001b[0mmyit\u001b[0m\u001b[1;33m)\u001b[0m\u001b[1;33m)\u001b[0m\u001b[1;33m\u001b[0m\u001b[1;33m\u001b[0m\u001b[0m\n\u001b[1;32m----> 6\u001b[1;33m \u001b[0mprint\u001b[0m\u001b[1;33m(\u001b[0m\u001b[0mnext\u001b[0m\u001b[1;33m(\u001b[0m\u001b[0mmyit\u001b[0m\u001b[1;33m)\u001b[0m\u001b[1;33m)\u001b[0m\u001b[1;33m\u001b[0m\u001b[1;33m\u001b[0m\u001b[0m\n\u001b[0m",
      "\u001b[1;31mTypeError\u001b[0m: 'str' object is not an iterator"
     ]
    }
   ],
   "source": [
    "str1=\"cat\" #iterator 객체아님 \n",
    "print(str1)\n",
    "myit=str1 \n",
    "print(myit)\n",
    "print(type(myit))\n",
    "print(next(myit))"
   ]
  },
  {
   "cell_type": "markdown",
   "metadata": {},
   "source": [
    "### Iterator 객체 정의 \n",
    "'__iter__()' 와 '__next__()' 라는 매직 메소드를 구현한 객체이다."
   ]
  },
  {
   "cell_type": "code",
   "execution_count": 26,
   "metadata": {},
   "outputs": [
    {
     "name": "stdout",
     "output_type": "stream",
     "text": [
      "apple\n",
      "banana\n",
      "cherry\n"
     ]
    },
    {
     "ename": "StopIteration",
     "evalue": "",
     "output_type": "error",
     "traceback": [
      "\u001b[1;31m---------------------------------------------------------------------------\u001b[0m",
      "\u001b[1;31mStopIteration\u001b[0m                             Traceback (most recent call last)",
      "\u001b[1;32m~\\AppData\\Local\\Temp/ipykernel_2692/1143479021.py\u001b[0m in \u001b[0;36m<module>\u001b[1;34m\u001b[0m\n\u001b[0;32m      4\u001b[0m \u001b[0mprint\u001b[0m\u001b[1;33m(\u001b[0m\u001b[0mnext\u001b[0m\u001b[1;33m(\u001b[0m\u001b[0mmyit\u001b[0m\u001b[1;33m)\u001b[0m\u001b[1;33m)\u001b[0m\u001b[1;33m\u001b[0m\u001b[1;33m\u001b[0m\u001b[0m\n\u001b[0;32m      5\u001b[0m \u001b[0mprint\u001b[0m\u001b[1;33m(\u001b[0m\u001b[0mnext\u001b[0m\u001b[1;33m(\u001b[0m\u001b[0mmyit\u001b[0m\u001b[1;33m)\u001b[0m\u001b[1;33m)\u001b[0m\u001b[1;33m\u001b[0m\u001b[1;33m\u001b[0m\u001b[0m\n\u001b[1;32m----> 6\u001b[1;33m \u001b[0mprint\u001b[0m\u001b[1;33m(\u001b[0m\u001b[0mnext\u001b[0m\u001b[1;33m(\u001b[0m\u001b[0mmyit\u001b[0m\u001b[1;33m)\u001b[0m\u001b[1;33m)\u001b[0m\u001b[1;33m\u001b[0m\u001b[1;33m\u001b[0m\u001b[0m\n\u001b[0m",
      "\u001b[1;31mStopIteration\u001b[0m: "
     ]
    }
   ],
   "source": [
    "mytuple =  (\"apple\", \"banana\", \"cherry\")\n",
    "myit = iter(mytuple) # mytuple 를 포함하는 iteror 객체 생성 \n",
    "print(next(myit))\n",
    "print(next(myit))\n",
    "print(next(myit))\n",
    "print(next(myit))"
   ]
  },
  {
   "cell_type": "markdown",
   "metadata": {},
   "source": [
    "### Generator 함수  "
   ]
  },
  {
   "cell_type": "code",
   "execution_count": 40,
   "metadata": {},
   "outputs": [],
   "source": [
    "def odds():\n",
    "    \"\"\"Generate odd integers, starting with 1.\"\"\"\n",
    "    n = 1\n",
    "    while True:\n",
    "        yield n\n",
    "        n += 2"
   ]
  },
  {
   "cell_type": "code",
   "execution_count": 41,
   "metadata": {},
   "outputs": [
    {
     "name": "stdout",
     "output_type": "stream",
     "text": [
      "Help on function odds in module __main__:\n",
      "\n",
      "odds()\n",
      "    Generate odd integers, starting with 1.\n",
      "\n"
     ]
    }
   ],
   "source": [
    "help(odds)"
   ]
  },
  {
   "cell_type": "code",
   "execution_count": 20,
   "metadata": {},
   "outputs": [
    {
     "name": "stdout",
     "output_type": "stream",
     "text": [
      "<class 'generator'>\n"
     ]
    },
    {
     "data": {
      "text/plain": [
       "[1, 3, 5, 7, 9]"
      ]
     },
     "execution_count": 20,
     "metadata": {},
     "output_type": "execute_result"
    }
   ],
   "source": [
    "nodds = odds()\n",
    "print(type(nodds))\n",
    "list(next(nodds) for _ in range(5))"
   ]
  },
  {
   "cell_type": "markdown",
   "metadata": {},
   "source": [
    "#### 다음은 'iter()' 와 'next()' 라는 매직 메소드를 구현한 Iterator 객체이다.\n",
    "#### 파이썬에서 클래스 정의는 직접적이다. \n",
    "#### 클래스의 지원 메소드에는  'def  __func__ ()\" 로 정의되는 magic(special) method 와 \"def func() \"  정의되는 일반 메소드가 있다. "
   ]
  },
  {
   "cell_type": "code",
   "execution_count": 28,
   "metadata": {},
   "outputs": [
    {
     "name": "stdout",
     "output_type": "stream",
     "text": [
      "<class 'tuple'>\n",
      "<class '__main__.MySequence_iter'>\n",
      "apple\n",
      "banana\n",
      "cherry\n",
      "This is MySequence's iter() method\n",
      "apple\n",
      "banana\n",
      "cherry\n"
     ]
    }
   ],
   "source": [
    "class MySequence_iter:   \n",
    "    def __init__(self, sequence, start=0): #magic method\n",
    "        self.sequence=sequence \n",
    "        self.start = start\n",
    "    def __iter__(self): #magic method\n",
    "        print(\"This is MySequence's iter() method\")\n",
    "        return iter(self.sequence)\n",
    "\n",
    " #   def __next__(self): #magic method\n",
    " #       if self.start==len(self.sequence):\n",
    " #           return -1\n",
    " #       x = self.sequence[self.start]\n",
    " #       self.start += 1\n",
    " #       return x\n",
    "\n",
    "myseq=(\"apple\", \"banana\", \"cherry\")\n",
    "print(type(myseq))\n",
    "#myseq=[[1,2,3],[4,5,6],[7,8,9]]\n",
    "#myseq=\"Cat\"\n",
    "#import numpy as np\n",
    "#myseq=np.arange(3)\n",
    "myClass=MySequence_iter(myseq)\n",
    "print(type(myClass))\n",
    "for i in myseq:\n",
    "    print(i)\n",
    "    \n",
    "for i in myClass:\n",
    "    print(i)"
   ]
  },
  {
   "cell_type": "code",
   "execution_count": 30,
   "metadata": {},
   "outputs": [],
   "source": [
    "class MySequence_next:\n",
    "    def __init__(self, sequence, start=0): #magic method\n",
    "        self.sequence=sequence \n",
    "        self.start = start\n",
    " #   def __iter__(self): #magic method\n",
    " #       print(\"This is MySequence's iter() method\")\n",
    " #       return iter(self.sequence)\n",
    "\n",
    "    def __next__(self): #magic method\n",
    "        if self.start==len(self.sequence):\n",
    "            return -1\n",
    "        x = self.sequence[self.start]\n",
    "        self.start += 1\n",
    "        return x"
   ]
  },
  {
   "cell_type": "code",
   "execution_count": 31,
   "metadata": {},
   "outputs": [
    {
     "name": "stdout",
     "output_type": "stream",
     "text": [
      "apple\n",
      "banana\n",
      "cherry\n",
      "-1\n"
     ]
    }
   ],
   "source": [
    "myseq=(\"apple\", \"banana\", \"cherry\")\n",
    "#myseq=[[1,2,3],[4,5,6],[7,8,9]]\n",
    "#myseq=\"Cat\"\n",
    "#import numpy as np\n",
    "#myseq=np.arange(3)\n",
    "myClass=MySequence_next(myseq)\n",
    "print(next(myClass))\n",
    "print(next(myClass))\n",
    "print(next(myClass))\n",
    "print(next(myClass))"
   ]
  },
  {
   "cell_type": "code",
   "execution_count": 32,
   "metadata": {},
   "outputs": [],
   "source": [
    "class MySequence:  #iterator 객체 클래스 \n",
    "    def __init__(self, sequence, start=0): #magic method\n",
    "        self.sequence=sequence \n",
    "        self.start = start\n",
    "    def __iter__(self): #magic method\n",
    "        print(\"This is MySequence's iter() method\")\n",
    "        return iter(self.sequence)\n",
    "\n",
    "    def __next__(self): #magic method\n",
    "        if self.start==len(self.sequence):\n",
    "            return -1\n",
    "        x = self.sequence[self.start]\n",
    "        self.start += 1\n",
    "        return x"
   ]
  },
  {
   "cell_type": "code",
   "execution_count": 33,
   "metadata": {},
   "outputs": [
    {
     "name": "stdout",
     "output_type": "stream",
     "text": [
      "This is MySequence's iter() method\n",
      "apple\n",
      "banana\n",
      "cherry\n",
      "apple\n",
      "banana\n",
      "cherry\n",
      "-1\n"
     ]
    }
   ],
   "source": [
    "myseq=(\"apple\", \"banana\", \"cherry\")\n",
    "#myseq=[[1,2,3],[4,5,6],[7,8,9]]\n",
    "#myseq=\"Cat\"\n",
    "#import numpy as np\n",
    "#myseq=np.arange(3)\n",
    "myClass=MySequence(myseq)\n",
    "for i in myClass:\n",
    "    print(i)\n",
    "    \n",
    "print(next(myClass))\n",
    "print(next(myClass))\n",
    "print(next(myClass))\n",
    "print(next(myClass))    "
   ]
  },
  {
   "cell_type": "markdown",
   "metadata": {},
   "source": [
    "### enumerate 객체 \n",
    "#### 파이썬 내장함수 'enumerate() ' 는   'iterable' 객체를 입력으로 받아 인덱스 값을 포함하는 enumerate 객체를 리턴한다."
   ]
  },
  {
   "cell_type": "code",
   "execution_count": 34,
   "metadata": {},
   "outputs": [
    {
     "name": "stdout",
     "output_type": "stream",
     "text": [
      "<class 'enumerate'>\n",
      "(0, 'apple')\n",
      "(1, 'banana')\n",
      "(2, 'cherry')\n"
     ]
    },
    {
     "ename": "StopIteration",
     "evalue": "",
     "output_type": "error",
     "traceback": [
      "\u001b[1;31m---------------------------------------------------------------------------\u001b[0m",
      "\u001b[1;31mStopIteration\u001b[0m                             Traceback (most recent call last)",
      "\u001b[1;32m~\\AppData\\Local\\Temp/ipykernel_2692/1640972603.py\u001b[0m in \u001b[0;36m<module>\u001b[1;34m\u001b[0m\n\u001b[0;32m      5\u001b[0m \u001b[0mprint\u001b[0m\u001b[1;33m(\u001b[0m\u001b[0mnext\u001b[0m\u001b[1;33m(\u001b[0m\u001b[0mmyEnu\u001b[0m\u001b[1;33m)\u001b[0m\u001b[1;33m)\u001b[0m\u001b[1;33m\u001b[0m\u001b[1;33m\u001b[0m\u001b[0m\n\u001b[0;32m      6\u001b[0m \u001b[0mprint\u001b[0m\u001b[1;33m(\u001b[0m\u001b[0mnext\u001b[0m\u001b[1;33m(\u001b[0m\u001b[0mmyEnu\u001b[0m\u001b[1;33m)\u001b[0m\u001b[1;33m)\u001b[0m\u001b[1;33m\u001b[0m\u001b[1;33m\u001b[0m\u001b[0m\n\u001b[1;32m----> 7\u001b[1;33m \u001b[0mprint\u001b[0m\u001b[1;33m(\u001b[0m\u001b[0mnext\u001b[0m\u001b[1;33m(\u001b[0m\u001b[0mmyEnu\u001b[0m\u001b[1;33m)\u001b[0m\u001b[1;33m)\u001b[0m\u001b[1;33m\u001b[0m\u001b[1;33m\u001b[0m\u001b[0m\n\u001b[0m",
      "\u001b[1;31mStopIteration\u001b[0m: "
     ]
    }
   ],
   "source": [
    "mySeq = (\"apple\", \"banana\", \"cherry\")\n",
    "myEnu = enumerate(mySeq) # mytuple 를 포함하는 enumerate 객체 생성 typing #error\n",
    "print(type(myEnu))\n",
    "print(next(myEnu))\n",
    "print(next(myEnu))\n",
    "print(next(myEnu))\n",
    "print(next(myEnu))"
   ]
  },
  {
   "cell_type": "code",
   "execution_count": 35,
   "metadata": {},
   "outputs": [
    {
     "name": "stdout",
     "output_type": "stream",
     "text": [
      "0 apple\n",
      "1 banana\n",
      "2 cherry\n"
     ]
    }
   ],
   "source": [
    "mySeq = (\"apple\", \"banana\", \"cherry\")\n",
    "for i, w in enumerate(mySeq): \n",
    "  print(i, w)\n",
    "\n"
   ]
  },
  {
   "cell_type": "code",
   "execution_count": 36,
   "metadata": {},
   "outputs": [
    {
     "name": "stdout",
     "output_type": "stream",
     "text": [
      "[(0, 'apple'), (1, 'banana'), (2, 'cherry')]\n"
     ]
    }
   ],
   "source": [
    "mySeq = (\"apple\", \"banana\", \"cherry\")\n",
    "myEnu=enumerate(mySeq)\n",
    "print(list(myEnu))"
   ]
  },
  {
   "cell_type": "markdown",
   "metadata": {},
   "source": [
    "### 파이썬 내장 함수, 'enumerate()' 는 대략 다음 함수와 비슷하다. "
   ]
  },
  {
   "cell_type": "code",
   "execution_count": 37,
   "metadata": {},
   "outputs": [],
   "source": [
    "def enumerate2(sequence, start=0):\n",
    "    n = start\n",
    "    for elem in sequence:\n",
    "        yield n, elem\n",
    "        n += 1"
   ]
  },
  {
   "cell_type": "code",
   "execution_count": 38,
   "metadata": {},
   "outputs": [
    {
     "name": "stdout",
     "output_type": "stream",
     "text": [
      "<class 'generator'>\n",
      "(0, 'apple')\n",
      "(1, 'banana')\n",
      "(2, 'cherry')\n"
     ]
    },
    {
     "ename": "StopIteration",
     "evalue": "",
     "output_type": "error",
     "traceback": [
      "\u001b[1;31m---------------------------------------------------------------------------\u001b[0m",
      "\u001b[1;31mStopIteration\u001b[0m                             Traceback (most recent call last)",
      "\u001b[1;32m~\\AppData\\Local\\Temp/ipykernel_2692/2762225172.py\u001b[0m in \u001b[0;36m<module>\u001b[1;34m\u001b[0m\n\u001b[0;32m      5\u001b[0m \u001b[0mprint\u001b[0m\u001b[1;33m(\u001b[0m\u001b[0mnext\u001b[0m\u001b[1;33m(\u001b[0m\u001b[0mmyEnu\u001b[0m\u001b[1;33m)\u001b[0m\u001b[1;33m)\u001b[0m\u001b[1;33m\u001b[0m\u001b[1;33m\u001b[0m\u001b[0m\n\u001b[0;32m      6\u001b[0m \u001b[0mprint\u001b[0m\u001b[1;33m(\u001b[0m\u001b[0mnext\u001b[0m\u001b[1;33m(\u001b[0m\u001b[0mmyEnu\u001b[0m\u001b[1;33m)\u001b[0m\u001b[1;33m)\u001b[0m\u001b[1;33m\u001b[0m\u001b[1;33m\u001b[0m\u001b[0m\n\u001b[1;32m----> 7\u001b[1;33m \u001b[0mprint\u001b[0m\u001b[1;33m(\u001b[0m\u001b[0mnext\u001b[0m\u001b[1;33m(\u001b[0m\u001b[0mmyEnu\u001b[0m\u001b[1;33m)\u001b[0m\u001b[1;33m)\u001b[0m\u001b[1;33m\u001b[0m\u001b[1;33m\u001b[0m\u001b[0m\n\u001b[0m",
      "\u001b[1;31mStopIteration\u001b[0m: "
     ]
    }
   ],
   "source": [
    "mySeq = (\"apple\", \"banana\", \"cherry\")\n",
    "myEnu=enumerate2(mySeq)\n",
    "print(type(myEnu))\n",
    "print(next(myEnu))\n",
    "print(next(myEnu))\n",
    "print(next(myEnu))\n",
    "print(next(myEnu))"
   ]
  },
  {
   "cell_type": "markdown",
   "metadata": {},
   "source": [
    "### Itertools 은 'iterable' 객체를 처리하여 looping (순회)를 통한 문제 처리를 편하게 지원하는 함수들을 지원하며, Counting 과 관련하여서는 Combinatorics' 관련 함수들이 제공된다."
   ]
  },
  {
   "cell_type": "markdown",
   "metadata": {},
   "source": [
    "#### itertools 모듈의 'count(start=0, step=1)' 함수는 infinite iterator 를 생성한다. "
   ]
  },
  {
   "cell_type": "code",
   "execution_count": 39,
   "metadata": {},
   "outputs": [
    {
     "data": {
      "text/plain": [
       "[1, 3, 5, 7, 9, 11, 13, 15]"
      ]
     },
     "execution_count": 39,
     "metadata": {},
     "output_type": "execute_result"
    }
   ],
   "source": [
    "import itertools as it\n",
    "odds = it.count(start=1, step=2)\n",
    "list(next(odds) for _ in range(10, 25, 2))"
   ]
  },
  {
   "cell_type": "markdown",
   "metadata": {},
   "source": [
    "#### itertools 모듈은 Combinatoric iterators 관련하여  다음 함수들을 제공한다. \n",
    "##### &nbsp; permutations(iterable, r=None), combinations(iterable, r), combinations_with_replacement(iterable, r)"
   ]
  },
  {
   "cell_type": "markdown",
   "metadata": {},
   "source": [
    "#### itertools 모듈의 permutations(iterable, r=None) 은 다음과 같이 사용된다. "
   ]
  },
  {
   "cell_type": "code",
   "execution_count": 42,
   "metadata": {},
   "outputs": [
    {
     "name": "stdout",
     "output_type": "stream",
     "text": [
      "<class 'itertools.permutations'>\n"
     ]
    },
    {
     "data": {
      "text/plain": [
       "[(['A', 'B', 'C'], ['D']),\n",
       " (['A', 'B', 'C'], ['E']),\n",
       " (['D'], ['A', 'B', 'C']),\n",
       " (['D'], ['E']),\n",
       " (['E'], ['A', 'B', 'C']),\n",
       " (['E'], ['D'])]"
      ]
     },
     "execution_count": 42,
     "metadata": {},
     "output_type": "execute_result"
    }
   ],
   "source": [
    "import itertools as it\n",
    "a=tuple([['A', 'B' , 'C'], ['D'], ['E']])\n",
    "print(type(it.permutations(a, r=2)))\n",
    "list(it.permutations(a, r=2))"
   ]
  },
  {
   "cell_type": "code",
   "execution_count": 43,
   "metadata": {},
   "outputs": [
    {
     "data": {
      "text/plain": [
       "[(['A', 'B', 'C'], ['D'], ['E']),\n",
       " (['A', 'B', 'C'], ['E'], ['D']),\n",
       " (['D'], ['A', 'B', 'C'], ['E']),\n",
       " (['D'], ['E'], ['A', 'B', 'C']),\n",
       " (['E'], ['A', 'B', 'C'], ['D']),\n",
       " (['E'], ['D'], ['A', 'B', 'C'])]"
      ]
     },
     "execution_count": 43,
     "metadata": {},
     "output_type": "execute_result"
    }
   ],
   "source": [
    "list(it.permutations(a))"
   ]
  },
  {
   "cell_type": "markdown",
   "metadata": {},
   "source": [
    "#### itertools 모듈의 permutations(iterable, r=None) 은 대략 다음 함수와 유사하다. "
   ]
  },
  {
   "cell_type": "code",
   "execution_count": 46,
   "metadata": {},
   "outputs": [],
   "source": [
    "def permutations2(iterable, r=None):\n",
    "    # permutations('ABCD', 2) --> AB AC AD BA BC BD CA CB CD DA DB DC\n",
    "    # permutations(range(3)) --> 012 021 102 120 201 210\n",
    "    pool = tuple(iterable)\n",
    "    n = len(pool)\n",
    "    r = n if r is None else r\n",
    "    if r > n:\n",
    "        return print(\"Please take n >= r\")\n",
    "    indices = list(range(n))\n",
    "    cycles = list(range(n, n-r, -1))\n",
    "    # print(\"cycles\", cycles)\n",
    "    yield tuple(pool[i] for i in indices[:r])\n",
    "    while True:\n",
    "        for i in reversed(range(r)):\n",
    "            cycles[i] -= 1\n",
    "           # print(\"cycles[%d] : %d \" %(i, cycles[i]))\n",
    "            if cycles[i] == 0:\n",
    "                indices[i:] = indices[i+1:] + indices[i:i+1]\n",
    "                cycles[i] = n - i\n",
    "            else:\n",
    "                j = cycles[i]\n",
    "                indices[i], indices[-j] = indices[-j], indices[i]\n",
    "          #      print(\"indices[%d] : \" %(i), indices[i],\"indices[%d]:\" %(-j),  indices[-j])\n",
    "          #      print(\"2nd tuple\", tuple(indices[:r]))\n",
    "          #      print(\"2nd tuple\", tuple(pool[i] for i in indices[:r]))\n",
    "                yield tuple(pool[i] for i in indices[:r])\n",
    "                break\n",
    "        else:\n",
    "            print(\"return\")\n",
    "            return"
   ]
  },
  {
   "cell_type": "code",
   "execution_count": 47,
   "metadata": {},
   "outputs": [
    {
     "name": "stdout",
     "output_type": "stream",
     "text": [
      "return\n",
      "[('A', 'B', 'C'), ('A', 'B', 'D'), ('A', 'C', 'B'), ('A', 'C', 'D'), ('A', 'D', 'B'), ('A', 'D', 'C'), ('B', 'A', 'C'), ('B', 'A', 'D'), ('B', 'C', 'A'), ('B', 'C', 'D'), ('B', 'D', 'A'), ('B', 'D', 'C'), ('C', 'A', 'B'), ('C', 'A', 'D'), ('C', 'B', 'A'), ('C', 'B', 'D'), ('C', 'D', 'A'), ('C', 'D', 'B'), ('D', 'A', 'B'), ('D', 'A', 'C'), ('D', 'B', 'A'), ('D', 'B', 'C'), ('D', 'C', 'A'), ('D', 'C', 'B')]\n",
      "24\n"
     ]
    }
   ],
   "source": [
    "a='ABCD'\n",
    "b=list(permutations2(a, r=3))\n",
    "print(b)\n",
    "print(len(b))"
   ]
  },
  {
   "cell_type": "markdown",
   "metadata": {},
   "source": [
    "#### itertools 모듈의 combinations(iterable, r) 은 다음과 같이 사용된다. "
   ]
  },
  {
   "cell_type": "code",
   "execution_count": 48,
   "metadata": {},
   "outputs": [
    {
     "name": "stdout",
     "output_type": "stream",
     "text": [
      "<class 'itertools.combinations'>\n"
     ]
    },
    {
     "data": {
      "text/plain": [
       "[(['A', 'B', 'C'], ['D']), (['A', 'B', 'C'], ['E']), (['D'], ['E'])]"
      ]
     },
     "execution_count": 48,
     "metadata": {},
     "output_type": "execute_result"
    }
   ],
   "source": [
    "import itertools as it\n",
    "a=tuple([['A', 'B' , 'C'], ['D'], ['E']])\n",
    "print(type(it.combinations(a, r=2)))\n",
    "list(it.combinations(a, r=2))"
   ]
  },
  {
   "cell_type": "markdown",
   "metadata": {},
   "source": [
    "#### itertools 모듈의 combinations(iterable, r) 은 대략 다음 함수와 유사하다. "
   ]
  },
  {
   "cell_type": "code",
   "execution_count": 49,
   "metadata": {},
   "outputs": [],
   "source": [
    "def combinations2(iterable, r):\n",
    "    # combinations('ABCD', 2) --> AB AC AD BC BD CD\n",
    "    # combinations(range(4), 3) --> 012 013 023 123\n",
    "    pool = tuple(iterable)\n",
    "    n = len(pool)\n",
    "    if r > n:\n",
    "        return\n",
    "    indices = list(range(r))\n",
    "    yield tuple(pool[i] for i in indices)\n",
    "    while True:\n",
    "        for i in reversed(range(r)):\n",
    "            if indices[i] != i + n - r:\n",
    "                break\n",
    "        else:\n",
    "            return\n",
    "        indices[i] += 1\n",
    "        for j in range(i+1, r):\n",
    "            indices[j] = indices[j-1] + 1\n",
    "        yield tuple(pool[i] for i in indices)"
   ]
  },
  {
   "cell_type": "code",
   "execution_count": 50,
   "metadata": {},
   "outputs": [
    {
     "name": "stdout",
     "output_type": "stream",
     "text": [
      "[(['A', 'B', 'C'], ['D']), (['A', 'B', 'C'], ['E']), (['D'], ['E'])]\n",
      "[(['A', 'B', 'C'], ['D']), (['A', 'B', 'C'], ['E']), (['D'], ['E'])]\n"
     ]
    }
   ],
   "source": [
    "a=tuple([['A', 'B' , 'C'], ['D'], ['E']])\n",
    "print(list(combinations2(a, r=2)))\n",
    "print(list(it.combinations(a, r=2)))"
   ]
  },
  {
   "cell_type": "markdown",
   "metadata": {},
   "source": [
    "#### itertools 모듈의 combinations_with_replacements(iterable, r) 은 다음과 같이 사용된다. "
   ]
  },
  {
   "cell_type": "code",
   "execution_count": 51,
   "metadata": {},
   "outputs": [
    {
     "data": {
      "text/plain": [
       "[('A', 'A'),\n",
       " ('A', 'B'),\n",
       " ('A', 'C'),\n",
       " ('A', 'D'),\n",
       " ('B', 'B'),\n",
       " ('B', 'C'),\n",
       " ('B', 'D'),\n",
       " ('C', 'C'),\n",
       " ('C', 'D'),\n",
       " ('D', 'D')]"
      ]
     },
     "execution_count": 51,
     "metadata": {},
     "output_type": "execute_result"
    }
   ],
   "source": [
    "import itertools as it\n",
    "a='ABCD'\n",
    "list(it.combinations_with_replacement(a, r=2))"
   ]
  },
  {
   "cell_type": "code",
   "execution_count": 52,
   "metadata": {},
   "outputs": [
    {
     "data": {
      "text/plain": [
       "[('A', 'B'), ('A', 'C'), ('A', 'D'), ('B', 'C'), ('B', 'D'), ('C', 'D')]"
      ]
     },
     "execution_count": 52,
     "metadata": {},
     "output_type": "execute_result"
    }
   ],
   "source": [
    "list(it.combinations(a, r=2))"
   ]
  },
  {
   "cell_type": "markdown",
   "metadata": {},
   "source": [
    "#### itertools 모듈의 combinations_with_replacement(iterable, r) 은 대략 다음 함수와 유사하다. "
   ]
  },
  {
   "cell_type": "code",
   "execution_count": 53,
   "metadata": {},
   "outputs": [],
   "source": [
    "def combinations_with_replacement2(iterable, r):\n",
    "    # combinations_with_replacement('ABC', 2) --> AA AB AC BB BC CC\n",
    "    pool = tuple(iterable)\n",
    "    n = len(pool)\n",
    "    if not n and r:\n",
    "        return\n",
    "    indices = [0] * r\n",
    "    yield tuple(pool[i] for i in indices)\n",
    "    while True:\n",
    "        for i in reversed(range(r)):\n",
    "            if indices[i] != n - 1:\n",
    "                break\n",
    "        else:\n",
    "            return\n",
    "        indices[i:] = [indices[i] + 1] * (r - i)\n",
    "        yield tuple(pool[i] for i in indices)"
   ]
  },
  {
   "cell_type": "code",
   "execution_count": 54,
   "metadata": {},
   "outputs": [
    {
     "data": {
      "text/plain": [
       "[('A', 'A'),\n",
       " ('A', 'B'),\n",
       " ('A', 'C'),\n",
       " ('A', 'D'),\n",
       " ('B', 'B'),\n",
       " ('B', 'C'),\n",
       " ('B', 'D'),\n",
       " ('C', 'C'),\n",
       " ('C', 'D'),\n",
       " ('D', 'D')]"
      ]
     },
     "execution_count": 54,
     "metadata": {},
     "output_type": "execute_result"
    }
   ],
   "source": [
    "a='ABCD'\n",
    "list(combinations_with_replacement2(a, r=2))"
   ]
  },
  {
   "cell_type": "code",
   "execution_count": 55,
   "metadata": {},
   "outputs": [],
   "source": [
    "def combinations_with_replacement3(iterable, r):\n",
    "    # combinations_with_replacement('ABC', 2) --> AA AB AC BB BC CC\n",
    "    pool = tuple(iterable)\n",
    "    n = len(pool)\n",
    "    if not n and r:\n",
    "        return\n",
    "    indices = [0] * r\n",
    "    yield tuple(pool[i] for i in indices)\n",
    "    while True:\n",
    "        for i in reversed(range(r)):\n",
    "            if indices[i] != n - 1:\n",
    "                break\n",
    "        else:\n",
    "            return\n",
    "        indices[i:] = [indices[i] + 1] * (r - i)      \n",
    "        yield tuple(pool[i] for i in indices)"
   ]
  },
  {
   "cell_type": "code",
   "execution_count": 50,
   "metadata": {},
   "outputs": [
    {
     "data": {
      "text/plain": [
       "[('A', 'A', 'A'),\n",
       " ('A', 'A', 'B'),\n",
       " ('A', 'A', 'C'),\n",
       " ('A', 'A', 'D'),\n",
       " ('A', 'B', 'B'),\n",
       " ('A', 'B', 'C'),\n",
       " ('A', 'B', 'D'),\n",
       " ('A', 'C', 'C'),\n",
       " ('A', 'C', 'D'),\n",
       " ('A', 'D', 'D'),\n",
       " ('B', 'B', 'B'),\n",
       " ('B', 'B', 'C'),\n",
       " ('B', 'B', 'D'),\n",
       " ('B', 'C', 'C'),\n",
       " ('B', 'C', 'D'),\n",
       " ('B', 'D', 'D'),\n",
       " ('C', 'C', 'C'),\n",
       " ('C', 'C', 'D'),\n",
       " ('C', 'D', 'D'),\n",
       " ('D', 'D', 'D')]"
      ]
     },
     "execution_count": 50,
     "metadata": {},
     "output_type": "execute_result"
    }
   ],
   "source": [
    "pool='ABCD'\n",
    "r=3\n",
    "list(combinations_with_replacement3(pool, r))"
   ]
  },
  {
   "cell_type": "markdown",
   "metadata": {},
   "source": [
    "### 실습"
   ]
  },
  {
   "cell_type": "markdown",
   "metadata": {},
   "source": [
    "### 실습 6.1(a).   영어 알파베트 집합 (예; { 'a', 'b', 'c', 'd', 'e' }) 에서 중복을 허용하고,  순서에 상관있이   r개를 뽑아 만든 문자 튜플들을 사전식 순서 (lexicographic order) 로 정렬된 문자 리스트와 이 경우에 총 경우수를 같이 구하는  파이썬 함수를 코딩하고, 직접   집합 { 'a', 'b', 'c', 'd', 'e' } 에 대해 구한 결과를 출력해보시오."
   ]
  },
  {
   "cell_type": "code",
   "execution_count": 1,
   "metadata": {},
   "outputs": [],
   "source": [
    "import itertools as it\n",
    "def stringfy(A, r=0):\n",
    "    s=''.join(x for x in sorted(list(A)))\n",
    "    B=sorted(list(it.product(A, repeat=r)))\n",
    "    return B, len(B)"
   ]
  },
  {
   "cell_type": "code",
   "execution_count": 3,
   "metadata": {},
   "outputs": [
    {
     "name": "stdout",
     "output_type": "stream",
     "text": [
      "집합  A={'d', 'c', 'a', 'e', 'b'} 에서 원소 r=3 개를 순서를 고려하여 뽑아 사전식으로 늘어 놓는 모든 경우의 사전식 리스트 \n",
      "=[('a', 'a', 'a'), ('a', 'a', 'b'), ('a', 'a', 'c'), ('a', 'a', 'd'), ('a', 'a', 'e'), ('a', 'b', 'a'), ('a', 'b', 'b'), ('a', 'b', 'c'), ('a', 'b', 'd'), ('a', 'b', 'e'), ('a', 'c', 'a'), ('a', 'c', 'b'), ('a', 'c', 'c'), ('a', 'c', 'd'), ('a', 'c', 'e'), ('a', 'd', 'a'), ('a', 'd', 'b'), ('a', 'd', 'c'), ('a', 'd', 'd'), ('a', 'd', 'e'), ('a', 'e', 'a'), ('a', 'e', 'b'), ('a', 'e', 'c'), ('a', 'e', 'd'), ('a', 'e', 'e'), ('b', 'a', 'a'), ('b', 'a', 'b'), ('b', 'a', 'c'), ('b', 'a', 'd'), ('b', 'a', 'e'), ('b', 'b', 'a'), ('b', 'b', 'b'), ('b', 'b', 'c'), ('b', 'b', 'd'), ('b', 'b', 'e'), ('b', 'c', 'a'), ('b', 'c', 'b'), ('b', 'c', 'c'), ('b', 'c', 'd'), ('b', 'c', 'e'), ('b', 'd', 'a'), ('b', 'd', 'b'), ('b', 'd', 'c'), ('b', 'd', 'd'), ('b', 'd', 'e'), ('b', 'e', 'a'), ('b', 'e', 'b'), ('b', 'e', 'c'), ('b', 'e', 'd'), ('b', 'e', 'e'), ('c', 'a', 'a'), ('c', 'a', 'b'), ('c', 'a', 'c'), ('c', 'a', 'd'), ('c', 'a', 'e'), ('c', 'b', 'a'), ('c', 'b', 'b'), ('c', 'b', 'c'), ('c', 'b', 'd'), ('c', 'b', 'e'), ('c', 'c', 'a'), ('c', 'c', 'b'), ('c', 'c', 'c'), ('c', 'c', 'd'), ('c', 'c', 'e'), ('c', 'd', 'a'), ('c', 'd', 'b'), ('c', 'd', 'c'), ('c', 'd', 'd'), ('c', 'd', 'e'), ('c', 'e', 'a'), ('c', 'e', 'b'), ('c', 'e', 'c'), ('c', 'e', 'd'), ('c', 'e', 'e'), ('d', 'a', 'a'), ('d', 'a', 'b'), ('d', 'a', 'c'), ('d', 'a', 'd'), ('d', 'a', 'e'), ('d', 'b', 'a'), ('d', 'b', 'b'), ('d', 'b', 'c'), ('d', 'b', 'd'), ('d', 'b', 'e'), ('d', 'c', 'a'), ('d', 'c', 'b'), ('d', 'c', 'c'), ('d', 'c', 'd'), ('d', 'c', 'e'), ('d', 'd', 'a'), ('d', 'd', 'b'), ('d', 'd', 'c'), ('d', 'd', 'd'), ('d', 'd', 'e'), ('d', 'e', 'a'), ('d', 'e', 'b'), ('d', 'e', 'c'), ('d', 'e', 'd'), ('d', 'e', 'e'), ('e', 'a', 'a'), ('e', 'a', 'b'), ('e', 'a', 'c'), ('e', 'a', 'd'), ('e', 'a', 'e'), ('e', 'b', 'a'), ('e', 'b', 'b'), ('e', 'b', 'c'), ('e', 'b', 'd'), ('e', 'b', 'e'), ('e', 'c', 'a'), ('e', 'c', 'b'), ('e', 'c', 'c'), ('e', 'c', 'd'), ('e', 'c', 'e'), ('e', 'd', 'a'), ('e', 'd', 'b'), ('e', 'd', 'c'), ('e', 'd', 'd'), ('e', 'd', 'e'), ('e', 'e', 'a'), ('e', 'e', 'b'), ('e', 'e', 'c'), ('e', 'e', 'd'), ('e', 'e', 'e')] \n",
      "집합  A={'d', 'c', 'a', 'e', 'b'} 에서 원소 r=3 개를 순서를 고려하여 뽑아 사전식으로 늘어 놓는 모든 경우의 수=125\n"
     ]
    }
   ],
   "source": [
    "A={ 'a', 'b', 'c', 'd', 'e' }\n",
    "r=3\n",
    "B, n=stringfy(A, r)\n",
    "print(\"집합  A={} 에서 원소 r={} 개를 순서를 고려하여 뽑아 사전식으로 늘어 놓는 모든 경우의 사전식 리스트 \\n={} \\n \".format(A, r, B))\n",
    "print(\"집합  A={} 에서 원소 r={} 개를 순서를 고려하여 뽑아 사전식으로 늘어 놓는 모든 경우의 수={}\".format(A, r, n))  "
   ]
  },
  {
   "cell_type": "markdown",
   "metadata": {},
   "source": [
    "### 실습 6.1(b).   영어 알파베트 집합 (예; { 'a', 'b', 'c', 'd', 'e' }) 에서 중복을 허용하고, 뽑는  순서에 상관없이   r개를 뽑아 만든 문자 튜플들을 사전식 순서 (lexicographic order) 로 정렬된 문자 리스트와 이 경우에 총 경우수를 같이 구하는  파이썬 함수를 코딩하고, 직접   집합 { 'a', 'b', 'c', 'd', 'e' } 에 대해 구한 결과를 출력해보시오.\n",
    "(예; 집합 A={'c', 'e', 'd', 'a', 'b'} 에서 원소 r=3 개를 뽑아 사전식으로 늘어 놓는 모든 경우의 사전식 리스트 =[('a', 'a', 'a'), ('a', 'a', 'b'), ('a', 'b', 'b'), ('b', 'b', 'b'), ('c', 'a', 'a'), ('c', 'a', 'b'), ('c', 'b', 'b'), ('c', 'c', 'a'), ('c', 'c', 'b'), ('c', 'c', 'c'), ('c', 'c', 'd'), ('c', 'c', 'e'), ('c', 'd', 'a'), ('c', 'd', 'b'), ('c', 'd', 'd'), ('c', 'e', 'a'), ('c', 'e', 'b'), ('c', 'e', 'd'), ('c', 'e', 'e'), ('d', 'a', 'a'), ('d', 'a', 'b'), ('d', 'b', 'b'), ('d', 'd', 'a'), ('d', 'd', 'b'), ('d', 'd', 'd'), ('e', 'a', 'a'), ('e', 'a', 'b'), ('e', 'b', 'b'), ('e', 'd', 'a'), ('e', 'd', 'b'), ('e', 'd', 'd'), ('e', 'e', 'a'), ('e', 'e', 'b'), ('e', 'e', 'd'), ('e', 'e', 'e')]\n",
    "\n",
    "집합 A={'c', 'e', 'd', 'a', 'b'} 에서 원소 r=3 개를 뽑아 사전식으로 늘어 놓는 모든 경우의 수=35 )"
   ]
  },
  {
   "cell_type": "code",
   "execution_count": 8,
   "metadata": {},
   "outputs": [],
   "source": [
    "import itertools as it\n",
    "def stringfy(A, r=0):\n",
    "    s=''.join(x for x in sorted(list(A)))\n",
    "    B=sorted(list(it.combinations_with_replacement(A, r)))\n",
    "    return B, len(B)"
   ]
  },
  {
   "cell_type": "code",
   "execution_count": 10,
   "metadata": {},
   "outputs": [
    {
     "name": "stdout",
     "output_type": "stream",
     "text": [
      "집합  A={'d', 'c', 'a', 'e', 'b'} 에서 원소 r=3 개를 순서를 고려하지 않고 뽑아 사전식으로 늘어 놓는 모든 경우의 사전식 리스트 \n",
      "=[('a', 'a', 'a'), ('a', 'a', 'b'), ('a', 'a', 'e'), ('a', 'b', 'b'), ('a', 'e', 'b'), ('a', 'e', 'e'), ('b', 'b', 'b'), ('c', 'a', 'a'), ('c', 'a', 'b'), ('c', 'a', 'e'), ('c', 'b', 'b'), ('c', 'c', 'a'), ('c', 'c', 'b'), ('c', 'c', 'c'), ('c', 'c', 'e'), ('c', 'e', 'b'), ('c', 'e', 'e'), ('d', 'a', 'a'), ('d', 'a', 'b'), ('d', 'a', 'e'), ('d', 'b', 'b'), ('d', 'c', 'a'), ('d', 'c', 'b'), ('d', 'c', 'c'), ('d', 'c', 'e'), ('d', 'd', 'a'), ('d', 'd', 'b'), ('d', 'd', 'c'), ('d', 'd', 'd'), ('d', 'd', 'e'), ('d', 'e', 'b'), ('d', 'e', 'e'), ('e', 'b', 'b'), ('e', 'e', 'b'), ('e', 'e', 'e')] \n",
      " \n",
      "집합  A={'d', 'c', 'a', 'e', 'b'} 에서 원소 r=3 개를 순서를 고려하지 않고 뽑아 사전식으로 늘어 놓는 모든 경우의 수=35\n"
     ]
    }
   ],
   "source": [
    "A={ 'a', 'b', 'c', 'd', 'e' }\n",
    "r=3\n",
    "B, n=stringfy(A, r)\n",
    "print(\"집합  A={} 에서 원소 r={} 개를 순서를 고려하지 않고 뽑아 사전식으로 늘어 놓는 모든 경우의 사전식 리스트 \\n={} \\n \".format(A, r, B))\n",
    "print(\"집합  A={} 에서 원소 r={} 개를 순서를 고려하지 않고 뽑아 사전식으로 늘어 놓는 모든 경우의 수={}\".format(A, r, n))  "
   ]
  },
  {
   "cell_type": "markdown",
   "metadata": {},
   "source": [
    "### 실습 6.2  다음은 pigeonhole 정리를 이용한 파이썬 sorting (분류) 알고리즘이다. 코드 동작을 설명하여 보시오 "
   ]
  },
  {
   "cell_type": "code",
   "execution_count": 60,
   "metadata": {},
   "outputs": [],
   "source": [
    "def pigeonsort(values):\n",
    "    \"\"\"pigeionsort 는 비둘기 구멍 원리를 이용하는 정렬 알고리즘이다. \"\"\"\n",
    "    # size of range of values in the list (ie, number of pigeonholes we need)\n",
    "    _min = min(values)\n",
    "    _max = max(values)\n",
    "    _range = _max - _min + 1\n",
    "    \n",
    "    # pigeonholes\n",
    "    '''holes = [0 for i in range(_range)]'''\n",
    "    holes = [0] * _range\n",
    "\n",
    "    # populate the holes\n",
    "    for x in values:\n",
    "        holes[x - _min] += 1\n",
    "\n",
    "    # new sorted list, putting elements back to save space\n",
    "    i = 0\n",
    "    for count in range(_range):\n",
    "        while holes[count] > 0:\n",
    "        #copy all elements from each hole\n",
    "            holes[count] -= 1\n",
    "            values[i] = count + _min\n",
    "            i += 1\n",
    "    return values"
   ]
  },
  {
   "cell_type": "code",
   "execution_count": 57,
   "metadata": {},
   "outputs": [
    {
     "name": "stdout",
     "output_type": "stream",
     "text": [
      "pigeionsort 는 비둘기 구멍 원리를 이용하는 정렬 알고리즘이다. \n"
     ]
    }
   ],
   "source": [
    "print(pigeonsort.__doc__)"
   ]
  },
  {
   "cell_type": "code",
   "execution_count": 58,
   "metadata": {},
   "outputs": [
    {
     "name": "stdout",
     "output_type": "stream",
     "text": [
      "Help on function pigeonsort in module __main__:\n",
      "\n",
      "pigeonsort(values)\n",
      "    pigeionsort 는 비둘기 구멍 원리를 이용하는 정렬 알고리즘이다.\n",
      "\n"
     ]
    }
   ],
   "source": [
    "help(pigeonsort)"
   ]
  },
  {
   "cell_type": "code",
   "execution_count": 59,
   "metadata": {},
   "outputs": [
    {
     "data": {
      "text/plain": [
       "[2, 3, 4, 6, 7, 10]"
      ]
     },
     "execution_count": 59,
     "metadata": {},
     "output_type": "execute_result"
    }
   ],
   "source": [
    "a=[7,3,4,2,6,10]\n",
    "pigeonsort(a)"
   ]
  },
  {
   "cell_type": "code",
   "execution_count": null,
   "metadata": {},
   "outputs": [],
   "source": [
    "### 실습 6.3  다음은 pigeonhole 정리를 이용한 파이썬 sorting (분류) 알고리즘이다. 코드 동작을 설명하여 보시오 "
   ]
  },
  {
   "cell_type": "code",
   "execution_count": 113,
   "metadata": {},
   "outputs": [
    {
     "name": "stdout",
     "output_type": "stream",
     "text": [
      "2 number of times\n"
     ]
    }
   ],
   "source": [
    "myText = \"I love Paris, Paris is my favorite tourist destination\"\n",
    "\n",
    "# this line for calling the count method\n",
    "\n",
    "numofCounts = myText.count(\"Paris\")\n",
    "\n",
    "# this line for print output\n",
    "\n",
    "print(\"{} number of times\".format(numofCounts)) # format is the inbuilt "
   ]
  },
  {
   "cell_type": "code",
   "execution_count": null,
   "metadata": {},
   "outputs": [],
   "source": []
  }
 ],
 "metadata": {
  "kernelspec": {
   "display_name": "Python 3 (ipykernel)",
   "language": "python",
   "name": "python3"
  },
  "language_info": {
   "codemirror_mode": {
    "name": "ipython",
    "version": 3
   },
   "file_extension": ".py",
   "mimetype": "text/x-python",
   "name": "python",
   "nbconvert_exporter": "python",
   "pygments_lexer": "ipython3",
   "version": "3.9.12"
  }
 },
 "nbformat": 4,
 "nbformat_minor": 4
}
