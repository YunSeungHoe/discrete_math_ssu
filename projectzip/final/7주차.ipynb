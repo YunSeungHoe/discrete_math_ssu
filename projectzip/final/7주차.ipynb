{
 "cells": [
  {
   "cell_type": "markdown",
   "metadata": {},
   "source": [
    "\n",
    "### 실습 \n"
   ]
  },
  {
   "cell_type": "markdown",
   "metadata": {},
   "source": [
    "### 실습 1.  우표를 파는 벤딩머신이 1 달러 코인, 1달러 지폐, 5달러 지폐만을 받아드린다고 한다. \n",
    "#### 1) 1달러 코인과 1달러 지폐를 벤딩머신에 삽입하는 순서가  차이가 있다고 할 때,  $n$ 달러를 벤딩머신에 삽입하는 경우의 수를 계산하는 재귀식(점화식) 을 구하시오.  ( $n$ 달러를 벤딩머신에 삽입하는 경우수를 $A(n) $  이라 하고, A(n) 의 재귀식을 구함).\n",
    "#### 2) 초기 조건들은 무엇인가?   (즉, $A(1), A(2), A(3), A(4), A(5) $  값을 구함,\n",
    "#### 3) 10달러를 삽입하는 방법에는 몇가지 방법이 있는가?  "
   ]
  },
  {
   "cell_type": "markdown",
   "metadata": {},
   "source": [
    "#### 1) 1달러 코인과 1달러 지폐를 벤딩머신에 삽입하는 순서가  차이가 있다고 할 때,  $n$ 달러를 벤딩머신에 삽입하는 경우의 수를 계산하는 재귀식(점화식) 을 구하시오.    \n",
    "(해답)  $n$ 달러를 벤딩머신에 삽입하는 경우수를 $A(n) $  이라 하자. 그러면, $A(n)$ 은 $A(n-1)$ 에 비해 1달러를 더 삽입하는 경우의 수와 $A(n-5)$ 에 5달러 지폐를 더하는 경우의 수가 있다. 1달러를 더하는 경우수는 1달러 코인 또는 1달러 지폐를 더하는 경우가 있으므로, $2A(n-1)$이고, 5달러 지폐를 더하는 경우는 1가지 경우밖에 없다. 따라서,   $n$ 달러를 벤딩머신에 삽입하는 경우의 수 $A(n)$ 은 다음과 같이 표시된다. $A(n) = 2 A(n-1) + A(n-5) $\n",
    "#### 2) 초기 조건들은 무엇인가?     \n",
    "(해답) $A(1)= 2, A(2) = 4, A(3) = 8, A(4)= 16, A(5)=33 $   \n",
    "#### 3) 10달러를 삽입하는 방법에는 몇가지 방법이 있는가?   \n",
    "(해답) $A(6)=2A(5)+A(1)= 68, ~~~ A(7)=2A(6)+A(2)=136+4=140. ~~~A(8)=2A(7)+A(3)=288. ~~~ A(9)=2A(8)+A(4)=592. ~~~ A(10)=2A(9)+A(5)=1217$. "
   ]
  },
  {
   "cell_type": "markdown",
   "metadata": {},
   "source": [
    "### 실습 2 . 상기 실습1 에서 구한 점화식(recurrence relation)을 이용하여 $n$ 달러를 벤딩머신에 삽입하는 경우의 수를 구하는 재귀 알고리즘을 파이썬 코딩하시오."
   ]
  },
  {
   "cell_type": "code",
   "execution_count": 7,
   "metadata": {},
   "outputs": [],
   "source": [
    "def Stamp(n):\n",
    "    if n < 1:\n",
    "        print(\"Please take n as an integer greater than 0\")\n",
    "    if n in range(1, 6):\n",
    "        return { 1: 2, 2:4, 3:8, 4:16, 5:33 }[n] # C 언어의 case-switch 와 동일한 파이썬 구현 \n",
    "    else:\n",
    "        return 2*Stamp(n-1)+Stamp(n-5) "
   ]
  },
  {
   "cell_type": "code",
   "execution_count": 15,
   "metadata": {},
   "outputs": [
    {
     "name": "stdout",
     "output_type": "stream",
     "text": [
      "Stamp(1) = 2\n",
      "Stamp(2) = 4\n",
      "Stamp(3) = 8\n",
      "Stamp(4) = 16\n",
      "Stamp(5) = 33\n",
      "Stamp(6) = 68\n",
      "Stamp(7) = 140\n",
      "Stamp(8) = 288\n",
      "Stamp(9) = 592\n",
      "Stamp(10) = 1217\n"
     ]
    }
   ],
   "source": [
    "for i in range(1,11):\n",
    "    print(\"Stamp(%d) = %d\" %(i, Stamp(i)))"
   ]
  }
 ],
 "metadata": {
  "kernelspec": {
   "display_name": "Python 3 (ipykernel)",
   "language": "python",
   "name": "python3"
  },
  "language_info": {
   "codemirror_mode": {
    "name": "ipython",
    "version": 3
   },
   "file_extension": ".py",
   "mimetype": "text/x-python",
   "name": "python",
   "nbconvert_exporter": "python",
   "pygments_lexer": "ipython3",
   "version": "3.9.7"
  }
 },
 "nbformat": 4,
 "nbformat_minor": 1
}
