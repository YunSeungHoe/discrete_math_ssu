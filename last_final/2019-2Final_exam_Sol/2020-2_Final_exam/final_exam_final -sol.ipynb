{
 "cells": [
  {
   "cell_type": "markdown",
   "metadata": {},
   "source": [
    "## 1(20).\n",
    "### 스마트학과 학생회에는 6 개의 모임(M1, M2, M3, M4, M5, M6) 이 있다. 각 모임의 멤버는 다음과 같다.  M1 = {이몽룡, 이향단,}, M2 = { 변사또, 성춘향}, M3 = {이몽룡, 성춘향}, M4 = {변사또, 오방자}, M5 = {이몽룡, 오방자},  M6 = {이향단, 오방자}.  어느 멤버도 동시에 2개의 모임에 참석을 요구받지 않도록 하기 위해 최소 몇개의 다른 모임 시간을 만들어야 하는 가? "
   ]
  },
  {
   "cell_type": "markdown",
   "metadata": {},
   "source": [
    "### (a)(5).  상기 문제는 그동안 이산수학에서 학습한 이론 중에 어떤 것을 적용해야 하는 가를 설명하세요.\n"
   ]
  },
  {
   "cell_type": "markdown",
   "metadata": {},
   "source": [
    "####  (답) 멤버가 겹치는 모임들은 동일 시간에 같이 모일 수없으며, 가능한 한 최소의 모임 시간을 갖도록 모임을 스케줄링하는 문제는  모임을 노드로 하고, 멤버가 겹치는 노드들은 인접노드로 하는 그래프를 그리고 이 그래프에 대해 인접한 노드가 다른 컬러가 칠해지도록 하고 이 때 구해진 최소 색상의 갯수를 구하는 그래프 컬러링 문제의 해와 동일하다."
   ]
  },
  {
   "cell_type": "markdown",
   "metadata": {},
   "source": [
    "### (b)(5).   상기 문제 에 대한 해답을 논리적으로  서술해보시오."
   ]
  },
  {
   "cell_type": "markdown",
   "metadata": {},
   "source": [
    "#### (답)   모임을 노드로 하고, 멤버가 겹치는 노드들은 인접노드로 하는 그래프를 그리고 이 그래프에 대해 인접한 노드가 다른 컬러가 칠해지도록 하고 이 때 구해진 최소 색상의 갯수가 바로 다른 모임 시간의 최소 갯수가  된다. 이는 색상이 같은 노드들의 모임은 멤버가 겹쳐지지 않기 때문에 같은 시간에 모임을 가져도 되며,  다른 색상의 노드의 모임은 멤버가   겹치기 때문에 같은 시간에 모일 수가 없기 때문이다.  \n",
    "#### 따라서,  상기 문제를  모임을 노드로 하고, 멤버가 겹치는 노드들은 인접노드로 하는 그래프를 구성하고 이에 그래프 컬러링 해를 적용하여 구한 색상의 갯수가  바로 다른 모임 시간의 갯수가 된다. \n",
    "#### 이제, 상기 문제를 그래프 컬러링으로 횐원해보자. 모임 M1, M2,M3, M4, M5, M6 를 그래프의 노드로 하고, 멤버가 겹치는 모임은 인접노드로 하여 그래프를 그리면, 다음 그림과 같다.   \n",
    "![Alttext](final_Q1.png)\n",
    "#### 이제 상기 그래프에 대해 컬러링을 적용하여 나오는 색상의 갯수가 바로 다른 모임 시간의 갯수가  된다. "
   ]
  },
  {
   "cell_type": "markdown",
   "metadata": {},
   "source": [
    "### (c)(10). 상기 문제를 해결할 파이썬 프로그래밍을 수행하여 보시오. "
   ]
  },
  {
   "cell_type": "code",
   "execution_count": 125,
   "metadata": {},
   "outputs": [],
   "source": [
    "# 주어진 색상(color)이 채색된 노드의 인접 노드에 칠할 수있는 지 여부   \n",
    "def promising(graph, node,  colors_of_nodes, color):  \n",
    "# graph는 그래프의 인접목록 표현, node 는 현재 탐색 노드, 현재까지 색칠된 노드의 색상\n",
    "# colors_of_nodes 는 현재까지 색칠된 노드의 색상들, color 는 색상 테이블에 있는 색상\n",
    "    for neighbor in graph[node]:          \n",
    "        if neighbor in set(colors_of_nodes.keys()): #colors_of_nodes.keys()는 현재까지 색칠된 노드들\n",
    "            color_of_neighbor = colors_of_nodes[neighbor]  \n",
    "        else: color_of_neighbor= None     \n",
    "       \n",
    "        if color_of_neighbor == color:  #현 노드의 인접노드의 색상이 색상 'color' 과 같으면 이 색상 'color' 은 사용못함\n",
    "            return False\n",
    "    return True #현 노드의 인접노드들의 색상들이 색상 'color' 와 겹치는 것이 없는 경우에 이 색상 'color' 은 사용 가능\n",
    "\n",
    "#인접노드 목록 'graph' 와 현재까지 조사된 노드들에 대한 할당 색상 정보를 갖는 'colors_of_nodes'  노드 'node', 'colors_of_nodes' 컬러테이블 'color_table' 이 함수 인자로 주어졌을 때, 인접노느는 같은 색인 아닌 각 그래프 노드의 색상을 복귀한다.\n",
    "def get_color_for_node(graph, node,  colors_of_nodes, color_table):\n",
    "    for color in color_table:  \n",
    "        if promising(graph, node,  colors_of_nodes, color):\n",
    "            return color\n",
    "\n",
    "#인접노드 목록 'graph' 와 컬러테이블 'color_table' 이 함수 인자로 주어졌을 때, 인접노느는 같은 색인 아닌 각 그래프 노드의 색상을 복귀한다.        \n",
    "def graph_coloring(graph, color_table):\n",
    "    colors_of_nodes = {} # dictionary 타입으로 키는 노드 이고, 값은 해당노드에 할당된 색상  \n",
    "    graph=sort_graph(graph)\n",
    "    for node in graph: # node ={'M1', 'M2', 'M3', 'M4', ''M5, 'M6'}        \n",
    "        colors_of_nodes[node] = get_color_for_node(graph, node,  colors_of_nodes, color_table)           \n",
    "    count=count_color_coloring(colors_of_nodes)\n",
    "    return print(\"colors_of_nodes={} \\n and minimum number of painted colors={}\".format(colors_of_nodes, count))\n",
    "\n",
    "def sort_graph(graph):\n",
    "    graph_len=list()\n",
    "    reorderd_graph=dict()\n",
    "    for key in graph:\n",
    "        graph_len.append(len(graph[key]))\n",
    "    graph_len.sort()  \n",
    "    graph_len.reverse()\n",
    "    \n",
    "    for i in  graph_len:\n",
    "        for key in graph:\n",
    "            if len(graph[key])==i:\n",
    "                reorderd_graph[key]=graph[key]\n",
    "    return  reorderd_graph              \n",
    "\n",
    "def count_color_coloring(colors_of_nodes):\n",
    "    explored=set()\n",
    "    for node in colors_of_nodes:\n",
    "        explored.add(colors_of_nodes[node])\n",
    "    return len(explored)    "
   ]
  },
  {
   "cell_type": "code",
   "execution_count": 126,
   "metadata": {},
   "outputs": [
    {
     "data": {
      "text/plain": [
       "{'M1': ['M3', 'M5', 'M6'],\n",
       " 'M2': ['M3', 'M4'],\n",
       " 'M3': ['M1', 'M2'],\n",
       " 'M4': ['M2', 'M5', 'M6'],\n",
       " 'M5': ['M1', 'M3', 'M4', 'M6'],\n",
       " 'M6': ['M1', 'M4', 'M5']}"
      ]
     },
     "execution_count": 126,
     "metadata": {},
     "output_type": "execute_result"
    }
   ],
   "source": [
    "graph_sol_fig1 = {       \n",
    "       'M1': ['M3', 'M5', 'M6'],                        \n",
    "       'M2': ['M3', 'M4'],\n",
    "       'M3': ['M1', 'M2'],\n",
    "       'M4': ['M2', 'M5', 'M6'],         \n",
    "       'M5': ['M1', 'M3', 'M4', 'M6'], \n",
    "       'M6': ['M1', 'M4', 'M5']\n",
    "         }\n",
    "graph_sol_fig1"
   ]
  },
  {
   "cell_type": "code",
   "execution_count": 127,
   "metadata": {},
   "outputs": [
    {
     "data": {
      "text/plain": [
       "{'M5': ['M1', 'M3', 'M4', 'M6'],\n",
       " 'M1': ['M3', 'M5', 'M6'],\n",
       " 'M4': ['M2', 'M5', 'M6'],\n",
       " 'M6': ['M1', 'M4', 'M5'],\n",
       " 'M2': ['M3', 'M4'],\n",
       " 'M3': ['M1', 'M2']}"
      ]
     },
     "execution_count": 127,
     "metadata": {},
     "output_type": "execute_result"
    }
   ],
   "source": [
    "sort_graph(graph_sol_fig1)"
   ]
  },
  {
   "cell_type": "code",
   "execution_count": 128,
   "metadata": {},
   "outputs": [
    {
     "name": "stdout",
     "output_type": "stream",
     "text": [
      "colors_of_nodes={'M5': 'Black', 'M1': 'Blue', 'M4': 'Blue', 'M6': 'Green', 'M2': 'Black', 'M3': 'Green'} \n",
      " and minimum number of painted colors=3\n"
     ]
    }
   ],
   "source": [
    "color_table = ['Black', 'Blue', 'Green', 'Red', 'Violet', 'Yellow']\n",
    "graph_coloring(graph_sol_fig1, color_table)"
   ]
  },
  {
   "cell_type": "markdown",
   "metadata": {},
   "source": [
    "### 따라서, 동시에 적어도 3개의 다른 모임 시간을 만들어야 한다. "
   ]
  },
  {
   "cell_type": "markdown",
   "metadata": {},
   "source": [
    "![Alttext](final_Q1_sol.png)"
   ]
  },
  {
   "cell_type": "markdown",
   "metadata": {},
   "source": [
    "## 2(50).  [그림 1]의 그래프에 대해 다음을 답하시오. \n",
    "### (a)(10) [그림 1]의 그래프에 대해, 노드 'A' 에서 시작하여, breadth first 로 그래프의 노드들을 순회하고,  이 때 순회된 에지들을 차례로 (시작노드,  종단노드, 에지 가중치) 형태 튜플  리스트를 생성하는 파이썬 코드를 작성하시오.  \n",
    "### (즉, [ ('A', 'B', 5), ('A', 'C', 3), ... ] 형태)\n",
    "![Altext](./graph_traversal.PNG)\n"
   ]
  },
  {
   "cell_type": "code",
   "execution_count": 6,
   "metadata": {},
   "outputs": [],
   "source": [
    "def bfs(graph, start): \n",
    "    explored, bfs_edges, queue = list(), list(), [start]  # collections.deque([start])\n",
    "    explored.append(start)\n",
    "    while queue:\n",
    "        v = queue.pop(0)  # queue.popleft()\n",
    "        for w in graph[v]:\n",
    "            if w[0] not in explored:                \n",
    "                explored.append(w[0])\n",
    "                bfs_edges.append((v,w[0],w[1]))\n",
    "                queue.append(w[0])\n",
    "    return bfs_edges"
   ]
  },
  {
   "cell_type": "code",
   "execution_count": 7,
   "metadata": {},
   "outputs": [
    {
     "data": {
      "text/plain": [
       "{'A': [['B', 5], ['C', 3], ['D', 3]],\n",
       " 'B': [['A', 5], ['C', 3], ['E', 1]],\n",
       " 'C': [['A', 3], ['B', 3], ['D', 4], ['F', 2]],\n",
       " 'D': [['A', 3], ['C', 4], ['G', 10], ['H', 6], ['I', 2]],\n",
       " 'E': [['B', 1], ['F', 2], ['G', 4]],\n",
       " 'F': [['C', 2], ['E', 2]],\n",
       " 'G': [['D', 10], ['E', 4], ['H', 4], ['J', 4]],\n",
       " 'H': [['D', 6], ['G', 4], ['I', 5], ['J', 1]],\n",
       " 'I': [['D', 2], ['H', 5]],\n",
       " 'J': [['G', 4], ['H', 1]]}"
      ]
     },
     "execution_count": 7,
     "metadata": {},
     "output_type": "execute_result"
    }
   ],
   "source": [
    "graph1 = {'A': [['B',5], ['C',3],['D', 3]],\n",
    "       'B': [['A',5], ['C', 3], ['E', 1]],\n",
    "       'C': [['A', 3], ['B', 3], ['D',4 ], ['F',2 ]],\n",
    "       'D': [['A', 3], ['C', 4 ], ['G',10 ], ['H',6 ], ['I',2 ]],\n",
    "       'E': [['B',1 ], ['F', 2], ['G', 4]],\n",
    "       'F': [['C', 2], ['E', 2]],\n",
    "       'G': [['D',10], ['E',4 ],['H', 4],['J',4]],\n",
    "       'H': [['D',6], ['G',4 ], ['I',5 ], ['J', 1]],\n",
    "       'I': [['D',2], ['H',5 ]],\n",
    "       'J': [['G',4 ], ['H',1 ]]  \n",
    "        }\n",
    "graph1"
   ]
  },
  {
   "cell_type": "code",
   "execution_count": 8,
   "metadata": {},
   "outputs": [
    {
     "data": {
      "text/plain": [
       "[('A', 'B', 5),\n",
       " ('A', 'C', 3),\n",
       " ('A', 'D', 3),\n",
       " ('B', 'E', 1),\n",
       " ('C', 'F', 2),\n",
       " ('D', 'G', 10),\n",
       " ('D', 'H', 6),\n",
       " ('D', 'I', 2),\n",
       " ('G', 'J', 4)]"
      ]
     },
     "execution_count": 8,
     "metadata": {},
     "output_type": "execute_result"
    }
   ],
   "source": [
    "bfs(graph1, 'A')"
   ]
  },
  {
   "cell_type": "markdown",
   "metadata": {},
   "source": [
    "### (b) (10)  상기  2(a) 에서 나오는 'breadth first'  로 그래프 순회에서 생성되는 순회 에지 리스트 결과로 생성되는  [그림 1]의 스패닝 트리의 총 에지 가중치 총합을 구하는 파이썬 코드를 작성하고 이를 구하시오(5). 또한, 결괴되는 스패닝 트리를 그리시오(5)(손으로 그리고 사진을 찍어 이미지를 파일를 jupyter notebook  에 삽입함). "
   ]
  },
  {
   "cell_type": "code",
   "execution_count": 14,
   "metadata": {},
   "outputs": [],
   "source": [
    "def total_weight_bfs(graph, start):\n",
    "    tot=0 \n",
    "    a=bfs(graph, start)\n",
    "    for edge in a:\n",
    "        tot+=edge[2] \n",
    "    return tot "
   ]
  },
  {
   "cell_type": "code",
   "execution_count": 15,
   "metadata": {},
   "outputs": [
    {
     "data": {
      "text/plain": [
       "36"
      ]
     },
     "execution_count": 15,
     "metadata": {},
     "output_type": "execute_result"
    }
   ],
   "source": [
    "total_weight_bfs(graph1, 'A')"
   ]
  },
  {
   "cell_type": "markdown",
   "metadata": {},
   "source": [
    "![Altext](./final_fig2.png)  "
   ]
  },
  {
   "cell_type": "markdown",
   "metadata": {},
   "source": [
    "### (c)(15).  [그림 1] 그래프에 대해 노드 'A' 로 부터 [그림 1] 그래프 의 모든 노드까지의 최단 거리를 각각 구하고(5), 이 결과를 기반으로 스패닝 트리의 총 에지 가중치 총합을 구하는 파이썬 코드를 작성하고  이를 구하시오(5). 또한, 결괴되는 스패닝 트리를 그리시오(5)(손으로 그리고 사진을 찍어 이미지를 파일를 jupyter notebook  에 삽입함). 반영한  스패닝 트리를 그리시오(손으로 그리고 사진을 찍어 이미지를 파일를 jupyter notebook  에 삽입함)."
   ]
  },
  {
   "cell_type": "code",
   "execution_count": 16,
   "metadata": {},
   "outputs": [],
   "source": [
    "def minimum_not_Node_Set(graph, paths, src, NodeSet):    \n",
    "    aa = list(graph.keys())\n",
    "    aa.sort()\n",
    "    if aa[-1]==src:\n",
    "        min_node= aa[-2]\n",
    "    else:\n",
    "        min_node=aa[-1]    \n",
    "    for node in aa:\n",
    "        if node not in NodeSet:\n",
    "            if paths[node][0]< paths[min_node][0]:\n",
    "                min_node=node\n",
    "    return min_node     "
   ]
  },
  {
   "cell_type": "code",
   "execution_count": 17,
   "metadata": {},
   "outputs": [],
   "source": [
    "def Dijkstra(graph, src) : # graph 는 노드가 거리 정보를 갖는 그래프의 인접행렬의 한 표현, src 는 시작 노드\n",
    "    if src not in graph :\n",
    "        return print(\"source node is not in the given graph\")\n",
    "    node=list(graph.keys())\n",
    "    node.sort()\n",
    "    # Initialize : paths == {해당노드 이름 : [시작 노드와의 해당노드와의 최단거리, 시작 노드와의 해당노드간의 최단 경로], ...}.  \n",
    "         # 경로는 노드 리스트로 표현됨\n",
    "    paths = {node:[float('inf'), []] for node in graph}     \n",
    "    # paths는  dictionary 타입으로 각 요소는 key 인 해당 그래프 노드와 value 인 [소스 노드와 해당 그래프 노드까지의 최단거리,  소스노드로부터의 해당 그래프 노드까지의 최단 경로] 을 나타냄., \n",
    "    # 먼저, 소스노드로부터 모든 노드까지의 거리를 $ float('inf') $ 로, 소스노드로부터의 도달 최소 경로는 'None' 로 초기화함.\n",
    "    # 즉, paths= {'B': [inf, None], 'E': [inf, None], 'F': [inf, None], 'L': [inf, None], 'N': [inf, None], 'S': [inf, None]} 로 초기화함. \n",
    "       \n",
    "    \n",
    "    # Start Dijkstra algorithm\n",
    "    paths[src] = [0, [src]]  \n",
    "    node_set=set() # 노드세트t 초기화 \n",
    "    if node[-1]==src:\n",
    "        last_node= node[-2]\n",
    "    else:\n",
    "        last_node=node[-1]   \n",
    "    \n",
    "    while last_node not in node_set: # 노드세트에 그래프 노드들이 다 포함될 때까지 \n",
    "        u=minimum_not_Node_Set(graph, paths, src, node_set) # u는 노드세트에 없으면서, L(u) 가 최소인 노드         \n",
    "        node_set.add(u) # 노드세트 업데이트         \n",
    "        for v in node:  \n",
    "            if v not in node_set:\n",
    "                if paths[u][0]+graph[u][v] < paths[v][0]:\n",
    "                    paths[v][0]= paths[u][0]+graph[u][v]\n",
    "                    paths[v][1]=paths[u][1]+[v] \n",
    "           \n",
    "    return paths if paths else None"
   ]
  },
  {
   "cell_type": "code",
   "execution_count": 18,
   "metadata": {},
   "outputs": [],
   "source": [
    "graph_fig1 = {\n",
    "          'A': {'A': 0, 'B': 5, 'C': 3, 'D': 3, 'E': float(\"inf\"), 'F': float(\"inf\"), 'G': float(\"inf\"), 'H': float(\"inf\"), 'I': float(\"inf\"), 'J': float(\"inf\")},                             \n",
    "          'B': {'A': 5, 'B': 0, 'C': 3, 'D': float(\"inf\"), 'E': 1,  'F': float(\"inf\"), 'G': float(\"inf\"), 'H': float(\"inf\"), 'I': float(\"inf\"), 'J': float(\"inf\")},                                       \n",
    "          'C': {'A': 3, 'B': 3, 'C': 0, 'D': 4, 'E': float(\"inf\"),  'F': 2, 'G': float(\"inf\"), 'H': float(\"inf\"), 'I': float(\"inf\"), 'J': float(\"inf\")},                             \n",
    "          'D': {'A': 3, 'B': float(\"inf\"), 'C': 4, 'D': 0,  'E': float(\"inf\"),  'F': float(\"inf\"), 'G': 10, 'H': 6, 'I': 2, 'J': float(\"inf\")},                             \n",
    "          'E': {'A': float(\"inf\"), 'B': 1, 'C': float(\"inf\"), 'D': float(\"inf\"), 'E': 0, 'F': 2, 'G': 4, 'H': float(\"inf\"), 'I': float(\"inf\"), 'J': float(\"inf\")},                             \n",
    "          'F': {'A': float(\"inf\"), 'B': float(\"inf\"), 'C': 2, 'D': float(\"inf\"), 'E': 2, 'F': 0, 'G': float(\"inf\"), 'H': float(\"inf\"), 'I': float(\"inf\"), 'J': float(\"inf\")},  \n",
    "          'G': {'A': float(\"inf\"), 'B': float(\"inf\"), 'C': float(\"inf\"), 'D': 10, 'E': 4,  'F': float(\"inf\"), 'G': 0, 'H': 4, 'I': 4, 'J': 4},                             \n",
    "          'H': {'A': float(\"inf\"), 'B': float(\"inf\"), 'C': float(\"inf\"), 'D': 6, 'E': float(\"inf\"), 'F': float(\"inf\"), 'G': 4, 'H': 0, 'I': 5, 'J': 1},                \n",
    "          'I': {'A': float(\"inf\"), 'B': float(\"inf\"), 'C': float(\"inf\"), 'D': 2, 'E': float(\"inf\"), 'F': float(\"inf\"), 'G': float(\"inf\"), 'H': 5, 'I': 0, 'J': float(\"inf\")},                             \n",
    "          'J': {'A': float(\"inf\"), 'B': float(\"inf\"), 'C': float(\"inf\"), 'D': float(\"inf\"), 'E': float(\"inf\"), 'F': float(\"inf\"), 'G': 4, 'H': 1, 'I': float(\"inf\"), 'J': 0} }"
   ]
  },
  {
   "cell_type": "code",
   "execution_count": 92,
   "metadata": {},
   "outputs": [
    {
     "data": {
      "text/plain": [
       "{'A': [0, ['A']],\n",
       " 'B': [5, ['A', 'B']],\n",
       " 'C': [3, ['A', 'C']],\n",
       " 'D': [3, ['A', 'D']],\n",
       " 'E': [6, ['A', 'B', 'E']],\n",
       " 'F': [5, ['A', 'C', 'F']],\n",
       " 'G': [10, ['A', 'B', 'E', 'G']],\n",
       " 'H': [9, ['A', 'D', 'H']],\n",
       " 'I': [5, ['A', 'D', 'I']],\n",
       " 'J': [10, ['A', 'D', 'H', 'J']]}"
      ]
     },
     "execution_count": 92,
     "metadata": {},
     "output_type": "execute_result"
    }
   ],
   "source": [
    "Dijkstra(graph_fig1, 'A')"
   ]
  },
  {
   "cell_type": "code",
   "execution_count": 93,
   "metadata": {},
   "outputs": [],
   "source": [
    "def total_weight_Dijkstra(graph, start):\n",
    "    tot=0 \n",
    "    a=Dijkstra(graph, start)    \n",
    "    b=[]\n",
    "    for key in a:        \n",
    "        b.append(a[key]) \n",
    "    b.sort()\n",
    "    b.reverse()    \n",
    "    explored=set()\n",
    "    for i in b[0][1]:\n",
    "          explored.add(i)\n",
    "    \n",
    "    tot=b[0][0]\n",
    "    \n",
    "    for item in b:                   \n",
    "        if item[1][-1] not in explored:             \n",
    "            explored=explored.union(set(item[1]))            \n",
    "            tot+=item[0]\n",
    "    \n",
    "    return tot        "
   ]
  },
  {
   "cell_type": "code",
   "execution_count": 94,
   "metadata": {},
   "outputs": [
    {
     "data": {
      "text/plain": [
       "30"
      ]
     },
     "execution_count": 94,
     "metadata": {},
     "output_type": "execute_result"
    }
   ],
   "source": [
    "total_weight_Dijkstra(graph_fig1, 'A')"
   ]
  },
  {
   "cell_type": "markdown",
   "metadata": {},
   "source": [
    "![Altext](./final_fig3.png)  "
   ]
  },
  {
   "cell_type": "markdown",
   "metadata": {},
   "source": [
    "### (d)(15).  [그림 1] 그래프에 대해 노드 'A' 로 부터 출발하는 최소 스패닝 트리를 구하고(5), 이 때의 구해진 최소 스패닝트리의 에지 가중치 총합을 구하시오(5). 또한 결고과되는 최소 신장트리를 그리시오(5)(손으로 그리고 사진을 찍어 이미지를 파일를 jupyter notebook  에 삽입함)."
   ]
  },
  {
   "cell_type": "code",
   "execution_count": 95,
   "metadata": {},
   "outputs": [],
   "source": [
    "from heapq import *\n",
    "def prim(G, s):  # G는 인접 노드(노드 가중치 포함) 리스트\n",
    "    T, Q = list(), [(0, None, s)]  #T; 최소가중치 에지세트  (요소는 (가중치, 시작노드, 종단노드)로 표현되는 에지,  \n",
    "                              #Q ; 우선 순위 큐 . 각 요소는 (에지 가중치, (시작노드, 종단 노드) ) 로 구성 \n",
    "    Explored=[]\n",
    "    while Q:\n",
    "        weight, p, u = heappop(Q) #weight ; 에지 가중치, p ; 시작노드 , u ; 종단 노드 \n",
    "        if u in Explored: # 종단노드가 이미 검색된 노드면 다시 우선 순위 큐에서 다음 순위 에지 추출 \n",
    "            continue\n",
    "        else: Explored.append(u) # 추출된 우선 순위 큐 에지의 종단 노드를 탐색 노드로 등록      \n",
    "        if p!=None :     # 뽑은 에지가 이미  최소가중치 에지세트에 있으면 더 이상 처리하지 않고 다음으로 넣어감\n",
    "            T.append((p, u, weight)) # [시작노드, 종단노드, 가중치]\n",
    "        for v, w in G[u]:  # 노드 \"u\" 의 모든 인접 노드들을 우선순위 큐에 추가 #G[u] ; 노드 \"u\" 의 인접 노드 리스트, v : 인접노드, w : 인접노드 에지 가중치           \n",
    "            if (w, u, v ) not in Q and (w, v,u) not in Q and (u, v, w) not in T and (v, u, w) not in T:\n",
    "                heappush(Q, (w, u, v))  #w; 에지 가중치, u ; 시작노드 , v ; 종단 노드\n",
    "        if len(T)==len(G)-1:\n",
    "            break \n",
    "    return T"
   ]
  },
  {
   "cell_type": "code",
   "execution_count": 96,
   "metadata": {},
   "outputs": [
    {
     "data": {
      "text/plain": [
       "[('A', 'C', 3),\n",
       " ('C', 'F', 2),\n",
       " ('F', 'E', 2),\n",
       " ('E', 'B', 1),\n",
       " ('A', 'D', 3),\n",
       " ('D', 'I', 2),\n",
       " ('E', 'G', 4),\n",
       " ('G', 'H', 4),\n",
       " ('H', 'J', 1)]"
      ]
     },
     "execution_count": 96,
     "metadata": {},
     "output_type": "execute_result"
    }
   ],
   "source": [
    "prim(graph1, 'A')"
   ]
  },
  {
   "cell_type": "code",
   "execution_count": 97,
   "metadata": {},
   "outputs": [],
   "source": [
    "def total_weight_prim(graph, start):\n",
    "    tot=0 \n",
    "    a=prim(graph, start)\n",
    "    for item in a:        \n",
    "        tot+=item[2] \n",
    "    return tot "
   ]
  },
  {
   "cell_type": "code",
   "execution_count": 98,
   "metadata": {},
   "outputs": [
    {
     "data": {
      "text/plain": [
       "22"
      ]
     },
     "execution_count": 98,
     "metadata": {},
     "output_type": "execute_result"
    }
   ],
   "source": [
    "total_weight_prim(graph1, 'A')"
   ]
  },
  {
   "cell_type": "markdown",
   "metadata": {},
   "source": [
    "![Altext](./final_fig4.png)  "
   ]
  },
  {
   "cell_type": "markdown",
   "metadata": {},
   "source": [
    "### 3(30).   힙(heap)은 완전(complete) 이진 트리로, 2가지 종류가 있다.  최대힙은  부모 노드의 값이 항상 자식 노드들의 값보다 크거나 같도록 구성된 완전 이진 트리이며, 최소힙(min-heap) 은 부모 노드의 값이 항상 자식 노드들의 값보다 작거나 같도록  구성된 완전 이진 트리이다. \n",
    "![Altext](final_fig5.png)"
   ]
  },
  {
   "cell_type": "markdown",
   "metadata": {},
   "source": [
    "###  이러한  최대힙을,  다음을 만족하는 \"Max_Heap_Node\" 이라는 노드 클래스를 파이썬으로 구현하여 구성하려고 한다.  \n",
    "####   가)  \"min-heap\"   클래스 는 자신의 노드값 및 2개의 자식 노드 를 속성으로 가진다. 부모노드값은 자식노드값보다 크거나 같다.  자식노드간의 크기 순서는 따지지 않는다. \n",
    "####   나)  'sift-up(self)' ,   'push(self, data)'  , 'sift-down(self)' , 'pop(self)', 'traversal(self)'라는 5개 메소드를 갖는다.  \n",
    "####  'sift-up(self)' 메소드는 [그림 5-1)]에 보이는 바와 같이 새로운 노드가 추기시에 힙을 재구성하여 최대힙을 구성한다.  'push' 메소드는 추가  데이터 값(data)을 인자로 받아 , 새 노드를 만들고 내부적으로 'sift-up(self)' 메소드의  도음으로 상기 [그림 5-1]와 같은 최대힙을 구성한다. 'sift-down(self)' 메소드는  최대값이 추출된 후에, 다시 나머지 노드들에 대해 [그림 5-2]의 동작대로 최대힙으로 구성한다.  'pop' 메소드는 구성된 최대힙에서 가장 큰 값을 리턴해주며,  내부에서는 'sift-down(self)' 메소드의  도음으로 상기 [그림 5-2]와 같은 최대힙을 구성한다.   'traversal(self)' 메소드는 구성된 최소힙의 노드들을 루트로부터 시작하여 너비 기반 탐색으로   모든 노드를 순회하고 해당 노드값을 출력한다.\n"
   ]
  },
  {
   "cell_type": "markdown",
   "metadata": {},
   "source": [
    "![AltText](final_fig5-1.png)\n",
    "![AltText](final_fig5-2.png)"
   ]
  },
  {
   "cell_type": "markdown",
   "metadata": {},
   "source": [
    "### (a)(15)아래 주어진 \"Heap_Node\" 클래스를 활용하여, \"Max_Heap_Node\" 이라는 노드 클래스를 파이썬으로 구현하시오."
   ]
  },
  {
   "cell_type": "code",
   "execution_count": 1165,
   "metadata": {},
   "outputs": [],
   "source": [
    "import copy\n",
    "class Heap_Node:\n",
    "  # object 생성 초기화\n",
    "    def __init__(self, data, parent=None):\n",
    "\n",
    "        self.children=[]   # 왼쪽 서브트리 루트 노드값 설정\n",
    "        self.right = None  # 오른쪽 서브트리 루트 노그값 설정 \n",
    "        self.data = data   # 루트 노드 값  설정         \n",
    "        self.parent= parent\n",
    "        \n",
    "  # 삽입되는 새 값을  왼쪽 서브트리의 루트 노드값  또는 오른쪽 서브트리  루트노트값과 비교하여  적절한 위치에  노드를 생성하고 삽입 새 데이터 값을 \n",
    "  # 노드값 으로 셋팅       \n",
    "   \n",
    "    def push(self, data):    \n",
    "        #push함수 만들기 (siftUp 함수 등을 이용하여 구현)\n",
    "        return     \n",
    "    \n",
    "    \n",
    "    def pop(self):            \n",
    "        Highest_data = self.data\n",
    "        #pop 함수 만들기 (traversal(), delete(), siftDown() 등을  이용하여 구현할 수있음)\n",
    "        return Highest_data\n",
    "    \n",
    "    def siftUp(self): \n",
    "        #siftUp 함수 만들기 \n",
    "        return    \n",
    "    \n",
    "    def siftDown(self): \n",
    "       #siftDown 함수 만들기         \n",
    "        return    \n",
    "    \n",
    "    def delete(self, data): \n",
    "        tmp=self.search(data)               \n",
    "        if tmp !=None and tmp.parent!=None:\n",
    "            for i in range(len(tmp.parent.children)):\n",
    "                if tmp.parent.children[i]==tmp:                    \n",
    "                    del tmp.parent.children[i]\n",
    "                #    del tmp.parent\n",
    "                    del tmp.data\n",
    "                    if tmp.children!=[]:\n",
    "                        for i in range(len(tmp.children)):\n",
    "                            del tmp.children[i]\n",
    "                        del tmp.children        \n",
    "                    del tmp\n",
    "       # del tmp    \n",
    "        return \n",
    "        \n",
    "    def search(self, data): \n",
    "        if self==None:\n",
    "            return None                      \n",
    "        tmp=None\n",
    "        if data != self.data:\n",
    "            for i in range(len(self.children)):\n",
    "                if tmp==None and self.children[i]!=None:                   \n",
    "                    tmp=self.children[i].search(data)                            \n",
    "            return tmp         \n",
    "        else:         \n",
    "            return self\n",
    "# 트리 노드 값들을 프린팅\n",
    "    def traversal(self):        \n",
    "        explored_nodes, explored_data, queue = list(), list(), [self]  #  큐에는 순회될  다음 레벨의 노드들이 순차적으로 저장됨\n",
    "        explored_nodes.append(self)\n",
    "        explored_data.append((self.data, None, None))\n",
    "        while queue: #탐색할 큐에 노드가 있는 한 계속 수행  \n",
    "            v = queue.pop(0)  # 큐에서  FIFO 순으로 큐의 제일앞에 있는 노드을  뽑음            \n",
    "            for i in range(len(v.children)): \n",
    "                if v.children[i]!=None and v.children[i] not in explored_nodes:                \n",
    "                    explored_nodes.append(v.children[i]) #현 노드가 순회되지 않았으면 현 노드를 순회된 리스트에 등록   \n",
    "                    if v.children[i].data!=None:\n",
    "                        if i==0:\n",
    "                            if v.children[0].data!=None:        \n",
    "                                explored_data.append((v.children[0].data, v.data, \"left\")) #현 노드가 순회되지 않았으면 현 노드를 순회된 리스트에 등록   \n",
    "                                queue.append(v.children[0]) # 다음 레벨 탐색을 위해  큐에 해당 노드 를 저장함\n",
    "                        else: \n",
    "                            if v.children[1].data!=None:        \n",
    "                                explored_data.append((v.children[1].data, v.data, \"right\")) #현 노드가 순회되지 않았으면 현 노드를 순회된 리스트에 등록   \n",
    "                                queue.append(v.children[1]) # 다음 레벨 탐색을 위해  큐에 해당 노드 를 저장함\n",
    "                \n",
    "                \n",
    "        return explored_data"
   ]
  },
  {
   "cell_type": "markdown",
   "metadata": {},
   "source": [
    "### (해답)"
   ]
  },
  {
   "cell_type": "code",
   "execution_count": 99,
   "metadata": {},
   "outputs": [],
   "source": [
    "import copy\n",
    "class Max_Heap_Node:\n",
    "  # object 생성 초기화\n",
    "    def __init__(self, data, parent=None):\n",
    "\n",
    "        self.children=[]   # 왼쪽 서브트리 루트 노드값 설정\n",
    "        self.right = None  # 오른쪽 서브트리 루트 노그값 설정 \n",
    "        self.data = data   # 루트 노드 값  설정         \n",
    "        self.parent= parent\n",
    "        \n",
    "  # 삽입되는 새 값을  왼쪽 서브트리의 루트 노드값  또는 오른쪽 서브트리  루트노트값과 비교하여  적절한 위치에  노드를 생성하고 삽입 새 데이터 값을 \n",
    "  # 노드값 으로 셋팅       \n",
    "   \n",
    "    def push(self, data):    \n",
    "        queue=[]\n",
    "        queue.append(self)\n",
    "        queue=[]\n",
    "        queue.append(self)\n",
    "        while queue:\n",
    "            current_exploring_node=queue.pop(0)            \n",
    "            if current_exploring_node.data!=None:    \n",
    "            #print(\"data2={}, m2={}\".format(data,m))\n",
    "                if len(current_exploring_node.children)< 2:           \n",
    "                    current_exploring_node.children.append(Max_Heap_Node(data,current_exploring_node)) \n",
    "                    current_exploring_node.children[len(current_exploring_node.children)-1].siftUp()\n",
    "                    return \n",
    "                else: # 최대 허용 자식 노드 갯수를 넘었을 경우, 손자 노드를 생성\n",
    "                    for i in range(2):                   \n",
    "                         \n",
    "                        if (len(current_exploring_node.children[i].children)< 2):                            \n",
    "                            current_exploring_node.children[i].children.append(Max_Heap_Node(data,current_exploring_node.children[i]))\n",
    "                            current_exploring_node.children[i].children[len(current_exploring_node.children[i].children)-1].siftUp()\n",
    "                            return \n",
    "                        queue.append(current_exploring_node.children[i])                \n",
    "            else:           \n",
    "                current_exploring_node.data = data\n",
    "        return     \n",
    "    \n",
    "   \n",
    "    def pop(self):            \n",
    "        Highest_data = self.data\n",
    "        nodes=self.traversal()\n",
    "        last_node=nodes[len(nodes)-1]        \n",
    "        tmp=last_node[0]\n",
    "        self.delete(last_node[0])\n",
    "        self.data=tmp\n",
    "        self.siftDown()\n",
    "        return Highest_data\n",
    "    \n",
    "    def siftUp(self): \n",
    "        if self == None:\n",
    "            return \n",
    "        if self.data !=None and self.parent !=None and self.parent.data !=None:\n",
    "            \n",
    "            if self.data > self.parent.data : # swap elements                \n",
    "                tmp = self.data\n",
    "                self.data = self.parent.data                                  \n",
    "                self.parent.data = tmp                                \n",
    "                self.parent.siftUp()\n",
    "        return    \n",
    "    \n",
    "    def siftDown(self): \n",
    "        if  self == None:\n",
    "            return \n",
    "        if self.data !=None :\n",
    "            if len(self.children)==2:\n",
    "                if self.data < self.children[0].data < self.children[1].data  : # swap elements\n",
    "                    tmp = self.children[1].data\n",
    "                    self.children[1].data = self.data\n",
    "                    self.data = tmp                \n",
    "                    self.children[1].siftDown()\n",
    "                    return\n",
    "                elif self.children[0].data < self.data < self.children[1].data  : # swap elements:\n",
    "                    tmp = self.children[1].data\n",
    "                    self.children[1].data = self.data\n",
    "                    self.data = tmp                \n",
    "                    self.children[1].siftDown()\n",
    "                    return\n",
    "                elif self.data < self.children[1].data <= self.children[0].data:\n",
    "                    tmp = self.children[0].data\n",
    "                    self.children[0].data = self.data\n",
    "                    self.data = tmp                \n",
    "                    self.children[0].siftDown()\n",
    "                    return\n",
    "                elif self.children[1].data < self.data < self.children[0].data:\n",
    "                    tmp = self.children[0].data\n",
    "                    self.children[0].data = self.data\n",
    "                    self.data = tmp                \n",
    "                    self.children[0].siftDown()\n",
    "                    return\n",
    "                \n",
    "            if len(self.children)==1:    \n",
    "                if self.data < self.children[0].data   : \n",
    "                    tmp = self.children[0].data\n",
    "                    self.children[0].data = self.data\n",
    "                    self.data = tmp                \n",
    "                    self.children[0].siftDown()\n",
    "                    return\n",
    "            if len(self.children)==0:        \n",
    "                return \n",
    "                \n",
    "        return    \n",
    "    \n",
    "    def delete(self, data): \n",
    "        tmp=self.search(data)               \n",
    "        if tmp !=None and tmp.parent!=None:\n",
    "            for i in range(len(tmp.parent.children)):\n",
    "                if tmp.parent.children[i]==tmp:                    \n",
    "                    del tmp.parent.children[i]\n",
    "                #    del tmp.parent\n",
    "                    del tmp.data\n",
    "                    if tmp.children!=[]:\n",
    "                        for i in range(len(tmp.children)):\n",
    "                            del tmp.children[i]\n",
    "                        del tmp.children        \n",
    "                    del tmp\n",
    "       # del tmp    \n",
    "        return \n",
    "        \n",
    "    def search(self, data): \n",
    "        if self==None:\n",
    "            return None                      \n",
    "        tmp=None\n",
    "        if data != self.data:\n",
    "            for i in range(len(self.children)):\n",
    "                if tmp==None and self.children[i]!=None:                   \n",
    "                    tmp=self.children[i].search(data)                            \n",
    "            return tmp         \n",
    "        else:         \n",
    "            return self\n",
    "# 트리 노드 값들을 프린팅\n",
    "    def traversal(self):        \n",
    "        explored_nodes, explored_data, queue = list(), list(), [self]  #  큐에는 순회될  다음 레벨의 노드들이 순차적으로 저장됨\n",
    "        explored_nodes.append(self)\n",
    "        explored_data.append((self.data, None, None))\n",
    "        while queue: #탐색할 큐에 노드가 있는 한 계속 수행  \n",
    "            v = queue.pop(0)  # 큐에서  FIFO 순으로 큐의 제일앞에 있는 노드을  뽑음            \n",
    "            for i in range(len(v.children)): \n",
    "                if v.children[i]!=None and v.children[i] not in explored_nodes:                \n",
    "                    explored_nodes.append(v.children[i]) #현 노드가 순회되지 않았으면 현 노드를 순회된 리스트에 등록   \n",
    "                    if v.children[i].data!=None:\n",
    "                        if i==0:\n",
    "                            if v.children[0].data!=None:        \n",
    "                                explored_data.append((v.children[0].data, v.data, \"left\")) #현 노드가 순회되지 않았으면 현 노드를 순회된 리스트에 등록   \n",
    "                                queue.append(v.children[0]) # 다음 레벨 탐색을 위해  큐에 해당 노드 를 저장함\n",
    "                        else: \n",
    "                            if v.children[1].data!=None:        \n",
    "                                explored_data.append((v.children[1].data, v.data, \"right\")) #현 노드가 순회되지 않았으면 현 노드를 순회된 리스트에 등록   \n",
    "                                queue.append(v.children[1]) # 다음 레벨 탐색을 위해  큐에 해당 노드 를 저장함\n",
    "                \n",
    "                \n",
    "        return explored_data"
   ]
  },
  {
   "cell_type": "markdown",
   "metadata": {},
   "source": [
    "### (b)(5). [그림  5-1(a)]에서, 90값을 갖는 노드가 추가되기 전의 최대힙을 앞선 구현한 \"Max_Heap_Node\" 클래스를 이용하여 최대힙을 구성하는 파이썬 코드를 작성하고, \"Max_Heap_Node\" 클라스 의 \"traversal()\" 메소드를 이용하여 다음과 같이 출력됨을 확인하시오.\n",
    "<code>\n",
    "[(100, None, None),\n",
    " (84, 100, 'left'),\n",
    " (71, 100, 'right'),\n",
    " (60, 84, 'left'),\n",
    " (23, 84, 'right'),\n",
    " (12, 71, 'left'),\n",
    " (29, 71, 'right'),\n",
    " (1, 60, 'left'),\n",
    " (37, 60, 'right'),\n",
    " (4, 23, 'left')]\n",
    "</code>    "
   ]
  },
  {
   "cell_type": "code",
   "execution_count": 100,
   "metadata": {},
   "outputs": [],
   "source": [
    "maxheap=Max_Heap_Node(100)\n",
    "maxheap.push(84)\n",
    "maxheap.push(71)\n",
    "maxheap.push(60)\n",
    "maxheap.push(23)\n",
    "maxheap.push(12)\n",
    "maxheap.push(29)\n",
    "maxheap.push(1)\n",
    "maxheap.push(37)\n",
    "maxheap.push(4)"
   ]
  },
  {
   "cell_type": "code",
   "execution_count": 101,
   "metadata": {},
   "outputs": [
    {
     "data": {
      "text/plain": [
       "[(100, None, None),\n",
       " (84, 100, 'left'),\n",
       " (71, 100, 'right'),\n",
       " (60, 84, 'left'),\n",
       " (23, 84, 'right'),\n",
       " (12, 71, 'left'),\n",
       " (29, 71, 'right'),\n",
       " (1, 60, 'left'),\n",
       " (37, 60, 'right'),\n",
       " (4, 23, 'left')]"
      ]
     },
     "execution_count": 101,
     "metadata": {},
     "output_type": "execute_result"
    }
   ],
   "source": [
    "maxheap.traversal()"
   ]
  },
  {
   "cell_type": "markdown",
   "metadata": {},
   "source": [
    "### (c)(5). [그림  5-1(a)]에서, 90값을 갖는 노드가 추가하여, 새롭게 최대힙을 구성하고, (a)에서 구현한 \"Max_Heap_Node\" 클래스 의 \"traversal()\" 메소드를 이용하여 다음과 같이 출력됨을 확인하고,  이 구성된 최대힙이 [그림 5-1(d)] 와 같음을 확인하시오.\n",
    "<code>\n",
    "[(100, None, None),\n",
    " (90, 100, 'left'),\n",
    " (71, 100, 'right'),\n",
    " (60, 90, 'left'),\n",
    " (84, 90, 'right'),\n",
    " (12, 71, 'left'),\n",
    " (29, 71, 'right'),\n",
    " (1, 60, 'left'),\n",
    " (37, 60, 'right'),\n",
    " (4, 84, 'left'),\n",
    " (23, 84, 'right')]    \n",
    "</code>"
   ]
  },
  {
   "cell_type": "code",
   "execution_count": 102,
   "metadata": {},
   "outputs": [
    {
     "data": {
      "text/plain": [
       "[(100, None, None),\n",
       " (90, 100, 'left'),\n",
       " (71, 100, 'right'),\n",
       " (60, 90, 'left'),\n",
       " (84, 90, 'right'),\n",
       " (12, 71, 'left'),\n",
       " (29, 71, 'right'),\n",
       " (1, 60, 'left'),\n",
       " (37, 60, 'right'),\n",
       " (4, 84, 'left'),\n",
       " (23, 84, 'right')]"
      ]
     },
     "execution_count": 102,
     "metadata": {},
     "output_type": "execute_result"
    }
   ],
   "source": [
    "maxheap.push(90)\n",
    "maxheap.traversal()"
   ]
  },
  {
   "cell_type": "markdown",
   "metadata": {},
   "source": [
    "###  (d)(5). [그림 5-1(d)]의 최대힙에, 상기 (a)에서 구현한 \"Max_Heap_Node\" 클래스 의 \"pop()\" 메소드를 적용하여, 최대값 100 이 리턴되며, \"pop()\" 메소드 호출로 내부적으로 새롭게 재구성된  최대힙이 [그림 5-2(d)] 와 같음을 확인하기 위하여,  (a)에서 구현한 \"Max_Heap_Node\" 클래스 의 \"traversal()\" 메소드를 이용하여 다음과 같이 출력됨을 확인하시오.\n",
    "<code>\n",
    "[(90, None, None),\n",
    " (84, 90, 'left'),\n",
    " (71, 90, 'right'),\n",
    " (60, 84, 'left'),\n",
    " (23, 84, 'right'),\n",
    " (12, 71, 'left'),\n",
    " (29, 71, 'right'),\n",
    " (1, 60, 'left'),\n",
    " (37, 60, 'right'),\n",
    " (4, 23, 'left')]\n",
    "</code>"
   ]
  },
  {
   "cell_type": "code",
   "execution_count": 103,
   "metadata": {},
   "outputs": [
    {
     "data": {
      "text/plain": [
       "100"
      ]
     },
     "execution_count": 103,
     "metadata": {},
     "output_type": "execute_result"
    }
   ],
   "source": [
    "maxheap.pop()"
   ]
  },
  {
   "cell_type": "code",
   "execution_count": 104,
   "metadata": {},
   "outputs": [
    {
     "data": {
      "text/plain": [
       "[(90, None, None),\n",
       " (84, 90, 'left'),\n",
       " (71, 90, 'right'),\n",
       " (60, 84, 'left'),\n",
       " (23, 84, 'right'),\n",
       " (12, 71, 'left'),\n",
       " (29, 71, 'right'),\n",
       " (1, 60, 'left'),\n",
       " (37, 60, 'right'),\n",
       " (4, 23, 'left')]"
      ]
     },
     "execution_count": 104,
     "metadata": {},
     "output_type": "execute_result"
    }
   ],
   "source": [
    "maxheap.traversal()"
   ]
  }
 ],
 "metadata": {
  "kernelspec": {
   "display_name": "Python 3 (ipykernel)",
   "language": "python",
   "name": "python3"
  },
  "language_info": {
   "codemirror_mode": {
    "name": "ipython",
    "version": 3
   },
   "file_extension": ".py",
   "mimetype": "text/x-python",
   "name": "python",
   "nbconvert_exporter": "python",
   "pygments_lexer": "ipython3",
   "version": "3.6.5"
  }
 },
 "nbformat": 4,
 "nbformat_minor": 2
}
