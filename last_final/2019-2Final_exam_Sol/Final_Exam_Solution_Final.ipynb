{
 "cells": [
  {
   "cell_type": "markdown",
   "metadata": {},
   "source": [
    "### 1(40). 'full m-ary tree' 는 트리의 모든 내부 노드(종단 노드(leaf)가 아닌 노드) 가 자식 노드를 m 개 씩 가질 때의 트리를 말한다. (node는 vertex 와 같음)\n",
    "### (예) binary tree 들  ( 노드 옆의 문자는 노드에 저장된 값임)\n",
    "![Altext](./bt.png)\n",
    "\n",
    "### 트리의 깊이 (depth) 는 루트로 부터 최종 단말 노드까지 단계별로 내려가면서 (올라 오는 것은 허용 안함) 도달하는 데 거치는 에지 갯수를 말한다.  상기 [그림 1]과  [그림 2]의 binary tree 의 깊이는 각각 4와 3이다. "
   ]
  },
  {
   "cell_type": "markdown",
   "metadata": {},
   "source": [
    "### (a)(5) 깊이가 'n' 인 'full binary tree 의 총 노드 갯수를 $V(n)$ 이라 할 때,  \n",
    "###           $ V(n)=2V(n-1)+1 $ \n",
    "### 의 재귀식(recurrence relation)으로 나타낼 수있음을 증명해 보시오. "
   ]
  },
  {
   "cell_type": "markdown",
   "metadata": {},
   "source": [
    "#### (해답)  깊이가 'n' 인 full binary tree 는 루트 노드외에 깊이가 'n-1' 인 두개의 full binary sub tree 를 를 갖는다.  \n",
    "#### 따라서, 깊이가  'n' 인 'full binary tree 의 총 노드 갯수를 $V(n)$이라 하면, 깊이 'n-1' 인 full binary sub tree 의 총 노드 갯수는 $V(n-1)$ . 따라서, $V(n)=2V(n-1)+1 $ 이다. "
   ]
  },
  {
   "cell_type": "markdown",
   "metadata": {},
   "source": [
    "### (b)(5) 깊이가 'n' 인  'full binary tree 의 총 노드 갯수를  V(n) 이라 할 때,  \n",
    "###   $V(n)= 2^{n+1} -1 $ \n",
    "### 임을 보이시오."
   ]
  },
  {
   "cell_type": "markdown",
   "metadata": {},
   "source": [
    "#### (해답) 깊이가 1 인 full binary tree 의 총 노드 갯수 $V(1)=3$ . \n",
    "### $V(n)=2V(n-1)+1=2 (2V(n-2)+1)+1=...=2^{n-1}*V(1)+2^{n-2}+2^{n-3}+ ...+1=2^{n-1}*3+2^{n-1} -1=2^{n+1}-1 $"
   ]
  },
  {
   "cell_type": "markdown",
   "metadata": {},
   "source": [
    "### (C)(5) 상기 [그림 1] 의  'binary tree' 에서  모든 노드를 \"Preorder\"  , \"Inorder\" ,  \"Postorder\"방식으로 순회하는 경우에,  순회되는 노드의 값들을 파이썬의 리스트 형태로  적으시오. (프로그래밍 하는 것이 아니고, 이론적으로 설명하는 것임). "
   ]
  },
  {
   "cell_type": "markdown",
   "metadata": {},
   "source": [
    "#### (해답) \"Preorder\" 순회는 'root', 'left', 'right' 순으로 순회하며, \"Inorder\" 는 'left', 'root',  'right' 순으로 순회하며,\"Postorder\" 순회는 'left', 'right' , 'root' 순으로 순회한다. 따라서,\n",
    "#### \"Preorder\" =  ['a', 'b', 'c', 'd', 'e', 'f', 'g', 'h', 'i', 'j', 'k', 'l', 'm', 'n', 'o']\n",
    "#### \"Inorder\" = ['d', 'c', 'f', 'e', 'b', 'h', 'i', 'g', 'j', 'a', 'l', 'k', 'n', 'm', 'o']\n",
    "#### Postorder=  ['d', 'f', 'e', 'c', 'i', 'h', 'j', 'g', 'b', 'l', 'n', 'o', 'm', 'k', 'a']"
   ]
  },
  {
   "cell_type": "markdown",
   "metadata": {},
   "source": [
    "### (d) (10) 아래 파이썬 'Class Node' 를 이용하여 이진 트리를 구성할 때,  이 구성된 이진 트리의 모든 노드를 'Preorder'  , 'Inorder' ,  'Postorder' 방식으로 순회하는 경우에,  순회되는 노드를 출력하는 기능을 수행하는 함수 ('Class Node' 의 method 가 아닌) 코드를 파이썬으로 작성하고, 이를 이용하여  상기 [그림 1] 의  이진 트리를 'Class Node' 를 이용하여 구성한 'binary tree' 을 'Preorder'  , 'Inorder' ,  'Postorder' 방식으로 순회한 결과가 문제 1(C)의 해답과 같음을 보이시오.\n",
    "\n",
    "<pre>\n",
    "class Node:\n",
    "  # object 생성 초기화\n",
    "    def __init__(self, data, term=True, len=0):\n",
    "         self.left = None   # 현재 노드의 왼쪽 서브트리 루트 노드값 설정\n",
    "         self.right = None  # 현재 노드의 오른쪽 서브트리 루트 노드값 설정 \n",
    "         self.data = data   # 현재 노드 값  설정 \n",
    "\n",
    "#### 삽입되는 새 값이 루트 노드의 값과 비교하여 순서가 작으면 왼쪽 서브트리로, 크면 오른쪽 서브트리로 배치#### 가 결정된 다음, 해당 서브트리의 루트 노드와 비교하여 같은 작업을 반복한다. \n",
    "#### 최종적으로 현재 트리의 최종 단말 노드와 비교하게 되고, 이 때, 비교되는 최종 단말 노드의 값보다 새값이 #### 작으면 현재 최종 단말 노드의 왼쪽 자식 노드를 생성하고 새값을 이 노드의 값으로 할당한다. 만일 크면,  \n",
    "#### 최종 단말 노드의 오른쪽 자식 노드를 생성하고 새값을 이 노드의 값으로 할당한다. \n",
    "\n",
    "    def insert(self, data):\n",
    "        if self.data:\n",
    "            if data < self.data:\n",
    "                if self.left is None:\n",
    "                    self.left = Node(data)               \n",
    "                else:\n",
    "                    self.left.insert(data)\n",
    "            elif data > self.data:\n",
    "                if self.right is None:\n",
    "                    self.right = Node(data)                    \n",
    "                else:\n",
    "                    self.right.insert(data)\n",
    "        else:\n",
    "            self.data = data           \n",
    "\n",
    "<code>"
   ]
  },
  {
   "cell_type": "markdown",
   "metadata": {},
   "source": [
    "#### (해답) 문제에서 주어진 'class Node' 는 다음과 같다. "
   ]
  },
  {
   "cell_type": "code",
   "execution_count": 1,
   "metadata": {},
   "outputs": [],
   "source": [
    "class Node:\n",
    "  # object 생성 초기화\n",
    "    def __init__(self, data, len=0):\n",
    "        self.left = None   # 현재 노드의 왼쪽 서브트리 루트 노드값 설정\n",
    "        self.right = None  # 현재 노드의 오른쪽 서브트리 루트 노드값 설정 \n",
    "        self.data = data   # 현재 노드 값  설정 \n",
    "\n",
    "### 삽입되는 새 값이 루트 노드의 값과 비교하여 순서가 작으면 왼쪽 서브트리로, 크면 오른쪽 서브트리로 배치가 \n",
    "### 결정된 다음, 해당 서브트리의 루트 노드와 비교하여 같은 작업을 반복한다. \n",
    "### 최종적으로 현재 트리의 최종 단말 노드와 비교하게 되고, 이 때, 비교되는 최종 단말 노드의 값보다 새값이 작으면 \n",
    "### 현재 최종 단말 노드의 왼쪽 자식 노드를 생성하고 새값을 이 노드의 값으로 할당한다. 만일 크면,  \n",
    "### 최종 단말 노드의 오른쪽 자식 노드를 생성하고 새값을 이 노드의 값으로 할당한다. \n",
    "     \n",
    "    def insert(self, data):\n",
    "        if self.data:\n",
    "            if data < self.data:\n",
    "                if self.left is None:\n",
    "                    self.left = Node(data)\n",
    "                else:\n",
    "                    self.left.insert(data)\n",
    "            elif data > self.data:\n",
    "                if self.right is None:\n",
    "                    self.right = Node(data)\n",
    "                else:\n",
    "                    self.right.insert(data)\n",
    "        else:\n",
    "            self.data = data          \n",
    "\n",
    " "
   ]
  },
  {
   "cell_type": "markdown",
   "metadata": {},
   "source": [
    "#### (해답)(연속)  'Preorder' , 'Inorder' , 'Postorder' 방식으로 순회하는 경우에, 순회되는 노드를 출력하는 기능을 수행하는 함수 ('Class Node' 의 method 가 아닌) 의 파이썬 코드는 다음과 같다."
   ]
  },
  {
   "cell_type": "code",
   "execution_count": 2,
   "metadata": {},
   "outputs": [],
   "source": [
    " # Preorder traversal\n",
    "# Root -> Left ->Right\n",
    "def PreorderTraversal(root):\n",
    "    res = []\n",
    "    if root:\n",
    "        res.append(root.data)\n",
    "        res = res + PreorderTraversal(root.left)\n",
    "        res = res + PreorderTraversal(root.right)\n",
    "    return res\n",
    "\n",
    "# Postorder traversal\n",
    "# Left ->Right -> Root\n",
    "def PostorderTraversal(root):\n",
    "    res = []\n",
    "    if root:\n",
    "        res = PostorderTraversal(root.left)\n",
    "        res = res + PostorderTraversal(root.right)\n",
    "        res.append(root.data)\n",
    "    return res    \n",
    "\n",
    "# Inorder traversal\n",
    "# Left -> Root -> Right\n",
    "def InorderTraversal(root):\n",
    "    res = []\n",
    "    if root:\n",
    "        res = InorderTraversal(root.left)\n",
    "        res.append(root.data)\n",
    "        res = res + InorderTraversal(root.right)\n",
    "    return res    "
   ]
  },
  {
   "cell_type": "markdown",
   "metadata": {},
   "source": [
    "#### (해답)(연속) 상기 'class Node' 를 이용하여, [그림 1]의 이진 트리는 다음과 같이 구성한다. "
   ]
  },
  {
   "cell_type": "code",
   "execution_count": 3,
   "metadata": {},
   "outputs": [],
   "source": [
    "root = Node('a')\n",
    "root.left=Node('b')\n",
    "root.right=Node('k')\n",
    "root.left.left=Node('c')\n",
    "root.left.right=Node('g')\n",
    "root.right.left=Node('l')\n",
    "root.right.right=Node('m')\n",
    "root.left.left.left=Node('d')\n",
    "root.left.left.right=Node('e')\n",
    "root.left.left.right.left=Node('f')\n",
    "root.left.right.left=Node('h')\n",
    "root.left.right.right=Node('j')\n",
    "root.left.right.left.right=Node('i')\n",
    "root.right.left=Node('l')\n",
    "root.right.right=Node('m')\n",
    "root.right.right.left=Node('n')\n",
    "root.right.right.right=Node('o')"
   ]
  },
  {
   "cell_type": "markdown",
   "metadata": {},
   "source": [
    "#### (해답)(연속) 상기 에서 코딩한 'Preorder' 순회 함수 'PreorderTraversal()' , 'Inorder' 순회 함수 'InorderTraversal()' ,  'Postorder' 순회 함수 'PostorderTraversal()' 를 수행한 결과는 아래와 같고, 문제 1(c)의 해답과 같음을 알 수있다."
   ]
  },
  {
   "cell_type": "code",
   "execution_count": 4,
   "metadata": {},
   "outputs": [
    {
     "name": "stdout",
     "output_type": "stream",
     "text": [
      "['a', 'b', 'c', 'd', 'e', 'f', 'g', 'h', 'i', 'j', 'k', 'l', 'm', 'n', 'o']\n",
      "['d', 'c', 'f', 'e', 'b', 'h', 'i', 'g', 'j', 'a', 'l', 'k', 'n', 'm', 'o']\n",
      "['d', 'f', 'e', 'c', 'i', 'h', 'j', 'g', 'b', 'l', 'n', 'o', 'm', 'k', 'a']\n"
     ]
    }
   ],
   "source": [
    "print(PreorderTraversal(root))  # root - Left- Right \n",
    "print(InorderTraversal(root))   # Left-root-Right \n",
    "print(PostorderTraversal(root)) # Left - Right - root "
   ]
  },
  {
   "cell_type": "markdown",
   "metadata": {},
   "source": [
    "### (e)(5). Preorder, Inorder, Postorder  순회의 경우에, 각각 'root-Left-Right', 'Left-root-Right', 'Left-Right-root' 의 순서로 순회한다.  이 경우에, [그림 1]의 트리에서 'root' 는 'a' 이다. [그림 1] 트리에서 Preorder, Inorder, Postorder  순서로 순회했을 때, 결과되는 리스트는  각각,  \"['a'] +  left subtree 순회 결과 list + right subtree 순회 결과 list\" , \"left subtree 순회 결과 list + ['a'] +  right subtree 순회 결과 list\",  \"left subtree 순회 결과 list + right subtree 순회 결과 list+['a'] \" 로 표현됨을 (d)에 구한 'Preorder', 'Inorder', 'Postorder' 순회 함수를 이용하여 보이시오."
   ]
  },
  {
   "cell_type": "markdown",
   "metadata": {},
   "source": [
    "#### (해답) 다음과 같이, (d)에 구한 'Preorder' 순회 함수 'PreorderTraversal()' , 'Inorder' 순회 함수 'InorderTraversal()' ,  'Postorder' 순회 함수 'PostorderTraversal()' 을 이용하여,  Preorder, Inorder, Postorder 순서로 순회했을 때, 결과되는 리스트는 각각, \"['a'] + left subtree 순회 결과 list + right subtree 순회 결과 list\" , \"left subtree 순회 결과 list + ['a'] + right subtree 순회 결과 list\", \"left subtree 순회 결과 list + right subtree 순회 결과 list+['a'] \" 로 표현됨을  확인할 수있다. "
   ]
  },
  {
   "cell_type": "code",
   "execution_count": 5,
   "metadata": {},
   "outputs": [
    {
     "name": "stdout",
     "output_type": "stream",
     "text": [
      "['a', 'b', 'c', 'd', 'e', 'f', 'g', 'h', 'i', 'j', 'k', 'l', 'm', 'n', 'o']\n",
      "['d', 'c', 'f', 'e', 'b', 'h', 'i', 'g', 'j', 'a', 'l', 'k', 'n', 'm', 'o']\n",
      "['d', 'f', 'e', 'c', 'i', 'h', 'j', 'g', 'b', 'l', 'n', 'o', 'm', 'k', 'a']\n"
     ]
    }
   ],
   "source": [
    "print(['a']+PreorderTraversal(root.left)+PreorderTraversal(root.right))\n",
    "print(InorderTraversal(root.left)+['a']+ InorderTraversal(root.right))\n",
    "print(PostorderTraversal(root.left)+PostorderTraversal(root.right)+['a'])"
   ]
  },
  {
   "cell_type": "markdown",
   "metadata": {},
   "source": [
    "### (f)(10).  문제 1(d)에서 제공되는 'Class Node' 를 이용하여 생성한 트리의 깊이(depth)를 구하는 파이썬 함수를 작성하고, 작성된 파이썬 함수를 적용하여 [그림 1] 트리의 깊이가 4임을 확인하시오."
   ]
  },
  {
   "cell_type": "markdown",
   "metadata": {},
   "source": [
    "#### (해답) 다음 파이썬 함수는 문제 1(d)에서 제공한 'Class Node' 를 적용하여 생성한 이진트리의 깊이를 구한다. "
   ]
  },
  {
   "cell_type": "code",
   "execution_count": 6,
   "metadata": {},
   "outputs": [],
   "source": [
    "def Tree_depth(root, length=0):\n",
    "    tree_depth =0   \n",
    "    if root:\n",
    "        length +=1\n",
    "        tree_depth = Tree_depth(root.left, length)        \n",
    "        if tree_depth < Tree_depth(root.right, length):\n",
    "                tree_depth=Tree_depth(root.right, length)\n",
    "    if tree_depth < length - 1:            \n",
    "        tree_depth = length-1\n",
    "        \n",
    "    return tree_depth  "
   ]
  },
  {
   "cell_type": "markdown",
   "metadata": {},
   "source": [
    "#### (해답)문제 1(d)에서 구한  [그림 1]의 트리를 나타내는 'root' 에 대해 상기 이진트리의 깊이를 구하는 파이썬 함수를 적용하여 상기 이진트리 깊이 구하는 함수가 올바르게 동작함을 확인할 수있다."
   ]
  },
  {
   "cell_type": "code",
   "execution_count": 7,
   "metadata": {},
   "outputs": [
    {
     "data": {
      "text/plain": [
       "4"
      ]
     },
     "execution_count": 7,
     "metadata": {},
     "output_type": "execute_result"
    }
   ],
   "source": [
    "Tree_depth(root)"
   ]
  },
  {
   "cell_type": "markdown",
   "metadata": {},
   "source": [
    "### 2(30). 이진 탐색 트리(Binary Search Tree)  는  노드간의 순서가 \" left 자식 노드값 < root 노드 값 < right 자식 노드값 \" 의 순서를 갖도록 정렬된  이진 트리(binary tree) 이다.  예를 들어 [그림 1], [그림 2]의 이진 트리를 이진 탐색  트리로 변경한 것은 각각 [그림  3], [그림 4]와 같다. \n",
    "![Altext](./bst.png)\n",
    "\n",
    "### 트리에서 루트노드(root) 와 단말 노드 (leaf)간의 거리는 루트로부터 해당 단말 노드까지 도달하는 데 거치는 에지들의 총합 갯수를 말한다.  트리에서 깊이(depth)는 루트에서 각 단말노드간의 거리중  가장 큰 값을 말한다.   \n",
    "### 균형 이진 트리(Balanced Binary Tree) 는 루트 노드와 트리내 각 단말 노드까지의 거리들의 차이가 1 이하인 경을 말한다.  [그림 1] 과 [그림 3]의 트리는 균형트리가 아니고, [그림 2]와 [그림 4]의 트리는 균형트리이다. \n",
    "###  이진 탐색 트리를 구축하는 데 있어서 '균형 이진 탐색 트리(balanced binary search tree)' 를 구축하는 것이 추후 탐색 횟수를 줄이는 데 도움이 된다.  주어진 노드 집합들에 대해 구성할 수있는  이진 탐색 트리 들중  균형 이진 탐색 트리가 가장 깊이가 작다.\n",
    "###  문제 1(e)로부터, 깊이 n 인 'full binary tree 의 총 노드 갯수  $V(n)$ 은 $V(n)=2^{n+1} -1$  이므로, 총 노드 갯수 m 개로 부터 구성할 수있는 이진트리들의 깊이중 최소 깊이를 갖는 이진트리는 균형 이진트리이며, 이 때의 최소 깊이는  'log<sub>2</sub><super>(m+1)</super>-1'  보다 큰 최소 정수가 된다. \n",
    "### m 개의 노드값이 주어졌을 때 (예; [그림 1]과 같이 {'a', 'b' , 'c', 'd', 'e', 'f', 'g', 'h', 'i', 'j', 'k', 'l', 'm', 'n', 'o'} 등의 15개 노드값), m 개의 노드값을 갖는 균형 이진 탐색 트리 의 깊이 'n'은 다음과 같이 구한다. \n",
    "###   'n=min{ k >=log<sub>2</sub><super>(m+1)</super>-1 | k ; integer}'  \n",
    "### m 개의 노드값이 주어졌을 때, 상기 문제 1(d)에서 주어진 'Class Node' 를 이용하여 균형 이진 탐색 트리를 구성하는 방법의 하나는 다음과 같다.       \n",
    " 1) 먼저 구성할 균형 이진 탐색 트리의 깊이 'n' 을 구한 후에, 깊이 'n-1' 의 균형 이진 탐색 트리(이 경우 완전 균형 트리임) 구성에  필요한 총노드수 $2^{n} -1$ 를 구한다.  \n",
    " 2) 이후, m 개의 노드값에서 $2^{n} -1$ 개의 노드값을 적절히 뽑아, 깊이 'n-1' 까지의 균형 이진 탐색 트리를 구성한다. \n",
    " 3) m 개의 노드값에서 뽑은 $2^{n} -1$ 개의 노드값을 뺀 나머지 노드값들은 구성된 깊이 'n-1' 의 균형 이진 탐색 트\n",
    "    리의 루트노드의 'insert' 메소드를 이용하여 삽입하면 자동적으로 깊이 'n' 의 균형 이진 탐색 트리가 구성된다.\n",
    "\n",
    "### 예를 들어, 문제 1(d)에서 주어진 파이썬 'Class Node' 를 이용하여  깊이 'n' 인 균형 이진  탐색 트리로 구성하기 위해서는,  먼저 깊이 'n-1' 의 완전 균형 이진 탐색 트리를 구성하기 위한, $2^{n} -1$  개의 노드 값 리스트를 먼저 구한다.  이 리스트뒤에  나머지 노드값 $2^{n+1}-1 - (2^{n}-1)$ 의 리스트를 붙여 만든 리스트의 요소들을 순차적으로 \"Class Node' 을 이용한 루트 노드에 차레로 삽입하면 된다.  예를 들어, 'Class Node' 를 이용하여  구성한 상기 [그림 1]의 이진트리를   'Class Node' 를 이용한 [그림 4]와 같은 균형 이진탐색트리를 구성하기 위해 먼저, [그림 1] 트리의 15개 노드값들을 알파벳순으로 읽어([그림 1]의 경우, 'Inorder' 순회 방법을 사용) 만든 리스트\n",
    " ['a',  'b', 'c', 'd', 'e', 'f', 'g', 'h', 'i', 'j', 'k', 'l', 'm', 'n', 'o'] 에 대해, 깊이가 (n-1) ( 이경우 'n-1'=3-1=2 )인  균형이진탐색트리 구성에 필요한 총노드수 7 (= 2^3-1)개의  노드값 ['h', 'd', 'b', 'f', 'l', 'j', 'n'] 를 먼저 구하고, 이 노드 값들이 먼저 배치되고, 나머지 8개 노드값들이 배치되는 리스트 (예 ; ['h', 'd', 'b', 'f', 'l', 'j', 'n', 'a', 'c', 'e', 'g', 'i', 'k', 'm', 'o'] )를 구한 후에, 이 리스트의 첫 노드값을 갖는 루트 노드를 생성하고 (즉,  root=Node('h') ) , 이후  이 리스트의 값을 순차적으로 이 루트노트에 삽입하면된다. \n",
    "### 즉,    \n",
    "  <pre> \n",
    "   root=Node('h')\n",
    "   root.insert('d') \n",
    "    .... \n",
    "  <code>   "
   ]
  },
  {
   "cell_type": "markdown",
   "metadata": {},
   "source": [
    "### 2(a)(5).  생성된문제 1(d)에서 주어진 파이썬 'Class Node' 를 이용하여 구성한 노드 'm' 개의 트리의 각   'm'   개의 노드값들이 Alphabet 문자열을 갖는다고 한다. 이러한 트리에 대해,  같은 갯수의 노드와 노드값을 갖는 균형 이진 탐색 트리(노드값 순서가 알파벳 순서임)를 구성하고자 한다.  이때, 이 균형 이진 탐색 트리의 깊이는 얼마인가를 알려주는 파이썬 함수를 코딩하고,  상기 [그림 1]의 트리를 [그림 4] 의 균형 이진 탐색트리 로 표현할 때, 이 균형 탐색 트리의 깊이가 3인 것을 앞의 설명을 참조하여, 이를 계산하는 파이썬 함수를 구하고, 이를 이용하여 확인하시오. \n"
   ]
  },
  {
   "cell_type": "markdown",
   "metadata": {},
   "source": [
    "#### (해답) 앞 설명에서, \"총 노드 갯수 m 개로 부터 구성할 수있는 이진트리들의 깊이중 최소 깊이를 갖는 이진트리는 균형 이진트리이며, 이 때의 최소 깊이는  'log<sub>2</sub><super>(m+1)</super>-1'  보다 큰 최소 정수가 된다.\" 는 사실로부터, \"총 노드 갯수 m 개로 부터 구성할 수있는 균형이진탐색트리\"의 깊이를 계산하는 파이썬 함수는 다음과 같다. "
   ]
  },
  {
   "cell_type": "code",
   "execution_count": 8,
   "metadata": {},
   "outputs": [],
   "source": [
    "from math import *\n",
    "def depth_of_BBST(graph):    \n",
    "    m=len(InorderTraversal(graph)) # 이진트리의 총 노드수 계산\n",
    "    return ceil(log2(m+1)-1)  #  'log2(m+1)-1' 보다 큰 최소 정수 계산 "
   ]
  },
  {
   "cell_type": "markdown",
   "metadata": {},
   "source": [
    "#### (해답)(연속) 상기 파이썬 함수를  [그림 1]의 이진트리에 적용한 결과 확인 "
   ]
  },
  {
   "cell_type": "code",
   "execution_count": 9,
   "metadata": {},
   "outputs": [
    {
     "data": {
      "text/plain": [
       "3"
      ]
     },
     "execution_count": 9,
     "metadata": {},
     "output_type": "execute_result"
    }
   ],
   "source": [
    "depth_of_BBST(root)"
   ]
  },
  {
   "cell_type": "markdown",
   "metadata": {},
   "source": [
    "### 2(b)(10)  문제 1(d)에서 주어진 파이썬 'Class Node' 를 이용하여 생성된 트리의 m 개 노드값들을 읽어서, 해당 노드값들을 갖는 균형 이진 탐색트리를 구성하는 데 필요한  (앞에서 설명한 바와 같은)를 노드값 리스트 를  구하는  파이썬 함수를 코딩하고, [그림 1]의 트리에 대해 균형 이진 탐색 트리 구성 리스트를 구해보시오. "
   ]
  },
  {
   "cell_type": "markdown",
   "metadata": {},
   "source": [
    "#### (해답) [그림 1]의 15개 노드값 리스트 ['a',  'b', 'c', 'd', 'e', 'f', 'g', 'h', 'i', 'j', 'k', 'l', 'm', 'n', 'o']  은 \"Inorder\" 순회로 구한 후에, 이에대해 깊이가 2왼쪽 서브트리, 7 (= 2^3-1)개  노드값 ['h', 'd', 'b', 'f', 'l', 'j', 'n'] 를 먼저 구하고, 이 노드 값들이 먼저 배치되고, 나머지 8개 노드값들이 배치되는 리스트 (예 ; ['h', 'd', 'b', 'f', 'l', 'j', 'n', 'a', 'c', 'e', 'g', 'i', 'k', 'm', 'o'] )"
   ]
  },
  {
   "cell_type": "code",
   "execution_count": 10,
   "metadata": {},
   "outputs": [],
   "source": [
    "from math import *\n",
    "\n",
    "def depth_of_BBST(node_list):  \n",
    "# 총노드 갯수 \"m\" 개 의 노드값들을 담는 리스트로부터 구성하는 균형 이진탐색 트리의 깊이 계산 \n",
    "    m=len(node_list)\n",
    "    return ceil(log2(m+1)-1)\n",
    "\n",
    "def num_tree_nodes(depth): # 깊이 \"n\" 인 완전 균형 탐색 트리의 총 노드수 계산 \n",
    "    return 2**(depth+1)-1\n",
    "\n",
    "def Select_from_list(node_list, number): \n",
    "# 정렬된 m개 값을 갖는 리스트에서 깊이 \"n\" 인 균형 탐색 트리의 상단 완전 균형 탐색 서브 (깊이 \"n-1\") \n",
    "# 를 구성하는 (2^n -1) 개의 요소를 갖는 리스트 선택     \n",
    "    bst=[]\n",
    "    start=0\n",
    "    if number< 1:\n",
    "        return bst\n",
    "    end= len(node_list)-1\n",
    "    middle=(end-start)//2 \n",
    "    bst.append(node_list[middle]) \n",
    "    left=node_list[start:middle]    \n",
    "    right=node_list[middle+1:end+1]    \n",
    "    left_number = number//2\n",
    "    if number%2==0:\n",
    "        right_number=number//2 -1\n",
    "    else: \n",
    "        right_number=number//2 \n",
    "    \n",
    "    bst+=Select_from_list(left, left_number)    \n",
    "    bst+=Select_from_list(right, right_number)\n",
    "    if len(bst)==number:\n",
    "        return bst\n",
    "    return bst\n",
    "\n",
    "def resort_for_BBST(graph):\n",
    "    nodes=PostorderTraversal(root)\n",
    "    number=num_tree_nodes(depth_of_BBST(nodes)-1)\n",
    "    nodes.sort()\n",
    "    sel=Select_from_list(nodes, number)\n",
    "    remains=[ i for i in nodes if i not in sel]\n",
    "    return sel+remains"
   ]
  },
  {
   "cell_type": "markdown",
   "metadata": {},
   "source": [
    "#### (해답)(연속)  이제 [그림 1]의 트리에 대해 균형 이진 탐색 트리 구성 리스트를 구해보면 다음과 같다."
   ]
  },
  {
   "cell_type": "code",
   "execution_count": 11,
   "metadata": {},
   "outputs": [
    {
     "data": {
      "text/plain": [
       "['h', 'd', 'b', 'f', 'l', 'j', 'n', 'a', 'c', 'e', 'g', 'i', 'k', 'm', 'o']"
      ]
     },
     "execution_count": 11,
     "metadata": {},
     "output_type": "execute_result"
    }
   ],
   "source": [
    "resort_for_BBST(root)"
   ]
  },
  {
   "cell_type": "markdown",
   "metadata": {},
   "source": [
    "#### (해답)(추가 해설) 다음은 함수 \"resort_for_BBST()\"  내에서의 각 오퍼레이션 과정을 보여준다."
   ]
  },
  {
   "cell_type": "code",
   "execution_count": 12,
   "metadata": {},
   "outputs": [
    {
     "name": "stdout",
     "output_type": "stream",
     "text": [
      "7\n"
     ]
    }
   ],
   "source": [
    "nodes=PostorderTraversal(root)\n",
    "number=num_tree_nodes(depth_of_BBST(nodes)-1)\n",
    "print(number)"
   ]
  },
  {
   "cell_type": "code",
   "execution_count": 13,
   "metadata": {},
   "outputs": [
    {
     "data": {
      "text/plain": [
       "['a', 'b', 'c', 'd', 'e', 'f', 'g', 'h', 'i', 'j', 'k', 'l', 'm', 'n', 'o']"
      ]
     },
     "execution_count": 13,
     "metadata": {},
     "output_type": "execute_result"
    }
   ],
   "source": [
    "nodes.sort()\n",
    "nodes"
   ]
  },
  {
   "cell_type": "code",
   "execution_count": 14,
   "metadata": {},
   "outputs": [],
   "source": [
    "sel=Select_from_list(nodes, number)"
   ]
  },
  {
   "cell_type": "code",
   "execution_count": 15,
   "metadata": {},
   "outputs": [
    {
     "data": {
      "text/plain": [
       "['a', 'c', 'e', 'g', 'i', 'k', 'm', 'o']"
      ]
     },
     "execution_count": 15,
     "metadata": {},
     "output_type": "execute_result"
    }
   ],
   "source": [
    "remains=[ i for i in nodes if i not in sel]\n",
    "remains"
   ]
  },
  {
   "cell_type": "code",
   "execution_count": 16,
   "metadata": {},
   "outputs": [
    {
     "data": {
      "text/plain": [
       "['h', 'd', 'b', 'f', 'l', 'j', 'n', 'a', 'c', 'e', 'g', 'i', 'k', 'm', 'o']"
      ]
     },
     "execution_count": 16,
     "metadata": {},
     "output_type": "execute_result"
    }
   ],
   "source": [
    "resort_for_BST= sel+remains\n",
    "resort_for_BST"
   ]
  },
  {
   "cell_type": "markdown",
   "metadata": {},
   "source": [
    "### 2(c)(10). 상기 문제 2(b)에서 구한 노드값 리스트를 이용하여, 문제 1(d)에서 주어진 'Class Node' 를 이용하여 균형 이진 탐색 트리를 생성하는 파이썬 함수를 프로그래밍하고, 이를 이용하여 [그림 1]의 이진 트리에 대한 균형 이진 탐색 트리를 생성해보시오."
   ]
  },
  {
   "cell_type": "markdown",
   "metadata": {},
   "source": [
    "#### (해답) 상기 문제 2(b)에서 구한 노드값 리스트를 이용하여, 문제 1(d)에서 주어진 'Class Node' 를 이용하여 균형 이진 탐색 트리를 생성하는 파이썬 함수는 다음과 같다. "
   ]
  },
  {
   "cell_type": "code",
   "execution_count": 17,
   "metadata": {},
   "outputs": [],
   "source": [
    "def To_BST(node_list): #node_list 는 균형 이진 탐색 트리를 구성하기 위해 이미 정리된 리스트임  \n",
    "    root=Node(node_list[0])\n",
    "    for i in node_list[1:]:\n",
    "        root.insert(i)\n",
    "    return root\n",
    "        "
   ]
  },
  {
   "cell_type": "code",
   "execution_count": 18,
   "metadata": {},
   "outputs": [],
   "source": [
    "root1=To_BST(resort_for_BST)\n"
   ]
  },
  {
   "cell_type": "markdown",
   "metadata": {},
   "source": [
    "### 2(d)(5).  문제 2(c)에서  구성한 균형 이진 탐색 트리에 대해, 문제 1(d)에서 구한  'Inorder' 순회 함수를 적용한 결과가 \n",
    "### ['a', 'b', 'c', 'd', 'e', 'f', 'g', 'h', 'i', 'j', 'k', 'l', 'm', 'n', 'o'] 로 출력됨을 확인하시오. "
   ]
  },
  {
   "cell_type": "markdown",
   "metadata": {},
   "source": [
    "#### (해답) 문제 2(c)에서 구성한 균형 이진 탐색 트리에 대해, 문제 1(d)에서 구한 'Inorder' 순회 함수를 적용한 결과가 ['a', 'b', 'c', 'd', 'e', 'f', 'g', 'h', 'i', 'j', 'k', 'l', 'm', 'n', 'o'] 로 출력됨을 확인하기 위해, \"Inorder\" 순회 적용하여 그 결과가 같음을 다음과 같이 확인할 수있다."
   ]
  },
  {
   "cell_type": "code",
   "execution_count": 19,
   "metadata": {},
   "outputs": [
    {
     "data": {
      "text/plain": [
       "['a', 'b', 'c', 'd', 'e', 'f', 'g', 'h', 'i', 'j', 'k', 'l', 'm', 'n', 'o']"
      ]
     },
     "execution_count": 19,
     "metadata": {},
     "output_type": "execute_result"
    }
   ],
   "source": [
    "InorderTraversal(root1)"
   ]
  },
  {
   "cell_type": "markdown",
   "metadata": {},
   "source": [
    "#### (해답)(연속) 다음과 같이 앞에서 구성한 균형 이진 탐색 트리의 깊이가 3임을 확인할 수있다."
   ]
  },
  {
   "cell_type": "code",
   "execution_count": 20,
   "metadata": {},
   "outputs": [
    {
     "data": {
      "text/plain": [
       "3"
      ]
     },
     "execution_count": 20,
     "metadata": {},
     "output_type": "execute_result"
    }
   ],
   "source": [
    "Tree_depth(root1)"
   ]
  },
  {
   "cell_type": "markdown",
   "metadata": {},
   "source": [
    "### 3(40). 그래프에서 경로를 찾고, 또한  오일러 경로 (그래프의 모든 에지를 한번만 통과하는 경로)를 찾는 문제를 살펴보고자 한다. \n",
    "![alt text](./Euler_graph_no.png \"Graph\")\n",
    "### 상기 [그림 5]의  그래프를 표현하는 방법으로는 adjacency list, adjacency matrix 등이 있다. 본 시험에서는 adjacency list 를 사용하며,  파이썬에서는 adjacency list를 dictionary 로 표현한 것이 유용하다.  \n",
    "### (예 ; [그림 5] 그래프 경우)\n",
    "<code>\n",
    "graph = {'S': ['B', 'L', 'N'],\n",
    "       'B': ['F', 'L', 'N', 'S'],\n",
    "       'L': ['B', 'E',  'N', 'S'],\n",
    "       'N': ['B', 'F', 'L', 'S'],\n",
    "       'E': ['F', 'L'],\n",
    "       'F': ['B', 'E',   'N'] }.\n",
    "</code>\n",
    "\n",
    "### 그래프의 에지는 에지를 구성하는 2개의 노드(vertex) 쌍 의 튜플(tuple) 로 표현할 수있다. 즉, 상기 [그림 5]에서 노드 'S' 와 노드 'N' 을 연결하는 에지는 ('S', 'N') 으로 표현한다.  이때, 노드쌍 튜플의 첫번째  노드 'S'들 시작노드 , 두번째 노드 'N' 을 종단 노드로 간주하는 경우에 이 에지를 방향성 에지라 하며, 이를 구분하지 않는 경우를 비방향성 에지라 한다. 방향성 에지에서는 ('S', 'N') 와 ('N', 'S' ) 는 다른 에지이나, 비방향성 에지에서는 둘다 같은 에지이다."
   ]
  },
  {
   "cell_type": "markdown",
   "metadata": {},
   "source": [
    "### 3(a)(10) 상기 dictionary 형태의 adjacency list  로 기술되는 그래프에서 주어진 시작 노드와 종단 노드간의 모든 경로를 찾는 파이썬 함수를 구하고, 시작노드 'S' 에서 종단 노드 'F'  로 끝나는 모든 경로를 구해보시오. "
   ]
  },
  {
   "cell_type": "markdown",
   "metadata": {},
   "source": [
    "#### (해답) 실습에 배운 모든 경로 찾기 파이썬 함수는 다음과 같다. "
   ]
  },
  {
   "cell_type": "code",
   "execution_count": 21,
   "metadata": {},
   "outputs": [],
   "source": [
    "def find_all_paths(graph, start, end, path=[]):\n",
    "        path = path + [start]\n",
    "        if start == end:\n",
    "            return [path]\n",
    "        if not start in graph:\n",
    "            return []\n",
    "        paths = []\n",
    "        for node in graph[start]:\n",
    "            if node not in path:\n",
    "                newpaths = find_all_paths(graph, node, end, path)\n",
    "                for newpath in newpaths:\n",
    "                    paths.append(newpath)\n",
    "        return paths"
   ]
  },
  {
   "cell_type": "markdown",
   "metadata": {},
   "source": [
    "#### (해답)(연속) 상기 [그림 5] 에서 시작노드 'S' 에서 종단 노드 'F' 로 끝나는 모든 경로는 다음과 같이 구할 수있다."
   ]
  },
  {
   "cell_type": "code",
   "execution_count": 22,
   "metadata": {},
   "outputs": [
    {
     "data": {
      "text/plain": [
       "[['S', 'B', 'F'],\n",
       " ['S', 'B', 'L', 'E', 'F'],\n",
       " ['S', 'B', 'L', 'N', 'F'],\n",
       " ['S', 'B', 'N', 'F'],\n",
       " ['S', 'B', 'N', 'L', 'E', 'F'],\n",
       " ['S', 'L', 'B', 'F'],\n",
       " ['S', 'L', 'B', 'N', 'F'],\n",
       " ['S', 'L', 'E', 'F'],\n",
       " ['S', 'L', 'N', 'B', 'F'],\n",
       " ['S', 'L', 'N', 'F'],\n",
       " ['S', 'N', 'B', 'F'],\n",
       " ['S', 'N', 'B', 'L', 'E', 'F'],\n",
       " ['S', 'N', 'F'],\n",
       " ['S', 'N', 'L', 'B', 'F'],\n",
       " ['S', 'N', 'L', 'E', 'F']]"
      ]
     },
     "execution_count": 22,
     "metadata": {},
     "output_type": "execute_result"
    }
   ],
   "source": [
    "graph5 = {'S': ['B', 'L', 'N'],\n",
    "       'B': ['F', 'L', 'N', 'S'],\n",
    "       'L': ['B', 'E',  'N', 'S'],\n",
    "       'N': ['B', 'F', 'L', 'S'],\n",
    "       'E': ['F', 'L'],\n",
    "       'F': ['B', 'E',   'N'] }\n",
    "\n",
    "find_all_paths(graph5, 'S', 'F')"
   ]
  },
  {
   "cell_type": "markdown",
   "metadata": {},
   "source": [
    "### 3(b)(10). 상기 dictionary 형태의 adjacency list  로 기술되는 그래프에서,  모든 비방향성 에지들의 집합을 구하는 파이썬 함수를 코딩하고, 이를 이용하여 [그림 5] 그래프의 모든 비방향성 에지 집합을 구하시오. (같은 에지의 경우, 시작 노드의 Alphbet 순서가 앞선 것만을 취하시오. )\n",
    "### 참고, \n",
    "![Altext](./code.png)"
   ]
  },
  {
   "cell_type": "markdown",
   "metadata": {},
   "source": [
    "#### (해답) 상기 dictionary 형태의 adjacency list 로 기술되는 그래프에서, 모든 비방향성 에지들의 집합을 구하는 파이썬 함수는 다음과 같다."
   ]
  },
  {
   "cell_type": "code",
   "execution_count": 23,
   "metadata": {},
   "outputs": [],
   "source": [
    "def Non_direction_edges(graph):\n",
    "    edges=set()\n",
    "    graph_key_sorted_x = sorted(graph.keys())\n",
    "    for key in graph_key_sorted_x:\n",
    "        for value in graph[key]:\n",
    "            if (value, key) not in edges:\n",
    "                edges.add((key,value))\n",
    "\n",
    "    return edges         "
   ]
  },
  {
   "cell_type": "markdown",
   "metadata": {},
   "source": [
    "#### (해답)(연속) 상기 파이썬 함수를 이용하려 [그림 5] 그래프의 모든 비방향성 에지 집합은 다음과 같다\n",
    "##### (같은 에지의 경우, 시작 노드의 Alphbet 순서가 앞선 것만을 취하였음)."
   ]
  },
  {
   "cell_type": "code",
   "execution_count": 24,
   "metadata": {},
   "outputs": [
    {
     "data": {
      "text/plain": [
       "{('B', 'F'),\n",
       " ('B', 'L'),\n",
       " ('B', 'N'),\n",
       " ('B', 'S'),\n",
       " ('E', 'F'),\n",
       " ('E', 'L'),\n",
       " ('F', 'N'),\n",
       " ('L', 'N'),\n",
       " ('L', 'S'),\n",
       " ('N', 'S')}"
      ]
     },
     "execution_count": 24,
     "metadata": {},
     "output_type": "execute_result"
    }
   ],
   "source": [
    "Non_direction_edges(graph5)"
   ]
  },
  {
   "cell_type": "markdown",
   "metadata": {},
   "source": [
    "### 3(c)(20).   홀수점이 2개인 그래프에서 홀수점에서 시작해서 그래프의 모든 에지를 한번만 거쳐다른 홀수점으로 끝나는 경로인 오일러 경로를 구하는 파이썬 함수를 코딩하고, 이를 이용하여 상기 [그림 5] 그래프에 대해 노드 'S'에서 시작하여 노드 'F' 로 끝나는 오일러 경로를 구해보시오."
   ]
  },
  {
   "cell_type": "markdown",
   "metadata": {},
   "source": [
    "### (해답) 오일러 경로는 다음과 같은절차로 구한다.\n",
    "#### 1) 주어진 그래프에서 홀수점의 갯수를 찾는다. 홀수점이  2개가 아니면 오일러 경로는 없다. 홀수점이 2개인 경우에 2개 중 하나는 시작노드로 다른 하나는 종단노드로 구성한다. 이후 다음의 과정을 거친다. \n",
    "#### 2) 주어진 그래프에서 시작노드에서 시작하여 종단노드까지의 시작-종단 경로(백본경로)를 찾는다.\n",
    "#### 3) 그래프에서  이 경로 또는 순환경로(circuit)에 있는 에지들은 제거한 남은 그래프를 만든다.\n",
    "#### 4) 남은 그래프에 대해 시작-종단 백본 경로에 있는 각 노드에 대해 순환 경로(circuit)가 있으면  찾는다. \n",
    "#### 5) 남은 그래프에서 남은 에지가 없어질 때까지  3)과 4)의 과정을 되풀이한다. \n",
    "#### 6) 이때, 오일러 경로는 백본 경로의 시작 노드. 시작노드에서의 순환 경로들, 백본 시작노드에서 백본의 다음 중간 노드까지 경로, 이 백본 중간노드들에서의 순환 경로들,  백본 중간노드에서 백본 다음 중간노드까지의 경로, 이 백본 중간노드에서의 순환경로, ... , 백본 중간노드에서 백본 종단노드까지의 경로,  종단노드에서의 순환 경로들 로 구성된다.  "
   ]
  },
  {
   "cell_type": "markdown",
   "metadata": {},
   "source": [
    "### 1) 그래프에서 홀수점 찾기 "
   ]
  },
  {
   "cell_type": "code",
   "execution_count": 25,
   "metadata": {},
   "outputs": [],
   "source": [
    "def find_odd_points(graph):\n",
    "    odds=[]\n",
    "    for i in graph:\n",
    "        if len(graph[i])%2 != 0:\n",
    "            odds.append(i)\n",
    "    return odds        "
   ]
  },
  {
   "cell_type": "markdown",
   "metadata": {},
   "source": [
    "#### 상기 홀수점 찾는 함수가 제대로 동작하는 지를 점검한다.  "
   ]
  },
  {
   "cell_type": "code",
   "execution_count": 26,
   "metadata": {},
   "outputs": [],
   "source": [
    "fig5_graph = {'S': ['B', 'L', 'N'],\n",
    "       'B': ['F', 'L', 'N', 'S'],\n",
    "       'L': ['B', 'E',  'N', 'S'],\n",
    "       'N': ['B', 'F', 'L', 'S'],\n",
    "       'E': ['F', 'L'],\n",
    "       'F': ['B', 'E', 'N'] }"
   ]
  },
  {
   "cell_type": "code",
   "execution_count": 27,
   "metadata": {},
   "outputs": [
    {
     "name": "stdout",
     "output_type": "stream",
     "text": [
      "start_odd_point= S\n",
      "end_odd_point= F\n"
     ]
    }
   ],
   "source": [
    "odds=find_odd_points(fig5_graph)\n",
    "start_odd_point = odds[0]\n",
    "end_odd_point = odds[1]\n",
    "print(\"start_odd_point=\", start_odd_point)\n",
    "print(\"end_odd_point=\", end_odd_point)"
   ]
  },
  {
   "cell_type": "markdown",
   "metadata": {},
   "source": [
    "### 2) 주어진 그래프에서 시작노드에서 시작하여 종단노드까지의 시작-종단 경로(백본경로) 찾기."
   ]
  },
  {
   "cell_type": "code",
   "execution_count": 28,
   "metadata": {},
   "outputs": [],
   "source": [
    "def find_path(graph, start, end, path=[]):\n",
    "        path = path + [start]\n",
    "        \n",
    "        if start == end:\n",
    "            return path\n",
    "        if not start in graph:\n",
    "            return None\n",
    "        for node in graph[start]:\n",
    "            for comp1 in node:\n",
    "                if comp1 not in path:                    \n",
    "                    newpath = find_path(graph, comp1, end, path)\n",
    "                    if newpath: return newpath\n",
    "        return None "
   ]
  },
  {
   "cell_type": "code",
   "execution_count": 29,
   "metadata": {},
   "outputs": [
    {
     "name": "stdout",
     "output_type": "stream",
     "text": [
      "odds[0]= S\n",
      "odds[1]= F\n",
      "['S', 'B', 'F']\n"
     ]
    }
   ],
   "source": [
    "odds=find_odd_points(fig5_graph)\n",
    "print(\"odds[0]=\", odds[0])\n",
    "print(\"odds[1]=\", odds[1])\n",
    "backbone_path=find_path(fig5_graph, odds[0], odds[1])\n",
    "print(backbone_path)    "
   ]
  },
  {
   "cell_type": "markdown",
   "metadata": {},
   "source": [
    "### 3) 그래프에서  경로 또는 순환경로(circuit)에 있는 에지들은 제거한 남은 그래프 생성하기"
   ]
  },
  {
   "cell_type": "code",
   "execution_count": 30,
   "metadata": {},
   "outputs": [],
   "source": [
    "def remove_path_from_graph(graph, path):\n",
    "    if len(path) < 2:\n",
    "        return graph\n",
    "    for i in range(len(path)-1):       \n",
    "        if path[i+1] in graph[path[i]]:\n",
    "                graph[path[i]].remove(path[i+1])\n",
    "        if path[i] in graph[path[i+1]]:\n",
    "                graph[path[i+1]].remove(path[i])\n",
    "                \n",
    "    return graph            "
   ]
  },
  {
   "cell_type": "code",
   "execution_count": 31,
   "metadata": {
    "scrolled": true
   },
   "outputs": [
    {
     "name": "stdout",
     "output_type": "stream",
     "text": [
      "odds[0]= S\n",
      "odds[1]= F\n",
      "Backbone path= ['S', 'B', 'F']\n",
      "Figure_6 graph= {'S': ['L', 'N'], 'B': ['L', 'N'], 'L': ['B', 'E', 'N', 'S'], 'N': ['B', 'F', 'L', 'S'], 'E': ['F', 'L'], 'F': ['E', 'N']}\n"
     ]
    }
   ],
   "source": [
    "odds=find_odd_points(fig5_graph)\n",
    "print(\"odds[0]=\", odds[0])\n",
    "print(\"odds[1]=\", odds[1])\n",
    "backbone_path=find_path(fig5_graph, odds[0], odds[1])\n",
    "print(\"Backbone path=\", backbone_path)    \n",
    "fig6_graph=remove_path_from_graph(fig5_graph, backbone_path)\n",
    "print(\"Figure_6 graph=\", fig6_graph)"
   ]
  },
  {
   "cell_type": "markdown",
   "metadata": {},
   "source": [
    "상기 결과는 [그림 5] 그래프에서 백본 경로 ['S', 'B', 'F'] 가 제거된, 다음 [그림 6] 그래프 표현이다\n",
    "![alt text](./graph_no_backbone.png)"
   ]
  },
  {
   "cell_type": "markdown",
   "metadata": {},
   "source": [
    "#### 4) 그래프의 노드에 대해 순환 경로(circuit)가 있으면  찾기\n"
   ]
  },
  {
   "cell_type": "code",
   "execution_count": 32,
   "metadata": {},
   "outputs": [],
   "source": [
    "def find_circuit(graph, start, end, circuit=[]):\n",
    "        circuit = circuit+ [start]\n",
    "        if len(circuit) > 3 and start == end:\n",
    "#        ('S', 'L', 'S' ) 같은 경우를 배제하기 위해, \"len(circuit) > 3 \" 사용\n",
    "           return circuit\n",
    "        if not start in graph:\n",
    "            return None\n",
    "        for node in graph[start]:\n",
    "            for comp1 in node:\n",
    "                if comp1 not in circuit or (len(circuit) >2 and (comp1==end)):\n",
    "                    newcircuit = find_circuit(graph, comp1, end, circuit)\n",
    "                    if newcircuit: return newcircuit\n",
    "        return None "
   ]
  },
  {
   "cell_type": "code",
   "execution_count": 33,
   "metadata": {},
   "outputs": [
    {
     "name": "stdout",
     "output_type": "stream",
     "text": [
      "{'S': ['L', 'N'], 'B': ['L', 'N'], 'L': ['B', 'E', 'N', 'S'], 'N': ['B', 'F', 'L', 'S'], 'E': ['F', 'L'], 'F': ['E', 'N']}\n",
      "Circuit at 'S'= ['S', 'L', 'B', 'N', 'S']\n"
     ]
    }
   ],
   "source": [
    "print(fig6_graph)\n",
    "circuit_s=find_circuit(fig6_graph, 'S', 'S')\n",
    "print(\"Circuit at 'S'=\", circuit_s)"
   ]
  },
  {
   "cell_type": "markdown",
   "metadata": {},
   "source": [
    "상기 출력된 circuit ['S', 'L', 'B', 'N', 'S'] 는 다음 [그림 7]의 빨간색 회로 부분이다.\n",
    "![Altext](./circuit_graph_no_backbone.png)\n",
    "\n",
    "[그림 7]에서 빨간색 부분을 제거하면 다음과 [그림 8]의 그래프이며, 이 그래프의 표현은 \n",
    "{S': [], 'B': [], 'L': ['E', 'N'], 'N': ['F', 'L'], 'E': ['F', 'L'], 'F': ['E', 'N']}\n",
    "![Altext](./graph_circuit_removed.png) 이고, 이 그래프 표현은 다음과 같이 구한다,  "
   ]
  },
  {
   "cell_type": "code",
   "execution_count": 34,
   "metadata": {},
   "outputs": [
    {
     "name": "stdout",
     "output_type": "stream",
     "text": [
      "{'S': [], 'B': [], 'L': ['E', 'N'], 'N': ['F', 'L'], 'E': ['F', 'L'], 'F': ['E', 'N']}\n"
     ]
    }
   ],
   "source": [
    "fig8_graph=remove_path_from_graph(fig6_graph, circuit_s)\n",
    "print(fig8_graph)\n"
   ]
  },
  {
   "cell_type": "markdown",
   "metadata": {},
   "source": [
    "여기서 계속, 남아 있는 그래프, [그림 8] 에서 순회 경로를 찾아 보면  다음과 같다. "
   ]
  },
  {
   "cell_type": "code",
   "execution_count": 35,
   "metadata": {},
   "outputs": [
    {
     "name": "stdout",
     "output_type": "stream",
     "text": [
      "Circuit at 'F'= ['F', 'E', 'L', 'N', 'F']\n"
     ]
    }
   ],
   "source": [
    "circuit_f=find_circuit(fig8_graph, 'F', 'F')\n",
    "print(\"Circuit at 'F'=\", circuit_f)"
   ]
  },
  {
   "cell_type": "markdown",
   "metadata": {},
   "source": [
    "#### 이제, 이상 각 구현된 함수들을 이용하여 오일러 경로 찾기 함수를 구현한 결과는 다음과 같다. "
   ]
  },
  {
   "cell_type": "code",
   "execution_count": 36,
   "metadata": {},
   "outputs": [],
   "source": [
    "def find_Euler_path(graph):\n",
    "    circuit=[]\n",
    "    add_circuit=[]\n",
    "    path=[]\n",
    "    Euler_path=[]\n",
    "    temp=True\n",
    "    odds=find_odd_points(graph)\n",
    "    print(\"odds=\", odds) \n",
    "    if len(odds)!= 2:        \n",
    "        print(\"No Euler path Exists\")\n",
    "        return\n",
    "        \n",
    "    Euler_path=find_path(graph, odds[0], odds[1])\n",
    "    print(\"Backbone Path\", Euler_path) \n",
    "    \n",
    "    graph=remove_path_from_graph(graph, Euler_path)\n",
    "    \n",
    "    path = Euler_path.copy()\n",
    "    \n",
    "    for i in range(len(path)):\n",
    "        while temp==True:\n",
    "            add_circuit=find_circuit(graph, path[i], path[i]) \n",
    "\n",
    "            if add_circuit: \n",
    "                if len(circuit)>1 and circuit[-1]==add_circuit[0]:\n",
    "                    circuit=circuit[0:-1]+add_circuit\n",
    "                else:    \n",
    "                    circuit=circuit+add_circuit\n",
    "                graph=remove_path_from_graph(graph, add_circuit)\n",
    "                temp=True\n",
    "            else:\n",
    "                temp=False\n",
    "        if circuit:\n",
    "            Euler_path[i]=circuit \n",
    "        circuit=[] \n",
    "        temp=True\n",
    "    return Euler_path    "
   ]
  },
  {
   "cell_type": "code",
   "execution_count": 37,
   "metadata": {},
   "outputs": [],
   "source": [
    "fig5_graph = {'S': ['B', 'L', 'N'],\n",
    "       'B': ['F', 'L', 'N' , 'S'],\n",
    "       'L': ['B', 'E',  'N', 'S'],\n",
    "       'N': ['B', 'F', 'L', 'S'],\n",
    "       'E': ['F', 'L'],\n",
    "       'F': ['B', 'E', 'N'] }"
   ]
  },
  {
   "cell_type": "code",
   "execution_count": 38,
   "metadata": {},
   "outputs": [
    {
     "name": "stdout",
     "output_type": "stream",
     "text": [
      "odds= ['S', 'F']\n",
      "Backbone Path ['S', 'B', 'F']\n"
     ]
    },
    {
     "data": {
      "text/plain": [
       "[['S', 'L', 'B', 'N', 'S'], 'B', ['F', 'E', 'L', 'N', 'F']]"
      ]
     },
     "execution_count": 38,
     "metadata": {},
     "output_type": "execute_result"
    }
   ],
   "source": [
    "find_Euler_path(fig5_graph)"
   ]
  },
  {
   "cell_type": "markdown",
   "metadata": {},
   "source": [
    "상기 결과 출력값은 홀수점 'S'에서 시작하여  'B', 'F' 순으로 백본 경로를 진행할 때, 각 백본 경로의 tlwkr 노드점 'S' 에서의 순환 경로 ['S', 'L', 'B', 'N', 'S'], 백본 경로의 중간노드, 'B', 백본 경로의 종단노드'F'에서의 순환 경로 ['F', 'E', 'L', 'N', 'F'] 로 구성된 오일러 경로를 나타낸다. \n",
    "![Altext](./resulting_Euler_path_.png)"
   ]
  },
  {
   "cell_type": "markdown",
   "metadata": {},
   "source": [
    "####(해답)(추가연습)  다음 [그림 10]  에 대해, 오일러 경로를 찾는 연습을 추가적으로 해보자. \n",
    "![Altext](./fig10.png)"
   ]
  },
  {
   "cell_type": "code",
   "execution_count": 39,
   "metadata": {},
   "outputs": [],
   "source": [
    "fig10_graph = {\n",
    "       'B': ['E', 'F', 'L', 'N' , 'S'],\n",
    "       'E': ['B', 'F', 'L', 'S'],\n",
    "       'F': ['B', 'E', 'L'],\n",
    "       'L': ['B', 'E', 'F', 'S'],\n",
    "       'N': ['B', 'S'],\n",
    "       'S': ['B', 'E', 'L', 'N'] }\n",
    "       \n",
    "       "
   ]
  },
  {
   "cell_type": "code",
   "execution_count": 40,
   "metadata": {},
   "outputs": [
    {
     "name": "stdout",
     "output_type": "stream",
     "text": [
      "odds= ['B', 'F']\n",
      "Backbone Path ['B', 'E', 'F']\n"
     ]
    },
    {
     "data": {
      "text/plain": [
       "[['B', 'F', 'L', 'B', 'N', 'S', 'B'], ['E', 'L', 'S', 'E'], 'F']"
      ]
     },
     "execution_count": 40,
     "metadata": {},
     "output_type": "execute_result"
    }
   ],
   "source": [
    "find_Euler_path(fig10_graph)"
   ]
  },
  {
   "cell_type": "markdown",
   "metadata": {},
   "source": [
    "![Altext](./fig11.png)"
   ]
  }
 ],
 "metadata": {
  "kernelspec": {
   "display_name": "Python 3 (ipykernel)",
   "language": "python",
   "name": "python3"
  },
  "language_info": {
   "codemirror_mode": {
    "name": "ipython",
    "version": 3
   },
   "file_extension": ".py",
   "mimetype": "text/x-python",
   "name": "python",
   "nbconvert_exporter": "python",
   "pygments_lexer": "ipython3",
   "version": "3.7.3"
  }
 },
 "nbformat": 4,
 "nbformat_minor": 2
}
