{
 "cells": [
  {
   "cell_type": "markdown",
   "metadata": {},
   "source": [
    "## 실습 1. 한글 문자열에 대해,  역문자열을 제공하여 주는 함수를 재귀적으로 구현해보시오.  "
   ]
  },
  {
   "cell_type": "markdown",
   "metadata": {},
   "source": [
    "* 입력 예시\n",
    "\n",
    "안녕하세요\n",
    "\n",
    "* 출력 예시\n",
    "\n",
    "요세하녕안\n",
    "\n",
    "* 출력 설명\n",
    "\n",
    "안녕하세요를 거꾸로 배열하여 출력한 것입니다. 이를 역문자열이라고 합니다."
   ]
  },
  {
   "cell_type": "code",
   "execution_count": 1,
   "metadata": {},
   "outputs": [],
   "source": [
    "def reverse_korean(string):\n",
    "    #print(string)\n",
    "    if len(string) == 0:\n",
    "        return string\n",
    "    else:\n",
    "        return reverse_korean(string[1:]) + string[0]"
   ]
  },
  {
   "cell_type": "code",
   "execution_count": 2,
   "metadata": {},
   "outputs": [
    {
     "name": "stdout",
     "output_type": "stream",
     "text": [
      "요세하녕안\n"
     ]
    }
   ],
   "source": [
    "reverseme = '안녕하세요'\n",
    "print(reverse_korean(reverseme))"
   ]
  },
  {
   "cell_type": "markdown",
   "metadata": {},
   "source": [
    "## 재귀적으로 정의되는 집합 및 구조"
   ]
  },
  {
   "cell_type": "markdown",
   "metadata": {},
   "source": [
    "##  실습 2.  정수의 부분 집합 $X \\subseteq Z $ 이 다음과 같이 재귀적으로 정의된다. \n",
    "####  B(Basic Step).  $4 \\in X. $\n",
    "####  R1(Recursive step 1).   If $ x \\in X$, then $x-12 \\in X.$\n",
    "####  R2(Recursive step 1).    If $ x \\in X$, then $x^2 \\in X.$\n",
    "\n",
    "#### 집합 X 를 생성하는 알고리즘을 재귀적으로 파이썬으로 작성 하고, 집합 $X$ 의 모든 원소들이 4 로 나누어진다는 것을 증명하고자 한다.  "
   ]
  },
  {
   "cell_type": "markdown",
   "metadata": {},
   "source": [
    "### 2(a).  원소 4를 포함하는 집합  X 를 생성하는  파이썬 코드는? "
   ]
  },
  {
   "cell_type": "code",
   "execution_count": 3,
   "metadata": {},
   "outputs": [
    {
     "data": {
      "text/plain": [
       "{4}"
      ]
     },
     "execution_count": 3,
     "metadata": {},
     "output_type": "execute_result"
    }
   ],
   "source": [
    "X=set([4])\n",
    "X"
   ]
  },
  {
   "cell_type": "markdown",
   "metadata": {},
   "source": [
    "### 2(b). 다음을 만족하는 파이썬 함수 Set4(n)을 작성하시오.\n",
    "###  If $n=0$, then 원소 4 만을 포함하는 집합 X 를 복귀. \n",
    "###  If $n $ is an integer and $ n \\gt 0 $,  then Set4(n-1) 이 복귀하는 집합 X 의 모든 원소에 대해 상기 Recursive 1 및 Recursive 2 를 적용하여, 그 결과를 원소로 추가하여 확대한 집합 X 를 복귀 .\n",
    "\n",
    "### 예를 들어, Set4(0) 은 X={4} 를 복귀. \n",
    "### Set4(1)는 4-12=-8, 4*4=16 를 포함한 집합 X ={-8,4,16} 를 복귀.\n",
    "### Set4(2)는 4-12=-8, 4*4=16, -8-12=-20, (-8)*(-8)=64, 16-12=4, 16*16=256 를 포함한 집합 X ={-20, -8,4,16, 64, 256} 를 복귀.\n"
   ]
  },
  {
   "cell_type": "code",
   "execution_count": 4,
   "metadata": {},
   "outputs": [],
   "source": [
    "def Set4(n):\n",
    "    if n==0:\n",
    "        set_A=set()\n",
    "        set_A.add(4)\n",
    "        return set_A\n",
    "    set_A = Set4(n-1)\n",
    "    tmp =set()\n",
    "    for b in set_A:\n",
    "        tmp.add(b-12)\n",
    "        tmp.add(b**2)\n",
    "    set_A.update(tmp)\n",
    "    return set_A   "
   ]
  },
  {
   "cell_type": "code",
   "execution_count": 5,
   "metadata": {},
   "outputs": [
    {
     "data": {
      "text/plain": [
       "{-8, 4, 16}"
      ]
     },
     "execution_count": 5,
     "metadata": {},
     "output_type": "execute_result"
    }
   ],
   "source": [
    "Set4(1)"
   ]
  },
  {
   "cell_type": "code",
   "execution_count": 6,
   "metadata": {},
   "outputs": [
    {
     "data": {
      "text/plain": [
       "{-20, -8, 4, 16, 64, 256}"
      ]
     },
     "execution_count": 6,
     "metadata": {},
     "output_type": "execute_result"
    }
   ],
   "source": [
    "Set4(2)"
   ]
  },
  {
   "cell_type": "markdown",
   "metadata": {},
   "source": [
    "### 2(c). 상기 Set4(n)이 복귀하는 집합 X 의 모든 원소는 4의 배수일 때,'True' 를 복귀하는 파이썬 함수를 작성하고, n=3 일 때 실행하여  'True' 가  나오는 지를 확인하시오. "
   ]
  },
  {
   "cell_type": "code",
   "execution_count": 7,
   "metadata": {},
   "outputs": [],
   "source": [
    "def com(n):\n",
    "    tmp=set()      \n",
    "    tmp= { x for x in Set4(n) if x%4==0}\n",
    "    print(tmp)\n",
    "    if tmp==Set4(n):\n",
    "        return True\n",
    "    return False\n"
   ]
  },
  {
   "cell_type": "code",
   "execution_count": 8,
   "metadata": {},
   "outputs": [
    {
     "name": "stdout",
     "output_type": "stream",
     "text": [
      "{64, 256, 4096, 65536, 4, -32, -20, 16, 400, 52, 244, -8}\n"
     ]
    },
    {
     "data": {
      "text/plain": [
       "True"
      ]
     },
     "execution_count": 8,
     "metadata": {},
     "output_type": "execute_result"
    }
   ],
   "source": [
    "com(3)"
   ]
  },
  {
   "cell_type": "markdown",
   "metadata": {},
   "source": [
    "### com(3)= Set4(3)\n",
    "### 따라서, Set4(3) 의 모든 원소는 4의 배수이다. "
   ]
  },
  {
   "cell_type": "markdown",
   "metadata": {},
   "source": [
    "## 실습 3.   \n",
    "### 3(a) n 개의 주어진 정수 $X=(x_1, x_2, ...., x_n )$ 의 분산을 계산하는 반복적 방법의 파이썬 함수 코드를 작성하시요.\n",
    "####  분산정의 ; $ Variance(X):= \\frac{\\sum_{i= 1}^{n} (x_i  - m)^2 }{n} ~(m~ is~the~ average~ of~ X)$"
   ]
  },
  {
   "cell_type": "code",
   "execution_count": 9,
   "metadata": {},
   "outputs": [],
   "source": [
    "def Var_iter(X):\n",
    "    avg=0\n",
    "    var=0\n",
    "    for xi in X: \n",
    "        avg+=xi/len(X)   \n",
    "    print(\"Average(Mean)={}\".format(avg))\n",
    "    for xi in X:\n",
    "        var+=(xi-avg)**2/len(X)\n",
    "    return var    "
   ]
  },
  {
   "cell_type": "markdown",
   "metadata": {},
   "source": [
    "### 3(b) a=(9,3,7,9,2,5,8)에 대해 코딩한 분산 구하는 함수를 적용하여 보시오."
   ]
  },
  {
   "cell_type": "code",
   "execution_count": 10,
   "metadata": {},
   "outputs": [
    {
     "name": "stdout",
     "output_type": "stream",
     "text": [
      "Average(Mean)=6.142857142857142\n"
     ]
    },
    {
     "data": {
      "text/plain": [
       "6.979591836734694"
      ]
     },
     "execution_count": 10,
     "metadata": {},
     "output_type": "execute_result"
    }
   ],
   "source": [
    "X=(9,3,7,9,2,5,8)\n",
    "Var_iter(X)"
   ]
  },
  {
   "cell_type": "markdown",
   "metadata": {},
   "source": [
    "### 3(c)  상기 튜플 X 를 numpy array 로 바꾸어서, Numpy 가 제공하는 분산 메소드의 결과와 비교하여 보시오."
   ]
  },
  {
   "cell_type": "code",
   "execution_count": 11,
   "metadata": {},
   "outputs": [
    {
     "name": "stdout",
     "output_type": "stream",
     "text": [
      "6.142857142857143\n",
      "6.979591836734694\n"
     ]
    }
   ],
   "source": [
    "import numpy as np\n",
    "NX=np.array(X)\n",
    "print(np.average(X))\n",
    "print(np.var(X))"
   ]
  },
  {
   "cell_type": "markdown",
   "metadata": {},
   "source": [
    "### 3(d) 상기 분산 구하는 함수를 재귀적 알고리즘으로 코딩하여 보시오. "
   ]
  },
  {
   "cell_type": "code",
   "execution_count": 12,
   "metadata": {},
   "outputs": [],
   "source": [
    "def var_recursive(X):\n",
    "    global avg\n",
    "    if len(X)==1:\n",
    "        return (X[0]-avg)**2\n",
    "    mid=len(X)//2\n",
    "    left=X[:mid]\n",
    "    right=X[mid:]\n",
    "    return (len(left)*var_recursive(left)+len(right)*var_recursive(right))/(len(left)+len(right))"
   ]
  },
  {
   "cell_type": "code",
   "execution_count": 13,
   "metadata": {},
   "outputs": [
    {
     "data": {
      "text/plain": [
       "6.979591836734694"
      ]
     },
     "execution_count": 13,
     "metadata": {},
     "output_type": "execute_result"
    }
   ],
   "source": [
    "X=(9,3,7,9,2,5,8)\n",
    "avg=np.average(X)\n",
    "var_recursive(X)"
   ]
  }
 ],
 "metadata": {
  "kernelspec": {
   "display_name": "Python 3.8.8 ('base')",
   "language": "python",
   "name": "python3"
  },
  "language_info": {
   "codemirror_mode": {
    "name": "ipython",
    "version": 3
   },
   "file_extension": ".py",
   "mimetype": "text/x-python",
   "name": "python",
   "nbconvert_exporter": "python",
   "pygments_lexer": "ipython3",
   "version": "3.8.8"
  },
  "orig_nbformat": 4,
  "vscode": {
   "interpreter": {
    "hash": "caf1c2fcf97217de91eafa76b907d50f9ea378f5ffbee7f571142d119bb6a771"
   }
  }
 },
 "nbformat": 4,
 "nbformat_minor": 2
}
