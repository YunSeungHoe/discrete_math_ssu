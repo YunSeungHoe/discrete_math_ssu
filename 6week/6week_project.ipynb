{
 "cells": [
  {
   "cell_type": "markdown",
   "metadata": {},
   "source": [
    "### 실습"
   ]
  },
  {
   "cell_type": "markdown",
   "metadata": {},
   "source": [
    "### 실습 6.1.   영어 알파베트 집합 (예; { 'a', 'b', 'c', 'd', 'e' }) 에서 r개 의 문자를 뽑아 만들어지는 크기 r 의 튜플들을 사전식 순서 (lexicographic order) 로 정렬된 리스트와 이 경우에 총 경우수를 같이 구하는  파이썬 함수를 코딩하고, 직접   집합 { 'a', 'b', 'c', 'd', 'e' } 에 대해 구한 결과를 출력해보시오.\n",
    "(예; 집합  A={'c', 'e', 'd', 'a', 'b'} 에서 원소 r=3 개를 뽑아 사전식으로 늘어 놓는 모든 경우의 사전식 리스트 \n",
    "=[('a', 'a', 'a'), ('a', 'a', 'b'), ('a', 'b', 'b'), ('b', 'b', 'b'), ('c', 'a', 'a'), ('c', 'a', 'b'), ('c', 'b', 'b'), ('c', 'c', 'a'), ('c', 'c', 'b'), ('c', 'c', 'c'), ('c', 'c', 'd'), ('c', 'c', 'e'), ('c', 'd', 'a'), ('c', 'd', 'b'), ('c', 'd', 'd'), ('c', 'e', 'a'), ('c', 'e', 'b'), ('c', 'e', 'd'), ('c', 'e', 'e'), ('d', 'a', 'a'), ('d', 'a', 'b'), ('d', 'b', 'b'), ('d', 'd', 'a'), ('d', 'd', 'b'), ('d', 'd', 'd'), ('e', 'a', 'a'), ('e', 'a', 'b'), ('e', 'b', 'b'), ('e', 'd', 'a'), ('e', 'd', 'b'), ('e', 'd', 'd'), ('e', 'e', 'a'), ('e', 'e', 'b'), ('e', 'e', 'd'), ('e', 'e', 'e')] \n",
    "\n",
    "집합  A={'c', 'e', 'd', 'a', 'b'} 에서 원소 r=3 개를 뽑아 사전식으로 늘어 놓는 모든 경우의 수=35 )\n"
   ]
  },
  {
   "cell_type": "code",
   "execution_count": null,
   "metadata": {},
   "outputs": [],
   "source": []
  },
  {
   "cell_type": "markdown",
   "metadata": {},
   "source": [
    "### 실습 6.2  다음은 pigeonhole 정리를 이용한 파이썬 sorting (분류) 알고리즘이다. 코드 동작을 설명하여 보시오 "
   ]
  },
  {
   "cell_type": "code",
   "execution_count": 9,
   "metadata": {},
   "outputs": [],
   "source": [
    "def pigeonsort(values):\n",
    "    \"\"\"pigeionsort 는 비둘기 구멍 원리를 이용하는 정렬 알고리즘이다. \"\"\"\n",
    "    # size of range of values in the list (ie, number of pigeonholes we need)\n",
    "    _min = min(values)\n",
    "    _max = max(values)\n",
    "    _range = _max - _min + 1\n",
    "    print(\"_min : \", _min)\n",
    "    print(\"_max : \", _max)\n",
    "    print(\"_range : \", _range)\n",
    "\n",
    "    # pigeonholes\n",
    "    '''holes = [0 for i in range(_range)]'''\n",
    "    holes = [0] * _range\n",
    "    print(\"holes : \", holes)\n",
    "\n",
    "    # populate the holes\n",
    "    for x in values:\n",
    "        holes[x - _min] += 1\n",
    "    print(\"holes : \", holes)\n",
    "\n",
    "    # new sorted list, putting elements back to save space\n",
    "    i = 0\n",
    "    for count in range(_range):\n",
    "        while holes[count] > 0:\n",
    "        #copy all elements from each hole\n",
    "            holes[count] -= 1\n",
    "            values[i] = count + _min\n",
    "            i += 1\n",
    "    return values"
   ]
  },
  {
   "cell_type": "code",
   "execution_count": 10,
   "metadata": {},
   "outputs": [
    {
     "name": "stdout",
     "output_type": "stream",
     "text": [
      "_min :  2\n",
      "_max :  10\n",
      "_range :  9\n",
      "holes :  [0, 0, 0, 0, 0, 0, 0, 0, 0]\n",
      "holes :  [1, 1, 1, 0, 1, 1, 0, 0, 1]\n"
     ]
    },
    {
     "data": {
      "text/plain": [
       "[2, 3, 4, 6, 7, 10]"
      ]
     },
     "execution_count": 10,
     "metadata": {},
     "output_type": "execute_result"
    }
   ],
   "source": [
    "a=[7,3,4,2,6,10]\n",
    "pigeonsort(a)"
   ]
  }
 ],
 "metadata": {
  "kernelspec": {
   "display_name": "Python 3.9.7 ('base')",
   "language": "python",
   "name": "python3"
  },
  "language_info": {
   "codemirror_mode": {
    "name": "ipython",
    "version": 3
   },
   "file_extension": ".py",
   "mimetype": "text/x-python",
   "name": "python",
   "nbconvert_exporter": "python",
   "pygments_lexer": "ipython3",
   "version": "3.9.7"
  },
  "orig_nbformat": 4,
  "vscode": {
   "interpreter": {
    "hash": "1448b48b023bcc9c3d4a79e814720a10ca6d4244f75e0f7ce4af58f96ba2b7d3"
   }
  }
 },
 "nbformat": 4,
 "nbformat_minor": 2
}
