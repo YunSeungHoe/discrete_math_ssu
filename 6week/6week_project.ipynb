{
 "cells": [
  {
   "cell_type": "markdown",
   "metadata": {},
   "source": [
    "### 실습"
   ]
  },
  {
   "cell_type": "markdown",
   "metadata": {},
   "source": [
    "### 실습 6.1.   영어 알파베트 집합 (예; { 'a', 'b', 'c', 'd', 'e' }) 에서 r개 의 문자를 뽑아 만들어지는 크기 r 의 튜플들을 사전식 순서 (lexicographic order) 로 정렬된 리스트와 이 경우에 총 경우수를 같이 구하는  파이썬 함수를 코딩하고, 직접   집합 { 'a', 'b', 'c', 'd', 'e' } 에 대해 구한 결과를 출력해보시오.\n",
    "(예; 집합  A={'c', 'e', 'd', 'a', 'b'} 에서 원소 r=3 개를 뽑아 사전식으로 늘어 놓는 모든 경우의 사전식 리스트 \n",
    "=[('a', 'a', 'a'), ('a', 'a', 'b'), ('a', 'b', 'b'), ('b', 'b', 'b'), ('c', 'a', 'a'), ('c', 'a', 'b'), ('c', 'b', 'b'), ('c', 'c', 'a'), ('c', 'c', 'b'), ('c', 'c', 'c'), ('c', 'c', 'd'), ('c', 'c', 'e'), ('c', 'd', 'a'), ('c', 'd', 'b'), ('c', 'd', 'd'), ('c', 'e', 'a'), ('c', 'e', 'b'), ('c', 'e', 'd'), ('c', 'e', 'e'), ('d', 'a', 'a'), ('d', 'a', 'b'), ('d', 'b', 'b'), ('d', 'd', 'a'), ('d', 'd', 'b'), ('d', 'd', 'd'), ('e', 'a', 'a'), ('e', 'a', 'b'), ('e', 'b', 'b'), ('e', 'd', 'a'), ('e', 'd', 'b'), ('e', 'd', 'd'), ('e', 'e', 'a'), ('e', 'e', 'b'), ('e', 'e', 'd'), ('e', 'e', 'e')] \n",
    "\n",
    "집합  A={'c', 'e', 'd', 'a', 'b'} 에서 원소 r=3 개를 뽑아 사전식으로 늘어 놓는 모든 경우의 수=35 )\n"
   ]
  },
  {
   "cell_type": "code",
   "execution_count": null,
   "metadata": {},
   "outputs": [],
   "source": []
  },
  {
   "cell_type": "markdown",
   "metadata": {},
   "source": [
    "### 실습 6.2  다음은 pigeonhole 정리를 이용한 파이썬 sorting (분류) 알고리즘이다. 코드 동작을 설명하여 보시오 "
   ]
  },
  {
   "cell_type": "code",
   "execution_count": 9,
   "metadata": {},
   "outputs": [],
   "source": [
    "def pigeonsort(values):\n",
    "    \"\"\"pigeionsort 는 비둘기 구멍 원리를 이용하는 정렬 알고리즘이다. \"\"\"\n",
    "    # size of range of values in the list (ie, number of pigeonholes we need)\n",
    "    _min = min(values)\n",
    "    _max = max(values)\n",
    "    _range = _max - _min + 1\n",
    "    print(\"_min : \", _min)\n",
    "    print(\"_max : \", _max)\n",
    "    print(\"_range : \", _range)\n",
    "\n",
    "    # pigeonholes\n",
    "    '''holes = [0 for i in range(_range)]'''\n",
    "    holes = [0] * _range\n",
    "    print(\"holes : \", holes)\n",
    "\n",
    "    # populate the holes\n",
    "    for x in values:\n",
    "        holes[x - _min] += 1\n",
    "    print(\"holes : \", holes)\n",
    "\n",
    "    # new sorted list, putting elements back to save space\n",
    "    i = 0\n",
    "    for count in range(_range):\n",
    "        while holes[count] > 0:\n",
    "        #copy all elements from each hole\n",
    "            holes[count] -= 1\n",
    "            values[i] = count + _min\n",
    "            i += 1\n",
    "    return values"
   ]
  },
  {
   "cell_type": "code",
   "execution_count": 10,
   "metadata": {},
   "outputs": [
    {
     "name": "stdout",
     "output_type": "stream",
     "text": [
      "_min :  2\n",
      "_max :  10\n",
      "_range :  9\n",
      "holes :  [0, 0, 0, 0, 0, 0, 0, 0, 0]\n",
      "holes :  [1, 1, 1, 0, 1, 1, 0, 0, 1]\n"
     ]
    },
    {
     "data": {
      "text/plain": [
       "[2, 3, 4, 6, 7, 10]"
      ]
     },
     "execution_count": 10,
     "metadata": {},
     "output_type": "execute_result"
    }
   ],
   "source": [
    "a=[7,3,4,2,6,10]\n",
    "pigeonsort(a)"
   ]
  },
  {
   "cell_type": "markdown",
   "metadata": {},
   "source": [
    "코드 동작은 다음과 같다.\n",
    "- pigeonsort(list) 함수는 인자로 리스트를 받는다.\n",
    "- 리스트에서 최소값과 최대값의 _min, _max에 저장한다.\n",
    "- _min, _max 로 _range를 구한다(_min - _max + 1)\n",
    "- _range 크기의 holes 리스트를 0으로 초기화해서 생성한다.\n",
    "- 현재 _min은 2이며 holes 리스트에 0 번째 index는 2의 값을 의미하게 되며 \n",
    "- _holes 리스트의 마지막 index는 _max 값인 10을 의미하게 된다.\n",
    "- 인자로 들어온 list 의 값을 확인하고 holes 리스트에 해당하는 index의 값을 +1 해준다.\n",
    "- holes의 index의 최소값 _min을 더해주면 인자로 들어온 list가 정렬된 형태로 바뀌게 된다.\n",
    "- 중복으로 값이 들어와도 해결이 가능하다."
   ]
  }
 ],
 "metadata": {
  "kernelspec": {
   "display_name": "Python 3.8.10 64-bit",
   "language": "python",
   "name": "python3"
  },
  "language_info": {
   "codemirror_mode": {
    "name": "ipython",
    "version": 3
   },
   "file_extension": ".py",
   "mimetype": "text/x-python",
   "name": "python",
   "nbconvert_exporter": "python",
   "pygments_lexer": "ipython3",
   "version": "3.8.10"
  },
  "orig_nbformat": 4,
  "vscode": {
   "interpreter": {
    "hash": "916dbcbb3f70747c44a77c7bcd40155683ae19c65e1c03b4aa3499c5328201f1"
   }
  }
 },
 "nbformat": 4,
 "nbformat_minor": 2
}
