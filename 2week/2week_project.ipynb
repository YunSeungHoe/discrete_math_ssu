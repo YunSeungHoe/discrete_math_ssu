{
 "cells": [
  {
   "cell_type": "markdown",
   "metadata": {},
   "source": [
    "## 실습"
   ]
  },
  {
   "cell_type": "markdown",
   "metadata": {},
   "source": [
    "### 1. 인자로 전달되는 변수의 데이터 타입을 출력하는 파이썬 함수를 작성하고, 실제 실수, 스트링, 리스트의 경우를 테스트해보시오.  \n",
    "### &nbsp; &nbsp; 아래는 예시 답안입니다.\n",
    "<pre> \n",
    "  def type_porunt(x): # 함수 정의 \n",
    "    ...........# 파이썬 코드 작성\n",
    " \n",
    "  x=\"Hello\"\n",
    "  y=1.5\n",
    "  z=[1,2,3]\n",
    "  type_print(x)\n",
    "  type_print(y)\n",
    "  type_print(z)\n",
    " ----------------- 
    "</pre> \n",
    "  &nbsp; &nbsp; &nbsp; &nbsp; &nbsp; &nbsp; \\<class 'str'\\>  \n",
    "  &nbsp; &nbsp; &nbsp; &nbsp; &nbsp; &nbsp; \\<class 'float'\\>  \n",
    "  &nbsp; &nbsp; &nbsp; &nbsp; &nbsp; &nbsp; \\<class 'list' \\>  \n",
    " "
   ]
  },
  {
   "cell_type": "code",
   "execution_count": 5,
   "metadata": {},
   "outputs": [
    {
     "name": "stdout",
     "output_type": "stream",
     "text": [
      "<class 'str'>\n",
      "<class 'float'>\n",
      "<class 'list'>\n"
     ]
    }
   ],
   "source": [
    "def type_print(x):\n",
    "    print(type(x))\n",
    " \n",
    "x=\"Hello\"\n",
    "y=1.5\n",
    "z=[1,2,3]\n",
    "type_print(x)\n",
    "type_print(y)\n",
    "type_print(z)"
   ]
  },
  {
   "cell_type": "markdown",
   "metadata": {},
   "source": [
    "### 2. \\[-m,n\\) (m, n 은 양의 정수)  의 정수 가운데(예; {-2, 4) ={-2, -1, 0, 1, 2, 3} ), 양의 정수만을 추려내고 각 양의 정수를 제곱한 후에 이를 모두 더하는 결과를 리턴하는 파이썬 함수룰 작성하고, [-3,4) 에 대해 테스트 해보시오.  \n",
    "### &nbsp; &nbsp; &nbsp; &nbsp; 이 때,  함수의 인자로 양수  m,n 을 사용하고, range, lambda, map, filter, reduce 등의 함수를 이용하시오.   "
   ]
  },
  {
   "cell_type": "code",
   "execution_count": 28,
   "metadata": {},
   "outputs": [
    {
     "name": "stdout",
     "output_type": "stream",
     "text": [
      "m = 2, n = 4일때 합은 : 14\n",
      "m = 3, n = 4일때 합은 : 14\n"
     ]
    }
   ],
   "source": [
    "from functools import reduce # python 3 이상 reduce 함수를 사용하기 위함.\n",
    "\n",
    "def return_pow_sum(m ,n):\n",
    "    list_num = list(filter(lambda x: x > 0, range(-m, n)))\n",
    "    list_pow = list(map(lambda x:x**2, list_num))\n",
    "    return reduce(lambda x, y: x + y, list_pow)\n",
    "\n",
    "# m = 2, n = 4 즉, [-2, 4)인 경우.\n",
    "m, n = 2, 4\n",
    "list_val = return_pow_sum(m, n)\n",
    "print(\"m = 2, n = 4일때 합은 :\", list_val)\n",
    "\n",
    "# m = 3, n = 4 즉, [-3, 4)인 경우.\n",
    "m, n = 3, 4\n",
    "list_val = return_pow_sum(m, n)\n",
    "print(\"m = 3, n = 4일때 합은 :\", list_val)\n"
   ]
  },
  {
   "cell_type": "markdown",
   "metadata": {},
   "source": [
    "### 3. 어떤 회사가 대학교에 학생들 채용을 위한 면접 대상자로 전기전자 또는 전산과 4학년 중 학점이 B 이상인 학생을 찾는다고 한다. 학생 명단 파일(\"students.txt\"), 4학년학생 명단파일(\"year4.txt\"), B학점이상 학생 명단 파일(\"GoodGrades.txt\") 들이 주어졌을 때,  면접 대상자를 출력하는 파이썬 프로그래밍을 하고자 한다. 주어진 학생 명단 파일 \"students.txt\" 에는  각 줄에 \"이름, 전공\" 으로 기록되어 있다. "
   ]
  },
  {
   "cell_type": "markdown",
   "metadata": {},
   "source": [
    "### 3(a). 다음의 함수를 이용하여, 전산(CS) 또는 전기전자(EE) 학생 명단 집합을 구하고 그 집합 변수 이름을 csOrEE 로 하며, 그 집합에 속한 학생 이름을 출력하는 파이썬 프로그래밍을 작성해보시오. "
   ]
  },
  {
   "cell_type": "code",
   "execution_count": 4,
   "metadata": {},
   "outputs": [
    {
     "name": "stdout",
     "output_type": "stream",
     "text": [
      "['John', 'Luke', 'Kim', 'Elizabeth', 'Dukakis', 'Agnes', 'Tommy', 'Tom', 'Trump', 'Peter', 'Khan', 'Moses', 'Kimberley']\n"
     ]
    }
   ],
   "source": [
    "def streamOfTuples(fileName):\n",
    "    return ( line.strip().split(\",\") for line in open(fileName) )\n",
    "\n",
    "students = streamOfTuples(\"students.txt\")\n",
    "year4 = streamOfTuples(\"year4.txt\")\n",
    "GoodGrades = streamOfTuples(\"GoodGrades.txt\")\n",
    "\n",
    "csOrEE = []\n",
    "for i in list(students):\n",
    "    if i[1] == \"CS\" or i[1] == \"EE\":\n",
    "        csOrEE.append(i[0])\n",
    "        \n",
    "print(csOrEE)\n"
   ]
  },
  {
   "cell_type": "markdown",
   "metadata": {},
   "source": [
    "### 3(b). 4학년 학생 명단 집합(year4), 좋은 학점 학생 집합(goodGrdages) 등을 각 해당 파일, \"4years.txt\",  \"goodGrades.txt\" 구하고, 이들 집합과 앞에서 구한 전산(CS) 또는 전기전자(EE) 학생 명단 집합(csOrEE)andidates) 을 이용하여 면접대상자 집합 candidates 을 구하고, 면접 대상자 이름을 출력하는 파이썬 코드를 작성하시오. "
   ]
  }
 ],
 "metadata": {
  "kernelspec": {
   "display_name": "Python 3.9.12 ('base')",
   "language": "python",
   "name": "python3"
  },
  "language_info": {
   "codemirror_mode": {
    "name": "ipython",
    "version": 3
   },
   "file_extension": ".py",
   "mimetype": "text/x-python",
   "name": "python",
   "nbconvert_exporter": "python",
   "pygments_lexer": "ipython3",
   "version": "3.9.12"
  },
  "orig_nbformat": 4,
  "vscode": {
   "interpreter": {
    "hash": "d53987ecb595d47b858fb20818fc57333593e153a0e3e1d0f7ed0487b17d3604"
   }
  }
 },
 "nbformat": 4,
 "nbformat_minor": 2
}
