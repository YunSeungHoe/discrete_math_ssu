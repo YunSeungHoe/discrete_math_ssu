{
 "cells": [
  {
   "cell_type": "markdown",
   "metadata": {},
   "source": [
    "### 실습 1.  정수 리스트의 평균값 계산의 재귀적 구현   \n",
    "주어진 정수 리스트 (예 $a=[8,5,3,2,9,1,4,7,6]$ )의 평균을 계산하는 알고리즘의 반복적 방법의 구현은 다음과 같다. 이 평균 구하는 문제를 재귀적 방법으로 구현해 보시오.\n",
    "<br/><br/>\n",
    "※ 풀이조건\n",
    "<ol>\n",
    "    <li>$a=[8,5,3,2,9,1,4,7,6]$ 리스트를 만들어 print 함수를 통해 출력하시오.</li>\n",
    "    <li>재귀 함수를 만들어 평균값을 구하고, 이를 print 함수를 통해 출력하시오.</li>\n",
    "</ol>"
   ]
  },
  {
   "cell_type": "code",
   "execution_count": 1,
   "metadata": {},
   "outputs": [
    {
     "name": "stdout",
     "output_type": "stream",
     "text": [
      "a = [8, 5, 3, 2, 9, 1, 4, 7, 6]\n",
      "result = 5.0\n"
     ]
    }
   ],
   "source": [
    "def average_recursive(list, sum, index):\n",
    "    if index == len(list):\n",
    "        return sum/index\n",
    "    else: \n",
    "        return average_recursive(list, sum + list[index], index + 1)\n",
    "        \n",
    "a = [8, 5, 3, 2, 9, 1, 4, 7, 6]\n",
    "print(\"a =\",a)\n",
    "\n",
    "result = average_recursive(a, 0, 0)\n",
    "print(\"result =\",result)\n"
   ]
  },
  {
   "cell_type": "markdown",
   "metadata": {},
   "source": [
    "### 실습 2. Insertion Sort 구현\n",
    "아래 파이썬 코드는 Insertion Sort  를 반복적인 방법으로 구현한 것이다.  이 Insertion Sort 를 재귀적 방법으로 코딩하여 보시오.     \n",
    "그리고, $a=[8,5,3,2,9,1,4,7,6]$ 에 구현한 Insertion Sort 알고리즘을 적용해보시오.   \n",
    "<br/><br/>\n",
    "※ 풀이조건\n",
    "<ol>\n",
    "    <li>$a=[8,5,3,2,9,1,4,7,6]$ 리스트를 만들어 print 함수를 통해 출력하시오.</li>\n",
    "    <li>재귀 함수를 만들어 위 리스트를 정렬하고, 정렬한 결과를 print 함수를 통해 출력하시오.</li>\n",
    "</ol>"
   ]
  },
  {
   "cell_type": "code",
   "execution_count": 2,
   "metadata": {},
   "outputs": [
    {
     "name": "stdout",
     "output_type": "stream",
     "text": [
      "[8, 5, 3, 2, 9, 1, 4, 7, 6]\n",
      "[1, 2, 3, 4, 5, 6, 7, 8, 9]\n"
     ]
    }
   ],
   "source": [
    "def insertion_sort(list, insert_val=0, error=1, insert_index=1):\n",
    "    if len(list) == insert_index:\n",
    "        return list \n",
    "    # 디버깅용 \n",
    "    # print(list, \"일 때 insert_index 값 :\",insert_index, \"에러 값 :\", error)\n",
    "    if error == 1:\n",
    "        insert_val = list[insert_index]\n",
    "    \n",
    "    if error > insert_index:\n",
    "        list[0] = insert_val\n",
    "        error = 1\n",
    "        insert_index += 1\n",
    "        return insertion_sort(list, insert_val, error, insert_index)\n",
    "    elif insert_val < list[insert_index - error]:\n",
    "        list[insert_index - error + 1] = list[insert_index - error]\n",
    "        error += 1\n",
    "        return insertion_sort(list, insert_val, error, insert_index)\n",
    "    else:\n",
    "        list[insert_index - error + 1] = insert_val\n",
    "        error = 1\n",
    "        insert_index += 1\n",
    "        return insertion_sort(list, insert_val, error, insert_index)\n",
    "  \n",
    "a = [8, 5, 3, 2, 9, 1, 4, 7, 6]\n",
    "print(a)\n",
    "result = insertion_sort(a)\n",
    "print(result)"
   ]
  },
  {
   "cell_type": "markdown",
   "metadata": {},
   "source": [
    "### 실습 3. Quick Sort\n",
    "#### 다음은 효율적인 Quick Sort 에 대한 설명이다. Quick Sort 를 재귀적 방법으로 파이썬 알고리즘을 구하시오. (2점)\n",
    "\n",
    "#### Quick Sort 는 효율적인 알고리즘이다. 'a1, a2,. . . , an ' 를 정렬하기 위해,  Quick Sort 알고리즘은 첫 번째 요소 a1을 가져 와서 두 개의 서브목록을 형성하는 것으로 시작한다. 첫번째 서브목록은 a1보다 작은 요소들을 포함하고 두번째 서브리스트는 a1보다 큰 요소들을 포함한다. 그런 다음 a1 은 첫번째 서브목록의 끝에 배치한다. 이 절차는 재귀적으로 반복됩니다. 즉, 모든 서브목록에 하나의 요소만이 포함될 때까지 각 서브목록에 대해.  정렬된 목록은 1개의 항목요소를 갖는 서브목록들을을  발생하는 순서대로  결합하여 얻는다.\n",
    "\n",
    "※ 풀이조건\n",
    "<ol>\n",
    "    <li>0 ~ 20까지, 30개의 정수로 이루어진 랜덤 리스트를 만들고 print 함수를 통해 출력한다.</li>\n",
    "    <li>quick sort를 함수를 만들어 위 리스트를 정렬하고, 정렬한 결과를 print 함수를 통해 출력한다.</li>\n",
    "</ol>"
   ]
  },
  {
   "cell_type": "code",
   "execution_count": 3,
   "metadata": {},
   "outputs": [
    {
     "name": "stdout",
     "output_type": "stream",
     "text": [
      "[0, 13, 6, 2, 8, 2, 4, 19, 17, 10, 7, 18, 2, 15, 10, 1, 16, 15, 18, 16, 17, 10, 19, 20, 2, 14, 12, 18, 17, 8]\n",
      "[0, 1, 2, 2, 2, 2, 4, 6, 7, 8, 8, 10, 10, 10, 12, 13, 14, 15, 15, 16, 16, 17, 17, 17, 18, 18, 18, 19, 19, 20]\n"
     ]
    }
   ],
   "source": [
    "import random\n",
    "\n",
    "def quick_sort(list):\n",
    "    if len(list) <= 1:\n",
    "        return list\n",
    "    pivot = list[0]\n",
    "    \n",
    "    less, equal, greater = [], [], []\n",
    "    \n",
    "    for i in range(len(list)):\n",
    "        if list[i] == pivot:\n",
    "            equal.append(list[i])\n",
    "        elif list[i] < pivot:\n",
    "            less.append(list[i])\n",
    "        elif list[i] > pivot:\n",
    "            greater.append(list[i])\n",
    "    return quick_sort(less) + equal + quick_sort(greater)\n",
    "\n",
    "a = []\n",
    "for i in range(30):\n",
    "    a.append(random.randint(0, 20))\n",
    "\n",
    "print(a)\n",
    "result = quick_sort(a)\n",
    "print(result)\n"
   ]
  }
 ],
 "metadata": {
  "kernelspec": {
   "display_name": "Python 3.9.12 ('base')",
   "language": "python",
   "name": "python3"
  },
  "language_info": {
   "codemirror_mode": {
    "name": "ipython",
    "version": 3
   },
   "file_extension": ".py",
   "mimetype": "text/x-python",
   "name": "python",
   "nbconvert_exporter": "python",
   "pygments_lexer": "ipython3",
   "version": "3.9.12"
  },
  "orig_nbformat": 4,
  "vscode": {
   "interpreter": {
    "hash": "d53987ecb595d47b858fb20818fc57333593e153a0e3e1d0f7ed0487b17d3604"
   }
  }
 },
 "nbformat": 4,
 "nbformat_minor": 2
}
