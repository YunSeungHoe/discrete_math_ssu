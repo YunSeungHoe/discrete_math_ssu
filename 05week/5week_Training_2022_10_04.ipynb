{
 "cells": [
  {
   "cell_type": "markdown",
   "metadata": {},
   "source": [
    "## 기존 반복 알고리즘들의 재귀적 구현"
   ]
  },
  {
   "cell_type": "markdown",
   "metadata": {},
   "source": [
    "### 재귀적 maximum 구현 "
   ]
  },
  {
   "cell_type": "markdown",
   "metadata": {},
   "source": [
    "#### 기존 maximum 계산 반복적 알고리즘 구현"
   ]
  },
  {
   "cell_type": "code",
   "execution_count": 1,
   "metadata": {},
   "outputs": [],
   "source": [
    "def max_pos2(X):\n",
    "    max=0    \n",
    "    for (i, item) in enumerate(X):\n",
    "        if max <= item:\n",
    "            max=item\n",
    "            pos=i+1             \n",
    "    print(\"최대값  %d  은(는) 마지막으로 리스트의 %d 번째에 위치한다.\" %(max, pos))                \n",
    "    return "
   ]
  },
  {
   "cell_type": "code",
   "execution_count": 2,
   "metadata": {},
   "outputs": [
    {
     "name": "stdout",
     "output_type": "stream",
     "text": [
      "[7, 0, 7, 4, 2, 0, 9, 5, 2, 8, 9, 8, 8, 7, 3, 5, 1, 9, 9, 7]\n",
      "최대값  9  은(는) 마지막으로 리스트의 19 번째에 위치한다.\n"
     ]
    }
   ],
   "source": [
    "from random import *\n",
    "import copy\n",
    "A=choices(list(range(10)), k=20)\n",
    "print(A)\n",
    "max_pos2(A)"
   ]
  },
  {
   "cell_type": "markdown",
   "metadata": {},
   "source": [
    "#### 상기 maximum 계산 알고리즘의 재귀적 구현 "
   ]
  },
  {
   "cell_type": "code",
   "execution_count": 3,
   "metadata": {},
   "outputs": [],
   "source": [
    "def max_pos_recursive(X, left, right):   \n",
    "    if left<0 or right <0 :     \n",
    "        print(\"Please take \\\"left >= 0 and right >0  \\\"\")\n",
    "    if (right-left)==1:      \n",
    "        return X[left], left    \n",
    "    if (right-left)==2: #종료조건      \n",
    "        if X[left] <= X[left+1]:\n",
    "            return X[left+1], right-1\n",
    "        else:\n",
    "            return X[left], left           \n",
    "    mid=(left+right)//2\n",
    "    print(\"Search range; X[{}~{}]={} \".format(left, right-1, X[left:right]))\n",
    "    left_most, left_most_pos=max_pos_recursive(X, left, mid)\n",
    "    print(\"Search rangeL; X[{}~{}]={}, most_pos={}, most={}\".format(left, mid-1, X[left:mid], left_most_pos, left_most))  \n",
    "    right_most, right_most_pos=max_pos_recursive(X, mid, right)\n",
    "    print(\"Search rangeR; X[{}~{}]={},most_pos={}, most={},\".format(mid, right-1, X[mid:right], right_most_pos, right_most))\n",
    "    if  left_most<=right_most:\n",
    "            return right_most, right_most_pos\n",
    "    else:\n",
    "            return left_most, left_most_pos                "
   ]
  },
  {
   "cell_type": "code",
   "execution_count": 4,
   "metadata": {},
   "outputs": [
    {
     "name": "stdout",
     "output_type": "stream",
     "text": [
      "Search range; X[0~19]=[7, 0, 7, 4, 2, 0, 9, 5, 2, 8, 9, 8, 8, 7, 3, 5, 1, 9, 9, 7] \n",
      "Search range; X[0~9]=[7, 0, 7, 4, 2, 0, 9, 5, 2, 8] \n",
      "Search range; X[0~4]=[7, 0, 7, 4, 2] \n",
      "Search rangeL; X[0~1]=[7, 0], most_pos=0, most=7\n",
      "Search range; X[2~4]=[7, 4, 2] \n",
      "Search rangeL; X[2~2]=[7], most_pos=2, most=7\n",
      "Search rangeR; X[3~4]=[4, 2],most_pos=3, most=4,\n",
      "Search rangeR; X[2~4]=[7, 4, 2],most_pos=2, most=7,\n",
      "Search rangeL; X[0~4]=[7, 0, 7, 4, 2], most_pos=2, most=7\n",
      "Search range; X[5~9]=[0, 9, 5, 2, 8] \n",
      "Search rangeL; X[5~6]=[0, 9], most_pos=6, most=9\n",
      "Search range; X[7~9]=[5, 2, 8] \n",
      "Search rangeL; X[7~7]=[5], most_pos=7, most=5\n",
      "Search rangeR; X[8~9]=[2, 8],most_pos=9, most=8,\n",
      "Search rangeR; X[7~9]=[5, 2, 8],most_pos=9, most=8,\n",
      "Search rangeR; X[5~9]=[0, 9, 5, 2, 8],most_pos=6, most=9,\n",
      "Search rangeL; X[0~9]=[7, 0, 7, 4, 2, 0, 9, 5, 2, 8], most_pos=6, most=9\n",
      "Search range; X[10~19]=[9, 8, 8, 7, 3, 5, 1, 9, 9, 7] \n",
      "Search range; X[10~14]=[9, 8, 8, 7, 3] \n",
      "Search rangeL; X[10~11]=[9, 8], most_pos=10, most=9\n",
      "Search range; X[12~14]=[8, 7, 3] \n",
      "Search rangeL; X[12~12]=[8], most_pos=12, most=8\n",
      "Search rangeR; X[13~14]=[7, 3],most_pos=13, most=7,\n",
      "Search rangeR; X[12~14]=[8, 7, 3],most_pos=12, most=8,\n",
      "Search rangeL; X[10~14]=[9, 8, 8, 7, 3], most_pos=10, most=9\n",
      "Search range; X[15~19]=[5, 1, 9, 9, 7] \n",
      "Search rangeL; X[15~16]=[5, 1], most_pos=15, most=5\n",
      "Search range; X[17~19]=[9, 9, 7] \n",
      "Search rangeL; X[17~17]=[9], most_pos=17, most=9\n",
      "Search rangeR; X[18~19]=[9, 7],most_pos=18, most=9,\n",
      "Search rangeR; X[17~19]=[9, 9, 7],most_pos=18, most=9,\n",
      "Search rangeR; X[15~19]=[5, 1, 9, 9, 7],most_pos=18, most=9,\n",
      "Search rangeR; X[10~19]=[9, 8, 8, 7, 3, 5, 1, 9, 9, 7],most_pos=18, most=9,\n",
      "최대값  9  은(는) 마지막으로 리스트의 19 번째에 위치한다.\n"
     ]
    }
   ],
   "source": [
    "B=copy.deepcopy(A)\n",
    "max, pos= max_pos_recursive(B, 0,len(B))\n",
    "print(\"최대값  {}  은(는) 마지막으로 리스트의 {} 번째에 위치한다.\".format(max, pos+1))"
   ]
  },
  {
   "cell_type": "markdown",
   "metadata": {},
   "source": [
    "### 재귀적으로 스트링 역 구하기"
   ]
  },
  {
   "cell_type": "code",
   "execution_count": 5,
   "metadata": {},
   "outputs": [],
   "source": [
    "def reverse_recursive(string):\n",
    "    if len(string) == 0:\n",
    "        return string\n",
    "    else:\n",
    "        return reverse_recursive(string[1:]) + string[0]      "
   ]
  },
  {
   "cell_type": "code",
   "execution_count": 6,
   "metadata": {},
   "outputs": [
    {
     "name": "stdout",
     "output_type": "stream",
     "text": [
      "11\n",
      "dlroW olleH\n"
     ]
    }
   ],
   "source": [
    "reverse_me = \"Hello World\"\n",
    "print(len(reverse_me))\n",
    "print(reverse_recursive(reverse_me))"
   ]
  },
  {
   "cell_type": "markdown",
   "metadata": {},
   "source": [
    "##### Python 자체 기능 이용 string reverse"
   ]
  },
  {
   "cell_type": "code",
   "execution_count": 7,
   "metadata": {},
   "outputs": [
    {
     "name": "stdout",
     "output_type": "stream",
     "text": [
      "dlroW olleH\n"
     ]
    }
   ],
   "source": [
    "txt = reverse_me[::-1]\n",
    "print(txt)"
   ]
  },
  {
   "cell_type": "markdown",
   "metadata": {},
   "source": [
    "### 재귀적 선형탐색 구현"
   ]
  },
  {
   "cell_type": "raw",
   "metadata": {},
   "source": [
    "####  반복방법으로 선형 탐색 구현"
   ]
  },
  {
   "cell_type": "code",
   "execution_count": 8,
   "metadata": {},
   "outputs": [],
   "source": [
    "# 정수 리스트 L 에서 찾고자하는 정수  x  가 나타나는 첫번째 위치 복귀\n",
    "def LinearSearch_iter(x, L):      \n",
    "    for (k, item) in enumerate(L):  \n",
    "        if item==x:\n",
    "            return k\n",
    "    return -1"
   ]
  },
  {
   "cell_type": "code",
   "execution_count": 9,
   "metadata": {},
   "outputs": [
    {
     "name": "stdout",
     "output_type": "stream",
     "text": [
      "[9, 2, 8, 10, 13, 6, 9, 6, 11, 9]\n"
     ]
    }
   ],
   "source": [
    "from random import *\n",
    "import copy\n",
    "A=choices(list(range(15)), k=10)\n",
    "print(A)"
   ]
  },
  {
   "cell_type": "code",
   "execution_count": 10,
   "metadata": {},
   "outputs": [
    {
     "name": "stdout",
     "output_type": "stream",
     "text": [
      "리스트 {}에서 {} 는 없습니다.\n"
     ]
    }
   ],
   "source": [
    "x=4\n",
    "p=LinearSearch_iter(x,A)\n",
    "if p!=-1:\n",
    "    print(\"리스트 {} 에서 {} 는 {} 번째 위치한다.\".format(A, x, p+1 ))\n",
    "else:\n",
    "    print(\"리스트 {}에서 {} 는 없습니다.\")"
   ]
  },
  {
   "cell_type": "markdown",
   "metadata": {},
   "source": [
    "#### 재귀적 방법으로 선형 탐색  구현"
   ]
  },
  {
   "cell_type": "code",
   "execution_count": 11,
   "metadata": {},
   "outputs": [],
   "source": [
    "# 정수 리스트 L 에서 찾고자하는 정수  x  가 나타나는 첫번째 위치 복귀\n",
    "def LinearSearch_recursive(x, L, left, right):          \n",
    "    if right==left:\n",
    "        return -1\n",
    "    if (right-left)==1:     \n",
    "        if x==L[left]:\n",
    "            found=True\n",
    "            return left\n",
    "        else:\n",
    "            return -1\n",
    "    mid=(left+right)//2\n",
    "    l=LinearSearch_recursive(x, L, left, mid)\n",
    "    print(\"search_l=L[{}:{}], l={}\".format(left, mid, l))\n",
    "    \n",
    "    if l!=-1:\n",
    "        return l\n",
    "    else:\n",
    "        r= LinearSearch_recursive(x, L, mid, right)    \n",
    "        print(\"search_r=L[{}:{}], r={}\".format(mid, right, r))        \n",
    "        if r!=-1:\n",
    "            return r\n",
    "        else:\n",
    "            return -1"
   ]
  },
  {
   "cell_type": "code",
   "execution_count": 12,
   "metadata": {},
   "outputs": [
    {
     "name": "stdout",
     "output_type": "stream",
     "text": [
      "[9, 2, 8, 10, 13, 6, 9, 6, 11, 9]\n",
      "search_l=L[0:1], l=-1\n",
      "search_r=L[1:2], r=-1\n",
      "search_l=L[0:2], l=-1\n",
      "search_l=L[2:3], l=-1\n",
      "search_l=L[3:4], l=-1\n",
      "search_r=L[4:5], r=-1\n",
      "search_r=L[3:5], r=-1\n",
      "search_r=L[2:5], r=-1\n",
      "search_l=L[0:5], l=-1\n",
      "search_l=L[5:6], l=-1\n",
      "search_r=L[6:7], r=-1\n",
      "search_l=L[5:7], l=-1\n",
      "search_l=L[7:8], l=-1\n",
      "search_l=L[8:9], l=-1\n",
      "search_r=L[9:10], r=-1\n",
      "search_r=L[8:10], r=-1\n",
      "search_r=L[7:10], r=-1\n",
      "search_r=L[5:10], r=-1\n",
      "리스트 {}에서 {} 는 없습니다.\n"
     ]
    }
   ],
   "source": [
    "import copy\n",
    "B=copy.deepcopy(A)\n",
    "print(B)\n",
    "x=4\n",
    "found=False\n",
    "p=LinearSearch_recursive(x,B, 0, len(A))\n",
    "if p!=-1:\n",
    "    print(\"리스트 {} 에서 {} 는 {} 번째 위치한다.\".format(B, x, p+1 ))\n",
    "else:\n",
    "    print(\"리스트 {}에서 {} 는 없습니다.\")"
   ]
  },
  {
   "cell_type": "markdown",
   "metadata": {},
   "source": [
    "### 재귀적 Bubble Sort 구현"
   ]
  },
  {
   "cell_type": "markdown",
   "metadata": {},
   "source": [
    "####   반복적 방법 Bubble sort 구현"
   ]
  },
  {
   "cell_type": "code",
   "execution_count": 13,
   "metadata": {},
   "outputs": [],
   "source": [
    "def sort_bubble(L):\n",
    "    n=len(L)\n",
    "    for i in range(n-1):\n",
    "        for j in range(n-i-1):\n",
    "            if L[j]> L[j+1]:\n",
    "                L[j+1], L[j]=L[j], L[j+1]\n",
    "    return L"
   ]
  },
  {
   "cell_type": "code",
   "execution_count": 14,
   "metadata": {},
   "outputs": [
    {
     "name": "stdout",
     "output_type": "stream",
     "text": [
      "[15, 4, 5, 16, 13, 12, 3, 2, 14, 8]\n"
     ]
    },
    {
     "data": {
      "text/plain": [
       "[2, 3, 4, 5, 8, 12, 13, 14, 15, 16]"
      ]
     },
     "execution_count": 14,
     "metadata": {},
     "output_type": "execute_result"
    }
   ],
   "source": [
    "from random import *\n",
    "n=10\n",
    "A=sample(range(0,2*n), n)\n",
    "B=A  #shallow copy\n",
    "import copy\n",
    "C=copy.deepcopy(A)  #deep copy \n",
    "D=copy.deepcopy(A)  #deep copy \n",
    "E=copy.deepcopy(A)  #deep copy \n",
    "print(A)\n",
    "sort_bubble(A)"
   ]
  },
  {
   "cell_type": "markdown",
   "metadata": {},
   "source": [
    "####   재귀적 방법 Bubble sort 구현 1"
   ]
  },
  {
   "cell_type": "code",
   "execution_count": 15,
   "metadata": {},
   "outputs": [],
   "source": [
    "# 리스트 L 에서 최대값이 처음 나타나는 위치 복귀\n",
    "def max2(L):\n",
    "    Maximum=0\n",
    "    index=0\n",
    "    for i, item in enumerate(L):\n",
    "        if item>Maximum:\n",
    "            Maximum=item\n",
    "            index=i\n",
    "    return Maximum, index     "
   ]
  },
  {
   "cell_type": "code",
   "execution_count": 16,
   "metadata": {},
   "outputs": [],
   "source": [
    "def bubble_sort_recursive(L, n):\n",
    "   # print(list, n)\n",
    "    if n==1:  \n",
    "        return L\n",
    "    M, index=max2(L)\n",
    "    L.pop(index)   \n",
    "    return bubble_sort_recursive(L, n-1)+ list([M])"
   ]
  },
  {
   "cell_type": "code",
   "execution_count": 17,
   "metadata": {},
   "outputs": [
    {
     "name": "stdout",
     "output_type": "stream",
     "text": [
      "[2, 3, 4, 5, 8, 12, 13, 14, 15, 16]\n",
      "[15, 4, 5, 16, 13, 12, 3, 2, 14, 8]\n"
     ]
    },
    {
     "data": {
      "text/plain": [
       "[2, 3, 4, 5, 8, 12, 13, 14, 15, 16]"
      ]
     },
     "execution_count": 17,
     "metadata": {},
     "output_type": "execute_result"
    }
   ],
   "source": [
    "print(B)\n",
    "C=copy.deepcopy(D)\n",
    "print(C)\n",
    "bubble_sort_recursive(C, n)"
   ]
  },
  {
   "cell_type": "markdown",
   "metadata": {},
   "source": [
    "####   재귀적 방법 Bubble sort 구현 2"
   ]
  },
  {
   "cell_type": "code",
   "execution_count": 18,
   "metadata": {},
   "outputs": [],
   "source": [
    "def max3(L):    \n",
    "    for j in range(len(L)-1):\n",
    "        if L[j]>L[j+1]:\n",
    "            L[j+1], L[j]=L[j], L[j+1]\n",
    "    return L[len(L)-1], len(L)-1     "
   ]
  },
  {
   "cell_type": "code",
   "execution_count": 19,
   "metadata": {},
   "outputs": [],
   "source": [
    "def bubble_sort_recursive2(L, n):\n",
    "   # print(list, n)\n",
    "    if n==1:  \n",
    "        return L\n",
    "    M, index=max3(L)\n",
    "    L.pop(index)   \n",
    "    return bubble_sort_recursive(L, n-1)+ list([M])"
   ]
  },
  {
   "cell_type": "code",
   "execution_count": 20,
   "metadata": {},
   "outputs": [
    {
     "name": "stdout",
     "output_type": "stream",
     "text": [
      "[2, 3, 4, 5, 8, 12, 13, 14, 15, 16]\n",
      "[15, 4, 5, 16, 13, 12, 3, 2, 14, 8]\n"
     ]
    },
    {
     "data": {
      "text/plain": [
       "[2, 3, 4, 5, 8, 12, 13, 14, 15, 16]"
      ]
     },
     "execution_count": 20,
     "metadata": {},
     "output_type": "execute_result"
    }
   ],
   "source": [
    "print(B)\n",
    "C=copy.deepcopy(D)\n",
    "print(C)\n",
    "bubble_sort_recursive2(C, n)"
   ]
  },
  {
   "cell_type": "markdown",
   "metadata": {},
   "source": [
    "#### 파이썬 함수 max() 및 index() 이용한   Bubble sort 재귀적 구현 3"
   ]
  },
  {
   "cell_type": "code",
   "execution_count": 21,
   "metadata": {},
   "outputs": [
    {
     "name": "stdout",
     "output_type": "stream",
     "text": [
      "[15, 4, 5, 16, 13, 12, 3, 2, 14, 8]\n"
     ]
    },
    {
     "data": {
      "text/plain": [
       "9"
      ]
     },
     "execution_count": 21,
     "metadata": {},
     "output_type": "execute_result"
    }
   ],
   "source": [
    "print(D)\n",
    "v, l = max3(D)\n",
    "D.index(v)"
   ]
  },
  {
   "cell_type": "code",
   "execution_count": 22,
   "metadata": {},
   "outputs": [],
   "source": [
    "def bubble_sort_recursive3(L, n):\n",
    "   # print(list, n)\n",
    "    if n==1:  \n",
    "        return L\n",
    "    M, l = max3(L)\n",
    "    p=L.index(M)\n",
    "    L.pop(p)   \n",
    "    return bubble_sort_recursive(L, n-1)+ list([M])"
   ]
  },
  {
   "cell_type": "code",
   "execution_count": 23,
   "metadata": {},
   "outputs": [
    {
     "name": "stdout",
     "output_type": "stream",
     "text": [
      "[4, 5, 15, 13, 12, 3, 2, 14, 8, 16]\n"
     ]
    },
    {
     "data": {
      "text/plain": [
       "[2, 3, 4, 5, 8, 12, 13, 14, 15, 16]"
      ]
     },
     "execution_count": 23,
     "metadata": {},
     "output_type": "execute_result"
    }
   ],
   "source": [
    "C=copy.deepcopy(D)\n",
    "print(C)\n",
    "bubble_sort_recursive3(C, n)"
   ]
  },
  {
   "cell_type": "markdown",
   "metadata": {},
   "source": [
    "###  Merge Sort 의 재귀적 구현"
   ]
  },
  {
   "cell_type": "code",
   "execution_count": 24,
   "metadata": {},
   "outputs": [],
   "source": [
    "def merge(L1, L2):\n",
    "    result = []\n",
    "    while (len(L1) > 0) and (len(L2) > 0):\n",
    "            if L1[0] < L2[0]:\n",
    "                result.append(L1[0]) #merges to append the elements\n",
    "                L1.pop(0)\n",
    "            else:\n",
    "                result.append(L2[0])\n",
    "                L2.pop(0)\n",
    "    \n",
    "    result += L1\n",
    "    result += L2\n",
    "    return result"
   ]
  },
  {
   "cell_type": "code",
   "execution_count": 25,
   "metadata": {},
   "outputs": [
    {
     "data": {
      "text/plain": [
       "[2, 3, 5, 6, 7, 9, 10, 12, 15]"
      ]
     },
     "execution_count": 25,
     "metadata": {},
     "output_type": "execute_result"
    }
   ],
   "source": [
    "L1=[3,7,9,12]\n",
    "L2=[2,5,6,10,15]\n",
    "merge(L1,L2)"
   ]
  },
  {
   "cell_type": "code",
   "execution_count": 26,
   "metadata": {},
   "outputs": [],
   "source": [
    "def msort_recursive(x): #function for merge sort\n",
    "    if len(x) < 2:\n",
    "        return x\n",
    "    mid = len(x)//2 #divides the elements into halves\n",
    "    y = msort_recursive(x[:mid])\n",
    "    z = msort_recursive(x[mid:])\n",
    "    return merge(y,z)"
   ]
  },
  {
   "cell_type": "code",
   "execution_count": 27,
   "metadata": {},
   "outputs": [
    {
     "data": {
      "text/plain": [
       "[2, 3, 5, 6, 7, 9, 10, 12, 15]"
      ]
     },
     "execution_count": 27,
     "metadata": {},
     "output_type": "execute_result"
    }
   ],
   "source": [
    "a=[3, 7, 9, 12, 2, 5, 6, 10, 15]\n",
    "msort_recursive(a)"
   ]
  },
  {
   "cell_type": "markdown",
   "metadata": {},
   "source": [
    "## 실습 1. 한글 문자열에 대해,  역문자열을 제공하여 주는 함수를 재귀적으로 구현해보시오.  "
   ]
  },
  {
   "cell_type": "markdown",
   "metadata": {},
   "source": [
    "* 입력 예시\n",
    "\n",
    "안녕하세요\n",
    "\n",
    "* 출력 예시\n",
    "\n",
    "요세하녕안\n",
    "\n",
    "* 출력 설명\n",
    "\n",
    "안녕하세요를 거꾸로 배열하여 출력한 것입니다. 이를 역문자열이라고 합니다."
   ]
  },
  {
   "cell_type": "markdown",
   "metadata": {},
   "source": [
    "## 재귀적으로 정의되는 집합 및 구조"
   ]
  },
  {
   "cell_type": "markdown",
   "metadata": {},
   "source": [
    "##  실습 2.  정수의 부분 집합 $X \\subseteq Z $ 이 다음과 같이 재귀적으로 정의된다. \n",
    "####  B(Basic Step).  $4 \\in X. $\n",
    "####  R1(Recursive step 1).   If $ x \\in X$, then $x-12 \\in X.$\n",
    "####  R2(Recursive step 1).    If $ x \\in X$, then $x^2 \\in X.$\n",
    "\n",
    "#### 집합 X 를 생성하는 알고리즘을 재귀적으로 파이썬으로 작성 하고, 집합 $X$ 의 모든 원소들이 4 로 나누어진다는 것을 증명하고자 한다.  "
   ]
  },
  {
   "cell_type": "markdown",
   "metadata": {},
   "source": [
    "### 2(a).  원소 4를 포함하는 집합  X 를 생성하는  파이썬 코드는? "
   ]
  },
  {
   "cell_type": "markdown",
   "metadata": {},
   "source": [
    "### 2(b). 다음을 만족하는 파이썬 함수 Set4(n)을 작성하시오.\n",
    "###  If $n=0$, then 원소 4 만을 포함하는 집합 X 를 복귀. \n",
    "###  If $n $ is an integer and $ n \\gt 0 $,  then Set4(n-1) 이 복귀하는 집합 X 의 모든 원소에 대해 상기 Recursive 1 및 Recursive 2 를 적용하여, 그 결과를 원소로 추가하여 확대한 집합 X 를 복귀 .\n",
    "\n",
    "### 예를 들어, Set4(0) 은 X={4} 를 복귀. \n",
    "### Set4(1)는 4-12=-8, 4*4=16 를 포함한 집합 X ={-8,4,16} 를 복귀.\n",
    "### Set4(2)는 4-12=-8, 4*4=16, -8-12=-20, (-8)*(-8)=64, 16-12=4, 16*16=256 를 포함한 집합 X ={-20, -8,4,16, 64, 256} 를 복귀.\n"
   ]
  },
  {
   "cell_type": "markdown",
   "metadata": {},
   "source": [
    "### 2(c). 상기 Set4(n)이 복귀하는 집합 X 의 모든 원소는 4의 배수일 때,'True' 를 복귀하는 파이썬 함수를 작성하고, n=3 일 때 실행하여  'True' 가  나오는 지를 확인하시오. "
   ]
  },
  {
   "cell_type": "markdown",
   "metadata": {},
   "source": [
    "## 실습 3.   \n",
    "### 3(a) n 개의 주어진 정수 $X=(x_1, x_2, ...., x_n )$ 의 분산을 계산하는 반복적 방법의 파이썬 함수 코드를 작성하시요.\n",
    "####  분산정의 ; $ Variance(X):= \\frac{\\sum_{i= 1}^{n} (x_i  - m)^2 }{n} ~(m~ is~the~ average~ of~ X)$"
   ]
  },
  {
   "cell_type": "markdown",
   "metadata": {},
   "source": [
    "### 3(b) X=(9,3,7,9,2,5,8)에 대해 코딩한 분산 구하는 함수를 적용하여 보시오."
   ]
  },
  {
   "cell_type": "markdown",
   "metadata": {},
   "source": [
    "### 3(c)  상기 튜플 X 를 numpy array 로 바꾸어서, Numpy 가 제공하는 분산 메소드의 결과와 비교하여 보시오."
   ]
  },
  {
   "cell_type": "markdown",
   "metadata": {},
   "source": [
    "### 3(d) 상기 분산 구하는 함수를 재귀적 알고리즘으로 코딩하여 보시오. "
   ]
  }
 ],
 "metadata": {
  "kernelspec": {
   "display_name": "Python 3.8.8 ('base')",
   "language": "python",
   "name": "python3"
  },
  "language_info": {
   "codemirror_mode": {
    "name": "ipython",
    "version": 3
   },
   "file_extension": ".py",
   "mimetype": "text/x-python",
   "name": "python",
   "nbconvert_exporter": "python",
   "pygments_lexer": "ipython3",
   "version": "3.8.8"
  },
  "vscode": {
   "interpreter": {
    "hash": "caf1c2fcf97217de91eafa76b907d50f9ea378f5ffbee7f571142d119bb6a771"
   }
  }
 },
 "nbformat": 4,
 "nbformat_minor": 4
}
