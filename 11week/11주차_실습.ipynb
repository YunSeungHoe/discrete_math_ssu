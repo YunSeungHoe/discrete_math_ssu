{
 "cells": [
  {
   "cell_type": "markdown",
   "metadata": {},
   "source": [
    "#  1 . 그래프 탐색(순회)\n",
    "### 본 실습에서는 그래프 의 각 노드를 순회하는 알고리즘을 살펴 봅시다. 그래프 순회는 깊이우선(Depth First) 와 너비우선(Width First) 알고리즘들이 있습니다.\n",
    "![alt text](fig12-DFS_BFS.JPG)\n",
    "![alt text](fig12-DFS_WFS.JPG)"
   ]
  },
  {
   "cell_type": "markdown",
   "metadata": {},
   "source": [
    "####  10주 실습에서 살펴보았던 다음 [그림1 ] 의 그래프에 대해 깊이우선탐색, 너비우선탐색에 대해 살펴보기로 합니다. \n",
    "![alt text](fig12-1.png)"
   ]
  },
  {
   "cell_type": "markdown",
   "metadata": {},
   "source": [
    "#### 상기  [그림1]의  그래프에 대해, 그래프 표현은 이미 학습한대로  adjacency list 를 사용하며, 파이썬에서는 이를 dictionary 로 다음과 같이 표현합니다."
   ]
  },
  {
   "cell_type": "code",
   "execution_count": 2,
   "metadata": {
    "scrolled": true
   },
   "outputs": [
    {
     "data": {
      "text/plain": [
       "{'B': ['F', 'L', 'N', 'S'],\n",
       " 'E': ['F', 'L'],\n",
       " 'F': ['B', 'E', 'L', 'N'],\n",
       " 'L': ['B', 'E', 'F', 'N', 'S'],\n",
       " 'N': ['B', 'F', 'L', 'S'],\n",
       " 'S': ['B', 'L', 'N']}"
      ]
     },
     "execution_count": 2,
     "metadata": {},
     "output_type": "execute_result"
    }
   ],
   "source": [
    "graph1 = {\n",
    "       'B': ['F', 'L', 'N', 'S'],\n",
    "       'E': ['F', 'L'],\n",
    "       'F': ['B', 'E', 'L', 'N'],  \n",
    "       'L': ['B', 'E', 'F', 'N', 'S'],\n",
    "       'N': ['B', 'F', 'L', 'S'],\n",
    "       'S': ['B', 'L', 'N'],}\n",
    "graph1"
   ]
  },
  {
   "cell_type": "markdown",
   "metadata": {},
   "source": [
    "<br/>"
   ]
  },
  {
   "cell_type": "markdown",
   "metadata": {},
   "source": [
    "## 1.1. 깊이우선탐색 (Depth First Search)"
   ]
  },
  {
   "cell_type": "markdown",
   "metadata": {},
   "source": [
    "#### 깊이우선탐색 알고리즘은 시작노드에서 시작하여 시작 노드를 탐색된 것으로 등록하고, 또다시 시작노드의 인접노드 들에 대해 순차적으로 살펴보면서 탐색된 것이 아니면 탐색된 것으로 등록하고, 다시 이 노드의 인접 노드들에 대해 같은 과정을 되풀이해 가면서 탐색하는 것으로 재귀적 알고리즘으로 구현하면 편리합니다.  \n",
    "#### 재귀적으로 구현하지 않고 반복적으로 구현하는 경우에,  탐색된 노드의  인접 노드들을 살펴보고 이미 탐색된 것이 아닌 인접노드들은 역순으로 다음 단계 탐색을 위해 스택에 저장합니다.  이후,  현 단계의 탐색이 모두 마쳐지면, 스택에서 하나씩 꺼내어 꺼내진 노드를 탐색된 것으로 등록하고,  이 노드의 인접 노드들을 살펴보고 이미 탐색된 것이 아닌 인접노드들은 역순으로  다음 단계 탐색을 위해 스택에 저장합니다. 이후, 스택에서 제일 마지막에 삽입된 것을 꺼내어서 탐색해 나갑니다.  "
   ]
  },
  {
   "cell_type": "markdown",
   "metadata": {},
   "source": [
    "### 그래프의 재귀적 깊이우선탐색에 대한  의사코드(pseudo-code)는 아래와 같습니다. \n",
    "\n",
    "~~~python\n",
    "DFS(graph G, start vertex s):\n",
    "    // all nodes initially unexplored\n",
    "    mark s as explored\n",
    "    for every edge (s, v):\n",
    "       if v unexplored:\n",
    "          DFS(G, v)\n",
    "~~~"
   ]
  },
  {
   "cell_type": "markdown",
   "metadata": {},
   "source": [
    "### 다음은 재귀적 깊이우선탐색에 의한, 주어진 시작노드에서 시작하여 모든 노드를 순회하는 그래프 모든 노드의 탐색(순회) 파이썬 알고리즘 구현입니다. "
   ]
  },
  {
   "cell_type": "code",
   "execution_count": 3,
   "metadata": {},
   "outputs": [],
   "source": [
    "def dfs(graph, start,explored=[]):  #graph ; 인접 노드 목록 그래프 표현, #start ;  시작 노드, explored=탐색된 노드 리스트\n",
    "    if not start in graph: #시작노드가 그래프 노드 가 아니면 문제 있음 \n",
    "        return None\n",
    "   \n",
    "    if start in explored: # (1) 만일 시작 노드가 이미 탐색된 것이면, explored 리턴 ; 재귀 종료 조건\n",
    "        return explored\n",
    "\n",
    "    explored = explored + [start] # (2) 시작 노드를 탐색된 노드 리스트에 추가 \n",
    "    for w in graph[start]: # (3) 시작노드들의 인접 노드들에 대해 for looping   \n",
    "        if w not in explored:  # (4) 인접 노드가 탐색 노드 리스트에 없는 지를 점검\n",
    "            explored=dfs(graph, w, explored)  # (5)계속해서 깊이 탐색해 들어감    \n",
    "    return explored"
   ]
  },
  {
   "cell_type": "markdown",
   "metadata": {},
   "source": [
    "#### [그림 1]  의 그래프에 대해 상기 재귀적 깊이우선탐색 알고리즘을  적용해봅시다. \n",
    "![Alttext](fig12-2.png)"
   ]
  },
  {
   "cell_type": "code",
   "execution_count": 4,
   "metadata": {},
   "outputs": [
    {
     "data": {
      "text/plain": [
       "['S', 'B', 'F', 'E', 'L', 'N']"
      ]
     },
     "execution_count": 4,
     "metadata": {},
     "output_type": "execute_result"
    }
   ],
   "source": [
    "dfs(graph1, 'S')"
   ]
  },
  {
   "cell_type": "markdown",
   "metadata": {},
   "source": [
    "#### [그림 2 (c)] 의 깊이 우선 탐색 그래프 순회 알고리즘 ([그림 2(a)] )의 그래프 노드 순회 순서가 맞는 지를 확인하여 봅시다."
   ]
  },
  {
   "cell_type": "code",
   "execution_count": 5,
   "metadata": {},
   "outputs": [],
   "source": [
    "def dfs_check(graph, start, explored=[]):  #graph ; 인접 노드 목록 그래프 표현, #start ;  시작 노드, explored=탐색된 노드 리스트\n",
    "    global traversal\n",
    "    if not start in graph: #시작노드가 그래프 노드 가 아니면 문제 있음 \n",
    "        return None\n",
    "    \n",
    "    if start in explored: # (1) 만일 시작 노드가 이미 탐색된 것이면, explored 리턴\n",
    "        return explored\n",
    "    \n",
    "    explored = explored + [start] # (2) 시작 노드를 탐색된 노드 리스트에 추가 \n",
    "    for w in graph[start]: # (3) 시작노드들의 인접 노드들에 대해 for looping\n",
    "        traversal.append(w)\n",
    "        if w not in explored:  # (4) 인접 노드가 탐색 노드 리스트에 없는 지를 점검\n",
    "            explored=dfs_check(graph, w, explored)  # (5)계속해서 깊이 탐색해 들어감    \n",
    "    return explored"
   ]
  },
  {
   "cell_type": "code",
   "execution_count": 6,
   "metadata": {},
   "outputs": [
    {
     "name": "stdout",
     "output_type": "stream",
     "text": [
      "\n",
      " explored nodes= ['S', 'B', 'F', 'E', 'L', 'N']\n",
      "\n",
      " Traversal nodes = ['S', 'B', 'F', 'B', 'E', 'F', 'L', 'B', 'E', 'F', 'N', 'B', 'F', 'L', 'S', 'S', 'L', 'N', 'L', 'N', 'S', 'L', 'N']\n",
      "\n",
      " The number of traversal nodes = 23\n"
     ]
    }
   ],
   "source": [
    "traversal=['S']\n",
    "explored=dfs_check(graph1, 'S')\n",
    "print(\"\\n explored nodes=\", explored)\n",
    "print(\"\\n Traversal nodes =\",traversal)\n",
    "print(\"\\n The number of traversal nodes =\", len(traversal))"
   ]
  },
  {
   "cell_type": "markdown",
   "metadata": {},
   "source": [
    "#### 상기 [그림 2] 의 그래프에서 노드 $'L'$  에서 노드 $'N'$ 까지 에지가 없는 [그림 2-1 (b)] 그래프 노드들의 깊이 탐색 순회의 경우를 검토해 봅시다.  \n",
    "![Alttext](fig12-2_1.png)\n",
    "#### 이 때, [그림 2-1] 의 가운데 있는 그래프 ([그림 2-1(b)] 에서 노드 'S' , 노드 'B' ,노드 'F' , 노드 'E' , 노드 'L' 순으로 계속 깊이 들어가서 탐색했다가, 상위 레벨로 올라가 노드 'F 의 나머지 다른 인접노드  'L' 은 이미 탐색하였고 마지막으로 노드 'F 의  마지막 인접노드  'N' 을 탐색하게  됩니다.  이렇게 거슬러 올라가서 탐색하는 것을  \"Back Tracking\" 이라 합니다.¶"
   ]
  },
  {
   "cell_type": "code",
   "execution_count": 7,
   "metadata": {},
   "outputs": [
    {
     "data": {
      "text/plain": [
       "{'B': ['F', 'L', 'N', 'S'],\n",
       " 'E': ['F', 'L'],\n",
       " 'F': ['B', 'E', 'L', 'N'],\n",
       " 'L': ['B', 'E', 'F', 'S'],\n",
       " 'N': ['B', 'F', 'S'],\n",
       " 'S': ['B', 'L', 'N']}"
      ]
     },
     "execution_count": 7,
     "metadata": {},
     "output_type": "execute_result"
    }
   ],
   "source": [
    "graph2_1 = {\n",
    "       'B': ['F', 'L', 'N', 'S'],\n",
    "       'E': ['F', 'L'],\n",
    "       'F': ['B', 'E', 'L', 'N'],  \n",
    "       'L': ['B', 'E', 'F', 'S'],\n",
    "       'N': ['B', 'F', 'S'],\n",
    "       'S': ['B', 'L', 'N'],}\n",
    "graph2_1"
   ]
  },
  {
   "cell_type": "code",
   "execution_count": 8,
   "metadata": {},
   "outputs": [
    {
     "name": "stdout",
     "output_type": "stream",
     "text": [
      "\n",
      " explored nodes= ['S', 'B', 'F', 'E', 'L', 'N']\n",
      "\n",
      " Traversal nodes = ['S', 'B', 'F', 'B', 'E', 'F', 'L', 'B', 'E', 'F', 'S', 'L', 'N', 'B', 'F', 'S', 'L', 'N', 'S', 'L', 'N']\n",
      "\n",
      " The number of traversal nodes = 21\n"
     ]
    }
   ],
   "source": [
    "traversal=['S']\n",
    "explored=dfs_check(graph2_1, 'S')\n",
    "print(\"\\n explored nodes=\", explored)\n",
    "print(\"\\n Traversal nodes =\",traversal)\n",
    "print(\"\\n The number of traversal nodes =\", len(traversal))"
   ]
  },
  {
   "cell_type": "markdown",
   "metadata": {},
   "source": [
    "### networkX 패키기를 활용한 깊이 우선 탐색 "
   ]
  },
  {
   "cell_type": "code",
   "execution_count": 9,
   "metadata": {},
   "outputs": [
    {
     "name": "stdout",
     "output_type": "stream",
     "text": [
      "Nodes of graph: \n",
      "['B', 'E', 'F', 'L', 'N', 'S']\n",
      "Edges of graph: \n",
      "[('B', 'F', {}), ('B', 'L', {}), ('B', 'N', {}), ('B', 'S', {}), ('E', 'F', {}), ('E', 'L', {}), ('F', 'L', {}), ('F', 'N', {}), ('L', 'S', {}), ('L', 'N', {}), ('N', 'S', {})]\n"
     ]
    }
   ],
   "source": [
    "import networkx as nx # networkx 패키지 임포트\n",
    "G1=nx.Graph()\n",
    "Nodes=['B', 'E', 'F', 'L', 'N',  'S' ]\n",
    "G1.add_nodes_from(Nodes)\n",
    "\n",
    "# adding a list of edges:\n",
    "G1.add_edges_from([('B', 'F'), ('B', 'L'), ('B', 'N'), ('B', 'S'),('L', 'S' ), ('E', 'F'), ('E', 'L'), ('F', 'L'), ('L', 'N'), ('N', 'F'), ('N', 'S')])                   \n",
    "print(\"Nodes of graph: \")\n",
    "print(G1.nodes())\n",
    "print(\"Edges of graph: \")\n",
    "print(G1.edges(data=True))"
   ]
  },
  {
   "cell_type": "code",
   "execution_count": 10,
   "metadata": {},
   "outputs": [
    {
     "data": {
      "text/plain": [
       "[('S', 'B'), ('B', 'F'), ('F', 'E'), ('E', 'L'), ('L', 'N')]"
      ]
     },
     "execution_count": 10,
     "metadata": {},
     "output_type": "execute_result"
    }
   ],
   "source": [
    "list(nx.dfs_edges(G1, 'S'))"
   ]
  },
  {
   "cell_type": "code",
   "execution_count": 68,
   "metadata": {},
   "outputs": [
    {
     "data": {
      "text/plain": [
       "[('S', 'B'), ('S', 'L'), ('S', 'N'), ('B', 'F'), ('L', 'E')]"
      ]
     },
     "execution_count": 68,
     "metadata": {},
     "output_type": "execute_result"
    }
   ],
   "source": [
    "list(nx.bfs_edges(G1, 'S'))"
   ]
  },
  {
   "cell_type": "markdown",
   "metadata": {},
   "source": [
    "### 깊이우선탐색에 의한, 시작노드에서 종단 노드로의 단순 경로  찾기\n",
    "#### 단순 경로는 회로가 포함하지 않는 경로를 말합니다.\n",
    "#### 깊이우선탐색에 의한 단순 경로 찾기는 시작 노드에서 시작한 깊이 탐색 결과 과정중에 탐색된 노드가 종단 노드이면 종결됩니다. "
   ]
  },
  {
   "cell_type": "markdown",
   "metadata": {},
   "source": [
    "#### 다음은 재귀적 깊이우선탐색을 이용한 주어진 시작 노드에서 종단노드까지의 단순 경로 하나 찾기 알고리즘 파이썬 구현입니다."
   ]
  },
  {
   "cell_type": "code",
   "execution_count": 12,
   "metadata": {},
   "outputs": [],
   "source": [
    "def find_path_by_dfs(graph, start, end, path=[]):   \n",
    "      #  print(\"path=: {}\".format(path))\n",
    "        if not start in graph:\n",
    "            return None\n",
    "        \n",
    "        path = path + [start]\n",
    "        \n",
    "        if start == end : #시작노드로부터 종단노드까지의 경로인지를 점검\n",
    "        #    print(\"path=: {}\".format(path))\n",
    "            return path\n",
    "  \n",
    "        for node in graph[start]:            \n",
    "                if node not in path:                \n",
    "                    newpath = find_path_by_dfs(graph, node, end, path)\n",
    "                    if newpath: return newpath #시작 노드로 부터 종단노드까지의 경로를 발견했으면 알고리즘 수행을 종료하고 찾은 경로 복귀\n",
    "        return None         "
   ]
  },
  {
   "cell_type": "markdown",
   "metadata": {},
   "source": [
    "#### [그림 1]  의 그래프에 대해 깊이우선탐색 기반으로 경로 하나를 탐색해 봅시다."
   ]
  },
  {
   "cell_type": "code",
   "execution_count": 13,
   "metadata": {},
   "outputs": [
    {
     "data": {
      "text/plain": [
       "['S', 'B', 'F']"
      ]
     },
     "execution_count": 13,
     "metadata": {},
     "output_type": "execute_result"
    }
   ],
   "source": [
    "find_path_by_dfs(graph1, 'S', 'F')"
   ]
  },
  {
   "cell_type": "markdown",
   "metadata": {},
   "source": [
    "### 깊이우선탐색에 의한,  그래프 지정 노드에서의 단순 회로 하나  찾기\n",
    "#### 단순 회로는 내부에 회로를 포함하지 않는 회로를 말합니다. \n",
    "#### 깊이우선탐색에 의한 단순 회로 찾기는 시작 노드에서 시작한 깊이 우선 탐색 결과 과정중에 탐색된 노드가 지정노드이면 종결됩니다.  "
   ]
  },
  {
   "cell_type": "code",
   "execution_count": 14,
   "metadata": {},
   "outputs": [],
   "source": [
    "def find_circuit_by_dfs(graph, start, end, circuit=[]): # start : 시작노드로 처음에는 그래프 지정노드임, end: 그래프에서의 지정 노드\n",
    "        if not start in graph : # (1) 시작노드가  그래프 노드 인지 점검\n",
    "            return None\n",
    "        \n",
    "        circuit = circuit+ [start]\n",
    "        if len(circuit) > 3 and start == end:\n",
    "#        ('S', 'L', 'S' ) 같은 경우를 배제하기 위해, \"len(circuit) > 3 \" 사용\n",
    "           return circuit\n",
    "\n",
    "        for node in graph[start]:\n",
    "            #rint(\"node:{}\".format(node))\n",
    "            if node not in circuit or (len(circuit) >2 and (node==end)):\n",
    "                    newcircuit = find_circuit_by_dfs(graph, node,end, circuit)\n",
    "                    if newcircuit: return newcircuit\n",
    "        return None      "
   ]
  },
  {
   "cell_type": "code",
   "execution_count": 15,
   "metadata": {},
   "outputs": [
    {
     "data": {
      "text/plain": [
       "['S', 'B', 'F', 'E', 'L', 'N', 'S']"
      ]
     },
     "execution_count": 15,
     "metadata": {},
     "output_type": "execute_result"
    }
   ],
   "source": [
    "find_circuit_by_dfs(graph1, 'S', 'S')"
   ]
  },
  {
   "cell_type": "code",
   "execution_count": 16,
   "metadata": {},
   "outputs": [
    {
     "data": {
      "text/plain": [
       "['E', 'F', 'B', 'L', 'E']"
      ]
     },
     "execution_count": 16,
     "metadata": {},
     "output_type": "execute_result"
    }
   ],
   "source": [
    "find_circuit_by_dfs(graph1, 'E', 'E')"
   ]
  },
  {
   "cell_type": "markdown",
   "metadata": {},
   "source": [
    "### 깊이우선탐색으로 시작 노드에서  종단 노드에로의 모든 단순 경로 찾기 \n",
    "#### 다음은 깊이우선탐색을 이용한,  시작 노드에서  종단 노드에로의 모든 단순 경로 탐색 파이썬 알고리즘 구현입니다."
   ]
  },
  {
   "cell_type": "code",
   "execution_count": 17,
   "metadata": {},
   "outputs": [],
   "source": [
    "def find_all_paths_by_dfs(graph, start, end, path=[]):\n",
    "    if not start in graph : # (1) 시작노드가  그래프 노드 인지 점검\n",
    "            return None\n",
    "    path = path + [start] # (2) ; 경로 업데이트 \n",
    "    if start == end :  # (3) 시작노드 와 종단노드간 경로를 찾았는 지 점검\n",
    "            return [path]  # 'find_all_paths_by_dfs'의 return  타입을 리스트의 리스트로 맞추기 위해, [path] 로 함\n",
    "       \n",
    "    all_paths = [] # (4) 모든 시작노드 와 종단 노드간의 모든 경로를 담는 경로(리스트 타입)의 리스트\n",
    "    for node in graph[start]: # (5) 시작 노드의 인접 노드 탐색 \n",
    "            if node not in path:\n",
    "                newpaths = find_all_paths_by_dfs(graph, node, end, path) # (6) newpaths 는 해당 노드(node)를 시작로 한 모든 경로들의 리스트\n",
    "              #  print(\"NewPaths=\", newpaths)\n",
    "                for newpath in newpaths:  # (7) all_paths에  newpaths에 있는 모든 경로를 추가 \n",
    "                    all_paths.append(newpath)\n",
    "            # 이때 \"all_paths\" 는 graph[start] 에 있는 인접노드들중 처음부터 'node' 까지의 각각을 통과하는 '시작' 노드 및 '종단' 노드 까지의 \n",
    "            # 의 경로들의 모임 \n",
    "            # 따라서, 'start' 가 시작노드 이며, 'for' loop 동안 시작노드에서 시작노드에서 시작하여  시작노드의 인접노드들을 종단노드에 도달하는 \n",
    "            # 모든 경로가  all_paths 에 포함됨\n",
    "    return all_paths"
   ]
  },
  {
   "cell_type": "code",
   "execution_count": 18,
   "metadata": {
    "scrolled": true
   },
   "outputs": [
    {
     "data": {
      "text/plain": [
       "[['S', 'B', 'F'],\n",
       " ['S', 'B', 'L', 'E', 'F'],\n",
       " ['S', 'B', 'L', 'F'],\n",
       " ['S', 'B', 'L', 'N', 'F'],\n",
       " ['S', 'B', 'N', 'F'],\n",
       " ['S', 'B', 'N', 'L', 'E', 'F'],\n",
       " ['S', 'B', 'N', 'L', 'F'],\n",
       " ['S', 'L', 'B', 'F'],\n",
       " ['S', 'L', 'B', 'N', 'F'],\n",
       " ['S', 'L', 'E', 'F'],\n",
       " ['S', 'L', 'F'],\n",
       " ['S', 'L', 'N', 'B', 'F'],\n",
       " ['S', 'L', 'N', 'F'],\n",
       " ['S', 'N', 'B', 'F'],\n",
       " ['S', 'N', 'B', 'L', 'E', 'F'],\n",
       " ['S', 'N', 'B', 'L', 'F'],\n",
       " ['S', 'N', 'F'],\n",
       " ['S', 'N', 'L', 'B', 'F'],\n",
       " ['S', 'N', 'L', 'E', 'F'],\n",
       " ['S', 'N', 'L', 'F']]"
      ]
     },
     "execution_count": 18,
     "metadata": {},
     "output_type": "execute_result"
    }
   ],
   "source": [
    "find_all_paths_by_dfs(graph1, 'S', 'F')"
   ]
  },
  {
   "cell_type": "code",
   "execution_count": 19,
   "metadata": {},
   "outputs": [
    {
     "data": {
      "text/plain": [
       "20"
      ]
     },
     "execution_count": 19,
     "metadata": {},
     "output_type": "execute_result"
    }
   ],
   "source": [
    "len(find_all_paths_by_dfs(graph1, 'S', 'F'))"
   ]
  },
  {
   "cell_type": "markdown",
   "metadata": {},
   "source": [
    "#### networkX 패키기를 활용한 모든 단순 경로 찾기"
   ]
  },
  {
   "cell_type": "code",
   "execution_count": 20,
   "metadata": {},
   "outputs": [
    {
     "data": {
      "text/plain": [
       "[['S', 'B', 'F'],\n",
       " ['S', 'B', 'L', 'E', 'F'],\n",
       " ['S', 'B', 'L', 'F'],\n",
       " ['S', 'B', 'L', 'N', 'F'],\n",
       " ['S', 'B', 'N', 'L', 'E', 'F'],\n",
       " ['S', 'B', 'N', 'L', 'F'],\n",
       " ['S', 'B', 'N', 'F'],\n",
       " ['S', 'L', 'B', 'F'],\n",
       " ['S', 'L', 'B', 'N', 'F'],\n",
       " ['S', 'L', 'E', 'F'],\n",
       " ['S', 'L', 'F'],\n",
       " ['S', 'L', 'N', 'B', 'F'],\n",
       " ['S', 'L', 'N', 'F'],\n",
       " ['S', 'N', 'B', 'F'],\n",
       " ['S', 'N', 'B', 'L', 'E', 'F'],\n",
       " ['S', 'N', 'B', 'L', 'F'],\n",
       " ['S', 'N', 'L', 'B', 'F'],\n",
       " ['S', 'N', 'L', 'E', 'F'],\n",
       " ['S', 'N', 'L', 'F'],\n",
       " ['S', 'N', 'F']]"
      ]
     },
     "execution_count": 20,
     "metadata": {},
     "output_type": "execute_result"
    }
   ],
   "source": [
    "list(nx.all_simple_paths(G1, 'S', 'F'))"
   ]
  },
  {
   "cell_type": "code",
   "execution_count": 21,
   "metadata": {},
   "outputs": [
    {
     "data": {
      "text/plain": [
       "20"
      ]
     },
     "execution_count": 21,
     "metadata": {},
     "output_type": "execute_result"
    }
   ],
   "source": [
    "len(list(nx.all_simple_paths(G1, 'S', 'F')))"
   ]
  },
  {
   "cell_type": "markdown",
   "metadata": {},
   "source": [
    "### 깊이우선탐색으로 시작 노드에서  종단 노드에로의 모든 단순 회로 찾기 \n",
    "#### 다음은 깊이우선탐색을 이용한,  시작 노드에서  종단 노드에로의 모든 단순 회로 탐색 파이썬 알고리즘 구현입니다."
   ]
  },
  {
   "cell_type": "code",
   "execution_count": 22,
   "metadata": {},
   "outputs": [],
   "source": [
    "def find_all_circuits_by_dfs(graph, start, end, circuit=[]):\n",
    "    if not start in graph : # (1) 시작노드가  그래프 노드 인지 점검\n",
    "            return None\n",
    "    circuit = circuit + [start] # (2) ; 경로 업데이트 \n",
    "    if len(circuit) > 3 and start == end:  # (3) 시작노드 와 종단노드간 경로를 찾았는 지 점검\n",
    "#        ('S', 'L', 'S' ) 같은 경우를 배제하기 위해, \"len(circuit) > 3 \" 사용\n",
    "           return [circuit]  # 'find_all_circuits_by_dfs'의 return  타입을 리스트의 리스트로 맞추기 위해, [circuit] 로 함\n",
    "   \n",
    "       \n",
    "    all_circuits = [] # (4) 모든 시작노드 와 종단 노드간의 모든 경로를 담는 경로(리스트 타입)의 리스트\n",
    "    for node in graph[start]: # (5) 시작 노드의 인접 노드 탐색 \n",
    "            if node not in circuit or (len(circuit) >2 and (node==end)):\n",
    "                newcircuits = find_all_circuits_by_dfs(graph, node, end, circuit) # (6) newpaths 는 해당 노드(node)를 시작로 한 모든 경로들의 리스트\n",
    "              #  print(\"NewPaths=\", newpaths)\n",
    "                for newcircuit in newcircuits:  # (7) all_paths에  newpaths에 있는 모든 경로를 추가 \n",
    "                    all_circuits.append(newcircuit)\n",
    "            # 이때 \"all_circuits\" 는 graph[start] 에 있는 인접노드들 각각을 통과하는 '지정노드' 에서 '지정노드' 까지의 회로들의 모임 \n",
    "            \n",
    "    return all_circuits"
   ]
  },
  {
   "cell_type": "code",
   "execution_count": 23,
   "metadata": {},
   "outputs": [
    {
     "data": {
      "text/plain": [
       "[['S', 'B', 'F', 'E', 'L', 'N', 'S'],\n",
       " ['S', 'B', 'F', 'E', 'L', 'S'],\n",
       " ['S', 'B', 'F', 'L', 'N', 'S'],\n",
       " ['S', 'B', 'F', 'L', 'S'],\n",
       " ['S', 'B', 'F', 'N', 'L', 'S'],\n",
       " ['S', 'B', 'F', 'N', 'S'],\n",
       " ['S', 'B', 'L', 'E', 'F', 'N', 'S'],\n",
       " ['S', 'B', 'L', 'F', 'N', 'S'],\n",
       " ['S', 'B', 'L', 'N', 'S'],\n",
       " ['S', 'B', 'L', 'S'],\n",
       " ['S', 'B', 'N', 'F', 'E', 'L', 'S'],\n",
       " ['S', 'B', 'N', 'F', 'L', 'S'],\n",
       " ['S', 'B', 'N', 'L', 'S'],\n",
       " ['S', 'B', 'N', 'S'],\n",
       " ['S', 'L', 'B', 'F', 'N', 'S'],\n",
       " ['S', 'L', 'B', 'N', 'S'],\n",
       " ['S', 'L', 'B', 'S'],\n",
       " ['S', 'L', 'E', 'F', 'B', 'N', 'S'],\n",
       " ['S', 'L', 'E', 'F', 'B', 'S'],\n",
       " ['S', 'L', 'E', 'F', 'N', 'B', 'S'],\n",
       " ['S', 'L', 'E', 'F', 'N', 'S'],\n",
       " ['S', 'L', 'F', 'B', 'N', 'S'],\n",
       " ['S', 'L', 'F', 'B', 'S'],\n",
       " ['S', 'L', 'F', 'N', 'B', 'S'],\n",
       " ['S', 'L', 'F', 'N', 'S'],\n",
       " ['S', 'L', 'N', 'B', 'S'],\n",
       " ['S', 'L', 'N', 'F', 'B', 'S'],\n",
       " ['S', 'L', 'N', 'S'],\n",
       " ['S', 'N', 'B', 'F', 'E', 'L', 'S'],\n",
       " ['S', 'N', 'B', 'F', 'L', 'S'],\n",
       " ['S', 'N', 'B', 'L', 'S'],\n",
       " ['S', 'N', 'B', 'S'],\n",
       " ['S', 'N', 'F', 'B', 'L', 'S'],\n",
       " ['S', 'N', 'F', 'B', 'S'],\n",
       " ['S', 'N', 'F', 'E', 'L', 'B', 'S'],\n",
       " ['S', 'N', 'F', 'E', 'L', 'S'],\n",
       " ['S', 'N', 'F', 'L', 'B', 'S'],\n",
       " ['S', 'N', 'F', 'L', 'S'],\n",
       " ['S', 'N', 'L', 'B', 'S'],\n",
       " ['S', 'N', 'L', 'E', 'F', 'B', 'S'],\n",
       " ['S', 'N', 'L', 'F', 'B', 'S'],\n",
       " ['S', 'N', 'L', 'S']]"
      ]
     },
     "execution_count": 23,
     "metadata": {},
     "output_type": "execute_result"
    }
   ],
   "source": [
    "all_circuits_by_dfs=find_all_circuits_by_dfs(graph1, 'S', 'S')\n",
    "all_circuits_by_dfs"
   ]
  },
  {
   "cell_type": "code",
   "execution_count": 24,
   "metadata": {},
   "outputs": [
    {
     "data": {
      "text/plain": [
       "42"
      ]
     },
     "execution_count": 24,
     "metadata": {},
     "output_type": "execute_result"
    }
   ],
   "source": [
    "len(find_all_circuits_by_dfs(graph1, 'S', 'S'))"
   ]
  },
  {
   "cell_type": "markdown",
   "metadata": {},
   "source": [
    "## 1.2. 너비우선탐색(Breadth First Search)\n",
    "#### 너비우선탐색 알고리즘은 시작노드에서 시작하여 인접노드를 순서대로 탐색하면서,  이  탐색한 노드를  다음 단계 탐색을 위해 큐에 저장합니다.  현 단계의 탐색이 모두 마쳐지면, 현 단계에서 탐색된 노드들을 큐에서 하나씩 꺼내어 인접 노드들을 탐색해 나가는 것입니다. \n",
    "#### 너비우선탐색에 대한 의사코드(pseudo-code)는 아래와 같습니다."
   ]
  },
  {
   "cell_type": "markdown",
   "metadata": {},
   "source": [
    "~~~python\n",
    "BFS(graph G, start vertex s):\n",
    "    // all nodes initially unexplored\n",
    "    mark s as explored\n",
    "    let Q = queue data structure, initialized with s\n",
    "    while Q is non-empty:\n",
    "        remove the first node of Q, call it v\n",
    "        for each edge(v, w):  // for w in graph[v]\n",
    "            if w unexplored:\n",
    "                mark w as explored\n",
    "                add w to Q (at the end)\n",
    "~~~"
   ]
  },
  {
   "cell_type": "markdown",
   "metadata": {},
   "source": [
    "### 다음은 너비우선탐색에 의한 그래프 모든 노드의 탐색(순회) 파이썬 알고리즘 구현입니다. \n"
   ]
  },
  {
   "cell_type": "code",
   "execution_count": 25,
   "metadata": {},
   "outputs": [],
   "source": [
    "def bfs(graph, start): \n",
    "    explored, queue = list(), [start]  #  큐에는 순회될  다음 레벨의 노드들이 순차적으로 저장됨\n",
    "    explored.append(start)\n",
    "    while queue: #탐색할 큐에 노드가 있는 한 계속 수행  \n",
    "        v = queue.pop(0)  # 큐에서  FIFO 순으로 큐의 제일앞에 있는 노드을  뽑음\n",
    "        for w in graph[v]:   #현재 노드 v 의 인접 모드들에 대해 for looping        \n",
    "            if w not in explored:                \n",
    "                explored.append(w) #현 노드가 순회되지 않았으면 현 노드를 순회된 리스트에 등록   \n",
    "                queue.append(w) # 다음 레벨 탐색을 위해  큐에 해당 노드 를 저장함\n",
    "    return explored"
   ]
  },
  {
   "cell_type": "markdown",
   "metadata": {},
   "source": [
    "#### [그림 1]  의 그래프에 대해 너비우선탐색 기반으로 모든 노드를 순회해 봅시다.\n",
    "![Alttext](fig12-3.jpg)\n",
    "#### 여기서, 주의할 것은 너비우선 탐색에서, 시작 노드로 부터 깊이 1의 1차 레벨 노드들은 시작노드들의 인접노드입니다. 이들 시작 노드의  인접 노드들을 모두 순회한 다음,  다음 2번째 레벨인 노드들을 순회하여야 하는 데, 이들은 시작 노드의 인접노드들의 인접노드들입니다. 일단 순회된 노드들은 순회리스트('explored')에 등록해야 합니다. 한편,  2차레벨 노드들을 순회하기 위해 1차 레벨 노드들이 순회될 때 이를 큐에 저장해 놓아야만, 이로부터 순회할 2차 레벨 노드들을 찾아낼 수있습니다. "
   ]
  },
  {
   "cell_type": "code",
   "execution_count": 26,
   "metadata": {},
   "outputs": [
    {
     "data": {
      "text/plain": [
       "['S', 'B', 'L', 'N', 'F', 'E']"
      ]
     },
     "execution_count": 26,
     "metadata": {},
     "output_type": "execute_result"
    }
   ],
   "source": [
    " bfs(graph1, 'S')"
   ]
  },
  {
   "cell_type": "markdown",
   "metadata": {},
   "source": [
    "#### 너비우선 탐색에서 [그림 3(C)]와 같이 순회하는 지를 살펴보기 위해여 앞의 코드를 다음과 같이 악간 변형하여 봅시다. "
   ]
  },
  {
   "cell_type": "code",
   "execution_count": 27,
   "metadata": {},
   "outputs": [],
   "source": [
    "def bfs_check(graph, start): \n",
    "    traversal2=[start]\n",
    "    explored, queue = list(), [start]  #  큐에는 다음 레벨의 노드들이 순차적으로 저장됨    \n",
    "    explored.append(start)\n",
    "    while queue:\n",
    "        v = queue.pop(0)   # 큐에서  FIFO 순으로 큐의 제일 앞에 있는 노드을  뽑음  \n",
    "        print(\"popped node=\", v)\n",
    "        for w in graph[v]: #현재 노드 v 의 인접 모드들에 대해 for looping\n",
    "            traversal2.append(w)          \n",
    "            if w not in explored:                \n",
    "                explored.append(w)#현 노드가 순회되지 않았으면 현 노드를 순회된 리스트에 등록     \n",
    "                queue.append(w) # 다음 레벨 탐색을 위해  큐에 해당 노드 를 저장함\n",
    "                print(\"queue={}, explored={}\".format(queue, explored))\n",
    "            print(\"queue={}, explored={}\".format(queue, explored))     \n",
    "    print(\"\\n\")\n",
    "    print(\"The total traversal nodes=\", traversal2)           \n",
    "    print(\"The Number of the total traversal nodes=\", len(traversal2))           \n",
    "    return explored"
   ]
  },
  {
   "cell_type": "code",
   "execution_count": 28,
   "metadata": {},
   "outputs": [
    {
     "name": "stdout",
     "output_type": "stream",
     "text": [
      "popped node= S\n",
      "queue=['B'], explored=['S', 'B']\n",
      "queue=['B'], explored=['S', 'B']\n",
      "queue=['B', 'L'], explored=['S', 'B', 'L']\n",
      "queue=['B', 'L'], explored=['S', 'B', 'L']\n",
      "queue=['B', 'L', 'N'], explored=['S', 'B', 'L', 'N']\n",
      "queue=['B', 'L', 'N'], explored=['S', 'B', 'L', 'N']\n",
      "popped node= B\n",
      "queue=['L', 'N', 'F'], explored=['S', 'B', 'L', 'N', 'F']\n",
      "queue=['L', 'N', 'F'], explored=['S', 'B', 'L', 'N', 'F']\n",
      "queue=['L', 'N', 'F'], explored=['S', 'B', 'L', 'N', 'F']\n",
      "queue=['L', 'N', 'F'], explored=['S', 'B', 'L', 'N', 'F']\n",
      "queue=['L', 'N', 'F'], explored=['S', 'B', 'L', 'N', 'F']\n",
      "popped node= L\n",
      "queue=['N', 'F'], explored=['S', 'B', 'L', 'N', 'F']\n",
      "queue=['N', 'F', 'E'], explored=['S', 'B', 'L', 'N', 'F', 'E']\n",
      "queue=['N', 'F', 'E'], explored=['S', 'B', 'L', 'N', 'F', 'E']\n",
      "queue=['N', 'F', 'E'], explored=['S', 'B', 'L', 'N', 'F', 'E']\n",
      "queue=['N', 'F', 'E'], explored=['S', 'B', 'L', 'N', 'F', 'E']\n",
      "queue=['N', 'F', 'E'], explored=['S', 'B', 'L', 'N', 'F', 'E']\n",
      "popped node= N\n",
      "queue=['F', 'E'], explored=['S', 'B', 'L', 'N', 'F', 'E']\n",
      "queue=['F', 'E'], explored=['S', 'B', 'L', 'N', 'F', 'E']\n",
      "queue=['F', 'E'], explored=['S', 'B', 'L', 'N', 'F', 'E']\n",
      "queue=['F', 'E'], explored=['S', 'B', 'L', 'N', 'F', 'E']\n",
      "popped node= F\n",
      "queue=['E'], explored=['S', 'B', 'L', 'N', 'F', 'E']\n",
      "queue=['E'], explored=['S', 'B', 'L', 'N', 'F', 'E']\n",
      "queue=['E'], explored=['S', 'B', 'L', 'N', 'F', 'E']\n",
      "queue=['E'], explored=['S', 'B', 'L', 'N', 'F', 'E']\n",
      "popped node= E\n",
      "queue=[], explored=['S', 'B', 'L', 'N', 'F', 'E']\n",
      "queue=[], explored=['S', 'B', 'L', 'N', 'F', 'E']\n",
      "\n",
      "\n",
      "The total traversal nodes= ['S', 'B', 'L', 'N', 'F', 'L', 'N', 'S', 'B', 'E', 'F', 'N', 'S', 'B', 'F', 'L', 'S', 'B', 'E', 'L', 'N', 'F', 'L']\n",
      "The Number of the total traversal nodes= 23\n",
      "\n",
      " explored nodes= ['S', 'B', 'L', 'N', 'F', 'E']\n"
     ]
    }
   ],
   "source": [
    "explored=bfs_check(graph1, 'S')\n",
    "print(\"\\n explored nodes=\", explored)"
   ]
  },
  {
   "cell_type": "markdown",
   "metadata": {},
   "source": [
    "### networkX 패키기를 활용한 너비우선 탐색 "
   ]
  },
  {
   "cell_type": "code",
   "execution_count": 29,
   "metadata": {},
   "outputs": [
    {
     "name": "stdout",
     "output_type": "stream",
     "text": [
      "Nodes of graph: \n",
      "['B', 'E', 'F', 'L', 'N', 'S']\n",
      "Edges of graph: \n",
      "[('B', 'F', {}), ('B', 'L', {}), ('B', 'N', {}), ('B', 'S', {}), ('E', 'F', {}), ('E', 'L', {}), ('F', 'L', {}), ('F', 'N', {}), ('L', 'S', {}), ('L', 'N', {}), ('N', 'S', {})]\n"
     ]
    }
   ],
   "source": [
    "import networkx as nx # networkx 패키지 임포트\n",
    "G1=nx.Graph()\n",
    "Nodes=['B', 'E', 'F', 'L', 'N',  'S' ]\n",
    "G1.add_nodes_from(Nodes)\n",
    "\n",
    "# adding a list of edges:\n",
    "G1.add_edges_from([('B', 'F'), ('B', 'L'), ('B', 'N'), ('B', 'S'),('L', 'S' ), ('E', 'F'), ('E', 'L'), ('F', 'L'), ('L', 'N'), ('N', 'F'), ('N', 'S')])                   \n",
    "print(\"Nodes of graph: \")\n",
    "print(G1.nodes())\n",
    "print(\"Edges of graph: \")\n",
    "print(G1.edges(data=True))"
   ]
  },
  {
   "cell_type": "code",
   "execution_count": 30,
   "metadata": {},
   "outputs": [
    {
     "data": {
      "text/plain": [
       "[('S', 'B'), ('S', 'L'), ('S', 'N'), ('B', 'F'), ('L', 'E')]"
      ]
     },
     "execution_count": 30,
     "metadata": {},
     "output_type": "execute_result"
    }
   ],
   "source": [
    "list(nx.bfs_edges(G1, 'S'))"
   ]
  },
  {
   "cell_type": "markdown",
   "metadata": {},
   "source": [
    "### 너비우선탐색에 의한 단순 경로 찾기\n",
    "#### 너비우선탐색에 의한 단순 회로 찾기는 시작 노드에서 시작한 너비 우선  탐색 결과 과정중에 탐색된 노드가  종단노드이면 종결됩니다.  "
   ]
  },
  {
   "cell_type": "markdown",
   "metadata": {},
   "source": [
    "#### [그림 1]  의 그래프에 대해 너비우선탐색 기반으로 경로 한 개를 탐색해 봅시다."
   ]
  },
  {
   "cell_type": "markdown",
   "metadata": {},
   "source": [
    "(방법 1)"
   ]
  },
  {
   "cell_type": "code",
   "execution_count": 31,
   "metadata": {},
   "outputs": [],
   "source": [
    "import copy\n",
    "def find_path_by_bfs(graph, start, end):     \n",
    "    \n",
    "    if not start in graph:\n",
    "            return None\n",
    "        \n",
    "    path = [start]  # 경로 갱신\n",
    "        \n",
    "    if start == end:\n",
    "        return path #시작노드로부터 종단노드까지의 경로를 찾았으면 해당 경로 리턴\n",
    " \n",
    "    path_queue=[path] # 경로 큐\n",
    " \n",
    "    while True:\n",
    "        path=path_queue.pop(0) #경로 큐에서       \n",
    "        v=path[-1]  # 경로의 마지막 노드 추출\n",
    "        for w in graph[v]:  #경로의 마지막 노드 의 인접노드 들을 조사     \n",
    "            if w not in path: #인접노드가  경로에 없으면\n",
    "                path.append(w) #인접노드를 경로에 추가하여 경로 갱신\n",
    "                if w==end: return path  # 만일 갱신된 경로가 시작노드로부터 종단노드까지의 경로이면, 해당 갱신 경로를 복귀 \n",
    "                else: \n",
    "                    new_path= copy.deepcopy(path) #갱신된 경로를 탐색된 경로로 등록하고\n",
    "                    path_queue.append(new_path)  #이를 경로 큐에 추가                                           \n",
    "                    path.pop() #경로에 새롭게 추가된 인접 노드 제거\n",
    "    return path"
   ]
  },
  {
   "cell_type": "code",
   "execution_count": 32,
   "metadata": {},
   "outputs": [
    {
     "data": {
      "text/plain": [
       "['S', 'B', 'F']"
      ]
     },
     "execution_count": 32,
     "metadata": {},
     "output_type": "execute_result"
    }
   ],
   "source": [
    "find_path_by_bfs(graph1, 'S', 'F')"
   ]
  },
  {
   "cell_type": "markdown",
   "metadata": {},
   "source": [
    "#### [그림 1]  의 그래프에 대해 너비우선탐색 기반으로  시작노드로부터 종단노드까지의 경로 하나를 찾아봅시다.\n",
    "![Alttext](fig12-3_1.png)"
   ]
  },
  {
   "cell_type": "code",
   "execution_count": 33,
   "metadata": {},
   "outputs": [],
   "source": [
    "import copy\n",
    "def find_path_by_bfs_check(graph, start, end):     \n",
    "    \n",
    "    if not start in graph:\n",
    "            return None\n",
    "        \n",
    "    path = [start]  # 경로 갱신\n",
    "        \n",
    "    if start == end:\n",
    "        return path #시작노드로부터 종단노드까지의 경로를 찾았으면 해당 경로 리턴\n",
    " \n",
    "    path_queue=[path] # 경로 큐\n",
    "    print(\"path=\", path)\n",
    "    traversal=['S']\n",
    "    while True:        \n",
    "        path=path_queue.pop(0) #경로 큐에서       \n",
    "        v=path[-1]  # 경로의 마지막 노드 추출\n",
    "        for w in graph[v]:  #경로의 마지막 노드 의 인접노드 들을 조사  \n",
    "            traversal.append(w)\n",
    "            if w not in path: #인접노드가  경로에 없으면\n",
    "                path.append(w) #인접노드를 경로에 추가하여 경로 갱신                \n",
    "                if w==end: \n",
    "                    print(\"path={}, path_queue={}\".format(path, path_queue))\n",
    "                    print(\"Travesal nodes=\", traversal)\n",
    "                    return path  # 만일 갱신된 경로가 시작노드로부터 종단노드까지의 경로이면, 해당 갱신 경로를 복귀 \n",
    "                else: \n",
    "                    new_path= copy.deepcopy(path) #갱신된 경로를 탐색된 경로로 등록하고\n",
    "                    path_queue.append(new_path)  #이를 경로 큐에 추가 \n",
    "                    print(\"new_path={}, path_queue={}\".format(new_path,path_queue))\n",
    "                    path.pop() #경로에 새롭게 추가된 인접 노드 제거\n",
    "    print(\"Travesal nodes=\", traversal)\n",
    "    return path"
   ]
  },
  {
   "cell_type": "code",
   "execution_count": 34,
   "metadata": {},
   "outputs": [
    {
     "name": "stdout",
     "output_type": "stream",
     "text": [
      "path= ['S']\n",
      "new_path=['S', 'B'], path_queue=[['S', 'B']]\n",
      "new_path=['S', 'L'], path_queue=[['S', 'B'], ['S', 'L']]\n",
      "new_path=['S', 'N'], path_queue=[['S', 'B'], ['S', 'L'], ['S', 'N']]\n",
      "path=['S', 'B', 'F'], path_queue=[['S', 'L'], ['S', 'N']]\n",
      "Travesal nodes= ['S', 'B', 'L', 'N', 'F']\n"
     ]
    },
    {
     "data": {
      "text/plain": [
       "['S', 'B', 'F']"
      ]
     },
     "execution_count": 34,
     "metadata": {},
     "output_type": "execute_result"
    }
   ],
   "source": [
    "find_path_by_bfs_check(graph1, 'S', 'F')"
   ]
  },
  {
   "cell_type": "markdown",
   "metadata": {},
   "source": [
    "(방법 2)"
   ]
  },
  {
   "cell_type": "code",
   "execution_count": 35,
   "metadata": {},
   "outputs": [],
   "source": [
    "def find_path_by_bfs2(graph, start, end):     \n",
    "    path_queue = [[start]]\n",
    "    paths = list()\n",
    "    if not start in graph:\n",
    "            return None\n",
    "    if start == end:\n",
    "        return path_queue\n",
    "\n",
    "    while path_queue: #탐색할 path-queue에 path가 있는 한 계속 수행  \n",
    "#        print(\"path_queue=\", path_queue)\n",
    "        v=path_queue.pop(0)\n",
    "        \n",
    "        for w in graph[v[-1]]:\n",
    "            if end == w :\n",
    "                    paths.append(v+[w])\n",
    "#                    print(\"paths=\", paths)\n",
    "                    continue\n",
    "            if w not in v: \n",
    "                path_queue.append(v+[w])\n",
    "    return paths[0] if paths else None"
   ]
  },
  {
   "cell_type": "code",
   "execution_count": 36,
   "metadata": {},
   "outputs": [
    {
     "data": {
      "text/plain": [
       "['S', 'B', 'F']"
      ]
     },
     "execution_count": 36,
     "metadata": {},
     "output_type": "execute_result"
    }
   ],
   "source": [
    "find_path_by_bfs2(graph1, 'S', 'F')"
   ]
  },
  {
   "cell_type": "markdown",
   "metadata": {},
   "source": [
    "### 너비우선탐색에 의한 단순 회로 찾기\n",
    "#### 너비우선탐색에 의한 단순 회로 찾기는 지정노드에서 시작한 너비 우선  탐색 결과 과정중에 탐색된 노드가  지정노드이면 종결됩니다.  "
   ]
  },
  {
   "cell_type": "code",
   "execution_count": 37,
   "metadata": {},
   "outputs": [
    {
     "name": "stdout",
     "output_type": "stream",
     "text": [
      "graph1['S']:['B', 'L', 'N']\n"
     ]
    }
   ],
   "source": [
    "graph1 = {\n",
    "       'B': ['F', 'L', 'N', 'S'],\n",
    "       'E': ['F', 'L'],\n",
    "       'F': ['B', 'E', 'L', 'N'],  \n",
    "       'L': ['B', 'E', 'F', 'N', 'S'],\n",
    "       'N': ['B', 'F', 'L', 'S'],\n",
    "       'S': ['B', 'L', 'N'],}\n",
    "print(\"graph1['S']:{}\".format(graph1['S']))"
   ]
  },
  {
   "cell_type": "code",
   "execution_count": 38,
   "metadata": {},
   "outputs": [],
   "source": [
    "import copy\n",
    "def find_circuit_by_bfs(graph, start, end, path=[]): # start : 시작노드로 처음에는 그래프 지정노드임, end: 그래프에서의 지정 노드\n",
    "    if not start in graph : # (1) 시작노드가  그래프 노드 인지 점검\n",
    "            return None\n",
    "    i=0    \n",
    "    path = path+ [start]\n",
    "    if len(path) > 3 and start == end: #        ('S', 'L', 'S' ) 같은 경우를 배제하기 위해, \"len(circuit) > 3 \" 사용\n",
    "           return path\n",
    "\n",
    "    path_queue=[] # 경로 큐\n",
    "    path_queue.append(path)\n",
    "    \n",
    " \n",
    "    while path_queue:\n",
    "        path=path_queue.pop(0) #경로큐 저장된 선입 경로  추출     \n",
    "        v=path[-1]  # 경로의 마지막 노드 추출   \n",
    "        for w in graph[v]:  #경로의 마지막 노드 의 인접노드 들을 조사                              \n",
    "            if w not in path: #인접노드가  경로에 없으면\n",
    "                path.append(w) #인접노드를 경로에 추가하여 경로 갱신\n",
    "                new_path= copy.deepcopy(path) #갱신된 경로를 탐색된 경로로 등록하고\n",
    "                path_queue.append(new_path)  #이를 경로 큐에 추가     \n",
    "                i+=1\n",
    "                print(\"i={}, path_queue={}\".format(i, path_queue))   \n",
    "                path.pop() #경로에 마지막으로 새롭게 추가된 인접 노드 제거\n",
    "            else:\n",
    "                if w==end:\n",
    "                    path.append(w)\n",
    "                    if len(path)>3:\n",
    "                        return path\n",
    "                \n",
    "    return path"
   ]
  },
  {
   "cell_type": "code",
   "execution_count": 39,
   "metadata": {},
   "outputs": [
    {
     "name": "stdout",
     "output_type": "stream",
     "text": [
      "i=1, path_queue=[['S', 'B']]\n",
      "i=2, path_queue=[['S', 'B'], ['S', 'L']]\n",
      "i=3, path_queue=[['S', 'B'], ['S', 'L'], ['S', 'N']]\n",
      "i=4, path_queue=[['S', 'L'], ['S', 'N'], ['S', 'B', 'F']]\n",
      "i=5, path_queue=[['S', 'L'], ['S', 'N'], ['S', 'B', 'F'], ['S', 'B', 'L']]\n",
      "i=6, path_queue=[['S', 'L'], ['S', 'N'], ['S', 'B', 'F'], ['S', 'B', 'L'], ['S', 'B', 'N']]\n",
      "i=7, path_queue=[['S', 'N'], ['S', 'B', 'F'], ['S', 'B', 'L'], ['S', 'B', 'N'], ['S', 'L', 'B']]\n",
      "i=8, path_queue=[['S', 'N'], ['S', 'B', 'F'], ['S', 'B', 'L'], ['S', 'B', 'N'], ['S', 'L', 'B'], ['S', 'L', 'E']]\n",
      "i=9, path_queue=[['S', 'N'], ['S', 'B', 'F'], ['S', 'B', 'L'], ['S', 'B', 'N'], ['S', 'L', 'B'], ['S', 'L', 'E'], ['S', 'L', 'F']]\n",
      "i=10, path_queue=[['S', 'N'], ['S', 'B', 'F'], ['S', 'B', 'L'], ['S', 'B', 'N'], ['S', 'L', 'B'], ['S', 'L', 'E'], ['S', 'L', 'F'], ['S', 'L', 'N']]\n",
      "i=11, path_queue=[['S', 'B', 'F'], ['S', 'B', 'L'], ['S', 'B', 'N'], ['S', 'L', 'B'], ['S', 'L', 'E'], ['S', 'L', 'F'], ['S', 'L', 'N'], ['S', 'N', 'B']]\n",
      "i=12, path_queue=[['S', 'B', 'F'], ['S', 'B', 'L'], ['S', 'B', 'N'], ['S', 'L', 'B'], ['S', 'L', 'E'], ['S', 'L', 'F'], ['S', 'L', 'N'], ['S', 'N', 'B'], ['S', 'N', 'F']]\n",
      "i=13, path_queue=[['S', 'B', 'F'], ['S', 'B', 'L'], ['S', 'B', 'N'], ['S', 'L', 'B'], ['S', 'L', 'E'], ['S', 'L', 'F'], ['S', 'L', 'N'], ['S', 'N', 'B'], ['S', 'N', 'F'], ['S', 'N', 'L']]\n",
      "i=14, path_queue=[['S', 'B', 'L'], ['S', 'B', 'N'], ['S', 'L', 'B'], ['S', 'L', 'E'], ['S', 'L', 'F'], ['S', 'L', 'N'], ['S', 'N', 'B'], ['S', 'N', 'F'], ['S', 'N', 'L'], ['S', 'B', 'F', 'E']]\n",
      "i=15, path_queue=[['S', 'B', 'L'], ['S', 'B', 'N'], ['S', 'L', 'B'], ['S', 'L', 'E'], ['S', 'L', 'F'], ['S', 'L', 'N'], ['S', 'N', 'B'], ['S', 'N', 'F'], ['S', 'N', 'L'], ['S', 'B', 'F', 'E'], ['S', 'B', 'F', 'L']]\n",
      "i=16, path_queue=[['S', 'B', 'L'], ['S', 'B', 'N'], ['S', 'L', 'B'], ['S', 'L', 'E'], ['S', 'L', 'F'], ['S', 'L', 'N'], ['S', 'N', 'B'], ['S', 'N', 'F'], ['S', 'N', 'L'], ['S', 'B', 'F', 'E'], ['S', 'B', 'F', 'L'], ['S', 'B', 'F', 'N']]\n",
      "i=17, path_queue=[['S', 'B', 'N'], ['S', 'L', 'B'], ['S', 'L', 'E'], ['S', 'L', 'F'], ['S', 'L', 'N'], ['S', 'N', 'B'], ['S', 'N', 'F'], ['S', 'N', 'L'], ['S', 'B', 'F', 'E'], ['S', 'B', 'F', 'L'], ['S', 'B', 'F', 'N'], ['S', 'B', 'L', 'E']]\n",
      "i=18, path_queue=[['S', 'B', 'N'], ['S', 'L', 'B'], ['S', 'L', 'E'], ['S', 'L', 'F'], ['S', 'L', 'N'], ['S', 'N', 'B'], ['S', 'N', 'F'], ['S', 'N', 'L'], ['S', 'B', 'F', 'E'], ['S', 'B', 'F', 'L'], ['S', 'B', 'F', 'N'], ['S', 'B', 'L', 'E'], ['S', 'B', 'L', 'F']]\n",
      "i=19, path_queue=[['S', 'B', 'N'], ['S', 'L', 'B'], ['S', 'L', 'E'], ['S', 'L', 'F'], ['S', 'L', 'N'], ['S', 'N', 'B'], ['S', 'N', 'F'], ['S', 'N', 'L'], ['S', 'B', 'F', 'E'], ['S', 'B', 'F', 'L'], ['S', 'B', 'F', 'N'], ['S', 'B', 'L', 'E'], ['S', 'B', 'L', 'F'], ['S', 'B', 'L', 'N']]\n"
     ]
    },
    {
     "data": {
      "text/plain": [
       "['S', 'B', 'L', 'S']"
      ]
     },
     "execution_count": 39,
     "metadata": {},
     "output_type": "execute_result"
    }
   ],
   "source": [
    "find_circuit_by_bfs(graph1, 'S', 'S')"
   ]
  },
  {
   "cell_type": "markdown",
   "metadata": {},
   "source": [
    "### 너비우선탐색으로 모든 단순 경로 찾기 "
   ]
  },
  {
   "cell_type": "markdown",
   "metadata": {},
   "source": [
    "#### [그림 1]  의 그래프에 대해 너비우선탐색 기반으로 모든 단순 경로를 탐색해 봅시다."
   ]
  },
  {
   "cell_type": "markdown",
   "metadata": {},
   "source": [
    "(방법 1)"
   ]
  },
  {
   "cell_type": "code",
   "execution_count": 40,
   "metadata": {},
   "outputs": [],
   "source": [
    "import copy\n",
    "def find_all_paths_by_bfs(graph, start, end, path=[]):     \n",
    "    \n",
    "    if not start in graph:\n",
    "            return None\n",
    "        \n",
    "    path = path + [start]\n",
    "        \n",
    "    if start == end:\n",
    "        return path\n",
    "    \n",
    "    node_queue=[start]\n",
    "    path_queue=[path]\n",
    "    all_paths=[]\n",
    "\n",
    "    while True:        \n",
    "        if path_queue: path=path_queue.pop(0)\n",
    "        else: return all_paths    \n",
    "        new_path=path        \n",
    "        v=path[-1]       \n",
    "        for w in graph[v]:        \n",
    "            if w not in path: \n",
    "                path.append(w)            \n",
    "                new_path= copy.deepcopy(path)\n",
    "                if w==end: all_paths.append(new_path)\n",
    "                else:                    \n",
    "                    path_queue.append(new_path)                                             \n",
    "                if path: path.pop()\n",
    "    return all_paths"
   ]
  },
  {
   "cell_type": "code",
   "execution_count": 41,
   "metadata": {
    "scrolled": true
   },
   "outputs": [
    {
     "data": {
      "text/plain": [
       "[['S', 'B', 'F'],\n",
       " ['S', 'L', 'F'],\n",
       " ['S', 'N', 'F'],\n",
       " ['S', 'B', 'L', 'F'],\n",
       " ['S', 'B', 'N', 'F'],\n",
       " ['S', 'L', 'B', 'F'],\n",
       " ['S', 'L', 'E', 'F'],\n",
       " ['S', 'L', 'N', 'F'],\n",
       " ['S', 'N', 'B', 'F'],\n",
       " ['S', 'N', 'L', 'F'],\n",
       " ['S', 'B', 'L', 'E', 'F'],\n",
       " ['S', 'B', 'L', 'N', 'F'],\n",
       " ['S', 'B', 'N', 'L', 'F'],\n",
       " ['S', 'L', 'B', 'N', 'F'],\n",
       " ['S', 'L', 'N', 'B', 'F'],\n",
       " ['S', 'N', 'B', 'L', 'F'],\n",
       " ['S', 'N', 'L', 'B', 'F'],\n",
       " ['S', 'N', 'L', 'E', 'F'],\n",
       " ['S', 'B', 'N', 'L', 'E', 'F'],\n",
       " ['S', 'N', 'B', 'L', 'E', 'F']]"
      ]
     },
     "execution_count": 41,
     "metadata": {},
     "output_type": "execute_result"
    }
   ],
   "source": [
    "find_all_paths_by_bfs(graph1, 'S', 'F')"
   ]
  },
  {
   "cell_type": "code",
   "execution_count": 42,
   "metadata": {},
   "outputs": [
    {
     "data": {
      "text/plain": [
       "20"
      ]
     },
     "execution_count": 42,
     "metadata": {},
     "output_type": "execute_result"
    }
   ],
   "source": [
    "len(find_all_paths_by_bfs(graph1, 'S', 'F'))"
   ]
  },
  {
   "cell_type": "markdown",
   "metadata": {},
   "source": [
    "(방법 2)"
   ]
  },
  {
   "cell_type": "code",
   "execution_count": 43,
   "metadata": {},
   "outputs": [],
   "source": [
    "def find_all_paths_by_bfs2(graph, start, end):     \n",
    "    path_queue = [[start]]\n",
    "    paths = list()\n",
    "    if not start in graph:\n",
    "            return None\n",
    "    if start == end:\n",
    "        return path_queue\n",
    "\n",
    "    while path_queue:\n",
    "        v=path_queue.pop(0)\n",
    "        for w in graph[v[-1]]:\n",
    "            if end == w :\n",
    "                    paths.append(v+[w])\n",
    "                    continue\n",
    "            if w not in v: \n",
    "                path_queue.append(v+[w])\n",
    "    return paths if paths else None"
   ]
  },
  {
   "cell_type": "code",
   "execution_count": 44,
   "metadata": {
    "scrolled": false
   },
   "outputs": [
    {
     "data": {
      "text/plain": [
       "[['S', 'B', 'F'],\n",
       " ['S', 'L', 'F'],\n",
       " ['S', 'N', 'F'],\n",
       " ['S', 'B', 'L', 'F'],\n",
       " ['S', 'B', 'N', 'F'],\n",
       " ['S', 'L', 'B', 'F'],\n",
       " ['S', 'L', 'E', 'F'],\n",
       " ['S', 'L', 'N', 'F'],\n",
       " ['S', 'N', 'B', 'F'],\n",
       " ['S', 'N', 'L', 'F'],\n",
       " ['S', 'B', 'L', 'E', 'F'],\n",
       " ['S', 'B', 'L', 'N', 'F'],\n",
       " ['S', 'B', 'N', 'L', 'F'],\n",
       " ['S', 'L', 'B', 'N', 'F'],\n",
       " ['S', 'L', 'N', 'B', 'F'],\n",
       " ['S', 'N', 'B', 'L', 'F'],\n",
       " ['S', 'N', 'L', 'B', 'F'],\n",
       " ['S', 'N', 'L', 'E', 'F'],\n",
       " ['S', 'B', 'N', 'L', 'E', 'F'],\n",
       " ['S', 'N', 'B', 'L', 'E', 'F']]"
      ]
     },
     "execution_count": 44,
     "metadata": {},
     "output_type": "execute_result"
    }
   ],
   "source": [
    "find_all_paths_by_bfs2(graph1, 'S', 'F')"
   ]
  },
  {
   "cell_type": "code",
   "execution_count": 45,
   "metadata": {},
   "outputs": [
    {
     "data": {
      "text/plain": [
       "20"
      ]
     },
     "execution_count": 45,
     "metadata": {},
     "output_type": "execute_result"
    }
   ],
   "source": [
    "len(find_all_paths_by_bfs2(graph1, 'S', 'F'))"
   ]
  },
  {
   "cell_type": "markdown",
   "metadata": {},
   "source": [
    "### 너비우선탐색으로 모든 단순 회로 찾기 "
   ]
  },
  {
   "cell_type": "code",
   "execution_count": 46,
   "metadata": {},
   "outputs": [],
   "source": [
    "import copy\n",
    "def find_all_circuits_by_bfs(graph, start, end, path=[]):     \n",
    "    \n",
    "    if not start in graph : # (1) 시작노드가  그래프 노드 인지 점검\n",
    "            return None\n",
    "        \n",
    "    path = path+ [start]\n",
    "    if len(path) > 3 and start == end: #        ('S', 'L', 'S' ) 같은 경우를 배제하기 위해, \"len(circuit) > 3 \" 사용\n",
    "           return path\n",
    "\n",
    "    path_queue=[] # 경로 큐\n",
    "    path_queue.append(path)\n",
    "    all_circuits=[]\n",
    "    i=0\n",
    "    while True:        \n",
    "        if path_queue: path=path_queue.pop(0)\n",
    "        else: return all_circuits    \n",
    "        new_path=path        \n",
    "        v=path[-1]       \n",
    "        for w in graph[v]:        \n",
    "            if w not in path: \n",
    "                path.append(w)            \n",
    "                new_path= copy.deepcopy(path)\n",
    "                path_queue.append(new_path)  #이를 경로 큐에 추가     \n",
    "                i+=1\n",
    "              #  print(\"i={}, path_queue={}\".format(i, path_queue))   \n",
    "                path.pop() #경로에 마지막으로 새롭게 추가된 인접 노드 제거\n",
    "            else:  \n",
    "                if w==end: \n",
    "                    path.append(w)\n",
    "                    if len(path)>3:\n",
    "                        new_path= copy.deepcopy(path)\n",
    "                        all_circuits.append(new_path)\n",
    "                        path.pop()\n",
    "    return all_circuits"
   ]
  },
  {
   "cell_type": "code",
   "execution_count": 47,
   "metadata": {},
   "outputs": [
    {
     "data": {
      "text/plain": [
       "[['S', 'B', 'L', 'S'],\n",
       " ['S', 'B', 'N', 'S'],\n",
       " ['S', 'L', 'B', 'S'],\n",
       " ['S', 'L', 'N', 'S'],\n",
       " ['S', 'N', 'B', 'S'],\n",
       " ['S', 'N', 'L', 'S'],\n",
       " ['S', 'B', 'F', 'L', 'S'],\n",
       " ['S', 'B', 'F', 'N', 'S'],\n",
       " ['S', 'B', 'L', 'N', 'S'],\n",
       " ['S', 'B', 'N', 'L', 'S'],\n",
       " ['S', 'L', 'B', 'N', 'S'],\n",
       " ['S', 'L', 'F', 'B', 'S'],\n",
       " ['S', 'L', 'F', 'N', 'S'],\n",
       " ['S', 'L', 'N', 'B', 'S'],\n",
       " ['S', 'N', 'B', 'L', 'S'],\n",
       " ['S', 'N', 'F', 'B', 'S'],\n",
       " ['S', 'N', 'F', 'L', 'S'],\n",
       " ['S', 'N', 'L', 'B', 'S'],\n",
       " ['S', 'B', 'F', 'E', 'L', 'S'],\n",
       " ['S', 'B', 'F', 'L', 'N', 'S'],\n",
       " ['S', 'B', 'F', 'N', 'L', 'S'],\n",
       " ['S', 'B', 'L', 'F', 'N', 'S'],\n",
       " ['S', 'B', 'N', 'F', 'L', 'S'],\n",
       " ['S', 'L', 'B', 'F', 'N', 'S'],\n",
       " ['S', 'L', 'E', 'F', 'B', 'S'],\n",
       " ['S', 'L', 'E', 'F', 'N', 'S'],\n",
       " ['S', 'L', 'F', 'B', 'N', 'S'],\n",
       " ['S', 'L', 'F', 'N', 'B', 'S'],\n",
       " ['S', 'L', 'N', 'F', 'B', 'S'],\n",
       " ['S', 'N', 'B', 'F', 'L', 'S'],\n",
       " ['S', 'N', 'F', 'B', 'L', 'S'],\n",
       " ['S', 'N', 'F', 'E', 'L', 'S'],\n",
       " ['S', 'N', 'F', 'L', 'B', 'S'],\n",
       " ['S', 'N', 'L', 'F', 'B', 'S'],\n",
       " ['S', 'B', 'F', 'E', 'L', 'N', 'S'],\n",
       " ['S', 'B', 'L', 'E', 'F', 'N', 'S'],\n",
       " ['S', 'B', 'N', 'F', 'E', 'L', 'S'],\n",
       " ['S', 'L', 'E', 'F', 'B', 'N', 'S'],\n",
       " ['S', 'L', 'E', 'F', 'N', 'B', 'S'],\n",
       " ['S', 'N', 'B', 'F', 'E', 'L', 'S'],\n",
       " ['S', 'N', 'F', 'E', 'L', 'B', 'S'],\n",
       " ['S', 'N', 'L', 'E', 'F', 'B', 'S']]"
      ]
     },
     "execution_count": 47,
     "metadata": {},
     "output_type": "execute_result"
    }
   ],
   "source": [
    "all_circuits_by_bfs=find_all_circuits_by_bfs(graph1, 'S', 'S')\n",
    "all_circuits_by_bfs"
   ]
  },
  {
   "cell_type": "code",
   "execution_count": 48,
   "metadata": {},
   "outputs": [
    {
     "data": {
      "text/plain": [
       "42"
      ]
     },
     "execution_count": 48,
     "metadata": {},
     "output_type": "execute_result"
    }
   ],
   "source": [
    "len(find_all_circuits_by_bfs(graph1, 'S', 'S'))"
   ]
  },
  {
   "cell_type": "markdown",
   "metadata": {},
   "source": [
    "##### 깊이탐색 결과 모든 회로와 너비탐색 모든 회로가 같은 지 여부 점검 "
   ]
  },
  {
   "cell_type": "code",
   "execution_count": 49,
   "metadata": {},
   "outputs": [
    {
     "data": {
      "text/plain": [
       "True"
      ]
     },
     "execution_count": 49,
     "metadata": {},
     "output_type": "execute_result"
    }
   ],
   "source": [
    "SortedList_all_Circuits_by_dfs=sorted(all_circuits_by_dfs)\n",
    "SortedList_all_Circuits_by_bfs=sorted(all_circuits_by_bfs)\n",
    "SortedList_all_Circuits_by_dfs==SortedList_all_Circuits_by_bfs"
   ]
  },
  {
   "cell_type": "markdown",
   "metadata": {},
   "source": [
    "# 2. 오일러 경로(Euler Path) 찾기"
   ]
  },
  {
   "cell_type": "markdown",
   "metadata": {},
   "source": [
    "#### 오일러 경로는 그래프의 모든 에지를 한 번씩만 통과하면서 방문하는 경로로 다음과 같은 절차로 구한다.\n",
    "<ol>\n",
    "    <li>주어진 그래프에서 홀수점의 갯수를 찾는다. 이때, 홀수점이 2개가 아니면 오일러 경로는 없다. 홀수점이 2개인 경우에 2개 중 하나는 시작노드로 다른 하나는 종단노드로 구성한다.</li>\n",
    "<br/><li> 2개의 홀수점중 하나는 시작노드, 다른 하나는 종단노드로 취한 후에, 주어진 그래프에서 시작노드에서 시작하여 종단노드까지의 시백본경로를 찾는다.</li>\n",
    "<br/><li>그래프에서  이 경로 또는 순환경로(circuit)에 있는 에지들을 제거하고 남는 그래프를 구한다.</li>\n",
    "<br/><li>남은 그래프에 대해 시작-종단 백본 경로에 있는 각 노드에 대해 순환 경로(circuit)가 있으면  찾는다. </li>\n",
    "<br/><li>남은 그래프에서 남은 에지가 없어질 때까지  3)과 4)의 과정을 되풀이한다. </li>\n",
    "<br/><li>이때, 오일러 경로는 백본 경로의 시작 노드. 시작노드에서의 순환 경로들, 백본 시작노드에서 백본의 다음 중간 노드까지 경로, 이 백본 중간노드들에서의 순환 경로들,  백본 중간노드에서 백본 다음 중간노드까지의 경로, 이 백본 중간노드에서의 순환경로, ... , 백본 중간노드에서 백본 종단노드까지의 경로,  종단노드에서의 순환 경로들 로 구성된다.  </li>\n",
    "</ol>\n",
    "\n",
    "참고 : [오일러 경로](https://en.wikipedia.org/wiki/Eulerian_path)\n",
    " - 즉, 그래프에서 두 홀수점에 대한 에지를 제거하면 오일러 회로가 만들어지기 때문에 오일러 회로에 대해 찾는 과정 (3, 4, 5)를 수행하고 마지막에 과정 2에서 수행한 경로를 추가하면 오일러 경로가 완성된다. "
   ]
  },
  {
   "cell_type": "markdown",
   "metadata": {},
   "source": [
    "![alt text](Euler_graph_no.png \"Graph\")  \n",
    "\n",
    "#  \n",
    "\n",
    "### 상기 [그림 7]의  그래프를 예제로 오일러 경로 알고리즘을 살펴 보기로 한다.  \n",
    "그래프를 표현하는 방법으로는 다음과 같이 adjacency list를 사용하며,  파이썬에서는 adjacency list를 dictionary 로 표현한 것이 유용하다.  \n",
    " (예 ; [그림 4] 그래프 경우)\n",
    "~~~python\n",
    "graph = {'S': ['B', 'L', 'N'],\n",
    "       'B': ['F', 'L', 'N', 'S'],\n",
    "       'L': ['B', 'E', 'N', 'S'],\n",
    "       'N': ['B', 'F', 'L', 'S'],\n",
    "       'E': ['F', 'L'],\n",
    "       'F': ['B', 'E', 'N'] }.\n",
    "~~~\n",
    " \n",
    "#### 그래프의 에지는 에지를 구성하는 2개의 노드(vertex) 쌍 의 튜플(tuple) 로 표현할 수 있다. \n",
    "즉, 상기 [그림 4]에서 노드 'S' 와 노드 'N' 을 연결하는 에지는 ('S', 'N') 으로 표현한다.  이때, 노드쌍 튜플의 첫번째  노드 'S'들 시작노드 , 두번째 노드 'N' 을 종단 노드로 간주하는 경우에 이 에지를 방향성 에지라 하며, 이를 구분하지 않는 경우를 비방향성 에지라 한다. 방향성 에지에서는 ('S', 'N') 와 ('N', 'S' ) 는 다른 에지이나,  비방향성 에지에서는 둘다 같은 에지이다.\n"
   ]
  },
  {
   "cell_type": "markdown",
   "metadata": {},
   "source": [
    "####  0) 기초 작업 "
   ]
  },
  {
   "cell_type": "code",
   "execution_count": 50,
   "metadata": {},
   "outputs": [],
   "source": [
    "graph = {'S': ['B', 'L', 'N'],\n",
    "         'B': ['F', 'L', 'N', 'S'],\n",
    "         'L': ['B', 'E', 'N', 'S'],\n",
    "         'N': ['B', 'F', 'L', 'S'],\n",
    "         'E': ['F', 'L'],\n",
    "         'F': ['B', 'E', 'N'] }"
   ]
  },
  {
   "cell_type": "markdown",
   "metadata": {},
   "source": [
    "상기 dictionary 형태의 adjacency list  로 기술되는 그래프에서,  모든 비방향성 에지들의 집합을 구하는 파이썬 함수를 코딩하고, 이를 이용하여 [그림 4] 그래프의 모든 비방향성 에지 집합을 구해봅시다. (같은 에지의 경우, 시작 노드의 Alphbet 순서가 앞선 것만을 취합니다. )"
   ]
  },
  {
   "cell_type": "markdown",
   "metadata": {},
   "source": [
    "def Non_direction_edges(graph): #graph: adjacency list\n",
    "    edges=list()\n",
    "    graph_key_sorted_x = sorted(graph.keys())\n",
    "    for key in graph_key_sorted_x:\n",
    "        for value in graph[key]:\n",
    "            if (value, key) not in edges:\n",
    "                edges.append((key,value))\n",
    "    return edges   "
   ]
  },
  {
   "cell_type": "markdown",
   "metadata": {},
   "source": [
    "Non_direction_edges(graph)"
   ]
  },
  {
   "cell_type": "markdown",
   "metadata": {},
   "source": [
    "####  [그림 4]에 대한 그래프를 직접 그리면서 수행하려면 아래 위치 정보 및 그리기 함수를 이용합니다."
   ]
  },
  {
   "cell_type": "code",
   "execution_count": 51,
   "metadata": {},
   "outputs": [],
   "source": [
    "import networkx as nx\n",
    "import matplotlib.pyplot as plt\n",
    "def draw_colored_graph(graph, color = None, pos = None) :\n",
    "    G = nx.Graph()\n",
    "    nodes = graph.keys()\n",
    "    edges = [(src, dst) for src in graph for dst in graph[src] ]\n",
    "    G.add_nodes_from(nodes)\n",
    "    G.add_edges_from(edges)\n",
    "\n",
    "    \n",
    "    plt.figure(figsize=(10, 10))\n",
    "    if not pos : pos=nx.spring_layout(G)\n",
    "    if not color : color = 'cyan'\n",
    "    nx.draw_networkx_nodes(G, pos=pos, node_size=2000, node_color=color)\n",
    "    nx.draw_networkx_edges(G, pos=pos)\n",
    "    nx.draw_networkx_labels(G, pos=pos, font_size=30)\n",
    "    plt.show()"
   ]
  },
  {
   "cell_type": "code",
   "execution_count": 52,
   "metadata": {},
   "outputs": [],
   "source": [
    "B,E,F,L,N,S = 'BEFLNS'\n",
    "pos = {B:(2,2), E:(1,4), F:(2.5, 4), L:(0,2), N:(3, 0), S:(0, 0.5)}\n",
    "graph = {'S': ['B', 'L', 'N'],\n",
    "         'B': ['F', 'L', 'N', 'S'],\n",
    "         'L': ['B', 'E', 'N', 'S'],\n",
    "         'N': ['B', 'F', 'L', 'S'],\n",
    "         'E': ['F', 'L'],\n",
    "         'F': ['B', 'E', 'N'] }"
   ]
  },
  {
   "cell_type": "code",
   "execution_count": 53,
   "metadata": {},
   "outputs": [
    {
     "data": {
      "image/png": "[encoded data removed]",
      "text/plain": [
       "<Figure size 720x720 with 1 Axes>"
      ]
     },
     "metadata": {},
     "output_type": "display_data"
    }
   ],
   "source": [
    "draw_colored_graph(graph, pos=pos)"
   ]
  },
  {
   "cell_type": "markdown",
   "metadata": {},
   "source": [
    "#### 1) 그래프에서 연결 에지가 홀수인 홀수점 노드를 찾는 함수를  구현해봅시다."
   ]
  },
  {
   "cell_type": "code",
   "execution_count": 54,
   "metadata": {},
   "outputs": [],
   "source": [
    "def find_odd_points(graph):\n",
    "    odds=[]\n",
    "    for i in graph:\n",
    "        if len(graph[i])%2 != 0:\n",
    "            odds.append(i)\n",
    "    return odds    "
   ]
  },
  {
   "cell_type": "code",
   "execution_count": 55,
   "metadata": {},
   "outputs": [
    {
     "data": {
      "text/plain": [
       "['S', 'F']"
      ]
     },
     "execution_count": 55,
     "metadata": {},
     "output_type": "execute_result"
    }
   ],
   "source": [
    "find_odd_points(graph)"
   ]
  },
  {
   "cell_type": "markdown",
   "metadata": {},
   "source": [
    "#### 2) 시작점(노드) 및 종단점(노드)을 임의로 정하고 시작노드에서 종단노드까지의 경로, 즉 시작-종단 경로(백본 경로)를 1개만 찾아봅시다. "
   ]
  },
  {
   "cell_type": "code",
   "execution_count": 56,
   "metadata": {},
   "outputs": [
    {
     "name": "stdout",
     "output_type": "stream",
     "text": [
      "odds[0]= S\n",
      "odds[1]= F\n",
      "['S', 'B', 'F']\n"
     ]
    }
   ],
   "source": [
    "odds = find_odd_points(graph)\n",
    "print(\"odds[0]=\", odds[0])\n",
    "print(\"odds[1]=\", odds[1])\n",
    "backbone_path = find_path_by_bfs(graph, odds[0], odds[1])\n",
    "print(backbone_path)"
   ]
  },
  {
   "cell_type": "markdown",
   "metadata": {},
   "source": [
    "#### 3) 그래프에서 위에서 찾은 경로를 제거한 그래프를 만들어 봅시다. "
   ]
  },
  {
   "cell_type": "markdown",
   "metadata": {},
   "source": [
    "#### 다음 [그림 5] 는  [그림 4] 그래프에서 백본 경로 ['S', 'B', 'F'] 가 제거된 그래프입니다.\n",
    "![alt text](./graph_no_backbone.png)"
   ]
  },
  {
   "cell_type": "code",
   "execution_count": 57,
   "metadata": {},
   "outputs": [],
   "source": [
    "def remove_path_from_graph(graph, path):\n",
    "    if len(path) < 2:\n",
    "        return graph\n",
    "    for i in range(len(path)-1):       \n",
    "        if path[i+1] in graph[path[i]]:\n",
    "                graph[path[i]].remove(path[i+1])\n",
    "        if path[i] in graph[path[i+1]]:\n",
    "                graph[path[i+1]].remove(path[i])\n",
    "    return graph "
   ]
  },
  {
   "cell_type": "code",
   "execution_count": 58,
   "metadata": {},
   "outputs": [
    {
     "data": {
      "text/plain": [
       "{'S': ['L', 'N'],\n",
       " 'B': ['L', 'N'],\n",
       " 'L': ['B', 'E', 'N', 'S'],\n",
       " 'N': ['B', 'F', 'L', 'S'],\n",
       " 'E': ['F', 'L'],\n",
       " 'F': ['E', 'N']}"
      ]
     },
     "execution_count": 58,
     "metadata": {},
     "output_type": "execute_result"
    }
   ],
   "source": [
    "graph1=remove_path_from_graph(graph, backbone_path)\n",
    "graph1"
   ]
  },
  {
   "cell_type": "code",
   "execution_count": 59,
   "metadata": {},
   "outputs": [
    {
     "data": {
      "image/png": "[encoded data removed]",
      "text/plain": [
       "<Figure size 720x720 with 1 Axes>"
      ]
     },
     "metadata": {},
     "output_type": "display_data"
    }
   ],
   "source": [
    "draw_colored_graph(graph1, pos=pos)"
   ]
  },
  {
   "cell_type": "markdown",
   "metadata": {},
   "source": [
    "#### 4) 백본 경로 상의 노드에 대해 단순 회로(simple circuit)가 있으면 1개만  찾아 봅시다.\n",
    "(화로란 출발 노드와 종단 노드가 동일한 경로를 말하며, 단순 회로는 내부에 회로가 없는 호로이다.)"
   ]
  },
  {
   "cell_type": "code",
   "execution_count": 60,
   "metadata": {},
   "outputs": [
    {
     "data": {
      "text/plain": [
       "['S', 'L', 'B', 'N', 'S']"
      ]
     },
     "execution_count": 60,
     "metadata": {},
     "output_type": "execute_result"
    }
   ],
   "source": [
    "circuit_s=find_circuit_by_dfs(graph1, 'S', 'S')\n",
    "circuit_s   "
   ]
  },
  {
   "cell_type": "markdown",
   "metadata": {},
   "source": [
    "##### 예를 들어 회로 ['S', 'L', 'B', 'N', 'S'] 는  다음   [그림 6]의 빨간색 회로 부분이다.\n",
    "![Altext](circuit_graph_no_backbone.png)\n"
   ]
  },
  {
   "cell_type": "markdown",
   "metadata": {},
   "source": [
    "#### 5-3') 남은 그래프에서 상기 찾은 순환 경로(circuit)를 그래프에서 제거하여 봅시다.\n",
    "(이전에 만든 함수를 이용합니다.)"
   ]
  },
  {
   "cell_type": "markdown",
   "metadata": {},
   "source": [
    "상기 [그림 6]에서 빨간색 부분을 제거하면 다음과 [그림 7]의 그래프이며, 이 그래프의 표현은 \n",
    "{S': [], 'B': [], 'L': ['E', 'N'], 'N': ['F', 'L'], 'E': ['F', 'L'], 'F': ['E', 'N']}\n",
    "![Altext](./graph_circuit_removed.png) 이고, 이 그래프 표현은 다음과 같이 구한다,  "
   ]
  },
  {
   "cell_type": "code",
   "execution_count": 61,
   "metadata": {},
   "outputs": [
    {
     "name": "stdout",
     "output_type": "stream",
     "text": [
      "{'S': [], 'B': [], 'L': ['E', 'N'], 'N': ['F', 'L'], 'E': ['F', 'L'], 'F': ['E', 'N']}\n"
     ]
    }
   ],
   "source": [
    "graph2=remove_path_from_graph(graph1, circuit_s)\n",
    "print(graph2)"
   ]
  },
  {
   "cell_type": "code",
   "execution_count": 62,
   "metadata": {},
   "outputs": [
    {
     "data": {
      "image/png": "[encoded data removed]",
      "text/plain": [
       "<Figure size 720x720 with 1 Axes>"
      ]
     },
     "metadata": {},
     "output_type": "display_data"
    }
   ],
   "source": [
    "draw_colored_graph(graph2, pos=pos)"
   ]
  },
  {
   "cell_type": "markdown",
   "metadata": {},
   "source": [
    "#### 5-4') 남은 그래프에서 추가적인 순환 경로(circuit)가 있으면 계속 찾습니다."
   ]
  },
  {
   "cell_type": "code",
   "execution_count": 63,
   "metadata": {},
   "outputs": [
    {
     "data": {
      "text/plain": [
       "['F', 'E', 'L', 'N', 'F']"
      ]
     },
     "execution_count": 63,
     "metadata": {},
     "output_type": "execute_result"
    }
   ],
   "source": [
    "circuit_f=find_circuit_by_dfs(graph1, 'F', 'F')\n",
    "circuit_f"
   ]
  },
  {
   "cell_type": "markdown",
   "metadata": {},
   "source": [
    "#### 5-3\") 찾은 순환 경로(circuit)를 남은 그래프에서 제거합니다.\n",
    "(이전에 만든 함수를 이용합니다.)"
   ]
  },
  {
   "cell_type": "code",
   "execution_count": 64,
   "metadata": {},
   "outputs": [
    {
     "name": "stdout",
     "output_type": "stream",
     "text": [
      "{'S': [], 'B': [], 'L': [], 'N': [], 'E': [], 'F': []}\n"
     ]
    }
   ],
   "source": [
    "graph_f=remove_path_from_graph(graph2, circuit_f)\n",
    "print(graph_f)"
   ]
  },
  {
   "cell_type": "markdown",
   "metadata": {},
   "source": [
    "#### 6) 이제, 이상 각 구현된 함수들을 이용하여 오일러 경로 찾기 함수를 구현한 결과는 다음과 같다.¶"
   ]
  },
  {
   "cell_type": "code",
   "execution_count": 65,
   "metadata": {},
   "outputs": [],
   "source": [
    "import copy\n",
    "def find_Euler_path(test_graph):\n",
    "    graph = copy.deepcopy(test_graph)\n",
    "    circuit=[]\n",
    "    add_circuit=[]\n",
    "    path=[]\n",
    "    Euler_path=[]\n",
    "    temp=True\n",
    "    odds=find_odd_points(graph)\n",
    "    print(\"odd nodes of the Graph: {}\".format(odds)) \n",
    "    if len(odds)!= 2:        \n",
    "        print(\"No Euler path Exists\")\n",
    "        return\n",
    "        \n",
    "    Euler_path=find_path_by_bfs(graph, odds[0], odds[1])\n",
    "    print(\"Backbone Path of the Graph: {}\".format(Euler_path)) \n",
    "    \n",
    "    graph=remove_path_from_graph(graph, Euler_path)\n",
    "    \n",
    "    path = Euler_path.copy()\n",
    "    \n",
    "    for i in range(len(path)): #백본 경로의 각 노드에 대해, 순차적으로 각 노드에서 출발하여 해당 노드로 다시 돌아오는 회로를 찾아 추가\n",
    "        while temp==True:\n",
    "            add_circuit=find_circuit_by_dfs(graph, path[i], path[i]) \n",
    "\n",
    "            if add_circuit: # 추가 회로(순환경로)가 발견되면\n",
    "                if len(circuit)>1 and circuit[-1]==add_circuit[0]:\n",
    "                    circuit=circuit[0:-1]+add_circuit #circuit 마지막 원소와 add_circuit 첫원소가 겹치니까, circuit 마지막 전 원소까지와 add_circuit 를 합쳐야함  \n",
    "                    \n",
    "                else:    \n",
    "                    circuit=circuit+add_circuit\n",
    "                graph=remove_path_from_graph(graph, add_circuit)\n",
    "                temp=True\n",
    "            else:\n",
    "                temp=False\n",
    "        if circuit: # 백본 경로의 해당 노드에서의  추가 회로(순환경로)가 더 이상 없으면, 현재까지 찾아낸 해당 노드에서의 회로들의 총합을 오리러 경로 해당 위치에 삽입 \n",
    "            Euler_path[i]=circuit \n",
    "        circuit=[] \n",
    "        temp=True\n",
    "    return Euler_path    "
   ]
  },
  {
   "cell_type": "code",
   "execution_count": 66,
   "metadata": {},
   "outputs": [],
   "source": [
    "fig4_graph = {'S': ['B', 'L', 'N'],\n",
    "       'B': ['F', 'L', 'N' , 'S'],\n",
    "       'L': ['B', 'E',  'N', 'S'],\n",
    "       'N': ['B', 'F', 'L', 'S'],\n",
    "       'E': ['F', 'L'],\n",
    "       'F': ['B', 'E', 'N'] }"
   ]
  },
  {
   "cell_type": "code",
   "execution_count": 67,
   "metadata": {},
   "outputs": [
    {
     "name": "stdout",
     "output_type": "stream",
     "text": [
      "odd nodes of the Graph: ['S', 'F']\n",
      "Backbone Path of the Graph: ['S', 'B', 'F']\n",
      "Euler Path in the Graph: [['S', 'L', 'B', 'N', 'S'], 'B', ['F', 'E', 'L', 'N', 'F']]\n"
     ]
    }
   ],
   "source": [
    "#draw_colored_graph(fig4_graph, pos=pos)\n",
    "Euler_path=find_Euler_path(fig4_graph)\n",
    "print(\"Euler Path in the Graph: {}\".format(Euler_path))"
   ]
  },
  {
   "cell_type": "markdown",
   "metadata": {},
   "source": [
    "#### 상기 결과 출력값은 홀수점 'S'에서 시작하여  'B', 'F' 순으로 백본 경로를 진행할 때, 각 백본 경로의 시작 노드 'S' 에서의 순환 경로 ['S', 'L', 'B', 'N', 'S'], 백본 경로의 중간노드, 'B', 백본 경로의 종단노드 'F'에서의 순환 경로 ['F', 'E', 'L', 'N', 'F'] 로 구성된 오일러 경로를 나타낸다. \n",
    "![Altext](./resulting_Euler_path_.png)"
   ]
  },
  {
   "cell_type": "markdown",
   "metadata": {},
   "source": [
    "<br/><br/><br/><br/>\n",
    "<h1 style='text-align:center;'>실습 문제"
   ]
  },
  {
   "cell_type": "markdown",
   "metadata": {},
   "source": [
    "### 실습 1. \n",
    "#### 너비우선 탐색 방법을 활용하여 주어진 그래프에서 주어진 시작 노드와 종단 노드간의  모든 경로와 그 경로의 길이를 구하는 파이썬 함수를 코딩하여 보고, 이를 [그림 9]에 적용하여 보시오. \n",
    "![Altext](fig12-4.png)\n",
    "#### 주어진 그래프 표현은 인접목록 표현으로 주어진다고 가정함. 즉, [그림 9]의 그래프 의 인접목록  표현은 다음과 같다. \n",
    "~~~python\n",
    "graph_w = {'S': [['B', 175], ['L', 125],['N', 320]],\n",
    "             'B': [['F', 245], ['L', 115], ['N', 145], ['S', 175]],\n",
    "             'L': [['B', 115], ['E', 645],['F', 220],['N', 260],['S', 125]],\n",
    "             'N': [['B', 145], ['F', 385],['L', 260],['S', 320]],\n",
    "             'E': [['F', 450],['L', 645]],\n",
    "             'F': [['B', 245], ['E', 450],['N', 385]]} \n",
    "~~~"
   ]
  },
  {
   "cell_type": "markdown",
   "metadata": {},
   "source": [
    "### 실습 2. \n",
    "#### 너비우선 탐색 방법을 활용하여 주어진 그래프에서 주어진 시작 노드와 종단 노드간의최단 경로를 찾는 파이썬 함수를 코딩하여 보고, 이를 상기 [그림 9]에 적용하여 보시오. "
   ]
  },
  {
   "cell_type": "markdown",
   "metadata": {},
   "source": [
    "### 실습 3.\n",
    "#### 깊이 우선 탐색 방법을 활용하여 주어진 그래프에서 주어진 시작 노드와 종단 노드간의최단 경로를 찾는 파이썬 함수를 코딩하여 보고, 이를 상기  [그림 9]에 적용하여 보시오. "
   ]
  }
 ],
 "metadata": {
  "kernelspec": {
   "display_name": "Python 3.9.12 ('base')",
   "language": "python",
   "name": "python3"
  },
  "language_info": {
   "codemirror_mode": {
    "name": "ipython",
    "version": 3
   },
   "file_extension": ".py",
   "mimetype": "text/x-python",
   "name": "python",
   "nbconvert_exporter": "python",
   "pygments_lexer": "ipython3",
   "version": "3.9.12"
  },
  "vscode": {
   "interpreter": {
    "hash": "d53987ecb595d47b858fb20818fc57333593e153a0e3e1d0f7ed0487b17d3604"
   }
  }
 },
 "nbformat": 4,
 "nbformat_minor": 2
}
