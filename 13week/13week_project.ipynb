{
 "cells": [
  {
   "cell_type": "markdown",
   "metadata": {},
   "source": [
    "###  실습 1: \n",
    "#### 1(a) 상기 M-ary 트리 클래스, \" M_ary_Node\"  클래스로 구성된 M-ary Tree 의 깊이를 구하는 파이썬 코드를 프로그래밍하여 보시오."
   ]
  },
  {
   "cell_type": "code",
   "execution_count": 1,
   "metadata": {},
   "outputs": [],
   "source": [
    "class M_ary_Node:\n",
    "    def __init__(self, data, m=2, distance=0): \n",
    "        self.children=[]\n",
    "        self.m_ary=m \n",
    "        self.value = [data, distance] \n",
    "        \n",
    "    def add_child(self, data, m=2, distance=1):    \n",
    "        queue=[]\n",
    "        queue.append(self)\n",
    "        while queue:\n",
    "            current_exploring_node=queue.pop(0)            \n",
    "            if current_exploring_node.value!=None:    \n",
    "                if len(current_exploring_node.children)< current_exploring_node.m_ary:           \n",
    "                    current_exploring_node.children.append(M_ary_Node(data, m, current_exploring_node.value[1]+ distance))                \n",
    "                    return \n",
    "                else: \n",
    "                    for i in range(current_exploring_node.m_ary):                   \n",
    "                         \n",
    "                        if (len(current_exploring_node.children[i].children)< current_exploring_node.children[i].m_ary):                            \n",
    "                            current_exploring_node.children[i].children.append(M_ary_Node(data, m, current_exploring_node.children[i].value[1]+distance))\n",
    "                            return \n",
    "                        queue.append(current_exploring_node.children[i])                \n",
    "            else:           \n",
    "                current_exploring_node.value = [data, distance]\n",
    "        return \n",
    "    \n",
    "    def remove_child(self, data):\n",
    "        queue=[]        \n",
    "        queue.append(self)\n",
    "        while queue:\n",
    "            test=queue.pop(0)               \n",
    "            for i, node in enumerate(test.children):                \n",
    "                if node.value[0]==data:                     \n",
    "                    test.children.pop(i)\n",
    "                    if test.children==[]:\n",
    "                        del(test) \n",
    "                    return 1\n",
    "                queue.append(node)\n",
    "        return None\n",
    "    \n",
    "    def remove_all(self):   \n",
    "        if self.children==[]:           \n",
    "            return \n",
    "        for node in self.children:           \n",
    "            node.remove_all()\n",
    "            del(node.children)\n",
    "            del(node.m_ary)\n",
    "            del(node.value)\n",
    "            del(node)\n",
    "        self.children=[]   \n",
    "        return\n",
    "    \n",
    "    def PrintTree(self):\n",
    "        if self:\n",
    "            print(self.value)\n",
    "        for i in range(len(self.children)):         \n",
    "            if self.children[i]:                \n",
    "                self.children[i].PrintTree()        \n",
    "        "
   ]
  },
  {
   "cell_type": "code",
   "execution_count": 2,
   "metadata": {},
   "outputs": [],
   "source": [
    "def PrintDepth(root, length=0):\n",
    "    tree_depth = 0\n",
    "    if root:\n",
    "        length += 1\n",
    "        if len(root.children) == 0:\n",
    "            tree_depth = 0 \n",
    "        else: tree_depth = PrintDepth(root.children[0], length)        \n",
    "        for i in range(len(root.children)):\n",
    "            if tree_depth < PrintDepth(root.children[i], length):\n",
    "                    tree_depth = PrintDepth(root.children[i], length)\n",
    "    if tree_depth < length - 1:            \n",
    "        tree_depth = length - 1\n",
    "    return tree_depth  "
   ]
  },
  {
   "cell_type": "markdown",
   "metadata": {},
   "source": [
    "#### 1(b) 상기에서 구한 파이썬 코드를 이용하여 [그림 1]의   3진 트리의 깊이를 확인하시오. \n"
   ]
  },
  {
   "cell_type": "markdown",
   "metadata": {},
   "source": [
    "![Altext](13-fig1.png)"
   ]
  },
  {
   "cell_type": "code",
   "execution_count": 3,
   "metadata": {},
   "outputs": [],
   "source": [
    "M_aryTree = M_ary_Node('a', 3)\n",
    "M_aryTree.add_child('b')\n",
    "M_aryTree.add_child('c', 0)\n",
    "M_aryTree.add_child('d', 3)\n",
    "M_aryTree.add_child('e')\n",
    "M_aryTree.add_child('f', 0)\n",
    "M_aryTree.add_child('g')\n",
    "M_aryTree.add_child('h', 0)\n",
    "M_aryTree.add_child('i', 0)\n",
    "M_aryTree.add_child('j', 0)\n",
    "M_aryTree.add_child('k', 3)\n",
    "M_aryTree.add_child('l', 0)\n",
    "M_aryTree.add_child('m', 2)\n",
    "M_aryTree.add_child('n', 2)\n",
    "M_aryTree.add_child('o', 0)  \n",
    "M_aryTree.add_child('p', 1)\n",
    "M_aryTree.add_child('q', 0)\n",
    "M_aryTree.add_child('r', 0)\n",
    "M_aryTree.add_child('s', 0)\n",
    "M_aryTree.add_child('t', 0)\n",
    "M_aryTree.add_child('u', 0)"
   ]
  },
  {
   "cell_type": "code",
   "execution_count": 4,
   "metadata": {},
   "outputs": [
    {
     "name": "stdout",
     "output_type": "stream",
     "text": [
      "['a', 0]\n",
      "['b', 1]\n",
      "['e', 2]\n",
      "['j', 3]\n",
      "['k', 3]\n",
      "['n', 4]\n",
      "['s', 5]\n",
      "['t', 5]\n",
      "['o', 4]\n",
      "['p', 4]\n",
      "['u', 5]\n",
      "['f', 2]\n",
      "['c', 1]\n",
      "['d', 1]\n",
      "['g', 2]\n",
      "['l', 3]\n",
      "['m', 3]\n",
      "['q', 4]\n",
      "['r', 4]\n",
      "['h', 2]\n",
      "['i', 2]\n"
     ]
    }
   ],
   "source": [
    "M_aryTree.PrintTree()"
   ]
  },
  {
   "cell_type": "code",
   "execution_count": 5,
   "metadata": {},
   "outputs": [
    {
     "data": {
      "text/plain": [
       "5"
      ]
     },
     "execution_count": 5,
     "metadata": {},
     "output_type": "execute_result"
    }
   ],
   "source": [
    "PrintDepth(M_aryTree)"
   ]
  },
  {
   "cell_type": "markdown",
   "metadata": {},
   "source": [
    "#### 1(c) 상기에서 구한 파이썬 코드를 이용하여 [그림 3]  2진 트리의 깊이를 확인하시오. "
   ]
  },
  {
   "cell_type": "code",
   "execution_count": 6,
   "metadata": {},
   "outputs": [],
   "source": [
    "Binary_Search_Tree = M_ary_Node('j', 2)\n",
    "Binary_Search_Tree.add_child('e', 2)\n",
    "Binary_Search_Tree.add_child('l', 2)\n",
    "Binary_Search_Tree.add_child('b', 2)\n",
    "Binary_Search_Tree.add_child('h', 2)\n",
    "Binary_Search_Tree.add_child('k', 0)\n",
    "Binary_Search_Tree.add_child('n', 2)\n",
    "Binary_Search_Tree.add_child('a', 0)\n",
    "Binary_Search_Tree.add_child('d', 1)\n",
    "Binary_Search_Tree.add_child('f', 1)\n",
    "Binary_Search_Tree.add_child('i', 0)\n",
    "Binary_Search_Tree.add_child('m', 0)\n",
    "Binary_Search_Tree.add_child('o', 0)\n",
    "Binary_Search_Tree.add_child('c', 0)\n",
    "Binary_Search_Tree.add_child('g', 0)  "
   ]
  },
  {
   "cell_type": "code",
   "execution_count": 7,
   "metadata": {},
   "outputs": [
    {
     "name": "stdout",
     "output_type": "stream",
     "text": [
      "['j', 0]\n",
      "['e', 1]\n",
      "['b', 2]\n",
      "['a', 3]\n",
      "['d', 3]\n",
      "['c', 4]\n",
      "['h', 2]\n",
      "['f', 3]\n",
      "['g', 4]\n",
      "['i', 3]\n",
      "['l', 1]\n",
      "['k', 2]\n",
      "['n', 2]\n",
      "['m', 3]\n",
      "['o', 3]\n"
     ]
    }
   ],
   "source": [
    "Binary_Search_Tree.PrintTree()"
   ]
  },
  {
   "cell_type": "code",
   "execution_count": 8,
   "metadata": {},
   "outputs": [
    {
     "data": {
      "text/plain": [
       "4"
      ]
     },
     "execution_count": 8,
     "metadata": {},
     "output_type": "execute_result"
    }
   ],
   "source": [
    "PrintDepth(Binary_Search_Tree)"
   ]
  },
  {
   "cell_type": "markdown",
   "metadata": {},
   "source": [
    "###  실습 2: \n",
    "####  다음 [그림 3] 를상기 'M_ary_Node_Traversal' 클래스를 이용하여 생성하고,  preorder, inorder, postorder 로 순회하여 보시오. 그리고, [그림 4] 'Balanced Binary Tree'(Binary Search Tree 아님)  를 상기 'BTree_Node_Traversal' 클래스를 이용하여 생성하고  preorder, inorder, postorder 로 순회하여 보시오."
   ]
  },
  {
   "cell_type": "markdown",
   "metadata": {},
   "source": [
    "![Altext](13-fig34-bst.png)"
   ]
  },
  {
   "cell_type": "code",
   "execution_count": 9,
   "metadata": {},
   "outputs": [],
   "source": [
    "class M_ary_Node_Traversal:\n",
    "    def __init__(self, data, m=2, distance=0): \n",
    "        self.children=[]  \n",
    "        self.m_ary=m \n",
    "        self.value = [data, distance] \n",
    "    \n",
    "    def add_child(self, data, m=2, distance=1):       \n",
    "        queue=[]\n",
    "        queue.append(self)\n",
    "        while queue:\n",
    "            current_exploring_node=queue.pop(0)            \n",
    "            if current_exploring_node.value!=None:    \n",
    "                if len(current_exploring_node.children)< current_exploring_node.m_ary:           \n",
    "                    current_exploring_node.children.append(M_ary_Node(data, m, current_exploring_node.value[1]+ distance))                \n",
    "                    return \n",
    "                else:\n",
    "                    for i in range(current_exploring_node.m_ary):                   \n",
    "                         \n",
    "                        if (len(current_exploring_node.children[i].children)< current_exploring_node.children[i].m_ary):                            \n",
    "                            current_exploring_node.children[i].children.append(M_ary_Node(data, m, current_exploring_node.children[i].value[1]+distance))\n",
    "                            return \n",
    "                        queue.append(current_exploring_node.children[i])                \n",
    "            else:           \n",
    "                current_exploring_node.value = [data, distance]\n",
    "        return \n",
    "    \n",
    "    def remove_child(self, data):\n",
    "        queue=[]        \n",
    "        queue.append(self)\n",
    "        while queue:\n",
    "            test=queue.pop(0)               \n",
    "            for i, node in enumerate(test.children):                \n",
    "                if node.value[0]==data:                     \n",
    "                    test.children.pop(i)\n",
    "                    if test.children==[]:\n",
    "                        del(test) \n",
    "                    return 1\n",
    "                queue.append(node)\n",
    "        return None\n",
    "    \n",
    "    def remove_all(self):     \n",
    "        if self.children==[]:           \n",
    "            return \n",
    "        for node in self.children:           \n",
    "            node.remove_all()\n",
    "            del(node.children)\n",
    "            del(node.m_ary)\n",
    "            del(node.value)\n",
    "            del(node)\n",
    "        self.children=[]    \n",
    "        return\n",
    "    \n",
    "    def PrintTree(self):\n",
    "        if self:\n",
    "            print(self.value)\n",
    "        for i in range(len(self.children)):         \n",
    "            if self.children[i]:                \n",
    "                self.children[i].PrintTree()      \n",
    "    \n",
    "    def PreorderTraversal(self, root):\n",
    "        res = []\n",
    "        if root:\n",
    "            res.append(root.value[0])\n",
    "            for i in range(len(root.children)):\n",
    "                res = res + self.PreorderTraversal(root.children[i])\n",
    "        return res\n",
    "\n",
    "    def PostorderTraversal(self, root):\n",
    "        res = []\n",
    "        if root:\n",
    "            for i in range(len(root.children)):\n",
    "                res = res + self.PostorderTraversal(root.children[i])\n",
    "            res.append(root.value[0])\n",
    "        return res    \n",
    "    \n",
    "    def InorderTraversal(self, root):\n",
    "        res = []\n",
    "        if root:            \n",
    "            if len(root.children)!=0:           \n",
    "                res = res + self.InorderTraversal(root.children[0])\n",
    "            res.append(root.value[0])\n",
    "            for i in range(1, len(root.children)):\n",
    "                res = res + self.InorderTraversal(root.children[i])\n",
    "        return res                    "
   ]
  },
  {
   "cell_type": "code",
   "execution_count": 10,
   "metadata": {},
   "outputs": [],
   "source": [
    "Binary_Search_Tree1= M_ary_Node_Traversal('j', 2)\n",
    "Binary_Search_Tree1.add_child('e', 2)\n",
    "Binary_Search_Tree1.add_child('l', 2)\n",
    "Binary_Search_Tree1.add_child('b', 2)\n",
    "Binary_Search_Tree1.add_child('h', 2)\n",
    "Binary_Search_Tree1.add_child('k', 0)\n",
    "Binary_Search_Tree1.add_child('n', 2)\n",
    "Binary_Search_Tree1.add_child('a', 0)\n",
    "Binary_Search_Tree1.add_child('d', 1)\n",
    "Binary_Search_Tree1.add_child('f', 1)\n",
    "Binary_Search_Tree1.add_child('i', 0)\n",
    "Binary_Search_Tree1.add_child('m', 0)\n",
    "Binary_Search_Tree1.add_child('o', 0)\n",
    "Binary_Search_Tree1.add_child('c', 0)\n",
    "Binary_Search_Tree1.add_child('g', 0)  "
   ]
  },
  {
   "cell_type": "code",
   "execution_count": 11,
   "metadata": {},
   "outputs": [
    {
     "name": "stdout",
     "output_type": "stream",
     "text": [
      "['j', 'e', 'b', 'a', 'd', 'c', 'h', 'f', 'g', 'i', 'l', 'k', 'n', 'm', 'o']\n",
      "['a', 'b', 'c', 'd', 'e', 'g', 'f', 'h', 'i', 'j', 'k', 'l', 'm', 'n', 'o']\n",
      "['a', 'c', 'd', 'b', 'g', 'f', 'i', 'h', 'e', 'k', 'm', 'o', 'n', 'l', 'j']\n"
     ]
    }
   ],
   "source": [
    "print(Binary_Search_Tree1.PreorderTraversal(Binary_Search_Tree1))  # root - Left- Right \n",
    "print(Binary_Search_Tree1.InorderTraversal(Binary_Search_Tree1))   # Left-root-Right \n",
    "print(Binary_Search_Tree1.PostorderTraversal(Binary_Search_Tree1)) # Left - Right - root "
   ]
  },
  {
   "cell_type": "code",
   "execution_count": 12,
   "metadata": {},
   "outputs": [],
   "source": [
    "class BTree_Node_Traversal:\n",
    "    def __init__(self, data):\n",
    "        self.left = None   \n",
    "        self.right = None  \n",
    "        self.data = data  \n",
    "\n",
    "    def insert(self, data):\n",
    "        if self.data:\n",
    "            if data < self.data:\n",
    "                if self.left is None:\n",
    "                    self.left = BTree_Node_Traversal(data)\n",
    "                else:\n",
    "                    self.left.insert(data)\n",
    "            elif data > self.data:\n",
    "                if self.right is None:\n",
    "                    self.right = BTree_Node_Traversal(data)\n",
    "                else:\n",
    "                    self.right.insert(data)\n",
    "        else:\n",
    "            self.data = data\n",
    "    def search(self, data, explored=[]): \n",
    "        explored.append(self.data)       \n",
    "        if data < self.data:\n",
    "            if self.left==None:\n",
    "                return print(\"The tree does not have  the item({})\".format(data))                      \n",
    "            else:\n",
    "                    self.left.search(data, explored)\n",
    "        elif data > self.data:\n",
    "            if self.right == None:\n",
    "                return print(\"The tree does not have  the item({})\".format(data))                      \n",
    "            else:\n",
    "                self.right.search(data, explored)\n",
    "        else:         \n",
    "            return print(explored)\n",
    "    def PrintTree(self):\n",
    "        if self.left:\n",
    "            self.left.PrintTree()\n",
    "        print( self.data),\n",
    "        if self.right:\n",
    "            self.right.PrintTree()\n",
    "    def PreorderTraversal(self, root):\n",
    "        res = []\n",
    "        if root:\n",
    "            res.append(root.data)\n",
    "            res = res + self.PreorderTraversal(root.left)\n",
    "            res = res + self.PreorderTraversal(root.right)\n",
    "        return res\n",
    "\n",
    "    def PostorderTraversal(self, root):\n",
    "        res = []\n",
    "        if root:\n",
    "            res = self.PostorderTraversal(root.left)\n",
    "            res = res + self.PostorderTraversal(root.right)\n",
    "            res.append(root.data)\n",
    "        return res    \n",
    "    def InorderTraversal(self, root):\n",
    "        res = []\n",
    "        if root:\n",
    "            res = self.InorderTraversal(root.left)\n",
    "            res.append(root.data)\n",
    "            res = res + self.InorderTraversal(root.right)\n",
    "        return res    "
   ]
  },
  {
   "cell_type": "code",
   "execution_count": 13,
   "metadata": {},
   "outputs": [],
   "source": [
    "Balanced_Binary_Search_Tree= M_ary_Node_Traversal('h', 2)\n",
    "Balanced_Binary_Search_Tree.add_child('d', 2)\n",
    "Balanced_Binary_Search_Tree.add_child('l', 2)\n",
    "Balanced_Binary_Search_Tree.add_child('b', 2)\n",
    "Balanced_Binary_Search_Tree.add_child('f', 2)\n",
    "Balanced_Binary_Search_Tree.add_child('j', 2)\n",
    "Balanced_Binary_Search_Tree.add_child('n', 2)\n",
    "Balanced_Binary_Search_Tree.add_child('a', 0)\n",
    "Balanced_Binary_Search_Tree.add_child('c', 0)\n",
    "Balanced_Binary_Search_Tree.add_child('e', 0)\n",
    "Balanced_Binary_Search_Tree.add_child('g', 0)\n",
    "Balanced_Binary_Search_Tree.add_child('i', 0)\n",
    "Balanced_Binary_Search_Tree.add_child('k', 0)\n",
    "Balanced_Binary_Search_Tree.add_child('m', 0)\n",
    "Balanced_Binary_Search_Tree.add_child('o', 0)"
   ]
  },
  {
   "cell_type": "code",
   "execution_count": 14,
   "metadata": {},
   "outputs": [
    {
     "name": "stdout",
     "output_type": "stream",
     "text": [
      "['h', 'd', 'b', 'a', 'c', 'f', 'e', 'g', 'l', 'j', 'i', 'k', 'n', 'm', 'o']\n",
      "['a', 'b', 'c', 'd', 'e', 'f', 'g', 'h', 'i', 'j', 'k', 'l', 'm', 'n', 'o']\n",
      "['a', 'c', 'b', 'e', 'g', 'f', 'd', 'i', 'k', 'j', 'm', 'o', 'n', 'l', 'h']\n"
     ]
    }
   ],
   "source": [
    "print(Balanced_Binary_Search_Tree.PreorderTraversal(Balanced_Binary_Search_Tree))  # root - Left- Right \n",
    "print(Balanced_Binary_Search_Tree.InorderTraversal(Balanced_Binary_Search_Tree))   # Left-root-Right \n",
    "print(Balanced_Binary_Search_Tree.PostorderTraversal(Balanced_Binary_Search_Tree)) # Left - Right - root "
   ]
  }
 ],
 "metadata": {
  "kernelspec": {
   "display_name": "Python 3.8.10 64-bit",
   "language": "python",
   "name": "python3"
  },
  "language_info": {
   "codemirror_mode": {
    "name": "ipython",
    "version": 3
   },
   "file_extension": ".py",
   "mimetype": "text/x-python",
   "name": "python",
   "nbconvert_exporter": "python",
   "pygments_lexer": "ipython3",
   "version": "3.8.10"
  },
  "orig_nbformat": 4,
  "vscode": {
   "interpreter": {
    "hash": "916dbcbb3f70747c44a77c7bcd40155683ae19c65e1c03b4aa3499c5328201f1"
   }
  }
 },
 "nbformat": 4,
 "nbformat_minor": 2
}
